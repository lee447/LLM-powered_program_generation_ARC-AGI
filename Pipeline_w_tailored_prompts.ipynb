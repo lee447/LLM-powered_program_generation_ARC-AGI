{
 "cells": [
  {
   "cell_type": "markdown",
   "metadata": {},
   "source": [
    "## Pipeline: LLM-powered program generation for solving ARC-AGI"
   ]
  },
  {
   "cell_type": "markdown",
   "metadata": {},
   "source": [
    "### Imports"
   ]
  },
  {
   "cell_type": "code",
   "execution_count": 33,
   "metadata": {},
   "outputs": [],
   "source": [
    "import numpy as np\n",
    "import ollama\n",
    "import os\n",
    "import json\n",
    "from dotenv import load_dotenv\n",
    "from openai import OpenAI\n",
    "import ast\n",
    "import re\n",
    "import importlib.util\n",
    "import time"
   ]
  },
  {
   "cell_type": "markdown",
   "metadata": {},
   "source": [
    "### Shared Variables"
   ]
  },
  {
   "cell_type": "code",
   "execution_count": 34,
   "metadata": {},
   "outputs": [],
   "source": [
    "# Shared system prompt for all tasks\n",
    "system_prompt = \"\"\"\n",
    "You are a visual reasoning and Python programming expert solving ARC-AGI (Abstraction and Reasoning Corpus - Artificial General Intelligence) tasks.\n",
    "\n",
    "Each integer in the grid represents a color:\n",
    "0 = black, 1 = blue, 2 = red, 3 = green, 4 = yellow,\n",
    "5 = grey, 6 = pink, 7 = orange, 8 = light blue, 9 = brown.\n",
    "\"\"\"\n"
   ]
  },
  {
   "cell_type": "markdown",
   "metadata": {},
   "source": [
    "### Prompts"
   ]
  },
  {
   "cell_type": "markdown",
   "metadata": {},
   "source": [
    "#### Basic Prompt"
   ]
  },
  {
   "cell_type": "code",
   "execution_count": 35,
   "metadata": {},
   "outputs": [],
   "source": [
    "base_prompt = \"\"\"\n",
    "Write a Python function that correctly transforms each input grid into its corresponding output grid based on the given examples.\n",
    "\n",
    "- ONLY return code. No explanations or anything other than code.\n",
    "- The function must be named: `solve(grid: List[List[int]]) -> List[List[int]]`\n",
    "- Use only pure Python — do not import or use libraries like NumPy\n",
    "- Do not include comments, explanations, or print statements\n",
    "- Do not hard-code values or specific grid sizes — the function must generalize based on the patterns in the examples\n",
    "- The function must return a plain 2D list of integers with consistent row lengths (List[List[int]])\n",
    "- Do not return arrays, nested arrays, floats, or 3D structures\n",
    "- Ensure your solution works for all provided input-output pairs\n",
    "\"\"\""
   ]
  },
  {
   "cell_type": "code",
   "execution_count": 36,
   "metadata": {},
   "outputs": [
    {
     "name": "stdout",
     "output_type": "stream",
     "text": [
      "\n",
      "Write a Python function that correctly transforms each input grid into its corresponding output grid based on the given examples.\n",
      "\n",
      "- ONLY return code. No explanations or anything other than code.\n",
      "- The function must be named: `solve(grid: List[List[int]]) -> List[List[int]]`\n",
      "- Use only pure Python — do not import or use libraries like NumPy\n",
      "- Do not include comments, explanations, or print statements\n",
      "- Do not hard-code values or specific grid sizes — the function must generalize based on the patterns in the examples\n",
      "- The function must return a plain 2D list of integers with consistent row lengths (List[List[int]])\n",
      "- Do not return arrays, nested arrays, floats, or 3D structures\n",
      "- Ensure your solution works for all provided input-output pairs\n",
      "\n"
     ]
    }
   ],
   "source": [
    "print(base_prompt)"
   ]
  },
  {
   "cell_type": "markdown",
   "metadata": {},
   "source": [
    "#### Prompt 1"
   ]
  },
  {
   "cell_type": "code",
   "execution_count": 37,
   "metadata": {},
   "outputs": [],
   "source": [
    "prompt_1 = \"\"\"\n",
    "List visual observations from the training pairs.\n",
    "\n",
    "- Use bullet points (max 10).\n",
    "- Focus on colors, shapes, object counts, positions, and fixed elements (e.g., anchors, borders, gray blocks).\n",
    "- Mention groupings or repeated patterns if visible.\n",
    "- Avoid reasoning or explanations.\n",
    "- Be concise. No full sentences, no extra formatting.\n",
    "\"\"\""
   ]
  },
  {
   "cell_type": "code",
   "execution_count": 38,
   "metadata": {},
   "outputs": [
    {
     "name": "stdout",
     "output_type": "stream",
     "text": [
      "\n",
      "List visual observations from the training pairs.\n",
      "\n",
      "- Use bullet points (max 10).\n",
      "- Focus on colors, shapes, object counts, positions, and fixed elements (e.g., anchors, borders, gray blocks).\n",
      "- Mention groupings or repeated patterns if visible.\n",
      "- Avoid reasoning or explanations.\n",
      "- Be concise. No full sentences, no extra formatting.\n",
      "\n"
     ]
    }
   ],
   "source": [
    "print(prompt_1)"
   ]
  },
  {
   "cell_type": "markdown",
   "metadata": {},
   "source": [
    "#### Prompt 2"
   ]
  },
  {
   "cell_type": "code",
   "execution_count": 39,
   "metadata": {},
   "outputs": [],
   "source": [
    "prompt_2 = \"\"\"\n",
    "Describe the transformation(s) from input to output grids.\n",
    "\n",
    "- Use 3 to 5 short sentences.\n",
    "- Focus on what changes: movement, color, shape, duplication, stacking, mirroring, etc.\n",
    "- Mention any use of anchors, fixed positions, or reference structures.\n",
    "- If applicable, describe how objects are grouped, reassigned, or reorganized.\n",
    "- Avoid implementation hints or code.\n",
    "\"\"\""
   ]
  },
  {
   "cell_type": "code",
   "execution_count": 40,
   "metadata": {},
   "outputs": [
    {
     "name": "stdout",
     "output_type": "stream",
     "text": [
      "\n",
      "Describe the transformation(s) from input to output grids.\n",
      "\n",
      "- Use 3 to 5 short sentences.\n",
      "- Focus on what changes: movement, color, shape, duplication, stacking, mirroring, etc.\n",
      "- Mention any use of anchors, fixed positions, or reference structures.\n",
      "- If applicable, describe how objects are grouped, reassigned, or reorganized.\n",
      "- Avoid implementation hints or code.\n",
      "\n"
     ]
    }
   ],
   "source": [
    "print(prompt_2)"
   ]
  },
  {
   "cell_type": "markdown",
   "metadata": {},
   "source": [
    "#### Prompt 3"
   ]
  },
  {
   "cell_type": "code",
   "execution_count": 41,
   "metadata": {},
   "outputs": [],
   "source": [
    "prompt_3 = \"\"\"\n",
    "Reflect on how you would solve the task in Python.\n",
    "\n",
    "- Use 3 to 5 sentences.\n",
    "- Describe the main approach, such as identifying anchors, grouping objects, and applying transformations.\n",
    "- Mention steps like scanning for fixed elements, sorting, or aligning data.\n",
    "- Call out any challenges or unclear rules you would need to test for.\n",
    "- Do not return code or pseudocode.\n",
    "\"\"\""
   ]
  },
  {
   "cell_type": "code",
   "execution_count": 42,
   "metadata": {},
   "outputs": [
    {
     "name": "stdout",
     "output_type": "stream",
     "text": [
      "\n",
      "Reflect on how you would solve the task in Python.\n",
      "\n",
      "- Use 3 to 5 sentences.\n",
      "- Describe the main approach, such as identifying anchors, grouping objects, and applying transformations.\n",
      "- Mention steps like scanning for fixed elements, sorting, or aligning data.\n",
      "- Call out any challenges or unclear rules you would need to test for.\n",
      "- Do not return code or pseudocode.\n",
      "\n"
     ]
    }
   ],
   "source": [
    "print(prompt_3)"
   ]
  },
  {
   "cell_type": "markdown",
   "metadata": {},
   "source": [
    "#### Prompt 4"
   ]
  },
  {
   "cell_type": "code",
   "execution_count": 43,
   "metadata": {},
   "outputs": [],
   "source": [
    "revision_prompt = \"\"\"\n",
    "In the following you'll receive a Python function that attempted to solve the following task. It did'nt succeed and you are tasked with fixing it.\n",
    "\n",
    "- The function must be named: `solve(grid: List[List[int]]) -> List[List[int]]`\n",
    "- Include only the code and necessary imports (e.g., `import numpy as np`)\n",
    "- Do not include comments, explanations, or print statements\n",
    "- Do not hard-code values or specific grid sizes — the function must generalize based on the patterns in the examples\n",
    "- Ensure your solution works for all provided input-output pairs\n",
    "\"\"\""
   ]
  },
  {
   "cell_type": "code",
   "execution_count": 44,
   "metadata": {},
   "outputs": [
    {
     "name": "stdout",
     "output_type": "stream",
     "text": [
      "\n",
      "In the following you'll receive a Python function that attempted to solve the following task. It did'nt succeed and you are tasked with fixing it.\n",
      "\n",
      "- The function must be named: `solve(grid: List[List[int]]) -> List[List[int]]`\n",
      "- Include only the code and necessary imports (e.g., `import numpy as np`)\n",
      "- Do not include comments, explanations, or print statements\n",
      "- Do not hard-code values or specific grid sizes — the function must generalize based on the patterns in the examples\n",
      "- Ensure your solution works for all provided input-output pairs\n",
      "\n"
     ]
    }
   ],
   "source": [
    "print(revision_prompt)"
   ]
  },
  {
   "cell_type": "markdown",
   "metadata": {},
   "source": [
    "### Functions"
   ]
  },
  {
   "cell_type": "markdown",
   "metadata": {},
   "source": [
    "#### Load Tasks"
   ]
  },
  {
   "cell_type": "code",
   "execution_count": 45,
   "metadata": {},
   "outputs": [],
   "source": [
    "def load_tasks(folder):\n",
    "    tasks = []\n",
    "    for filename in sorted(os.listdir(folder)):\n",
    "        if filename.endswith(\".json\"):\n",
    "            with open(os.path.join(folder, filename), \"r\") as f:\n",
    "                data = json.load(f)\n",
    "                tasks.append({\"filename\": filename, \"data\": data})\n",
    "    return tasks"
   ]
  },
  {
   "cell_type": "markdown",
   "metadata": {},
   "source": [
    "#### Load API-Key"
   ]
  },
  {
   "cell_type": "code",
   "execution_count": 46,
   "metadata": {},
   "outputs": [],
   "source": [
    "def load_api_key(file_path=\"key.env\"):\n",
    "    load_dotenv(file_path)\n",
    "    import openai\n",
    "    openai.api_key = os.getenv(\"OPENAI_API_KEY\")\n",
    "    if not openai.api_key:\n",
    "        print(\"No API key found. Please set OPENAI_API_KEY in key.env.\")\n",
    "    global client\n",
    "    client = OpenAI()"
   ]
  },
  {
   "cell_type": "markdown",
   "metadata": {},
   "source": [
    "#### Call GPT"
   ]
  },
  {
   "cell_type": "code",
   "execution_count": 47,
   "metadata": {},
   "outputs": [],
   "source": [
    "import time\n",
    "import openai\n",
    "\n",
    "def call_gpt(prompt, model=\"o4-mini\", retries=3):\n",
    "    for attempt in range(retries):\n",
    "        try:\n",
    "            response = client.chat.completions.create(\n",
    "                model=model,\n",
    "                messages=[\n",
    "                    {\"role\": \"system\", \"content\": system_prompt},\n",
    "                    {\"role\": \"user\", \"content\": prompt}\n",
    "                ],\n",
    "                # Only for GPT-4o\n",
    "                # temperature=0.0\n",
    "            )\n",
    "            return response.choices[0].message.content.strip()\n",
    "        \n",
    "        except openai.RateLimitError as e:\n",
    "            wait_time = 5 + attempt * 5  # exponential backoff\n",
    "            print(f\"Rate limit hit. Waiting {wait_time} seconds before retrying...\")\n",
    "            time.sleep(wait_time)\n",
    "\n",
    "    raise Exception(\"Rate limit retries exhausted.\")"
   ]
  },
  {
   "cell_type": "markdown",
   "metadata": {},
   "source": [
    "#### Encodings"
   ]
  },
  {
   "cell_type": "markdown",
   "metadata": {},
   "source": [
    "1. Non-zero Cords Encoding\n",
    "TODO: Explain"
   ]
  },
  {
   "cell_type": "code",
   "execution_count": 48,
   "metadata": {},
   "outputs": [],
   "source": [
    "def encode_nonzero_coordinates(grid):\n",
    "    coords = []\n",
    "    for i, row in enumerate(grid):\n",
    "        for j, val in enumerate(row):\n",
    "            if val != 0:\n",
    "                coords.append({\"row\": i, \"col\": j, \"val\": val})\n",
    "    return coords\n",
    "\n",
    "def encode_task_nonzero_coords(task):\n",
    "    encoded = {\"train\": [], \"test\": []}\n",
    "\n",
    "    for pair in task[\"train\"]:\n",
    "        encoded[\"train\"].append({\n",
    "            \"input\": encode_nonzero_coordinates(pair[\"input\"]),\n",
    "            \"output\": encode_nonzero_coordinates(pair[\"output\"])\n",
    "        })\n",
    "\n",
    "    for pair in task[\"test\"]:\n",
    "        encoded[\"test\"].append({\n",
    "            \"input\": encode_nonzero_coordinates(pair[\"input\"])\n",
    "        })\n",
    "\n",
    "    return encoded"
   ]
  },
  {
   "cell_type": "markdown",
   "metadata": {},
   "source": [
    "2. Object/Bounding Box Encoding TODO: Explain"
   ]
  },
  {
   "cell_type": "code",
   "execution_count": 49,
   "metadata": {},
   "outputs": [],
   "source": [
    "from collections import deque\n",
    "\n",
    "def extract_objects(grid):\n",
    "    visited = set()\n",
    "    objects = []\n",
    "    rows, cols = len(grid), len(grid[0])\n",
    "\n",
    "    def bfs(r, c, color):\n",
    "        q = deque([(r, c)])\n",
    "        visited.add((r, c))\n",
    "        pixels = [(r, c)]\n",
    "        min_r, min_c = r, c\n",
    "        max_r, max_c = r, c\n",
    "\n",
    "        while q:\n",
    "            cr, cc = q.popleft()\n",
    "            for dr, dc in [(-1,0), (1,0), (0,-1), (0,1)]:\n",
    "                nr, nc = cr + dr, cc + dc\n",
    "                if (\n",
    "                    0 <= nr < rows and\n",
    "                    0 <= nc < cols and\n",
    "                    (nr, nc) not in visited and\n",
    "                    grid[nr][nc] == color\n",
    "                ):\n",
    "                    visited.add((nr, nc))\n",
    "                    q.append((nr, nc))\n",
    "                    pixels.append((nr, nc))\n",
    "                    min_r = min(min_r, nr)\n",
    "                    min_c = min(min_c, nc)\n",
    "                    max_r = max(max_r, nr)\n",
    "                    max_c = max(max_c, nc)\n",
    "\n",
    "        return {\n",
    "            \"color\": color,\n",
    "            \"top_left\": [min_r, min_c],\n",
    "            \"width\": max_c - min_c + 1,\n",
    "            \"height\": max_r - min_r + 1,\n",
    "            \"pixels\": pixels\n",
    "        }\n",
    "\n",
    "    for r in range(rows):\n",
    "        for c in range(cols):\n",
    "            color = grid[r][c]\n",
    "            if color != 0 and (r, c) not in visited:\n",
    "                objects.append(bfs(r, c, color))\n",
    "\n",
    "    return objects\n",
    "\n",
    "def encode_task_objects(task):\n",
    "    encoded = {\"train\": [], \"test\": []}\n",
    "\n",
    "    for pair in task[\"train\"]:\n",
    "        encoded[\"train\"].append({\n",
    "            \"input\": extract_objects(pair[\"input\"]),\n",
    "            \"output\": extract_objects(pair[\"output\"])\n",
    "        })\n",
    "\n",
    "    for pair in task[\"test\"]:\n",
    "        encoded[\"test\"].append({\n",
    "            \"input\": extract_objects(pair[\"input\"])\n",
    "        })\n",
    "\n",
    "    return encoded\n"
   ]
  },
  {
   "cell_type": "markdown",
   "metadata": {},
   "source": [
    "Adds Encodings to the Prompt with Explanation"
   ]
  },
  {
   "cell_type": "code",
   "execution_count": 50,
   "metadata": {},
   "outputs": [],
   "source": [
    "def add_encodings(prompt, encoding_dicts):\n",
    "    encoding_explanations = {\n",
    "        \"nonzero_coords\": \"This encoding lists only the non-zero cells as dictionaries containing their row, column, and value.\",\n",
    "        \"object_bbox\": \"This encoding represents each object in the grid as a group of connected same-colored cells, described by color, bounding box, and coordinates.\",\n",
    "    }\n",
    "\n",
    "    for encoding_name, encoding_data in encoding_dicts.items():\n",
    "        explanation = encoding_explanations.get(encoding_name, \"This encoding represents the input in an alternate form.\")\n",
    "        prompt += f\"\\n\\nEncoding used: {encoding_name}\\nExplanation: {explanation}\\n\\nHere are the demonstration pairs (encoded):\\n\"\n",
    "        for i, pair in enumerate(encoding_data[\"train\"]):\n",
    "            prompt += f\"\\nTrain Input {i+1}: {pair['input']}\\n\"\n",
    "            prompt += f\"Train Output {i+1}: {pair['output']}\\n\"\n",
    "    \n",
    "    return prompt\n"
   ]
  },
  {
   "cell_type": "markdown",
   "metadata": {},
   "source": [
    "#### Building and Combining Prompts"
   ]
  },
  {
   "cell_type": "markdown",
   "metadata": {},
   "source": [
    "Adds the tasks demonstration pairs to the prompt:"
   ]
  },
  {
   "cell_type": "code",
   "execution_count": 51,
   "metadata": {},
   "outputs": [],
   "source": [
    "def add_tasks(prompt, task_data):\n",
    "    full_prompt = prompt.strip() + \"\\n\\nHere are the demonstration pairs (JSON data):\\n\"\n",
    "    for i, pair in enumerate(task_data['train']):\n",
    "        full_prompt += f\"\\nTrain Input {i+1}: {pair['input']}\\n\"\n",
    "        full_prompt += f\"Train Output {i+1}: {pair['output']}\\n\"\n",
    "    return full_prompt"
   ]
  },
  {
   "cell_type": "markdown",
   "metadata": {},
   "source": [
    "Combines secondary prompt 1 and 2:"
   ]
  },
  {
   "cell_type": "code",
   "execution_count": 52,
   "metadata": {},
   "outputs": [],
   "source": [
    "def combine_prompts_1_and_2(prompt_1_response, prompt_2_template):\n",
    "    combined_prompt = f\"\"\"{prompt_2_template.strip()}\n",
    "\n",
    "Here are visual observations of the task at hand, that may assist you in identifying the transformation:\n",
    "\n",
    "{prompt_1_response.strip()}\n",
    "\n",
    "Now provide your transformation analysis based on these observations.\"\"\"\n",
    "    return combined_prompt"
   ]
  },
  {
   "cell_type": "markdown",
   "metadata": {},
   "source": [
    "Combines secondary prompt 1, 2 and 3:"
   ]
  },
  {
   "cell_type": "code",
   "execution_count": 53,
   "metadata": {},
   "outputs": [],
   "source": [
    "def combine_prompts_1_2_and_3(prompt_1_response, prompt_2_response, prompt_3_template):\n",
    "    combined_prompt = f\"\"\"{prompt_3_template.strip()}\n",
    "\n",
    "Here are visual observations of the task that may help inform your implementation:\n",
    "{prompt_1_response.strip()}\n",
    "\n",
    "Here are the transformation rules that have been identified based on the task:\n",
    "{prompt_2_response.strip()}\n",
    "\n",
    "Now reflect on how you would implement a solution to this task in Python, following the instructions above.\n",
    "\"\"\"\n",
    "    return combined_prompt\n"
   ]
  },
  {
   "cell_type": "markdown",
   "metadata": {},
   "source": [
    "Combines secondary prompt 3 with the base prompt"
   ]
  },
  {
   "cell_type": "code",
   "execution_count": 54,
   "metadata": {},
   "outputs": [],
   "source": [
    "def combine_prompts_and_base(prompt_1_response, prompt_2_response, prompt_3_response, prompt_base_template):\n",
    "    combined_prompt = f\"\"\"\n",
    "\n",
    "Here are visual observations of the task that may help inform your implementation:\n",
    "{prompt_1_response.strip()}\n",
    "\n",
    "Here are the transformation rules that have been identified based on the task:\n",
    "{prompt_2_response.strip()}\n",
    "    \n",
    "Here is a reflection on how you might implement a solution to this task in Python:\n",
    "{prompt_3_response.strip()}\n",
    "\n",
    "{prompt_base_template.strip()}\n",
    "\"\"\"\n",
    "    return combined_prompt.strip()"
   ]
  },
  {
   "cell_type": "markdown",
   "metadata": {},
   "source": [
    "Combine responses of the secondary prompt to the base prompt to create task-tailored prompt."
   ]
  },
  {
   "cell_type": "code",
   "execution_count": 55,
   "metadata": {},
   "outputs": [],
   "source": [
    "def build_prompts(task_data):\n",
    "    # Step 1: Generate encodings\n",
    "    # Remove encodings here if you dont want it in the prompt\n",
    "    encoding_dicts = {\n",
    "        \"nonzero_coords\": encode_task_nonzero_coords(task_data),\n",
    "        #\"object_bbox\": encode_task_objects(task_data)\n",
    "    }\n",
    "\n",
    "    # Step 2: Build prompt 1\n",
    "    full_prompt_1 = add_tasks(prompt_1, task_data)\n",
    "    full_prompt_1 = add_encodings(full_prompt_1, encoding_dicts)\n",
    "    response_1 = call_gpt(full_prompt_1)\n",
    "\n",
    "    # Step 3: Prompt 2\n",
    "    combined_prompt_2 = combine_prompts_1_and_2(response_1, prompt_2)\n",
    "    full_prompt_2 = add_tasks(combined_prompt_2, task_data)\n",
    "    full_prompt_2 = add_encodings(full_prompt_2, encoding_dicts)\n",
    "    response_2 = call_gpt(full_prompt_2)\n",
    "\n",
    "    # Step 4: Prompt 3\n",
    "    combined_prompt_3 = combine_prompts_1_2_and_3(response_1, response_2, prompt_3)\n",
    "    full_prompt_3 = add_tasks(combined_prompt_3, task_data)\n",
    "    full_prompt_3 = add_encodings(full_prompt_3, encoding_dicts)\n",
    "    response_3 = call_gpt(full_prompt_3)\n",
    "\n",
    "    # Step 5: Base prompt\n",
    "    combined_prompt_base = combine_prompts_and_base(response_1, response_2, response_3, base_prompt)\n",
    "    tailored_prompt = add_tasks(combined_prompt_base, task_data)\n",
    "    tailored_prompt = add_encodings(tailored_prompt, encoding_dicts)\n",
    "\n",
    "    print(\"Built tailored prompt.\")\n",
    "    \n",
    "    return tailored_prompt\n"
   ]
  },
  {
   "cell_type": "markdown",
   "metadata": {},
   "source": [
    "#### Save Programs"
   ]
  },
  {
   "cell_type": "code",
   "execution_count": 56,
   "metadata": {},
   "outputs": [],
   "source": [
    "def save_program(program_text, task_id, suffix=\"\"):\n",
    "    # Define the base and task-specific folder paths\n",
    "    base_folder = \"Candidate_programs_tailored_prompts\"\n",
    "    task_folder = os.path.join(base_folder, f\"task_{task_id}\")\n",
    "    \n",
    "    # Create the task-specific folder if it doesn't exist\n",
    "    os.makedirs(task_folder, exist_ok=True)\n",
    "\n",
    "    # Remove ```python or ``` if present\n",
    "    cleaned_text = re.sub(r\"^```(?:python)?\\s*|```$\", \"\", program_text.strip(), flags=re.MULTILINE)\n",
    "\n",
    "    # Find the next available version number, excluding suffix for base counting\n",
    "    existing_files = os.listdir(task_folder)\n",
    "    version_numbers = [\n",
    "        int(re.search(r\"solution_v(\\d+)\", fname).group(1))\n",
    "        for fname in existing_files\n",
    "        if re.match(r\"solution_v\\d+\", fname)\n",
    "    ]\n",
    "    next_version = max(version_numbers, default=0) + 1\n",
    "    \n",
    "    # Define the full path to the new Python file with the suffix (if provided)\n",
    "    file_path = os.path.join(task_folder, f\"solution_v{next_version}{suffix}.py\")\n",
    "    \n",
    "    # Save the program text to the file\n",
    "    with open(file_path, \"w\", encoding=\"utf-8\") as f:\n",
    "        f.write(cleaned_text.strip())\n",
    "\n",
    "    print(f\"Saved program for task {task_id} as version {next_version}{suffix}: {file_path}\")\n"
   ]
  },
  {
   "cell_type": "markdown",
   "metadata": {},
   "source": [
    "#### Create Programs"
   ]
  },
  {
   "cell_type": "code",
   "execution_count": 57,
   "metadata": {},
   "outputs": [],
   "source": [
    "def create_programs(tailored_prompt, task_index, amount):\n",
    "    # Create two programs (change range for n programs)\n",
    "    for i in range(amount):  # You can adjust the range to create more programs\n",
    "        response = call_gpt(tailored_prompt)\n",
    "        \n",
    "        # Save the generated program\n",
    "        save_program(response, task_index)"
   ]
  },
  {
   "cell_type": "markdown",
   "metadata": {},
   "source": [
    "#### Evaluate Programs"
   ]
  },
  {
   "cell_type": "code",
   "execution_count": 58,
   "metadata": {},
   "outputs": [],
   "source": [
    "def load_program(file_path):\n",
    "    \"\"\"Load and execute a Python program from a file.\"\"\"\n",
    "    spec = importlib.util.spec_from_file_location(\"program\", file_path)\n",
    "    program = importlib.util.module_from_spec(spec)\n",
    "    spec.loader.exec_module(program)\n",
    "    return program.solve\n"
   ]
  },
  {
   "cell_type": "markdown",
   "metadata": {},
   "source": [
    "Checks if the code is valid:"
   ]
  },
  {
   "cell_type": "code",
   "execution_count": 59,
   "metadata": {},
   "outputs": [],
   "source": [
    "def is_valid_python_code(filepath):\n",
    "    \"\"\"Check if the Python file contains valid syntax.\"\"\"\n",
    "    try:\n",
    "        with open(filepath, \"r\", encoding=\"utf-8\") as f:\n",
    "            source = f.read()\n",
    "        ast.parse(source)\n",
    "        return True\n",
    "    except SyntaxError:\n",
    "        return False\n"
   ]
  },
  {
   "cell_type": "code",
   "execution_count": 60,
   "metadata": {},
   "outputs": [],
   "source": [
    "def evaluate_programs(task_data, task_folder):\n",
    "    \"\"\"Evaluate programs and collect detailed candidate outputs for each demonstration pair.\"\"\"\n",
    "    programs = []\n",
    "    program_files = [f for f in os.listdir(task_folder) if f.endswith(\".py\")]\n",
    "\n",
    "    any_valid = False  # Track whether any valid programs exist\n",
    "\n",
    "    for program_file in program_files:\n",
    "        program_path = os.path.join(task_folder, program_file)\n",
    "\n",
    "        # Check if the program is valid Python code\n",
    "        if not is_valid_python_code(program_path):\n",
    "            print(f\"Deleting invalid file: {program_file}\")\n",
    "            os.remove(program_path)\n",
    "            continue\n",
    "\n",
    "        try:\n",
    "            solve_function = load_program(program_path)\n",
    "        except Exception as e:\n",
    "            print(f\"Error loading program {program_file}: {e}\")\n",
    "            os.remove(program_path)\n",
    "            continue\n",
    "\n",
    "        any_valid = True  # At least one valid program found\n",
    "\n",
    "        details = []\n",
    "        correct_count = 0\n",
    "        total_pairs = len(task_data['train'])\n",
    "\n",
    "        for pair in task_data['train']:\n",
    "            input_grid = pair['input']\n",
    "            expected_output = pair['output']\n",
    "            try:\n",
    "                candidate_output = solve_function(input_grid)\n",
    "                if np.array_equal(np.array(candidate_output), np.array(expected_output)):\n",
    "                    correct_count += 1\n",
    "            except Exception as e:\n",
    "                candidate_output = f\"Error: {e}\"\n",
    "            details.append({\n",
    "                \"input\": input_grid,\n",
    "                \"candidate_output\": candidate_output,\n",
    "                \"expected_output\": expected_output\n",
    "            })\n",
    "\n",
    "        score = correct_count / total_pairs if total_pairs > 0 else 0\n",
    "        programs.append({\n",
    "            \"program_name\": program_file,\n",
    "            \"score\": score,\n",
    "            \"correct_pairs\": correct_count,\n",
    "            \"total_pairs\": total_pairs,\n",
    "            \"details\": details\n",
    "        })\n",
    "\n",
    "    return programs if any_valid else 0"
   ]
  },
  {
   "cell_type": "markdown",
   "metadata": {},
   "source": [
    "#### Creation of Revision Prompt and Revised Programs"
   ]
  },
  {
   "cell_type": "code",
   "execution_count": 61,
   "metadata": {},
   "outputs": [],
   "source": [
    "def revise_candidate_program(candidate_file_path, task_data, task_id):\n",
    "    # Load candidate code text\n",
    "    with open(candidate_file_path, \"r\", encoding=\"utf-8\") as f:\n",
    "        candidate_code_text = f.read()\n",
    "\n",
    "    # Load candidate's solve function\n",
    "    try:\n",
    "        solve_fn = load_program(candidate_file_path)\n",
    "    except Exception as e:\n",
    "        print(f\"Error loading program for revision: {e}\")\n",
    "        return\n",
    "\n",
    "    # Use the externally defined revision_prompt and add the generated code and demonstration pairs details\n",
    "    local_revision_prompt = revision_prompt + \"\\n\\nHere is the generated code:\\n\" + candidate_code_text + \"\\n\\nDemonstration Pairs:\\n\"\n",
    "\n",
    "    for i, pair in enumerate(task_data['train']):\n",
    "        try:\n",
    "            candidate_output = solve_fn(pair['input'])\n",
    "        except Exception as e:\n",
    "            candidate_output = f\"Error: {e}\"\n",
    "        local_revision_prompt += f\"{i+1}. Input: {pair['input']}\\n\"\n",
    "        local_revision_prompt += f\"   Expected Output: {pair['output']}\\n\"\n",
    "        local_revision_prompt += f\"   Generated Output: {candidate_output}\\n\"\n",
    "\n",
    "    local_revision_prompt += \"\\nPlease revise the code.\"\n",
    "\n",
    "    # Send the revision prompt to the LLM\n",
    "    revised_code = call_gpt(local_revision_prompt)\n",
    "\n",
    "    # Determine the revision level (e.g. _rev1, _rev2, ...) based on existing files\n",
    "    task_folder = os.path.join(\"Candidate_programs\", f\"task_{task_id}\")\n",
    "    base_name = os.path.basename(candidate_file_path)\n",
    "    base_version_match = re.search(r\"solution_v(\\d+)\", base_name)\n",
    "    base_version = base_version_match.group(1) if base_version_match else \"1\"\n",
    "\n",
    "    # Count existing revisions for this version\n",
    "    existing_files = os.listdir(task_folder)\n",
    "    revision_count = len([\n",
    "        f for f in existing_files\n",
    "        if re.match(rf\"solution_v{base_version}_rev\\d+\\.py\", f)\n",
    "    ])\n",
    "    suffix = f\"_rev{revision_count + 1}\"\n",
    "\n",
    "    # Save revised program\n",
    "    save_program(revised_code, task_id, suffix=suffix)\n"
   ]
  },
  {
   "cell_type": "markdown",
   "metadata": {},
   "source": [
    "#### Identification of Best Programs"
   ]
  },
  {
   "cell_type": "code",
   "execution_count": 62,
   "metadata": {},
   "outputs": [],
   "source": [
    "def get_best_programs(evaluation_results, task_id, n=2):\n",
    "    \"\"\"\n",
    "    Evaluates programs for a given task and returns the file paths for the top n programs based on demonstration pairs.\n",
    "    Always returns exactly n programs by sorting by score in descending order.\n",
    "    \"\"\"\n",
    "    # Sort programs by score descending; if scores are equal, the original order is preserved.\n",
    "    sorted_programs = sorted(evaluation_results, key=lambda x: x['score'], reverse=True)\n",
    "    task_folder = os.path.join(\"Candidate_programs_tailored_prompts\", f\"task_{task_id}\")\n",
    "    best_program_files = [os.path.join(task_folder, prog['program_name']) for prog in sorted_programs[:n]]\n",
    "    for i in best_program_files:\n",
    "        print(f\"Best program: {i}\")\n",
    "    return best_program_files\n",
    "\n"
   ]
  },
  {
   "cell_type": "markdown",
   "metadata": {},
   "source": [
    "#### Generation of Predictions on Test Inputs"
   ]
  },
  {
   "cell_type": "code",
   "execution_count": 63,
   "metadata": {},
   "outputs": [],
   "source": [
    "def generate_test_predictions(task_data, actual_task_id, best_program_files):\n",
    "    \"\"\"\n",
    "    Loads the two best candidate programs from the specified file paths,\n",
    "    runs each one on every test input, and saves the generated outputs\n",
    "    in the submission file.\n",
    "    \n",
    "    Expects task_data to have a 'test' key with a list of test pairs,\n",
    "    where each pair is a dict containing an \"input\" key.\n",
    "    \n",
    "    Returns a submission dictionary of the form:\n",
    "    { actual_task_id: [ { \"attempt_1\": output_from_program1, \"attempt_2\": output_from_program2 }, ... ] }\n",
    "    \"\"\"\n",
    "    # Load the candidate solvers using the file paths.\n",
    "    best_solvers = [load_program(prog_file) for prog_file in best_program_files]\n",
    "    \n",
    "    predictions = []\n",
    "    # Iterate over each test pair.\n",
    "    for i, pair in enumerate(task_data[\"test\"]):\n",
    "        input_grid = pair[\"input\"]\n",
    "        attempt_predictions = {}\n",
    "        # Run each candidate solver on the test input.\n",
    "        for idx, solver in enumerate(best_solvers, start=1):\n",
    "            try:\n",
    "                output = solver(input_grid)\n",
    "            except Exception as e:\n",
    "                output = f\"Error: {e}\"\n",
    "            attempt_predictions[f\"attempt_{idx}\"] = output\n",
    "        predictions.append(attempt_predictions)\n",
    "    \n",
    "    submission = {str(actual_task_id): predictions}\n",
    "    \n",
    "    return submission\n"
   ]
  },
  {
   "cell_type": "markdown",
   "metadata": {},
   "source": [
    "### Pipeline"
   ]
  },
  {
   "cell_type": "code",
   "execution_count": 64,
   "metadata": {},
   "outputs": [
    {
     "name": "stdout",
     "output_type": "stream",
     "text": [
      "Built tailored prompt.\n",
      "Saved program for task 1 as version 1: Candidate_programs_tailored_prompts\\task_1\\solution_v1.py\n",
      "Saved program for task 1 as version 2: Candidate_programs_tailored_prompts\\task_1\\solution_v2.py\n",
      "Saved program for task 1 as version 3: Candidate_programs_tailored_prompts\\task_1\\solution_v3.py\n",
      "Saved program for task 1 as version 4: Candidate_programs_tailored_prompts\\task_1\\solution_v4.py\n",
      "Saved program for task 1 as version 5: Candidate_programs_tailored_prompts\\task_1\\solution_v5.py\n",
      "Saved program for task 1 as version 6: Candidate_programs_tailored_prompts\\task_1\\solution_v6.py\n",
      "Task 3b4c2228 (1) evaluation results:\n",
      "Program solution_v1.py solved 5 out of 5 pairs. Score: 1.00\n",
      "==================================================\n",
      "Program solution_v2.py solved 5 out of 5 pairs. Score: 1.00\n",
      "==================================================\n",
      "Program solution_v3.py solved 5 out of 5 pairs. Score: 1.00\n",
      "==================================================\n",
      "Program solution_v4.py solved 5 out of 5 pairs. Score: 1.00\n",
      "==================================================\n",
      "Program solution_v5.py solved 5 out of 5 pairs. Score: 1.00\n",
      "==================================================\n",
      "Program solution_v6.py solved 5 out of 5 pairs. Score: 1.00\n",
      "==================================================\n",
      "Best program: Candidate_programs_tailored_prompts\\task_1\\solution_v1.py\n",
      "Best program: Candidate_programs_tailored_prompts\\task_1\\solution_v2.py\n",
      "Built tailored prompt.\n",
      "Saved program for task 2 as version 1: Candidate_programs_tailored_prompts\\task_2\\solution_v1.py\n",
      "Saved program for task 2 as version 2: Candidate_programs_tailored_prompts\\task_2\\solution_v2.py\n",
      "Saved program for task 2 as version 3: Candidate_programs_tailored_prompts\\task_2\\solution_v3.py\n",
      "Saved program for task 2 as version 4: Candidate_programs_tailored_prompts\\task_2\\solution_v4.py\n",
      "Saved program for task 2 as version 5: Candidate_programs_tailored_prompts\\task_2\\solution_v5.py\n",
      "Saved program for task 2 as version 6: Candidate_programs_tailored_prompts\\task_2\\solution_v6.py\n",
      "Task 3ee1011a (2) evaluation results:\n",
      "Program solution_v1.py solved 3 out of 3 pairs. Score: 1.00\n",
      "==================================================\n",
      "Program solution_v2.py solved 3 out of 3 pairs. Score: 1.00\n",
      "==================================================\n",
      "Program solution_v3.py solved 0 out of 3 pairs. Score: 0.00\n",
      "==================================================\n",
      "Program solution_v4.py solved 2 out of 3 pairs. Score: 0.67\n",
      "==================================================\n",
      "Program solution_v5.py solved 3 out of 3 pairs. Score: 1.00\n",
      "==================================================\n",
      "Program solution_v6.py solved 2 out of 3 pairs. Score: 0.67\n",
      "==================================================\n",
      "Best program: Candidate_programs_tailored_prompts\\task_2\\solution_v1.py\n",
      "Best program: Candidate_programs_tailored_prompts\\task_2\\solution_v2.py\n",
      "Built tailored prompt.\n",
      "Saved program for task 3 as version 1: Candidate_programs_tailored_prompts\\task_3\\solution_v1.py\n",
      "Saved program for task 3 as version 2: Candidate_programs_tailored_prompts\\task_3\\solution_v2.py\n",
      "Saved program for task 3 as version 3: Candidate_programs_tailored_prompts\\task_3\\solution_v3.py\n",
      "Saved program for task 3 as version 4: Candidate_programs_tailored_prompts\\task_3\\solution_v4.py\n",
      "Saved program for task 3 as version 5: Candidate_programs_tailored_prompts\\task_3\\solution_v5.py\n",
      "Saved program for task 3 as version 6: Candidate_programs_tailored_prompts\\task_3\\solution_v6.py\n",
      "Task 42918530 (3) evaluation results:\n",
      "Program solution_v1.py solved 0 out of 4 pairs. Score: 0.00\n",
      "==================================================\n",
      "Program solution_v2.py solved 0 out of 4 pairs. Score: 0.00\n",
      "==================================================\n",
      "Program solution_v3.py solved 0 out of 4 pairs. Score: 0.00\n",
      "==================================================\n",
      "Program solution_v4.py solved 0 out of 4 pairs. Score: 0.00\n",
      "==================================================\n",
      "Program solution_v5.py solved 0 out of 4 pairs. Score: 0.00\n",
      "==================================================\n",
      "Program solution_v6.py solved 0 out of 4 pairs. Score: 0.00\n",
      "==================================================\n",
      "Best program: Candidate_programs_tailored_prompts\\task_3\\solution_v1.py\n",
      "Best program: Candidate_programs_tailored_prompts\\task_3\\solution_v2.py\n",
      "Built tailored prompt.\n",
      "Saved program for task 4 as version 1: Candidate_programs_tailored_prompts\\task_4\\solution_v1.py\n",
      "Saved program for task 4 as version 2: Candidate_programs_tailored_prompts\\task_4\\solution_v2.py\n",
      "Saved program for task 4 as version 3: Candidate_programs_tailored_prompts\\task_4\\solution_v3.py\n",
      "Saved program for task 4 as version 4: Candidate_programs_tailored_prompts\\task_4\\solution_v4.py\n",
      "Saved program for task 4 as version 5: Candidate_programs_tailored_prompts\\task_4\\solution_v5.py\n",
      "Saved program for task 4 as version 6: Candidate_programs_tailored_prompts\\task_4\\solution_v6.py\n",
      "Task 4364c1c4 (4) evaluation results:\n",
      "Program solution_v1.py solved 3 out of 3 pairs. Score: 1.00\n",
      "==================================================\n",
      "Program solution_v2.py solved 3 out of 3 pairs. Score: 1.00\n",
      "==================================================\n",
      "Program solution_v3.py solved 3 out of 3 pairs. Score: 1.00\n",
      "==================================================\n",
      "Program solution_v4.py solved 3 out of 3 pairs. Score: 1.00\n",
      "==================================================\n",
      "Program solution_v5.py solved 3 out of 3 pairs. Score: 1.00\n",
      "==================================================\n",
      "Program solution_v6.py solved 3 out of 3 pairs. Score: 1.00\n",
      "==================================================\n",
      "Best program: Candidate_programs_tailored_prompts\\task_4\\solution_v1.py\n",
      "Best program: Candidate_programs_tailored_prompts\\task_4\\solution_v2.py\n",
      "Built tailored prompt.\n",
      "Saved program for task 5 as version 1: Candidate_programs_tailored_prompts\\task_5\\solution_v1.py\n",
      "Saved program for task 5 as version 2: Candidate_programs_tailored_prompts\\task_5\\solution_v2.py\n",
      "Saved program for task 5 as version 3: Candidate_programs_tailored_prompts\\task_5\\solution_v3.py\n",
      "Saved program for task 5 as version 4: Candidate_programs_tailored_prompts\\task_5\\solution_v4.py\n",
      "Saved program for task 5 as version 5: Candidate_programs_tailored_prompts\\task_5\\solution_v5.py\n",
      "Saved program for task 5 as version 6: Candidate_programs_tailored_prompts\\task_5\\solution_v6.py\n",
      "Task 47996f11 (5) evaluation results:\n",
      "Program solution_v1.py solved 0 out of 4 pairs. Score: 0.00\n",
      "==================================================\n",
      "Program solution_v2.py solved 0 out of 4 pairs. Score: 0.00\n",
      "==================================================\n",
      "Program solution_v3.py solved 0 out of 4 pairs. Score: 0.00\n",
      "==================================================\n",
      "Program solution_v4.py solved 0 out of 4 pairs. Score: 0.00\n",
      "==================================================\n",
      "Program solution_v5.py solved 0 out of 4 pairs. Score: 0.00\n",
      "==================================================\n",
      "Program solution_v6.py solved 0 out of 4 pairs. Score: 0.00\n",
      "==================================================\n",
      "Best program: Candidate_programs_tailored_prompts\\task_5\\solution_v1.py\n",
      "Best program: Candidate_programs_tailored_prompts\\task_5\\solution_v2.py\n",
      "Built tailored prompt.\n",
      "Saved program for task 6 as version 1: Candidate_programs_tailored_prompts\\task_6\\solution_v1.py\n",
      "Saved program for task 6 as version 2: Candidate_programs_tailored_prompts\\task_6\\solution_v2.py\n",
      "Saved program for task 6 as version 3: Candidate_programs_tailored_prompts\\task_6\\solution_v3.py\n",
      "Saved program for task 6 as version 4: Candidate_programs_tailored_prompts\\task_6\\solution_v4.py\n",
      "Saved program for task 6 as version 5: Candidate_programs_tailored_prompts\\task_6\\solution_v5.py\n",
      "Saved program for task 6 as version 6: Candidate_programs_tailored_prompts\\task_6\\solution_v6.py\n",
      "Task 48f8583b (6) evaluation results:\n",
      "Program solution_v1.py solved 3 out of 6 pairs. Score: 0.50\n",
      "==================================================\n",
      "Program solution_v2.py solved 5 out of 6 pairs. Score: 0.83\n",
      "==================================================\n",
      "Program solution_v3.py solved 6 out of 6 pairs. Score: 1.00\n",
      "==================================================\n",
      "Program solution_v4.py solved 6 out of 6 pairs. Score: 1.00\n",
      "==================================================\n",
      "Program solution_v5.py solved 6 out of 6 pairs. Score: 1.00\n",
      "==================================================\n",
      "Program solution_v6.py solved 0 out of 6 pairs. Score: 0.00\n",
      "==================================================\n",
      "Best program: Candidate_programs_tailored_prompts\\task_6\\solution_v3.py\n",
      "Best program: Candidate_programs_tailored_prompts\\task_6\\solution_v4.py\n",
      "Built tailored prompt.\n",
      "Saved program for task 7 as version 1: Candidate_programs_tailored_prompts\\task_7\\solution_v1.py\n",
      "Saved program for task 7 as version 2: Candidate_programs_tailored_prompts\\task_7\\solution_v2.py\n",
      "Saved program for task 7 as version 3: Candidate_programs_tailored_prompts\\task_7\\solution_v3.py\n",
      "Saved program for task 7 as version 4: Candidate_programs_tailored_prompts\\task_7\\solution_v4.py\n",
      "Saved program for task 7 as version 5: Candidate_programs_tailored_prompts\\task_7\\solution_v5.py\n",
      "Saved program for task 7 as version 6: Candidate_programs_tailored_prompts\\task_7\\solution_v6.py\n",
      "Task 4acc7107 (7) evaluation results:\n",
      "Program solution_v1.py solved 3 out of 4 pairs. Score: 0.75\n",
      "==================================================\n",
      "Program solution_v2.py solved 0 out of 4 pairs. Score: 0.00\n",
      "==================================================\n",
      "Program solution_v3.py solved 2 out of 4 pairs. Score: 0.50\n",
      "==================================================\n",
      "Program solution_v4.py solved 0 out of 4 pairs. Score: 0.00\n",
      "==================================================\n",
      "Program solution_v5.py solved 0 out of 4 pairs. Score: 0.00\n",
      "==================================================\n",
      "Program solution_v6.py solved 0 out of 4 pairs. Score: 0.00\n",
      "==================================================\n",
      "Best program: Candidate_programs_tailored_prompts\\task_7\\solution_v1.py\n",
      "Best program: Candidate_programs_tailored_prompts\\task_7\\solution_v3.py\n",
      "Built tailored prompt.\n",
      "Saved program for task 8 as version 1: Candidate_programs_tailored_prompts\\task_8\\solution_v1.py\n",
      "Saved program for task 8 as version 2: Candidate_programs_tailored_prompts\\task_8\\solution_v2.py\n",
      "Saved program for task 8 as version 3: Candidate_programs_tailored_prompts\\task_8\\solution_v3.py\n",
      "Saved program for task 8 as version 4: Candidate_programs_tailored_prompts\\task_8\\solution_v4.py\n",
      "Saved program for task 8 as version 5: Candidate_programs_tailored_prompts\\task_8\\solution_v5.py\n",
      "Saved program for task 8 as version 6: Candidate_programs_tailored_prompts\\task_8\\solution_v6.py\n",
      "Task 4e45f183 (8) evaluation results:\n",
      "Program solution_v1.py solved 0 out of 3 pairs. Score: 0.00\n",
      "==================================================\n",
      "Program solution_v2.py solved 0 out of 3 pairs. Score: 0.00\n",
      "==================================================\n",
      "Program solution_v3.py solved 0 out of 3 pairs. Score: 0.00\n",
      "==================================================\n",
      "Program solution_v4.py solved 0 out of 3 pairs. Score: 0.00\n",
      "==================================================\n",
      "Program solution_v5.py solved 0 out of 3 pairs. Score: 0.00\n",
      "==================================================\n",
      "Program solution_v6.py solved 0 out of 3 pairs. Score: 0.00\n",
      "==================================================\n",
      "Best program: Candidate_programs_tailored_prompts\\task_8\\solution_v1.py\n",
      "Best program: Candidate_programs_tailored_prompts\\task_8\\solution_v2.py\n",
      "Built tailored prompt.\n",
      "Saved program for task 9 as version 1: Candidate_programs_tailored_prompts\\task_9\\solution_v1.py\n",
      "Saved program for task 9 as version 2: Candidate_programs_tailored_prompts\\task_9\\solution_v2.py\n",
      "Saved program for task 9 as version 3: Candidate_programs_tailored_prompts\\task_9\\solution_v3.py\n",
      "Saved program for task 9 as version 4: Candidate_programs_tailored_prompts\\task_9\\solution_v4.py\n",
      "Saved program for task 9 as version 5: Candidate_programs_tailored_prompts\\task_9\\solution_v5.py\n",
      "Saved program for task 9 as version 6: Candidate_programs_tailored_prompts\\task_9\\solution_v6.py\n",
      "Deleting invalid file: solution_v4.py\n",
      "Task 4e469f39 (9) evaluation results:\n",
      "Program solution_v1.py solved 0 out of 3 pairs. Score: 0.00\n",
      "==================================================\n",
      "Program solution_v2.py solved 0 out of 3 pairs. Score: 0.00\n",
      "==================================================\n",
      "Program solution_v3.py solved 0 out of 3 pairs. Score: 0.00\n",
      "==================================================\n",
      "Program solution_v5.py solved 0 out of 3 pairs. Score: 0.00\n",
      "==================================================\n",
      "Program solution_v6.py solved 0 out of 3 pairs. Score: 0.00\n",
      "==================================================\n",
      "Best program: Candidate_programs_tailored_prompts\\task_9\\solution_v1.py\n",
      "Best program: Candidate_programs_tailored_prompts\\task_9\\solution_v2.py\n",
      "Built tailored prompt.\n",
      "Saved program for task 10 as version 1: Candidate_programs_tailored_prompts\\task_10\\solution_v1.py\n",
      "Saved program for task 10 as version 2: Candidate_programs_tailored_prompts\\task_10\\solution_v2.py\n",
      "Saved program for task 10 as version 3: Candidate_programs_tailored_prompts\\task_10\\solution_v3.py\n",
      "Saved program for task 10 as version 4: Candidate_programs_tailored_prompts\\task_10\\solution_v4.py\n",
      "Saved program for task 10 as version 5: Candidate_programs_tailored_prompts\\task_10\\solution_v5.py\n",
      "Saved program for task 10 as version 6: Candidate_programs_tailored_prompts\\task_10\\solution_v6.py\n",
      "Deleting invalid file: solution_v1.py\n",
      "Task 50f325b5 (10) evaluation results:\n",
      "Program solution_v2.py solved 0 out of 4 pairs. Score: 0.00\n",
      "==================================================\n",
      "Program solution_v3.py solved 0 out of 4 pairs. Score: 0.00\n",
      "==================================================\n",
      "Program solution_v4.py solved 0 out of 4 pairs. Score: 0.00\n",
      "==================================================\n",
      "Program solution_v5.py solved 0 out of 4 pairs. Score: 0.00\n",
      "==================================================\n",
      "Program solution_v6.py solved 0 out of 4 pairs. Score: 0.00\n",
      "==================================================\n",
      "Best program: Candidate_programs_tailored_prompts\\task_10\\solution_v2.py\n",
      "Best program: Candidate_programs_tailored_prompts\\task_10\\solution_v3.py\n"
     ]
    }
   ],
   "source": [
    "# Load tasks and API key\n",
    "tasks = load_tasks(\"evaluation_set\")\n",
    "load_api_key()\n",
    "\n",
    "# Stores predictions for all tasks\n",
    "final_submission = {} \n",
    "\n",
    "# Loop through each task (adjustable range)\n",
    "for i, task in enumerate(tasks[20:30]):\n",
    "    actual_task_id = task[\"filename\"].split(\".\")[0]\n",
    "    \n",
    "    ### PROMPT CREATION ###\n",
    "    tailored_prompt = build_prompts(task['data'])\n",
    "    create_programs(tailored_prompt, i+1, amount=6) # Adjust the number of programs to create\n",
    "    \n",
    "    ### INITIAL EVALUATION ###\n",
    "    task_folder = os.path.join(\"Candidate_programs_tailored_prompts\", f\"task_{i+1}\")\n",
    "    evaluation_results = evaluate_programs(task['data'], task_folder)\n",
    "    \n",
    "    while evaluation_results == 0:\n",
    "        create_programs(tailored_prompt, i+1, amount=2)\n",
    "        evaluation_results = evaluate_programs(task['data'], task_folder)\n",
    "\n",
    "\n",
    "\n",
    "    ### FINAL EVALUATION ###\n",
    "    evaluation_results_3 = evaluate_programs(task['data'], task_folder)\n",
    "    print(f\"Task {actual_task_id} ({i+1}) evaluation results:\")\n",
    "    for result in evaluation_results_3:\n",
    "        print(f\"Program {result['program_name']} solved {result['correct_pairs']} out of {result['total_pairs']} pairs. Score: {result['score']:.2f}\")\n",
    "        print(\"=\"*50)\n",
    "\n",
    "    ### PROGRAM SELECTION + PREDICTIONS ###\n",
    "    best_program_files = get_best_programs(evaluation_results_3, i+1, n=2)\n",
    "    submission = generate_test_predictions(task['data'], actual_task_id, best_program_files)\n",
    "    final_submission.update(submission)\n",
    "\n",
    "# Final output file\n",
    "with open(\"submission.json\", \"w\") as f:\n",
    "    json.dump(final_submission, f)\n"
   ]
  },
  {
   "cell_type": "markdown",
   "metadata": {},
   "source": [
    "### Get Accuracy (for personal use if test outputs are present)"
   ]
  },
  {
   "cell_type": "markdown",
   "metadata": {},
   "source": [
    "Compares the submission.json file with the actual correct test outputs of a task and returns the accuracy.\n",
    "\n",
    "TODO: Add task categories and additionally show accuracies per category."
   ]
  },
  {
   "cell_type": "code",
   "execution_count": 65,
   "metadata": {},
   "outputs": [],
   "source": [
    "def are_equal(a, b):\n",
    "    return json.dumps(a) == json.dumps(b)\n",
    "\n",
    "def compute_accuracy(submission_path, tasks_dict):\n",
    "    with open(submission_path, 'r') as f:\n",
    "        submission = json.load(f)\n",
    "\n",
    "    total_tasks = len(submission)\n",
    "    correct_tasks = 0\n",
    "\n",
    "    for task_id, prediction_list in submission.items():\n",
    "        task_data = tasks_dict[task_id]\n",
    "        test_outputs = [test['output'] for test in task_data['test']]\n",
    "\n",
    "        all_test_cases_correct = True\n",
    "\n",
    "        for idx, expected_output in enumerate(test_outputs):\n",
    "            attempts = prediction_list[idx]  # get dict with attempt_1 and attempt_2 for this test input\n",
    "            pred1 = attempts[\"attempt_1\"]\n",
    "            pred2 = attempts[\"attempt_2\"]\n",
    "\n",
    "            if not (are_equal(pred1, expected_output) or are_equal(pred2, expected_output)):\n",
    "                all_test_cases_correct = False\n",
    "                break\n",
    "\n",
    "        if all_test_cases_correct:\n",
    "            correct_tasks += 1\n",
    "\n",
    "    accuracy = correct_tasks / total_tasks\n",
    "    return accuracy"
   ]
  },
  {
   "cell_type": "code",
   "execution_count": 66,
   "metadata": {},
   "outputs": [
    {
     "name": "stdout",
     "output_type": "stream",
     "text": [
      "Accuracy: 40.00%\n"
     ]
    }
   ],
   "source": [
    "with open(\"submission.json\") as f:\n",
    "    submission = json.load(f)\n",
    "\n",
    "tasks_dict = {task[\"filename\"].split(\".\")[0]: task[\"data\"] for task in tasks}\n",
    "\n",
    "accuracy = compute_accuracy(\"submission.json\", tasks_dict)\n",
    "print(f\"Accuracy: {accuracy:.2%}\")"
   ]
  },
  {
   "cell_type": "code",
   "execution_count": 67,
   "metadata": {},
   "outputs": [
    {
     "name": "stdout",
     "output_type": "stream",
     "text": [
      "Here are visual observations of the task that may help inform your implementation:\n",
      "- uniform black (0) background  \n",
      "- scattered red (2) pixels, often in horizontal runs of three  \n",
      "- outputs introduce light‑blue (8) in exact 3‑pixel horizontal clusters  \n",
      "- each puzzle’s 3‑pixel cluster replaces one red run, other reds unchanged  \n",
      "- orange (7), green (3), yellow (4) pixels static in both input and output  \n",
      "- cluster rows vary by puzzle (mid in p1, upper in p2, lower in p3, upper in p4)  \n",
      "- no vertical or diagonal 8 clusters, only horizontal length‑3  \n",
      "- only color 8 added; no removals or shifts of other colors  \n",
      "- grid dimensions and zero placements identical between input/output  \n",
      "- no new shapes or borders introduced beyond the 8 clusters\n",
      "\n",
      "Here are the transformation rules that have been identified based on the task:\n",
      "1. Each input contains one or more horizontal runs of exactly three red (2) pixels that serve as column‐anchors.  \n",
      "2. The output adds a new light‑blue (8) run of length three in the same columns as one of those red triplets but relocates it to a fixed “stripe” row (puzzle 1: middle row; puzzle 2: top; puzzle 3: bottom; puzzle 4: top).  \n",
      "3. All other pixels—including the original red runs and static orange, green, and yellow shapes—remain untouched in their original positions.  \n",
      "4. No other colors or shapes are added, removed, or moved; the only change is the insertion of a single horizontal cluster of three light‑blue cells.\n",
      "    \n",
      "Here is a reflection on how you might implement a solution to this task in Python:\n",
      "I would first scan the input grid for all horizontal runs of exactly three red cells and record their start‐to‐end column spans as “anchors.”  Next, I’d determine which of those anchors to use and what fixed row (“stripe”) to target—either by indexing a lookup table derived from the training tasks or by detecting a characteristic row in the input (for example, the one with no other non‑black pixels at those column positions).  Having chosen the anchor and stripe row, I would clone the original grid, sort and align the three anchor columns, and overlay a light‑blue (8) cluster of length three onto the stripe while leaving every other cell untouched.  A key challenge or ambiguity to test is how to pick the correct red triplet when there are multiple candidates and how to infer the stripe’s absolute row from only the input without external hints.\n",
      "\n",
      "Write a Python function that correctly transforms each input grid into its corresponding output grid based on the given examples.\n",
      "\n",
      "- ONLY return code. No explanations or anything other than code.\n",
      "- The function must be named: `solve(grid: List[List[int]]) -> List[List[int]]`\n",
      "- Use only pure Python — do not import or use libraries like NumPy\n",
      "- Do not include comments, explanations, or print statements\n",
      "- Do not hard-code values or specific grid sizes — the function must generalize based on the patterns in the examples\n",
      "- The function must return a plain 2D list of integers with consistent row lengths (List[List[int]])\n",
      "- Do not return arrays, nested arrays, floats, or 3D structures\n",
      "- Ensure your solution works for all provided input-output pairs\n",
      "\n",
      "Here are the demonstration pairs (JSON data):\n",
      "\n",
      "Train Input 1: [[2, 2, 0, 7, 0, 3, 2, 7, 0, 2, 7, 0, 3, 2, 7, 0, 0, 3], [2, 2, 0, 0, 2, 3, 3, 4, 0, 0, 7, 0, 0, 0, 0, 0, 0, 7], [4, 2, 7, 2, 7, 0, 4, 0, 0, 7, 2, 0, 3, 0, 7, 3, 2, 0], [3, 7, 2, 2, 7, 0, 0, 3, 0, 2, 4, 0, 2, 4, 0, 4, 3, 3], [2, 4, 3, 2, 0, 4, 3, 2, 3, 2, 0, 0, 8, 8, 8, 7, 0, 2], [2, 7, 3, 2, 7, 0, 0, 2, 3, 3, 3, 7, 0, 8, 2, 2, 2, 0], [0, 2, 2, 2, 0, 3, 2, 7, 3, 3, 7, 0, 0, 8, 0, 0, 0, 0], [4, 2, 7, 3, 0, 3, 0, 7, 2, 7, 2, 0, 4, 2, 7, 7, 0, 0], [0, 0, 2, 0, 2, 0, 4, 7, 4, 0, 0, 2, 2, 2, 3, 3, 3, 0], [2, 0, 4, 7, 0, 7, 0, 3, 2, 4, 2, 0, 0, 2, 0, 0, 2, 7], [7, 4, 2, 7, 4, 3, 3, 7, 2, 2, 0, 0, 7, 7, 0, 7, 0, 4]]\n",
      "Train Output 1: [[2, 2, 0, 7, 0, 3, 2, 7, 0, 2, 7, 0, 3, 2, 7, 0, 0, 3], [2, 2, 0, 0, 2, 3, 3, 4, 0, 0, 7, 0, 0, 0, 0, 0, 0, 7], [4, 2, 7, 2, 7, 0, 4, 0, 0, 7, 2, 0, 3, 0, 7, 3, 2, 0], [3, 7, 2, 2, 7, 0, 0, 3, 0, 2, 4, 0, 2, 4, 0, 4, 3, 3], [2, 4, 3, 2, 0, 4, 3, 2, 8, 2, 0, 0, 8, 8, 8, 7, 0, 2], [2, 7, 3, 2, 7, 0, 0, 2, 8, 8, 8, 7, 0, 8, 2, 2, 2, 0], [0, 2, 2, 2, 0, 3, 2, 7, 8, 3, 7, 0, 0, 8, 0, 0, 0, 0], [4, 2, 7, 3, 0, 3, 0, 7, 2, 7, 2, 0, 4, 2, 7, 7, 0, 0], [0, 0, 2, 0, 2, 0, 4, 7, 4, 0, 0, 2, 2, 2, 3, 3, 3, 0], [2, 0, 4, 7, 0, 7, 0, 3, 2, 4, 2, 0, 0, 2, 0, 0, 2, 7], [7, 4, 2, 7, 4, 3, 3, 7, 2, 2, 0, 0, 7, 7, 0, 7, 0, 4]]\n",
      "\n",
      "Train Input 2: [[2, 7, 7, 0, 0, 3, 3, 2, 2, 0, 0, 2, 3, 3, 7, 0, 0], [0, 3, 7, 2, 2, 4, 2, 7, 4, 2, 7, 2, 2, 7, 0, 7, 2], [2, 3, 0, 3, 7, 3, 0, 2, 7, 2, 0, 2, 2, 3, 2, 3, 2], [2, 4, 7, 3, 0, 0, 4, 2, 4, 2, 4, 0, 7, 0, 3, 3, 0], [7, 3, 2, 4, 3, 2, 0, 0, 7, 2, 0, 3, 2, 2, 3, 0, 2], [2, 7, 3, 7, 2, 2, 2, 0, 2, 2, 7, 4, 2, 2, 3, 0, 3], [0, 3, 0, 0, 2, 3, 0, 2, 2, 0, 7, 7, 3, 2, 0, 0, 0], [2, 0, 0, 4, 0, 2, 2, 2, 0, 4, 4, 0, 7, 0, 0, 3, 2], [3, 2, 7, 0, 7, 8, 0, 8, 0, 4, 2, 2, 2, 2, 0, 0, 0], [7, 2, 3, 4, 3, 2, 8, 8, 2, 0, 4, 0, 3, 7, 0, 3, 2], [7, 7, 2, 2, 0, 7, 7, 4, 2, 3, 2, 7, 2, 2, 7, 2, 3], [0, 0, 0, 4, 2, 3, 0, 4, 7, 7, 3, 0, 7, 2, 0, 3, 0], [0, 0, 7, 2, 3, 0, 2, 3, 0, 3, 4, 2, 3, 3, 3, 2, 3], [7, 2, 2, 2, 2, 3, 0, 3, 0, 3, 3, 0, 7, 0, 3, 3, 2]]\n",
      "Train Output 2: [[2, 7, 7, 0, 0, 3, 3, 2, 2, 0, 0, 2, 3, 3, 7, 0, 0], [0, 3, 7, 2, 2, 4, 2, 7, 4, 2, 7, 2, 2, 7, 0, 7, 2], [2, 3, 0, 3, 7, 3, 0, 2, 7, 2, 0, 2, 2, 8, 2, 8, 2], [2, 4, 7, 3, 0, 0, 4, 2, 4, 2, 4, 0, 7, 0, 8, 8, 0], [7, 3, 2, 4, 3, 2, 0, 0, 7, 2, 0, 3, 2, 2, 3, 0, 2], [2, 7, 3, 7, 2, 2, 2, 0, 2, 2, 7, 4, 2, 2, 3, 0, 3], [0, 3, 0, 0, 2, 3, 0, 2, 2, 0, 7, 7, 3, 2, 0, 0, 0], [2, 0, 0, 4, 0, 2, 2, 2, 0, 4, 4, 0, 7, 0, 0, 3, 2], [3, 2, 7, 0, 7, 8, 0, 8, 0, 4, 2, 2, 2, 2, 0, 0, 0], [7, 2, 3, 4, 3, 2, 8, 8, 2, 0, 4, 0, 3, 7, 0, 3, 2], [7, 7, 2, 2, 0, 7, 7, 4, 2, 3, 2, 7, 2, 2, 7, 2, 3], [0, 0, 0, 4, 2, 3, 0, 4, 7, 7, 8, 0, 7, 2, 0, 8, 0], [0, 0, 7, 2, 3, 0, 2, 3, 0, 8, 4, 2, 3, 3, 8, 2, 3], [7, 2, 2, 2, 2, 3, 0, 3, 0, 8, 8, 0, 7, 0, 8, 8, 2]]\n",
      "\n",
      "Train Input 3: [[3, 0, 0, 7, 3, 3, 3, 2, 2, 3, 3, 2, 0, 2, 4, 7, 2, 0], [0, 2, 4, 0, 2, 0, 7, 0, 0, 2, 0, 3, 2, 2, 2, 2, 2, 7], [7, 0, 2, 3, 0, 4, 4, 7, 2, 7, 7, 0, 4, 0, 4, 3, 0, 3], [7, 3, 0, 2, 4, 3, 7, 2, 0, 2, 0, 3, 3, 2, 2, 7, 4, 0], [0, 3, 4, 3, 2, 4, 3, 8, 0, 2, 3, 3, 4, 0, 3, 0, 3, 0], [0, 2, 2, 0, 7, 3, 8, 8, 8, 4, 3, 0, 7, 3, 4, 2, 2, 2], [2, 3, 2, 4, 7, 0, 7, 2, 0, 4, 0, 0, 0, 0, 7, 0, 4, 7], [3, 4, 7, 7, 0, 3, 2, 0, 0, 7, 3, 0, 2, 7, 4, 2, 0, 3], [2, 3, 0, 3, 3, 0, 0, 2, 2, 0, 7, 7, 3, 0, 2, 2, 2, 3], [0, 3, 3, 4, 0, 3, 0, 0, 2, 7, 3, 0, 0, 0, 2, 3, 7, 3], [0, 3, 4, 3, 0, 7, 2, 0, 3, 0, 3, 3, 0, 4, 0, 2, 3, 3], [3, 2, 0, 4, 0, 2, 7, 3, 7, 0, 3, 3, 2, 0, 0, 2, 2, 7], [2, 2, 3, 3, 4, 3, 7, 7, 2, 2, 4, 0, 0, 0, 4, 2, 3, 2], [0, 2, 0, 2, 0, 0, 4, 0, 0, 3, 7, 0, 0, 0, 4, 3, 4, 2], [0, 4, 3, 0, 0, 3, 0, 0, 7, 0, 0, 0, 2, 3, 3, 7, 4, 3]]\n",
      "Train Output 3: [[3, 0, 0, 7, 3, 3, 3, 2, 2, 3, 3, 2, 0, 2, 4, 7, 2, 0], [0, 2, 4, 0, 2, 0, 7, 0, 0, 2, 0, 3, 2, 2, 2, 2, 2, 7], [7, 0, 2, 3, 0, 4, 4, 7, 2, 7, 7, 0, 4, 0, 4, 3, 0, 3], [7, 3, 0, 2, 4, 3, 7, 2, 0, 2, 0, 3, 3, 2, 2, 7, 4, 0], [0, 3, 4, 3, 2, 4, 3, 8, 0, 2, 3, 3, 4, 0, 3, 0, 3, 0], [0, 2, 2, 0, 7, 3, 8, 8, 8, 4, 3, 0, 7, 3, 4, 2, 2, 2], [2, 3, 2, 4, 7, 0, 7, 2, 0, 4, 0, 0, 0, 0, 7, 0, 4, 7], [3, 4, 7, 7, 0, 3, 2, 0, 0, 7, 3, 0, 2, 7, 4, 2, 0, 3], [2, 8, 0, 3, 3, 0, 0, 2, 2, 0, 7, 7, 3, 0, 2, 2, 2, 3], [0, 8, 8, 4, 0, 3, 0, 0, 2, 7, 8, 0, 0, 0, 2, 3, 7, 3], [0, 8, 4, 3, 0, 7, 2, 0, 3, 0, 8, 8, 0, 4, 0, 2, 3, 3], [3, 2, 0, 4, 0, 2, 7, 3, 7, 0, 8, 3, 2, 0, 0, 2, 2, 7], [2, 2, 3, 3, 4, 3, 7, 7, 2, 2, 4, 0, 0, 0, 4, 2, 3, 2], [0, 2, 0, 2, 0, 0, 4, 0, 0, 3, 7, 0, 0, 0, 4, 3, 4, 2], [0, 4, 3, 0, 0, 3, 0, 0, 7, 0, 0, 0, 2, 3, 3, 7, 4, 3]]\n",
      "\n",
      "Train Input 4: [[2, 3, 2, 8, 4, 4, 0, 2, 3, 0, 2, 4, 7, 7, 3, 7, 3], [3, 4, 8, 8, 8, 0, 0, 2, 0, 2, 0, 2, 7, 7, 7, 3, 7], [7, 3, 0, 8, 0, 2, 2, 0, 2, 2, 0, 7, 3, 0, 3, 3, 3], [2, 0, 2, 0, 2, 0, 3, 2, 0, 7, 0, 7, 0, 0, 2, 3, 0], [7, 7, 4, 3, 7, 2, 0, 2, 3, 0, 3, 4, 7, 2, 0, 3, 7], [2, 4, 0, 7, 0, 0, 3, 4, 4, 0, 3, 4, 4, 3, 3, 4, 0], [3, 2, 7, 3, 7, 3, 7, 2, 0, 2, 3, 2, 3, 3, 3, 4, 4], [3, 7, 4, 0, 2, 0, 2, 0, 3, 7, 2, 3, 3, 3, 3, 0, 2], [3, 2, 3, 2, 0, 2, 0, 2, 0, 7, 2, 0, 2, 4, 4, 7, 3], [4, 3, 4, 2, 0, 7, 0, 0, 7, 0, 0, 0, 0, 3, 0, 0, 3], [2, 3, 0, 0, 4, 0, 2, 0, 3, 3, 2, 0, 4, 0, 0, 2, 2], [3, 3, 4, 3, 2, 7, 2, 4, 3, 0, 7, 3, 3, 4, 2, 0, 3], [2, 0, 7, 7, 0, 3, 7, 4, 3, 7, 0, 2, 0, 3, 7, 0, 2], [2, 3, 0, 0, 2, 3, 0, 7, 0, 7, 3, 7, 0, 4, 0, 3, 7], [2, 0, 2, 2, 7, 2, 0, 0, 2, 2, 3, 0, 0, 3, 7, 0, 3], [7, 2, 4, 0, 3, 0, 0, 2, 2, 7, 4, 0, 0, 2, 2, 0, 4], [0, 0, 3, 0, 4, 4, 7, 7, 4, 2, 0, 0, 3, 7, 0, 2, 0], [2, 3, 4, 0, 3, 0, 3, 3, 2, 3, 4, 7, 7, 0, 2, 0, 3]]\n",
      "Train Output 4: [[2, 3, 2, 8, 4, 4, 0, 2, 3, 0, 2, 4, 7, 7, 3, 7, 3], [3, 4, 8, 8, 8, 0, 0, 2, 0, 2, 0, 2, 7, 7, 7, 8, 7], [7, 3, 0, 8, 0, 2, 2, 0, 2, 2, 0, 7, 3, 0, 8, 8, 8], [2, 0, 2, 0, 2, 0, 3, 2, 0, 7, 0, 7, 0, 0, 2, 8, 0], [7, 7, 4, 3, 7, 2, 0, 2, 3, 0, 3, 4, 7, 2, 0, 3, 7], [2, 4, 0, 7, 0, 0, 3, 4, 4, 0, 3, 4, 4, 8, 3, 4, 0], [3, 2, 7, 3, 7, 3, 7, 2, 0, 2, 3, 2, 8, 8, 8, 4, 4], [3, 7, 4, 0, 2, 0, 2, 0, 3, 7, 2, 3, 3, 8, 3, 0, 2], [3, 2, 3, 2, 0, 2, 0, 2, 0, 7, 2, 0, 2, 4, 4, 7, 3], [4, 3, 4, 2, 0, 7, 0, 0, 7, 0, 0, 0, 0, 3, 0, 0, 3], [2, 3, 0, 0, 4, 0, 2, 0, 3, 3, 2, 0, 4, 0, 0, 2, 2], [3, 3, 4, 3, 2, 7, 2, 4, 3, 0, 7, 3, 3, 4, 2, 0, 3], [2, 0, 7, 7, 0, 3, 7, 4, 3, 7, 0, 2, 0, 3, 7, 0, 2], [2, 3, 0, 0, 2, 3, 0, 7, 0, 7, 3, 7, 0, 4, 0, 3, 7], [2, 0, 2, 2, 7, 2, 0, 0, 2, 2, 3, 0, 0, 3, 7, 0, 3], [7, 2, 4, 0, 3, 0, 0, 2, 2, 7, 4, 0, 0, 2, 2, 0, 4], [0, 0, 3, 0, 4, 4, 7, 7, 4, 2, 0, 0, 3, 7, 0, 2, 0], [2, 3, 4, 0, 3, 0, 3, 3, 2, 3, 4, 7, 7, 0, 2, 0, 3]]\n",
      "\n",
      "\n",
      "Encoding used: nonzero_coords\n",
      "Explanation: This encoding lists only the non-zero cells as dictionaries containing their row, column, and value.\n",
      "\n",
      "Here are the demonstration pairs (encoded):\n",
      "\n",
      "Train Input 1: [{'row': 0, 'col': 0, 'val': 2}, {'row': 0, 'col': 1, 'val': 2}, {'row': 0, 'col': 3, 'val': 7}, {'row': 0, 'col': 5, 'val': 3}, {'row': 0, 'col': 6, 'val': 2}, {'row': 0, 'col': 7, 'val': 7}, {'row': 0, 'col': 9, 'val': 2}, {'row': 0, 'col': 10, 'val': 7}, {'row': 0, 'col': 12, 'val': 3}, {'row': 0, 'col': 13, 'val': 2}, {'row': 0, 'col': 14, 'val': 7}, {'row': 0, 'col': 17, 'val': 3}, {'row': 1, 'col': 0, 'val': 2}, {'row': 1, 'col': 1, 'val': 2}, {'row': 1, 'col': 4, 'val': 2}, {'row': 1, 'col': 5, 'val': 3}, {'row': 1, 'col': 6, 'val': 3}, {'row': 1, 'col': 7, 'val': 4}, {'row': 1, 'col': 10, 'val': 7}, {'row': 1, 'col': 17, 'val': 7}, {'row': 2, 'col': 0, 'val': 4}, {'row': 2, 'col': 1, 'val': 2}, {'row': 2, 'col': 2, 'val': 7}, {'row': 2, 'col': 3, 'val': 2}, {'row': 2, 'col': 4, 'val': 7}, {'row': 2, 'col': 6, 'val': 4}, {'row': 2, 'col': 9, 'val': 7}, {'row': 2, 'col': 10, 'val': 2}, {'row': 2, 'col': 12, 'val': 3}, {'row': 2, 'col': 14, 'val': 7}, {'row': 2, 'col': 15, 'val': 3}, {'row': 2, 'col': 16, 'val': 2}, {'row': 3, 'col': 0, 'val': 3}, {'row': 3, 'col': 1, 'val': 7}, {'row': 3, 'col': 2, 'val': 2}, {'row': 3, 'col': 3, 'val': 2}, {'row': 3, 'col': 4, 'val': 7}, {'row': 3, 'col': 7, 'val': 3}, {'row': 3, 'col': 9, 'val': 2}, {'row': 3, 'col': 10, 'val': 4}, {'row': 3, 'col': 12, 'val': 2}, {'row': 3, 'col': 13, 'val': 4}, {'row': 3, 'col': 15, 'val': 4}, {'row': 3, 'col': 16, 'val': 3}, {'row': 3, 'col': 17, 'val': 3}, {'row': 4, 'col': 0, 'val': 2}, {'row': 4, 'col': 1, 'val': 4}, {'row': 4, 'col': 2, 'val': 3}, {'row': 4, 'col': 3, 'val': 2}, {'row': 4, 'col': 5, 'val': 4}, {'row': 4, 'col': 6, 'val': 3}, {'row': 4, 'col': 7, 'val': 2}, {'row': 4, 'col': 8, 'val': 3}, {'row': 4, 'col': 9, 'val': 2}, {'row': 4, 'col': 12, 'val': 8}, {'row': 4, 'col': 13, 'val': 8}, {'row': 4, 'col': 14, 'val': 8}, {'row': 4, 'col': 15, 'val': 7}, {'row': 4, 'col': 17, 'val': 2}, {'row': 5, 'col': 0, 'val': 2}, {'row': 5, 'col': 1, 'val': 7}, {'row': 5, 'col': 2, 'val': 3}, {'row': 5, 'col': 3, 'val': 2}, {'row': 5, 'col': 4, 'val': 7}, {'row': 5, 'col': 7, 'val': 2}, {'row': 5, 'col': 8, 'val': 3}, {'row': 5, 'col': 9, 'val': 3}, {'row': 5, 'col': 10, 'val': 3}, {'row': 5, 'col': 11, 'val': 7}, {'row': 5, 'col': 13, 'val': 8}, {'row': 5, 'col': 14, 'val': 2}, {'row': 5, 'col': 15, 'val': 2}, {'row': 5, 'col': 16, 'val': 2}, {'row': 6, 'col': 1, 'val': 2}, {'row': 6, 'col': 2, 'val': 2}, {'row': 6, 'col': 3, 'val': 2}, {'row': 6, 'col': 5, 'val': 3}, {'row': 6, 'col': 6, 'val': 2}, {'row': 6, 'col': 7, 'val': 7}, {'row': 6, 'col': 8, 'val': 3}, {'row': 6, 'col': 9, 'val': 3}, {'row': 6, 'col': 10, 'val': 7}, {'row': 6, 'col': 13, 'val': 8}, {'row': 7, 'col': 0, 'val': 4}, {'row': 7, 'col': 1, 'val': 2}, {'row': 7, 'col': 2, 'val': 7}, {'row': 7, 'col': 3, 'val': 3}, {'row': 7, 'col': 5, 'val': 3}, {'row': 7, 'col': 7, 'val': 7}, {'row': 7, 'col': 8, 'val': 2}, {'row': 7, 'col': 9, 'val': 7}, {'row': 7, 'col': 10, 'val': 2}, {'row': 7, 'col': 12, 'val': 4}, {'row': 7, 'col': 13, 'val': 2}, {'row': 7, 'col': 14, 'val': 7}, {'row': 7, 'col': 15, 'val': 7}, {'row': 8, 'col': 2, 'val': 2}, {'row': 8, 'col': 4, 'val': 2}, {'row': 8, 'col': 6, 'val': 4}, {'row': 8, 'col': 7, 'val': 7}, {'row': 8, 'col': 8, 'val': 4}, {'row': 8, 'col': 11, 'val': 2}, {'row': 8, 'col': 12, 'val': 2}, {'row': 8, 'col': 13, 'val': 2}, {'row': 8, 'col': 14, 'val': 3}, {'row': 8, 'col': 15, 'val': 3}, {'row': 8, 'col': 16, 'val': 3}, {'row': 9, 'col': 0, 'val': 2}, {'row': 9, 'col': 2, 'val': 4}, {'row': 9, 'col': 3, 'val': 7}, {'row': 9, 'col': 5, 'val': 7}, {'row': 9, 'col': 7, 'val': 3}, {'row': 9, 'col': 8, 'val': 2}, {'row': 9, 'col': 9, 'val': 4}, {'row': 9, 'col': 10, 'val': 2}, {'row': 9, 'col': 13, 'val': 2}, {'row': 9, 'col': 16, 'val': 2}, {'row': 9, 'col': 17, 'val': 7}, {'row': 10, 'col': 0, 'val': 7}, {'row': 10, 'col': 1, 'val': 4}, {'row': 10, 'col': 2, 'val': 2}, {'row': 10, 'col': 3, 'val': 7}, {'row': 10, 'col': 4, 'val': 4}, {'row': 10, 'col': 5, 'val': 3}, {'row': 10, 'col': 6, 'val': 3}, {'row': 10, 'col': 7, 'val': 7}, {'row': 10, 'col': 8, 'val': 2}, {'row': 10, 'col': 9, 'val': 2}, {'row': 10, 'col': 12, 'val': 7}, {'row': 10, 'col': 13, 'val': 7}, {'row': 10, 'col': 15, 'val': 7}, {'row': 10, 'col': 17, 'val': 4}]\n",
      "Train Output 1: [{'row': 0, 'col': 0, 'val': 2}, {'row': 0, 'col': 1, 'val': 2}, {'row': 0, 'col': 3, 'val': 7}, {'row': 0, 'col': 5, 'val': 3}, {'row': 0, 'col': 6, 'val': 2}, {'row': 0, 'col': 7, 'val': 7}, {'row': 0, 'col': 9, 'val': 2}, {'row': 0, 'col': 10, 'val': 7}, {'row': 0, 'col': 12, 'val': 3}, {'row': 0, 'col': 13, 'val': 2}, {'row': 0, 'col': 14, 'val': 7}, {'row': 0, 'col': 17, 'val': 3}, {'row': 1, 'col': 0, 'val': 2}, {'row': 1, 'col': 1, 'val': 2}, {'row': 1, 'col': 4, 'val': 2}, {'row': 1, 'col': 5, 'val': 3}, {'row': 1, 'col': 6, 'val': 3}, {'row': 1, 'col': 7, 'val': 4}, {'row': 1, 'col': 10, 'val': 7}, {'row': 1, 'col': 17, 'val': 7}, {'row': 2, 'col': 0, 'val': 4}, {'row': 2, 'col': 1, 'val': 2}, {'row': 2, 'col': 2, 'val': 7}, {'row': 2, 'col': 3, 'val': 2}, {'row': 2, 'col': 4, 'val': 7}, {'row': 2, 'col': 6, 'val': 4}, {'row': 2, 'col': 9, 'val': 7}, {'row': 2, 'col': 10, 'val': 2}, {'row': 2, 'col': 12, 'val': 3}, {'row': 2, 'col': 14, 'val': 7}, {'row': 2, 'col': 15, 'val': 3}, {'row': 2, 'col': 16, 'val': 2}, {'row': 3, 'col': 0, 'val': 3}, {'row': 3, 'col': 1, 'val': 7}, {'row': 3, 'col': 2, 'val': 2}, {'row': 3, 'col': 3, 'val': 2}, {'row': 3, 'col': 4, 'val': 7}, {'row': 3, 'col': 7, 'val': 3}, {'row': 3, 'col': 9, 'val': 2}, {'row': 3, 'col': 10, 'val': 4}, {'row': 3, 'col': 12, 'val': 2}, {'row': 3, 'col': 13, 'val': 4}, {'row': 3, 'col': 15, 'val': 4}, {'row': 3, 'col': 16, 'val': 3}, {'row': 3, 'col': 17, 'val': 3}, {'row': 4, 'col': 0, 'val': 2}, {'row': 4, 'col': 1, 'val': 4}, {'row': 4, 'col': 2, 'val': 3}, {'row': 4, 'col': 3, 'val': 2}, {'row': 4, 'col': 5, 'val': 4}, {'row': 4, 'col': 6, 'val': 3}, {'row': 4, 'col': 7, 'val': 2}, {'row': 4, 'col': 8, 'val': 8}, {'row': 4, 'col': 9, 'val': 2}, {'row': 4, 'col': 12, 'val': 8}, {'row': 4, 'col': 13, 'val': 8}, {'row': 4, 'col': 14, 'val': 8}, {'row': 4, 'col': 15, 'val': 7}, {'row': 4, 'col': 17, 'val': 2}, {'row': 5, 'col': 0, 'val': 2}, {'row': 5, 'col': 1, 'val': 7}, {'row': 5, 'col': 2, 'val': 3}, {'row': 5, 'col': 3, 'val': 2}, {'row': 5, 'col': 4, 'val': 7}, {'row': 5, 'col': 7, 'val': 2}, {'row': 5, 'col': 8, 'val': 8}, {'row': 5, 'col': 9, 'val': 8}, {'row': 5, 'col': 10, 'val': 8}, {'row': 5, 'col': 11, 'val': 7}, {'row': 5, 'col': 13, 'val': 8}, {'row': 5, 'col': 14, 'val': 2}, {'row': 5, 'col': 15, 'val': 2}, {'row': 5, 'col': 16, 'val': 2}, {'row': 6, 'col': 1, 'val': 2}, {'row': 6, 'col': 2, 'val': 2}, {'row': 6, 'col': 3, 'val': 2}, {'row': 6, 'col': 5, 'val': 3}, {'row': 6, 'col': 6, 'val': 2}, {'row': 6, 'col': 7, 'val': 7}, {'row': 6, 'col': 8, 'val': 8}, {'row': 6, 'col': 9, 'val': 3}, {'row': 6, 'col': 10, 'val': 7}, {'row': 6, 'col': 13, 'val': 8}, {'row': 7, 'col': 0, 'val': 4}, {'row': 7, 'col': 1, 'val': 2}, {'row': 7, 'col': 2, 'val': 7}, {'row': 7, 'col': 3, 'val': 3}, {'row': 7, 'col': 5, 'val': 3}, {'row': 7, 'col': 7, 'val': 7}, {'row': 7, 'col': 8, 'val': 2}, {'row': 7, 'col': 9, 'val': 7}, {'row': 7, 'col': 10, 'val': 2}, {'row': 7, 'col': 12, 'val': 4}, {'row': 7, 'col': 13, 'val': 2}, {'row': 7, 'col': 14, 'val': 7}, {'row': 7, 'col': 15, 'val': 7}, {'row': 8, 'col': 2, 'val': 2}, {'row': 8, 'col': 4, 'val': 2}, {'row': 8, 'col': 6, 'val': 4}, {'row': 8, 'col': 7, 'val': 7}, {'row': 8, 'col': 8, 'val': 4}, {'row': 8, 'col': 11, 'val': 2}, {'row': 8, 'col': 12, 'val': 2}, {'row': 8, 'col': 13, 'val': 2}, {'row': 8, 'col': 14, 'val': 3}, {'row': 8, 'col': 15, 'val': 3}, {'row': 8, 'col': 16, 'val': 3}, {'row': 9, 'col': 0, 'val': 2}, {'row': 9, 'col': 2, 'val': 4}, {'row': 9, 'col': 3, 'val': 7}, {'row': 9, 'col': 5, 'val': 7}, {'row': 9, 'col': 7, 'val': 3}, {'row': 9, 'col': 8, 'val': 2}, {'row': 9, 'col': 9, 'val': 4}, {'row': 9, 'col': 10, 'val': 2}, {'row': 9, 'col': 13, 'val': 2}, {'row': 9, 'col': 16, 'val': 2}, {'row': 9, 'col': 17, 'val': 7}, {'row': 10, 'col': 0, 'val': 7}, {'row': 10, 'col': 1, 'val': 4}, {'row': 10, 'col': 2, 'val': 2}, {'row': 10, 'col': 3, 'val': 7}, {'row': 10, 'col': 4, 'val': 4}, {'row': 10, 'col': 5, 'val': 3}, {'row': 10, 'col': 6, 'val': 3}, {'row': 10, 'col': 7, 'val': 7}, {'row': 10, 'col': 8, 'val': 2}, {'row': 10, 'col': 9, 'val': 2}, {'row': 10, 'col': 12, 'val': 7}, {'row': 10, 'col': 13, 'val': 7}, {'row': 10, 'col': 15, 'val': 7}, {'row': 10, 'col': 17, 'val': 4}]\n",
      "\n",
      "Train Input 2: [{'row': 0, 'col': 0, 'val': 2}, {'row': 0, 'col': 1, 'val': 7}, {'row': 0, 'col': 2, 'val': 7}, {'row': 0, 'col': 5, 'val': 3}, {'row': 0, 'col': 6, 'val': 3}, {'row': 0, 'col': 7, 'val': 2}, {'row': 0, 'col': 8, 'val': 2}, {'row': 0, 'col': 11, 'val': 2}, {'row': 0, 'col': 12, 'val': 3}, {'row': 0, 'col': 13, 'val': 3}, {'row': 0, 'col': 14, 'val': 7}, {'row': 1, 'col': 1, 'val': 3}, {'row': 1, 'col': 2, 'val': 7}, {'row': 1, 'col': 3, 'val': 2}, {'row': 1, 'col': 4, 'val': 2}, {'row': 1, 'col': 5, 'val': 4}, {'row': 1, 'col': 6, 'val': 2}, {'row': 1, 'col': 7, 'val': 7}, {'row': 1, 'col': 8, 'val': 4}, {'row': 1, 'col': 9, 'val': 2}, {'row': 1, 'col': 10, 'val': 7}, {'row': 1, 'col': 11, 'val': 2}, {'row': 1, 'col': 12, 'val': 2}, {'row': 1, 'col': 13, 'val': 7}, {'row': 1, 'col': 15, 'val': 7}, {'row': 1, 'col': 16, 'val': 2}, {'row': 2, 'col': 0, 'val': 2}, {'row': 2, 'col': 1, 'val': 3}, {'row': 2, 'col': 3, 'val': 3}, {'row': 2, 'col': 4, 'val': 7}, {'row': 2, 'col': 5, 'val': 3}, {'row': 2, 'col': 7, 'val': 2}, {'row': 2, 'col': 8, 'val': 7}, {'row': 2, 'col': 9, 'val': 2}, {'row': 2, 'col': 11, 'val': 2}, {'row': 2, 'col': 12, 'val': 2}, {'row': 2, 'col': 13, 'val': 3}, {'row': 2, 'col': 14, 'val': 2}, {'row': 2, 'col': 15, 'val': 3}, {'row': 2, 'col': 16, 'val': 2}, {'row': 3, 'col': 0, 'val': 2}, {'row': 3, 'col': 1, 'val': 4}, {'row': 3, 'col': 2, 'val': 7}, {'row': 3, 'col': 3, 'val': 3}, {'row': 3, 'col': 6, 'val': 4}, {'row': 3, 'col': 7, 'val': 2}, {'row': 3, 'col': 8, 'val': 4}, {'row': 3, 'col': 9, 'val': 2}, {'row': 3, 'col': 10, 'val': 4}, {'row': 3, 'col': 12, 'val': 7}, {'row': 3, 'col': 14, 'val': 3}, {'row': 3, 'col': 15, 'val': 3}, {'row': 4, 'col': 0, 'val': 7}, {'row': 4, 'col': 1, 'val': 3}, {'row': 4, 'col': 2, 'val': 2}, {'row': 4, 'col': 3, 'val': 4}, {'row': 4, 'col': 4, 'val': 3}, {'row': 4, 'col': 5, 'val': 2}, {'row': 4, 'col': 8, 'val': 7}, {'row': 4, 'col': 9, 'val': 2}, {'row': 4, 'col': 11, 'val': 3}, {'row': 4, 'col': 12, 'val': 2}, {'row': 4, 'col': 13, 'val': 2}, {'row': 4, 'col': 14, 'val': 3}, {'row': 4, 'col': 16, 'val': 2}, {'row': 5, 'col': 0, 'val': 2}, {'row': 5, 'col': 1, 'val': 7}, {'row': 5, 'col': 2, 'val': 3}, {'row': 5, 'col': 3, 'val': 7}, {'row': 5, 'col': 4, 'val': 2}, {'row': 5, 'col': 5, 'val': 2}, {'row': 5, 'col': 6, 'val': 2}, {'row': 5, 'col': 8, 'val': 2}, {'row': 5, 'col': 9, 'val': 2}, {'row': 5, 'col': 10, 'val': 7}, {'row': 5, 'col': 11, 'val': 4}, {'row': 5, 'col': 12, 'val': 2}, {'row': 5, 'col': 13, 'val': 2}, {'row': 5, 'col': 14, 'val': 3}, {'row': 5, 'col': 16, 'val': 3}, {'row': 6, 'col': 1, 'val': 3}, {'row': 6, 'col': 4, 'val': 2}, {'row': 6, 'col': 5, 'val': 3}, {'row': 6, 'col': 7, 'val': 2}, {'row': 6, 'col': 8, 'val': 2}, {'row': 6, 'col': 10, 'val': 7}, {'row': 6, 'col': 11, 'val': 7}, {'row': 6, 'col': 12, 'val': 3}, {'row': 6, 'col': 13, 'val': 2}, {'row': 7, 'col': 0, 'val': 2}, {'row': 7, 'col': 3, 'val': 4}, {'row': 7, 'col': 5, 'val': 2}, {'row': 7, 'col': 6, 'val': 2}, {'row': 7, 'col': 7, 'val': 2}, {'row': 7, 'col': 9, 'val': 4}, {'row': 7, 'col': 10, 'val': 4}, {'row': 7, 'col': 12, 'val': 7}, {'row': 7, 'col': 15, 'val': 3}, {'row': 7, 'col': 16, 'val': 2}, {'row': 8, 'col': 0, 'val': 3}, {'row': 8, 'col': 1, 'val': 2}, {'row': 8, 'col': 2, 'val': 7}, {'row': 8, 'col': 4, 'val': 7}, {'row': 8, 'col': 5, 'val': 8}, {'row': 8, 'col': 7, 'val': 8}, {'row': 8, 'col': 9, 'val': 4}, {'row': 8, 'col': 10, 'val': 2}, {'row': 8, 'col': 11, 'val': 2}, {'row': 8, 'col': 12, 'val': 2}, {'row': 8, 'col': 13, 'val': 2}, {'row': 9, 'col': 0, 'val': 7}, {'row': 9, 'col': 1, 'val': 2}, {'row': 9, 'col': 2, 'val': 3}, {'row': 9, 'col': 3, 'val': 4}, {'row': 9, 'col': 4, 'val': 3}, {'row': 9, 'col': 5, 'val': 2}, {'row': 9, 'col': 6, 'val': 8}, {'row': 9, 'col': 7, 'val': 8}, {'row': 9, 'col': 8, 'val': 2}, {'row': 9, 'col': 10, 'val': 4}, {'row': 9, 'col': 12, 'val': 3}, {'row': 9, 'col': 13, 'val': 7}, {'row': 9, 'col': 15, 'val': 3}, {'row': 9, 'col': 16, 'val': 2}, {'row': 10, 'col': 0, 'val': 7}, {'row': 10, 'col': 1, 'val': 7}, {'row': 10, 'col': 2, 'val': 2}, {'row': 10, 'col': 3, 'val': 2}, {'row': 10, 'col': 5, 'val': 7}, {'row': 10, 'col': 6, 'val': 7}, {'row': 10, 'col': 7, 'val': 4}, {'row': 10, 'col': 8, 'val': 2}, {'row': 10, 'col': 9, 'val': 3}, {'row': 10, 'col': 10, 'val': 2}, {'row': 10, 'col': 11, 'val': 7}, {'row': 10, 'col': 12, 'val': 2}, {'row': 10, 'col': 13, 'val': 2}, {'row': 10, 'col': 14, 'val': 7}, {'row': 10, 'col': 15, 'val': 2}, {'row': 10, 'col': 16, 'val': 3}, {'row': 11, 'col': 3, 'val': 4}, {'row': 11, 'col': 4, 'val': 2}, {'row': 11, 'col': 5, 'val': 3}, {'row': 11, 'col': 7, 'val': 4}, {'row': 11, 'col': 8, 'val': 7}, {'row': 11, 'col': 9, 'val': 7}, {'row': 11, 'col': 10, 'val': 3}, {'row': 11, 'col': 12, 'val': 7}, {'row': 11, 'col': 13, 'val': 2}, {'row': 11, 'col': 15, 'val': 3}, {'row': 12, 'col': 2, 'val': 7}, {'row': 12, 'col': 3, 'val': 2}, {'row': 12, 'col': 4, 'val': 3}, {'row': 12, 'col': 6, 'val': 2}, {'row': 12, 'col': 7, 'val': 3}, {'row': 12, 'col': 9, 'val': 3}, {'row': 12, 'col': 10, 'val': 4}, {'row': 12, 'col': 11, 'val': 2}, {'row': 12, 'col': 12, 'val': 3}, {'row': 12, 'col': 13, 'val': 3}, {'row': 12, 'col': 14, 'val': 3}, {'row': 12, 'col': 15, 'val': 2}, {'row': 12, 'col': 16, 'val': 3}, {'row': 13, 'col': 0, 'val': 7}, {'row': 13, 'col': 1, 'val': 2}, {'row': 13, 'col': 2, 'val': 2}, {'row': 13, 'col': 3, 'val': 2}, {'row': 13, 'col': 4, 'val': 2}, {'row': 13, 'col': 5, 'val': 3}, {'row': 13, 'col': 7, 'val': 3}, {'row': 13, 'col': 9, 'val': 3}, {'row': 13, 'col': 10, 'val': 3}, {'row': 13, 'col': 12, 'val': 7}, {'row': 13, 'col': 14, 'val': 3}, {'row': 13, 'col': 15, 'val': 3}, {'row': 13, 'col': 16, 'val': 2}]\n",
      "Train Output 2: [{'row': 0, 'col': 0, 'val': 2}, {'row': 0, 'col': 1, 'val': 7}, {'row': 0, 'col': 2, 'val': 7}, {'row': 0, 'col': 5, 'val': 3}, {'row': 0, 'col': 6, 'val': 3}, {'row': 0, 'col': 7, 'val': 2}, {'row': 0, 'col': 8, 'val': 2}, {'row': 0, 'col': 11, 'val': 2}, {'row': 0, 'col': 12, 'val': 3}, {'row': 0, 'col': 13, 'val': 3}, {'row': 0, 'col': 14, 'val': 7}, {'row': 1, 'col': 1, 'val': 3}, {'row': 1, 'col': 2, 'val': 7}, {'row': 1, 'col': 3, 'val': 2}, {'row': 1, 'col': 4, 'val': 2}, {'row': 1, 'col': 5, 'val': 4}, {'row': 1, 'col': 6, 'val': 2}, {'row': 1, 'col': 7, 'val': 7}, {'row': 1, 'col': 8, 'val': 4}, {'row': 1, 'col': 9, 'val': 2}, {'row': 1, 'col': 10, 'val': 7}, {'row': 1, 'col': 11, 'val': 2}, {'row': 1, 'col': 12, 'val': 2}, {'row': 1, 'col': 13, 'val': 7}, {'row': 1, 'col': 15, 'val': 7}, {'row': 1, 'col': 16, 'val': 2}, {'row': 2, 'col': 0, 'val': 2}, {'row': 2, 'col': 1, 'val': 3}, {'row': 2, 'col': 3, 'val': 3}, {'row': 2, 'col': 4, 'val': 7}, {'row': 2, 'col': 5, 'val': 3}, {'row': 2, 'col': 7, 'val': 2}, {'row': 2, 'col': 8, 'val': 7}, {'row': 2, 'col': 9, 'val': 2}, {'row': 2, 'col': 11, 'val': 2}, {'row': 2, 'col': 12, 'val': 2}, {'row': 2, 'col': 13, 'val': 8}, {'row': 2, 'col': 14, 'val': 2}, {'row': 2, 'col': 15, 'val': 8}, {'row': 2, 'col': 16, 'val': 2}, {'row': 3, 'col': 0, 'val': 2}, {'row': 3, 'col': 1, 'val': 4}, {'row': 3, 'col': 2, 'val': 7}, {'row': 3, 'col': 3, 'val': 3}, {'row': 3, 'col': 6, 'val': 4}, {'row': 3, 'col': 7, 'val': 2}, {'row': 3, 'col': 8, 'val': 4}, {'row': 3, 'col': 9, 'val': 2}, {'row': 3, 'col': 10, 'val': 4}, {'row': 3, 'col': 12, 'val': 7}, {'row': 3, 'col': 14, 'val': 8}, {'row': 3, 'col': 15, 'val': 8}, {'row': 4, 'col': 0, 'val': 7}, {'row': 4, 'col': 1, 'val': 3}, {'row': 4, 'col': 2, 'val': 2}, {'row': 4, 'col': 3, 'val': 4}, {'row': 4, 'col': 4, 'val': 3}, {'row': 4, 'col': 5, 'val': 2}, {'row': 4, 'col': 8, 'val': 7}, {'row': 4, 'col': 9, 'val': 2}, {'row': 4, 'col': 11, 'val': 3}, {'row': 4, 'col': 12, 'val': 2}, {'row': 4, 'col': 13, 'val': 2}, {'row': 4, 'col': 14, 'val': 3}, {'row': 4, 'col': 16, 'val': 2}, {'row': 5, 'col': 0, 'val': 2}, {'row': 5, 'col': 1, 'val': 7}, {'row': 5, 'col': 2, 'val': 3}, {'row': 5, 'col': 3, 'val': 7}, {'row': 5, 'col': 4, 'val': 2}, {'row': 5, 'col': 5, 'val': 2}, {'row': 5, 'col': 6, 'val': 2}, {'row': 5, 'col': 8, 'val': 2}, {'row': 5, 'col': 9, 'val': 2}, {'row': 5, 'col': 10, 'val': 7}, {'row': 5, 'col': 11, 'val': 4}, {'row': 5, 'col': 12, 'val': 2}, {'row': 5, 'col': 13, 'val': 2}, {'row': 5, 'col': 14, 'val': 3}, {'row': 5, 'col': 16, 'val': 3}, {'row': 6, 'col': 1, 'val': 3}, {'row': 6, 'col': 4, 'val': 2}, {'row': 6, 'col': 5, 'val': 3}, {'row': 6, 'col': 7, 'val': 2}, {'row': 6, 'col': 8, 'val': 2}, {'row': 6, 'col': 10, 'val': 7}, {'row': 6, 'col': 11, 'val': 7}, {'row': 6, 'col': 12, 'val': 3}, {'row': 6, 'col': 13, 'val': 2}, {'row': 7, 'col': 0, 'val': 2}, {'row': 7, 'col': 3, 'val': 4}, {'row': 7, 'col': 5, 'val': 2}, {'row': 7, 'col': 6, 'val': 2}, {'row': 7, 'col': 7, 'val': 2}, {'row': 7, 'col': 9, 'val': 4}, {'row': 7, 'col': 10, 'val': 4}, {'row': 7, 'col': 12, 'val': 7}, {'row': 7, 'col': 15, 'val': 3}, {'row': 7, 'col': 16, 'val': 2}, {'row': 8, 'col': 0, 'val': 3}, {'row': 8, 'col': 1, 'val': 2}, {'row': 8, 'col': 2, 'val': 7}, {'row': 8, 'col': 4, 'val': 7}, {'row': 8, 'col': 5, 'val': 8}, {'row': 8, 'col': 7, 'val': 8}, {'row': 8, 'col': 9, 'val': 4}, {'row': 8, 'col': 10, 'val': 2}, {'row': 8, 'col': 11, 'val': 2}, {'row': 8, 'col': 12, 'val': 2}, {'row': 8, 'col': 13, 'val': 2}, {'row': 9, 'col': 0, 'val': 7}, {'row': 9, 'col': 1, 'val': 2}, {'row': 9, 'col': 2, 'val': 3}, {'row': 9, 'col': 3, 'val': 4}, {'row': 9, 'col': 4, 'val': 3}, {'row': 9, 'col': 5, 'val': 2}, {'row': 9, 'col': 6, 'val': 8}, {'row': 9, 'col': 7, 'val': 8}, {'row': 9, 'col': 8, 'val': 2}, {'row': 9, 'col': 10, 'val': 4}, {'row': 9, 'col': 12, 'val': 3}, {'row': 9, 'col': 13, 'val': 7}, {'row': 9, 'col': 15, 'val': 3}, {'row': 9, 'col': 16, 'val': 2}, {'row': 10, 'col': 0, 'val': 7}, {'row': 10, 'col': 1, 'val': 7}, {'row': 10, 'col': 2, 'val': 2}, {'row': 10, 'col': 3, 'val': 2}, {'row': 10, 'col': 5, 'val': 7}, {'row': 10, 'col': 6, 'val': 7}, {'row': 10, 'col': 7, 'val': 4}, {'row': 10, 'col': 8, 'val': 2}, {'row': 10, 'col': 9, 'val': 3}, {'row': 10, 'col': 10, 'val': 2}, {'row': 10, 'col': 11, 'val': 7}, {'row': 10, 'col': 12, 'val': 2}, {'row': 10, 'col': 13, 'val': 2}, {'row': 10, 'col': 14, 'val': 7}, {'row': 10, 'col': 15, 'val': 2}, {'row': 10, 'col': 16, 'val': 3}, {'row': 11, 'col': 3, 'val': 4}, {'row': 11, 'col': 4, 'val': 2}, {'row': 11, 'col': 5, 'val': 3}, {'row': 11, 'col': 7, 'val': 4}, {'row': 11, 'col': 8, 'val': 7}, {'row': 11, 'col': 9, 'val': 7}, {'row': 11, 'col': 10, 'val': 8}, {'row': 11, 'col': 12, 'val': 7}, {'row': 11, 'col': 13, 'val': 2}, {'row': 11, 'col': 15, 'val': 8}, {'row': 12, 'col': 2, 'val': 7}, {'row': 12, 'col': 3, 'val': 2}, {'row': 12, 'col': 4, 'val': 3}, {'row': 12, 'col': 6, 'val': 2}, {'row': 12, 'col': 7, 'val': 3}, {'row': 12, 'col': 9, 'val': 8}, {'row': 12, 'col': 10, 'val': 4}, {'row': 12, 'col': 11, 'val': 2}, {'row': 12, 'col': 12, 'val': 3}, {'row': 12, 'col': 13, 'val': 3}, {'row': 12, 'col': 14, 'val': 8}, {'row': 12, 'col': 15, 'val': 2}, {'row': 12, 'col': 16, 'val': 3}, {'row': 13, 'col': 0, 'val': 7}, {'row': 13, 'col': 1, 'val': 2}, {'row': 13, 'col': 2, 'val': 2}, {'row': 13, 'col': 3, 'val': 2}, {'row': 13, 'col': 4, 'val': 2}, {'row': 13, 'col': 5, 'val': 3}, {'row': 13, 'col': 7, 'val': 3}, {'row': 13, 'col': 9, 'val': 8}, {'row': 13, 'col': 10, 'val': 8}, {'row': 13, 'col': 12, 'val': 7}, {'row': 13, 'col': 14, 'val': 8}, {'row': 13, 'col': 15, 'val': 8}, {'row': 13, 'col': 16, 'val': 2}]\n",
      "\n",
      "Train Input 3: [{'row': 0, 'col': 0, 'val': 3}, {'row': 0, 'col': 3, 'val': 7}, {'row': 0, 'col': 4, 'val': 3}, {'row': 0, 'col': 5, 'val': 3}, {'row': 0, 'col': 6, 'val': 3}, {'row': 0, 'col': 7, 'val': 2}, {'row': 0, 'col': 8, 'val': 2}, {'row': 0, 'col': 9, 'val': 3}, {'row': 0, 'col': 10, 'val': 3}, {'row': 0, 'col': 11, 'val': 2}, {'row': 0, 'col': 13, 'val': 2}, {'row': 0, 'col': 14, 'val': 4}, {'row': 0, 'col': 15, 'val': 7}, {'row': 0, 'col': 16, 'val': 2}, {'row': 1, 'col': 1, 'val': 2}, {'row': 1, 'col': 2, 'val': 4}, {'row': 1, 'col': 4, 'val': 2}, {'row': 1, 'col': 6, 'val': 7}, {'row': 1, 'col': 9, 'val': 2}, {'row': 1, 'col': 11, 'val': 3}, {'row': 1, 'col': 12, 'val': 2}, {'row': 1, 'col': 13, 'val': 2}, {'row': 1, 'col': 14, 'val': 2}, {'row': 1, 'col': 15, 'val': 2}, {'row': 1, 'col': 16, 'val': 2}, {'row': 1, 'col': 17, 'val': 7}, {'row': 2, 'col': 0, 'val': 7}, {'row': 2, 'col': 2, 'val': 2}, {'row': 2, 'col': 3, 'val': 3}, {'row': 2, 'col': 5, 'val': 4}, {'row': 2, 'col': 6, 'val': 4}, {'row': 2, 'col': 7, 'val': 7}, {'row': 2, 'col': 8, 'val': 2}, {'row': 2, 'col': 9, 'val': 7}, {'row': 2, 'col': 10, 'val': 7}, {'row': 2, 'col': 12, 'val': 4}, {'row': 2, 'col': 14, 'val': 4}, {'row': 2, 'col': 15, 'val': 3}, {'row': 2, 'col': 17, 'val': 3}, {'row': 3, 'col': 0, 'val': 7}, {'row': 3, 'col': 1, 'val': 3}, {'row': 3, 'col': 3, 'val': 2}, {'row': 3, 'col': 4, 'val': 4}, {'row': 3, 'col': 5, 'val': 3}, {'row': 3, 'col': 6, 'val': 7}, {'row': 3, 'col': 7, 'val': 2}, {'row': 3, 'col': 9, 'val': 2}, {'row': 3, 'col': 11, 'val': 3}, {'row': 3, 'col': 12, 'val': 3}, {'row': 3, 'col': 13, 'val': 2}, {'row': 3, 'col': 14, 'val': 2}, {'row': 3, 'col': 15, 'val': 7}, {'row': 3, 'col': 16, 'val': 4}, {'row': 4, 'col': 1, 'val': 3}, {'row': 4, 'col': 2, 'val': 4}, {'row': 4, 'col': 3, 'val': 3}, {'row': 4, 'col': 4, 'val': 2}, {'row': 4, 'col': 5, 'val': 4}, {'row': 4, 'col': 6, 'val': 3}, {'row': 4, 'col': 7, 'val': 8}, {'row': 4, 'col': 9, 'val': 2}, {'row': 4, 'col': 10, 'val': 3}, {'row': 4, 'col': 11, 'val': 3}, {'row': 4, 'col': 12, 'val': 4}, {'row': 4, 'col': 14, 'val': 3}, {'row': 4, 'col': 16, 'val': 3}, {'row': 5, 'col': 1, 'val': 2}, {'row': 5, 'col': 2, 'val': 2}, {'row': 5, 'col': 4, 'val': 7}, {'row': 5, 'col': 5, 'val': 3}, {'row': 5, 'col': 6, 'val': 8}, {'row': 5, 'col': 7, 'val': 8}, {'row': 5, 'col': 8, 'val': 8}, {'row': 5, 'col': 9, 'val': 4}, {'row': 5, 'col': 10, 'val': 3}, {'row': 5, 'col': 12, 'val': 7}, {'row': 5, 'col': 13, 'val': 3}, {'row': 5, 'col': 14, 'val': 4}, {'row': 5, 'col': 15, 'val': 2}, {'row': 5, 'col': 16, 'val': 2}, {'row': 5, 'col': 17, 'val': 2}, {'row': 6, 'col': 0, 'val': 2}, {'row': 6, 'col': 1, 'val': 3}, {'row': 6, 'col': 2, 'val': 2}, {'row': 6, 'col': 3, 'val': 4}, {'row': 6, 'col': 4, 'val': 7}, {'row': 6, 'col': 6, 'val': 7}, {'row': 6, 'col': 7, 'val': 2}, {'row': 6, 'col': 9, 'val': 4}, {'row': 6, 'col': 14, 'val': 7}, {'row': 6, 'col': 16, 'val': 4}, {'row': 6, 'col': 17, 'val': 7}, {'row': 7, 'col': 0, 'val': 3}, {'row': 7, 'col': 1, 'val': 4}, {'row': 7, 'col': 2, 'val': 7}, {'row': 7, 'col': 3, 'val': 7}, {'row': 7, 'col': 5, 'val': 3}, {'row': 7, 'col': 6, 'val': 2}, {'row': 7, 'col': 9, 'val': 7}, {'row': 7, 'col': 10, 'val': 3}, {'row': 7, 'col': 12, 'val': 2}, {'row': 7, 'col': 13, 'val': 7}, {'row': 7, 'col': 14, 'val': 4}, {'row': 7, 'col': 15, 'val': 2}, {'row': 7, 'col': 17, 'val': 3}, {'row': 8, 'col': 0, 'val': 2}, {'row': 8, 'col': 1, 'val': 3}, {'row': 8, 'col': 3, 'val': 3}, {'row': 8, 'col': 4, 'val': 3}, {'row': 8, 'col': 7, 'val': 2}, {'row': 8, 'col': 8, 'val': 2}, {'row': 8, 'col': 10, 'val': 7}, {'row': 8, 'col': 11, 'val': 7}, {'row': 8, 'col': 12, 'val': 3}, {'row': 8, 'col': 14, 'val': 2}, {'row': 8, 'col': 15, 'val': 2}, {'row': 8, 'col': 16, 'val': 2}, {'row': 8, 'col': 17, 'val': 3}, {'row': 9, 'col': 1, 'val': 3}, {'row': 9, 'col': 2, 'val': 3}, {'row': 9, 'col': 3, 'val': 4}, {'row': 9, 'col': 5, 'val': 3}, {'row': 9, 'col': 8, 'val': 2}, {'row': 9, 'col': 9, 'val': 7}, {'row': 9, 'col': 10, 'val': 3}, {'row': 9, 'col': 14, 'val': 2}, {'row': 9, 'col': 15, 'val': 3}, {'row': 9, 'col': 16, 'val': 7}, {'row': 9, 'col': 17, 'val': 3}, {'row': 10, 'col': 1, 'val': 3}, {'row': 10, 'col': 2, 'val': 4}, {'row': 10, 'col': 3, 'val': 3}, {'row': 10, 'col': 5, 'val': 7}, {'row': 10, 'col': 6, 'val': 2}, {'row': 10, 'col': 8, 'val': 3}, {'row': 10, 'col': 10, 'val': 3}, {'row': 10, 'col': 11, 'val': 3}, {'row': 10, 'col': 13, 'val': 4}, {'row': 10, 'col': 15, 'val': 2}, {'row': 10, 'col': 16, 'val': 3}, {'row': 10, 'col': 17, 'val': 3}, {'row': 11, 'col': 0, 'val': 3}, {'row': 11, 'col': 1, 'val': 2}, {'row': 11, 'col': 3, 'val': 4}, {'row': 11, 'col': 5, 'val': 2}, {'row': 11, 'col': 6, 'val': 7}, {'row': 11, 'col': 7, 'val': 3}, {'row': 11, 'col': 8, 'val': 7}, {'row': 11, 'col': 10, 'val': 3}, {'row': 11, 'col': 11, 'val': 3}, {'row': 11, 'col': 12, 'val': 2}, {'row': 11, 'col': 15, 'val': 2}, {'row': 11, 'col': 16, 'val': 2}, {'row': 11, 'col': 17, 'val': 7}, {'row': 12, 'col': 0, 'val': 2}, {'row': 12, 'col': 1, 'val': 2}, {'row': 12, 'col': 2, 'val': 3}, {'row': 12, 'col': 3, 'val': 3}, {'row': 12, 'col': 4, 'val': 4}, {'row': 12, 'col': 5, 'val': 3}, {'row': 12, 'col': 6, 'val': 7}, {'row': 12, 'col': 7, 'val': 7}, {'row': 12, 'col': 8, 'val': 2}, {'row': 12, 'col': 9, 'val': 2}, {'row': 12, 'col': 10, 'val': 4}, {'row': 12, 'col': 14, 'val': 4}, {'row': 12, 'col': 15, 'val': 2}, {'row': 12, 'col': 16, 'val': 3}, {'row': 12, 'col': 17, 'val': 2}, {'row': 13, 'col': 1, 'val': 2}, {'row': 13, 'col': 3, 'val': 2}, {'row': 13, 'col': 6, 'val': 4}, {'row': 13, 'col': 9, 'val': 3}, {'row': 13, 'col': 10, 'val': 7}, {'row': 13, 'col': 14, 'val': 4}, {'row': 13, 'col': 15, 'val': 3}, {'row': 13, 'col': 16, 'val': 4}, {'row': 13, 'col': 17, 'val': 2}, {'row': 14, 'col': 1, 'val': 4}, {'row': 14, 'col': 2, 'val': 3}, {'row': 14, 'col': 5, 'val': 3}, {'row': 14, 'col': 8, 'val': 7}, {'row': 14, 'col': 12, 'val': 2}, {'row': 14, 'col': 13, 'val': 3}, {'row': 14, 'col': 14, 'val': 3}, {'row': 14, 'col': 15, 'val': 7}, {'row': 14, 'col': 16, 'val': 4}, {'row': 14, 'col': 17, 'val': 3}]\n",
      "Train Output 3: [{'row': 0, 'col': 0, 'val': 3}, {'row': 0, 'col': 3, 'val': 7}, {'row': 0, 'col': 4, 'val': 3}, {'row': 0, 'col': 5, 'val': 3}, {'row': 0, 'col': 6, 'val': 3}, {'row': 0, 'col': 7, 'val': 2}, {'row': 0, 'col': 8, 'val': 2}, {'row': 0, 'col': 9, 'val': 3}, {'row': 0, 'col': 10, 'val': 3}, {'row': 0, 'col': 11, 'val': 2}, {'row': 0, 'col': 13, 'val': 2}, {'row': 0, 'col': 14, 'val': 4}, {'row': 0, 'col': 15, 'val': 7}, {'row': 0, 'col': 16, 'val': 2}, {'row': 1, 'col': 1, 'val': 2}, {'row': 1, 'col': 2, 'val': 4}, {'row': 1, 'col': 4, 'val': 2}, {'row': 1, 'col': 6, 'val': 7}, {'row': 1, 'col': 9, 'val': 2}, {'row': 1, 'col': 11, 'val': 3}, {'row': 1, 'col': 12, 'val': 2}, {'row': 1, 'col': 13, 'val': 2}, {'row': 1, 'col': 14, 'val': 2}, {'row': 1, 'col': 15, 'val': 2}, {'row': 1, 'col': 16, 'val': 2}, {'row': 1, 'col': 17, 'val': 7}, {'row': 2, 'col': 0, 'val': 7}, {'row': 2, 'col': 2, 'val': 2}, {'row': 2, 'col': 3, 'val': 3}, {'row': 2, 'col': 5, 'val': 4}, {'row': 2, 'col': 6, 'val': 4}, {'row': 2, 'col': 7, 'val': 7}, {'row': 2, 'col': 8, 'val': 2}, {'row': 2, 'col': 9, 'val': 7}, {'row': 2, 'col': 10, 'val': 7}, {'row': 2, 'col': 12, 'val': 4}, {'row': 2, 'col': 14, 'val': 4}, {'row': 2, 'col': 15, 'val': 3}, {'row': 2, 'col': 17, 'val': 3}, {'row': 3, 'col': 0, 'val': 7}, {'row': 3, 'col': 1, 'val': 3}, {'row': 3, 'col': 3, 'val': 2}, {'row': 3, 'col': 4, 'val': 4}, {'row': 3, 'col': 5, 'val': 3}, {'row': 3, 'col': 6, 'val': 7}, {'row': 3, 'col': 7, 'val': 2}, {'row': 3, 'col': 9, 'val': 2}, {'row': 3, 'col': 11, 'val': 3}, {'row': 3, 'col': 12, 'val': 3}, {'row': 3, 'col': 13, 'val': 2}, {'row': 3, 'col': 14, 'val': 2}, {'row': 3, 'col': 15, 'val': 7}, {'row': 3, 'col': 16, 'val': 4}, {'row': 4, 'col': 1, 'val': 3}, {'row': 4, 'col': 2, 'val': 4}, {'row': 4, 'col': 3, 'val': 3}, {'row': 4, 'col': 4, 'val': 2}, {'row': 4, 'col': 5, 'val': 4}, {'row': 4, 'col': 6, 'val': 3}, {'row': 4, 'col': 7, 'val': 8}, {'row': 4, 'col': 9, 'val': 2}, {'row': 4, 'col': 10, 'val': 3}, {'row': 4, 'col': 11, 'val': 3}, {'row': 4, 'col': 12, 'val': 4}, {'row': 4, 'col': 14, 'val': 3}, {'row': 4, 'col': 16, 'val': 3}, {'row': 5, 'col': 1, 'val': 2}, {'row': 5, 'col': 2, 'val': 2}, {'row': 5, 'col': 4, 'val': 7}, {'row': 5, 'col': 5, 'val': 3}, {'row': 5, 'col': 6, 'val': 8}, {'row': 5, 'col': 7, 'val': 8}, {'row': 5, 'col': 8, 'val': 8}, {'row': 5, 'col': 9, 'val': 4}, {'row': 5, 'col': 10, 'val': 3}, {'row': 5, 'col': 12, 'val': 7}, {'row': 5, 'col': 13, 'val': 3}, {'row': 5, 'col': 14, 'val': 4}, {'row': 5, 'col': 15, 'val': 2}, {'row': 5, 'col': 16, 'val': 2}, {'row': 5, 'col': 17, 'val': 2}, {'row': 6, 'col': 0, 'val': 2}, {'row': 6, 'col': 1, 'val': 3}, {'row': 6, 'col': 2, 'val': 2}, {'row': 6, 'col': 3, 'val': 4}, {'row': 6, 'col': 4, 'val': 7}, {'row': 6, 'col': 6, 'val': 7}, {'row': 6, 'col': 7, 'val': 2}, {'row': 6, 'col': 9, 'val': 4}, {'row': 6, 'col': 14, 'val': 7}, {'row': 6, 'col': 16, 'val': 4}, {'row': 6, 'col': 17, 'val': 7}, {'row': 7, 'col': 0, 'val': 3}, {'row': 7, 'col': 1, 'val': 4}, {'row': 7, 'col': 2, 'val': 7}, {'row': 7, 'col': 3, 'val': 7}, {'row': 7, 'col': 5, 'val': 3}, {'row': 7, 'col': 6, 'val': 2}, {'row': 7, 'col': 9, 'val': 7}, {'row': 7, 'col': 10, 'val': 3}, {'row': 7, 'col': 12, 'val': 2}, {'row': 7, 'col': 13, 'val': 7}, {'row': 7, 'col': 14, 'val': 4}, {'row': 7, 'col': 15, 'val': 2}, {'row': 7, 'col': 17, 'val': 3}, {'row': 8, 'col': 0, 'val': 2}, {'row': 8, 'col': 1, 'val': 8}, {'row': 8, 'col': 3, 'val': 3}, {'row': 8, 'col': 4, 'val': 3}, {'row': 8, 'col': 7, 'val': 2}, {'row': 8, 'col': 8, 'val': 2}, {'row': 8, 'col': 10, 'val': 7}, {'row': 8, 'col': 11, 'val': 7}, {'row': 8, 'col': 12, 'val': 3}, {'row': 8, 'col': 14, 'val': 2}, {'row': 8, 'col': 15, 'val': 2}, {'row': 8, 'col': 16, 'val': 2}, {'row': 8, 'col': 17, 'val': 3}, {'row': 9, 'col': 1, 'val': 8}, {'row': 9, 'col': 2, 'val': 8}, {'row': 9, 'col': 3, 'val': 4}, {'row': 9, 'col': 5, 'val': 3}, {'row': 9, 'col': 8, 'val': 2}, {'row': 9, 'col': 9, 'val': 7}, {'row': 9, 'col': 10, 'val': 8}, {'row': 9, 'col': 14, 'val': 2}, {'row': 9, 'col': 15, 'val': 3}, {'row': 9, 'col': 16, 'val': 7}, {'row': 9, 'col': 17, 'val': 3}, {'row': 10, 'col': 1, 'val': 8}, {'row': 10, 'col': 2, 'val': 4}, {'row': 10, 'col': 3, 'val': 3}, {'row': 10, 'col': 5, 'val': 7}, {'row': 10, 'col': 6, 'val': 2}, {'row': 10, 'col': 8, 'val': 3}, {'row': 10, 'col': 10, 'val': 8}, {'row': 10, 'col': 11, 'val': 8}, {'row': 10, 'col': 13, 'val': 4}, {'row': 10, 'col': 15, 'val': 2}, {'row': 10, 'col': 16, 'val': 3}, {'row': 10, 'col': 17, 'val': 3}, {'row': 11, 'col': 0, 'val': 3}, {'row': 11, 'col': 1, 'val': 2}, {'row': 11, 'col': 3, 'val': 4}, {'row': 11, 'col': 5, 'val': 2}, {'row': 11, 'col': 6, 'val': 7}, {'row': 11, 'col': 7, 'val': 3}, {'row': 11, 'col': 8, 'val': 7}, {'row': 11, 'col': 10, 'val': 8}, {'row': 11, 'col': 11, 'val': 3}, {'row': 11, 'col': 12, 'val': 2}, {'row': 11, 'col': 15, 'val': 2}, {'row': 11, 'col': 16, 'val': 2}, {'row': 11, 'col': 17, 'val': 7}, {'row': 12, 'col': 0, 'val': 2}, {'row': 12, 'col': 1, 'val': 2}, {'row': 12, 'col': 2, 'val': 3}, {'row': 12, 'col': 3, 'val': 3}, {'row': 12, 'col': 4, 'val': 4}, {'row': 12, 'col': 5, 'val': 3}, {'row': 12, 'col': 6, 'val': 7}, {'row': 12, 'col': 7, 'val': 7}, {'row': 12, 'col': 8, 'val': 2}, {'row': 12, 'col': 9, 'val': 2}, {'row': 12, 'col': 10, 'val': 4}, {'row': 12, 'col': 14, 'val': 4}, {'row': 12, 'col': 15, 'val': 2}, {'row': 12, 'col': 16, 'val': 3}, {'row': 12, 'col': 17, 'val': 2}, {'row': 13, 'col': 1, 'val': 2}, {'row': 13, 'col': 3, 'val': 2}, {'row': 13, 'col': 6, 'val': 4}, {'row': 13, 'col': 9, 'val': 3}, {'row': 13, 'col': 10, 'val': 7}, {'row': 13, 'col': 14, 'val': 4}, {'row': 13, 'col': 15, 'val': 3}, {'row': 13, 'col': 16, 'val': 4}, {'row': 13, 'col': 17, 'val': 2}, {'row': 14, 'col': 1, 'val': 4}, {'row': 14, 'col': 2, 'val': 3}, {'row': 14, 'col': 5, 'val': 3}, {'row': 14, 'col': 8, 'val': 7}, {'row': 14, 'col': 12, 'val': 2}, {'row': 14, 'col': 13, 'val': 3}, {'row': 14, 'col': 14, 'val': 3}, {'row': 14, 'col': 15, 'val': 7}, {'row': 14, 'col': 16, 'val': 4}, {'row': 14, 'col': 17, 'val': 3}]\n",
      "\n",
      "Train Input 4: [{'row': 0, 'col': 0, 'val': 2}, {'row': 0, 'col': 1, 'val': 3}, {'row': 0, 'col': 2, 'val': 2}, {'row': 0, 'col': 3, 'val': 8}, {'row': 0, 'col': 4, 'val': 4}, {'row': 0, 'col': 5, 'val': 4}, {'row': 0, 'col': 7, 'val': 2}, {'row': 0, 'col': 8, 'val': 3}, {'row': 0, 'col': 10, 'val': 2}, {'row': 0, 'col': 11, 'val': 4}, {'row': 0, 'col': 12, 'val': 7}, {'row': 0, 'col': 13, 'val': 7}, {'row': 0, 'col': 14, 'val': 3}, {'row': 0, 'col': 15, 'val': 7}, {'row': 0, 'col': 16, 'val': 3}, {'row': 1, 'col': 0, 'val': 3}, {'row': 1, 'col': 1, 'val': 4}, {'row': 1, 'col': 2, 'val': 8}, {'row': 1, 'col': 3, 'val': 8}, {'row': 1, 'col': 4, 'val': 8}, {'row': 1, 'col': 7, 'val': 2}, {'row': 1, 'col': 9, 'val': 2}, {'row': 1, 'col': 11, 'val': 2}, {'row': 1, 'col': 12, 'val': 7}, {'row': 1, 'col': 13, 'val': 7}, {'row': 1, 'col': 14, 'val': 7}, {'row': 1, 'col': 15, 'val': 3}, {'row': 1, 'col': 16, 'val': 7}, {'row': 2, 'col': 0, 'val': 7}, {'row': 2, 'col': 1, 'val': 3}, {'row': 2, 'col': 3, 'val': 8}, {'row': 2, 'col': 5, 'val': 2}, {'row': 2, 'col': 6, 'val': 2}, {'row': 2, 'col': 8, 'val': 2}, {'row': 2, 'col': 9, 'val': 2}, {'row': 2, 'col': 11, 'val': 7}, {'row': 2, 'col': 12, 'val': 3}, {'row': 2, 'col': 14, 'val': 3}, {'row': 2, 'col': 15, 'val': 3}, {'row': 2, 'col': 16, 'val': 3}, {'row': 3, 'col': 0, 'val': 2}, {'row': 3, 'col': 2, 'val': 2}, {'row': 3, 'col': 4, 'val': 2}, {'row': 3, 'col': 6, 'val': 3}, {'row': 3, 'col': 7, 'val': 2}, {'row': 3, 'col': 9, 'val': 7}, {'row': 3, 'col': 11, 'val': 7}, {'row': 3, 'col': 14, 'val': 2}, {'row': 3, 'col': 15, 'val': 3}, {'row': 4, 'col': 0, 'val': 7}, {'row': 4, 'col': 1, 'val': 7}, {'row': 4, 'col': 2, 'val': 4}, {'row': 4, 'col': 3, 'val': 3}, {'row': 4, 'col': 4, 'val': 7}, {'row': 4, 'col': 5, 'val': 2}, {'row': 4, 'col': 7, 'val': 2}, {'row': 4, 'col': 8, 'val': 3}, {'row': 4, 'col': 10, 'val': 3}, {'row': 4, 'col': 11, 'val': 4}, {'row': 4, 'col': 12, 'val': 7}, {'row': 4, 'col': 13, 'val': 2}, {'row': 4, 'col': 15, 'val': 3}, {'row': 4, 'col': 16, 'val': 7}, {'row': 5, 'col': 0, 'val': 2}, {'row': 5, 'col': 1, 'val': 4}, {'row': 5, 'col': 3, 'val': 7}, {'row': 5, 'col': 6, 'val': 3}, {'row': 5, 'col': 7, 'val': 4}, {'row': 5, 'col': 8, 'val': 4}, {'row': 5, 'col': 10, 'val': 3}, {'row': 5, 'col': 11, 'val': 4}, {'row': 5, 'col': 12, 'val': 4}, {'row': 5, 'col': 13, 'val': 3}, {'row': 5, 'col': 14, 'val': 3}, {'row': 5, 'col': 15, 'val': 4}, {'row': 6, 'col': 0, 'val': 3}, {'row': 6, 'col': 1, 'val': 2}, {'row': 6, 'col': 2, 'val': 7}, {'row': 6, 'col': 3, 'val': 3}, {'row': 6, 'col': 4, 'val': 7}, {'row': 6, 'col': 5, 'val': 3}, {'row': 6, 'col': 6, 'val': 7}, {'row': 6, 'col': 7, 'val': 2}, {'row': 6, 'col': 9, 'val': 2}, {'row': 6, 'col': 10, 'val': 3}, {'row': 6, 'col': 11, 'val': 2}, {'row': 6, 'col': 12, 'val': 3}, {'row': 6, 'col': 13, 'val': 3}, {'row': 6, 'col': 14, 'val': 3}, {'row': 6, 'col': 15, 'val': 4}, {'row': 6, 'col': 16, 'val': 4}, {'row': 7, 'col': 0, 'val': 3}, {'row': 7, 'col': 1, 'val': 7}, {'row': 7, 'col': 2, 'val': 4}, {'row': 7, 'col': 4, 'val': 2}, {'row': 7, 'col': 6, 'val': 2}, {'row': 7, 'col': 8, 'val': 3}, {'row': 7, 'col': 9, 'val': 7}, {'row': 7, 'col': 10, 'val': 2}, {'row': 7, 'col': 11, 'val': 3}, {'row': 7, 'col': 12, 'val': 3}, {'row': 7, 'col': 13, 'val': 3}, {'row': 7, 'col': 14, 'val': 3}, {'row': 7, 'col': 16, 'val': 2}, {'row': 8, 'col': 0, 'val': 3}, {'row': 8, 'col': 1, 'val': 2}, {'row': 8, 'col': 2, 'val': 3}, {'row': 8, 'col': 3, 'val': 2}, {'row': 8, 'col': 5, 'val': 2}, {'row': 8, 'col': 7, 'val': 2}, {'row': 8, 'col': 9, 'val': 7}, {'row': 8, 'col': 10, 'val': 2}, {'row': 8, 'col': 12, 'val': 2}, {'row': 8, 'col': 13, 'val': 4}, {'row': 8, 'col': 14, 'val': 4}, {'row': 8, 'col': 15, 'val': 7}, {'row': 8, 'col': 16, 'val': 3}, {'row': 9, 'col': 0, 'val': 4}, {'row': 9, 'col': 1, 'val': 3}, {'row': 9, 'col': 2, 'val': 4}, {'row': 9, 'col': 3, 'val': 2}, {'row': 9, 'col': 5, 'val': 7}, {'row': 9, 'col': 8, 'val': 7}, {'row': 9, 'col': 13, 'val': 3}, {'row': 9, 'col': 16, 'val': 3}, {'row': 10, 'col': 0, 'val': 2}, {'row': 10, 'col': 1, 'val': 3}, {'row': 10, 'col': 4, 'val': 4}, {'row': 10, 'col': 6, 'val': 2}, {'row': 10, 'col': 8, 'val': 3}, {'row': 10, 'col': 9, 'val': 3}, {'row': 10, 'col': 10, 'val': 2}, {'row': 10, 'col': 12, 'val': 4}, {'row': 10, 'col': 15, 'val': 2}, {'row': 10, 'col': 16, 'val': 2}, {'row': 11, 'col': 0, 'val': 3}, {'row': 11, 'col': 1, 'val': 3}, {'row': 11, 'col': 2, 'val': 4}, {'row': 11, 'col': 3, 'val': 3}, {'row': 11, 'col': 4, 'val': 2}, {'row': 11, 'col': 5, 'val': 7}, {'row': 11, 'col': 6, 'val': 2}, {'row': 11, 'col': 7, 'val': 4}, {'row': 11, 'col': 8, 'val': 3}, {'row': 11, 'col': 10, 'val': 7}, {'row': 11, 'col': 11, 'val': 3}, {'row': 11, 'col': 12, 'val': 3}, {'row': 11, 'col': 13, 'val': 4}, {'row': 11, 'col': 14, 'val': 2}, {'row': 11, 'col': 16, 'val': 3}, {'row': 12, 'col': 0, 'val': 2}, {'row': 12, 'col': 2, 'val': 7}, {'row': 12, 'col': 3, 'val': 7}, {'row': 12, 'col': 5, 'val': 3}, {'row': 12, 'col': 6, 'val': 7}, {'row': 12, 'col': 7, 'val': 4}, {'row': 12, 'col': 8, 'val': 3}, {'row': 12, 'col': 9, 'val': 7}, {'row': 12, 'col': 11, 'val': 2}, {'row': 12, 'col': 13, 'val': 3}, {'row': 12, 'col': 14, 'val': 7}, {'row': 12, 'col': 16, 'val': 2}, {'row': 13, 'col': 0, 'val': 2}, {'row': 13, 'col': 1, 'val': 3}, {'row': 13, 'col': 4, 'val': 2}, {'row': 13, 'col': 5, 'val': 3}, {'row': 13, 'col': 7, 'val': 7}, {'row': 13, 'col': 9, 'val': 7}, {'row': 13, 'col': 10, 'val': 3}, {'row': 13, 'col': 11, 'val': 7}, {'row': 13, 'col': 13, 'val': 4}, {'row': 13, 'col': 15, 'val': 3}, {'row': 13, 'col': 16, 'val': 7}, {'row': 14, 'col': 0, 'val': 2}, {'row': 14, 'col': 2, 'val': 2}, {'row': 14, 'col': 3, 'val': 2}, {'row': 14, 'col': 4, 'val': 7}, {'row': 14, 'col': 5, 'val': 2}, {'row': 14, 'col': 8, 'val': 2}, {'row': 14, 'col': 9, 'val': 2}, {'row': 14, 'col': 10, 'val': 3}, {'row': 14, 'col': 13, 'val': 3}, {'row': 14, 'col': 14, 'val': 7}, {'row': 14, 'col': 16, 'val': 3}, {'row': 15, 'col': 0, 'val': 7}, {'row': 15, 'col': 1, 'val': 2}, {'row': 15, 'col': 2, 'val': 4}, {'row': 15, 'col': 4, 'val': 3}, {'row': 15, 'col': 7, 'val': 2}, {'row': 15, 'col': 8, 'val': 2}, {'row': 15, 'col': 9, 'val': 7}, {'row': 15, 'col': 10, 'val': 4}, {'row': 15, 'col': 13, 'val': 2}, {'row': 15, 'col': 14, 'val': 2}, {'row': 15, 'col': 16, 'val': 4}, {'row': 16, 'col': 2, 'val': 3}, {'row': 16, 'col': 4, 'val': 4}, {'row': 16, 'col': 5, 'val': 4}, {'row': 16, 'col': 6, 'val': 7}, {'row': 16, 'col': 7, 'val': 7}, {'row': 16, 'col': 8, 'val': 4}, {'row': 16, 'col': 9, 'val': 2}, {'row': 16, 'col': 12, 'val': 3}, {'row': 16, 'col': 13, 'val': 7}, {'row': 16, 'col': 15, 'val': 2}, {'row': 17, 'col': 0, 'val': 2}, {'row': 17, 'col': 1, 'val': 3}, {'row': 17, 'col': 2, 'val': 4}, {'row': 17, 'col': 4, 'val': 3}, {'row': 17, 'col': 6, 'val': 3}, {'row': 17, 'col': 7, 'val': 3}, {'row': 17, 'col': 8, 'val': 2}, {'row': 17, 'col': 9, 'val': 3}, {'row': 17, 'col': 10, 'val': 4}, {'row': 17, 'col': 11, 'val': 7}, {'row': 17, 'col': 12, 'val': 7}, {'row': 17, 'col': 14, 'val': 2}, {'row': 17, 'col': 16, 'val': 3}]\n",
      "Train Output 4: [{'row': 0, 'col': 0, 'val': 2}, {'row': 0, 'col': 1, 'val': 3}, {'row': 0, 'col': 2, 'val': 2}, {'row': 0, 'col': 3, 'val': 8}, {'row': 0, 'col': 4, 'val': 4}, {'row': 0, 'col': 5, 'val': 4}, {'row': 0, 'col': 7, 'val': 2}, {'row': 0, 'col': 8, 'val': 3}, {'row': 0, 'col': 10, 'val': 2}, {'row': 0, 'col': 11, 'val': 4}, {'row': 0, 'col': 12, 'val': 7}, {'row': 0, 'col': 13, 'val': 7}, {'row': 0, 'col': 14, 'val': 3}, {'row': 0, 'col': 15, 'val': 7}, {'row': 0, 'col': 16, 'val': 3}, {'row': 1, 'col': 0, 'val': 3}, {'row': 1, 'col': 1, 'val': 4}, {'row': 1, 'col': 2, 'val': 8}, {'row': 1, 'col': 3, 'val': 8}, {'row': 1, 'col': 4, 'val': 8}, {'row': 1, 'col': 7, 'val': 2}, {'row': 1, 'col': 9, 'val': 2}, {'row': 1, 'col': 11, 'val': 2}, {'row': 1, 'col': 12, 'val': 7}, {'row': 1, 'col': 13, 'val': 7}, {'row': 1, 'col': 14, 'val': 7}, {'row': 1, 'col': 15, 'val': 8}, {'row': 1, 'col': 16, 'val': 7}, {'row': 2, 'col': 0, 'val': 7}, {'row': 2, 'col': 1, 'val': 3}, {'row': 2, 'col': 3, 'val': 8}, {'row': 2, 'col': 5, 'val': 2}, {'row': 2, 'col': 6, 'val': 2}, {'row': 2, 'col': 8, 'val': 2}, {'row': 2, 'col': 9, 'val': 2}, {'row': 2, 'col': 11, 'val': 7}, {'row': 2, 'col': 12, 'val': 3}, {'row': 2, 'col': 14, 'val': 8}, {'row': 2, 'col': 15, 'val': 8}, {'row': 2, 'col': 16, 'val': 8}, {'row': 3, 'col': 0, 'val': 2}, {'row': 3, 'col': 2, 'val': 2}, {'row': 3, 'col': 4, 'val': 2}, {'row': 3, 'col': 6, 'val': 3}, {'row': 3, 'col': 7, 'val': 2}, {'row': 3, 'col': 9, 'val': 7}, {'row': 3, 'col': 11, 'val': 7}, {'row': 3, 'col': 14, 'val': 2}, {'row': 3, 'col': 15, 'val': 8}, {'row': 4, 'col': 0, 'val': 7}, {'row': 4, 'col': 1, 'val': 7}, {'row': 4, 'col': 2, 'val': 4}, {'row': 4, 'col': 3, 'val': 3}, {'row': 4, 'col': 4, 'val': 7}, {'row': 4, 'col': 5, 'val': 2}, {'row': 4, 'col': 7, 'val': 2}, {'row': 4, 'col': 8, 'val': 3}, {'row': 4, 'col': 10, 'val': 3}, {'row': 4, 'col': 11, 'val': 4}, {'row': 4, 'col': 12, 'val': 7}, {'row': 4, 'col': 13, 'val': 2}, {'row': 4, 'col': 15, 'val': 3}, {'row': 4, 'col': 16, 'val': 7}, {'row': 5, 'col': 0, 'val': 2}, {'row': 5, 'col': 1, 'val': 4}, {'row': 5, 'col': 3, 'val': 7}, {'row': 5, 'col': 6, 'val': 3}, {'row': 5, 'col': 7, 'val': 4}, {'row': 5, 'col': 8, 'val': 4}, {'row': 5, 'col': 10, 'val': 3}, {'row': 5, 'col': 11, 'val': 4}, {'row': 5, 'col': 12, 'val': 4}, {'row': 5, 'col': 13, 'val': 8}, {'row': 5, 'col': 14, 'val': 3}, {'row': 5, 'col': 15, 'val': 4}, {'row': 6, 'col': 0, 'val': 3}, {'row': 6, 'col': 1, 'val': 2}, {'row': 6, 'col': 2, 'val': 7}, {'row': 6, 'col': 3, 'val': 3}, {'row': 6, 'col': 4, 'val': 7}, {'row': 6, 'col': 5, 'val': 3}, {'row': 6, 'col': 6, 'val': 7}, {'row': 6, 'col': 7, 'val': 2}, {'row': 6, 'col': 9, 'val': 2}, {'row': 6, 'col': 10, 'val': 3}, {'row': 6, 'col': 11, 'val': 2}, {'row': 6, 'col': 12, 'val': 8}, {'row': 6, 'col': 13, 'val': 8}, {'row': 6, 'col': 14, 'val': 8}, {'row': 6, 'col': 15, 'val': 4}, {'row': 6, 'col': 16, 'val': 4}, {'row': 7, 'col': 0, 'val': 3}, {'row': 7, 'col': 1, 'val': 7}, {'row': 7, 'col': 2, 'val': 4}, {'row': 7, 'col': 4, 'val': 2}, {'row': 7, 'col': 6, 'val': 2}, {'row': 7, 'col': 8, 'val': 3}, {'row': 7, 'col': 9, 'val': 7}, {'row': 7, 'col': 10, 'val': 2}, {'row': 7, 'col': 11, 'val': 3}, {'row': 7, 'col': 12, 'val': 3}, {'row': 7, 'col': 13, 'val': 8}, {'row': 7, 'col': 14, 'val': 3}, {'row': 7, 'col': 16, 'val': 2}, {'row': 8, 'col': 0, 'val': 3}, {'row': 8, 'col': 1, 'val': 2}, {'row': 8, 'col': 2, 'val': 3}, {'row': 8, 'col': 3, 'val': 2}, {'row': 8, 'col': 5, 'val': 2}, {'row': 8, 'col': 7, 'val': 2}, {'row': 8, 'col': 9, 'val': 7}, {'row': 8, 'col': 10, 'val': 2}, {'row': 8, 'col': 12, 'val': 2}, {'row': 8, 'col': 13, 'val': 4}, {'row': 8, 'col': 14, 'val': 4}, {'row': 8, 'col': 15, 'val': 7}, {'row': 8, 'col': 16, 'val': 3}, {'row': 9, 'col': 0, 'val': 4}, {'row': 9, 'col': 1, 'val': 3}, {'row': 9, 'col': 2, 'val': 4}, {'row': 9, 'col': 3, 'val': 2}, {'row': 9, 'col': 5, 'val': 7}, {'row': 9, 'col': 8, 'val': 7}, {'row': 9, 'col': 13, 'val': 3}, {'row': 9, 'col': 16, 'val': 3}, {'row': 10, 'col': 0, 'val': 2}, {'row': 10, 'col': 1, 'val': 3}, {'row': 10, 'col': 4, 'val': 4}, {'row': 10, 'col': 6, 'val': 2}, {'row': 10, 'col': 8, 'val': 3}, {'row': 10, 'col': 9, 'val': 3}, {'row': 10, 'col': 10, 'val': 2}, {'row': 10, 'col': 12, 'val': 4}, {'row': 10, 'col': 15, 'val': 2}, {'row': 10, 'col': 16, 'val': 2}, {'row': 11, 'col': 0, 'val': 3}, {'row': 11, 'col': 1, 'val': 3}, {'row': 11, 'col': 2, 'val': 4}, {'row': 11, 'col': 3, 'val': 3}, {'row': 11, 'col': 4, 'val': 2}, {'row': 11, 'col': 5, 'val': 7}, {'row': 11, 'col': 6, 'val': 2}, {'row': 11, 'col': 7, 'val': 4}, {'row': 11, 'col': 8, 'val': 3}, {'row': 11, 'col': 10, 'val': 7}, {'row': 11, 'col': 11, 'val': 3}, {'row': 11, 'col': 12, 'val': 3}, {'row': 11, 'col': 13, 'val': 4}, {'row': 11, 'col': 14, 'val': 2}, {'row': 11, 'col': 16, 'val': 3}, {'row': 12, 'col': 0, 'val': 2}, {'row': 12, 'col': 2, 'val': 7}, {'row': 12, 'col': 3, 'val': 7}, {'row': 12, 'col': 5, 'val': 3}, {'row': 12, 'col': 6, 'val': 7}, {'row': 12, 'col': 7, 'val': 4}, {'row': 12, 'col': 8, 'val': 3}, {'row': 12, 'col': 9, 'val': 7}, {'row': 12, 'col': 11, 'val': 2}, {'row': 12, 'col': 13, 'val': 3}, {'row': 12, 'col': 14, 'val': 7}, {'row': 12, 'col': 16, 'val': 2}, {'row': 13, 'col': 0, 'val': 2}, {'row': 13, 'col': 1, 'val': 3}, {'row': 13, 'col': 4, 'val': 2}, {'row': 13, 'col': 5, 'val': 3}, {'row': 13, 'col': 7, 'val': 7}, {'row': 13, 'col': 9, 'val': 7}, {'row': 13, 'col': 10, 'val': 3}, {'row': 13, 'col': 11, 'val': 7}, {'row': 13, 'col': 13, 'val': 4}, {'row': 13, 'col': 15, 'val': 3}, {'row': 13, 'col': 16, 'val': 7}, {'row': 14, 'col': 0, 'val': 2}, {'row': 14, 'col': 2, 'val': 2}, {'row': 14, 'col': 3, 'val': 2}, {'row': 14, 'col': 4, 'val': 7}, {'row': 14, 'col': 5, 'val': 2}, {'row': 14, 'col': 8, 'val': 2}, {'row': 14, 'col': 9, 'val': 2}, {'row': 14, 'col': 10, 'val': 3}, {'row': 14, 'col': 13, 'val': 3}, {'row': 14, 'col': 14, 'val': 7}, {'row': 14, 'col': 16, 'val': 3}, {'row': 15, 'col': 0, 'val': 7}, {'row': 15, 'col': 1, 'val': 2}, {'row': 15, 'col': 2, 'val': 4}, {'row': 15, 'col': 4, 'val': 3}, {'row': 15, 'col': 7, 'val': 2}, {'row': 15, 'col': 8, 'val': 2}, {'row': 15, 'col': 9, 'val': 7}, {'row': 15, 'col': 10, 'val': 4}, {'row': 15, 'col': 13, 'val': 2}, {'row': 15, 'col': 14, 'val': 2}, {'row': 15, 'col': 16, 'val': 4}, {'row': 16, 'col': 2, 'val': 3}, {'row': 16, 'col': 4, 'val': 4}, {'row': 16, 'col': 5, 'val': 4}, {'row': 16, 'col': 6, 'val': 7}, {'row': 16, 'col': 7, 'val': 7}, {'row': 16, 'col': 8, 'val': 4}, {'row': 16, 'col': 9, 'val': 2}, {'row': 16, 'col': 12, 'val': 3}, {'row': 16, 'col': 13, 'val': 7}, {'row': 16, 'col': 15, 'val': 2}, {'row': 17, 'col': 0, 'val': 2}, {'row': 17, 'col': 1, 'val': 3}, {'row': 17, 'col': 2, 'val': 4}, {'row': 17, 'col': 4, 'val': 3}, {'row': 17, 'col': 6, 'val': 3}, {'row': 17, 'col': 7, 'val': 3}, {'row': 17, 'col': 8, 'val': 2}, {'row': 17, 'col': 9, 'val': 3}, {'row': 17, 'col': 10, 'val': 4}, {'row': 17, 'col': 11, 'val': 7}, {'row': 17, 'col': 12, 'val': 7}, {'row': 17, 'col': 14, 'val': 2}, {'row': 17, 'col': 16, 'val': 3}]\n",
      "\n"
     ]
    }
   ],
   "source": [
    "print(tailored_prompt)"
   ]
  }
 ],
 "metadata": {
  "kernelspec": {
   "display_name": "Python 3",
   "language": "python",
   "name": "python3"
  },
  "language_info": {
   "codemirror_mode": {
    "name": "ipython",
    "version": 3
   },
   "file_extension": ".py",
   "mimetype": "text/x-python",
   "name": "python",
   "nbconvert_exporter": "python",
   "pygments_lexer": "ipython3",
   "version": "3.11.6"
  }
 },
 "nbformat": 4,
 "nbformat_minor": 2
}
