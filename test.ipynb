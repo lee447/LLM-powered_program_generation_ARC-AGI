{
 "cells": [
  {
   "cell_type": "code",
   "execution_count": 9,
   "metadata": {},
   "outputs": [],
   "source": [
    "import matplotlib.pyplot as plt\n",
    "import numpy as np\n",
    "\n",
    "# ARC color mapping (0–9) to RGB\n",
    "ARC_COLORS = {\n",
    "    0: (0, 0, 0),         # black\n",
    "    1: (0, 0, 255),       # blue\n",
    "    2: (255, 0, 0),       # red\n",
    "    3: (0, 255, 0),       # green\n",
    "    4: (255, 255, 0),     # yellow\n",
    "    5: (128, 128, 128),   # grey\n",
    "    6: (255, 192, 203),   # pink\n",
    "    7: (255, 165, 0),     # orange\n",
    "    8: (173, 216, 230),   # light blue\n",
    "    9: (165, 42, 42),     # brown\n",
    "}\n",
    "\n",
    "def visualize_grids(input_grid, expected_output, predicted_output=None, pair_index=0):\n",
    "    def to_rgb_array(grid):\n",
    "        return np.array([[ARC_COLORS[cell] for cell in row] for row in grid], dtype=np.uint8)\n",
    "\n",
    "    fig, axes = plt.subplots(1, 3 if predicted_output else 2, figsize=(9, 3))\n",
    "    fig.suptitle(f\"Train Pair {pair_index + 1}\")\n",
    "\n",
    "    axes[0].imshow(to_rgb_array(input_grid))\n",
    "    axes[0].set_title(\"Input\")\n",
    "    axes[1].imshow(to_rgb_array(expected_output))\n",
    "    axes[1].set_title(\"Expected Output\")\n",
    "\n",
    "    if predicted_output is not None:\n",
    "        axes[2].imshow(to_rgb_array(predicted_output))\n",
    "        axes[2].set_title(\"Predicted Output\")\n",
    "\n",
    "    for ax in axes:\n",
    "        ax.axis(\"off\")\n",
    "\n",
    "    plt.tight_layout()\n",
    "    plt.show()\n"
   ]
  },
  {
   "cell_type": "code",
   "execution_count": null,
   "metadata": {},
   "outputs": [
    {
     "name": "stdout",
     "output_type": "stream",
     "text": [
      "📂 Using task: 0b17323b.json\n",
      "\n",
      "🔍 Evaluating training pairs:\n",
      "✅ Train pair 1: correct\n",
      "Output: [[0, 0, 0, 0, 0, 0, 0, 0, 0, 0, 0, 0, 0, 0, 0], [0, 1, 0, 0, 0, 0, 0, 0, 0, 0, 0, 0, 0, 0, 0], [0, 0, 0, 0, 0, 0, 0, 0, 0, 0, 0, 0, 0, 0, 0], [0, 0, 0, 1, 0, 0, 0, 0, 0, 0, 0, 0, 0, 0, 0], [0, 0, 0, 0, 0, 0, 0, 0, 0, 0, 0, 0, 0, 0, 0], [0, 0, 0, 0, 0, 1, 0, 0, 0, 0, 0, 0, 0, 0, 0], [0, 0, 0, 0, 0, 0, 0, 0, 0, 0, 0, 0, 0, 0, 0], [0, 0, 0, 0, 0, 0, 0, 2, 0, 0, 0, 0, 0, 0, 0], [0, 0, 0, 0, 0, 0, 0, 0, 0, 0, 0, 0, 0, 0, 0], [0, 0, 0, 0, 0, 0, 0, 0, 0, 2, 0, 0, 0, 0, 0], [0, 0, 0, 0, 0, 0, 0, 0, 0, 0, 0, 0, 0, 0, 0], [0, 0, 0, 0, 0, 0, 0, 0, 0, 0, 0, 2, 0, 0, 0], [0, 0, 0, 0, 0, 0, 0, 0, 0, 0, 0, 0, 0, 0, 0], [0, 0, 0, 0, 0, 0, 0, 0, 0, 0, 0, 0, 0, 2, 0], [0, 0, 0, 0, 0, 0, 0, 0, 0, 0, 0, 0, 0, 0, 0]]\n"
     ]
    },
    {
     "data": {
      "image/png": "[encoded data removed]",
      "text/plain": [
       "<Figure size 900x300 with 3 Axes>"
      ]
     },
     "metadata": {},
     "output_type": "display_data"
    },
    {
     "name": "stdout",
     "output_type": "stream",
     "text": [
      "✅ Train pair 2: correct\n",
      "Output: [[1, 0, 0, 0, 0, 0, 0, 0, 0, 0, 0, 0, 0, 0, 0], [0, 0, 0, 0, 0, 0, 0, 0, 0, 0, 0, 0, 0, 0, 0], [0, 0, 0, 0, 0, 0, 0, 0, 0, 0, 0, 0, 0, 0, 0], [0, 0, 0, 0, 0, 0, 0, 0, 0, 0, 0, 0, 0, 0, 0], [0, 0, 0, 0, 1, 0, 0, 0, 0, 0, 0, 0, 0, 0, 0], [0, 0, 0, 0, 0, 0, 0, 0, 0, 0, 0, 0, 0, 0, 0], [0, 0, 0, 0, 0, 0, 0, 0, 0, 0, 0, 0, 0, 0, 0], [0, 0, 0, 0, 0, 0, 0, 0, 0, 0, 0, 0, 0, 0, 0], [0, 0, 0, 0, 0, 0, 0, 0, 1, 0, 0, 0, 0, 0, 0], [0, 0, 0, 0, 0, 0, 0, 0, 0, 0, 0, 0, 0, 0, 0], [0, 0, 0, 0, 0, 0, 0, 0, 0, 0, 0, 0, 0, 0, 0], [0, 0, 0, 0, 0, 0, 0, 0, 0, 0, 0, 0, 0, 0, 0], [0, 0, 0, 0, 0, 0, 0, 0, 0, 0, 0, 0, 2, 0, 0], [0, 0, 0, 0, 0, 0, 0, 0, 0, 0, 0, 0, 0, 0, 0], [0, 0, 0, 0, 0, 0, 0, 0, 0, 0, 0, 0, 0, 0, 0]]\n"
     ]
    },
    {
     "data": {
      "image/png": "[encoded data removed]",
      "text/plain": [
       "<Figure size 900x300 with 3 Axes>"
      ]
     },
     "metadata": {},
     "output_type": "display_data"
    },
    {
     "name": "stdout",
     "output_type": "stream",
     "text": [
      "\n",
      "🔍 Evaluating test pairs:\n",
      "✅ Test pair 1: correct\n",
      "Output: [[1, 0, 0, 0, 0, 0, 0, 0, 0, 0, 0, 0, 0, 0, 0], [0, 0, 0, 0, 0, 0, 0, 0, 0, 0, 0, 0, 0, 0, 0], [0, 0, 0, 0, 0, 0, 0, 0, 0, 0, 0, 0, 0, 0, 0], [0, 0, 0, 1, 0, 0, 0, 0, 0, 0, 0, 0, 0, 0, 0], [0, 0, 0, 0, 0, 0, 0, 0, 0, 0, 0, 0, 0, 0, 0], [0, 0, 0, 0, 0, 0, 0, 0, 0, 0, 0, 0, 0, 0, 0], [0, 0, 0, 0, 0, 0, 1, 0, 0, 0, 0, 0, 0, 0, 0], [0, 0, 0, 0, 0, 0, 0, 0, 0, 0, 0, 0, 0, 0, 0], [0, 0, 0, 0, 0, 0, 0, 0, 0, 0, 0, 0, 0, 0, 0], [0, 0, 0, 0, 0, 0, 0, 0, 0, 2, 0, 0, 0, 0, 0], [0, 0, 0, 0, 0, 0, 0, 0, 0, 0, 0, 0, 0, 0, 0], [0, 0, 0, 0, 0, 0, 0, 0, 0, 0, 0, 0, 0, 0, 0], [0, 0, 0, 0, 0, 0, 0, 0, 0, 0, 0, 0, 2, 0, 0], [0, 0, 0, 0, 0, 0, 0, 0, 0, 0, 0, 0, 0, 0, 0], [0, 0, 0, 0, 0, 0, 0, 0, 0, 0, 0, 0, 0, 0, 0]]\n"
     ]
    },
    {
     "data": {
      "image/png": "[encoded data removed]",
      "text/plain": [
       "<Figure size 900x300 with 3 Axes>"
      ]
     },
     "metadata": {},
     "output_type": "display_data"
    },
    {
     "name": "stdout",
     "output_type": "stream",
     "text": [
      "\n",
      "✅ Train score: 2/2 correct\n",
      "🧪 Test score:  1/1 correct\n"
     ]
    }
   ],
   "source": [
    "import importlib.util\n",
    "import json\n",
    "import os\n",
    "\n",
    "# === 1. Load all task filenames and sort them ===\n",
    "task_folder = \"Evaluation_set\"\n",
    "task_filenames = sorted([f for f in os.listdir(task_folder) if f.endswith(\".json\")])\n",
    "task_index = 0  # Use your chosen task index\n",
    "task_filename = task_filenames[task_index]\n",
    "task_path = os.path.join(task_folder, task_filename)\n",
    "\n",
    "print(f\"📂 Using task: {task_filename}\")\n",
    "\n",
    "# === 2. Load ARC task ===\n",
    "with open(task_path, \"r\") as f:\n",
    "    task_data = json.load(f)\n",
    "\n",
    "# === 3. Load solution from saved file ===\n",
    "solution_path = f\"Candidate_programs/task_{task_index + 1}/solution_v1.py\"\n",
    "spec = importlib.util.spec_from_file_location(\"solution\", solution_path)\n",
    "module = importlib.util.module_from_spec(spec)\n",
    "spec.loader.exec_module(module)\n",
    "solve = module.solve\n",
    "\n",
    "# === 4. Run the function on training pairs ===\n",
    "train_correct = 0\n",
    "train_total = len(task_data[\"train\"])\n",
    "\n",
    "print(\"\\n🔍 Evaluating training pairs:\")\n",
    "for i, pair in enumerate(task_data[\"train\"]):\n",
    "    input_grid = pair[\"input\"]\n",
    "    expected_output = pair[\"output\"]\n",
    "    output = solve(input_grid)\n",
    "\n",
    "    if output == expected_output:\n",
    "        train_correct += 1\n",
    "        print(f\"✅ Train pair {i + 1}: correct\")\n",
    "    else:\n",
    "        print(f\"❌ Train pair {i + 1}: incorrect\")\n",
    "    \n",
    "    visualize_grids(input_grid, expected_output, output, pair_index=i)\n",
    "\n",
    "# === 5. Run the function on test pairs ===\n",
    "test_correct = 0\n",
    "test_total = len(task_data[\"test\"])\n",
    "\n",
    "print(\"\\n🔍 Evaluating test pairs:\")\n",
    "for i, pair in enumerate(task_data[\"test\"]):\n",
    "    input_grid = pair[\"input\"]\n",
    "    expected_output = pair[\"output\"]\n",
    "    output = solve(input_grid)\n",
    "\n",
    "    if output == expected_output:\n",
    "        test_correct += 1\n",
    "        print(f\"✅ Test pair {i + 1}: correct\")\n",
    "    else:\n",
    "        print(f\"❌ Test pair {i + 1}: incorrect\")\n",
    "    \n",
    "    visualize_grids(input_grid, expected_output, output, pair_index=i)\n",
    "\n",
    "# === 6. Print results ===\n",
    "print(f\"\\n✅ Train score: {train_correct}/{train_total} correct\")\n",
    "print(f\"🧪 Test score:  {test_correct}/{test_total} correct\")\n"
   ]
  },
  {
   "cell_type": "code",
   "execution_count": null,
   "metadata": {},
   "outputs": [],
   "source": [
    "import os\n",
    "import json\n",
    "import random\n",
    "\n",
    "# 1. Load and sort task filenames\n",
    "task_folder = \"Evaluation_set\"\n",
    "task_filenames = sorted([f for f in os.listdir(task_folder) if f.endswith(\".json\")])\n",
    "\n",
    "# 2. Pick a random task\n",
    "random_task = random.choice(task_filenames)\n",
    "task_path = os.path.join(task_folder, random_task)\n",
    "\n",
    "# 3. Load the task\n",
    "with open(task_path, \"r\") as f:\n",
    "    task_data = json.load(f)\n",
    "\n",
    "print(f\"🎯 Random task selected: {random_task}\")\n",
    "\n",
    "# 4. Visualize each training pair\n",
    "for i, pair in enumerate(task_data[\"train\"]):\n",
    "    visualize_grids(pair[\"input\"], pair[\"output\"], pair_index=i)\n"
   ]
  },
  {
   "cell_type": "code",
   "execution_count": null,
   "metadata": {},
   "outputs": [],
   "source": [
    "import os\n",
    "\n",
    "# Define task name to look for\n",
    "target_task = \"da2b0fe3.json\"\n",
    "\n",
    "# Load and sort all task filenames\n",
    "task_folder = \"Evaluation_set\"\n",
    "task_filenames = sorted([f for f in os.listdir(task_folder) if f.endswith(\".json\")])\n",
    "\n",
    "# Find index (0-based)\n",
    "if target_task in task_filenames:\n",
    "    index = task_filenames.index(target_task)\n",
    "    print(f\"✅ Task '{target_task}' is at position {index} (0-based), task number {index + 1}.\")\n",
    "else:\n",
    "    print(f\"❌ Task '{target_task}' not found in evaluation set.\")\n"
   ]
  }
 ],
 "metadata": {
  "kernelspec": {
   "display_name": "Python 3",
   "language": "python",
   "name": "python3"
  },
  "language_info": {
   "codemirror_mode": {
    "name": "ipython",
    "version": 3
   },
   "file_extension": ".py",
   "mimetype": "text/x-python",
   "name": "python",
   "nbconvert_exporter": "python",
   "pygments_lexer": "ipython3",
   "version": "3.11.6"
  }
 },
 "nbformat": 4,
 "nbformat_minor": 2
}
