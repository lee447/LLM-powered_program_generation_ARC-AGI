{
 "cells": [
  {
   "cell_type": "markdown",
   "metadata": {},
   "source": [
    "# Pipeline: LLM-powered program generation for solving ARC-AGI"
   ]
  },
  {
   "cell_type": "markdown",
   "metadata": {},
   "source": [
    "## Imports"
   ]
  },
  {
   "cell_type": "code",
   "execution_count": 35,
   "metadata": {},
   "outputs": [],
   "source": [
    "import numpy as np\n",
    "import os\n",
    "import json\n",
    "from dotenv import load_dotenv\n",
    "from openai import OpenAI\n",
    "import ast\n",
    "import re\n",
    "import importlib.util\n",
    "import time"
   ]
  },
  {
   "cell_type": "markdown",
   "metadata": {},
   "source": [
    "## Prompts"
   ]
  },
  {
   "cell_type": "markdown",
   "metadata": {},
   "source": [
    "### Shared Variables"
   ]
  },
  {
   "cell_type": "markdown",
   "metadata": {},
   "source": [
    "The system prompt contains basic information essential for every prompt sent to the LLM"
   ]
  },
  {
   "cell_type": "code",
   "execution_count": 36,
   "metadata": {},
   "outputs": [],
   "source": [
    "system_prompt = \"\"\"\n",
    "You are a visual reasoning and Python programming expert solving ARC-AGI (Abstraction and Reasoning Corpus - Artificial General Intelligence) tasks.\n",
    "\n",
    "Each integer in the grid represents a color:\n",
    "0 = black, 1 = blue, 2 = red, 3 = green, 4 = yellow,\n",
    "5 = grey, 6 = pink, 7 = orange, 8 = light blue, 9 = brown.\n",
    "\"\"\"\n"
   ]
  },
  {
   "cell_type": "markdown",
   "metadata": {},
   "source": [
    "### Base Prompt"
   ]
  },
  {
   "cell_type": "markdown",
   "metadata": {},
   "source": [
    "The following prompt tasks the LLM with program generation"
   ]
  },
  {
   "cell_type": "code",
   "execution_count": 37,
   "metadata": {},
   "outputs": [],
   "source": [
    "base_prompt = \"\"\"\n",
    "Write a Python function that correctly transforms each input grid into its corresponding output grid based on the given examples.\n",
    "\n",
    "- ONLY return code. No explanations or anything other than code.\n",
    "- The function must be named: `solve(grid: List[List[int]]) -> List[List[int]]`\n",
    "- Use only pure Python — do not import or use libraries like NumPy\n",
    "- Do not include comments, explanations, or print statements\n",
    "- Do not hard-code values or specific grid sizes — the function must generalize based on the patterns in the examples\n",
    "- The function must return a plain 2D list of integers with consistent row lengths (List[List[int]])\n",
    "- Do not return arrays, nested arrays, floats, or 3D structures\n",
    "- Ensure your solution works for all provided input-output pairs\n",
    "\"\"\""
   ]
  },
  {
   "cell_type": "code",
   "execution_count": 38,
   "metadata": {},
   "outputs": [
    {
     "name": "stdout",
     "output_type": "stream",
     "text": [
      "\n",
      "Write a Python function that correctly transforms each input grid into its corresponding output grid based on the given examples.\n",
      "\n",
      "- ONLY return code. No explanations or anything other than code.\n",
      "- The function must be named: `solve(grid: List[List[int]]) -> List[List[int]]`\n",
      "- Use only pure Python — do not import or use libraries like NumPy\n",
      "- Do not include comments, explanations, or print statements\n",
      "- Do not hard-code values or specific grid sizes — the function must generalize based on the patterns in the examples\n",
      "- The function must return a plain 2D list of integers with consistent row lengths (List[List[int]])\n",
      "- Do not return arrays, nested arrays, floats, or 3D structures\n",
      "- Ensure your solution works for all provided input-output pairs\n",
      "\n"
     ]
    }
   ],
   "source": [
    "print(base_prompt)"
   ]
  },
  {
   "cell_type": "markdown",
   "metadata": {},
   "source": [
    "### Prompt 1"
   ]
  },
  {
   "cell_type": "markdown",
   "metadata": {},
   "source": [
    "The following prompt tasks the LLM to describe visual observations of the task"
   ]
  },
  {
   "cell_type": "code",
   "execution_count": 39,
   "metadata": {},
   "outputs": [],
   "source": [
    "prompt_1 = \"\"\"\n",
    "List visual observations from the training pairs.\n",
    "\n",
    "- Use bullet points (max 10).\n",
    "- Focus on colors, shapes, object counts, positions, and fixed elements (e.g., anchors, borders, gray blocks).\n",
    "- Mention groupings or repeated patterns if visible.\n",
    "- Avoid reasoning or explanations.\n",
    "- Be concise. No full sentences, no extra formatting.\n",
    "\"\"\""
   ]
  },
  {
   "cell_type": "code",
   "execution_count": 40,
   "metadata": {},
   "outputs": [
    {
     "name": "stdout",
     "output_type": "stream",
     "text": [
      "\n",
      "List visual observations from the training pairs.\n",
      "\n",
      "- Use bullet points (max 10).\n",
      "- Focus on colors, shapes, object counts, positions, and fixed elements (e.g., anchors, borders, gray blocks).\n",
      "- Mention groupings or repeated patterns if visible.\n",
      "- Avoid reasoning or explanations.\n",
      "- Be concise. No full sentences, no extra formatting.\n",
      "\n"
     ]
    }
   ],
   "source": [
    "print(prompt_1)"
   ]
  },
  {
   "cell_type": "markdown",
   "metadata": {},
   "source": [
    "### Prompt 2"
   ]
  },
  {
   "cell_type": "markdown",
   "metadata": {},
   "source": [
    "The following prompt tasks the LLM with describing the tasks underlying transformation"
   ]
  },
  {
   "cell_type": "code",
   "execution_count": 41,
   "metadata": {},
   "outputs": [],
   "source": [
    "prompt_2 = \"\"\"\n",
    "Describe the transformation(s) from input to output grids.\n",
    "\n",
    "- Use 3 to 5 short sentences.\n",
    "- Focus on what changes: movement, color, shape, duplication, stacking, mirroring, etc.\n",
    "- Mention any use of anchors, fixed positions, or reference structures.\n",
    "- If applicable, describe how objects are grouped, reassigned, or reorganized.\n",
    "- Avoid implementation hints or code.\n",
    "\"\"\""
   ]
  },
  {
   "cell_type": "code",
   "execution_count": 42,
   "metadata": {},
   "outputs": [
    {
     "name": "stdout",
     "output_type": "stream",
     "text": [
      "\n",
      "Describe the transformation(s) from input to output grids.\n",
      "\n",
      "- Use 3 to 5 short sentences.\n",
      "- Focus on what changes: movement, color, shape, duplication, stacking, mirroring, etc.\n",
      "- Mention any use of anchors, fixed positions, or reference structures.\n",
      "- If applicable, describe how objects are grouped, reassigned, or reorganized.\n",
      "- Avoid implementation hints or code.\n",
      "\n"
     ]
    }
   ],
   "source": [
    "print(prompt_2)"
   ]
  },
  {
   "cell_type": "markdown",
   "metadata": {},
   "source": [
    "### Prompt 3"
   ]
  },
  {
   "cell_type": "markdown",
   "metadata": {},
   "source": [
    "The following prompt tasks the LLM to reflect a possible implementation of the transformation in Python code"
   ]
  },
  {
   "cell_type": "code",
   "execution_count": 43,
   "metadata": {},
   "outputs": [],
   "source": [
    "prompt_3 = \"\"\"\n",
    "Reflect on how you would solve the task in Python.\n",
    "\n",
    "- Use 3 to 5 sentences.\n",
    "- Describe the main approach, such as identifying anchors, grouping objects, and applying transformations.\n",
    "- Mention steps like scanning for fixed elements, sorting, or aligning data.\n",
    "- Call out any challenges or unclear rules you would need to test for.\n",
    "- Do not return code or pseudocode.\n",
    "\"\"\""
   ]
  },
  {
   "cell_type": "code",
   "execution_count": 44,
   "metadata": {},
   "outputs": [
    {
     "name": "stdout",
     "output_type": "stream",
     "text": [
      "\n",
      "Reflect on how you would solve the task in Python.\n",
      "\n",
      "- Use 3 to 5 sentences.\n",
      "- Describe the main approach, such as identifying anchors, grouping objects, and applying transformations.\n",
      "- Mention steps like scanning for fixed elements, sorting, or aligning data.\n",
      "- Call out any challenges or unclear rules you would need to test for.\n",
      "- Do not return code or pseudocode.\n",
      "\n"
     ]
    }
   ],
   "source": [
    "print(prompt_3)"
   ]
  },
  {
   "cell_type": "markdown",
   "metadata": {},
   "source": [
    "### Prompt 4"
   ]
  },
  {
   "cell_type": "markdown",
   "metadata": {},
   "source": [
    "The following prompt tasks the LLM with revising the Python implementations it created"
   ]
  },
  {
   "cell_type": "code",
   "execution_count": 45,
   "metadata": {},
   "outputs": [],
   "source": [
    "revision_prompt = \"\"\"\n",
    "In the following you'll receive a Python function that attempted to solve the following task. It didn't succeed and you are tasked with fixing it.\n",
    "\n",
    "- The function must be named: `solve(grid: List[List[int]]) -> List[List[int]]`\n",
    "- Include only the code and necessary imports (e.g., `import numpy as np`)\n",
    "- Do not include comments, explanations, or print statements\n",
    "- Do not hard-code values or specific grid sizes — the function must generalize based on the patterns in the examples\n",
    "- Ensure your solution works for all provided input-output pairs\n",
    "\"\"\""
   ]
  },
  {
   "cell_type": "code",
   "execution_count": 46,
   "metadata": {},
   "outputs": [
    {
     "name": "stdout",
     "output_type": "stream",
     "text": [
      "\n",
      "In the following you'll receive a Python function that attempted to solve the following task. It didn't succeed and you are tasked with fixing it.\n",
      "\n",
      "- The function must be named: `solve(grid: List[List[int]]) -> List[List[int]]`\n",
      "- Include only the code and necessary imports (e.g., `import numpy as np`)\n",
      "- Do not include comments, explanations, or print statements\n",
      "- Do not hard-code values or specific grid sizes — the function must generalize based on the patterns in the examples\n",
      "- Ensure your solution works for all provided input-output pairs\n",
      "\n"
     ]
    }
   ],
   "source": [
    "print(revision_prompt)"
   ]
  },
  {
   "cell_type": "markdown",
   "metadata": {},
   "source": [
    "### Classification Prompt"
   ]
  },
  {
   "cell_type": "markdown",
   "metadata": {},
   "source": [
    "The following prompt tasks the LLM to classify the given task to one of the 16 concepts of the ConceptARC dataset"
   ]
  },
  {
   "cell_type": "code",
   "execution_count": 47,
   "metadata": {},
   "outputs": [],
   "source": [
    "# Check manually entering one demonstration pair for each concept\n",
    "classification_prompt = \"\"\"\n",
    "You will receive a set of demonstration pairs (input and output grids) from a visual reasoning task.\n",
    "\n",
    "Your task is to classify the transformation into **one of the following 16 concepts**:\n",
    "\n",
    "- AboveBelow - Objects or patterns are arranged vertically, with relationships defined by what's above or below something else.\n",
    "- Center - Elements are moved to or arranged around the center of the grid.\n",
    "- CleanUp - The task removes noise or extraneous elements to leave a cleaner or more regular structure.\n",
    "- CompleteShape - A partial or broken shape is completed to form a full geometric object.\n",
    "- Copy - A shape or pattern is duplicated, often to another location in the grid.\n",
    "- Count - The number of certain elements is counted to determine placement, output quantity, or transformation.\n",
    "- ExtendToBoundary - Shapes or lines are extended until they touch the edge of the grid.\n",
    "- ExtractObjects - Specific objects are isolated and copied or transformed while others are ignored.\n",
    "- FilledNotFilled - The task distinguishes between filled and hollow shapes or fills in uncolored areas.\n",
    "- HorizontalVertical - Patterns follow or are transformed along horizontal or vertical axes, often involving symmetry or alignment.\n",
    "- InsideOutside - A relationship is determined based on whether elements are inside or outside a defined boundary.\n",
    "- MoveToBoundary - Objects are shifted to the nearest edge of the grid without rotation or change in shape.\n",
    "- Order - Items are rearranged according to size, color, frequency, or another ordinal property.\n",
    "- SameDifferent - Objects are retained or manipulated based on whether they match or differ in some attribute (e.g., color, shape).\n",
    "- TopBottom2D - A flat 2D interpretation of objects where the top and bottom halves of the grid are compared or modified.\n",
    "- TopBottom3D - The task simulates a 3D stacking or layering behavior, such as viewing objects from above or combining vertical slices.\n",
    "\n",
    "Instructions:\n",
    "- Respond ONLY with the exact name of the matching concept from the list above.\n",
    "- Do not explain your answer, just return the concept.\n",
    "- If uncertain, choose the concept that fits best based on the input-output transformations.\n",
    "\"\"\"\n"
   ]
  },
  {
   "cell_type": "code",
   "execution_count": 48,
   "metadata": {},
   "outputs": [
    {
     "name": "stdout",
     "output_type": "stream",
     "text": [
      "\n",
      "You will receive a set of demonstration pairs (input and output grids) from a visual reasoning task.\n",
      "\n",
      "Your task is to classify the transformation into **one of the following 16 concepts**:\n",
      "\n",
      "- AboveBelow - Objects or patterns are arranged vertically, with relationships defined by what's above or below something else.\n",
      "- Center - Elements are moved to or arranged around the center of the grid.\n",
      "- CleanUp - The task removes noise or extraneous elements to leave a cleaner or more regular structure.\n",
      "- CompleteShape - A partial or broken shape is completed to form a full geometric object.\n",
      "- Copy - A shape or pattern is duplicated, often to another location in the grid.\n",
      "- Count - The number of certain elements is counted to determine placement, output quantity, or transformation.\n",
      "- ExtendToBoundary - Shapes or lines are extended until they touch the edge of the grid.\n",
      "- ExtractObjects - Specific objects are isolated and copied or transformed while others are ignored.\n",
      "- FilledNotFilled - The task distinguishes between filled and hollow shapes or fills in uncolored areas.\n",
      "- HorizontalVertical - Patterns follow or are transformed along horizontal or vertical axes, often involving symmetry or alignment.\n",
      "- InsideOutside - A relationship is determined based on whether elements are inside or outside a defined boundary.\n",
      "- MoveToBoundary - Objects are shifted to the nearest edge of the grid without rotation or change in shape.\n",
      "- Order - Items are rearranged according to size, color, frequency, or another ordinal property.\n",
      "- SameDifferent - Objects are retained or manipulated based on whether they match or differ in some attribute (e.g., color, shape).\n",
      "- TopBottom2D - A flat 2D interpretation of objects where the top and bottom halves of the grid are compared or modified.\n",
      "- TopBottom3D - The task simulates a 3D stacking or layering behavior, such as viewing objects from above or combining vertical slices.\n",
      "\n",
      "Instructions:\n",
      "- Respond ONLY with the exact name of the matching concept from the list above.\n",
      "- Do not explain your answer, just return the concept.\n",
      "- If uncertain, choose the concept that fits best based on the input-output transformations.\n",
      "\n"
     ]
    }
   ],
   "source": [
    "print(classification_prompt)"
   ]
  },
  {
   "cell_type": "markdown",
   "metadata": {},
   "source": [
    "## Functions"
   ]
  },
  {
   "cell_type": "markdown",
   "metadata": {},
   "source": [
    "### Load Tasks"
   ]
  },
  {
   "cell_type": "markdown",
   "metadata": {},
   "source": [
    "Loads the tasks from the specified folder"
   ]
  },
  {
   "cell_type": "code",
   "execution_count": 49,
   "metadata": {},
   "outputs": [],
   "source": [
    "def load_tasks(folder):\n",
    "    tasks = []\n",
    "    for filename in sorted(os.listdir(folder)):\n",
    "        if filename.endswith(\".json\"):\n",
    "            with open(os.path.join(folder, filename), \"r\") as f:\n",
    "                data = json.load(f)\n",
    "                tasks.append({\"filename\": filename, \"data\": data})\n",
    "    return tasks"
   ]
  },
  {
   "cell_type": "markdown",
   "metadata": {},
   "source": [
    "### Load API-Key"
   ]
  },
  {
   "cell_type": "markdown",
   "metadata": {},
   "source": [
    "Loads the API-Key from the .env file"
   ]
  },
  {
   "cell_type": "code",
   "execution_count": 50,
   "metadata": {},
   "outputs": [],
   "source": [
    "def load_api_key(file_path=\"key.env\"):\n",
    "    load_dotenv(file_path)\n",
    "    import openai\n",
    "    openai.api_key = os.getenv(\"OPENAI_API_KEY\")\n",
    "    if not openai.api_key:\n",
    "        print(\"No API key found. Please set OPENAI_API_KEY in key.env.\")\n",
    "    global client\n",
    "    client = OpenAI()"
   ]
  },
  {
   "cell_type": "markdown",
   "metadata": {},
   "source": [
    "### Call GPT"
   ]
  },
  {
   "cell_type": "markdown",
   "metadata": {},
   "source": [
    "Used to send requests to the LLM"
   ]
  },
  {
   "cell_type": "code",
   "execution_count": 51,
   "metadata": {},
   "outputs": [],
   "source": [
    "import time\n",
    "import openai\n",
    "\n",
    "def call_gpt(prompt, model=\"o4-mini\", retries=3):\n",
    "    for attempt in range(retries):\n",
    "        try:\n",
    "            response = client.chat.completions.create(\n",
    "                model=model,\n",
    "                messages=[\n",
    "                    {\"role\": \"system\", \"content\": system_prompt},\n",
    "                    {\"role\": \"user\", \"content\": prompt}\n",
    "                ],\n",
    "                # Only for GPT-4o\n",
    "                # temperature=0.0\n",
    "            )\n",
    "            return response.choices[0].message.content.strip()\n",
    "        \n",
    "        except openai.RateLimitError as e:\n",
    "            wait_time = 5 + attempt * 5  # exponential backoff\n",
    "            print(f\"Rate limit hit. Waiting {wait_time} seconds before retrying...\")\n",
    "            time.sleep(wait_time)\n",
    "\n",
    "    raise Exception(\"Rate limit retries exhausted.\")"
   ]
  },
  {
   "cell_type": "markdown",
   "metadata": {},
   "source": [
    "### Concepts"
   ]
  },
  {
   "cell_type": "markdown",
   "metadata": {},
   "source": [
    "#### Load Concepts"
   ]
  },
  {
   "cell_type": "markdown",
   "metadata": {},
   "source": [
    "Checks if there already is a file documenting the assigned concepts for tasks. If yes it loads it, if no it creates an empty dictionary"
   ]
  },
  {
   "cell_type": "code",
   "execution_count": 52,
   "metadata": {},
   "outputs": [],
   "source": [
    "# === Load or initialize task_concepts from persistent JSON ===\n",
    "concept_file = \"classified_concepts.json\"\n",
    "if os.path.exists(concept_file):\n",
    "    with open(concept_file, \"r\") as f:\n",
    "        task_concepts = json.load(f)\n",
    "else:\n",
    "    task_concepts = {}"
   ]
  },
  {
   "cell_type": "markdown",
   "metadata": {},
   "source": [
    "#### Add Concept Example to Prompt"
   ]
  },
  {
   "cell_type": "markdown",
   "metadata": {},
   "source": [
    "Adds the first task of the identified concept form the ConceptARC dataset to the prompt"
   ]
  },
  {
   "cell_type": "code",
   "execution_count": 53,
   "metadata": {},
   "outputs": [],
   "source": [
    "def load_concept_examples(concept_name, base_path=\"ConceptARC_Data\"):\n",
    "    concept_path = os.path.join(base_path, concept_name, \"task.json\")\n",
    "    if not os.path.exists(concept_path):\n",
    "        print(f\"[Warning] No concept task found for '{concept_name}'\")\n",
    "        return \"\"\n",
    "    \n",
    "    with open(concept_path, \"r\") as f:\n",
    "        concept_task = json.load(f)\n",
    "    \n",
    "    # Format the train pairs as in add_tasks\n",
    "    formatted_examples = \"\\n\\nHere are a few examples following the same concept that may help with solving this task. Keep in mind that the identified concept may be faulty:\\n\"\n",
    "    for i, pair in enumerate(concept_task.get(\"train\", [])):\n",
    "        formatted_examples += f\"\\nConcept Train Input {i+1}: {pair['input']}\\n\"\n",
    "        formatted_examples += f\"Concept Train Output {i+1}: {pair['output']}\\n\"\n",
    "    \n",
    "    return formatted_examples\n"
   ]
  },
  {
   "cell_type": "markdown",
   "metadata": {},
   "source": [
    "### Encodings"
   ]
  },
  {
   "cell_type": "markdown",
   "metadata": {},
   "source": [
    "#### Non-zero Cords Encoding"
   ]
  },
  {
   "cell_type": "markdown",
   "metadata": {},
   "source": [
    "Creates encoded variants of the task data"
   ]
  },
  {
   "cell_type": "code",
   "execution_count": 54,
   "metadata": {},
   "outputs": [],
   "source": [
    "def encode_nonzero_coordinates(grid):\n",
    "    coords = []\n",
    "    for i, row in enumerate(grid):\n",
    "        for j, val in enumerate(row):\n",
    "            if val != 0:\n",
    "                coords.append({\"row\": i, \"col\": j, \"val\": val})\n",
    "    return coords\n",
    "\n",
    "def encode_task_nonzero_coords(task):\n",
    "    encoded = {\"train\": [], \"test\": []}\n",
    "\n",
    "    for pair in task[\"train\"]:\n",
    "        encoded[\"train\"].append({\n",
    "            \"input\": encode_nonzero_coordinates(pair[\"input\"]),\n",
    "            \"output\": encode_nonzero_coordinates(pair[\"output\"])\n",
    "        })\n",
    "\n",
    "    for pair in task[\"test\"]:\n",
    "        encoded[\"test\"].append({\n",
    "            \"input\": encode_nonzero_coordinates(pair[\"input\"])\n",
    "        })\n",
    "\n",
    "    return encoded"
   ]
  },
  {
   "cell_type": "markdown",
   "metadata": {},
   "source": [
    "#### Object/Bounding Box Encoding"
   ]
  },
  {
   "cell_type": "markdown",
   "metadata": {},
   "source": [
    "Creates encoded variants of the task data"
   ]
  },
  {
   "cell_type": "code",
   "execution_count": 55,
   "metadata": {},
   "outputs": [],
   "source": [
    "from collections import deque\n",
    "\n",
    "def extract_objects(grid):\n",
    "    visited = set()\n",
    "    objects = []\n",
    "    rows, cols = len(grid), len(grid[0])\n",
    "\n",
    "    def bfs(r, c, color):\n",
    "        q = deque([(r, c)])\n",
    "        visited.add((r, c))\n",
    "        pixels = [(r, c)]\n",
    "        min_r, min_c = r, c\n",
    "        max_r, max_c = r, c\n",
    "\n",
    "        while q:\n",
    "            cr, cc = q.popleft()\n",
    "            for dr, dc in [(-1,0), (1,0), (0,-1), (0,1)]:\n",
    "                nr, nc = cr + dr, cc + dc\n",
    "                if (\n",
    "                    0 <= nr < rows and\n",
    "                    0 <= nc < cols and\n",
    "                    (nr, nc) not in visited and\n",
    "                    grid[nr][nc] == color\n",
    "                ):\n",
    "                    visited.add((nr, nc))\n",
    "                    q.append((nr, nc))\n",
    "                    pixels.append((nr, nc))\n",
    "                    min_r = min(min_r, nr)\n",
    "                    min_c = min(min_c, nc)\n",
    "                    max_r = max(max_r, nr)\n",
    "                    max_c = max(max_c, nc)\n",
    "\n",
    "        return {\n",
    "            \"color\": color,\n",
    "            \"top_left\": [min_r, min_c],\n",
    "            \"width\": max_c - min_c + 1,\n",
    "            \"height\": max_r - min_r + 1,\n",
    "            \"pixels\": pixels\n",
    "        }\n",
    "\n",
    "    for r in range(rows):\n",
    "        for c in range(cols):\n",
    "            color = grid[r][c]\n",
    "            if color != 0 and (r, c) not in visited:\n",
    "                objects.append(bfs(r, c, color))\n",
    "\n",
    "    return objects\n",
    "\n",
    "def encode_task_objects(task):\n",
    "    encoded = {\"train\": [], \"test\": []}\n",
    "\n",
    "    for pair in task[\"train\"]:\n",
    "        encoded[\"train\"].append({\n",
    "            \"input\": extract_objects(pair[\"input\"]),\n",
    "            \"output\": extract_objects(pair[\"output\"])\n",
    "        })\n",
    "\n",
    "    for pair in task[\"test\"]:\n",
    "        encoded[\"test\"].append({\n",
    "            \"input\": extract_objects(pair[\"input\"])\n",
    "        })\n",
    "\n",
    "    return encoded\n"
   ]
  },
  {
   "cell_type": "markdown",
   "metadata": {},
   "source": [
    "#### Add Encoded Task to the Prompt"
   ]
  },
  {
   "cell_type": "markdown",
   "metadata": {},
   "source": [
    "Adds the encoded task data to the prompt including a short description of the encoding"
   ]
  },
  {
   "cell_type": "code",
   "execution_count": 56,
   "metadata": {},
   "outputs": [],
   "source": [
    "def add_encodings(prompt, encoding_dicts):\n",
    "    encoding_explanations = {\n",
    "        \"nonzero_coords\": \"This encoding lists only the non-zero cells as dictionaries containing their row, column, and value.\",\n",
    "        \"object_bbox\": \"This encoding represents each object in the grid as a group of connected same-colored cells, described by color, bounding box, and coordinates.\",\n",
    "    }\n",
    "\n",
    "    for encoding_name, encoding_data in encoding_dicts.items():\n",
    "        explanation = encoding_explanations.get(encoding_name, \"This encoding represents the input in an alternate form.\")\n",
    "        prompt += f\"\\n\\nEncoding used: {encoding_name}\\nExplanation: {explanation}\\n\\nHere are the demonstration pairs (encoded):\\n\"\n",
    "        for i, pair in enumerate(encoding_data[\"train\"]):\n",
    "            prompt += f\"\\nTrain Input {i+1}: {pair['input']}\\n\"\n",
    "            prompt += f\"Train Output {i+1}: {pair['output']}\\n\"\n",
    "    \n",
    "    return prompt\n"
   ]
  },
  {
   "cell_type": "markdown",
   "metadata": {},
   "source": [
    "### Building Task-Tailored Prompt"
   ]
  },
  {
   "cell_type": "markdown",
   "metadata": {},
   "source": [
    "#### Add Tasks to the Prompt"
   ]
  },
  {
   "cell_type": "markdown",
   "metadata": {},
   "source": [
    "Adds the task data to the prompt"
   ]
  },
  {
   "cell_type": "code",
   "execution_count": 57,
   "metadata": {},
   "outputs": [],
   "source": [
    "def add_tasks(prompt, task_data):\n",
    "    full_prompt = prompt.strip() + \"\\n\\nHere are the demonstration pairs (JSON data):\\n\"\n",
    "    for i, pair in enumerate(task_data['train']):\n",
    "        full_prompt += f\"\\nTrain Input {i+1}: {pair['input']}\\n\"\n",
    "        full_prompt += f\"Train Output {i+1}: {pair['output']}\\n\"\n",
    "    return full_prompt"
   ]
  },
  {
   "cell_type": "markdown",
   "metadata": {},
   "source": [
    "#### Different Combination Functions"
   ]
  },
  {
   "cell_type": "markdown",
   "metadata": {},
   "source": [
    "Combines secondary prompt 1 and 2:"
   ]
  },
  {
   "cell_type": "code",
   "execution_count": 58,
   "metadata": {},
   "outputs": [],
   "source": [
    "def combine_prompts_1_and_2(prompt_1_response, prompt_2_template):\n",
    "    combined_prompt = f\"\"\"{prompt_2_template.strip()}\n",
    "\n",
    "Here are visual observations of the task at hand, that may assist you in identifying the transformation:\n",
    "\n",
    "{prompt_1_response.strip()}\n",
    "\n",
    "Now provide your transformation analysis based on these observations.\"\"\"\n",
    "    return combined_prompt"
   ]
  },
  {
   "cell_type": "markdown",
   "metadata": {},
   "source": [
    "Combines secondary prompt 1, 2 and 3:"
   ]
  },
  {
   "cell_type": "code",
   "execution_count": 59,
   "metadata": {},
   "outputs": [],
   "source": [
    "def combine_prompts_1_2_and_3(prompt_1_response, prompt_2_response, prompt_3_template):\n",
    "    combined_prompt = f\"\"\"{prompt_3_template.strip()}\n",
    "\n",
    "Here are visual observations of the task that may help inform your implementation:\n",
    "{prompt_1_response.strip()}\n",
    "\n",
    "Here are the transformation rules that have been identified based on the task:\n",
    "{prompt_2_response.strip()}\n",
    "\n",
    "Now reflect on how you would implement a solution to this task in Python, following the instructions above.\n",
    "\"\"\"\n",
    "    return combined_prompt\n"
   ]
  },
  {
   "cell_type": "markdown",
   "metadata": {},
   "source": [
    "Combines secondary prompt 1-3 with the base prompt"
   ]
  },
  {
   "cell_type": "code",
   "execution_count": 60,
   "metadata": {},
   "outputs": [],
   "source": [
    "def combine_prompts_and_base(prompt_1_response, prompt_2_response, prompt_3_response, prompt_base_template):\n",
    "    combined_prompt = f\"\"\"\n",
    "\n",
    "Here are visual observations of the task that may help inform your implementation:\n",
    "{prompt_1_response.strip()}\n",
    "\n",
    "Here are the transformation rules that have been identified based on the task:\n",
    "{prompt_2_response.strip()}\n",
    "    \n",
    "Here is a reflection on how you might implement a solution to this task in Python:\n",
    "{prompt_3_response.strip()}\n",
    "\n",
    "{prompt_base_template.strip()}\n",
    "\"\"\"\n",
    "    return combined_prompt.strip()"
   ]
  },
  {
   "cell_type": "markdown",
   "metadata": {},
   "source": [
    "#### Creation of Task-Tailored Prompt"
   ]
  },
  {
   "cell_type": "markdown",
   "metadata": {},
   "source": [
    "The following code creates Prompts 1-3 as well as the classification prompt and adds the LLMs responses to the task-tailored prompt (including encoding, task data, etc.). The result is a complete task-tailored prompt including:\n",
    "\n",
    "- Visual observations.\n",
    "- Transformation description.\n",
    "- Python implementation reflection.\n",
    "- Classification and examples of Concept.\n",
    "- Additional encoding."
   ]
  },
  {
   "cell_type": "code",
   "execution_count": 61,
   "metadata": {},
   "outputs": [],
   "source": [
    "task_concepts = {}\n",
    "\n",
    "def build_prompts(task_data, task_id):\n",
    "    global task_concepts \n",
    "\n",
    "    # Create encodings\n",
    "    encoding_dicts = {\n",
    "        \"nonzero_coords\": encode_task_nonzero_coords(task_data),\n",
    "    }\n",
    "    \n",
    "    # Build prompt 1\n",
    "    full_prompt_1 = add_tasks(prompt_1, task_data)\n",
    "    full_prompt_1 = add_encodings(full_prompt_1, encoding_dicts)\n",
    "    response_1 = call_gpt(full_prompt_1)\n",
    "\n",
    "    # Build prompt 2\n",
    "    combined_prompt_2 = combine_prompts_1_and_2(response_1, prompt_2)\n",
    "    full_prompt_2 = add_tasks(combined_prompt_2, task_data)\n",
    "    full_prompt_2 = add_encodings(full_prompt_2, encoding_dicts)\n",
    "    response_2 = call_gpt(full_prompt_2)\n",
    "    print(\"=\"*50)\n",
    "    print(full_prompt_2)\n",
    "\n",
    "    # Build prompt 3\n",
    "    combined_prompt_3 = combine_prompts_1_2_and_3(response_1, response_2, prompt_3)\n",
    "    full_prompt_3 = add_tasks(combined_prompt_3, task_data)\n",
    "    full_prompt_3 = add_encodings(full_prompt_3, encoding_dicts)\n",
    "    response_3 = call_gpt(full_prompt_3)\n",
    "    print(\"=\"*50)\n",
    "    print(full_prompt_3)\n",
    "\n",
    "    # Classification step\n",
    "    if task_id in task_concepts:\n",
    "        predicted_concept = task_concepts[task_id]\n",
    "    else:\n",
    "        classification_full_prompt = add_tasks(classification_prompt, task_data)\n",
    "        classification_full_prompt = add_encodings(classification_full_prompt, encoding_dicts)\n",
    "        predicted_concept = call_gpt(classification_full_prompt).strip()\n",
    "\n",
    "        # Save to file without deleting existing entries\n",
    "        task_concepts[task_id] = predicted_concept\n",
    "        with open(concept_file, \"r\") as f:\n",
    "            all_concepts = json.load(f) if os.path.getsize(concept_file) > 0 else {}\n",
    "        all_concepts.update(task_concepts)\n",
    "        with open(concept_file, \"w\") as f:\n",
    "            json.dump(all_concepts, f, indent=2)\n",
    "        task_concepts = all_concepts\n",
    "\n",
    "    concept_instruction = load_concept_examples(predicted_concept)\n",
    "\n",
    "    # Build final tailored prompt\n",
    "    combined_prompt_base = combine_prompts_and_base(response_1, response_2, response_3, base_prompt)\n",
    "    tailored_prompt = add_tasks(combined_prompt_base, task_data)\n",
    "    tailored_prompt = add_encodings(tailored_prompt, encoding_dicts)\n",
    "    tailored_prompt += f\"\\n\\nThis task involves the concept: **{predicted_concept}**.\"\n",
    "    tailored_prompt += concept_instruction\n",
    "\n",
    "    print(\"Built tailored prompt.\")\n",
    "\n",
    "    return tailored_prompt"
   ]
  },
  {
   "cell_type": "markdown",
   "metadata": {},
   "source": [
    "### Save Programs"
   ]
  },
  {
   "cell_type": "markdown",
   "metadata": {},
   "source": [
    "The following function saves the generated programs in the specified folder using the tasks name. Additionally the LLMs response is cleaned ensuring only runnable Python code is saved."
   ]
  },
  {
   "cell_type": "code",
   "execution_count": 62,
   "metadata": {},
   "outputs": [],
   "source": [
    "def save_program(program_text, actual_task_id, suffix=\"\"):\n",
    "    # Folder definition\n",
    "    base_folder = \"Candidate_programs_tailored_prompts_full_test\"\n",
    "    task_folder = os.path.join(base_folder, actual_task_id)\n",
    "    \n",
    "    os.makedirs(task_folder, exist_ok=True)\n",
    "\n",
    "    # Clean the LLMs response (e.g. remove ```python or ``` if present)\n",
    "    cleaned_text = re.sub(r\"^```(?:python)?\\s*|```$\", \"\", program_text.strip(), flags=re.MULTILINE)\n",
    "\n",
    "    # Determine the next version number for program naming\n",
    "    existing_files = os.listdir(task_folder)\n",
    "    version_numbers = [\n",
    "        int(re.search(r\"solution_v(\\d+)\", fname).group(1))\n",
    "        for fname in existing_files\n",
    "        if re.match(r\"solution_v\\d+\", fname)\n",
    "    ]\n",
    "    next_version = max(version_numbers, default=0) + 1\n",
    "    \n",
    "    # Define the full path to the new Python file and save it\n",
    "    file_path = os.path.join(task_folder, f\"solution_v{next_version}{suffix}.py\")\n",
    "    with open(file_path, \"w\", encoding=\"utf-8\") as f:\n",
    "        f.write(cleaned_text.strip())\n",
    "\n",
    "    print(f\"Saved program for task {actual_task_id} as version {next_version}{suffix}: {file_path}\")\n"
   ]
  },
  {
   "cell_type": "markdown",
   "metadata": {},
   "source": [
    "### Create Programs"
   ]
  },
  {
   "cell_type": "markdown",
   "metadata": {},
   "source": [
    "The following function passes the prompt for program creation to the LLM for n amount of times and saves the response"
   ]
  },
  {
   "cell_type": "code",
   "execution_count": 63,
   "metadata": {},
   "outputs": [],
   "source": [
    "def create_programs(tailored_prompt, actual_task_id, amount):\n",
    "    # Create two programs (change range for n programs)\n",
    "    for i in range(amount):  # You can adjust the range to create more programs\n",
    "        response = call_gpt(tailored_prompt)\n",
    "        \n",
    "        # Save the generated program\n",
    "        save_program(response, actual_task_id)"
   ]
  },
  {
   "cell_type": "markdown",
   "metadata": {},
   "source": [
    "### Evaluate Programs"
   ]
  },
  {
   "cell_type": "markdown",
   "metadata": {},
   "source": [
    "Loads and executes a Python program from a specified file path"
   ]
  },
  {
   "cell_type": "code",
   "execution_count": 64,
   "metadata": {},
   "outputs": [],
   "source": [
    "def load_program(file_path):\n",
    "    \"\"\"Load and execute a Python program from a file.\"\"\"\n",
    "    spec = importlib.util.spec_from_file_location(\"program\", file_path)\n",
    "    program = importlib.util.module_from_spec(spec)\n",
    "    spec.loader.exec_module(program)\n",
    "    return program.solve\n"
   ]
  },
  {
   "cell_type": "markdown",
   "metadata": {},
   "source": [
    "Checks if the program is valid Python code"
   ]
  },
  {
   "cell_type": "code",
   "execution_count": 65,
   "metadata": {},
   "outputs": [],
   "source": [
    "def is_valid_python_code(filepath):\n",
    "    \"\"\"Check if the Python file contains valid syntax.\"\"\"\n",
    "    try:\n",
    "        with open(filepath, \"r\", encoding=\"utf-8\") as f:\n",
    "            source = f.read()\n",
    "        ast.parse(source)\n",
    "        return True\n",
    "    except SyntaxError:\n",
    "        return False\n"
   ]
  },
  {
   "cell_type": "markdown",
   "metadata": {},
   "source": [
    "The following function runs the evaluation of the generated programs. This includes:\n",
    "\n",
    "- Checking if the program is valid Python code and deleting it if it isn't. \n",
    "- Checking if there are any valid programs among the generated ones (if there aren't at least two valid programs, more will be created until there are at least two [correctness of programs doesn't matter only execution])\n",
    "- Comparing the generated outputs with the correct outputs.\n",
    "- Calculating a score for each program.\n",
    "\n",
    "The score is defined by the amount of correct transformations / the total amount of demonstration pairs of a task. This score is used to determine whether a program should be revised later on (score < 1)"
   ]
  },
  {
   "cell_type": "code",
   "execution_count": 66,
   "metadata": {},
   "outputs": [],
   "source": [
    "def evaluate_programs(task_data, task_folder):\n",
    "    \"\"\"Evaluate programs and collect detailed candidate outputs for each demonstration pair.\"\"\"\n",
    "    programs = []\n",
    "    program_files = [f for f in os.listdir(task_folder) if f.endswith(\".py\")]\n",
    "\n",
    "    # Track whether any valid programs exist\n",
    "    any_valid = False\n",
    "\n",
    "    for program_file in program_files:\n",
    "        program_path = os.path.join(task_folder, program_file)\n",
    "\n",
    "        # Check if the program is valid Python code if not delete it\n",
    "        if not is_valid_python_code(program_path):\n",
    "            print(f\"Deleting invalid file: {program_file}\")\n",
    "            os.remove(program_path)\n",
    "            continue\n",
    "\n",
    "        try:\n",
    "            solve_function = load_program(program_path)\n",
    "        except Exception as e:\n",
    "            print(f\"Error loading program {program_file}: {e}\")\n",
    "            os.remove(program_path)\n",
    "            continue\n",
    "\n",
    "        # Set to true if at least one valid program is found\n",
    "        any_valid = True\n",
    "\n",
    "        details = []\n",
    "        correct_count = 0\n",
    "        total_pairs = len(task_data['train'])\n",
    "\n",
    "        # Evaluate programs against the training pairs\n",
    "        for pair in task_data['train']:\n",
    "            input_grid = pair['input']\n",
    "            expected_output = pair['output']\n",
    "            try:\n",
    "                candidate_output = solve_function(input_grid)\n",
    "                if np.array_equal(np.array(candidate_output), np.array(expected_output)):\n",
    "                    correct_count += 1\n",
    "            except Exception as e:\n",
    "                candidate_output = f\"Error: {e}\"\n",
    "            details.append({\n",
    "                \"input\": input_grid,\n",
    "                \"candidate_output\": candidate_output,\n",
    "                \"expected_output\": expected_output\n",
    "            })\n",
    "\n",
    "        # Calculate the score and store the results\n",
    "        score = correct_count / total_pairs if total_pairs > 0 else 0\n",
    "        programs.append({\n",
    "            \"program_name\": program_file,\n",
    "            \"score\": score,\n",
    "            \"correct_pairs\": correct_count,\n",
    "            \"total_pairs\": total_pairs,\n",
    "            \"details\": details\n",
    "        })\n",
    "\n",
    "    return programs if any_valid else 0"
   ]
  },
  {
   "cell_type": "markdown",
   "metadata": {},
   "source": [
    "### Creation of Revision Prompt and Revised Programs"
   ]
  },
  {
   "cell_type": "markdown",
   "metadata": {},
   "source": [
    "The following function builds the revision prompt including the following:\n",
    "\n",
    "- Generated Python code.\n",
    "- Task demonstration pairs.\n",
    "- Generated output.\n",
    "\n",
    "The prompt is used to task the LLM with creating a new program based on the revision. The program is then saved."
   ]
  },
  {
   "cell_type": "code",
   "execution_count": 67,
   "metadata": {},
   "outputs": [],
   "source": [
    "def revise_candidate_program(candidate_file_path, task_data, actual_task_id):\n",
    "    # Load candidate code from the specified file path\n",
    "    with open(candidate_file_path, \"r\", encoding=\"utf-8\") as f:\n",
    "        candidate_code_text = f.read()\n",
    "\n",
    "    try:\n",
    "        solve_fn = load_program(candidate_file_path)\n",
    "    except Exception as e:\n",
    "        print(f\"Error loading program for revision: {e}\")\n",
    "        return\n",
    "\n",
    "    ### BUILD THE REVISION PROMPT ###\n",
    "    \n",
    "    # Add the candidate code to the revision prompt\n",
    "    local_revision_prompt = revision_prompt + \"\\n\\nHere is the generated code:\\n\" + candidate_code_text + \"\\n\\nDemonstration Pairs:\\n\"\n",
    "\n",
    "    # Add the demonstration pairs as well as the generated output to the revision prompt\n",
    "    for i, pair in enumerate(task_data['train']):\n",
    "        try:\n",
    "            candidate_output = solve_fn(pair['input'])\n",
    "        except Exception as e:\n",
    "            candidate_output = f\"Error: {e}\"\n",
    "        local_revision_prompt += f\"{i+1}. Input: {pair['input']}\\n\"\n",
    "        local_revision_prompt += f\"   Expected Output: {pair['output']}\\n\"\n",
    "        local_revision_prompt += f\"   Generated Output: {candidate_output}\\n\"\n",
    "\n",
    "    local_revision_prompt += \"\\nPlease revise the code.\"\n",
    "    \n",
    "    print(\"=\"*50)\n",
    "    print(local_revision_prompt)\n",
    "    print(\"=\"*50)\n",
    "\n",
    "    # Call the LLM to revise the code\n",
    "    revised_code = call_gpt(local_revision_prompt)\n",
    "\n",
    "    # Determine the revision level (e.g. _rev1, _rev2) for the filename\n",
    "    task_folder = os.path.join(\"Candidate_programs_tailored_prompts_full_test\", actual_task_id)\n",
    "    base_name = os.path.basename(candidate_file_path)\n",
    "    base_version_match = re.search(r\"solution_v(\\d+)\", base_name)\n",
    "    base_version = base_version_match.group(1) if base_version_match else \"1\"\n",
    "\n",
    "    existing_files = os.listdir(task_folder)\n",
    "    revision_count = len([\n",
    "        f for f in existing_files\n",
    "        if re.match(rf\"solution_v{base_version}_rev\\d+\\.py\", f)\n",
    "    ])\n",
    "    suffix = f\"_rev{revision_count + 1}\"\n",
    "\n",
    "    # Save revised program\n",
    "    save_program(revised_code, actual_task_id, suffix=suffix)\n"
   ]
  },
  {
   "cell_type": "markdown",
   "metadata": {},
   "source": [
    "### Generation of Predictions on Test Inputs"
   ]
  },
  {
   "cell_type": "markdown",
   "metadata": {},
   "source": [
    "#### Identification of Best Programs"
   ]
  },
  {
   "cell_type": "markdown",
   "metadata": {},
   "source": [
    "Selects the two best performing programs based on their score (= performance on the demonstration pairs). If scores are equal over multiple programs the first few programs will be picked (e.g. if all are 0 then solution_v1 and solution_v2 will be picked)."
   ]
  },
  {
   "cell_type": "code",
   "execution_count": 68,
   "metadata": {},
   "outputs": [],
   "source": [
    "def get_best_programs(evaluation_results, actual_task_id, n=2):\n",
    "    \"\"\"\n",
    "    Evaluates programs for a given task and returns the file paths for the top n programs based on demonstration pairs.\n",
    "    Always returns exactly n programs by sorting by score in descending order.\n",
    "    \"\"\"\n",
    "    sorted_programs = sorted(evaluation_results, key=lambda x: x['score'], reverse=True)\n",
    "    task_folder = os.path.join(\"Candidate_programs_tailored_prompts_full_test\", actual_task_id)\n",
    "    best_program_files = [os.path.join(task_folder, prog['program_name']) for prog in sorted_programs[:n]]\n",
    "    for i in best_program_files:\n",
    "        print(f\"Best program: {i}\")\n",
    "    return best_program_files\n",
    "\n"
   ]
  },
  {
   "cell_type": "markdown",
   "metadata": {},
   "source": [
    "#### Creation of Predictions on Test Inputs"
   ]
  },
  {
   "cell_type": "markdown",
   "metadata": {},
   "source": [
    "The following function loads the two best performing programs to create predictions in the test inputs of the task. The resulting outputs are saved in a submission dictionary to be appended to the submission.json file later on."
   ]
  },
  {
   "cell_type": "code",
   "execution_count": 69,
   "metadata": {},
   "outputs": [],
   "source": [
    "def generate_test_predictions(task_data, actual_task_id, best_program_files):\n",
    "    \"\"\"\n",
    "    Loads the two best candidate programs from the specified file paths,\n",
    "    runs each one on every test input, and saves the generated outputs\n",
    "    in the submission file.\n",
    "    \n",
    "    Returns a submission dictionary of the form:\n",
    "    { actual_task_id: [ { \"attempt_1\": output_from_program1, \"attempt_2\": output_from_program2 }, ... ] }\n",
    "    \"\"\"\n",
    "    # Load the candidate solvers using the file paths\n",
    "    best_solvers = [load_program(prog_file) for prog_file in best_program_files]\n",
    "    \n",
    "    predictions = []\n",
    "    # Iterate over each test pair and generate predictions using the best solvers\n",
    "    for i, pair in enumerate(task_data[\"test\"]):\n",
    "        input_grid = pair[\"input\"]\n",
    "        attempt_predictions = {}\n",
    "        for idx, solver in enumerate(best_solvers, start=1):\n",
    "            try:\n",
    "                output = solver(input_grid)\n",
    "            except Exception as e:\n",
    "                output = f\"Error: {e}\"\n",
    "            attempt_predictions[f\"attempt_{idx}\"] = output\n",
    "        predictions.append(attempt_predictions)\n",
    "    \n",
    "    # Save the predictions in the submission format\n",
    "    submission = {str(actual_task_id): predictions}\n",
    "    \n",
    "    return submission\n"
   ]
  },
  {
   "cell_type": "markdown",
   "metadata": {},
   "source": [
    "## Pipeline"
   ]
  },
  {
   "cell_type": "markdown",
   "metadata": {},
   "source": [
    "The following is the flow of the Pipeline. All the above functions and prompts are used and work together to create predictions for test inputs. The predictions are saved in a submission.json file for calculating the accuracies."
   ]
  },
  {
   "cell_type": "code",
   "execution_count": 70,
   "metadata": {},
   "outputs": [
    {
     "name": "stdout",
     "output_type": "stream",
     "text": [
      "==================================================\n",
      "Describe the transformation(s) from input to output grids.\n",
      "\n",
      "- Use 3 to 5 short sentences.\n",
      "- Focus on what changes: movement, color, shape, duplication, stacking, mirroring, etc.\n",
      "- Mention any use of anchors, fixed positions, or reference structures.\n",
      "- If applicable, describe how objects are grouped, reassigned, or reorganized.\n",
      "- Avoid implementation hints or code.\n",
      "\n",
      "Here are visual observations of the task at hand, that may assist you in identifying the transformation:\n",
      "\n",
      "- 0-black background over 23×22  \n",
      "- pink (6) horizontal stripes at rows 1, 8, 15 in two segments (cols 2–7 & 10–15)  \n",
      "- light-blue (8) + green (3) 4×4 squares at cols 2–7 & 10–15 repeated in rows 2–5, 8–12, 16–19  \n",
      "- single green (3) pixels scattered outside main clusters (anchors)  \n",
      "- in train 2, light-blue (8) stripes at rows 5 & 11 in same col segments  \n",
      "- train 2 repeating 1-1-2-3-3 pixel sequences in rows 1–4, 7–10, 13–14 across cols 1–5, 7–11, 13–17  \n",
      "- in train 3, red (2) + green (3) 4×4 blocks at cols 1–5, 7–10, 13–16 in rows 1–4, 7–10, 13–16  \n",
      "- single green (3) anchors at col 21 and scattered edge positions in train 3  \n",
      "- clusters always at fixed column offsets (two segment alignment)  \n",
      "- outputs preserve only the repeating block clusters; background & scattered anchors absent\n",
      "\n",
      "Now provide your transformation analysis based on these observations.\n",
      "\n",
      "Here are the demonstration pairs (JSON data):\n",
      "\n",
      "Train Input 1: [[0, 0, 0, 0, 0, 0, 0, 0, 0, 0, 3, 0, 0, 0, 0, 3, 0, 0, 0, 0, 0, 0], [0, 0, 6, 6, 6, 6, 6, 6, 0, 0, 6, 6, 6, 6, 3, 6, 0, 0, 0, 0, 0, 0], [0, 0, 8, 8, 3, 3, 8, 8, 0, 0, 8, 3, 3, 3, 8, 8, 0, 0, 0, 0, 0, 0], [0, 0, 8, 8, 3, 3, 8, 8, 0, 0, 8, 8, 3, 3, 8, 8, 0, 0, 3, 0, 0, 0], [0, 3, 8, 8, 3, 3, 8, 8, 0, 0, 8, 8, 3, 3, 8, 3, 0, 0, 0, 3, 0, 0], [0, 3, 8, 8, 3, 3, 8, 8, 0, 0, 8, 8, 3, 3, 8, 8, 3, 0, 0, 0, 0, 0], [0, 0, 0, 0, 0, 0, 0, 0, 0, 0, 3, 0, 0, 0, 0, 0, 0, 0, 0, 0, 0, 0], [0, 3, 0, 0, 0, 3, 0, 0, 0, 0, 0, 0, 0, 0, 0, 0, 0, 0, 0, 0, 0, 0], [0, 0, 6, 6, 6, 6, 6, 6, 0, 0, 6, 6, 3, 6, 6, 6, 0, 0, 0, 0, 0, 0], [0, 0, 8, 8, 3, 3, 8, 8, 0, 0, 3, 8, 3, 3, 8, 3, 0, 3, 0, 0, 0, 3], [0, 0, 8, 8, 3, 3, 3, 8, 0, 0, 3, 8, 3, 3, 8, 8, 0, 0, 0, 0, 0, 0], [0, 0, 8, 8, 3, 3, 8, 8, 0, 0, 8, 3, 3, 3, 3, 8, 0, 0, 0, 0, 0, 0], [3, 3, 8, 8, 3, 3, 8, 8, 0, 0, 8, 8, 3, 3, 8, 8, 0, 0, 0, 0, 0, 0], [0, 0, 0, 0, 0, 0, 0, 0, 0, 0, 0, 0, 0, 3, 0, 0, 0, 0, 3, 0, 0, 0], [0, 0, 0, 0, 0, 0, 0, 0, 0, 3, 0, 0, 3, 0, 0, 0, 0, 0, 0, 0, 0, 0], [0, 0, 6, 6, 3, 6, 6, 6, 0, 3, 6, 6, 6, 3, 6, 6, 0, 0, 0, 0, 0, 0], [0, 0, 8, 8, 3, 3, 8, 8, 0, 0, 8, 8, 3, 3, 8, 8, 0, 0, 0, 0, 3, 0], [0, 0, 8, 3, 3, 3, 8, 8, 0, 0, 8, 8, 3, 3, 8, 8, 0, 0, 0, 0, 0, 0], [0, 0, 8, 8, 3, 3, 8, 8, 0, 0, 8, 8, 3, 3, 8, 8, 0, 0, 0, 0, 0, 0], [0, 0, 8, 8, 3, 3, 8, 8, 0, 0, 8, 8, 3, 3, 8, 8, 0, 0, 0, 0, 0, 0], [0, 0, 0, 0, 0, 0, 3, 3, 0, 0, 0, 0, 0, 0, 0, 0, 0, 0, 0, 0, 0, 0], [0, 0, 0, 0, 0, 0, 0, 0, 0, 3, 0, 0, 3, 0, 0, 0, 3, 0, 0, 0, 0, 0], [0, 0, 0, 0, 0, 0, 0, 3, 0, 0, 0, 0, 0, 0, 0, 0, 0, 0, 0, 0, 0, 0]]\n",
      "Train Output 1: [[0, 0, 0, 0, 0, 0, 0, 0, 0, 0, 0, 0, 0, 0, 0, 0, 0, 0, 0, 0, 0, 0], [0, 0, 6, 6, 6, 6, 6, 6, 0, 0, 6, 6, 6, 6, 6, 6, 0, 0, 0, 0, 0, 0], [0, 0, 8, 8, 3, 3, 8, 8, 0, 0, 8, 8, 3, 3, 8, 8, 0, 0, 0, 0, 0, 0], [0, 0, 8, 8, 3, 3, 8, 8, 0, 0, 8, 8, 3, 3, 8, 8, 0, 0, 0, 0, 0, 0], [0, 0, 8, 8, 3, 3, 8, 8, 0, 0, 8, 8, 3, 3, 8, 8, 0, 0, 0, 0, 0, 0], [0, 0, 8, 8, 3, 3, 8, 8, 0, 0, 8, 8, 3, 3, 8, 8, 0, 0, 0, 0, 0, 0], [0, 0, 0, 0, 0, 0, 0, 0, 0, 0, 0, 0, 0, 0, 0, 0, 0, 0, 0, 0, 0, 0], [0, 0, 0, 0, 0, 0, 0, 0, 0, 0, 0, 0, 0, 0, 0, 0, 0, 0, 0, 0, 0, 0], [0, 0, 6, 6, 6, 6, 6, 6, 0, 0, 6, 6, 6, 6, 6, 6, 0, 0, 0, 0, 0, 0], [0, 0, 8, 8, 3, 3, 8, 8, 0, 0, 8, 8, 3, 3, 8, 8, 0, 0, 0, 0, 0, 0], [0, 0, 8, 8, 3, 3, 8, 8, 0, 0, 8, 8, 3, 3, 8, 8, 0, 0, 0, 0, 0, 0], [0, 0, 8, 8, 3, 3, 8, 8, 0, 0, 8, 8, 3, 3, 8, 8, 0, 0, 0, 0, 0, 0], [0, 0, 8, 8, 3, 3, 8, 8, 0, 0, 8, 8, 3, 3, 8, 8, 0, 0, 0, 0, 0, 0], [0, 0, 0, 0, 0, 0, 0, 0, 0, 0, 0, 0, 0, 0, 0, 0, 0, 0, 0, 0, 0, 0], [0, 0, 0, 0, 0, 0, 0, 0, 0, 0, 0, 0, 0, 0, 0, 0, 0, 0, 0, 0, 0, 0], [0, 0, 6, 6, 6, 6, 6, 6, 0, 0, 6, 6, 6, 6, 6, 6, 0, 0, 0, 0, 0, 0], [0, 0, 8, 8, 3, 3, 8, 8, 0, 0, 8, 8, 3, 3, 8, 8, 0, 0, 0, 0, 0, 0], [0, 0, 8, 8, 3, 3, 8, 8, 0, 0, 8, 8, 3, 3, 8, 8, 0, 0, 0, 0, 0, 0], [0, 0, 8, 8, 3, 3, 8, 8, 0, 0, 8, 8, 3, 3, 8, 8, 0, 0, 0, 0, 0, 0], [0, 0, 8, 8, 3, 3, 8, 8, 0, 0, 8, 8, 3, 3, 8, 8, 0, 0, 0, 0, 0, 0], [0, 0, 0, 0, 0, 0, 0, 0, 0, 0, 0, 0, 0, 0, 0, 0, 0, 0, 0, 0, 0, 0], [0, 0, 0, 0, 0, 0, 0, 0, 0, 0, 0, 0, 0, 0, 0, 0, 0, 0, 0, 0, 0, 0], [0, 0, 0, 0, 0, 0, 0, 0, 0, 0, 0, 0, 0, 0, 0, 0, 0, 0, 0, 0, 0, 0]]\n",
      "\n",
      "Train Input 2: [[0, 3, 0, 0, 0, 3, 3, 0, 0, 0, 0, 3, 0, 0, 0, 0, 0, 0, 0, 0, 0, 0], [0, 1, 1, 2, 3, 3, 0, 1, 1, 2, 3, 3, 1, 1, 1, 2, 3, 3, 0, 3, 0, 0], [0, 1, 1, 3, 3, 3, 0, 1, 1, 2, 3, 3, 0, 1, 1, 2, 3, 3, 3, 0, 3, 0], [0, 1, 1, 2, 3, 3, 0, 1, 1, 2, 3, 3, 0, 1, 1, 1, 3, 3, 0, 0, 0, 3], [0, 1, 3, 3, 3, 1, 0, 1, 1, 2, 3, 3, 0, 1, 1, 2, 3, 3, 0, 0, 0, 0], [0, 8, 8, 8, 8, 8, 0, 8, 8, 8, 8, 8, 0, 8, 8, 8, 8, 8, 0, 0, 0, 0], [0, 0, 0, 0, 0, 0, 0, 0, 0, 0, 0, 0, 0, 0, 0, 0, 0, 0, 0, 0, 0, 0], [0, 3, 1, 3, 3, 3, 0, 3, 1, 2, 3, 3, 0, 1, 1, 2, 3, 3, 0, 0, 3, 0], [0, 1, 1, 2, 3, 3, 0, 1, 1, 2, 3, 3, 0, 1, 1, 2, 3, 3, 0, 0, 0, 0], [0, 1, 1, 2, 3, 3, 0, 1, 3, 2, 1, 3, 0, 1, 1, 2, 3, 3, 0, 0, 0, 0], [1, 1, 1, 2, 3, 3, 0, 1, 1, 2, 3, 3, 3, 1, 3, 2, 3, 3, 0, 0, 0, 0], [0, 8, 1, 8, 8, 3, 0, 8, 8, 8, 8, 8, 0, 1, 8, 8, 8, 8, 0, 0, 0, 0], [0, 0, 0, 1, 0, 0, 0, 0, 0, 0, 0, 0, 0, 0, 0, 0, 0, 0, 0, 3, 3, 0], [0, 1, 1, 2, 3, 3, 0, 1, 1, 2, 3, 3, 0, 1, 1, 2, 3, 3, 0, 0, 3, 0], [0, 1, 1, 3, 3, 3, 0, 1, 1, 2, 3, 3, 0, 1, 1, 2, 3, 3, 0, 0, 0, 0], [0, 1, 1, 2, 3, 3, 0, 1, 1, 1, 3, 3, 0, 1, 1, 2, 3, 1, 0, 0, 0, 0], [1, 1, 1, 2, 3, 3, 0, 1, 1, 2, 3, 1, 0, 1, 1, 2, 3, 3, 0, 0, 0, 0], [3, 8, 8, 8, 3, 3, 1, 8, 8, 8, 8, 8, 0, 8, 8, 8, 8, 8, 0, 0, 1, 0], [0, 1, 0, 0, 0, 0, 0, 0, 0, 0, 0, 0, 0, 0, 0, 0, 0, 0, 0, 0, 0, 0], [0, 3, 3, 0, 3, 0, 3, 0, 1, 1, 0, 3, 0, 0, 0, 0, 0, 0, 0, 0, 0, 1], [0, 0, 3, 0, 0, 1, 0, 0, 0, 0, 0, 3, 0, 0, 0, 0, 0, 0, 0, 0, 0, 0]]\n",
      "Train Output 2: [[0, 0, 0, 0, 0, 0, 0, 0, 0, 0, 0, 0, 0, 0, 0, 0, 0, 0, 0, 0, 0, 0], [0, 1, 1, 2, 3, 3, 0, 1, 1, 2, 3, 3, 0, 1, 1, 2, 3, 3, 0, 0, 0, 0], [0, 1, 1, 2, 3, 3, 0, 1, 1, 2, 3, 3, 0, 1, 1, 2, 3, 3, 0, 0, 0, 0], [0, 1, 1, 2, 3, 3, 0, 1, 1, 2, 3, 3, 0, 1, 1, 2, 3, 3, 0, 0, 0, 0], [0, 1, 1, 2, 3, 3, 0, 1, 1, 2, 3, 3, 0, 1, 1, 2, 3, 3, 0, 0, 0, 0], [0, 8, 8, 8, 8, 8, 0, 8, 8, 8, 8, 8, 0, 8, 8, 8, 8, 8, 0, 0, 0, 0], [0, 0, 0, 0, 0, 0, 0, 0, 0, 0, 0, 0, 0, 0, 0, 0, 0, 0, 0, 0, 0, 0], [0, 1, 1, 2, 3, 3, 0, 1, 1, 2, 3, 3, 0, 1, 1, 2, 3, 3, 0, 0, 0, 0], [0, 1, 1, 2, 3, 3, 0, 1, 1, 2, 3, 3, 0, 1, 1, 2, 3, 3, 0, 0, 0, 0], [0, 1, 1, 2, 3, 3, 0, 1, 1, 2, 3, 3, 0, 1, 1, 2, 3, 3, 0, 0, 0, 0], [0, 1, 1, 2, 3, 3, 0, 1, 1, 2, 3, 3, 0, 1, 1, 2, 3, 3, 0, 0, 0, 0], [0, 8, 8, 8, 8, 8, 0, 8, 8, 8, 8, 8, 0, 8, 8, 8, 8, 8, 0, 0, 0, 0], [0, 0, 0, 0, 0, 0, 0, 0, 0, 0, 0, 0, 0, 0, 0, 0, 0, 0, 0, 0, 0, 0], [0, 1, 1, 2, 3, 3, 0, 1, 1, 2, 3, 3, 0, 1, 1, 2, 3, 3, 0, 0, 0, 0], [0, 1, 1, 2, 3, 3, 0, 1, 1, 2, 3, 3, 0, 1, 1, 2, 3, 3, 0, 0, 0, 0], [0, 1, 1, 2, 3, 3, 0, 1, 1, 2, 3, 3, 0, 1, 1, 2, 3, 3, 0, 0, 0, 0], [0, 1, 1, 2, 3, 3, 0, 1, 1, 2, 3, 3, 0, 1, 1, 2, 3, 3, 0, 0, 0, 0], [0, 8, 8, 8, 8, 8, 0, 8, 8, 8, 8, 8, 0, 8, 8, 8, 8, 8, 0, 0, 0, 0], [0, 0, 0, 0, 0, 0, 0, 0, 0, 0, 0, 0, 0, 0, 0, 0, 0, 0, 0, 0, 0, 0], [0, 0, 0, 0, 0, 0, 0, 0, 0, 0, 0, 0, 0, 0, 0, 0, 0, 0, 0, 0, 0, 0], [0, 0, 0, 0, 0, 0, 0, 0, 0, 0, 0, 0, 0, 0, 0, 0, 0, 0, 0, 0, 0, 0]]\n",
      "\n",
      "Train Input 3: [[0, 0, 0, 0, 0, 0, 0, 0, 0, 0, 0, 0, 0, 0, 0, 0, 0, 0, 0, 0, 0, 3], [0, 2, 2, 2, 2, 2, 0, 2, 2, 2, 2, 0, 0, 2, 2, 2, 2, 0, 0, 0, 0, 3], [0, 3, 2, 2, 3, 0, 0, 3, 2, 2, 3, 0, 3, 3, 2, 2, 3, 0, 0, 3, 0, 0], [0, 2, 3, 3, 3, 0, 0, 3, 3, 3, 3, 0, 0, 3, 3, 3, 3, 0, 0, 0, 0, 0], [0, 2, 3, 1, 3, 0, 0, 2, 2, 1, 2, 0, 0, 3, 1, 1, 3, 0, 0, 0, 0, 0], [0, 0, 0, 0, 0, 0, 0, 0, 0, 0, 0, 2, 0, 0, 0, 0, 0, 0, 2, 0, 0, 0], [0, 0, 0, 2, 0, 0, 0, 0, 0, 0, 0, 0, 0, 0, 0, 0, 0, 0, 0, 3, 0, 0], [0, 2, 2, 2, 2, 3, 0, 2, 2, 2, 2, 0, 0, 2, 2, 2, 2, 2, 0, 0, 0, 0], [0, 3, 2, 2, 3, 0, 0, 3, 2, 2, 3, 0, 3, 3, 2, 2, 3, 2, 0, 0, 0, 0], [0, 3, 3, 3, 3, 0, 0, 3, 3, 3, 3, 0, 0, 3, 3, 3, 3, 0, 0, 0, 0, 0], [0, 3, 3, 1, 3, 0, 0, 3, 1, 1, 3, 0, 0, 3, 1, 1, 3, 0, 0, 0, 0, 0], [0, 0, 0, 0, 0, 0, 0, 0, 0, 0, 0, 0, 0, 0, 0, 0, 0, 0, 0, 0, 0, 0], [0, 0, 0, 0, 0, 0, 0, 0, 0, 0, 0, 0, 0, 3, 0, 0, 0, 0, 0, 0, 0, 0], [0, 2, 2, 2, 2, 0, 0, 3, 2, 3, 2, 0, 0, 2, 3, 2, 2, 0, 0, 0, 0, 0], [0, 3, 2, 2, 3, 0, 0, 3, 2, 3, 3, 0, 0, 3, 2, 3, 3, 0, 0, 0, 0, 0], [3, 3, 3, 3, 3, 0, 0, 3, 3, 3, 3, 0, 0, 3, 2, 3, 3, 0, 0, 2, 0, 0], [0, 3, 1, 1, 3, 0, 3, 3, 1, 1, 3, 0, 0, 3, 1, 1, 3, 0, 0, 0, 0, 0], [0, 2, 0, 0, 3, 0, 0, 0, 0, 0, 0, 0, 0, 0, 0, 0, 0, 0, 0, 0, 0, 0], [0, 0, 0, 0, 0, 0, 3, 0, 2, 0, 0, 0, 0, 0, 0, 0, 0, 0, 0, 0, 0, 0], [0, 2, 0, 0, 0, 0, 2, 0, 0, 3, 0, 0, 0, 0, 0, 0, 0, 0, 0, 0, 0, 0], [0, 0, 0, 0, 0, 0, 0, 0, 0, 0, 2, 2, 0, 0, 0, 0, 0, 0, 0, 2, 0, 0], [0, 0, 0, 3, 0, 0, 2, 0, 2, 0, 0, 0, 0, 0, 0, 0, 0, 0, 0, 0, 0, 0]]\n",
      "Train Output 3: [[0, 0, 0, 0, 0, 0, 0, 0, 0, 0, 0, 0, 0, 0, 0, 0, 0, 0, 0, 0, 0, 0], [0, 2, 2, 2, 2, 0, 0, 2, 2, 2, 2, 0, 0, 2, 2, 2, 2, 0, 0, 0, 0, 0], [0, 3, 2, 2, 3, 0, 0, 3, 2, 2, 3, 0, 0, 3, 2, 2, 3, 0, 0, 0, 0, 0], [0, 3, 3, 3, 3, 0, 0, 3, 3, 3, 3, 0, 0, 3, 3, 3, 3, 0, 0, 0, 0, 0], [0, 3, 1, 1, 3, 0, 0, 3, 1, 1, 3, 0, 0, 3, 1, 1, 3, 0, 0, 0, 0, 0], [0, 0, 0, 0, 0, 0, 0, 0, 0, 0, 0, 0, 0, 0, 0, 0, 0, 0, 0, 0, 0, 0], [0, 0, 0, 0, 0, 0, 0, 0, 0, 0, 0, 0, 0, 0, 0, 0, 0, 0, 0, 0, 0, 0], [0, 2, 2, 2, 2, 0, 0, 2, 2, 2, 2, 0, 0, 2, 2, 2, 2, 0, 0, 0, 0, 0], [0, 3, 2, 2, 3, 0, 0, 3, 2, 2, 3, 0, 0, 3, 2, 2, 3, 0, 0, 0, 0, 0], [0, 3, 3, 3, 3, 0, 0, 3, 3, 3, 3, 0, 0, 3, 3, 3, 3, 0, 0, 0, 0, 0], [0, 3, 1, 1, 3, 0, 0, 3, 1, 1, 3, 0, 0, 3, 1, 1, 3, 0, 0, 0, 0, 0], [0, 0, 0, 0, 0, 0, 0, 0, 0, 0, 0, 0, 0, 0, 0, 0, 0, 0, 0, 0, 0, 0], [0, 0, 0, 0, 0, 0, 0, 0, 0, 0, 0, 0, 0, 0, 0, 0, 0, 0, 0, 0, 0, 0], [0, 2, 2, 2, 2, 0, 0, 2, 2, 2, 2, 0, 0, 2, 2, 2, 2, 0, 0, 0, 0, 0], [0, 3, 2, 2, 3, 0, 0, 3, 2, 2, 3, 0, 0, 3, 2, 2, 3, 0, 0, 0, 0, 0], [0, 3, 3, 3, 3, 0, 0, 3, 3, 3, 3, 0, 0, 3, 3, 3, 3, 0, 0, 0, 0, 0], [0, 3, 1, 1, 3, 0, 0, 3, 1, 1, 3, 0, 0, 3, 1, 1, 3, 0, 0, 0, 0, 0], [0, 0, 0, 0, 0, 0, 0, 0, 0, 0, 0, 0, 0, 0, 0, 0, 0, 0, 0, 0, 0, 0], [0, 0, 0, 0, 0, 0, 0, 0, 0, 0, 0, 0, 0, 0, 0, 0, 0, 0, 0, 0, 0, 0], [0, 0, 0, 0, 0, 0, 0, 0, 0, 0, 0, 0, 0, 0, 0, 0, 0, 0, 0, 0, 0, 0], [0, 0, 0, 0, 0, 0, 0, 0, 0, 0, 0, 0, 0, 0, 0, 0, 0, 0, 0, 0, 0, 0], [0, 0, 0, 0, 0, 0, 0, 0, 0, 0, 0, 0, 0, 0, 0, 0, 0, 0, 0, 0, 0, 0]]\n",
      "\n",
      "\n",
      "Encoding used: nonzero_coords\n",
      "Explanation: This encoding lists only the non-zero cells as dictionaries containing their row, column, and value.\n",
      "\n",
      "Here are the demonstration pairs (encoded):\n",
      "\n",
      "Train Input 1: [{'row': 0, 'col': 10, 'val': 3}, {'row': 0, 'col': 15, 'val': 3}, {'row': 1, 'col': 2, 'val': 6}, {'row': 1, 'col': 3, 'val': 6}, {'row': 1, 'col': 4, 'val': 6}, {'row': 1, 'col': 5, 'val': 6}, {'row': 1, 'col': 6, 'val': 6}, {'row': 1, 'col': 7, 'val': 6}, {'row': 1, 'col': 10, 'val': 6}, {'row': 1, 'col': 11, 'val': 6}, {'row': 1, 'col': 12, 'val': 6}, {'row': 1, 'col': 13, 'val': 6}, {'row': 1, 'col': 14, 'val': 3}, {'row': 1, 'col': 15, 'val': 6}, {'row': 2, 'col': 2, 'val': 8}, {'row': 2, 'col': 3, 'val': 8}, {'row': 2, 'col': 4, 'val': 3}, {'row': 2, 'col': 5, 'val': 3}, {'row': 2, 'col': 6, 'val': 8}, {'row': 2, 'col': 7, 'val': 8}, {'row': 2, 'col': 10, 'val': 8}, {'row': 2, 'col': 11, 'val': 3}, {'row': 2, 'col': 12, 'val': 3}, {'row': 2, 'col': 13, 'val': 3}, {'row': 2, 'col': 14, 'val': 8}, {'row': 2, 'col': 15, 'val': 8}, {'row': 3, 'col': 2, 'val': 8}, {'row': 3, 'col': 3, 'val': 8}, {'row': 3, 'col': 4, 'val': 3}, {'row': 3, 'col': 5, 'val': 3}, {'row': 3, 'col': 6, 'val': 8}, {'row': 3, 'col': 7, 'val': 8}, {'row': 3, 'col': 10, 'val': 8}, {'row': 3, 'col': 11, 'val': 8}, {'row': 3, 'col': 12, 'val': 3}, {'row': 3, 'col': 13, 'val': 3}, {'row': 3, 'col': 14, 'val': 8}, {'row': 3, 'col': 15, 'val': 8}, {'row': 3, 'col': 18, 'val': 3}, {'row': 4, 'col': 1, 'val': 3}, {'row': 4, 'col': 2, 'val': 8}, {'row': 4, 'col': 3, 'val': 8}, {'row': 4, 'col': 4, 'val': 3}, {'row': 4, 'col': 5, 'val': 3}, {'row': 4, 'col': 6, 'val': 8}, {'row': 4, 'col': 7, 'val': 8}, {'row': 4, 'col': 10, 'val': 8}, {'row': 4, 'col': 11, 'val': 8}, {'row': 4, 'col': 12, 'val': 3}, {'row': 4, 'col': 13, 'val': 3}, {'row': 4, 'col': 14, 'val': 8}, {'row': 4, 'col': 15, 'val': 3}, {'row': 4, 'col': 19, 'val': 3}, {'row': 5, 'col': 1, 'val': 3}, {'row': 5, 'col': 2, 'val': 8}, {'row': 5, 'col': 3, 'val': 8}, {'row': 5, 'col': 4, 'val': 3}, {'row': 5, 'col': 5, 'val': 3}, {'row': 5, 'col': 6, 'val': 8}, {'row': 5, 'col': 7, 'val': 8}, {'row': 5, 'col': 10, 'val': 8}, {'row': 5, 'col': 11, 'val': 8}, {'row': 5, 'col': 12, 'val': 3}, {'row': 5, 'col': 13, 'val': 3}, {'row': 5, 'col': 14, 'val': 8}, {'row': 5, 'col': 15, 'val': 8}, {'row': 5, 'col': 16, 'val': 3}, {'row': 6, 'col': 10, 'val': 3}, {'row': 7, 'col': 1, 'val': 3}, {'row': 7, 'col': 5, 'val': 3}, {'row': 8, 'col': 2, 'val': 6}, {'row': 8, 'col': 3, 'val': 6}, {'row': 8, 'col': 4, 'val': 6}, {'row': 8, 'col': 5, 'val': 6}, {'row': 8, 'col': 6, 'val': 6}, {'row': 8, 'col': 7, 'val': 6}, {'row': 8, 'col': 10, 'val': 6}, {'row': 8, 'col': 11, 'val': 6}, {'row': 8, 'col': 12, 'val': 3}, {'row': 8, 'col': 13, 'val': 6}, {'row': 8, 'col': 14, 'val': 6}, {'row': 8, 'col': 15, 'val': 6}, {'row': 9, 'col': 2, 'val': 8}, {'row': 9, 'col': 3, 'val': 8}, {'row': 9, 'col': 4, 'val': 3}, {'row': 9, 'col': 5, 'val': 3}, {'row': 9, 'col': 6, 'val': 8}, {'row': 9, 'col': 7, 'val': 8}, {'row': 9, 'col': 10, 'val': 3}, {'row': 9, 'col': 11, 'val': 8}, {'row': 9, 'col': 12, 'val': 3}, {'row': 9, 'col': 13, 'val': 3}, {'row': 9, 'col': 14, 'val': 8}, {'row': 9, 'col': 15, 'val': 3}, {'row': 9, 'col': 17, 'val': 3}, {'row': 9, 'col': 21, 'val': 3}, {'row': 10, 'col': 2, 'val': 8}, {'row': 10, 'col': 3, 'val': 8}, {'row': 10, 'col': 4, 'val': 3}, {'row': 10, 'col': 5, 'val': 3}, {'row': 10, 'col': 6, 'val': 3}, {'row': 10, 'col': 7, 'val': 8}, {'row': 10, 'col': 10, 'val': 3}, {'row': 10, 'col': 11, 'val': 8}, {'row': 10, 'col': 12, 'val': 3}, {'row': 10, 'col': 13, 'val': 3}, {'row': 10, 'col': 14, 'val': 8}, {'row': 10, 'col': 15, 'val': 8}, {'row': 11, 'col': 2, 'val': 8}, {'row': 11, 'col': 3, 'val': 8}, {'row': 11, 'col': 4, 'val': 3}, {'row': 11, 'col': 5, 'val': 3}, {'row': 11, 'col': 6, 'val': 8}, {'row': 11, 'col': 7, 'val': 8}, {'row': 11, 'col': 10, 'val': 8}, {'row': 11, 'col': 11, 'val': 3}, {'row': 11, 'col': 12, 'val': 3}, {'row': 11, 'col': 13, 'val': 3}, {'row': 11, 'col': 14, 'val': 3}, {'row': 11, 'col': 15, 'val': 8}, {'row': 12, 'col': 0, 'val': 3}, {'row': 12, 'col': 1, 'val': 3}, {'row': 12, 'col': 2, 'val': 8}, {'row': 12, 'col': 3, 'val': 8}, {'row': 12, 'col': 4, 'val': 3}, {'row': 12, 'col': 5, 'val': 3}, {'row': 12, 'col': 6, 'val': 8}, {'row': 12, 'col': 7, 'val': 8}, {'row': 12, 'col': 10, 'val': 8}, {'row': 12, 'col': 11, 'val': 8}, {'row': 12, 'col': 12, 'val': 3}, {'row': 12, 'col': 13, 'val': 3}, {'row': 12, 'col': 14, 'val': 8}, {'row': 12, 'col': 15, 'val': 8}, {'row': 13, 'col': 13, 'val': 3}, {'row': 13, 'col': 18, 'val': 3}, {'row': 14, 'col': 9, 'val': 3}, {'row': 14, 'col': 12, 'val': 3}, {'row': 15, 'col': 2, 'val': 6}, {'row': 15, 'col': 3, 'val': 6}, {'row': 15, 'col': 4, 'val': 3}, {'row': 15, 'col': 5, 'val': 6}, {'row': 15, 'col': 6, 'val': 6}, {'row': 15, 'col': 7, 'val': 6}, {'row': 15, 'col': 9, 'val': 3}, {'row': 15, 'col': 10, 'val': 6}, {'row': 15, 'col': 11, 'val': 6}, {'row': 15, 'col': 12, 'val': 6}, {'row': 15, 'col': 13, 'val': 3}, {'row': 15, 'col': 14, 'val': 6}, {'row': 15, 'col': 15, 'val': 6}, {'row': 16, 'col': 2, 'val': 8}, {'row': 16, 'col': 3, 'val': 8}, {'row': 16, 'col': 4, 'val': 3}, {'row': 16, 'col': 5, 'val': 3}, {'row': 16, 'col': 6, 'val': 8}, {'row': 16, 'col': 7, 'val': 8}, {'row': 16, 'col': 10, 'val': 8}, {'row': 16, 'col': 11, 'val': 8}, {'row': 16, 'col': 12, 'val': 3}, {'row': 16, 'col': 13, 'val': 3}, {'row': 16, 'col': 14, 'val': 8}, {'row': 16, 'col': 15, 'val': 8}, {'row': 16, 'col': 20, 'val': 3}, {'row': 17, 'col': 2, 'val': 8}, {'row': 17, 'col': 3, 'val': 3}, {'row': 17, 'col': 4, 'val': 3}, {'row': 17, 'col': 5, 'val': 3}, {'row': 17, 'col': 6, 'val': 8}, {'row': 17, 'col': 7, 'val': 8}, {'row': 17, 'col': 10, 'val': 8}, {'row': 17, 'col': 11, 'val': 8}, {'row': 17, 'col': 12, 'val': 3}, {'row': 17, 'col': 13, 'val': 3}, {'row': 17, 'col': 14, 'val': 8}, {'row': 17, 'col': 15, 'val': 8}, {'row': 18, 'col': 2, 'val': 8}, {'row': 18, 'col': 3, 'val': 8}, {'row': 18, 'col': 4, 'val': 3}, {'row': 18, 'col': 5, 'val': 3}, {'row': 18, 'col': 6, 'val': 8}, {'row': 18, 'col': 7, 'val': 8}, {'row': 18, 'col': 10, 'val': 8}, {'row': 18, 'col': 11, 'val': 8}, {'row': 18, 'col': 12, 'val': 3}, {'row': 18, 'col': 13, 'val': 3}, {'row': 18, 'col': 14, 'val': 8}, {'row': 18, 'col': 15, 'val': 8}, {'row': 19, 'col': 2, 'val': 8}, {'row': 19, 'col': 3, 'val': 8}, {'row': 19, 'col': 4, 'val': 3}, {'row': 19, 'col': 5, 'val': 3}, {'row': 19, 'col': 6, 'val': 8}, {'row': 19, 'col': 7, 'val': 8}, {'row': 19, 'col': 10, 'val': 8}, {'row': 19, 'col': 11, 'val': 8}, {'row': 19, 'col': 12, 'val': 3}, {'row': 19, 'col': 13, 'val': 3}, {'row': 19, 'col': 14, 'val': 8}, {'row': 19, 'col': 15, 'val': 8}, {'row': 20, 'col': 6, 'val': 3}, {'row': 20, 'col': 7, 'val': 3}, {'row': 21, 'col': 9, 'val': 3}, {'row': 21, 'col': 12, 'val': 3}, {'row': 21, 'col': 16, 'val': 3}, {'row': 22, 'col': 7, 'val': 3}]\n",
      "Train Output 1: [{'row': 1, 'col': 2, 'val': 6}, {'row': 1, 'col': 3, 'val': 6}, {'row': 1, 'col': 4, 'val': 6}, {'row': 1, 'col': 5, 'val': 6}, {'row': 1, 'col': 6, 'val': 6}, {'row': 1, 'col': 7, 'val': 6}, {'row': 1, 'col': 10, 'val': 6}, {'row': 1, 'col': 11, 'val': 6}, {'row': 1, 'col': 12, 'val': 6}, {'row': 1, 'col': 13, 'val': 6}, {'row': 1, 'col': 14, 'val': 6}, {'row': 1, 'col': 15, 'val': 6}, {'row': 2, 'col': 2, 'val': 8}, {'row': 2, 'col': 3, 'val': 8}, {'row': 2, 'col': 4, 'val': 3}, {'row': 2, 'col': 5, 'val': 3}, {'row': 2, 'col': 6, 'val': 8}, {'row': 2, 'col': 7, 'val': 8}, {'row': 2, 'col': 10, 'val': 8}, {'row': 2, 'col': 11, 'val': 8}, {'row': 2, 'col': 12, 'val': 3}, {'row': 2, 'col': 13, 'val': 3}, {'row': 2, 'col': 14, 'val': 8}, {'row': 2, 'col': 15, 'val': 8}, {'row': 3, 'col': 2, 'val': 8}, {'row': 3, 'col': 3, 'val': 8}, {'row': 3, 'col': 4, 'val': 3}, {'row': 3, 'col': 5, 'val': 3}, {'row': 3, 'col': 6, 'val': 8}, {'row': 3, 'col': 7, 'val': 8}, {'row': 3, 'col': 10, 'val': 8}, {'row': 3, 'col': 11, 'val': 8}, {'row': 3, 'col': 12, 'val': 3}, {'row': 3, 'col': 13, 'val': 3}, {'row': 3, 'col': 14, 'val': 8}, {'row': 3, 'col': 15, 'val': 8}, {'row': 4, 'col': 2, 'val': 8}, {'row': 4, 'col': 3, 'val': 8}, {'row': 4, 'col': 4, 'val': 3}, {'row': 4, 'col': 5, 'val': 3}, {'row': 4, 'col': 6, 'val': 8}, {'row': 4, 'col': 7, 'val': 8}, {'row': 4, 'col': 10, 'val': 8}, {'row': 4, 'col': 11, 'val': 8}, {'row': 4, 'col': 12, 'val': 3}, {'row': 4, 'col': 13, 'val': 3}, {'row': 4, 'col': 14, 'val': 8}, {'row': 4, 'col': 15, 'val': 8}, {'row': 5, 'col': 2, 'val': 8}, {'row': 5, 'col': 3, 'val': 8}, {'row': 5, 'col': 4, 'val': 3}, {'row': 5, 'col': 5, 'val': 3}, {'row': 5, 'col': 6, 'val': 8}, {'row': 5, 'col': 7, 'val': 8}, {'row': 5, 'col': 10, 'val': 8}, {'row': 5, 'col': 11, 'val': 8}, {'row': 5, 'col': 12, 'val': 3}, {'row': 5, 'col': 13, 'val': 3}, {'row': 5, 'col': 14, 'val': 8}, {'row': 5, 'col': 15, 'val': 8}, {'row': 8, 'col': 2, 'val': 6}, {'row': 8, 'col': 3, 'val': 6}, {'row': 8, 'col': 4, 'val': 6}, {'row': 8, 'col': 5, 'val': 6}, {'row': 8, 'col': 6, 'val': 6}, {'row': 8, 'col': 7, 'val': 6}, {'row': 8, 'col': 10, 'val': 6}, {'row': 8, 'col': 11, 'val': 6}, {'row': 8, 'col': 12, 'val': 6}, {'row': 8, 'col': 13, 'val': 6}, {'row': 8, 'col': 14, 'val': 6}, {'row': 8, 'col': 15, 'val': 6}, {'row': 9, 'col': 2, 'val': 8}, {'row': 9, 'col': 3, 'val': 8}, {'row': 9, 'col': 4, 'val': 3}, {'row': 9, 'col': 5, 'val': 3}, {'row': 9, 'col': 6, 'val': 8}, {'row': 9, 'col': 7, 'val': 8}, {'row': 9, 'col': 10, 'val': 8}, {'row': 9, 'col': 11, 'val': 8}, {'row': 9, 'col': 12, 'val': 3}, {'row': 9, 'col': 13, 'val': 3}, {'row': 9, 'col': 14, 'val': 8}, {'row': 9, 'col': 15, 'val': 8}, {'row': 10, 'col': 2, 'val': 8}, {'row': 10, 'col': 3, 'val': 8}, {'row': 10, 'col': 4, 'val': 3}, {'row': 10, 'col': 5, 'val': 3}, {'row': 10, 'col': 6, 'val': 8}, {'row': 10, 'col': 7, 'val': 8}, {'row': 10, 'col': 10, 'val': 8}, {'row': 10, 'col': 11, 'val': 8}, {'row': 10, 'col': 12, 'val': 3}, {'row': 10, 'col': 13, 'val': 3}, {'row': 10, 'col': 14, 'val': 8}, {'row': 10, 'col': 15, 'val': 8}, {'row': 11, 'col': 2, 'val': 8}, {'row': 11, 'col': 3, 'val': 8}, {'row': 11, 'col': 4, 'val': 3}, {'row': 11, 'col': 5, 'val': 3}, {'row': 11, 'col': 6, 'val': 8}, {'row': 11, 'col': 7, 'val': 8}, {'row': 11, 'col': 10, 'val': 8}, {'row': 11, 'col': 11, 'val': 8}, {'row': 11, 'col': 12, 'val': 3}, {'row': 11, 'col': 13, 'val': 3}, {'row': 11, 'col': 14, 'val': 8}, {'row': 11, 'col': 15, 'val': 8}, {'row': 12, 'col': 2, 'val': 8}, {'row': 12, 'col': 3, 'val': 8}, {'row': 12, 'col': 4, 'val': 3}, {'row': 12, 'col': 5, 'val': 3}, {'row': 12, 'col': 6, 'val': 8}, {'row': 12, 'col': 7, 'val': 8}, {'row': 12, 'col': 10, 'val': 8}, {'row': 12, 'col': 11, 'val': 8}, {'row': 12, 'col': 12, 'val': 3}, {'row': 12, 'col': 13, 'val': 3}, {'row': 12, 'col': 14, 'val': 8}, {'row': 12, 'col': 15, 'val': 8}, {'row': 15, 'col': 2, 'val': 6}, {'row': 15, 'col': 3, 'val': 6}, {'row': 15, 'col': 4, 'val': 6}, {'row': 15, 'col': 5, 'val': 6}, {'row': 15, 'col': 6, 'val': 6}, {'row': 15, 'col': 7, 'val': 6}, {'row': 15, 'col': 10, 'val': 6}, {'row': 15, 'col': 11, 'val': 6}, {'row': 15, 'col': 12, 'val': 6}, {'row': 15, 'col': 13, 'val': 6}, {'row': 15, 'col': 14, 'val': 6}, {'row': 15, 'col': 15, 'val': 6}, {'row': 16, 'col': 2, 'val': 8}, {'row': 16, 'col': 3, 'val': 8}, {'row': 16, 'col': 4, 'val': 3}, {'row': 16, 'col': 5, 'val': 3}, {'row': 16, 'col': 6, 'val': 8}, {'row': 16, 'col': 7, 'val': 8}, {'row': 16, 'col': 10, 'val': 8}, {'row': 16, 'col': 11, 'val': 8}, {'row': 16, 'col': 12, 'val': 3}, {'row': 16, 'col': 13, 'val': 3}, {'row': 16, 'col': 14, 'val': 8}, {'row': 16, 'col': 15, 'val': 8}, {'row': 17, 'col': 2, 'val': 8}, {'row': 17, 'col': 3, 'val': 8}, {'row': 17, 'col': 4, 'val': 3}, {'row': 17, 'col': 5, 'val': 3}, {'row': 17, 'col': 6, 'val': 8}, {'row': 17, 'col': 7, 'val': 8}, {'row': 17, 'col': 10, 'val': 8}, {'row': 17, 'col': 11, 'val': 8}, {'row': 17, 'col': 12, 'val': 3}, {'row': 17, 'col': 13, 'val': 3}, {'row': 17, 'col': 14, 'val': 8}, {'row': 17, 'col': 15, 'val': 8}, {'row': 18, 'col': 2, 'val': 8}, {'row': 18, 'col': 3, 'val': 8}, {'row': 18, 'col': 4, 'val': 3}, {'row': 18, 'col': 5, 'val': 3}, {'row': 18, 'col': 6, 'val': 8}, {'row': 18, 'col': 7, 'val': 8}, {'row': 18, 'col': 10, 'val': 8}, {'row': 18, 'col': 11, 'val': 8}, {'row': 18, 'col': 12, 'val': 3}, {'row': 18, 'col': 13, 'val': 3}, {'row': 18, 'col': 14, 'val': 8}, {'row': 18, 'col': 15, 'val': 8}, {'row': 19, 'col': 2, 'val': 8}, {'row': 19, 'col': 3, 'val': 8}, {'row': 19, 'col': 4, 'val': 3}, {'row': 19, 'col': 5, 'val': 3}, {'row': 19, 'col': 6, 'val': 8}, {'row': 19, 'col': 7, 'val': 8}, {'row': 19, 'col': 10, 'val': 8}, {'row': 19, 'col': 11, 'val': 8}, {'row': 19, 'col': 12, 'val': 3}, {'row': 19, 'col': 13, 'val': 3}, {'row': 19, 'col': 14, 'val': 8}, {'row': 19, 'col': 15, 'val': 8}]\n",
      "\n",
      "Train Input 2: [{'row': 0, 'col': 1, 'val': 3}, {'row': 0, 'col': 5, 'val': 3}, {'row': 0, 'col': 6, 'val': 3}, {'row': 0, 'col': 11, 'val': 3}, {'row': 1, 'col': 1, 'val': 1}, {'row': 1, 'col': 2, 'val': 1}, {'row': 1, 'col': 3, 'val': 2}, {'row': 1, 'col': 4, 'val': 3}, {'row': 1, 'col': 5, 'val': 3}, {'row': 1, 'col': 7, 'val': 1}, {'row': 1, 'col': 8, 'val': 1}, {'row': 1, 'col': 9, 'val': 2}, {'row': 1, 'col': 10, 'val': 3}, {'row': 1, 'col': 11, 'val': 3}, {'row': 1, 'col': 12, 'val': 1}, {'row': 1, 'col': 13, 'val': 1}, {'row': 1, 'col': 14, 'val': 1}, {'row': 1, 'col': 15, 'val': 2}, {'row': 1, 'col': 16, 'val': 3}, {'row': 1, 'col': 17, 'val': 3}, {'row': 1, 'col': 19, 'val': 3}, {'row': 2, 'col': 1, 'val': 1}, {'row': 2, 'col': 2, 'val': 1}, {'row': 2, 'col': 3, 'val': 3}, {'row': 2, 'col': 4, 'val': 3}, {'row': 2, 'col': 5, 'val': 3}, {'row': 2, 'col': 7, 'val': 1}, {'row': 2, 'col': 8, 'val': 1}, {'row': 2, 'col': 9, 'val': 2}, {'row': 2, 'col': 10, 'val': 3}, {'row': 2, 'col': 11, 'val': 3}, {'row': 2, 'col': 13, 'val': 1}, {'row': 2, 'col': 14, 'val': 1}, {'row': 2, 'col': 15, 'val': 2}, {'row': 2, 'col': 16, 'val': 3}, {'row': 2, 'col': 17, 'val': 3}, {'row': 2, 'col': 18, 'val': 3}, {'row': 2, 'col': 20, 'val': 3}, {'row': 3, 'col': 1, 'val': 1}, {'row': 3, 'col': 2, 'val': 1}, {'row': 3, 'col': 3, 'val': 2}, {'row': 3, 'col': 4, 'val': 3}, {'row': 3, 'col': 5, 'val': 3}, {'row': 3, 'col': 7, 'val': 1}, {'row': 3, 'col': 8, 'val': 1}, {'row': 3, 'col': 9, 'val': 2}, {'row': 3, 'col': 10, 'val': 3}, {'row': 3, 'col': 11, 'val': 3}, {'row': 3, 'col': 13, 'val': 1}, {'row': 3, 'col': 14, 'val': 1}, {'row': 3, 'col': 15, 'val': 1}, {'row': 3, 'col': 16, 'val': 3}, {'row': 3, 'col': 17, 'val': 3}, {'row': 3, 'col': 21, 'val': 3}, {'row': 4, 'col': 1, 'val': 1}, {'row': 4, 'col': 2, 'val': 3}, {'row': 4, 'col': 3, 'val': 3}, {'row': 4, 'col': 4, 'val': 3}, {'row': 4, 'col': 5, 'val': 1}, {'row': 4, 'col': 7, 'val': 1}, {'row': 4, 'col': 8, 'val': 1}, {'row': 4, 'col': 9, 'val': 2}, {'row': 4, 'col': 10, 'val': 3}, {'row': 4, 'col': 11, 'val': 3}, {'row': 4, 'col': 13, 'val': 1}, {'row': 4, 'col': 14, 'val': 1}, {'row': 4, 'col': 15, 'val': 2}, {'row': 4, 'col': 16, 'val': 3}, {'row': 4, 'col': 17, 'val': 3}, {'row': 5, 'col': 1, 'val': 8}, {'row': 5, 'col': 2, 'val': 8}, {'row': 5, 'col': 3, 'val': 8}, {'row': 5, 'col': 4, 'val': 8}, {'row': 5, 'col': 5, 'val': 8}, {'row': 5, 'col': 7, 'val': 8}, {'row': 5, 'col': 8, 'val': 8}, {'row': 5, 'col': 9, 'val': 8}, {'row': 5, 'col': 10, 'val': 8}, {'row': 5, 'col': 11, 'val': 8}, {'row': 5, 'col': 13, 'val': 8}, {'row': 5, 'col': 14, 'val': 8}, {'row': 5, 'col': 15, 'val': 8}, {'row': 5, 'col': 16, 'val': 8}, {'row': 5, 'col': 17, 'val': 8}, {'row': 7, 'col': 1, 'val': 3}, {'row': 7, 'col': 2, 'val': 1}, {'row': 7, 'col': 3, 'val': 3}, {'row': 7, 'col': 4, 'val': 3}, {'row': 7, 'col': 5, 'val': 3}, {'row': 7, 'col': 7, 'val': 3}, {'row': 7, 'col': 8, 'val': 1}, {'row': 7, 'col': 9, 'val': 2}, {'row': 7, 'col': 10, 'val': 3}, {'row': 7, 'col': 11, 'val': 3}, {'row': 7, 'col': 13, 'val': 1}, {'row': 7, 'col': 14, 'val': 1}, {'row': 7, 'col': 15, 'val': 2}, {'row': 7, 'col': 16, 'val': 3}, {'row': 7, 'col': 17, 'val': 3}, {'row': 7, 'col': 20, 'val': 3}, {'row': 8, 'col': 1, 'val': 1}, {'row': 8, 'col': 2, 'val': 1}, {'row': 8, 'col': 3, 'val': 2}, {'row': 8, 'col': 4, 'val': 3}, {'row': 8, 'col': 5, 'val': 3}, {'row': 8, 'col': 7, 'val': 1}, {'row': 8, 'col': 8, 'val': 1}, {'row': 8, 'col': 9, 'val': 2}, {'row': 8, 'col': 10, 'val': 3}, {'row': 8, 'col': 11, 'val': 3}, {'row': 8, 'col': 13, 'val': 1}, {'row': 8, 'col': 14, 'val': 1}, {'row': 8, 'col': 15, 'val': 2}, {'row': 8, 'col': 16, 'val': 3}, {'row': 8, 'col': 17, 'val': 3}, {'row': 9, 'col': 1, 'val': 1}, {'row': 9, 'col': 2, 'val': 1}, {'row': 9, 'col': 3, 'val': 2}, {'row': 9, 'col': 4, 'val': 3}, {'row': 9, 'col': 5, 'val': 3}, {'row': 9, 'col': 7, 'val': 1}, {'row': 9, 'col': 8, 'val': 3}, {'row': 9, 'col': 9, 'val': 2}, {'row': 9, 'col': 10, 'val': 1}, {'row': 9, 'col': 11, 'val': 3}, {'row': 9, 'col': 13, 'val': 1}, {'row': 9, 'col': 14, 'val': 1}, {'row': 9, 'col': 15, 'val': 2}, {'row': 9, 'col': 16, 'val': 3}, {'row': 9, 'col': 17, 'val': 3}, {'row': 10, 'col': 0, 'val': 1}, {'row': 10, 'col': 1, 'val': 1}, {'row': 10, 'col': 2, 'val': 1}, {'row': 10, 'col': 3, 'val': 2}, {'row': 10, 'col': 4, 'val': 3}, {'row': 10, 'col': 5, 'val': 3}, {'row': 10, 'col': 7, 'val': 1}, {'row': 10, 'col': 8, 'val': 1}, {'row': 10, 'col': 9, 'val': 2}, {'row': 10, 'col': 10, 'val': 3}, {'row': 10, 'col': 11, 'val': 3}, {'row': 10, 'col': 12, 'val': 3}, {'row': 10, 'col': 13, 'val': 1}, {'row': 10, 'col': 14, 'val': 3}, {'row': 10, 'col': 15, 'val': 2}, {'row': 10, 'col': 16, 'val': 3}, {'row': 10, 'col': 17, 'val': 3}, {'row': 11, 'col': 1, 'val': 8}, {'row': 11, 'col': 2, 'val': 1}, {'row': 11, 'col': 3, 'val': 8}, {'row': 11, 'col': 4, 'val': 8}, {'row': 11, 'col': 5, 'val': 3}, {'row': 11, 'col': 7, 'val': 8}, {'row': 11, 'col': 8, 'val': 8}, {'row': 11, 'col': 9, 'val': 8}, {'row': 11, 'col': 10, 'val': 8}, {'row': 11, 'col': 11, 'val': 8}, {'row': 11, 'col': 13, 'val': 1}, {'row': 11, 'col': 14, 'val': 8}, {'row': 11, 'col': 15, 'val': 8}, {'row': 11, 'col': 16, 'val': 8}, {'row': 11, 'col': 17, 'val': 8}, {'row': 12, 'col': 3, 'val': 1}, {'row': 12, 'col': 19, 'val': 3}, {'row': 12, 'col': 20, 'val': 3}, {'row': 13, 'col': 1, 'val': 1}, {'row': 13, 'col': 2, 'val': 1}, {'row': 13, 'col': 3, 'val': 2}, {'row': 13, 'col': 4, 'val': 3}, {'row': 13, 'col': 5, 'val': 3}, {'row': 13, 'col': 7, 'val': 1}, {'row': 13, 'col': 8, 'val': 1}, {'row': 13, 'col': 9, 'val': 2}, {'row': 13, 'col': 10, 'val': 3}, {'row': 13, 'col': 11, 'val': 3}, {'row': 13, 'col': 13, 'val': 1}, {'row': 13, 'col': 14, 'val': 1}, {'row': 13, 'col': 15, 'val': 2}, {'row': 13, 'col': 16, 'val': 3}, {'row': 13, 'col': 17, 'val': 3}, {'row': 13, 'col': 20, 'val': 3}, {'row': 14, 'col': 1, 'val': 1}, {'row': 14, 'col': 2, 'val': 1}, {'row': 14, 'col': 3, 'val': 3}, {'row': 14, 'col': 4, 'val': 3}, {'row': 14, 'col': 5, 'val': 3}, {'row': 14, 'col': 7, 'val': 1}, {'row': 14, 'col': 8, 'val': 1}, {'row': 14, 'col': 9, 'val': 2}, {'row': 14, 'col': 10, 'val': 3}, {'row': 14, 'col': 11, 'val': 3}, {'row': 14, 'col': 13, 'val': 1}, {'row': 14, 'col': 14, 'val': 1}, {'row': 14, 'col': 15, 'val': 2}, {'row': 14, 'col': 16, 'val': 3}, {'row': 14, 'col': 17, 'val': 3}, {'row': 15, 'col': 1, 'val': 1}, {'row': 15, 'col': 2, 'val': 1}, {'row': 15, 'col': 3, 'val': 2}, {'row': 15, 'col': 4, 'val': 3}, {'row': 15, 'col': 5, 'val': 3}, {'row': 15, 'col': 7, 'val': 1}, {'row': 15, 'col': 8, 'val': 1}, {'row': 15, 'col': 9, 'val': 1}, {'row': 15, 'col': 10, 'val': 3}, {'row': 15, 'col': 11, 'val': 3}, {'row': 15, 'col': 13, 'val': 1}, {'row': 15, 'col': 14, 'val': 1}, {'row': 15, 'col': 15, 'val': 2}, {'row': 15, 'col': 16, 'val': 3}, {'row': 15, 'col': 17, 'val': 1}, {'row': 16, 'col': 0, 'val': 1}, {'row': 16, 'col': 1, 'val': 1}, {'row': 16, 'col': 2, 'val': 1}, {'row': 16, 'col': 3, 'val': 2}, {'row': 16, 'col': 4, 'val': 3}, {'row': 16, 'col': 5, 'val': 3}, {'row': 16, 'col': 7, 'val': 1}, {'row': 16, 'col': 8, 'val': 1}, {'row': 16, 'col': 9, 'val': 2}, {'row': 16, 'col': 10, 'val': 3}, {'row': 16, 'col': 11, 'val': 1}, {'row': 16, 'col': 13, 'val': 1}, {'row': 16, 'col': 14, 'val': 1}, {'row': 16, 'col': 15, 'val': 2}, {'row': 16, 'col': 16, 'val': 3}, {'row': 16, 'col': 17, 'val': 3}, {'row': 17, 'col': 0, 'val': 3}, {'row': 17, 'col': 1, 'val': 8}, {'row': 17, 'col': 2, 'val': 8}, {'row': 17, 'col': 3, 'val': 8}, {'row': 17, 'col': 4, 'val': 3}, {'row': 17, 'col': 5, 'val': 3}, {'row': 17, 'col': 6, 'val': 1}, {'row': 17, 'col': 7, 'val': 8}, {'row': 17, 'col': 8, 'val': 8}, {'row': 17, 'col': 9, 'val': 8}, {'row': 17, 'col': 10, 'val': 8}, {'row': 17, 'col': 11, 'val': 8}, {'row': 17, 'col': 13, 'val': 8}, {'row': 17, 'col': 14, 'val': 8}, {'row': 17, 'col': 15, 'val': 8}, {'row': 17, 'col': 16, 'val': 8}, {'row': 17, 'col': 17, 'val': 8}, {'row': 17, 'col': 20, 'val': 1}, {'row': 18, 'col': 1, 'val': 1}, {'row': 19, 'col': 1, 'val': 3}, {'row': 19, 'col': 2, 'val': 3}, {'row': 19, 'col': 4, 'val': 3}, {'row': 19, 'col': 6, 'val': 3}, {'row': 19, 'col': 8, 'val': 1}, {'row': 19, 'col': 9, 'val': 1}, {'row': 19, 'col': 11, 'val': 3}, {'row': 19, 'col': 21, 'val': 1}, {'row': 20, 'col': 2, 'val': 3}, {'row': 20, 'col': 5, 'val': 1}, {'row': 20, 'col': 11, 'val': 3}]\n",
      "Train Output 2: [{'row': 1, 'col': 1, 'val': 1}, {'row': 1, 'col': 2, 'val': 1}, {'row': 1, 'col': 3, 'val': 2}, {'row': 1, 'col': 4, 'val': 3}, {'row': 1, 'col': 5, 'val': 3}, {'row': 1, 'col': 7, 'val': 1}, {'row': 1, 'col': 8, 'val': 1}, {'row': 1, 'col': 9, 'val': 2}, {'row': 1, 'col': 10, 'val': 3}, {'row': 1, 'col': 11, 'val': 3}, {'row': 1, 'col': 13, 'val': 1}, {'row': 1, 'col': 14, 'val': 1}, {'row': 1, 'col': 15, 'val': 2}, {'row': 1, 'col': 16, 'val': 3}, {'row': 1, 'col': 17, 'val': 3}, {'row': 2, 'col': 1, 'val': 1}, {'row': 2, 'col': 2, 'val': 1}, {'row': 2, 'col': 3, 'val': 2}, {'row': 2, 'col': 4, 'val': 3}, {'row': 2, 'col': 5, 'val': 3}, {'row': 2, 'col': 7, 'val': 1}, {'row': 2, 'col': 8, 'val': 1}, {'row': 2, 'col': 9, 'val': 2}, {'row': 2, 'col': 10, 'val': 3}, {'row': 2, 'col': 11, 'val': 3}, {'row': 2, 'col': 13, 'val': 1}, {'row': 2, 'col': 14, 'val': 1}, {'row': 2, 'col': 15, 'val': 2}, {'row': 2, 'col': 16, 'val': 3}, {'row': 2, 'col': 17, 'val': 3}, {'row': 3, 'col': 1, 'val': 1}, {'row': 3, 'col': 2, 'val': 1}, {'row': 3, 'col': 3, 'val': 2}, {'row': 3, 'col': 4, 'val': 3}, {'row': 3, 'col': 5, 'val': 3}, {'row': 3, 'col': 7, 'val': 1}, {'row': 3, 'col': 8, 'val': 1}, {'row': 3, 'col': 9, 'val': 2}, {'row': 3, 'col': 10, 'val': 3}, {'row': 3, 'col': 11, 'val': 3}, {'row': 3, 'col': 13, 'val': 1}, {'row': 3, 'col': 14, 'val': 1}, {'row': 3, 'col': 15, 'val': 2}, {'row': 3, 'col': 16, 'val': 3}, {'row': 3, 'col': 17, 'val': 3}, {'row': 4, 'col': 1, 'val': 1}, {'row': 4, 'col': 2, 'val': 1}, {'row': 4, 'col': 3, 'val': 2}, {'row': 4, 'col': 4, 'val': 3}, {'row': 4, 'col': 5, 'val': 3}, {'row': 4, 'col': 7, 'val': 1}, {'row': 4, 'col': 8, 'val': 1}, {'row': 4, 'col': 9, 'val': 2}, {'row': 4, 'col': 10, 'val': 3}, {'row': 4, 'col': 11, 'val': 3}, {'row': 4, 'col': 13, 'val': 1}, {'row': 4, 'col': 14, 'val': 1}, {'row': 4, 'col': 15, 'val': 2}, {'row': 4, 'col': 16, 'val': 3}, {'row': 4, 'col': 17, 'val': 3}, {'row': 5, 'col': 1, 'val': 8}, {'row': 5, 'col': 2, 'val': 8}, {'row': 5, 'col': 3, 'val': 8}, {'row': 5, 'col': 4, 'val': 8}, {'row': 5, 'col': 5, 'val': 8}, {'row': 5, 'col': 7, 'val': 8}, {'row': 5, 'col': 8, 'val': 8}, {'row': 5, 'col': 9, 'val': 8}, {'row': 5, 'col': 10, 'val': 8}, {'row': 5, 'col': 11, 'val': 8}, {'row': 5, 'col': 13, 'val': 8}, {'row': 5, 'col': 14, 'val': 8}, {'row': 5, 'col': 15, 'val': 8}, {'row': 5, 'col': 16, 'val': 8}, {'row': 5, 'col': 17, 'val': 8}, {'row': 7, 'col': 1, 'val': 1}, {'row': 7, 'col': 2, 'val': 1}, {'row': 7, 'col': 3, 'val': 2}, {'row': 7, 'col': 4, 'val': 3}, {'row': 7, 'col': 5, 'val': 3}, {'row': 7, 'col': 7, 'val': 1}, {'row': 7, 'col': 8, 'val': 1}, {'row': 7, 'col': 9, 'val': 2}, {'row': 7, 'col': 10, 'val': 3}, {'row': 7, 'col': 11, 'val': 3}, {'row': 7, 'col': 13, 'val': 1}, {'row': 7, 'col': 14, 'val': 1}, {'row': 7, 'col': 15, 'val': 2}, {'row': 7, 'col': 16, 'val': 3}, {'row': 7, 'col': 17, 'val': 3}, {'row': 8, 'col': 1, 'val': 1}, {'row': 8, 'col': 2, 'val': 1}, {'row': 8, 'col': 3, 'val': 2}, {'row': 8, 'col': 4, 'val': 3}, {'row': 8, 'col': 5, 'val': 3}, {'row': 8, 'col': 7, 'val': 1}, {'row': 8, 'col': 8, 'val': 1}, {'row': 8, 'col': 9, 'val': 2}, {'row': 8, 'col': 10, 'val': 3}, {'row': 8, 'col': 11, 'val': 3}, {'row': 8, 'col': 13, 'val': 1}, {'row': 8, 'col': 14, 'val': 1}, {'row': 8, 'col': 15, 'val': 2}, {'row': 8, 'col': 16, 'val': 3}, {'row': 8, 'col': 17, 'val': 3}, {'row': 9, 'col': 1, 'val': 1}, {'row': 9, 'col': 2, 'val': 1}, {'row': 9, 'col': 3, 'val': 2}, {'row': 9, 'col': 4, 'val': 3}, {'row': 9, 'col': 5, 'val': 3}, {'row': 9, 'col': 7, 'val': 1}, {'row': 9, 'col': 8, 'val': 1}, {'row': 9, 'col': 9, 'val': 2}, {'row': 9, 'col': 10, 'val': 3}, {'row': 9, 'col': 11, 'val': 3}, {'row': 9, 'col': 13, 'val': 1}, {'row': 9, 'col': 14, 'val': 1}, {'row': 9, 'col': 15, 'val': 2}, {'row': 9, 'col': 16, 'val': 3}, {'row': 9, 'col': 17, 'val': 3}, {'row': 10, 'col': 1, 'val': 1}, {'row': 10, 'col': 2, 'val': 1}, {'row': 10, 'col': 3, 'val': 2}, {'row': 10, 'col': 4, 'val': 3}, {'row': 10, 'col': 5, 'val': 3}, {'row': 10, 'col': 7, 'val': 1}, {'row': 10, 'col': 8, 'val': 1}, {'row': 10, 'col': 9, 'val': 2}, {'row': 10, 'col': 10, 'val': 3}, {'row': 10, 'col': 11, 'val': 3}, {'row': 10, 'col': 13, 'val': 1}, {'row': 10, 'col': 14, 'val': 1}, {'row': 10, 'col': 15, 'val': 2}, {'row': 10, 'col': 16, 'val': 3}, {'row': 10, 'col': 17, 'val': 3}, {'row': 11, 'col': 1, 'val': 8}, {'row': 11, 'col': 2, 'val': 8}, {'row': 11, 'col': 3, 'val': 8}, {'row': 11, 'col': 4, 'val': 8}, {'row': 11, 'col': 5, 'val': 8}, {'row': 11, 'col': 7, 'val': 8}, {'row': 11, 'col': 8, 'val': 8}, {'row': 11, 'col': 9, 'val': 8}, {'row': 11, 'col': 10, 'val': 8}, {'row': 11, 'col': 11, 'val': 8}, {'row': 11, 'col': 13, 'val': 8}, {'row': 11, 'col': 14, 'val': 8}, {'row': 11, 'col': 15, 'val': 8}, {'row': 11, 'col': 16, 'val': 8}, {'row': 11, 'col': 17, 'val': 8}, {'row': 13, 'col': 1, 'val': 1}, {'row': 13, 'col': 2, 'val': 1}, {'row': 13, 'col': 3, 'val': 2}, {'row': 13, 'col': 4, 'val': 3}, {'row': 13, 'col': 5, 'val': 3}, {'row': 13, 'col': 7, 'val': 1}, {'row': 13, 'col': 8, 'val': 1}, {'row': 13, 'col': 9, 'val': 2}, {'row': 13, 'col': 10, 'val': 3}, {'row': 13, 'col': 11, 'val': 3}, {'row': 13, 'col': 13, 'val': 1}, {'row': 13, 'col': 14, 'val': 1}, {'row': 13, 'col': 15, 'val': 2}, {'row': 13, 'col': 16, 'val': 3}, {'row': 13, 'col': 17, 'val': 3}, {'row': 14, 'col': 1, 'val': 1}, {'row': 14, 'col': 2, 'val': 1}, {'row': 14, 'col': 3, 'val': 2}, {'row': 14, 'col': 4, 'val': 3}, {'row': 14, 'col': 5, 'val': 3}, {'row': 14, 'col': 7, 'val': 1}, {'row': 14, 'col': 8, 'val': 1}, {'row': 14, 'col': 9, 'val': 2}, {'row': 14, 'col': 10, 'val': 3}, {'row': 14, 'col': 11, 'val': 3}, {'row': 14, 'col': 13, 'val': 1}, {'row': 14, 'col': 14, 'val': 1}, {'row': 14, 'col': 15, 'val': 2}, {'row': 14, 'col': 16, 'val': 3}, {'row': 14, 'col': 17, 'val': 3}, {'row': 15, 'col': 1, 'val': 1}, {'row': 15, 'col': 2, 'val': 1}, {'row': 15, 'col': 3, 'val': 2}, {'row': 15, 'col': 4, 'val': 3}, {'row': 15, 'col': 5, 'val': 3}, {'row': 15, 'col': 7, 'val': 1}, {'row': 15, 'col': 8, 'val': 1}, {'row': 15, 'col': 9, 'val': 2}, {'row': 15, 'col': 10, 'val': 3}, {'row': 15, 'col': 11, 'val': 3}, {'row': 15, 'col': 13, 'val': 1}, {'row': 15, 'col': 14, 'val': 1}, {'row': 15, 'col': 15, 'val': 2}, {'row': 15, 'col': 16, 'val': 3}, {'row': 15, 'col': 17, 'val': 3}, {'row': 16, 'col': 1, 'val': 1}, {'row': 16, 'col': 2, 'val': 1}, {'row': 16, 'col': 3, 'val': 2}, {'row': 16, 'col': 4, 'val': 3}, {'row': 16, 'col': 5, 'val': 3}, {'row': 16, 'col': 7, 'val': 1}, {'row': 16, 'col': 8, 'val': 1}, {'row': 16, 'col': 9, 'val': 2}, {'row': 16, 'col': 10, 'val': 3}, {'row': 16, 'col': 11, 'val': 3}, {'row': 16, 'col': 13, 'val': 1}, {'row': 16, 'col': 14, 'val': 1}, {'row': 16, 'col': 15, 'val': 2}, {'row': 16, 'col': 16, 'val': 3}, {'row': 16, 'col': 17, 'val': 3}, {'row': 17, 'col': 1, 'val': 8}, {'row': 17, 'col': 2, 'val': 8}, {'row': 17, 'col': 3, 'val': 8}, {'row': 17, 'col': 4, 'val': 8}, {'row': 17, 'col': 5, 'val': 8}, {'row': 17, 'col': 7, 'val': 8}, {'row': 17, 'col': 8, 'val': 8}, {'row': 17, 'col': 9, 'val': 8}, {'row': 17, 'col': 10, 'val': 8}, {'row': 17, 'col': 11, 'val': 8}, {'row': 17, 'col': 13, 'val': 8}, {'row': 17, 'col': 14, 'val': 8}, {'row': 17, 'col': 15, 'val': 8}, {'row': 17, 'col': 16, 'val': 8}, {'row': 17, 'col': 17, 'val': 8}]\n",
      "\n",
      "Train Input 3: [{'row': 0, 'col': 21, 'val': 3}, {'row': 1, 'col': 1, 'val': 2}, {'row': 1, 'col': 2, 'val': 2}, {'row': 1, 'col': 3, 'val': 2}, {'row': 1, 'col': 4, 'val': 2}, {'row': 1, 'col': 5, 'val': 2}, {'row': 1, 'col': 7, 'val': 2}, {'row': 1, 'col': 8, 'val': 2}, {'row': 1, 'col': 9, 'val': 2}, {'row': 1, 'col': 10, 'val': 2}, {'row': 1, 'col': 13, 'val': 2}, {'row': 1, 'col': 14, 'val': 2}, {'row': 1, 'col': 15, 'val': 2}, {'row': 1, 'col': 16, 'val': 2}, {'row': 1, 'col': 21, 'val': 3}, {'row': 2, 'col': 1, 'val': 3}, {'row': 2, 'col': 2, 'val': 2}, {'row': 2, 'col': 3, 'val': 2}, {'row': 2, 'col': 4, 'val': 3}, {'row': 2, 'col': 7, 'val': 3}, {'row': 2, 'col': 8, 'val': 2}, {'row': 2, 'col': 9, 'val': 2}, {'row': 2, 'col': 10, 'val': 3}, {'row': 2, 'col': 12, 'val': 3}, {'row': 2, 'col': 13, 'val': 3}, {'row': 2, 'col': 14, 'val': 2}, {'row': 2, 'col': 15, 'val': 2}, {'row': 2, 'col': 16, 'val': 3}, {'row': 2, 'col': 19, 'val': 3}, {'row': 3, 'col': 1, 'val': 2}, {'row': 3, 'col': 2, 'val': 3}, {'row': 3, 'col': 3, 'val': 3}, {'row': 3, 'col': 4, 'val': 3}, {'row': 3, 'col': 7, 'val': 3}, {'row': 3, 'col': 8, 'val': 3}, {'row': 3, 'col': 9, 'val': 3}, {'row': 3, 'col': 10, 'val': 3}, {'row': 3, 'col': 13, 'val': 3}, {'row': 3, 'col': 14, 'val': 3}, {'row': 3, 'col': 15, 'val': 3}, {'row': 3, 'col': 16, 'val': 3}, {'row': 4, 'col': 1, 'val': 2}, {'row': 4, 'col': 2, 'val': 3}, {'row': 4, 'col': 3, 'val': 1}, {'row': 4, 'col': 4, 'val': 3}, {'row': 4, 'col': 7, 'val': 2}, {'row': 4, 'col': 8, 'val': 2}, {'row': 4, 'col': 9, 'val': 1}, {'row': 4, 'col': 10, 'val': 2}, {'row': 4, 'col': 13, 'val': 3}, {'row': 4, 'col': 14, 'val': 1}, {'row': 4, 'col': 15, 'val': 1}, {'row': 4, 'col': 16, 'val': 3}, {'row': 5, 'col': 11, 'val': 2}, {'row': 5, 'col': 18, 'val': 2}, {'row': 6, 'col': 3, 'val': 2}, {'row': 6, 'col': 19, 'val': 3}, {'row': 7, 'col': 1, 'val': 2}, {'row': 7, 'col': 2, 'val': 2}, {'row': 7, 'col': 3, 'val': 2}, {'row': 7, 'col': 4, 'val': 2}, {'row': 7, 'col': 5, 'val': 3}, {'row': 7, 'col': 7, 'val': 2}, {'row': 7, 'col': 8, 'val': 2}, {'row': 7, 'col': 9, 'val': 2}, {'row': 7, 'col': 10, 'val': 2}, {'row': 7, 'col': 13, 'val': 2}, {'row': 7, 'col': 14, 'val': 2}, {'row': 7, 'col': 15, 'val': 2}, {'row': 7, 'col': 16, 'val': 2}, {'row': 7, 'col': 17, 'val': 2}, {'row': 8, 'col': 1, 'val': 3}, {'row': 8, 'col': 2, 'val': 2}, {'row': 8, 'col': 3, 'val': 2}, {'row': 8, 'col': 4, 'val': 3}, {'row': 8, 'col': 7, 'val': 3}, {'row': 8, 'col': 8, 'val': 2}, {'row': 8, 'col': 9, 'val': 2}, {'row': 8, 'col': 10, 'val': 3}, {'row': 8, 'col': 12, 'val': 3}, {'row': 8, 'col': 13, 'val': 3}, {'row': 8, 'col': 14, 'val': 2}, {'row': 8, 'col': 15, 'val': 2}, {'row': 8, 'col': 16, 'val': 3}, {'row': 8, 'col': 17, 'val': 2}, {'row': 9, 'col': 1, 'val': 3}, {'row': 9, 'col': 2, 'val': 3}, {'row': 9, 'col': 3, 'val': 3}, {'row': 9, 'col': 4, 'val': 3}, {'row': 9, 'col': 7, 'val': 3}, {'row': 9, 'col': 8, 'val': 3}, {'row': 9, 'col': 9, 'val': 3}, {'row': 9, 'col': 10, 'val': 3}, {'row': 9, 'col': 13, 'val': 3}, {'row': 9, 'col': 14, 'val': 3}, {'row': 9, 'col': 15, 'val': 3}, {'row': 9, 'col': 16, 'val': 3}, {'row': 10, 'col': 1, 'val': 3}, {'row': 10, 'col': 2, 'val': 3}, {'row': 10, 'col': 3, 'val': 1}, {'row': 10, 'col': 4, 'val': 3}, {'row': 10, 'col': 7, 'val': 3}, {'row': 10, 'col': 8, 'val': 1}, {'row': 10, 'col': 9, 'val': 1}, {'row': 10, 'col': 10, 'val': 3}, {'row': 10, 'col': 13, 'val': 3}, {'row': 10, 'col': 14, 'val': 1}, {'row': 10, 'col': 15, 'val': 1}, {'row': 10, 'col': 16, 'val': 3}, {'row': 12, 'col': 13, 'val': 3}, {'row': 13, 'col': 1, 'val': 2}, {'row': 13, 'col': 2, 'val': 2}, {'row': 13, 'col': 3, 'val': 2}, {'row': 13, 'col': 4, 'val': 2}, {'row': 13, 'col': 7, 'val': 3}, {'row': 13, 'col': 8, 'val': 2}, {'row': 13, 'col': 9, 'val': 3}, {'row': 13, 'col': 10, 'val': 2}, {'row': 13, 'col': 13, 'val': 2}, {'row': 13, 'col': 14, 'val': 3}, {'row': 13, 'col': 15, 'val': 2}, {'row': 13, 'col': 16, 'val': 2}, {'row': 14, 'col': 1, 'val': 3}, {'row': 14, 'col': 2, 'val': 2}, {'row': 14, 'col': 3, 'val': 2}, {'row': 14, 'col': 4, 'val': 3}, {'row': 14, 'col': 7, 'val': 3}, {'row': 14, 'col': 8, 'val': 2}, {'row': 14, 'col': 9, 'val': 3}, {'row': 14, 'col': 10, 'val': 3}, {'row': 14, 'col': 13, 'val': 3}, {'row': 14, 'col': 14, 'val': 2}, {'row': 14, 'col': 15, 'val': 3}, {'row': 14, 'col': 16, 'val': 3}, {'row': 15, 'col': 0, 'val': 3}, {'row': 15, 'col': 1, 'val': 3}, {'row': 15, 'col': 2, 'val': 3}, {'row': 15, 'col': 3, 'val': 3}, {'row': 15, 'col': 4, 'val': 3}, {'row': 15, 'col': 7, 'val': 3}, {'row': 15, 'col': 8, 'val': 3}, {'row': 15, 'col': 9, 'val': 3}, {'row': 15, 'col': 10, 'val': 3}, {'row': 15, 'col': 13, 'val': 3}, {'row': 15, 'col': 14, 'val': 2}, {'row': 15, 'col': 15, 'val': 3}, {'row': 15, 'col': 16, 'val': 3}, {'row': 15, 'col': 19, 'val': 2}, {'row': 16, 'col': 1, 'val': 3}, {'row': 16, 'col': 2, 'val': 1}, {'row': 16, 'col': 3, 'val': 1}, {'row': 16, 'col': 4, 'val': 3}, {'row': 16, 'col': 6, 'val': 3}, {'row': 16, 'col': 7, 'val': 3}, {'row': 16, 'col': 8, 'val': 1}, {'row': 16, 'col': 9, 'val': 1}, {'row': 16, 'col': 10, 'val': 3}, {'row': 16, 'col': 13, 'val': 3}, {'row': 16, 'col': 14, 'val': 1}, {'row': 16, 'col': 15, 'val': 1}, {'row': 16, 'col': 16, 'val': 3}, {'row': 17, 'col': 1, 'val': 2}, {'row': 17, 'col': 4, 'val': 3}, {'row': 18, 'col': 6, 'val': 3}, {'row': 18, 'col': 8, 'val': 2}, {'row': 19, 'col': 1, 'val': 2}, {'row': 19, 'col': 6, 'val': 2}, {'row': 19, 'col': 9, 'val': 3}, {'row': 20, 'col': 10, 'val': 2}, {'row': 20, 'col': 11, 'val': 2}, {'row': 20, 'col': 19, 'val': 2}, {'row': 21, 'col': 3, 'val': 3}, {'row': 21, 'col': 6, 'val': 2}, {'row': 21, 'col': 8, 'val': 2}]\n",
      "Train Output 3: [{'row': 1, 'col': 1, 'val': 2}, {'row': 1, 'col': 2, 'val': 2}, {'row': 1, 'col': 3, 'val': 2}, {'row': 1, 'col': 4, 'val': 2}, {'row': 1, 'col': 7, 'val': 2}, {'row': 1, 'col': 8, 'val': 2}, {'row': 1, 'col': 9, 'val': 2}, {'row': 1, 'col': 10, 'val': 2}, {'row': 1, 'col': 13, 'val': 2}, {'row': 1, 'col': 14, 'val': 2}, {'row': 1, 'col': 15, 'val': 2}, {'row': 1, 'col': 16, 'val': 2}, {'row': 2, 'col': 1, 'val': 3}, {'row': 2, 'col': 2, 'val': 2}, {'row': 2, 'col': 3, 'val': 2}, {'row': 2, 'col': 4, 'val': 3}, {'row': 2, 'col': 7, 'val': 3}, {'row': 2, 'col': 8, 'val': 2}, {'row': 2, 'col': 9, 'val': 2}, {'row': 2, 'col': 10, 'val': 3}, {'row': 2, 'col': 13, 'val': 3}, {'row': 2, 'col': 14, 'val': 2}, {'row': 2, 'col': 15, 'val': 2}, {'row': 2, 'col': 16, 'val': 3}, {'row': 3, 'col': 1, 'val': 3}, {'row': 3, 'col': 2, 'val': 3}, {'row': 3, 'col': 3, 'val': 3}, {'row': 3, 'col': 4, 'val': 3}, {'row': 3, 'col': 7, 'val': 3}, {'row': 3, 'col': 8, 'val': 3}, {'row': 3, 'col': 9, 'val': 3}, {'row': 3, 'col': 10, 'val': 3}, {'row': 3, 'col': 13, 'val': 3}, {'row': 3, 'col': 14, 'val': 3}, {'row': 3, 'col': 15, 'val': 3}, {'row': 3, 'col': 16, 'val': 3}, {'row': 4, 'col': 1, 'val': 3}, {'row': 4, 'col': 2, 'val': 1}, {'row': 4, 'col': 3, 'val': 1}, {'row': 4, 'col': 4, 'val': 3}, {'row': 4, 'col': 7, 'val': 3}, {'row': 4, 'col': 8, 'val': 1}, {'row': 4, 'col': 9, 'val': 1}, {'row': 4, 'col': 10, 'val': 3}, {'row': 4, 'col': 13, 'val': 3}, {'row': 4, 'col': 14, 'val': 1}, {'row': 4, 'col': 15, 'val': 1}, {'row': 4, 'col': 16, 'val': 3}, {'row': 7, 'col': 1, 'val': 2}, {'row': 7, 'col': 2, 'val': 2}, {'row': 7, 'col': 3, 'val': 2}, {'row': 7, 'col': 4, 'val': 2}, {'row': 7, 'col': 7, 'val': 2}, {'row': 7, 'col': 8, 'val': 2}, {'row': 7, 'col': 9, 'val': 2}, {'row': 7, 'col': 10, 'val': 2}, {'row': 7, 'col': 13, 'val': 2}, {'row': 7, 'col': 14, 'val': 2}, {'row': 7, 'col': 15, 'val': 2}, {'row': 7, 'col': 16, 'val': 2}, {'row': 8, 'col': 1, 'val': 3}, {'row': 8, 'col': 2, 'val': 2}, {'row': 8, 'col': 3, 'val': 2}, {'row': 8, 'col': 4, 'val': 3}, {'row': 8, 'col': 7, 'val': 3}, {'row': 8, 'col': 8, 'val': 2}, {'row': 8, 'col': 9, 'val': 2}, {'row': 8, 'col': 10, 'val': 3}, {'row': 8, 'col': 13, 'val': 3}, {'row': 8, 'col': 14, 'val': 2}, {'row': 8, 'col': 15, 'val': 2}, {'row': 8, 'col': 16, 'val': 3}, {'row': 9, 'col': 1, 'val': 3}, {'row': 9, 'col': 2, 'val': 3}, {'row': 9, 'col': 3, 'val': 3}, {'row': 9, 'col': 4, 'val': 3}, {'row': 9, 'col': 7, 'val': 3}, {'row': 9, 'col': 8, 'val': 3}, {'row': 9, 'col': 9, 'val': 3}, {'row': 9, 'col': 10, 'val': 3}, {'row': 9, 'col': 13, 'val': 3}, {'row': 9, 'col': 14, 'val': 3}, {'row': 9, 'col': 15, 'val': 3}, {'row': 9, 'col': 16, 'val': 3}, {'row': 10, 'col': 1, 'val': 3}, {'row': 10, 'col': 2, 'val': 1}, {'row': 10, 'col': 3, 'val': 1}, {'row': 10, 'col': 4, 'val': 3}, {'row': 10, 'col': 7, 'val': 3}, {'row': 10, 'col': 8, 'val': 1}, {'row': 10, 'col': 9, 'val': 1}, {'row': 10, 'col': 10, 'val': 3}, {'row': 10, 'col': 13, 'val': 3}, {'row': 10, 'col': 14, 'val': 1}, {'row': 10, 'col': 15, 'val': 1}, {'row': 10, 'col': 16, 'val': 3}, {'row': 13, 'col': 1, 'val': 2}, {'row': 13, 'col': 2, 'val': 2}, {'row': 13, 'col': 3, 'val': 2}, {'row': 13, 'col': 4, 'val': 2}, {'row': 13, 'col': 7, 'val': 2}, {'row': 13, 'col': 8, 'val': 2}, {'row': 13, 'col': 9, 'val': 2}, {'row': 13, 'col': 10, 'val': 2}, {'row': 13, 'col': 13, 'val': 2}, {'row': 13, 'col': 14, 'val': 2}, {'row': 13, 'col': 15, 'val': 2}, {'row': 13, 'col': 16, 'val': 2}, {'row': 14, 'col': 1, 'val': 3}, {'row': 14, 'col': 2, 'val': 2}, {'row': 14, 'col': 3, 'val': 2}, {'row': 14, 'col': 4, 'val': 3}, {'row': 14, 'col': 7, 'val': 3}, {'row': 14, 'col': 8, 'val': 2}, {'row': 14, 'col': 9, 'val': 2}, {'row': 14, 'col': 10, 'val': 3}, {'row': 14, 'col': 13, 'val': 3}, {'row': 14, 'col': 14, 'val': 2}, {'row': 14, 'col': 15, 'val': 2}, {'row': 14, 'col': 16, 'val': 3}, {'row': 15, 'col': 1, 'val': 3}, {'row': 15, 'col': 2, 'val': 3}, {'row': 15, 'col': 3, 'val': 3}, {'row': 15, 'col': 4, 'val': 3}, {'row': 15, 'col': 7, 'val': 3}, {'row': 15, 'col': 8, 'val': 3}, {'row': 15, 'col': 9, 'val': 3}, {'row': 15, 'col': 10, 'val': 3}, {'row': 15, 'col': 13, 'val': 3}, {'row': 15, 'col': 14, 'val': 3}, {'row': 15, 'col': 15, 'val': 3}, {'row': 15, 'col': 16, 'val': 3}, {'row': 16, 'col': 1, 'val': 3}, {'row': 16, 'col': 2, 'val': 1}, {'row': 16, 'col': 3, 'val': 1}, {'row': 16, 'col': 4, 'val': 3}, {'row': 16, 'col': 7, 'val': 3}, {'row': 16, 'col': 8, 'val': 1}, {'row': 16, 'col': 9, 'val': 1}, {'row': 16, 'col': 10, 'val': 3}, {'row': 16, 'col': 13, 'val': 3}, {'row': 16, 'col': 14, 'val': 1}, {'row': 16, 'col': 15, 'val': 1}, {'row': 16, 'col': 16, 'val': 3}]\n",
      "\n",
      "==================================================\n",
      "Reflect on how you would solve the task in Python.\n",
      "\n",
      "- Use 3 to 5 sentences.\n",
      "- Describe the main approach, such as identifying anchors, grouping objects, and applying transformations.\n",
      "- Mention steps like scanning for fixed elements, sorting, or aligning data.\n",
      "- Call out any challenges or unclear rules you would need to test for.\n",
      "- Do not return code or pseudocode.\n",
      "\n",
      "Here are visual observations of the task that may help inform your implementation:\n",
      "- 0-black background over 23×22  \n",
      "- pink (6) horizontal stripes at rows 1, 8, 15 in two segments (cols 2–7 & 10–15)  \n",
      "- light-blue (8) + green (3) 4×4 squares at cols 2–7 & 10–15 repeated in rows 2–5, 8–12, 16–19  \n",
      "- single green (3) pixels scattered outside main clusters (anchors)  \n",
      "- in train 2, light-blue (8) stripes at rows 5 & 11 in same col segments  \n",
      "- train 2 repeating 1-1-2-3-3 pixel sequences in rows 1–4, 7–10, 13–14 across cols 1–5, 7–11, 13–17  \n",
      "- in train 3, red (2) + green (3) 4×4 blocks at cols 1–5, 7–10, 13–16 in rows 1–4, 7–10, 13–16  \n",
      "- single green (3) anchors at col 21 and scattered edge positions in train 3  \n",
      "- clusters always at fixed column offsets (two segment alignment)  \n",
      "- outputs preserve only the repeating block clusters; background & scattered anchors absent\n",
      "\n",
      "Here are the transformation rules that have been identified based on the task:\n",
      "1. Each input contains regularly tiled rectangular color clusters—4×4 or 6×5 blocks—arranged in two fixed column ranges and repeated at three set row bands, with stray single‐pixel “anchors” and background noise elsewhere.  \n",
      "2. The transformation discards every non–cluster pixel (all black background and isolated anchors), isolating only the repeating blocks.  \n",
      "3. Within each retained tile, any miscolored or missing interior pixels are filled in so that every block matches its perfect prototype pattern.  \n",
      "4. The cleaned, uniformly colored clusters remain in their original positions and spacings, with all other elements removed.\n",
      "\n",
      "Now reflect on how you would implement a solution to this task in Python, following the instructions above.\n",
      "\n",
      "Here are the demonstration pairs (JSON data):\n",
      "\n",
      "Train Input 1: [[0, 0, 0, 0, 0, 0, 0, 0, 0, 0, 3, 0, 0, 0, 0, 3, 0, 0, 0, 0, 0, 0], [0, 0, 6, 6, 6, 6, 6, 6, 0, 0, 6, 6, 6, 6, 3, 6, 0, 0, 0, 0, 0, 0], [0, 0, 8, 8, 3, 3, 8, 8, 0, 0, 8, 3, 3, 3, 8, 8, 0, 0, 0, 0, 0, 0], [0, 0, 8, 8, 3, 3, 8, 8, 0, 0, 8, 8, 3, 3, 8, 8, 0, 0, 3, 0, 0, 0], [0, 3, 8, 8, 3, 3, 8, 8, 0, 0, 8, 8, 3, 3, 8, 3, 0, 0, 0, 3, 0, 0], [0, 3, 8, 8, 3, 3, 8, 8, 0, 0, 8, 8, 3, 3, 8, 8, 3, 0, 0, 0, 0, 0], [0, 0, 0, 0, 0, 0, 0, 0, 0, 0, 3, 0, 0, 0, 0, 0, 0, 0, 0, 0, 0, 0], [0, 3, 0, 0, 0, 3, 0, 0, 0, 0, 0, 0, 0, 0, 0, 0, 0, 0, 0, 0, 0, 0], [0, 0, 6, 6, 6, 6, 6, 6, 0, 0, 6, 6, 3, 6, 6, 6, 0, 0, 0, 0, 0, 0], [0, 0, 8, 8, 3, 3, 8, 8, 0, 0, 3, 8, 3, 3, 8, 3, 0, 3, 0, 0, 0, 3], [0, 0, 8, 8, 3, 3, 3, 8, 0, 0, 3, 8, 3, 3, 8, 8, 0, 0, 0, 0, 0, 0], [0, 0, 8, 8, 3, 3, 8, 8, 0, 0, 8, 3, 3, 3, 3, 8, 0, 0, 0, 0, 0, 0], [3, 3, 8, 8, 3, 3, 8, 8, 0, 0, 8, 8, 3, 3, 8, 8, 0, 0, 0, 0, 0, 0], [0, 0, 0, 0, 0, 0, 0, 0, 0, 0, 0, 0, 0, 3, 0, 0, 0, 0, 3, 0, 0, 0], [0, 0, 0, 0, 0, 0, 0, 0, 0, 3, 0, 0, 3, 0, 0, 0, 0, 0, 0, 0, 0, 0], [0, 0, 6, 6, 3, 6, 6, 6, 0, 3, 6, 6, 6, 3, 6, 6, 0, 0, 0, 0, 0, 0], [0, 0, 8, 8, 3, 3, 8, 8, 0, 0, 8, 8, 3, 3, 8, 8, 0, 0, 0, 0, 3, 0], [0, 0, 8, 3, 3, 3, 8, 8, 0, 0, 8, 8, 3, 3, 8, 8, 0, 0, 0, 0, 0, 0], [0, 0, 8, 8, 3, 3, 8, 8, 0, 0, 8, 8, 3, 3, 8, 8, 0, 0, 0, 0, 0, 0], [0, 0, 8, 8, 3, 3, 8, 8, 0, 0, 8, 8, 3, 3, 8, 8, 0, 0, 0, 0, 0, 0], [0, 0, 0, 0, 0, 0, 3, 3, 0, 0, 0, 0, 0, 0, 0, 0, 0, 0, 0, 0, 0, 0], [0, 0, 0, 0, 0, 0, 0, 0, 0, 3, 0, 0, 3, 0, 0, 0, 3, 0, 0, 0, 0, 0], [0, 0, 0, 0, 0, 0, 0, 3, 0, 0, 0, 0, 0, 0, 0, 0, 0, 0, 0, 0, 0, 0]]\n",
      "Train Output 1: [[0, 0, 0, 0, 0, 0, 0, 0, 0, 0, 0, 0, 0, 0, 0, 0, 0, 0, 0, 0, 0, 0], [0, 0, 6, 6, 6, 6, 6, 6, 0, 0, 6, 6, 6, 6, 6, 6, 0, 0, 0, 0, 0, 0], [0, 0, 8, 8, 3, 3, 8, 8, 0, 0, 8, 8, 3, 3, 8, 8, 0, 0, 0, 0, 0, 0], [0, 0, 8, 8, 3, 3, 8, 8, 0, 0, 8, 8, 3, 3, 8, 8, 0, 0, 0, 0, 0, 0], [0, 0, 8, 8, 3, 3, 8, 8, 0, 0, 8, 8, 3, 3, 8, 8, 0, 0, 0, 0, 0, 0], [0, 0, 8, 8, 3, 3, 8, 8, 0, 0, 8, 8, 3, 3, 8, 8, 0, 0, 0, 0, 0, 0], [0, 0, 0, 0, 0, 0, 0, 0, 0, 0, 0, 0, 0, 0, 0, 0, 0, 0, 0, 0, 0, 0], [0, 0, 0, 0, 0, 0, 0, 0, 0, 0, 0, 0, 0, 0, 0, 0, 0, 0, 0, 0, 0, 0], [0, 0, 6, 6, 6, 6, 6, 6, 0, 0, 6, 6, 6, 6, 6, 6, 0, 0, 0, 0, 0, 0], [0, 0, 8, 8, 3, 3, 8, 8, 0, 0, 8, 8, 3, 3, 8, 8, 0, 0, 0, 0, 0, 0], [0, 0, 8, 8, 3, 3, 8, 8, 0, 0, 8, 8, 3, 3, 8, 8, 0, 0, 0, 0, 0, 0], [0, 0, 8, 8, 3, 3, 8, 8, 0, 0, 8, 8, 3, 3, 8, 8, 0, 0, 0, 0, 0, 0], [0, 0, 8, 8, 3, 3, 8, 8, 0, 0, 8, 8, 3, 3, 8, 8, 0, 0, 0, 0, 0, 0], [0, 0, 0, 0, 0, 0, 0, 0, 0, 0, 0, 0, 0, 0, 0, 0, 0, 0, 0, 0, 0, 0], [0, 0, 0, 0, 0, 0, 0, 0, 0, 0, 0, 0, 0, 0, 0, 0, 0, 0, 0, 0, 0, 0], [0, 0, 6, 6, 6, 6, 6, 6, 0, 0, 6, 6, 6, 6, 6, 6, 0, 0, 0, 0, 0, 0], [0, 0, 8, 8, 3, 3, 8, 8, 0, 0, 8, 8, 3, 3, 8, 8, 0, 0, 0, 0, 0, 0], [0, 0, 8, 8, 3, 3, 8, 8, 0, 0, 8, 8, 3, 3, 8, 8, 0, 0, 0, 0, 0, 0], [0, 0, 8, 8, 3, 3, 8, 8, 0, 0, 8, 8, 3, 3, 8, 8, 0, 0, 0, 0, 0, 0], [0, 0, 8, 8, 3, 3, 8, 8, 0, 0, 8, 8, 3, 3, 8, 8, 0, 0, 0, 0, 0, 0], [0, 0, 0, 0, 0, 0, 0, 0, 0, 0, 0, 0, 0, 0, 0, 0, 0, 0, 0, 0, 0, 0], [0, 0, 0, 0, 0, 0, 0, 0, 0, 0, 0, 0, 0, 0, 0, 0, 0, 0, 0, 0, 0, 0], [0, 0, 0, 0, 0, 0, 0, 0, 0, 0, 0, 0, 0, 0, 0, 0, 0, 0, 0, 0, 0, 0]]\n",
      "\n",
      "Train Input 2: [[0, 3, 0, 0, 0, 3, 3, 0, 0, 0, 0, 3, 0, 0, 0, 0, 0, 0, 0, 0, 0, 0], [0, 1, 1, 2, 3, 3, 0, 1, 1, 2, 3, 3, 1, 1, 1, 2, 3, 3, 0, 3, 0, 0], [0, 1, 1, 3, 3, 3, 0, 1, 1, 2, 3, 3, 0, 1, 1, 2, 3, 3, 3, 0, 3, 0], [0, 1, 1, 2, 3, 3, 0, 1, 1, 2, 3, 3, 0, 1, 1, 1, 3, 3, 0, 0, 0, 3], [0, 1, 3, 3, 3, 1, 0, 1, 1, 2, 3, 3, 0, 1, 1, 2, 3, 3, 0, 0, 0, 0], [0, 8, 8, 8, 8, 8, 0, 8, 8, 8, 8, 8, 0, 8, 8, 8, 8, 8, 0, 0, 0, 0], [0, 0, 0, 0, 0, 0, 0, 0, 0, 0, 0, 0, 0, 0, 0, 0, 0, 0, 0, 0, 0, 0], [0, 3, 1, 3, 3, 3, 0, 3, 1, 2, 3, 3, 0, 1, 1, 2, 3, 3, 0, 0, 3, 0], [0, 1, 1, 2, 3, 3, 0, 1, 1, 2, 3, 3, 0, 1, 1, 2, 3, 3, 0, 0, 0, 0], [0, 1, 1, 2, 3, 3, 0, 1, 3, 2, 1, 3, 0, 1, 1, 2, 3, 3, 0, 0, 0, 0], [1, 1, 1, 2, 3, 3, 0, 1, 1, 2, 3, 3, 3, 1, 3, 2, 3, 3, 0, 0, 0, 0], [0, 8, 1, 8, 8, 3, 0, 8, 8, 8, 8, 8, 0, 1, 8, 8, 8, 8, 0, 0, 0, 0], [0, 0, 0, 1, 0, 0, 0, 0, 0, 0, 0, 0, 0, 0, 0, 0, 0, 0, 0, 3, 3, 0], [0, 1, 1, 2, 3, 3, 0, 1, 1, 2, 3, 3, 0, 1, 1, 2, 3, 3, 0, 0, 3, 0], [0, 1, 1, 3, 3, 3, 0, 1, 1, 2, 3, 3, 0, 1, 1, 2, 3, 3, 0, 0, 0, 0], [0, 1, 1, 2, 3, 3, 0, 1, 1, 1, 3, 3, 0, 1, 1, 2, 3, 1, 0, 0, 0, 0], [1, 1, 1, 2, 3, 3, 0, 1, 1, 2, 3, 1, 0, 1, 1, 2, 3, 3, 0, 0, 0, 0], [3, 8, 8, 8, 3, 3, 1, 8, 8, 8, 8, 8, 0, 8, 8, 8, 8, 8, 0, 0, 1, 0], [0, 1, 0, 0, 0, 0, 0, 0, 0, 0, 0, 0, 0, 0, 0, 0, 0, 0, 0, 0, 0, 0], [0, 3, 3, 0, 3, 0, 3, 0, 1, 1, 0, 3, 0, 0, 0, 0, 0, 0, 0, 0, 0, 1], [0, 0, 3, 0, 0, 1, 0, 0, 0, 0, 0, 3, 0, 0, 0, 0, 0, 0, 0, 0, 0, 0]]\n",
      "Train Output 2: [[0, 0, 0, 0, 0, 0, 0, 0, 0, 0, 0, 0, 0, 0, 0, 0, 0, 0, 0, 0, 0, 0], [0, 1, 1, 2, 3, 3, 0, 1, 1, 2, 3, 3, 0, 1, 1, 2, 3, 3, 0, 0, 0, 0], [0, 1, 1, 2, 3, 3, 0, 1, 1, 2, 3, 3, 0, 1, 1, 2, 3, 3, 0, 0, 0, 0], [0, 1, 1, 2, 3, 3, 0, 1, 1, 2, 3, 3, 0, 1, 1, 2, 3, 3, 0, 0, 0, 0], [0, 1, 1, 2, 3, 3, 0, 1, 1, 2, 3, 3, 0, 1, 1, 2, 3, 3, 0, 0, 0, 0], [0, 8, 8, 8, 8, 8, 0, 8, 8, 8, 8, 8, 0, 8, 8, 8, 8, 8, 0, 0, 0, 0], [0, 0, 0, 0, 0, 0, 0, 0, 0, 0, 0, 0, 0, 0, 0, 0, 0, 0, 0, 0, 0, 0], [0, 1, 1, 2, 3, 3, 0, 1, 1, 2, 3, 3, 0, 1, 1, 2, 3, 3, 0, 0, 0, 0], [0, 1, 1, 2, 3, 3, 0, 1, 1, 2, 3, 3, 0, 1, 1, 2, 3, 3, 0, 0, 0, 0], [0, 1, 1, 2, 3, 3, 0, 1, 1, 2, 3, 3, 0, 1, 1, 2, 3, 3, 0, 0, 0, 0], [0, 1, 1, 2, 3, 3, 0, 1, 1, 2, 3, 3, 0, 1, 1, 2, 3, 3, 0, 0, 0, 0], [0, 8, 8, 8, 8, 8, 0, 8, 8, 8, 8, 8, 0, 8, 8, 8, 8, 8, 0, 0, 0, 0], [0, 0, 0, 0, 0, 0, 0, 0, 0, 0, 0, 0, 0, 0, 0, 0, 0, 0, 0, 0, 0, 0], [0, 1, 1, 2, 3, 3, 0, 1, 1, 2, 3, 3, 0, 1, 1, 2, 3, 3, 0, 0, 0, 0], [0, 1, 1, 2, 3, 3, 0, 1, 1, 2, 3, 3, 0, 1, 1, 2, 3, 3, 0, 0, 0, 0], [0, 1, 1, 2, 3, 3, 0, 1, 1, 2, 3, 3, 0, 1, 1, 2, 3, 3, 0, 0, 0, 0], [0, 1, 1, 2, 3, 3, 0, 1, 1, 2, 3, 3, 0, 1, 1, 2, 3, 3, 0, 0, 0, 0], [0, 8, 8, 8, 8, 8, 0, 8, 8, 8, 8, 8, 0, 8, 8, 8, 8, 8, 0, 0, 0, 0], [0, 0, 0, 0, 0, 0, 0, 0, 0, 0, 0, 0, 0, 0, 0, 0, 0, 0, 0, 0, 0, 0], [0, 0, 0, 0, 0, 0, 0, 0, 0, 0, 0, 0, 0, 0, 0, 0, 0, 0, 0, 0, 0, 0], [0, 0, 0, 0, 0, 0, 0, 0, 0, 0, 0, 0, 0, 0, 0, 0, 0, 0, 0, 0, 0, 0]]\n",
      "\n",
      "Train Input 3: [[0, 0, 0, 0, 0, 0, 0, 0, 0, 0, 0, 0, 0, 0, 0, 0, 0, 0, 0, 0, 0, 3], [0, 2, 2, 2, 2, 2, 0, 2, 2, 2, 2, 0, 0, 2, 2, 2, 2, 0, 0, 0, 0, 3], [0, 3, 2, 2, 3, 0, 0, 3, 2, 2, 3, 0, 3, 3, 2, 2, 3, 0, 0, 3, 0, 0], [0, 2, 3, 3, 3, 0, 0, 3, 3, 3, 3, 0, 0, 3, 3, 3, 3, 0, 0, 0, 0, 0], [0, 2, 3, 1, 3, 0, 0, 2, 2, 1, 2, 0, 0, 3, 1, 1, 3, 0, 0, 0, 0, 0], [0, 0, 0, 0, 0, 0, 0, 0, 0, 0, 0, 2, 0, 0, 0, 0, 0, 0, 2, 0, 0, 0], [0, 0, 0, 2, 0, 0, 0, 0, 0, 0, 0, 0, 0, 0, 0, 0, 0, 0, 0, 3, 0, 0], [0, 2, 2, 2, 2, 3, 0, 2, 2, 2, 2, 0, 0, 2, 2, 2, 2, 2, 0, 0, 0, 0], [0, 3, 2, 2, 3, 0, 0, 3, 2, 2, 3, 0, 3, 3, 2, 2, 3, 2, 0, 0, 0, 0], [0, 3, 3, 3, 3, 0, 0, 3, 3, 3, 3, 0, 0, 3, 3, 3, 3, 0, 0, 0, 0, 0], [0, 3, 3, 1, 3, 0, 0, 3, 1, 1, 3, 0, 0, 3, 1, 1, 3, 0, 0, 0, 0, 0], [0, 0, 0, 0, 0, 0, 0, 0, 0, 0, 0, 0, 0, 0, 0, 0, 0, 0, 0, 0, 0, 0], [0, 0, 0, 0, 0, 0, 0, 0, 0, 0, 0, 0, 0, 3, 0, 0, 0, 0, 0, 0, 0, 0], [0, 2, 2, 2, 2, 0, 0, 3, 2, 3, 2, 0, 0, 2, 3, 2, 2, 0, 0, 0, 0, 0], [0, 3, 2, 2, 3, 0, 0, 3, 2, 3, 3, 0, 0, 3, 2, 3, 3, 0, 0, 0, 0, 0], [3, 3, 3, 3, 3, 0, 0, 3, 3, 3, 3, 0, 0, 3, 2, 3, 3, 0, 0, 2, 0, 0], [0, 3, 1, 1, 3, 0, 3, 3, 1, 1, 3, 0, 0, 3, 1, 1, 3, 0, 0, 0, 0, 0], [0, 2, 0, 0, 3, 0, 0, 0, 0, 0, 0, 0, 0, 0, 0, 0, 0, 0, 0, 0, 0, 0], [0, 0, 0, 0, 0, 0, 3, 0, 2, 0, 0, 0, 0, 0, 0, 0, 0, 0, 0, 0, 0, 0], [0, 2, 0, 0, 0, 0, 2, 0, 0, 3, 0, 0, 0, 0, 0, 0, 0, 0, 0, 0, 0, 0], [0, 0, 0, 0, 0, 0, 0, 0, 0, 0, 2, 2, 0, 0, 0, 0, 0, 0, 0, 2, 0, 0], [0, 0, 0, 3, 0, 0, 2, 0, 2, 0, 0, 0, 0, 0, 0, 0, 0, 0, 0, 0, 0, 0]]\n",
      "Train Output 3: [[0, 0, 0, 0, 0, 0, 0, 0, 0, 0, 0, 0, 0, 0, 0, 0, 0, 0, 0, 0, 0, 0], [0, 2, 2, 2, 2, 0, 0, 2, 2, 2, 2, 0, 0, 2, 2, 2, 2, 0, 0, 0, 0, 0], [0, 3, 2, 2, 3, 0, 0, 3, 2, 2, 3, 0, 0, 3, 2, 2, 3, 0, 0, 0, 0, 0], [0, 3, 3, 3, 3, 0, 0, 3, 3, 3, 3, 0, 0, 3, 3, 3, 3, 0, 0, 0, 0, 0], [0, 3, 1, 1, 3, 0, 0, 3, 1, 1, 3, 0, 0, 3, 1, 1, 3, 0, 0, 0, 0, 0], [0, 0, 0, 0, 0, 0, 0, 0, 0, 0, 0, 0, 0, 0, 0, 0, 0, 0, 0, 0, 0, 0], [0, 0, 0, 0, 0, 0, 0, 0, 0, 0, 0, 0, 0, 0, 0, 0, 0, 0, 0, 0, 0, 0], [0, 2, 2, 2, 2, 0, 0, 2, 2, 2, 2, 0, 0, 2, 2, 2, 2, 0, 0, 0, 0, 0], [0, 3, 2, 2, 3, 0, 0, 3, 2, 2, 3, 0, 0, 3, 2, 2, 3, 0, 0, 0, 0, 0], [0, 3, 3, 3, 3, 0, 0, 3, 3, 3, 3, 0, 0, 3, 3, 3, 3, 0, 0, 0, 0, 0], [0, 3, 1, 1, 3, 0, 0, 3, 1, 1, 3, 0, 0, 3, 1, 1, 3, 0, 0, 0, 0, 0], [0, 0, 0, 0, 0, 0, 0, 0, 0, 0, 0, 0, 0, 0, 0, 0, 0, 0, 0, 0, 0, 0], [0, 0, 0, 0, 0, 0, 0, 0, 0, 0, 0, 0, 0, 0, 0, 0, 0, 0, 0, 0, 0, 0], [0, 2, 2, 2, 2, 0, 0, 2, 2, 2, 2, 0, 0, 2, 2, 2, 2, 0, 0, 0, 0, 0], [0, 3, 2, 2, 3, 0, 0, 3, 2, 2, 3, 0, 0, 3, 2, 2, 3, 0, 0, 0, 0, 0], [0, 3, 3, 3, 3, 0, 0, 3, 3, 3, 3, 0, 0, 3, 3, 3, 3, 0, 0, 0, 0, 0], [0, 3, 1, 1, 3, 0, 0, 3, 1, 1, 3, 0, 0, 3, 1, 1, 3, 0, 0, 0, 0, 0], [0, 0, 0, 0, 0, 0, 0, 0, 0, 0, 0, 0, 0, 0, 0, 0, 0, 0, 0, 0, 0, 0], [0, 0, 0, 0, 0, 0, 0, 0, 0, 0, 0, 0, 0, 0, 0, 0, 0, 0, 0, 0, 0, 0], [0, 0, 0, 0, 0, 0, 0, 0, 0, 0, 0, 0, 0, 0, 0, 0, 0, 0, 0, 0, 0, 0], [0, 0, 0, 0, 0, 0, 0, 0, 0, 0, 0, 0, 0, 0, 0, 0, 0, 0, 0, 0, 0, 0], [0, 0, 0, 0, 0, 0, 0, 0, 0, 0, 0, 0, 0, 0, 0, 0, 0, 0, 0, 0, 0, 0]]\n",
      "\n",
      "\n",
      "Encoding used: nonzero_coords\n",
      "Explanation: This encoding lists only the non-zero cells as dictionaries containing their row, column, and value.\n",
      "\n",
      "Here are the demonstration pairs (encoded):\n",
      "\n",
      "Train Input 1: [{'row': 0, 'col': 10, 'val': 3}, {'row': 0, 'col': 15, 'val': 3}, {'row': 1, 'col': 2, 'val': 6}, {'row': 1, 'col': 3, 'val': 6}, {'row': 1, 'col': 4, 'val': 6}, {'row': 1, 'col': 5, 'val': 6}, {'row': 1, 'col': 6, 'val': 6}, {'row': 1, 'col': 7, 'val': 6}, {'row': 1, 'col': 10, 'val': 6}, {'row': 1, 'col': 11, 'val': 6}, {'row': 1, 'col': 12, 'val': 6}, {'row': 1, 'col': 13, 'val': 6}, {'row': 1, 'col': 14, 'val': 3}, {'row': 1, 'col': 15, 'val': 6}, {'row': 2, 'col': 2, 'val': 8}, {'row': 2, 'col': 3, 'val': 8}, {'row': 2, 'col': 4, 'val': 3}, {'row': 2, 'col': 5, 'val': 3}, {'row': 2, 'col': 6, 'val': 8}, {'row': 2, 'col': 7, 'val': 8}, {'row': 2, 'col': 10, 'val': 8}, {'row': 2, 'col': 11, 'val': 3}, {'row': 2, 'col': 12, 'val': 3}, {'row': 2, 'col': 13, 'val': 3}, {'row': 2, 'col': 14, 'val': 8}, {'row': 2, 'col': 15, 'val': 8}, {'row': 3, 'col': 2, 'val': 8}, {'row': 3, 'col': 3, 'val': 8}, {'row': 3, 'col': 4, 'val': 3}, {'row': 3, 'col': 5, 'val': 3}, {'row': 3, 'col': 6, 'val': 8}, {'row': 3, 'col': 7, 'val': 8}, {'row': 3, 'col': 10, 'val': 8}, {'row': 3, 'col': 11, 'val': 8}, {'row': 3, 'col': 12, 'val': 3}, {'row': 3, 'col': 13, 'val': 3}, {'row': 3, 'col': 14, 'val': 8}, {'row': 3, 'col': 15, 'val': 8}, {'row': 3, 'col': 18, 'val': 3}, {'row': 4, 'col': 1, 'val': 3}, {'row': 4, 'col': 2, 'val': 8}, {'row': 4, 'col': 3, 'val': 8}, {'row': 4, 'col': 4, 'val': 3}, {'row': 4, 'col': 5, 'val': 3}, {'row': 4, 'col': 6, 'val': 8}, {'row': 4, 'col': 7, 'val': 8}, {'row': 4, 'col': 10, 'val': 8}, {'row': 4, 'col': 11, 'val': 8}, {'row': 4, 'col': 12, 'val': 3}, {'row': 4, 'col': 13, 'val': 3}, {'row': 4, 'col': 14, 'val': 8}, {'row': 4, 'col': 15, 'val': 3}, {'row': 4, 'col': 19, 'val': 3}, {'row': 5, 'col': 1, 'val': 3}, {'row': 5, 'col': 2, 'val': 8}, {'row': 5, 'col': 3, 'val': 8}, {'row': 5, 'col': 4, 'val': 3}, {'row': 5, 'col': 5, 'val': 3}, {'row': 5, 'col': 6, 'val': 8}, {'row': 5, 'col': 7, 'val': 8}, {'row': 5, 'col': 10, 'val': 8}, {'row': 5, 'col': 11, 'val': 8}, {'row': 5, 'col': 12, 'val': 3}, {'row': 5, 'col': 13, 'val': 3}, {'row': 5, 'col': 14, 'val': 8}, {'row': 5, 'col': 15, 'val': 8}, {'row': 5, 'col': 16, 'val': 3}, {'row': 6, 'col': 10, 'val': 3}, {'row': 7, 'col': 1, 'val': 3}, {'row': 7, 'col': 5, 'val': 3}, {'row': 8, 'col': 2, 'val': 6}, {'row': 8, 'col': 3, 'val': 6}, {'row': 8, 'col': 4, 'val': 6}, {'row': 8, 'col': 5, 'val': 6}, {'row': 8, 'col': 6, 'val': 6}, {'row': 8, 'col': 7, 'val': 6}, {'row': 8, 'col': 10, 'val': 6}, {'row': 8, 'col': 11, 'val': 6}, {'row': 8, 'col': 12, 'val': 3}, {'row': 8, 'col': 13, 'val': 6}, {'row': 8, 'col': 14, 'val': 6}, {'row': 8, 'col': 15, 'val': 6}, {'row': 9, 'col': 2, 'val': 8}, {'row': 9, 'col': 3, 'val': 8}, {'row': 9, 'col': 4, 'val': 3}, {'row': 9, 'col': 5, 'val': 3}, {'row': 9, 'col': 6, 'val': 8}, {'row': 9, 'col': 7, 'val': 8}, {'row': 9, 'col': 10, 'val': 3}, {'row': 9, 'col': 11, 'val': 8}, {'row': 9, 'col': 12, 'val': 3}, {'row': 9, 'col': 13, 'val': 3}, {'row': 9, 'col': 14, 'val': 8}, {'row': 9, 'col': 15, 'val': 3}, {'row': 9, 'col': 17, 'val': 3}, {'row': 9, 'col': 21, 'val': 3}, {'row': 10, 'col': 2, 'val': 8}, {'row': 10, 'col': 3, 'val': 8}, {'row': 10, 'col': 4, 'val': 3}, {'row': 10, 'col': 5, 'val': 3}, {'row': 10, 'col': 6, 'val': 3}, {'row': 10, 'col': 7, 'val': 8}, {'row': 10, 'col': 10, 'val': 3}, {'row': 10, 'col': 11, 'val': 8}, {'row': 10, 'col': 12, 'val': 3}, {'row': 10, 'col': 13, 'val': 3}, {'row': 10, 'col': 14, 'val': 8}, {'row': 10, 'col': 15, 'val': 8}, {'row': 11, 'col': 2, 'val': 8}, {'row': 11, 'col': 3, 'val': 8}, {'row': 11, 'col': 4, 'val': 3}, {'row': 11, 'col': 5, 'val': 3}, {'row': 11, 'col': 6, 'val': 8}, {'row': 11, 'col': 7, 'val': 8}, {'row': 11, 'col': 10, 'val': 8}, {'row': 11, 'col': 11, 'val': 3}, {'row': 11, 'col': 12, 'val': 3}, {'row': 11, 'col': 13, 'val': 3}, {'row': 11, 'col': 14, 'val': 3}, {'row': 11, 'col': 15, 'val': 8}, {'row': 12, 'col': 0, 'val': 3}, {'row': 12, 'col': 1, 'val': 3}, {'row': 12, 'col': 2, 'val': 8}, {'row': 12, 'col': 3, 'val': 8}, {'row': 12, 'col': 4, 'val': 3}, {'row': 12, 'col': 5, 'val': 3}, {'row': 12, 'col': 6, 'val': 8}, {'row': 12, 'col': 7, 'val': 8}, {'row': 12, 'col': 10, 'val': 8}, {'row': 12, 'col': 11, 'val': 8}, {'row': 12, 'col': 12, 'val': 3}, {'row': 12, 'col': 13, 'val': 3}, {'row': 12, 'col': 14, 'val': 8}, {'row': 12, 'col': 15, 'val': 8}, {'row': 13, 'col': 13, 'val': 3}, {'row': 13, 'col': 18, 'val': 3}, {'row': 14, 'col': 9, 'val': 3}, {'row': 14, 'col': 12, 'val': 3}, {'row': 15, 'col': 2, 'val': 6}, {'row': 15, 'col': 3, 'val': 6}, {'row': 15, 'col': 4, 'val': 3}, {'row': 15, 'col': 5, 'val': 6}, {'row': 15, 'col': 6, 'val': 6}, {'row': 15, 'col': 7, 'val': 6}, {'row': 15, 'col': 9, 'val': 3}, {'row': 15, 'col': 10, 'val': 6}, {'row': 15, 'col': 11, 'val': 6}, {'row': 15, 'col': 12, 'val': 6}, {'row': 15, 'col': 13, 'val': 3}, {'row': 15, 'col': 14, 'val': 6}, {'row': 15, 'col': 15, 'val': 6}, {'row': 16, 'col': 2, 'val': 8}, {'row': 16, 'col': 3, 'val': 8}, {'row': 16, 'col': 4, 'val': 3}, {'row': 16, 'col': 5, 'val': 3}, {'row': 16, 'col': 6, 'val': 8}, {'row': 16, 'col': 7, 'val': 8}, {'row': 16, 'col': 10, 'val': 8}, {'row': 16, 'col': 11, 'val': 8}, {'row': 16, 'col': 12, 'val': 3}, {'row': 16, 'col': 13, 'val': 3}, {'row': 16, 'col': 14, 'val': 8}, {'row': 16, 'col': 15, 'val': 8}, {'row': 16, 'col': 20, 'val': 3}, {'row': 17, 'col': 2, 'val': 8}, {'row': 17, 'col': 3, 'val': 3}, {'row': 17, 'col': 4, 'val': 3}, {'row': 17, 'col': 5, 'val': 3}, {'row': 17, 'col': 6, 'val': 8}, {'row': 17, 'col': 7, 'val': 8}, {'row': 17, 'col': 10, 'val': 8}, {'row': 17, 'col': 11, 'val': 8}, {'row': 17, 'col': 12, 'val': 3}, {'row': 17, 'col': 13, 'val': 3}, {'row': 17, 'col': 14, 'val': 8}, {'row': 17, 'col': 15, 'val': 8}, {'row': 18, 'col': 2, 'val': 8}, {'row': 18, 'col': 3, 'val': 8}, {'row': 18, 'col': 4, 'val': 3}, {'row': 18, 'col': 5, 'val': 3}, {'row': 18, 'col': 6, 'val': 8}, {'row': 18, 'col': 7, 'val': 8}, {'row': 18, 'col': 10, 'val': 8}, {'row': 18, 'col': 11, 'val': 8}, {'row': 18, 'col': 12, 'val': 3}, {'row': 18, 'col': 13, 'val': 3}, {'row': 18, 'col': 14, 'val': 8}, {'row': 18, 'col': 15, 'val': 8}, {'row': 19, 'col': 2, 'val': 8}, {'row': 19, 'col': 3, 'val': 8}, {'row': 19, 'col': 4, 'val': 3}, {'row': 19, 'col': 5, 'val': 3}, {'row': 19, 'col': 6, 'val': 8}, {'row': 19, 'col': 7, 'val': 8}, {'row': 19, 'col': 10, 'val': 8}, {'row': 19, 'col': 11, 'val': 8}, {'row': 19, 'col': 12, 'val': 3}, {'row': 19, 'col': 13, 'val': 3}, {'row': 19, 'col': 14, 'val': 8}, {'row': 19, 'col': 15, 'val': 8}, {'row': 20, 'col': 6, 'val': 3}, {'row': 20, 'col': 7, 'val': 3}, {'row': 21, 'col': 9, 'val': 3}, {'row': 21, 'col': 12, 'val': 3}, {'row': 21, 'col': 16, 'val': 3}, {'row': 22, 'col': 7, 'val': 3}]\n",
      "Train Output 1: [{'row': 1, 'col': 2, 'val': 6}, {'row': 1, 'col': 3, 'val': 6}, {'row': 1, 'col': 4, 'val': 6}, {'row': 1, 'col': 5, 'val': 6}, {'row': 1, 'col': 6, 'val': 6}, {'row': 1, 'col': 7, 'val': 6}, {'row': 1, 'col': 10, 'val': 6}, {'row': 1, 'col': 11, 'val': 6}, {'row': 1, 'col': 12, 'val': 6}, {'row': 1, 'col': 13, 'val': 6}, {'row': 1, 'col': 14, 'val': 6}, {'row': 1, 'col': 15, 'val': 6}, {'row': 2, 'col': 2, 'val': 8}, {'row': 2, 'col': 3, 'val': 8}, {'row': 2, 'col': 4, 'val': 3}, {'row': 2, 'col': 5, 'val': 3}, {'row': 2, 'col': 6, 'val': 8}, {'row': 2, 'col': 7, 'val': 8}, {'row': 2, 'col': 10, 'val': 8}, {'row': 2, 'col': 11, 'val': 8}, {'row': 2, 'col': 12, 'val': 3}, {'row': 2, 'col': 13, 'val': 3}, {'row': 2, 'col': 14, 'val': 8}, {'row': 2, 'col': 15, 'val': 8}, {'row': 3, 'col': 2, 'val': 8}, {'row': 3, 'col': 3, 'val': 8}, {'row': 3, 'col': 4, 'val': 3}, {'row': 3, 'col': 5, 'val': 3}, {'row': 3, 'col': 6, 'val': 8}, {'row': 3, 'col': 7, 'val': 8}, {'row': 3, 'col': 10, 'val': 8}, {'row': 3, 'col': 11, 'val': 8}, {'row': 3, 'col': 12, 'val': 3}, {'row': 3, 'col': 13, 'val': 3}, {'row': 3, 'col': 14, 'val': 8}, {'row': 3, 'col': 15, 'val': 8}, {'row': 4, 'col': 2, 'val': 8}, {'row': 4, 'col': 3, 'val': 8}, {'row': 4, 'col': 4, 'val': 3}, {'row': 4, 'col': 5, 'val': 3}, {'row': 4, 'col': 6, 'val': 8}, {'row': 4, 'col': 7, 'val': 8}, {'row': 4, 'col': 10, 'val': 8}, {'row': 4, 'col': 11, 'val': 8}, {'row': 4, 'col': 12, 'val': 3}, {'row': 4, 'col': 13, 'val': 3}, {'row': 4, 'col': 14, 'val': 8}, {'row': 4, 'col': 15, 'val': 8}, {'row': 5, 'col': 2, 'val': 8}, {'row': 5, 'col': 3, 'val': 8}, {'row': 5, 'col': 4, 'val': 3}, {'row': 5, 'col': 5, 'val': 3}, {'row': 5, 'col': 6, 'val': 8}, {'row': 5, 'col': 7, 'val': 8}, {'row': 5, 'col': 10, 'val': 8}, {'row': 5, 'col': 11, 'val': 8}, {'row': 5, 'col': 12, 'val': 3}, {'row': 5, 'col': 13, 'val': 3}, {'row': 5, 'col': 14, 'val': 8}, {'row': 5, 'col': 15, 'val': 8}, {'row': 8, 'col': 2, 'val': 6}, {'row': 8, 'col': 3, 'val': 6}, {'row': 8, 'col': 4, 'val': 6}, {'row': 8, 'col': 5, 'val': 6}, {'row': 8, 'col': 6, 'val': 6}, {'row': 8, 'col': 7, 'val': 6}, {'row': 8, 'col': 10, 'val': 6}, {'row': 8, 'col': 11, 'val': 6}, {'row': 8, 'col': 12, 'val': 6}, {'row': 8, 'col': 13, 'val': 6}, {'row': 8, 'col': 14, 'val': 6}, {'row': 8, 'col': 15, 'val': 6}, {'row': 9, 'col': 2, 'val': 8}, {'row': 9, 'col': 3, 'val': 8}, {'row': 9, 'col': 4, 'val': 3}, {'row': 9, 'col': 5, 'val': 3}, {'row': 9, 'col': 6, 'val': 8}, {'row': 9, 'col': 7, 'val': 8}, {'row': 9, 'col': 10, 'val': 8}, {'row': 9, 'col': 11, 'val': 8}, {'row': 9, 'col': 12, 'val': 3}, {'row': 9, 'col': 13, 'val': 3}, {'row': 9, 'col': 14, 'val': 8}, {'row': 9, 'col': 15, 'val': 8}, {'row': 10, 'col': 2, 'val': 8}, {'row': 10, 'col': 3, 'val': 8}, {'row': 10, 'col': 4, 'val': 3}, {'row': 10, 'col': 5, 'val': 3}, {'row': 10, 'col': 6, 'val': 8}, {'row': 10, 'col': 7, 'val': 8}, {'row': 10, 'col': 10, 'val': 8}, {'row': 10, 'col': 11, 'val': 8}, {'row': 10, 'col': 12, 'val': 3}, {'row': 10, 'col': 13, 'val': 3}, {'row': 10, 'col': 14, 'val': 8}, {'row': 10, 'col': 15, 'val': 8}, {'row': 11, 'col': 2, 'val': 8}, {'row': 11, 'col': 3, 'val': 8}, {'row': 11, 'col': 4, 'val': 3}, {'row': 11, 'col': 5, 'val': 3}, {'row': 11, 'col': 6, 'val': 8}, {'row': 11, 'col': 7, 'val': 8}, {'row': 11, 'col': 10, 'val': 8}, {'row': 11, 'col': 11, 'val': 8}, {'row': 11, 'col': 12, 'val': 3}, {'row': 11, 'col': 13, 'val': 3}, {'row': 11, 'col': 14, 'val': 8}, {'row': 11, 'col': 15, 'val': 8}, {'row': 12, 'col': 2, 'val': 8}, {'row': 12, 'col': 3, 'val': 8}, {'row': 12, 'col': 4, 'val': 3}, {'row': 12, 'col': 5, 'val': 3}, {'row': 12, 'col': 6, 'val': 8}, {'row': 12, 'col': 7, 'val': 8}, {'row': 12, 'col': 10, 'val': 8}, {'row': 12, 'col': 11, 'val': 8}, {'row': 12, 'col': 12, 'val': 3}, {'row': 12, 'col': 13, 'val': 3}, {'row': 12, 'col': 14, 'val': 8}, {'row': 12, 'col': 15, 'val': 8}, {'row': 15, 'col': 2, 'val': 6}, {'row': 15, 'col': 3, 'val': 6}, {'row': 15, 'col': 4, 'val': 6}, {'row': 15, 'col': 5, 'val': 6}, {'row': 15, 'col': 6, 'val': 6}, {'row': 15, 'col': 7, 'val': 6}, {'row': 15, 'col': 10, 'val': 6}, {'row': 15, 'col': 11, 'val': 6}, {'row': 15, 'col': 12, 'val': 6}, {'row': 15, 'col': 13, 'val': 6}, {'row': 15, 'col': 14, 'val': 6}, {'row': 15, 'col': 15, 'val': 6}, {'row': 16, 'col': 2, 'val': 8}, {'row': 16, 'col': 3, 'val': 8}, {'row': 16, 'col': 4, 'val': 3}, {'row': 16, 'col': 5, 'val': 3}, {'row': 16, 'col': 6, 'val': 8}, {'row': 16, 'col': 7, 'val': 8}, {'row': 16, 'col': 10, 'val': 8}, {'row': 16, 'col': 11, 'val': 8}, {'row': 16, 'col': 12, 'val': 3}, {'row': 16, 'col': 13, 'val': 3}, {'row': 16, 'col': 14, 'val': 8}, {'row': 16, 'col': 15, 'val': 8}, {'row': 17, 'col': 2, 'val': 8}, {'row': 17, 'col': 3, 'val': 8}, {'row': 17, 'col': 4, 'val': 3}, {'row': 17, 'col': 5, 'val': 3}, {'row': 17, 'col': 6, 'val': 8}, {'row': 17, 'col': 7, 'val': 8}, {'row': 17, 'col': 10, 'val': 8}, {'row': 17, 'col': 11, 'val': 8}, {'row': 17, 'col': 12, 'val': 3}, {'row': 17, 'col': 13, 'val': 3}, {'row': 17, 'col': 14, 'val': 8}, {'row': 17, 'col': 15, 'val': 8}, {'row': 18, 'col': 2, 'val': 8}, {'row': 18, 'col': 3, 'val': 8}, {'row': 18, 'col': 4, 'val': 3}, {'row': 18, 'col': 5, 'val': 3}, {'row': 18, 'col': 6, 'val': 8}, {'row': 18, 'col': 7, 'val': 8}, {'row': 18, 'col': 10, 'val': 8}, {'row': 18, 'col': 11, 'val': 8}, {'row': 18, 'col': 12, 'val': 3}, {'row': 18, 'col': 13, 'val': 3}, {'row': 18, 'col': 14, 'val': 8}, {'row': 18, 'col': 15, 'val': 8}, {'row': 19, 'col': 2, 'val': 8}, {'row': 19, 'col': 3, 'val': 8}, {'row': 19, 'col': 4, 'val': 3}, {'row': 19, 'col': 5, 'val': 3}, {'row': 19, 'col': 6, 'val': 8}, {'row': 19, 'col': 7, 'val': 8}, {'row': 19, 'col': 10, 'val': 8}, {'row': 19, 'col': 11, 'val': 8}, {'row': 19, 'col': 12, 'val': 3}, {'row': 19, 'col': 13, 'val': 3}, {'row': 19, 'col': 14, 'val': 8}, {'row': 19, 'col': 15, 'val': 8}]\n",
      "\n",
      "Train Input 2: [{'row': 0, 'col': 1, 'val': 3}, {'row': 0, 'col': 5, 'val': 3}, {'row': 0, 'col': 6, 'val': 3}, {'row': 0, 'col': 11, 'val': 3}, {'row': 1, 'col': 1, 'val': 1}, {'row': 1, 'col': 2, 'val': 1}, {'row': 1, 'col': 3, 'val': 2}, {'row': 1, 'col': 4, 'val': 3}, {'row': 1, 'col': 5, 'val': 3}, {'row': 1, 'col': 7, 'val': 1}, {'row': 1, 'col': 8, 'val': 1}, {'row': 1, 'col': 9, 'val': 2}, {'row': 1, 'col': 10, 'val': 3}, {'row': 1, 'col': 11, 'val': 3}, {'row': 1, 'col': 12, 'val': 1}, {'row': 1, 'col': 13, 'val': 1}, {'row': 1, 'col': 14, 'val': 1}, {'row': 1, 'col': 15, 'val': 2}, {'row': 1, 'col': 16, 'val': 3}, {'row': 1, 'col': 17, 'val': 3}, {'row': 1, 'col': 19, 'val': 3}, {'row': 2, 'col': 1, 'val': 1}, {'row': 2, 'col': 2, 'val': 1}, {'row': 2, 'col': 3, 'val': 3}, {'row': 2, 'col': 4, 'val': 3}, {'row': 2, 'col': 5, 'val': 3}, {'row': 2, 'col': 7, 'val': 1}, {'row': 2, 'col': 8, 'val': 1}, {'row': 2, 'col': 9, 'val': 2}, {'row': 2, 'col': 10, 'val': 3}, {'row': 2, 'col': 11, 'val': 3}, {'row': 2, 'col': 13, 'val': 1}, {'row': 2, 'col': 14, 'val': 1}, {'row': 2, 'col': 15, 'val': 2}, {'row': 2, 'col': 16, 'val': 3}, {'row': 2, 'col': 17, 'val': 3}, {'row': 2, 'col': 18, 'val': 3}, {'row': 2, 'col': 20, 'val': 3}, {'row': 3, 'col': 1, 'val': 1}, {'row': 3, 'col': 2, 'val': 1}, {'row': 3, 'col': 3, 'val': 2}, {'row': 3, 'col': 4, 'val': 3}, {'row': 3, 'col': 5, 'val': 3}, {'row': 3, 'col': 7, 'val': 1}, {'row': 3, 'col': 8, 'val': 1}, {'row': 3, 'col': 9, 'val': 2}, {'row': 3, 'col': 10, 'val': 3}, {'row': 3, 'col': 11, 'val': 3}, {'row': 3, 'col': 13, 'val': 1}, {'row': 3, 'col': 14, 'val': 1}, {'row': 3, 'col': 15, 'val': 1}, {'row': 3, 'col': 16, 'val': 3}, {'row': 3, 'col': 17, 'val': 3}, {'row': 3, 'col': 21, 'val': 3}, {'row': 4, 'col': 1, 'val': 1}, {'row': 4, 'col': 2, 'val': 3}, {'row': 4, 'col': 3, 'val': 3}, {'row': 4, 'col': 4, 'val': 3}, {'row': 4, 'col': 5, 'val': 1}, {'row': 4, 'col': 7, 'val': 1}, {'row': 4, 'col': 8, 'val': 1}, {'row': 4, 'col': 9, 'val': 2}, {'row': 4, 'col': 10, 'val': 3}, {'row': 4, 'col': 11, 'val': 3}, {'row': 4, 'col': 13, 'val': 1}, {'row': 4, 'col': 14, 'val': 1}, {'row': 4, 'col': 15, 'val': 2}, {'row': 4, 'col': 16, 'val': 3}, {'row': 4, 'col': 17, 'val': 3}, {'row': 5, 'col': 1, 'val': 8}, {'row': 5, 'col': 2, 'val': 8}, {'row': 5, 'col': 3, 'val': 8}, {'row': 5, 'col': 4, 'val': 8}, {'row': 5, 'col': 5, 'val': 8}, {'row': 5, 'col': 7, 'val': 8}, {'row': 5, 'col': 8, 'val': 8}, {'row': 5, 'col': 9, 'val': 8}, {'row': 5, 'col': 10, 'val': 8}, {'row': 5, 'col': 11, 'val': 8}, {'row': 5, 'col': 13, 'val': 8}, {'row': 5, 'col': 14, 'val': 8}, {'row': 5, 'col': 15, 'val': 8}, {'row': 5, 'col': 16, 'val': 8}, {'row': 5, 'col': 17, 'val': 8}, {'row': 7, 'col': 1, 'val': 3}, {'row': 7, 'col': 2, 'val': 1}, {'row': 7, 'col': 3, 'val': 3}, {'row': 7, 'col': 4, 'val': 3}, {'row': 7, 'col': 5, 'val': 3}, {'row': 7, 'col': 7, 'val': 3}, {'row': 7, 'col': 8, 'val': 1}, {'row': 7, 'col': 9, 'val': 2}, {'row': 7, 'col': 10, 'val': 3}, {'row': 7, 'col': 11, 'val': 3}, {'row': 7, 'col': 13, 'val': 1}, {'row': 7, 'col': 14, 'val': 1}, {'row': 7, 'col': 15, 'val': 2}, {'row': 7, 'col': 16, 'val': 3}, {'row': 7, 'col': 17, 'val': 3}, {'row': 7, 'col': 20, 'val': 3}, {'row': 8, 'col': 1, 'val': 1}, {'row': 8, 'col': 2, 'val': 1}, {'row': 8, 'col': 3, 'val': 2}, {'row': 8, 'col': 4, 'val': 3}, {'row': 8, 'col': 5, 'val': 3}, {'row': 8, 'col': 7, 'val': 1}, {'row': 8, 'col': 8, 'val': 1}, {'row': 8, 'col': 9, 'val': 2}, {'row': 8, 'col': 10, 'val': 3}, {'row': 8, 'col': 11, 'val': 3}, {'row': 8, 'col': 13, 'val': 1}, {'row': 8, 'col': 14, 'val': 1}, {'row': 8, 'col': 15, 'val': 2}, {'row': 8, 'col': 16, 'val': 3}, {'row': 8, 'col': 17, 'val': 3}, {'row': 9, 'col': 1, 'val': 1}, {'row': 9, 'col': 2, 'val': 1}, {'row': 9, 'col': 3, 'val': 2}, {'row': 9, 'col': 4, 'val': 3}, {'row': 9, 'col': 5, 'val': 3}, {'row': 9, 'col': 7, 'val': 1}, {'row': 9, 'col': 8, 'val': 3}, {'row': 9, 'col': 9, 'val': 2}, {'row': 9, 'col': 10, 'val': 1}, {'row': 9, 'col': 11, 'val': 3}, {'row': 9, 'col': 13, 'val': 1}, {'row': 9, 'col': 14, 'val': 1}, {'row': 9, 'col': 15, 'val': 2}, {'row': 9, 'col': 16, 'val': 3}, {'row': 9, 'col': 17, 'val': 3}, {'row': 10, 'col': 0, 'val': 1}, {'row': 10, 'col': 1, 'val': 1}, {'row': 10, 'col': 2, 'val': 1}, {'row': 10, 'col': 3, 'val': 2}, {'row': 10, 'col': 4, 'val': 3}, {'row': 10, 'col': 5, 'val': 3}, {'row': 10, 'col': 7, 'val': 1}, {'row': 10, 'col': 8, 'val': 1}, {'row': 10, 'col': 9, 'val': 2}, {'row': 10, 'col': 10, 'val': 3}, {'row': 10, 'col': 11, 'val': 3}, {'row': 10, 'col': 12, 'val': 3}, {'row': 10, 'col': 13, 'val': 1}, {'row': 10, 'col': 14, 'val': 3}, {'row': 10, 'col': 15, 'val': 2}, {'row': 10, 'col': 16, 'val': 3}, {'row': 10, 'col': 17, 'val': 3}, {'row': 11, 'col': 1, 'val': 8}, {'row': 11, 'col': 2, 'val': 1}, {'row': 11, 'col': 3, 'val': 8}, {'row': 11, 'col': 4, 'val': 8}, {'row': 11, 'col': 5, 'val': 3}, {'row': 11, 'col': 7, 'val': 8}, {'row': 11, 'col': 8, 'val': 8}, {'row': 11, 'col': 9, 'val': 8}, {'row': 11, 'col': 10, 'val': 8}, {'row': 11, 'col': 11, 'val': 8}, {'row': 11, 'col': 13, 'val': 1}, {'row': 11, 'col': 14, 'val': 8}, {'row': 11, 'col': 15, 'val': 8}, {'row': 11, 'col': 16, 'val': 8}, {'row': 11, 'col': 17, 'val': 8}, {'row': 12, 'col': 3, 'val': 1}, {'row': 12, 'col': 19, 'val': 3}, {'row': 12, 'col': 20, 'val': 3}, {'row': 13, 'col': 1, 'val': 1}, {'row': 13, 'col': 2, 'val': 1}, {'row': 13, 'col': 3, 'val': 2}, {'row': 13, 'col': 4, 'val': 3}, {'row': 13, 'col': 5, 'val': 3}, {'row': 13, 'col': 7, 'val': 1}, {'row': 13, 'col': 8, 'val': 1}, {'row': 13, 'col': 9, 'val': 2}, {'row': 13, 'col': 10, 'val': 3}, {'row': 13, 'col': 11, 'val': 3}, {'row': 13, 'col': 13, 'val': 1}, {'row': 13, 'col': 14, 'val': 1}, {'row': 13, 'col': 15, 'val': 2}, {'row': 13, 'col': 16, 'val': 3}, {'row': 13, 'col': 17, 'val': 3}, {'row': 13, 'col': 20, 'val': 3}, {'row': 14, 'col': 1, 'val': 1}, {'row': 14, 'col': 2, 'val': 1}, {'row': 14, 'col': 3, 'val': 3}, {'row': 14, 'col': 4, 'val': 3}, {'row': 14, 'col': 5, 'val': 3}, {'row': 14, 'col': 7, 'val': 1}, {'row': 14, 'col': 8, 'val': 1}, {'row': 14, 'col': 9, 'val': 2}, {'row': 14, 'col': 10, 'val': 3}, {'row': 14, 'col': 11, 'val': 3}, {'row': 14, 'col': 13, 'val': 1}, {'row': 14, 'col': 14, 'val': 1}, {'row': 14, 'col': 15, 'val': 2}, {'row': 14, 'col': 16, 'val': 3}, {'row': 14, 'col': 17, 'val': 3}, {'row': 15, 'col': 1, 'val': 1}, {'row': 15, 'col': 2, 'val': 1}, {'row': 15, 'col': 3, 'val': 2}, {'row': 15, 'col': 4, 'val': 3}, {'row': 15, 'col': 5, 'val': 3}, {'row': 15, 'col': 7, 'val': 1}, {'row': 15, 'col': 8, 'val': 1}, {'row': 15, 'col': 9, 'val': 1}, {'row': 15, 'col': 10, 'val': 3}, {'row': 15, 'col': 11, 'val': 3}, {'row': 15, 'col': 13, 'val': 1}, {'row': 15, 'col': 14, 'val': 1}, {'row': 15, 'col': 15, 'val': 2}, {'row': 15, 'col': 16, 'val': 3}, {'row': 15, 'col': 17, 'val': 1}, {'row': 16, 'col': 0, 'val': 1}, {'row': 16, 'col': 1, 'val': 1}, {'row': 16, 'col': 2, 'val': 1}, {'row': 16, 'col': 3, 'val': 2}, {'row': 16, 'col': 4, 'val': 3}, {'row': 16, 'col': 5, 'val': 3}, {'row': 16, 'col': 7, 'val': 1}, {'row': 16, 'col': 8, 'val': 1}, {'row': 16, 'col': 9, 'val': 2}, {'row': 16, 'col': 10, 'val': 3}, {'row': 16, 'col': 11, 'val': 1}, {'row': 16, 'col': 13, 'val': 1}, {'row': 16, 'col': 14, 'val': 1}, {'row': 16, 'col': 15, 'val': 2}, {'row': 16, 'col': 16, 'val': 3}, {'row': 16, 'col': 17, 'val': 3}, {'row': 17, 'col': 0, 'val': 3}, {'row': 17, 'col': 1, 'val': 8}, {'row': 17, 'col': 2, 'val': 8}, {'row': 17, 'col': 3, 'val': 8}, {'row': 17, 'col': 4, 'val': 3}, {'row': 17, 'col': 5, 'val': 3}, {'row': 17, 'col': 6, 'val': 1}, {'row': 17, 'col': 7, 'val': 8}, {'row': 17, 'col': 8, 'val': 8}, {'row': 17, 'col': 9, 'val': 8}, {'row': 17, 'col': 10, 'val': 8}, {'row': 17, 'col': 11, 'val': 8}, {'row': 17, 'col': 13, 'val': 8}, {'row': 17, 'col': 14, 'val': 8}, {'row': 17, 'col': 15, 'val': 8}, {'row': 17, 'col': 16, 'val': 8}, {'row': 17, 'col': 17, 'val': 8}, {'row': 17, 'col': 20, 'val': 1}, {'row': 18, 'col': 1, 'val': 1}, {'row': 19, 'col': 1, 'val': 3}, {'row': 19, 'col': 2, 'val': 3}, {'row': 19, 'col': 4, 'val': 3}, {'row': 19, 'col': 6, 'val': 3}, {'row': 19, 'col': 8, 'val': 1}, {'row': 19, 'col': 9, 'val': 1}, {'row': 19, 'col': 11, 'val': 3}, {'row': 19, 'col': 21, 'val': 1}, {'row': 20, 'col': 2, 'val': 3}, {'row': 20, 'col': 5, 'val': 1}, {'row': 20, 'col': 11, 'val': 3}]\n",
      "Train Output 2: [{'row': 1, 'col': 1, 'val': 1}, {'row': 1, 'col': 2, 'val': 1}, {'row': 1, 'col': 3, 'val': 2}, {'row': 1, 'col': 4, 'val': 3}, {'row': 1, 'col': 5, 'val': 3}, {'row': 1, 'col': 7, 'val': 1}, {'row': 1, 'col': 8, 'val': 1}, {'row': 1, 'col': 9, 'val': 2}, {'row': 1, 'col': 10, 'val': 3}, {'row': 1, 'col': 11, 'val': 3}, {'row': 1, 'col': 13, 'val': 1}, {'row': 1, 'col': 14, 'val': 1}, {'row': 1, 'col': 15, 'val': 2}, {'row': 1, 'col': 16, 'val': 3}, {'row': 1, 'col': 17, 'val': 3}, {'row': 2, 'col': 1, 'val': 1}, {'row': 2, 'col': 2, 'val': 1}, {'row': 2, 'col': 3, 'val': 2}, {'row': 2, 'col': 4, 'val': 3}, {'row': 2, 'col': 5, 'val': 3}, {'row': 2, 'col': 7, 'val': 1}, {'row': 2, 'col': 8, 'val': 1}, {'row': 2, 'col': 9, 'val': 2}, {'row': 2, 'col': 10, 'val': 3}, {'row': 2, 'col': 11, 'val': 3}, {'row': 2, 'col': 13, 'val': 1}, {'row': 2, 'col': 14, 'val': 1}, {'row': 2, 'col': 15, 'val': 2}, {'row': 2, 'col': 16, 'val': 3}, {'row': 2, 'col': 17, 'val': 3}, {'row': 3, 'col': 1, 'val': 1}, {'row': 3, 'col': 2, 'val': 1}, {'row': 3, 'col': 3, 'val': 2}, {'row': 3, 'col': 4, 'val': 3}, {'row': 3, 'col': 5, 'val': 3}, {'row': 3, 'col': 7, 'val': 1}, {'row': 3, 'col': 8, 'val': 1}, {'row': 3, 'col': 9, 'val': 2}, {'row': 3, 'col': 10, 'val': 3}, {'row': 3, 'col': 11, 'val': 3}, {'row': 3, 'col': 13, 'val': 1}, {'row': 3, 'col': 14, 'val': 1}, {'row': 3, 'col': 15, 'val': 2}, {'row': 3, 'col': 16, 'val': 3}, {'row': 3, 'col': 17, 'val': 3}, {'row': 4, 'col': 1, 'val': 1}, {'row': 4, 'col': 2, 'val': 1}, {'row': 4, 'col': 3, 'val': 2}, {'row': 4, 'col': 4, 'val': 3}, {'row': 4, 'col': 5, 'val': 3}, {'row': 4, 'col': 7, 'val': 1}, {'row': 4, 'col': 8, 'val': 1}, {'row': 4, 'col': 9, 'val': 2}, {'row': 4, 'col': 10, 'val': 3}, {'row': 4, 'col': 11, 'val': 3}, {'row': 4, 'col': 13, 'val': 1}, {'row': 4, 'col': 14, 'val': 1}, {'row': 4, 'col': 15, 'val': 2}, {'row': 4, 'col': 16, 'val': 3}, {'row': 4, 'col': 17, 'val': 3}, {'row': 5, 'col': 1, 'val': 8}, {'row': 5, 'col': 2, 'val': 8}, {'row': 5, 'col': 3, 'val': 8}, {'row': 5, 'col': 4, 'val': 8}, {'row': 5, 'col': 5, 'val': 8}, {'row': 5, 'col': 7, 'val': 8}, {'row': 5, 'col': 8, 'val': 8}, {'row': 5, 'col': 9, 'val': 8}, {'row': 5, 'col': 10, 'val': 8}, {'row': 5, 'col': 11, 'val': 8}, {'row': 5, 'col': 13, 'val': 8}, {'row': 5, 'col': 14, 'val': 8}, {'row': 5, 'col': 15, 'val': 8}, {'row': 5, 'col': 16, 'val': 8}, {'row': 5, 'col': 17, 'val': 8}, {'row': 7, 'col': 1, 'val': 1}, {'row': 7, 'col': 2, 'val': 1}, {'row': 7, 'col': 3, 'val': 2}, {'row': 7, 'col': 4, 'val': 3}, {'row': 7, 'col': 5, 'val': 3}, {'row': 7, 'col': 7, 'val': 1}, {'row': 7, 'col': 8, 'val': 1}, {'row': 7, 'col': 9, 'val': 2}, {'row': 7, 'col': 10, 'val': 3}, {'row': 7, 'col': 11, 'val': 3}, {'row': 7, 'col': 13, 'val': 1}, {'row': 7, 'col': 14, 'val': 1}, {'row': 7, 'col': 15, 'val': 2}, {'row': 7, 'col': 16, 'val': 3}, {'row': 7, 'col': 17, 'val': 3}, {'row': 8, 'col': 1, 'val': 1}, {'row': 8, 'col': 2, 'val': 1}, {'row': 8, 'col': 3, 'val': 2}, {'row': 8, 'col': 4, 'val': 3}, {'row': 8, 'col': 5, 'val': 3}, {'row': 8, 'col': 7, 'val': 1}, {'row': 8, 'col': 8, 'val': 1}, {'row': 8, 'col': 9, 'val': 2}, {'row': 8, 'col': 10, 'val': 3}, {'row': 8, 'col': 11, 'val': 3}, {'row': 8, 'col': 13, 'val': 1}, {'row': 8, 'col': 14, 'val': 1}, {'row': 8, 'col': 15, 'val': 2}, {'row': 8, 'col': 16, 'val': 3}, {'row': 8, 'col': 17, 'val': 3}, {'row': 9, 'col': 1, 'val': 1}, {'row': 9, 'col': 2, 'val': 1}, {'row': 9, 'col': 3, 'val': 2}, {'row': 9, 'col': 4, 'val': 3}, {'row': 9, 'col': 5, 'val': 3}, {'row': 9, 'col': 7, 'val': 1}, {'row': 9, 'col': 8, 'val': 1}, {'row': 9, 'col': 9, 'val': 2}, {'row': 9, 'col': 10, 'val': 3}, {'row': 9, 'col': 11, 'val': 3}, {'row': 9, 'col': 13, 'val': 1}, {'row': 9, 'col': 14, 'val': 1}, {'row': 9, 'col': 15, 'val': 2}, {'row': 9, 'col': 16, 'val': 3}, {'row': 9, 'col': 17, 'val': 3}, {'row': 10, 'col': 1, 'val': 1}, {'row': 10, 'col': 2, 'val': 1}, {'row': 10, 'col': 3, 'val': 2}, {'row': 10, 'col': 4, 'val': 3}, {'row': 10, 'col': 5, 'val': 3}, {'row': 10, 'col': 7, 'val': 1}, {'row': 10, 'col': 8, 'val': 1}, {'row': 10, 'col': 9, 'val': 2}, {'row': 10, 'col': 10, 'val': 3}, {'row': 10, 'col': 11, 'val': 3}, {'row': 10, 'col': 13, 'val': 1}, {'row': 10, 'col': 14, 'val': 1}, {'row': 10, 'col': 15, 'val': 2}, {'row': 10, 'col': 16, 'val': 3}, {'row': 10, 'col': 17, 'val': 3}, {'row': 11, 'col': 1, 'val': 8}, {'row': 11, 'col': 2, 'val': 8}, {'row': 11, 'col': 3, 'val': 8}, {'row': 11, 'col': 4, 'val': 8}, {'row': 11, 'col': 5, 'val': 8}, {'row': 11, 'col': 7, 'val': 8}, {'row': 11, 'col': 8, 'val': 8}, {'row': 11, 'col': 9, 'val': 8}, {'row': 11, 'col': 10, 'val': 8}, {'row': 11, 'col': 11, 'val': 8}, {'row': 11, 'col': 13, 'val': 8}, {'row': 11, 'col': 14, 'val': 8}, {'row': 11, 'col': 15, 'val': 8}, {'row': 11, 'col': 16, 'val': 8}, {'row': 11, 'col': 17, 'val': 8}, {'row': 13, 'col': 1, 'val': 1}, {'row': 13, 'col': 2, 'val': 1}, {'row': 13, 'col': 3, 'val': 2}, {'row': 13, 'col': 4, 'val': 3}, {'row': 13, 'col': 5, 'val': 3}, {'row': 13, 'col': 7, 'val': 1}, {'row': 13, 'col': 8, 'val': 1}, {'row': 13, 'col': 9, 'val': 2}, {'row': 13, 'col': 10, 'val': 3}, {'row': 13, 'col': 11, 'val': 3}, {'row': 13, 'col': 13, 'val': 1}, {'row': 13, 'col': 14, 'val': 1}, {'row': 13, 'col': 15, 'val': 2}, {'row': 13, 'col': 16, 'val': 3}, {'row': 13, 'col': 17, 'val': 3}, {'row': 14, 'col': 1, 'val': 1}, {'row': 14, 'col': 2, 'val': 1}, {'row': 14, 'col': 3, 'val': 2}, {'row': 14, 'col': 4, 'val': 3}, {'row': 14, 'col': 5, 'val': 3}, {'row': 14, 'col': 7, 'val': 1}, {'row': 14, 'col': 8, 'val': 1}, {'row': 14, 'col': 9, 'val': 2}, {'row': 14, 'col': 10, 'val': 3}, {'row': 14, 'col': 11, 'val': 3}, {'row': 14, 'col': 13, 'val': 1}, {'row': 14, 'col': 14, 'val': 1}, {'row': 14, 'col': 15, 'val': 2}, {'row': 14, 'col': 16, 'val': 3}, {'row': 14, 'col': 17, 'val': 3}, {'row': 15, 'col': 1, 'val': 1}, {'row': 15, 'col': 2, 'val': 1}, {'row': 15, 'col': 3, 'val': 2}, {'row': 15, 'col': 4, 'val': 3}, {'row': 15, 'col': 5, 'val': 3}, {'row': 15, 'col': 7, 'val': 1}, {'row': 15, 'col': 8, 'val': 1}, {'row': 15, 'col': 9, 'val': 2}, {'row': 15, 'col': 10, 'val': 3}, {'row': 15, 'col': 11, 'val': 3}, {'row': 15, 'col': 13, 'val': 1}, {'row': 15, 'col': 14, 'val': 1}, {'row': 15, 'col': 15, 'val': 2}, {'row': 15, 'col': 16, 'val': 3}, {'row': 15, 'col': 17, 'val': 3}, {'row': 16, 'col': 1, 'val': 1}, {'row': 16, 'col': 2, 'val': 1}, {'row': 16, 'col': 3, 'val': 2}, {'row': 16, 'col': 4, 'val': 3}, {'row': 16, 'col': 5, 'val': 3}, {'row': 16, 'col': 7, 'val': 1}, {'row': 16, 'col': 8, 'val': 1}, {'row': 16, 'col': 9, 'val': 2}, {'row': 16, 'col': 10, 'val': 3}, {'row': 16, 'col': 11, 'val': 3}, {'row': 16, 'col': 13, 'val': 1}, {'row': 16, 'col': 14, 'val': 1}, {'row': 16, 'col': 15, 'val': 2}, {'row': 16, 'col': 16, 'val': 3}, {'row': 16, 'col': 17, 'val': 3}, {'row': 17, 'col': 1, 'val': 8}, {'row': 17, 'col': 2, 'val': 8}, {'row': 17, 'col': 3, 'val': 8}, {'row': 17, 'col': 4, 'val': 8}, {'row': 17, 'col': 5, 'val': 8}, {'row': 17, 'col': 7, 'val': 8}, {'row': 17, 'col': 8, 'val': 8}, {'row': 17, 'col': 9, 'val': 8}, {'row': 17, 'col': 10, 'val': 8}, {'row': 17, 'col': 11, 'val': 8}, {'row': 17, 'col': 13, 'val': 8}, {'row': 17, 'col': 14, 'val': 8}, {'row': 17, 'col': 15, 'val': 8}, {'row': 17, 'col': 16, 'val': 8}, {'row': 17, 'col': 17, 'val': 8}]\n",
      "\n",
      "Train Input 3: [{'row': 0, 'col': 21, 'val': 3}, {'row': 1, 'col': 1, 'val': 2}, {'row': 1, 'col': 2, 'val': 2}, {'row': 1, 'col': 3, 'val': 2}, {'row': 1, 'col': 4, 'val': 2}, {'row': 1, 'col': 5, 'val': 2}, {'row': 1, 'col': 7, 'val': 2}, {'row': 1, 'col': 8, 'val': 2}, {'row': 1, 'col': 9, 'val': 2}, {'row': 1, 'col': 10, 'val': 2}, {'row': 1, 'col': 13, 'val': 2}, {'row': 1, 'col': 14, 'val': 2}, {'row': 1, 'col': 15, 'val': 2}, {'row': 1, 'col': 16, 'val': 2}, {'row': 1, 'col': 21, 'val': 3}, {'row': 2, 'col': 1, 'val': 3}, {'row': 2, 'col': 2, 'val': 2}, {'row': 2, 'col': 3, 'val': 2}, {'row': 2, 'col': 4, 'val': 3}, {'row': 2, 'col': 7, 'val': 3}, {'row': 2, 'col': 8, 'val': 2}, {'row': 2, 'col': 9, 'val': 2}, {'row': 2, 'col': 10, 'val': 3}, {'row': 2, 'col': 12, 'val': 3}, {'row': 2, 'col': 13, 'val': 3}, {'row': 2, 'col': 14, 'val': 2}, {'row': 2, 'col': 15, 'val': 2}, {'row': 2, 'col': 16, 'val': 3}, {'row': 2, 'col': 19, 'val': 3}, {'row': 3, 'col': 1, 'val': 2}, {'row': 3, 'col': 2, 'val': 3}, {'row': 3, 'col': 3, 'val': 3}, {'row': 3, 'col': 4, 'val': 3}, {'row': 3, 'col': 7, 'val': 3}, {'row': 3, 'col': 8, 'val': 3}, {'row': 3, 'col': 9, 'val': 3}, {'row': 3, 'col': 10, 'val': 3}, {'row': 3, 'col': 13, 'val': 3}, {'row': 3, 'col': 14, 'val': 3}, {'row': 3, 'col': 15, 'val': 3}, {'row': 3, 'col': 16, 'val': 3}, {'row': 4, 'col': 1, 'val': 2}, {'row': 4, 'col': 2, 'val': 3}, {'row': 4, 'col': 3, 'val': 1}, {'row': 4, 'col': 4, 'val': 3}, {'row': 4, 'col': 7, 'val': 2}, {'row': 4, 'col': 8, 'val': 2}, {'row': 4, 'col': 9, 'val': 1}, {'row': 4, 'col': 10, 'val': 2}, {'row': 4, 'col': 13, 'val': 3}, {'row': 4, 'col': 14, 'val': 1}, {'row': 4, 'col': 15, 'val': 1}, {'row': 4, 'col': 16, 'val': 3}, {'row': 5, 'col': 11, 'val': 2}, {'row': 5, 'col': 18, 'val': 2}, {'row': 6, 'col': 3, 'val': 2}, {'row': 6, 'col': 19, 'val': 3}, {'row': 7, 'col': 1, 'val': 2}, {'row': 7, 'col': 2, 'val': 2}, {'row': 7, 'col': 3, 'val': 2}, {'row': 7, 'col': 4, 'val': 2}, {'row': 7, 'col': 5, 'val': 3}, {'row': 7, 'col': 7, 'val': 2}, {'row': 7, 'col': 8, 'val': 2}, {'row': 7, 'col': 9, 'val': 2}, {'row': 7, 'col': 10, 'val': 2}, {'row': 7, 'col': 13, 'val': 2}, {'row': 7, 'col': 14, 'val': 2}, {'row': 7, 'col': 15, 'val': 2}, {'row': 7, 'col': 16, 'val': 2}, {'row': 7, 'col': 17, 'val': 2}, {'row': 8, 'col': 1, 'val': 3}, {'row': 8, 'col': 2, 'val': 2}, {'row': 8, 'col': 3, 'val': 2}, {'row': 8, 'col': 4, 'val': 3}, {'row': 8, 'col': 7, 'val': 3}, {'row': 8, 'col': 8, 'val': 2}, {'row': 8, 'col': 9, 'val': 2}, {'row': 8, 'col': 10, 'val': 3}, {'row': 8, 'col': 12, 'val': 3}, {'row': 8, 'col': 13, 'val': 3}, {'row': 8, 'col': 14, 'val': 2}, {'row': 8, 'col': 15, 'val': 2}, {'row': 8, 'col': 16, 'val': 3}, {'row': 8, 'col': 17, 'val': 2}, {'row': 9, 'col': 1, 'val': 3}, {'row': 9, 'col': 2, 'val': 3}, {'row': 9, 'col': 3, 'val': 3}, {'row': 9, 'col': 4, 'val': 3}, {'row': 9, 'col': 7, 'val': 3}, {'row': 9, 'col': 8, 'val': 3}, {'row': 9, 'col': 9, 'val': 3}, {'row': 9, 'col': 10, 'val': 3}, {'row': 9, 'col': 13, 'val': 3}, {'row': 9, 'col': 14, 'val': 3}, {'row': 9, 'col': 15, 'val': 3}, {'row': 9, 'col': 16, 'val': 3}, {'row': 10, 'col': 1, 'val': 3}, {'row': 10, 'col': 2, 'val': 3}, {'row': 10, 'col': 3, 'val': 1}, {'row': 10, 'col': 4, 'val': 3}, {'row': 10, 'col': 7, 'val': 3}, {'row': 10, 'col': 8, 'val': 1}, {'row': 10, 'col': 9, 'val': 1}, {'row': 10, 'col': 10, 'val': 3}, {'row': 10, 'col': 13, 'val': 3}, {'row': 10, 'col': 14, 'val': 1}, {'row': 10, 'col': 15, 'val': 1}, {'row': 10, 'col': 16, 'val': 3}, {'row': 12, 'col': 13, 'val': 3}, {'row': 13, 'col': 1, 'val': 2}, {'row': 13, 'col': 2, 'val': 2}, {'row': 13, 'col': 3, 'val': 2}, {'row': 13, 'col': 4, 'val': 2}, {'row': 13, 'col': 7, 'val': 3}, {'row': 13, 'col': 8, 'val': 2}, {'row': 13, 'col': 9, 'val': 3}, {'row': 13, 'col': 10, 'val': 2}, {'row': 13, 'col': 13, 'val': 2}, {'row': 13, 'col': 14, 'val': 3}, {'row': 13, 'col': 15, 'val': 2}, {'row': 13, 'col': 16, 'val': 2}, {'row': 14, 'col': 1, 'val': 3}, {'row': 14, 'col': 2, 'val': 2}, {'row': 14, 'col': 3, 'val': 2}, {'row': 14, 'col': 4, 'val': 3}, {'row': 14, 'col': 7, 'val': 3}, {'row': 14, 'col': 8, 'val': 2}, {'row': 14, 'col': 9, 'val': 3}, {'row': 14, 'col': 10, 'val': 3}, {'row': 14, 'col': 13, 'val': 3}, {'row': 14, 'col': 14, 'val': 2}, {'row': 14, 'col': 15, 'val': 3}, {'row': 14, 'col': 16, 'val': 3}, {'row': 15, 'col': 0, 'val': 3}, {'row': 15, 'col': 1, 'val': 3}, {'row': 15, 'col': 2, 'val': 3}, {'row': 15, 'col': 3, 'val': 3}, {'row': 15, 'col': 4, 'val': 3}, {'row': 15, 'col': 7, 'val': 3}, {'row': 15, 'col': 8, 'val': 3}, {'row': 15, 'col': 9, 'val': 3}, {'row': 15, 'col': 10, 'val': 3}, {'row': 15, 'col': 13, 'val': 3}, {'row': 15, 'col': 14, 'val': 2}, {'row': 15, 'col': 15, 'val': 3}, {'row': 15, 'col': 16, 'val': 3}, {'row': 15, 'col': 19, 'val': 2}, {'row': 16, 'col': 1, 'val': 3}, {'row': 16, 'col': 2, 'val': 1}, {'row': 16, 'col': 3, 'val': 1}, {'row': 16, 'col': 4, 'val': 3}, {'row': 16, 'col': 6, 'val': 3}, {'row': 16, 'col': 7, 'val': 3}, {'row': 16, 'col': 8, 'val': 1}, {'row': 16, 'col': 9, 'val': 1}, {'row': 16, 'col': 10, 'val': 3}, {'row': 16, 'col': 13, 'val': 3}, {'row': 16, 'col': 14, 'val': 1}, {'row': 16, 'col': 15, 'val': 1}, {'row': 16, 'col': 16, 'val': 3}, {'row': 17, 'col': 1, 'val': 2}, {'row': 17, 'col': 4, 'val': 3}, {'row': 18, 'col': 6, 'val': 3}, {'row': 18, 'col': 8, 'val': 2}, {'row': 19, 'col': 1, 'val': 2}, {'row': 19, 'col': 6, 'val': 2}, {'row': 19, 'col': 9, 'val': 3}, {'row': 20, 'col': 10, 'val': 2}, {'row': 20, 'col': 11, 'val': 2}, {'row': 20, 'col': 19, 'val': 2}, {'row': 21, 'col': 3, 'val': 3}, {'row': 21, 'col': 6, 'val': 2}, {'row': 21, 'col': 8, 'val': 2}]\n",
      "Train Output 3: [{'row': 1, 'col': 1, 'val': 2}, {'row': 1, 'col': 2, 'val': 2}, {'row': 1, 'col': 3, 'val': 2}, {'row': 1, 'col': 4, 'val': 2}, {'row': 1, 'col': 7, 'val': 2}, {'row': 1, 'col': 8, 'val': 2}, {'row': 1, 'col': 9, 'val': 2}, {'row': 1, 'col': 10, 'val': 2}, {'row': 1, 'col': 13, 'val': 2}, {'row': 1, 'col': 14, 'val': 2}, {'row': 1, 'col': 15, 'val': 2}, {'row': 1, 'col': 16, 'val': 2}, {'row': 2, 'col': 1, 'val': 3}, {'row': 2, 'col': 2, 'val': 2}, {'row': 2, 'col': 3, 'val': 2}, {'row': 2, 'col': 4, 'val': 3}, {'row': 2, 'col': 7, 'val': 3}, {'row': 2, 'col': 8, 'val': 2}, {'row': 2, 'col': 9, 'val': 2}, {'row': 2, 'col': 10, 'val': 3}, {'row': 2, 'col': 13, 'val': 3}, {'row': 2, 'col': 14, 'val': 2}, {'row': 2, 'col': 15, 'val': 2}, {'row': 2, 'col': 16, 'val': 3}, {'row': 3, 'col': 1, 'val': 3}, {'row': 3, 'col': 2, 'val': 3}, {'row': 3, 'col': 3, 'val': 3}, {'row': 3, 'col': 4, 'val': 3}, {'row': 3, 'col': 7, 'val': 3}, {'row': 3, 'col': 8, 'val': 3}, {'row': 3, 'col': 9, 'val': 3}, {'row': 3, 'col': 10, 'val': 3}, {'row': 3, 'col': 13, 'val': 3}, {'row': 3, 'col': 14, 'val': 3}, {'row': 3, 'col': 15, 'val': 3}, {'row': 3, 'col': 16, 'val': 3}, {'row': 4, 'col': 1, 'val': 3}, {'row': 4, 'col': 2, 'val': 1}, {'row': 4, 'col': 3, 'val': 1}, {'row': 4, 'col': 4, 'val': 3}, {'row': 4, 'col': 7, 'val': 3}, {'row': 4, 'col': 8, 'val': 1}, {'row': 4, 'col': 9, 'val': 1}, {'row': 4, 'col': 10, 'val': 3}, {'row': 4, 'col': 13, 'val': 3}, {'row': 4, 'col': 14, 'val': 1}, {'row': 4, 'col': 15, 'val': 1}, {'row': 4, 'col': 16, 'val': 3}, {'row': 7, 'col': 1, 'val': 2}, {'row': 7, 'col': 2, 'val': 2}, {'row': 7, 'col': 3, 'val': 2}, {'row': 7, 'col': 4, 'val': 2}, {'row': 7, 'col': 7, 'val': 2}, {'row': 7, 'col': 8, 'val': 2}, {'row': 7, 'col': 9, 'val': 2}, {'row': 7, 'col': 10, 'val': 2}, {'row': 7, 'col': 13, 'val': 2}, {'row': 7, 'col': 14, 'val': 2}, {'row': 7, 'col': 15, 'val': 2}, {'row': 7, 'col': 16, 'val': 2}, {'row': 8, 'col': 1, 'val': 3}, {'row': 8, 'col': 2, 'val': 2}, {'row': 8, 'col': 3, 'val': 2}, {'row': 8, 'col': 4, 'val': 3}, {'row': 8, 'col': 7, 'val': 3}, {'row': 8, 'col': 8, 'val': 2}, {'row': 8, 'col': 9, 'val': 2}, {'row': 8, 'col': 10, 'val': 3}, {'row': 8, 'col': 13, 'val': 3}, {'row': 8, 'col': 14, 'val': 2}, {'row': 8, 'col': 15, 'val': 2}, {'row': 8, 'col': 16, 'val': 3}, {'row': 9, 'col': 1, 'val': 3}, {'row': 9, 'col': 2, 'val': 3}, {'row': 9, 'col': 3, 'val': 3}, {'row': 9, 'col': 4, 'val': 3}, {'row': 9, 'col': 7, 'val': 3}, {'row': 9, 'col': 8, 'val': 3}, {'row': 9, 'col': 9, 'val': 3}, {'row': 9, 'col': 10, 'val': 3}, {'row': 9, 'col': 13, 'val': 3}, {'row': 9, 'col': 14, 'val': 3}, {'row': 9, 'col': 15, 'val': 3}, {'row': 9, 'col': 16, 'val': 3}, {'row': 10, 'col': 1, 'val': 3}, {'row': 10, 'col': 2, 'val': 1}, {'row': 10, 'col': 3, 'val': 1}, {'row': 10, 'col': 4, 'val': 3}, {'row': 10, 'col': 7, 'val': 3}, {'row': 10, 'col': 8, 'val': 1}, {'row': 10, 'col': 9, 'val': 1}, {'row': 10, 'col': 10, 'val': 3}, {'row': 10, 'col': 13, 'val': 3}, {'row': 10, 'col': 14, 'val': 1}, {'row': 10, 'col': 15, 'val': 1}, {'row': 10, 'col': 16, 'val': 3}, {'row': 13, 'col': 1, 'val': 2}, {'row': 13, 'col': 2, 'val': 2}, {'row': 13, 'col': 3, 'val': 2}, {'row': 13, 'col': 4, 'val': 2}, {'row': 13, 'col': 7, 'val': 2}, {'row': 13, 'col': 8, 'val': 2}, {'row': 13, 'col': 9, 'val': 2}, {'row': 13, 'col': 10, 'val': 2}, {'row': 13, 'col': 13, 'val': 2}, {'row': 13, 'col': 14, 'val': 2}, {'row': 13, 'col': 15, 'val': 2}, {'row': 13, 'col': 16, 'val': 2}, {'row': 14, 'col': 1, 'val': 3}, {'row': 14, 'col': 2, 'val': 2}, {'row': 14, 'col': 3, 'val': 2}, {'row': 14, 'col': 4, 'val': 3}, {'row': 14, 'col': 7, 'val': 3}, {'row': 14, 'col': 8, 'val': 2}, {'row': 14, 'col': 9, 'val': 2}, {'row': 14, 'col': 10, 'val': 3}, {'row': 14, 'col': 13, 'val': 3}, {'row': 14, 'col': 14, 'val': 2}, {'row': 14, 'col': 15, 'val': 2}, {'row': 14, 'col': 16, 'val': 3}, {'row': 15, 'col': 1, 'val': 3}, {'row': 15, 'col': 2, 'val': 3}, {'row': 15, 'col': 3, 'val': 3}, {'row': 15, 'col': 4, 'val': 3}, {'row': 15, 'col': 7, 'val': 3}, {'row': 15, 'col': 8, 'val': 3}, {'row': 15, 'col': 9, 'val': 3}, {'row': 15, 'col': 10, 'val': 3}, {'row': 15, 'col': 13, 'val': 3}, {'row': 15, 'col': 14, 'val': 3}, {'row': 15, 'col': 15, 'val': 3}, {'row': 15, 'col': 16, 'val': 3}, {'row': 16, 'col': 1, 'val': 3}, {'row': 16, 'col': 2, 'val': 1}, {'row': 16, 'col': 3, 'val': 1}, {'row': 16, 'col': 4, 'val': 3}, {'row': 16, 'col': 7, 'val': 3}, {'row': 16, 'col': 8, 'val': 1}, {'row': 16, 'col': 9, 'val': 1}, {'row': 16, 'col': 10, 'val': 3}, {'row': 16, 'col': 13, 'val': 3}, {'row': 16, 'col': 14, 'val': 1}, {'row': 16, 'col': 15, 'val': 1}, {'row': 16, 'col': 16, 'val': 3}]\n",
      "\n",
      "Built tailored prompt.\n",
      "Saved program for task 0607ce86 as version 1: Candidate_programs_tailored_prompts_full_test\\0607ce86\\solution_v1.py\n",
      "Saved program for task 0607ce86 as version 2: Candidate_programs_tailored_prompts_full_test\\0607ce86\\solution_v2.py\n",
      "Revising solution_v1.py...\n",
      "==================================================\n",
      "\n",
      "In the following you'll receive a Python function that attempted to solve the following task. It didn't succeed and you are tasked with fixing it.\n",
      "\n",
      "- The function must be named: `solve(grid: List[List[int]]) -> List[List[int]]`\n",
      "- Include only the code and necessary imports (e.g., `import numpy as np`)\n",
      "- Do not include comments, explanations, or print statements\n",
      "- Do not hard-code values or specific grid sizes — the function must generalize based on the patterns in the examples\n",
      "- Ensure your solution works for all provided input-output pairs\n",
      "\n",
      "\n",
      "Here is the generated code:\n",
      "def solve(grid):\n",
      "    from collections import Counter\n",
      "    n=len(grid); m=len(grid[0])\n",
      "    row_counts=[sum(1 for v in row if v!=0) for row in grid]\n",
      "    mc=max(row_counts)\n",
      "    if mc==0: return [[0]*m for _ in range(n)]\n",
      "    thr_row=mc/2\n",
      "    nzr=[i for i,c in enumerate(row_counts) if c>thr_row]\n",
      "    bands=[]\n",
      "    for r in nzr:\n",
      "        if not bands or r!=bands[-1][-1]+1:\n",
      "            bands.append([r])\n",
      "        else:\n",
      "            bands[-1].append(r)\n",
      "    first_band=bands[0]\n",
      "    h=len(first_band)\n",
      "    col_counts=[sum(1 for r in first_band if grid[r][c]!=0) for c in range(m)]\n",
      "    thr_col=h/2\n",
      "    cand_cols=[c for c,cc in enumerate(col_counts) if cc>thr_col]\n",
      "    segs=[]\n",
      "    if cand_cols:\n",
      "        s=cand_cols[0]; p=s\n",
      "        for c in cand_cols[1:]:\n",
      "            if c==p+1:\n",
      "                p=c\n",
      "            else:\n",
      "                segs.append((s,p-s+1)); s=c; p=c\n",
      "        segs.append((s,p-s+1))\n",
      "    blocks=[]\n",
      "    for x,w in segs:\n",
      "        b=[[grid[r][c] for c in range(x,x+w)] for r in first_band]\n",
      "        blocks.append(b)\n",
      "    prot=[[0]*segs[0][1] for _ in range(h)]\n",
      "    for i in range(h):\n",
      "        for j in range(segs[0][1]):\n",
      "            vals=[b[i][j] for b in blocks]\n",
      "            prot[i][j]=Counter(vals).most_common(1)[0][0]\n",
      "    out=[[0]*m for _ in range(n)]\n",
      "    for band in bands:\n",
      "        r0=band[0]\n",
      "        for x,w in segs:\n",
      "            for i in range(h):\n",
      "                for j in range(w):\n",
      "                    out[r0+i][x+j]=prot[i][j]\n",
      "    return out\n",
      "\n",
      "Demonstration Pairs:\n",
      "1. Input: [[0, 0, 0, 0, 0, 0, 0, 0, 0, 0, 3, 0, 0, 0, 0, 3, 0, 0, 0, 0, 0, 0], [0, 0, 6, 6, 6, 6, 6, 6, 0, 0, 6, 6, 6, 6, 3, 6, 0, 0, 0, 0, 0, 0], [0, 0, 8, 8, 3, 3, 8, 8, 0, 0, 8, 3, 3, 3, 8, 8, 0, 0, 0, 0, 0, 0], [0, 0, 8, 8, 3, 3, 8, 8, 0, 0, 8, 8, 3, 3, 8, 8, 0, 0, 3, 0, 0, 0], [0, 3, 8, 8, 3, 3, 8, 8, 0, 0, 8, 8, 3, 3, 8, 3, 0, 0, 0, 3, 0, 0], [0, 3, 8, 8, 3, 3, 8, 8, 0, 0, 8, 8, 3, 3, 8, 8, 3, 0, 0, 0, 0, 0], [0, 0, 0, 0, 0, 0, 0, 0, 0, 0, 3, 0, 0, 0, 0, 0, 0, 0, 0, 0, 0, 0], [0, 3, 0, 0, 0, 3, 0, 0, 0, 0, 0, 0, 0, 0, 0, 0, 0, 0, 0, 0, 0, 0], [0, 0, 6, 6, 6, 6, 6, 6, 0, 0, 6, 6, 3, 6, 6, 6, 0, 0, 0, 0, 0, 0], [0, 0, 8, 8, 3, 3, 8, 8, 0, 0, 3, 8, 3, 3, 8, 3, 0, 3, 0, 0, 0, 3], [0, 0, 8, 8, 3, 3, 3, 8, 0, 0, 3, 8, 3, 3, 8, 8, 0, 0, 0, 0, 0, 0], [0, 0, 8, 8, 3, 3, 8, 8, 0, 0, 8, 3, 3, 3, 3, 8, 0, 0, 0, 0, 0, 0], [3, 3, 8, 8, 3, 3, 8, 8, 0, 0, 8, 8, 3, 3, 8, 8, 0, 0, 0, 0, 0, 0], [0, 0, 0, 0, 0, 0, 0, 0, 0, 0, 0, 0, 0, 3, 0, 0, 0, 0, 3, 0, 0, 0], [0, 0, 0, 0, 0, 0, 0, 0, 0, 3, 0, 0, 3, 0, 0, 0, 0, 0, 0, 0, 0, 0], [0, 0, 6, 6, 3, 6, 6, 6, 0, 3, 6, 6, 6, 3, 6, 6, 0, 0, 0, 0, 0, 0], [0, 0, 8, 8, 3, 3, 8, 8, 0, 0, 8, 8, 3, 3, 8, 8, 0, 0, 0, 0, 3, 0], [0, 0, 8, 3, 3, 3, 8, 8, 0, 0, 8, 8, 3, 3, 8, 8, 0, 0, 0, 0, 0, 0], [0, 0, 8, 8, 3, 3, 8, 8, 0, 0, 8, 8, 3, 3, 8, 8, 0, 0, 0, 0, 0, 0], [0, 0, 8, 8, 3, 3, 8, 8, 0, 0, 8, 8, 3, 3, 8, 8, 0, 0, 0, 0, 0, 0], [0, 0, 0, 0, 0, 0, 3, 3, 0, 0, 0, 0, 0, 0, 0, 0, 0, 0, 0, 0, 0, 0], [0, 0, 0, 0, 0, 0, 0, 0, 0, 3, 0, 0, 3, 0, 0, 0, 3, 0, 0, 0, 0, 0], [0, 0, 0, 0, 0, 0, 0, 3, 0, 0, 0, 0, 0, 0, 0, 0, 0, 0, 0, 0, 0, 0]]\n",
      "   Expected Output: [[0, 0, 0, 0, 0, 0, 0, 0, 0, 0, 0, 0, 0, 0, 0, 0, 0, 0, 0, 0, 0, 0], [0, 0, 6, 6, 6, 6, 6, 6, 0, 0, 6, 6, 6, 6, 6, 6, 0, 0, 0, 0, 0, 0], [0, 0, 8, 8, 3, 3, 8, 8, 0, 0, 8, 8, 3, 3, 8, 8, 0, 0, 0, 0, 0, 0], [0, 0, 8, 8, 3, 3, 8, 8, 0, 0, 8, 8, 3, 3, 8, 8, 0, 0, 0, 0, 0, 0], [0, 0, 8, 8, 3, 3, 8, 8, 0, 0, 8, 8, 3, 3, 8, 8, 0, 0, 0, 0, 0, 0], [0, 0, 8, 8, 3, 3, 8, 8, 0, 0, 8, 8, 3, 3, 8, 8, 0, 0, 0, 0, 0, 0], [0, 0, 0, 0, 0, 0, 0, 0, 0, 0, 0, 0, 0, 0, 0, 0, 0, 0, 0, 0, 0, 0], [0, 0, 0, 0, 0, 0, 0, 0, 0, 0, 0, 0, 0, 0, 0, 0, 0, 0, 0, 0, 0, 0], [0, 0, 6, 6, 6, 6, 6, 6, 0, 0, 6, 6, 6, 6, 6, 6, 0, 0, 0, 0, 0, 0], [0, 0, 8, 8, 3, 3, 8, 8, 0, 0, 8, 8, 3, 3, 8, 8, 0, 0, 0, 0, 0, 0], [0, 0, 8, 8, 3, 3, 8, 8, 0, 0, 8, 8, 3, 3, 8, 8, 0, 0, 0, 0, 0, 0], [0, 0, 8, 8, 3, 3, 8, 8, 0, 0, 8, 8, 3, 3, 8, 8, 0, 0, 0, 0, 0, 0], [0, 0, 8, 8, 3, 3, 8, 8, 0, 0, 8, 8, 3, 3, 8, 8, 0, 0, 0, 0, 0, 0], [0, 0, 0, 0, 0, 0, 0, 0, 0, 0, 0, 0, 0, 0, 0, 0, 0, 0, 0, 0, 0, 0], [0, 0, 0, 0, 0, 0, 0, 0, 0, 0, 0, 0, 0, 0, 0, 0, 0, 0, 0, 0, 0, 0], [0, 0, 6, 6, 6, 6, 6, 6, 0, 0, 6, 6, 6, 6, 6, 6, 0, 0, 0, 0, 0, 0], [0, 0, 8, 8, 3, 3, 8, 8, 0, 0, 8, 8, 3, 3, 8, 8, 0, 0, 0, 0, 0, 0], [0, 0, 8, 8, 3, 3, 8, 8, 0, 0, 8, 8, 3, 3, 8, 8, 0, 0, 0, 0, 0, 0], [0, 0, 8, 8, 3, 3, 8, 8, 0, 0, 8, 8, 3, 3, 8, 8, 0, 0, 0, 0, 0, 0], [0, 0, 8, 8, 3, 3, 8, 8, 0, 0, 8, 8, 3, 3, 8, 8, 0, 0, 0, 0, 0, 0], [0, 0, 0, 0, 0, 0, 0, 0, 0, 0, 0, 0, 0, 0, 0, 0, 0, 0, 0, 0, 0, 0], [0, 0, 0, 0, 0, 0, 0, 0, 0, 0, 0, 0, 0, 0, 0, 0, 0, 0, 0, 0, 0, 0], [0, 0, 0, 0, 0, 0, 0, 0, 0, 0, 0, 0, 0, 0, 0, 0, 0, 0, 0, 0, 0, 0]]\n",
      "   Generated Output: [[0, 0, 0, 0, 0, 0, 0, 0, 0, 0, 0, 0, 0, 0, 0, 0, 0, 0, 0, 0, 0, 0], [0, 0, 6, 6, 6, 6, 6, 6, 0, 0, 6, 6, 6, 6, 6, 6, 0, 0, 0, 0, 0, 0], [0, 0, 8, 8, 3, 3, 8, 8, 0, 0, 8, 8, 3, 3, 8, 8, 0, 0, 0, 0, 0, 0], [0, 0, 8, 8, 3, 3, 8, 8, 0, 0, 8, 8, 3, 3, 8, 8, 0, 0, 0, 0, 0, 0], [0, 0, 8, 8, 3, 3, 8, 8, 0, 0, 8, 8, 3, 3, 8, 8, 0, 0, 0, 0, 0, 0], [0, 0, 8, 8, 3, 3, 8, 8, 0, 0, 8, 8, 3, 3, 8, 8, 0, 0, 0, 0, 0, 0], [0, 0, 0, 0, 0, 0, 0, 0, 0, 0, 0, 0, 0, 0, 0, 0, 0, 0, 0, 0, 0, 0], [0, 0, 0, 0, 0, 0, 0, 0, 0, 0, 0, 0, 0, 0, 0, 0, 0, 0, 0, 0, 0, 0], [0, 0, 6, 6, 6, 6, 6, 6, 0, 0, 6, 6, 6, 6, 6, 6, 0, 0, 0, 0, 0, 0], [0, 0, 8, 8, 3, 3, 8, 8, 0, 0, 8, 8, 3, 3, 8, 8, 0, 0, 0, 0, 0, 0], [0, 0, 8, 8, 3, 3, 8, 8, 0, 0, 8, 8, 3, 3, 8, 8, 0, 0, 0, 0, 0, 0], [0, 0, 8, 8, 3, 3, 8, 8, 0, 0, 8, 8, 3, 3, 8, 8, 0, 0, 0, 0, 0, 0], [0, 0, 8, 8, 3, 3, 8, 8, 0, 0, 8, 8, 3, 3, 8, 8, 0, 0, 0, 0, 0, 0], [0, 0, 0, 0, 0, 0, 0, 0, 0, 0, 0, 0, 0, 0, 0, 0, 0, 0, 0, 0, 0, 0], [0, 0, 0, 0, 0, 0, 0, 0, 0, 0, 0, 0, 0, 0, 0, 0, 0, 0, 0, 0, 0, 0], [0, 0, 6, 6, 6, 6, 6, 6, 0, 0, 6, 6, 6, 6, 6, 6, 0, 0, 0, 0, 0, 0], [0, 0, 8, 8, 3, 3, 8, 8, 0, 0, 8, 8, 3, 3, 8, 8, 0, 0, 0, 0, 0, 0], [0, 0, 8, 8, 3, 3, 8, 8, 0, 0, 8, 8, 3, 3, 8, 8, 0, 0, 0, 0, 0, 0], [0, 0, 8, 8, 3, 3, 8, 8, 0, 0, 8, 8, 3, 3, 8, 8, 0, 0, 0, 0, 0, 0], [0, 0, 8, 8, 3, 3, 8, 8, 0, 0, 8, 8, 3, 3, 8, 8, 0, 0, 0, 0, 0, 0], [0, 0, 0, 0, 0, 0, 0, 0, 0, 0, 0, 0, 0, 0, 0, 0, 0, 0, 0, 0, 0, 0], [0, 0, 0, 0, 0, 0, 0, 0, 0, 0, 0, 0, 0, 0, 0, 0, 0, 0, 0, 0, 0, 0], [0, 0, 0, 0, 0, 0, 0, 0, 0, 0, 0, 0, 0, 0, 0, 0, 0, 0, 0, 0, 0, 0]]\n",
      "2. Input: [[0, 3, 0, 0, 0, 3, 3, 0, 0, 0, 0, 3, 0, 0, 0, 0, 0, 0, 0, 0, 0, 0], [0, 1, 1, 2, 3, 3, 0, 1, 1, 2, 3, 3, 1, 1, 1, 2, 3, 3, 0, 3, 0, 0], [0, 1, 1, 3, 3, 3, 0, 1, 1, 2, 3, 3, 0, 1, 1, 2, 3, 3, 3, 0, 3, 0], [0, 1, 1, 2, 3, 3, 0, 1, 1, 2, 3, 3, 0, 1, 1, 1, 3, 3, 0, 0, 0, 3], [0, 1, 3, 3, 3, 1, 0, 1, 1, 2, 3, 3, 0, 1, 1, 2, 3, 3, 0, 0, 0, 0], [0, 8, 8, 8, 8, 8, 0, 8, 8, 8, 8, 8, 0, 8, 8, 8, 8, 8, 0, 0, 0, 0], [0, 0, 0, 0, 0, 0, 0, 0, 0, 0, 0, 0, 0, 0, 0, 0, 0, 0, 0, 0, 0, 0], [0, 3, 1, 3, 3, 3, 0, 3, 1, 2, 3, 3, 0, 1, 1, 2, 3, 3, 0, 0, 3, 0], [0, 1, 1, 2, 3, 3, 0, 1, 1, 2, 3, 3, 0, 1, 1, 2, 3, 3, 0, 0, 0, 0], [0, 1, 1, 2, 3, 3, 0, 1, 3, 2, 1, 3, 0, 1, 1, 2, 3, 3, 0, 0, 0, 0], [1, 1, 1, 2, 3, 3, 0, 1, 1, 2, 3, 3, 3, 1, 3, 2, 3, 3, 0, 0, 0, 0], [0, 8, 1, 8, 8, 3, 0, 8, 8, 8, 8, 8, 0, 1, 8, 8, 8, 8, 0, 0, 0, 0], [0, 0, 0, 1, 0, 0, 0, 0, 0, 0, 0, 0, 0, 0, 0, 0, 0, 0, 0, 3, 3, 0], [0, 1, 1, 2, 3, 3, 0, 1, 1, 2, 3, 3, 0, 1, 1, 2, 3, 3, 0, 0, 3, 0], [0, 1, 1, 3, 3, 3, 0, 1, 1, 2, 3, 3, 0, 1, 1, 2, 3, 3, 0, 0, 0, 0], [0, 1, 1, 2, 3, 3, 0, 1, 1, 1, 3, 3, 0, 1, 1, 2, 3, 1, 0, 0, 0, 0], [1, 1, 1, 2, 3, 3, 0, 1, 1, 2, 3, 1, 0, 1, 1, 2, 3, 3, 0, 0, 0, 0], [3, 8, 8, 8, 3, 3, 1, 8, 8, 8, 8, 8, 0, 8, 8, 8, 8, 8, 0, 0, 1, 0], [0, 1, 0, 0, 0, 0, 0, 0, 0, 0, 0, 0, 0, 0, 0, 0, 0, 0, 0, 0, 0, 0], [0, 3, 3, 0, 3, 0, 3, 0, 1, 1, 0, 3, 0, 0, 0, 0, 0, 0, 0, 0, 0, 1], [0, 0, 3, 0, 0, 1, 0, 0, 0, 0, 0, 3, 0, 0, 0, 0, 0, 0, 0, 0, 0, 0]]\n",
      "   Expected Output: [[0, 0, 0, 0, 0, 0, 0, 0, 0, 0, 0, 0, 0, 0, 0, 0, 0, 0, 0, 0, 0, 0], [0, 1, 1, 2, 3, 3, 0, 1, 1, 2, 3, 3, 0, 1, 1, 2, 3, 3, 0, 0, 0, 0], [0, 1, 1, 2, 3, 3, 0, 1, 1, 2, 3, 3, 0, 1, 1, 2, 3, 3, 0, 0, 0, 0], [0, 1, 1, 2, 3, 3, 0, 1, 1, 2, 3, 3, 0, 1, 1, 2, 3, 3, 0, 0, 0, 0], [0, 1, 1, 2, 3, 3, 0, 1, 1, 2, 3, 3, 0, 1, 1, 2, 3, 3, 0, 0, 0, 0], [0, 8, 8, 8, 8, 8, 0, 8, 8, 8, 8, 8, 0, 8, 8, 8, 8, 8, 0, 0, 0, 0], [0, 0, 0, 0, 0, 0, 0, 0, 0, 0, 0, 0, 0, 0, 0, 0, 0, 0, 0, 0, 0, 0], [0, 1, 1, 2, 3, 3, 0, 1, 1, 2, 3, 3, 0, 1, 1, 2, 3, 3, 0, 0, 0, 0], [0, 1, 1, 2, 3, 3, 0, 1, 1, 2, 3, 3, 0, 1, 1, 2, 3, 3, 0, 0, 0, 0], [0, 1, 1, 2, 3, 3, 0, 1, 1, 2, 3, 3, 0, 1, 1, 2, 3, 3, 0, 0, 0, 0], [0, 1, 1, 2, 3, 3, 0, 1, 1, 2, 3, 3, 0, 1, 1, 2, 3, 3, 0, 0, 0, 0], [0, 8, 8, 8, 8, 8, 0, 8, 8, 8, 8, 8, 0, 8, 8, 8, 8, 8, 0, 0, 0, 0], [0, 0, 0, 0, 0, 0, 0, 0, 0, 0, 0, 0, 0, 0, 0, 0, 0, 0, 0, 0, 0, 0], [0, 1, 1, 2, 3, 3, 0, 1, 1, 2, 3, 3, 0, 1, 1, 2, 3, 3, 0, 0, 0, 0], [0, 1, 1, 2, 3, 3, 0, 1, 1, 2, 3, 3, 0, 1, 1, 2, 3, 3, 0, 0, 0, 0], [0, 1, 1, 2, 3, 3, 0, 1, 1, 2, 3, 3, 0, 1, 1, 2, 3, 3, 0, 0, 0, 0], [0, 1, 1, 2, 3, 3, 0, 1, 1, 2, 3, 3, 0, 1, 1, 2, 3, 3, 0, 0, 0, 0], [0, 8, 8, 8, 8, 8, 0, 8, 8, 8, 8, 8, 0, 8, 8, 8, 8, 8, 0, 0, 0, 0], [0, 0, 0, 0, 0, 0, 0, 0, 0, 0, 0, 0, 0, 0, 0, 0, 0, 0, 0, 0, 0, 0], [0, 0, 0, 0, 0, 0, 0, 0, 0, 0, 0, 0, 0, 0, 0, 0, 0, 0, 0, 0, 0, 0], [0, 0, 0, 0, 0, 0, 0, 0, 0, 0, 0, 0, 0, 0, 0, 0, 0, 0, 0, 0, 0, 0]]\n",
      "   Generated Output: [[0, 0, 0, 0, 0, 0, 0, 0, 0, 0, 0, 0, 0, 0, 0, 0, 0, 0, 0, 0, 0, 0], [0, 1, 1, 2, 3, 3, 0, 1, 1, 2, 3, 3, 0, 1, 1, 2, 3, 3, 0, 0, 0, 0], [0, 1, 1, 2, 3, 3, 0, 1, 1, 2, 3, 3, 0, 1, 1, 2, 3, 3, 0, 0, 0, 0], [0, 1, 1, 2, 3, 3, 0, 1, 1, 2, 3, 3, 0, 1, 1, 2, 3, 3, 0, 0, 0, 0], [0, 1, 1, 2, 3, 3, 0, 1, 1, 2, 3, 3, 0, 1, 1, 2, 3, 3, 0, 0, 0, 0], [0, 8, 8, 8, 8, 8, 0, 8, 8, 8, 8, 8, 0, 8, 8, 8, 8, 8, 0, 0, 0, 0], [0, 0, 0, 0, 0, 0, 0, 0, 0, 0, 0, 0, 0, 0, 0, 0, 0, 0, 0, 0, 0, 0], [0, 1, 1, 2, 3, 3, 0, 1, 1, 2, 3, 3, 0, 1, 1, 2, 3, 3, 0, 0, 0, 0], [0, 1, 1, 2, 3, 3, 0, 1, 1, 2, 3, 3, 0, 1, 1, 2, 3, 3, 0, 0, 0, 0], [0, 1, 1, 2, 3, 3, 0, 1, 1, 2, 3, 3, 0, 1, 1, 2, 3, 3, 0, 0, 0, 0], [0, 1, 1, 2, 3, 3, 0, 1, 1, 2, 3, 3, 0, 1, 1, 2, 3, 3, 0, 0, 0, 0], [0, 8, 8, 8, 8, 8, 0, 8, 8, 8, 8, 8, 0, 8, 8, 8, 8, 8, 0, 0, 0, 0], [0, 0, 0, 0, 0, 0, 0, 0, 0, 0, 0, 0, 0, 0, 0, 0, 0, 0, 0, 0, 0, 0], [0, 1, 1, 2, 3, 3, 0, 1, 1, 2, 3, 3, 0, 1, 1, 2, 3, 3, 0, 0, 0, 0], [0, 1, 1, 2, 3, 3, 0, 1, 1, 2, 3, 3, 0, 1, 1, 2, 3, 3, 0, 0, 0, 0], [0, 1, 1, 2, 3, 3, 0, 1, 1, 2, 3, 3, 0, 1, 1, 2, 3, 3, 0, 0, 0, 0], [0, 1, 1, 2, 3, 3, 0, 1, 1, 2, 3, 3, 0, 1, 1, 2, 3, 3, 0, 0, 0, 0], [0, 8, 8, 8, 8, 8, 0, 8, 8, 8, 8, 8, 0, 8, 8, 8, 8, 8, 0, 0, 0, 0], [0, 0, 0, 0, 0, 0, 0, 0, 0, 0, 0, 0, 0, 0, 0, 0, 0, 0, 0, 0, 0, 0], [0, 0, 0, 0, 0, 0, 0, 0, 0, 0, 0, 0, 0, 0, 0, 0, 0, 0, 0, 0, 0, 0], [0, 0, 0, 0, 0, 0, 0, 0, 0, 0, 0, 0, 0, 0, 0, 0, 0, 0, 0, 0, 0, 0]]\n",
      "3. Input: [[0, 0, 0, 0, 0, 0, 0, 0, 0, 0, 0, 0, 0, 0, 0, 0, 0, 0, 0, 0, 0, 3], [0, 2, 2, 2, 2, 2, 0, 2, 2, 2, 2, 0, 0, 2, 2, 2, 2, 0, 0, 0, 0, 3], [0, 3, 2, 2, 3, 0, 0, 3, 2, 2, 3, 0, 3, 3, 2, 2, 3, 0, 0, 3, 0, 0], [0, 2, 3, 3, 3, 0, 0, 3, 3, 3, 3, 0, 0, 3, 3, 3, 3, 0, 0, 0, 0, 0], [0, 2, 3, 1, 3, 0, 0, 2, 2, 1, 2, 0, 0, 3, 1, 1, 3, 0, 0, 0, 0, 0], [0, 0, 0, 0, 0, 0, 0, 0, 0, 0, 0, 2, 0, 0, 0, 0, 0, 0, 2, 0, 0, 0], [0, 0, 0, 2, 0, 0, 0, 0, 0, 0, 0, 0, 0, 0, 0, 0, 0, 0, 0, 3, 0, 0], [0, 2, 2, 2, 2, 3, 0, 2, 2, 2, 2, 0, 0, 2, 2, 2, 2, 2, 0, 0, 0, 0], [0, 3, 2, 2, 3, 0, 0, 3, 2, 2, 3, 0, 3, 3, 2, 2, 3, 2, 0, 0, 0, 0], [0, 3, 3, 3, 3, 0, 0, 3, 3, 3, 3, 0, 0, 3, 3, 3, 3, 0, 0, 0, 0, 0], [0, 3, 3, 1, 3, 0, 0, 3, 1, 1, 3, 0, 0, 3, 1, 1, 3, 0, 0, 0, 0, 0], [0, 0, 0, 0, 0, 0, 0, 0, 0, 0, 0, 0, 0, 0, 0, 0, 0, 0, 0, 0, 0, 0], [0, 0, 0, 0, 0, 0, 0, 0, 0, 0, 0, 0, 0, 3, 0, 0, 0, 0, 0, 0, 0, 0], [0, 2, 2, 2, 2, 0, 0, 3, 2, 3, 2, 0, 0, 2, 3, 2, 2, 0, 0, 0, 0, 0], [0, 3, 2, 2, 3, 0, 0, 3, 2, 3, 3, 0, 0, 3, 2, 3, 3, 0, 0, 0, 0, 0], [3, 3, 3, 3, 3, 0, 0, 3, 3, 3, 3, 0, 0, 3, 2, 3, 3, 0, 0, 2, 0, 0], [0, 3, 1, 1, 3, 0, 3, 3, 1, 1, 3, 0, 0, 3, 1, 1, 3, 0, 0, 0, 0, 0], [0, 2, 0, 0, 3, 0, 0, 0, 0, 0, 0, 0, 0, 0, 0, 0, 0, 0, 0, 0, 0, 0], [0, 0, 0, 0, 0, 0, 3, 0, 2, 0, 0, 0, 0, 0, 0, 0, 0, 0, 0, 0, 0, 0], [0, 2, 0, 0, 0, 0, 2, 0, 0, 3, 0, 0, 0, 0, 0, 0, 0, 0, 0, 0, 0, 0], [0, 0, 0, 0, 0, 0, 0, 0, 0, 0, 2, 2, 0, 0, 0, 0, 0, 0, 0, 2, 0, 0], [0, 0, 0, 3, 0, 0, 2, 0, 2, 0, 0, 0, 0, 0, 0, 0, 0, 0, 0, 0, 0, 0]]\n",
      "   Expected Output: [[0, 0, 0, 0, 0, 0, 0, 0, 0, 0, 0, 0, 0, 0, 0, 0, 0, 0, 0, 0, 0, 0], [0, 2, 2, 2, 2, 0, 0, 2, 2, 2, 2, 0, 0, 2, 2, 2, 2, 0, 0, 0, 0, 0], [0, 3, 2, 2, 3, 0, 0, 3, 2, 2, 3, 0, 0, 3, 2, 2, 3, 0, 0, 0, 0, 0], [0, 3, 3, 3, 3, 0, 0, 3, 3, 3, 3, 0, 0, 3, 3, 3, 3, 0, 0, 0, 0, 0], [0, 3, 1, 1, 3, 0, 0, 3, 1, 1, 3, 0, 0, 3, 1, 1, 3, 0, 0, 0, 0, 0], [0, 0, 0, 0, 0, 0, 0, 0, 0, 0, 0, 0, 0, 0, 0, 0, 0, 0, 0, 0, 0, 0], [0, 0, 0, 0, 0, 0, 0, 0, 0, 0, 0, 0, 0, 0, 0, 0, 0, 0, 0, 0, 0, 0], [0, 2, 2, 2, 2, 0, 0, 2, 2, 2, 2, 0, 0, 2, 2, 2, 2, 0, 0, 0, 0, 0], [0, 3, 2, 2, 3, 0, 0, 3, 2, 2, 3, 0, 0, 3, 2, 2, 3, 0, 0, 0, 0, 0], [0, 3, 3, 3, 3, 0, 0, 3, 3, 3, 3, 0, 0, 3, 3, 3, 3, 0, 0, 0, 0, 0], [0, 3, 1, 1, 3, 0, 0, 3, 1, 1, 3, 0, 0, 3, 1, 1, 3, 0, 0, 0, 0, 0], [0, 0, 0, 0, 0, 0, 0, 0, 0, 0, 0, 0, 0, 0, 0, 0, 0, 0, 0, 0, 0, 0], [0, 0, 0, 0, 0, 0, 0, 0, 0, 0, 0, 0, 0, 0, 0, 0, 0, 0, 0, 0, 0, 0], [0, 2, 2, 2, 2, 0, 0, 2, 2, 2, 2, 0, 0, 2, 2, 2, 2, 0, 0, 0, 0, 0], [0, 3, 2, 2, 3, 0, 0, 3, 2, 2, 3, 0, 0, 3, 2, 2, 3, 0, 0, 0, 0, 0], [0, 3, 3, 3, 3, 0, 0, 3, 3, 3, 3, 0, 0, 3, 3, 3, 3, 0, 0, 0, 0, 0], [0, 3, 1, 1, 3, 0, 0, 3, 1, 1, 3, 0, 0, 3, 1, 1, 3, 0, 0, 0, 0, 0], [0, 0, 0, 0, 0, 0, 0, 0, 0, 0, 0, 0, 0, 0, 0, 0, 0, 0, 0, 0, 0, 0], [0, 0, 0, 0, 0, 0, 0, 0, 0, 0, 0, 0, 0, 0, 0, 0, 0, 0, 0, 0, 0, 0], [0, 0, 0, 0, 0, 0, 0, 0, 0, 0, 0, 0, 0, 0, 0, 0, 0, 0, 0, 0, 0, 0], [0, 0, 0, 0, 0, 0, 0, 0, 0, 0, 0, 0, 0, 0, 0, 0, 0, 0, 0, 0, 0, 0], [0, 0, 0, 0, 0, 0, 0, 0, 0, 0, 0, 0, 0, 0, 0, 0, 0, 0, 0, 0, 0, 0]]\n",
      "   Generated Output: [[0, 0, 0, 0, 0, 0, 0, 0, 0, 0, 0, 0, 0, 0, 0, 0, 0, 0, 0, 0, 0, 0], [0, 2, 2, 2, 2, 0, 0, 2, 2, 2, 2, 0, 0, 2, 2, 2, 2, 0, 0, 0, 0, 0], [0, 3, 2, 2, 3, 0, 0, 3, 2, 2, 3, 0, 0, 3, 2, 2, 3, 0, 0, 0, 0, 0], [0, 3, 3, 3, 3, 0, 0, 3, 3, 3, 3, 0, 0, 3, 3, 3, 3, 0, 0, 0, 0, 0], [0, 2, 3, 1, 3, 0, 0, 2, 3, 1, 3, 0, 0, 2, 3, 1, 3, 0, 0, 0, 0, 0], [0, 0, 0, 0, 0, 0, 0, 0, 0, 0, 0, 0, 0, 0, 0, 0, 0, 0, 0, 0, 0, 0], [0, 0, 0, 0, 0, 0, 0, 0, 0, 0, 0, 0, 0, 0, 0, 0, 0, 0, 0, 0, 0, 0], [0, 2, 2, 2, 2, 0, 0, 2, 2, 2, 2, 0, 0, 2, 2, 2, 2, 0, 0, 0, 0, 0], [0, 3, 2, 2, 3, 0, 0, 3, 2, 2, 3, 0, 0, 3, 2, 2, 3, 0, 0, 0, 0, 0], [0, 3, 3, 3, 3, 0, 0, 3, 3, 3, 3, 0, 0, 3, 3, 3, 3, 0, 0, 0, 0, 0], [0, 2, 3, 1, 3, 0, 0, 2, 3, 1, 3, 0, 0, 2, 3, 1, 3, 0, 0, 0, 0, 0], [0, 0, 0, 0, 0, 0, 0, 0, 0, 0, 0, 0, 0, 0, 0, 0, 0, 0, 0, 0, 0, 0], [0, 0, 0, 0, 0, 0, 0, 0, 0, 0, 0, 0, 0, 0, 0, 0, 0, 0, 0, 0, 0, 0], [0, 2, 2, 2, 2, 0, 0, 2, 2, 2, 2, 0, 0, 2, 2, 2, 2, 0, 0, 0, 0, 0], [0, 3, 2, 2, 3, 0, 0, 3, 2, 2, 3, 0, 0, 3, 2, 2, 3, 0, 0, 0, 0, 0], [0, 3, 3, 3, 3, 0, 0, 3, 3, 3, 3, 0, 0, 3, 3, 3, 3, 0, 0, 0, 0, 0], [0, 2, 3, 1, 3, 0, 0, 2, 3, 1, 3, 0, 0, 2, 3, 1, 3, 0, 0, 0, 0, 0], [0, 0, 0, 0, 0, 0, 0, 0, 0, 0, 0, 0, 0, 0, 0, 0, 0, 0, 0, 0, 0, 0], [0, 0, 0, 0, 0, 0, 0, 0, 0, 0, 0, 0, 0, 0, 0, 0, 0, 0, 0, 0, 0, 0], [0, 0, 0, 0, 0, 0, 0, 0, 0, 0, 0, 0, 0, 0, 0, 0, 0, 0, 0, 0, 0, 0], [0, 0, 0, 0, 0, 0, 0, 0, 0, 0, 0, 0, 0, 0, 0, 0, 0, 0, 0, 0, 0, 0], [0, 0, 0, 0, 0, 0, 0, 0, 0, 0, 0, 0, 0, 0, 0, 0, 0, 0, 0, 0, 0, 0]]\n",
      "\n",
      "Please revise the code.\n",
      "==================================================\n",
      "Saved program for task 0607ce86 as version 3_rev1: Candidate_programs_tailored_prompts_full_test\\0607ce86\\solution_v3_rev1.py\n",
      "Revising solution_v2.py...\n",
      "==================================================\n",
      "\n",
      "In the following you'll receive a Python function that attempted to solve the following task. It didn't succeed and you are tasked with fixing it.\n",
      "\n",
      "- The function must be named: `solve(grid: List[List[int]]) -> List[List[int]]`\n",
      "- Include only the code and necessary imports (e.g., `import numpy as np`)\n",
      "- Do not include comments, explanations, or print statements\n",
      "- Do not hard-code values or specific grid sizes — the function must generalize based on the patterns in the examples\n",
      "- Ensure your solution works for all provided input-output pairs\n",
      "\n",
      "\n",
      "Here is the generated code:\n",
      "def solve(grid):\n",
      "    H, W = len(grid), len(grid[0])\n",
      "    col_counts = [sum(grid[r][c] != 0 for r in range(H)) for c in range(W)]\n",
      "    maxc = max(col_counts)\n",
      "    if maxc == 0:\n",
      "        return [[0]*W for _ in range(H)]\n",
      "    threshc = maxc * 0.5\n",
      "    seg_cols = [c for c in range(W) if col_counts[c] >= threshc]\n",
      "    seg_cols.sort()\n",
      "    segments = []\n",
      "    for c in seg_cols:\n",
      "        if not segments or c - segments[-1][1] > 1:\n",
      "            segments.append([c, c])\n",
      "        else:\n",
      "            segments[-1][1] = c\n",
      "    segments = [(s, e+1) for s,e in segments]\n",
      "    col_in_seg = set(c for s,e in segments for c in range(s,e))\n",
      "    row_counts = [sum(grid[r][c] != 0 for c in col_in_seg) for r in range(H)]\n",
      "    maxr = max(row_counts)\n",
      "    threshr = maxr * 0.5\n",
      "    seg_rows = [r for r in range(H) if row_counts[r] >= threshr]\n",
      "    seg_rows.sort()\n",
      "    bands = []\n",
      "    for r in seg_rows:\n",
      "        if not bands or r - bands[-1][1] > 1:\n",
      "            bands.append([r, r])\n",
      "        else:\n",
      "            bands[-1][1] = r\n",
      "    bands = [(s, e+1) for s,e in bands]\n",
      "    def is_stripe(r):\n",
      "        for xs,xe in segments:\n",
      "            v = grid[r][xs]\n",
      "            if v == 0: return False\n",
      "            for c in range(xs, xe):\n",
      "                if grid[r][c] != v:\n",
      "                    return False\n",
      "        return True\n",
      "    rects = []\n",
      "    for ys,ye in bands:\n",
      "        stripe_rows = [r for r in range(ys,ye) if is_stripe(r)]\n",
      "        block_rows = [r for r in range(ys,ye) if r not in stripe_rows]\n",
      "        # stripe rects\n",
      "        for r in stripe_rows:\n",
      "            for xs,xe in segments:\n",
      "                rects.append((r, xs, 1, xe-xs))\n",
      "        # block subbands\n",
      "        block_rows.sort()\n",
      "        runs = []\n",
      "        for r in block_rows:\n",
      "            if not runs or r - runs[-1][1] > 1:\n",
      "                runs.append([r, r])\n",
      "            else:\n",
      "                runs[-1][1] = r\n",
      "        for s,e in runs:\n",
      "            h = e - s + 1\n",
      "            for xs,xe in segments:\n",
      "                # check non-zero presence\n",
      "                has = any(grid[r][c] != 0 for r in range(s, e+1) for c in range(xs, xe))\n",
      "                if has:\n",
      "                    rects.append((s, xs, h, xe-xs))\n",
      "    # group by height\n",
      "    by_h = {}\n",
      "    for y0,x0,h,w in rects:\n",
      "        by_h.setdefault(h, []).append((y0,x0,w))\n",
      "    prototypes = {}\n",
      "    for h, lst in by_h.items():\n",
      "        w = lst[0][2]\n",
      "        p = [[0]*w for _ in range(h)]\n",
      "        for dy in range(h):\n",
      "            for dx in range(w):\n",
      "                cnt = {}\n",
      "                for y0,x0,_ in lst:\n",
      "                    v = grid[y0+dy][x0+dx]\n",
      "                    cnt[v] = cnt.get(v, 0) + 1\n",
      "                pv = max(cnt.items(), key=lambda x: x[1])[0]\n",
      "                p[dy][dx] = pv\n",
      "        prototypes[h] = p\n",
      "    new = [[0]*W for _ in range(H)]\n",
      "    for y0,x0,h,w in rects:\n",
      "        p = prototypes[h]\n",
      "        for dy in range(h):\n",
      "            for dx in range(w):\n",
      "                new[y0+dy][x0+dx] = p[dy][dx]\n",
      "    return new\n",
      "\n",
      "Demonstration Pairs:\n",
      "1. Input: [[0, 0, 0, 0, 0, 0, 0, 0, 0, 0, 3, 0, 0, 0, 0, 3, 0, 0, 0, 0, 0, 0], [0, 0, 6, 6, 6, 6, 6, 6, 0, 0, 6, 6, 6, 6, 3, 6, 0, 0, 0, 0, 0, 0], [0, 0, 8, 8, 3, 3, 8, 8, 0, 0, 8, 3, 3, 3, 8, 8, 0, 0, 0, 0, 0, 0], [0, 0, 8, 8, 3, 3, 8, 8, 0, 0, 8, 8, 3, 3, 8, 8, 0, 0, 3, 0, 0, 0], [0, 3, 8, 8, 3, 3, 8, 8, 0, 0, 8, 8, 3, 3, 8, 3, 0, 0, 0, 3, 0, 0], [0, 3, 8, 8, 3, 3, 8, 8, 0, 0, 8, 8, 3, 3, 8, 8, 3, 0, 0, 0, 0, 0], [0, 0, 0, 0, 0, 0, 0, 0, 0, 0, 3, 0, 0, 0, 0, 0, 0, 0, 0, 0, 0, 0], [0, 3, 0, 0, 0, 3, 0, 0, 0, 0, 0, 0, 0, 0, 0, 0, 0, 0, 0, 0, 0, 0], [0, 0, 6, 6, 6, 6, 6, 6, 0, 0, 6, 6, 3, 6, 6, 6, 0, 0, 0, 0, 0, 0], [0, 0, 8, 8, 3, 3, 8, 8, 0, 0, 3, 8, 3, 3, 8, 3, 0, 3, 0, 0, 0, 3], [0, 0, 8, 8, 3, 3, 3, 8, 0, 0, 3, 8, 3, 3, 8, 8, 0, 0, 0, 0, 0, 0], [0, 0, 8, 8, 3, 3, 8, 8, 0, 0, 8, 3, 3, 3, 3, 8, 0, 0, 0, 0, 0, 0], [3, 3, 8, 8, 3, 3, 8, 8, 0, 0, 8, 8, 3, 3, 8, 8, 0, 0, 0, 0, 0, 0], [0, 0, 0, 0, 0, 0, 0, 0, 0, 0, 0, 0, 0, 3, 0, 0, 0, 0, 3, 0, 0, 0], [0, 0, 0, 0, 0, 0, 0, 0, 0, 3, 0, 0, 3, 0, 0, 0, 0, 0, 0, 0, 0, 0], [0, 0, 6, 6, 3, 6, 6, 6, 0, 3, 6, 6, 6, 3, 6, 6, 0, 0, 0, 0, 0, 0], [0, 0, 8, 8, 3, 3, 8, 8, 0, 0, 8, 8, 3, 3, 8, 8, 0, 0, 0, 0, 3, 0], [0, 0, 8, 3, 3, 3, 8, 8, 0, 0, 8, 8, 3, 3, 8, 8, 0, 0, 0, 0, 0, 0], [0, 0, 8, 8, 3, 3, 8, 8, 0, 0, 8, 8, 3, 3, 8, 8, 0, 0, 0, 0, 0, 0], [0, 0, 8, 8, 3, 3, 8, 8, 0, 0, 8, 8, 3, 3, 8, 8, 0, 0, 0, 0, 0, 0], [0, 0, 0, 0, 0, 0, 3, 3, 0, 0, 0, 0, 0, 0, 0, 0, 0, 0, 0, 0, 0, 0], [0, 0, 0, 0, 0, 0, 0, 0, 0, 3, 0, 0, 3, 0, 0, 0, 3, 0, 0, 0, 0, 0], [0, 0, 0, 0, 0, 0, 0, 3, 0, 0, 0, 0, 0, 0, 0, 0, 0, 0, 0, 0, 0, 0]]\n",
      "   Expected Output: [[0, 0, 0, 0, 0, 0, 0, 0, 0, 0, 0, 0, 0, 0, 0, 0, 0, 0, 0, 0, 0, 0], [0, 0, 6, 6, 6, 6, 6, 6, 0, 0, 6, 6, 6, 6, 6, 6, 0, 0, 0, 0, 0, 0], [0, 0, 8, 8, 3, 3, 8, 8, 0, 0, 8, 8, 3, 3, 8, 8, 0, 0, 0, 0, 0, 0], [0, 0, 8, 8, 3, 3, 8, 8, 0, 0, 8, 8, 3, 3, 8, 8, 0, 0, 0, 0, 0, 0], [0, 0, 8, 8, 3, 3, 8, 8, 0, 0, 8, 8, 3, 3, 8, 8, 0, 0, 0, 0, 0, 0], [0, 0, 8, 8, 3, 3, 8, 8, 0, 0, 8, 8, 3, 3, 8, 8, 0, 0, 0, 0, 0, 0], [0, 0, 0, 0, 0, 0, 0, 0, 0, 0, 0, 0, 0, 0, 0, 0, 0, 0, 0, 0, 0, 0], [0, 0, 0, 0, 0, 0, 0, 0, 0, 0, 0, 0, 0, 0, 0, 0, 0, 0, 0, 0, 0, 0], [0, 0, 6, 6, 6, 6, 6, 6, 0, 0, 6, 6, 6, 6, 6, 6, 0, 0, 0, 0, 0, 0], [0, 0, 8, 8, 3, 3, 8, 8, 0, 0, 8, 8, 3, 3, 8, 8, 0, 0, 0, 0, 0, 0], [0, 0, 8, 8, 3, 3, 8, 8, 0, 0, 8, 8, 3, 3, 8, 8, 0, 0, 0, 0, 0, 0], [0, 0, 8, 8, 3, 3, 8, 8, 0, 0, 8, 8, 3, 3, 8, 8, 0, 0, 0, 0, 0, 0], [0, 0, 8, 8, 3, 3, 8, 8, 0, 0, 8, 8, 3, 3, 8, 8, 0, 0, 0, 0, 0, 0], [0, 0, 0, 0, 0, 0, 0, 0, 0, 0, 0, 0, 0, 0, 0, 0, 0, 0, 0, 0, 0, 0], [0, 0, 0, 0, 0, 0, 0, 0, 0, 0, 0, 0, 0, 0, 0, 0, 0, 0, 0, 0, 0, 0], [0, 0, 6, 6, 6, 6, 6, 6, 0, 0, 6, 6, 6, 6, 6, 6, 0, 0, 0, 0, 0, 0], [0, 0, 8, 8, 3, 3, 8, 8, 0, 0, 8, 8, 3, 3, 8, 8, 0, 0, 0, 0, 0, 0], [0, 0, 8, 8, 3, 3, 8, 8, 0, 0, 8, 8, 3, 3, 8, 8, 0, 0, 0, 0, 0, 0], [0, 0, 8, 8, 3, 3, 8, 8, 0, 0, 8, 8, 3, 3, 8, 8, 0, 0, 0, 0, 0, 0], [0, 0, 8, 8, 3, 3, 8, 8, 0, 0, 8, 8, 3, 3, 8, 8, 0, 0, 0, 0, 0, 0], [0, 0, 0, 0, 0, 0, 0, 0, 0, 0, 0, 0, 0, 0, 0, 0, 0, 0, 0, 0, 0, 0], [0, 0, 0, 0, 0, 0, 0, 0, 0, 0, 0, 0, 0, 0, 0, 0, 0, 0, 0, 0, 0, 0], [0, 0, 0, 0, 0, 0, 0, 0, 0, 0, 0, 0, 0, 0, 0, 0, 0, 0, 0, 0, 0, 0]]\n",
      "   Generated Output: [[0, 0, 0, 0, 0, 0, 0, 0, 0, 0, 0, 0, 0, 0, 0, 0, 0, 0, 0, 0, 0, 0], [0, 0, 6, 6, 6, 6, 6, 6, 0, 0, 6, 6, 6, 6, 6, 6, 0, 0, 0, 0, 0, 0], [0, 0, 8, 8, 3, 3, 8, 8, 0, 0, 8, 8, 3, 3, 8, 8, 0, 0, 0, 0, 0, 0], [0, 0, 8, 8, 3, 3, 8, 8, 0, 0, 8, 8, 3, 3, 8, 8, 0, 0, 0, 0, 0, 0], [0, 0, 8, 8, 3, 3, 8, 8, 0, 0, 8, 8, 3, 3, 8, 8, 0, 0, 0, 0, 0, 0], [0, 0, 8, 8, 3, 3, 8, 8, 0, 0, 8, 8, 3, 3, 8, 8, 0, 0, 0, 0, 0, 0], [0, 0, 0, 0, 0, 0, 0, 0, 0, 0, 0, 0, 0, 0, 0, 0, 0, 0, 0, 0, 0, 0], [0, 0, 0, 0, 0, 0, 0, 0, 0, 0, 0, 0, 0, 0, 0, 0, 0, 0, 0, 0, 0, 0], [0, 0, 6, 6, 6, 6, 6, 6, 0, 0, 6, 6, 6, 6, 6, 6, 0, 0, 0, 0, 0, 0], [0, 0, 8, 8, 3, 3, 8, 8, 0, 0, 8, 8, 3, 3, 8, 8, 0, 0, 0, 0, 0, 0], [0, 0, 8, 8, 3, 3, 8, 8, 0, 0, 8, 8, 3, 3, 8, 8, 0, 0, 0, 0, 0, 0], [0, 0, 8, 8, 3, 3, 8, 8, 0, 0, 8, 8, 3, 3, 8, 8, 0, 0, 0, 0, 0, 0], [0, 0, 8, 8, 3, 3, 8, 8, 0, 0, 8, 8, 3, 3, 8, 8, 0, 0, 0, 0, 0, 0], [0, 0, 0, 0, 0, 0, 0, 0, 0, 0, 0, 0, 0, 0, 0, 0, 0, 0, 0, 0, 0, 0], [0, 0, 0, 0, 0, 0, 0, 0, 0, 0, 0, 0, 0, 0, 0, 0, 0, 0, 0, 0, 0, 0], [0, 0, 6, 6, 6, 6, 6, 6, 0, 0, 6, 6, 6, 6, 6, 6, 0, 0, 0, 0, 0, 0], [0, 0, 8, 8, 3, 3, 8, 8, 0, 0, 8, 8, 3, 3, 8, 8, 0, 0, 0, 0, 0, 0], [0, 0, 8, 8, 3, 3, 8, 8, 0, 0, 8, 8, 3, 3, 8, 8, 0, 0, 0, 0, 0, 0], [0, 0, 8, 8, 3, 3, 8, 8, 0, 0, 8, 8, 3, 3, 8, 8, 0, 0, 0, 0, 0, 0], [0, 0, 8, 8, 3, 3, 8, 8, 0, 0, 8, 8, 3, 3, 8, 8, 0, 0, 0, 0, 0, 0], [0, 0, 0, 0, 0, 0, 0, 0, 0, 0, 0, 0, 0, 0, 0, 0, 0, 0, 0, 0, 0, 0], [0, 0, 0, 0, 0, 0, 0, 0, 0, 0, 0, 0, 0, 0, 0, 0, 0, 0, 0, 0, 0, 0], [0, 0, 0, 0, 0, 0, 0, 0, 0, 0, 0, 0, 0, 0, 0, 0, 0, 0, 0, 0, 0, 0]]\n",
      "2. Input: [[0, 3, 0, 0, 0, 3, 3, 0, 0, 0, 0, 3, 0, 0, 0, 0, 0, 0, 0, 0, 0, 0], [0, 1, 1, 2, 3, 3, 0, 1, 1, 2, 3, 3, 1, 1, 1, 2, 3, 3, 0, 3, 0, 0], [0, 1, 1, 3, 3, 3, 0, 1, 1, 2, 3, 3, 0, 1, 1, 2, 3, 3, 3, 0, 3, 0], [0, 1, 1, 2, 3, 3, 0, 1, 1, 2, 3, 3, 0, 1, 1, 1, 3, 3, 0, 0, 0, 3], [0, 1, 3, 3, 3, 1, 0, 1, 1, 2, 3, 3, 0, 1, 1, 2, 3, 3, 0, 0, 0, 0], [0, 8, 8, 8, 8, 8, 0, 8, 8, 8, 8, 8, 0, 8, 8, 8, 8, 8, 0, 0, 0, 0], [0, 0, 0, 0, 0, 0, 0, 0, 0, 0, 0, 0, 0, 0, 0, 0, 0, 0, 0, 0, 0, 0], [0, 3, 1, 3, 3, 3, 0, 3, 1, 2, 3, 3, 0, 1, 1, 2, 3, 3, 0, 0, 3, 0], [0, 1, 1, 2, 3, 3, 0, 1, 1, 2, 3, 3, 0, 1, 1, 2, 3, 3, 0, 0, 0, 0], [0, 1, 1, 2, 3, 3, 0, 1, 3, 2, 1, 3, 0, 1, 1, 2, 3, 3, 0, 0, 0, 0], [1, 1, 1, 2, 3, 3, 0, 1, 1, 2, 3, 3, 3, 1, 3, 2, 3, 3, 0, 0, 0, 0], [0, 8, 1, 8, 8, 3, 0, 8, 8, 8, 8, 8, 0, 1, 8, 8, 8, 8, 0, 0, 0, 0], [0, 0, 0, 1, 0, 0, 0, 0, 0, 0, 0, 0, 0, 0, 0, 0, 0, 0, 0, 3, 3, 0], [0, 1, 1, 2, 3, 3, 0, 1, 1, 2, 3, 3, 0, 1, 1, 2, 3, 3, 0, 0, 3, 0], [0, 1, 1, 3, 3, 3, 0, 1, 1, 2, 3, 3, 0, 1, 1, 2, 3, 3, 0, 0, 0, 0], [0, 1, 1, 2, 3, 3, 0, 1, 1, 1, 3, 3, 0, 1, 1, 2, 3, 1, 0, 0, 0, 0], [1, 1, 1, 2, 3, 3, 0, 1, 1, 2, 3, 1, 0, 1, 1, 2, 3, 3, 0, 0, 0, 0], [3, 8, 8, 8, 3, 3, 1, 8, 8, 8, 8, 8, 0, 8, 8, 8, 8, 8, 0, 0, 1, 0], [0, 1, 0, 0, 0, 0, 0, 0, 0, 0, 0, 0, 0, 0, 0, 0, 0, 0, 0, 0, 0, 0], [0, 3, 3, 0, 3, 0, 3, 0, 1, 1, 0, 3, 0, 0, 0, 0, 0, 0, 0, 0, 0, 1], [0, 0, 3, 0, 0, 1, 0, 0, 0, 0, 0, 3, 0, 0, 0, 0, 0, 0, 0, 0, 0, 0]]\n",
      "   Expected Output: [[0, 0, 0, 0, 0, 0, 0, 0, 0, 0, 0, 0, 0, 0, 0, 0, 0, 0, 0, 0, 0, 0], [0, 1, 1, 2, 3, 3, 0, 1, 1, 2, 3, 3, 0, 1, 1, 2, 3, 3, 0, 0, 0, 0], [0, 1, 1, 2, 3, 3, 0, 1, 1, 2, 3, 3, 0, 1, 1, 2, 3, 3, 0, 0, 0, 0], [0, 1, 1, 2, 3, 3, 0, 1, 1, 2, 3, 3, 0, 1, 1, 2, 3, 3, 0, 0, 0, 0], [0, 1, 1, 2, 3, 3, 0, 1, 1, 2, 3, 3, 0, 1, 1, 2, 3, 3, 0, 0, 0, 0], [0, 8, 8, 8, 8, 8, 0, 8, 8, 8, 8, 8, 0, 8, 8, 8, 8, 8, 0, 0, 0, 0], [0, 0, 0, 0, 0, 0, 0, 0, 0, 0, 0, 0, 0, 0, 0, 0, 0, 0, 0, 0, 0, 0], [0, 1, 1, 2, 3, 3, 0, 1, 1, 2, 3, 3, 0, 1, 1, 2, 3, 3, 0, 0, 0, 0], [0, 1, 1, 2, 3, 3, 0, 1, 1, 2, 3, 3, 0, 1, 1, 2, 3, 3, 0, 0, 0, 0], [0, 1, 1, 2, 3, 3, 0, 1, 1, 2, 3, 3, 0, 1, 1, 2, 3, 3, 0, 0, 0, 0], [0, 1, 1, 2, 3, 3, 0, 1, 1, 2, 3, 3, 0, 1, 1, 2, 3, 3, 0, 0, 0, 0], [0, 8, 8, 8, 8, 8, 0, 8, 8, 8, 8, 8, 0, 8, 8, 8, 8, 8, 0, 0, 0, 0], [0, 0, 0, 0, 0, 0, 0, 0, 0, 0, 0, 0, 0, 0, 0, 0, 0, 0, 0, 0, 0, 0], [0, 1, 1, 2, 3, 3, 0, 1, 1, 2, 3, 3, 0, 1, 1, 2, 3, 3, 0, 0, 0, 0], [0, 1, 1, 2, 3, 3, 0, 1, 1, 2, 3, 3, 0, 1, 1, 2, 3, 3, 0, 0, 0, 0], [0, 1, 1, 2, 3, 3, 0, 1, 1, 2, 3, 3, 0, 1, 1, 2, 3, 3, 0, 0, 0, 0], [0, 1, 1, 2, 3, 3, 0, 1, 1, 2, 3, 3, 0, 1, 1, 2, 3, 3, 0, 0, 0, 0], [0, 8, 8, 8, 8, 8, 0, 8, 8, 8, 8, 8, 0, 8, 8, 8, 8, 8, 0, 0, 0, 0], [0, 0, 0, 0, 0, 0, 0, 0, 0, 0, 0, 0, 0, 0, 0, 0, 0, 0, 0, 0, 0, 0], [0, 0, 0, 0, 0, 0, 0, 0, 0, 0, 0, 0, 0, 0, 0, 0, 0, 0, 0, 0, 0, 0], [0, 0, 0, 0, 0, 0, 0, 0, 0, 0, 0, 0, 0, 0, 0, 0, 0, 0, 0, 0, 0, 0]]\n",
      "   Generated Output: [[0, 0, 0, 0, 0, 0, 0, 0, 0, 0, 0, 0, 0, 0, 0, 0, 0, 0, 0, 0, 0, 0], [0, 1, 1, 2, 3, 3, 0, 1, 1, 2, 3, 3, 0, 1, 1, 2, 3, 3, 0, 0, 0, 0], [0, 1, 1, 2, 3, 3, 0, 1, 1, 2, 3, 3, 0, 1, 1, 2, 3, 3, 0, 0, 0, 0], [0, 1, 1, 2, 3, 3, 0, 1, 1, 2, 3, 3, 0, 1, 1, 2, 3, 3, 0, 0, 0, 0], [0, 1, 1, 2, 3, 3, 0, 1, 1, 2, 3, 3, 0, 1, 1, 2, 3, 3, 0, 0, 0, 0], [0, 8, 8, 8, 8, 8, 0, 8, 8, 8, 8, 8, 0, 8, 8, 8, 8, 8, 0, 0, 0, 0], [0, 0, 0, 0, 0, 0, 0, 0, 0, 0, 0, 0, 0, 0, 0, 0, 0, 0, 0, 0, 0, 0], [0, 1, 1, 2, 3, 3, 0, 1, 1, 2, 3, 3, 0, 1, 1, 2, 3, 3, 0, 0, 0, 0], [0, 1, 1, 2, 3, 3, 0, 1, 1, 2, 3, 3, 0, 1, 1, 2, 3, 3, 0, 0, 0, 0], [0, 1, 1, 2, 3, 3, 0, 1, 1, 2, 3, 3, 0, 1, 1, 2, 3, 3, 0, 0, 0, 0], [0, 1, 1, 2, 3, 3, 0, 1, 1, 2, 3, 3, 0, 1, 1, 2, 3, 3, 0, 0, 0, 0], [0, 8, 8, 8, 8, 8, 0, 8, 8, 8, 8, 8, 0, 8, 8, 8, 8, 8, 0, 0, 0, 0], [0, 0, 0, 0, 0, 0, 0, 0, 0, 0, 0, 0, 0, 0, 0, 0, 0, 0, 0, 0, 0, 0], [0, 1, 1, 2, 3, 3, 0, 1, 1, 2, 3, 3, 0, 1, 1, 2, 3, 3, 0, 0, 0, 0], [0, 1, 1, 2, 3, 3, 0, 1, 1, 2, 3, 3, 0, 1, 1, 2, 3, 3, 0, 0, 0, 0], [0, 1, 1, 2, 3, 3, 0, 1, 1, 2, 3, 3, 0, 1, 1, 2, 3, 3, 0, 0, 0, 0], [0, 1, 1, 2, 3, 3, 0, 1, 1, 2, 3, 3, 0, 1, 1, 2, 3, 3, 0, 0, 0, 0], [0, 8, 8, 8, 8, 8, 0, 8, 8, 8, 8, 8, 0, 8, 8, 8, 8, 8, 0, 0, 0, 0], [0, 0, 0, 0, 0, 0, 0, 0, 0, 0, 0, 0, 0, 0, 0, 0, 0, 0, 0, 0, 0, 0], [0, 0, 0, 0, 0, 0, 0, 0, 0, 0, 0, 0, 0, 0, 0, 0, 0, 0, 0, 0, 0, 0], [0, 0, 0, 0, 0, 0, 0, 0, 0, 0, 0, 0, 0, 0, 0, 0, 0, 0, 0, 0, 0, 0]]\n",
      "3. Input: [[0, 0, 0, 0, 0, 0, 0, 0, 0, 0, 0, 0, 0, 0, 0, 0, 0, 0, 0, 0, 0, 3], [0, 2, 2, 2, 2, 2, 0, 2, 2, 2, 2, 0, 0, 2, 2, 2, 2, 0, 0, 0, 0, 3], [0, 3, 2, 2, 3, 0, 0, 3, 2, 2, 3, 0, 3, 3, 2, 2, 3, 0, 0, 3, 0, 0], [0, 2, 3, 3, 3, 0, 0, 3, 3, 3, 3, 0, 0, 3, 3, 3, 3, 0, 0, 0, 0, 0], [0, 2, 3, 1, 3, 0, 0, 2, 2, 1, 2, 0, 0, 3, 1, 1, 3, 0, 0, 0, 0, 0], [0, 0, 0, 0, 0, 0, 0, 0, 0, 0, 0, 2, 0, 0, 0, 0, 0, 0, 2, 0, 0, 0], [0, 0, 0, 2, 0, 0, 0, 0, 0, 0, 0, 0, 0, 0, 0, 0, 0, 0, 0, 3, 0, 0], [0, 2, 2, 2, 2, 3, 0, 2, 2, 2, 2, 0, 0, 2, 2, 2, 2, 2, 0, 0, 0, 0], [0, 3, 2, 2, 3, 0, 0, 3, 2, 2, 3, 0, 3, 3, 2, 2, 3, 2, 0, 0, 0, 0], [0, 3, 3, 3, 3, 0, 0, 3, 3, 3, 3, 0, 0, 3, 3, 3, 3, 0, 0, 0, 0, 0], [0, 3, 3, 1, 3, 0, 0, 3, 1, 1, 3, 0, 0, 3, 1, 1, 3, 0, 0, 0, 0, 0], [0, 0, 0, 0, 0, 0, 0, 0, 0, 0, 0, 0, 0, 0, 0, 0, 0, 0, 0, 0, 0, 0], [0, 0, 0, 0, 0, 0, 0, 0, 0, 0, 0, 0, 0, 3, 0, 0, 0, 0, 0, 0, 0, 0], [0, 2, 2, 2, 2, 0, 0, 3, 2, 3, 2, 0, 0, 2, 3, 2, 2, 0, 0, 0, 0, 0], [0, 3, 2, 2, 3, 0, 0, 3, 2, 3, 3, 0, 0, 3, 2, 3, 3, 0, 0, 0, 0, 0], [3, 3, 3, 3, 3, 0, 0, 3, 3, 3, 3, 0, 0, 3, 2, 3, 3, 0, 0, 2, 0, 0], [0, 3, 1, 1, 3, 0, 3, 3, 1, 1, 3, 0, 0, 3, 1, 1, 3, 0, 0, 0, 0, 0], [0, 2, 0, 0, 3, 0, 0, 0, 0, 0, 0, 0, 0, 0, 0, 0, 0, 0, 0, 0, 0, 0], [0, 0, 0, 0, 0, 0, 3, 0, 2, 0, 0, 0, 0, 0, 0, 0, 0, 0, 0, 0, 0, 0], [0, 2, 0, 0, 0, 0, 2, 0, 0, 3, 0, 0, 0, 0, 0, 0, 0, 0, 0, 0, 0, 0], [0, 0, 0, 0, 0, 0, 0, 0, 0, 0, 2, 2, 0, 0, 0, 0, 0, 0, 0, 2, 0, 0], [0, 0, 0, 3, 0, 0, 2, 0, 2, 0, 0, 0, 0, 0, 0, 0, 0, 0, 0, 0, 0, 0]]\n",
      "   Expected Output: [[0, 0, 0, 0, 0, 0, 0, 0, 0, 0, 0, 0, 0, 0, 0, 0, 0, 0, 0, 0, 0, 0], [0, 2, 2, 2, 2, 0, 0, 2, 2, 2, 2, 0, 0, 2, 2, 2, 2, 0, 0, 0, 0, 0], [0, 3, 2, 2, 3, 0, 0, 3, 2, 2, 3, 0, 0, 3, 2, 2, 3, 0, 0, 0, 0, 0], [0, 3, 3, 3, 3, 0, 0, 3, 3, 3, 3, 0, 0, 3, 3, 3, 3, 0, 0, 0, 0, 0], [0, 3, 1, 1, 3, 0, 0, 3, 1, 1, 3, 0, 0, 3, 1, 1, 3, 0, 0, 0, 0, 0], [0, 0, 0, 0, 0, 0, 0, 0, 0, 0, 0, 0, 0, 0, 0, 0, 0, 0, 0, 0, 0, 0], [0, 0, 0, 0, 0, 0, 0, 0, 0, 0, 0, 0, 0, 0, 0, 0, 0, 0, 0, 0, 0, 0], [0, 2, 2, 2, 2, 0, 0, 2, 2, 2, 2, 0, 0, 2, 2, 2, 2, 0, 0, 0, 0, 0], [0, 3, 2, 2, 3, 0, 0, 3, 2, 2, 3, 0, 0, 3, 2, 2, 3, 0, 0, 0, 0, 0], [0, 3, 3, 3, 3, 0, 0, 3, 3, 3, 3, 0, 0, 3, 3, 3, 3, 0, 0, 0, 0, 0], [0, 3, 1, 1, 3, 0, 0, 3, 1, 1, 3, 0, 0, 3, 1, 1, 3, 0, 0, 0, 0, 0], [0, 0, 0, 0, 0, 0, 0, 0, 0, 0, 0, 0, 0, 0, 0, 0, 0, 0, 0, 0, 0, 0], [0, 0, 0, 0, 0, 0, 0, 0, 0, 0, 0, 0, 0, 0, 0, 0, 0, 0, 0, 0, 0, 0], [0, 2, 2, 2, 2, 0, 0, 2, 2, 2, 2, 0, 0, 2, 2, 2, 2, 0, 0, 0, 0, 0], [0, 3, 2, 2, 3, 0, 0, 3, 2, 2, 3, 0, 0, 3, 2, 2, 3, 0, 0, 0, 0, 0], [0, 3, 3, 3, 3, 0, 0, 3, 3, 3, 3, 0, 0, 3, 3, 3, 3, 0, 0, 0, 0, 0], [0, 3, 1, 1, 3, 0, 0, 3, 1, 1, 3, 0, 0, 3, 1, 1, 3, 0, 0, 0, 0, 0], [0, 0, 0, 0, 0, 0, 0, 0, 0, 0, 0, 0, 0, 0, 0, 0, 0, 0, 0, 0, 0, 0], [0, 0, 0, 0, 0, 0, 0, 0, 0, 0, 0, 0, 0, 0, 0, 0, 0, 0, 0, 0, 0, 0], [0, 0, 0, 0, 0, 0, 0, 0, 0, 0, 0, 0, 0, 0, 0, 0, 0, 0, 0, 0, 0, 0], [0, 0, 0, 0, 0, 0, 0, 0, 0, 0, 0, 0, 0, 0, 0, 0, 0, 0, 0, 0, 0, 0], [0, 0, 0, 0, 0, 0, 0, 0, 0, 0, 0, 0, 0, 0, 0, 0, 0, 0, 0, 0, 0, 0]]\n",
      "   Generated Output: [[0, 0, 0, 0, 0, 0, 0, 0, 0, 0, 0, 0, 0, 0, 0, 0, 0, 0, 0, 0, 0, 0], [0, 3, 2, 2, 3, 0, 0, 3, 2, 2, 3, 0, 0, 3, 2, 2, 3, 0, 0, 0, 0, 0], [0, 3, 2, 2, 3, 0, 0, 3, 2, 2, 3, 0, 0, 3, 2, 2, 3, 0, 0, 0, 0, 0], [0, 3, 3, 3, 3, 0, 0, 3, 3, 3, 3, 0, 0, 3, 3, 3, 3, 0, 0, 0, 0, 0], [0, 2, 3, 1, 3, 0, 0, 2, 3, 1, 3, 0, 0, 2, 3, 1, 3, 0, 0, 0, 0, 0], [0, 0, 0, 0, 0, 0, 0, 0, 0, 0, 0, 0, 0, 0, 0, 0, 0, 0, 0, 0, 0, 0], [0, 0, 0, 0, 0, 0, 0, 0, 0, 0, 0, 0, 0, 0, 0, 0, 0, 0, 0, 0, 0, 0], [0, 3, 2, 2, 3, 0, 0, 3, 2, 2, 3, 0, 0, 3, 2, 2, 3, 0, 0, 0, 0, 0], [0, 3, 2, 2, 3, 0, 0, 3, 2, 2, 3, 0, 0, 3, 2, 2, 3, 0, 0, 0, 0, 0], [0, 3, 2, 2, 3, 0, 0, 3, 2, 2, 3, 0, 0, 3, 2, 2, 3, 0, 0, 0, 0, 0], [0, 3, 2, 2, 3, 0, 0, 3, 2, 2, 3, 0, 0, 3, 2, 2, 3, 0, 0, 0, 0, 0], [0, 0, 0, 0, 0, 0, 0, 0, 0, 0, 0, 0, 0, 0, 0, 0, 0, 0, 0, 0, 0, 0], [0, 0, 0, 0, 0, 0, 0, 0, 0, 0, 0, 0, 0, 0, 0, 0, 0, 0, 0, 0, 0, 0], [0, 2, 2, 2, 2, 0, 0, 2, 2, 2, 2, 0, 0, 2, 2, 2, 2, 0, 0, 0, 0, 0], [0, 3, 2, 3, 3, 0, 0, 3, 2, 3, 3, 0, 0, 3, 2, 3, 3, 0, 0, 0, 0, 0], [0, 3, 3, 3, 3, 0, 0, 3, 3, 3, 3, 0, 0, 3, 3, 3, 3, 0, 0, 0, 0, 0], [0, 3, 1, 1, 3, 0, 0, 3, 1, 1, 3, 0, 0, 3, 1, 1, 3, 0, 0, 0, 0, 0], [0, 0, 0, 0, 0, 0, 0, 0, 0, 0, 0, 0, 0, 0, 0, 0, 0, 0, 0, 0, 0, 0], [0, 0, 0, 0, 0, 0, 0, 0, 0, 0, 0, 0, 0, 0, 0, 0, 0, 0, 0, 0, 0, 0], [0, 0, 0, 0, 0, 0, 0, 0, 0, 0, 0, 0, 0, 0, 0, 0, 0, 0, 0, 0, 0, 0], [0, 0, 0, 0, 0, 0, 0, 0, 0, 0, 0, 0, 0, 0, 0, 0, 0, 0, 0, 0, 0, 0], [0, 0, 0, 0, 0, 0, 0, 0, 0, 0, 0, 0, 0, 0, 0, 0, 0, 0, 0, 0, 0, 0]]\n",
      "\n",
      "Please revise the code.\n",
      "==================================================\n",
      "Saved program for task 0607ce86 as version 4_rev1: Candidate_programs_tailored_prompts_full_test\\0607ce86\\solution_v4_rev1.py\n",
      "Task 0607ce86 evaluation results:\n",
      "Program solution_v1.py solved 2 out of 3 pairs. Score: 0.67\n",
      "==================================================\n",
      "Program solution_v2.py solved 2 out of 3 pairs. Score: 0.67\n",
      "==================================================\n",
      "Program solution_v3_rev1.py solved 3 out of 3 pairs. Score: 1.00\n",
      "==================================================\n",
      "Program solution_v4_rev1.py solved 1 out of 3 pairs. Score: 0.33\n",
      "==================================================\n",
      "Best program: Candidate_programs_tailored_prompts_full_test\\0607ce86\\solution_v3_rev1.py\n",
      "Best program: Candidate_programs_tailored_prompts_full_test\\0607ce86\\solution_v1.py\n"
     ]
    }
   ],
   "source": [
    "# Load tasks and API key\n",
    "tasks = load_tasks(\"evaluation_set\")\n",
    "load_api_key()\n",
    "\n",
    "# Load existing submission file if it exists\n",
    "submission_file = \"submission_tailored_prompts_full_test.json\"\n",
    "if os.path.exists(submission_file):\n",
    "    with open(submission_file, \"r\") as f:\n",
    "        final_submission = json.load(f)\n",
    "else:\n",
    "    final_submission = {}\n",
    "\n",
    "# Loop through each task (adjustable range)\n",
    "for i, task in enumerate(tasks[0:1]):\n",
    "    actual_task_id = task[\"filename\"].split(\".\")[0]\n",
    "    \n",
    "    ### PROMPT CREATION ###\n",
    "    tailored_prompt = build_prompts(task['data'], actual_task_id)\n",
    "    create_programs(tailored_prompt, actual_task_id, amount=2)\n",
    "    \n",
    "    ### INITIAL EVALUATION ###\n",
    "    task_folder = os.path.join(\"Candidate_programs_tailored_prompts_full_test\", actual_task_id)\n",
    "    evaluation_results = evaluate_programs(task['data'], task_folder)\n",
    "    \n",
    "    while evaluation_results == 0:\n",
    "        create_programs(tailored_prompt, actual_task_id, amount=2)\n",
    "        evaluation_results = evaluate_programs(task['data'], task_folder)\n",
    "\n",
    "    ### FIRST REVISION: Revise all < 1 ###\n",
    "    for result in evaluation_results:\n",
    "        if result['score'] < 1:\n",
    "            candidate_file = os.path.join(task_folder, result['program_name'])\n",
    "            print(f\"Revising {result['program_name']}...\")\n",
    "            revise_candidate_program(candidate_file, task['data'], actual_task_id)\n",
    "\n",
    "    ### FINAL EVALUATION ###\n",
    "    evaluation_results_3 = evaluate_programs(task['data'], task_folder)\n",
    "    print(f\"Task {actual_task_id} evaluation results:\")\n",
    "    for result in evaluation_results_3:\n",
    "        print(f\"Program {result['program_name']} solved {result['correct_pairs']} out of {result['total_pairs']} pairs. Score: {result['score']:.2f}\")\n",
    "        print(\"=\"*50)\n",
    "\n",
    "    ### PROGRAM SELECTION + PREDICTIONS ###\n",
    "    best_program_files = get_best_programs(evaluation_results_3, actual_task_id, n=2)\n",
    "    submission = generate_test_predictions(task['data'], actual_task_id, best_program_files)\n",
    "    final_submission.update(submission)\n",
    "\n",
    "# Final output file\n",
    "with open(submission_file, \"w\") as f:\n",
    "    json.dump(final_submission, f)\n"
   ]
  },
  {
   "cell_type": "markdown",
   "metadata": {},
   "source": [
    "## Get Accuracy (for personal use if test outputs are present)"
   ]
  },
  {
   "cell_type": "markdown",
   "metadata": {},
   "source": [
    "Compares the submission.json file with the actual correct test outputs of a task and returns the accuracy."
   ]
  },
  {
   "cell_type": "code",
   "execution_count": 71,
   "metadata": {},
   "outputs": [],
   "source": [
    "def are_equal(a, b):\n",
    "    return json.dumps(a) == json.dumps(b)\n",
    "\n",
    "def compute_accuracy(submission_path, tasks_dict, task_concepts):\n",
    "    with open(submission_path, 'r') as f:\n",
    "        submission = json.load(f)\n",
    "\n",
    "    total_tasks = len(submission)\n",
    "    correct_tasks = 0\n",
    "\n",
    "    concept_totals = {}\n",
    "    concept_corrects = {}\n",
    "\n",
    "    for task_id, prediction_list in submission.items():\n",
    "        task_data = tasks_dict[task_id]\n",
    "        test_outputs = [test['output'] for test in task_data['test']]\n",
    "\n",
    "        all_test_cases_correct = True\n",
    "        for idx, expected_output in enumerate(test_outputs):\n",
    "            attempts = prediction_list[idx]\n",
    "            pred1 = attempts.get(\"attempt_1\")\n",
    "            pred2 = attempts.get(\"attempt_2\")  # may be None\n",
    "\n",
    "            if not (are_equal(pred1, expected_output) or (pred2 is not None and are_equal(pred2, expected_output))):\n",
    "                all_test_cases_correct = False\n",
    "                break\n",
    "\n",
    "        concept = task_concepts.get(task_id, \"Unknown Concept\")\n",
    "        concept_totals[concept] = concept_totals.get(concept, 0) + 1\n",
    "        if all_test_cases_correct:\n",
    "            correct_tasks += 1\n",
    "            concept_corrects[concept] = concept_corrects.get(concept, 0) + 1\n",
    "\n",
    "    accuracy = correct_tasks / total_tasks\n",
    "\n",
    "    print(f\"\\nOverall Accuracy: {accuracy:.2%}\\n\")\n",
    "\n",
    "    print(\"Accuracy per concept:\")\n",
    "    for concept, total in concept_totals.items():\n",
    "        correct = concept_corrects.get(concept, 0)\n",
    "        concept_accuracy = correct / total\n",
    "        print(f\"- {concept}: {correct}/{total} ({concept_accuracy:.2%})\")\n",
    "\n",
    "    return accuracy\n"
   ]
  },
  {
   "cell_type": "code",
   "execution_count": 72,
   "metadata": {},
   "outputs": [
    {
     "name": "stdout",
     "output_type": "stream",
     "text": [
      "\n",
      "Overall Accuracy: 100.00%\n",
      "\n",
      "Accuracy per concept:\n",
      "- CleanUp: 1/1 (100.00%)\n"
     ]
    }
   ],
   "source": [
    "with open(\"submission_tailored_prompts_full_test.json\") as f:\n",
    "    submission = json.load(f)\n",
    "\n",
    "tasks_dict = {task[\"filename\"].split(\".\")[0]: task[\"data\"] for task in tasks}\n",
    "\n",
    "accuracy = compute_accuracy(\"submission_tailored_prompts_full_test.json\", tasks_dict, task_concepts)"
   ]
  },
  {
   "cell_type": "code",
   "execution_count": 73,
   "metadata": {},
   "outputs": [
    {
     "name": "stdout",
     "output_type": "stream",
     "text": [
      "Here are visual observations of the task that may help inform your implementation:\n",
      "- 0-black background over 23×22  \n",
      "- pink (6) horizontal stripes at rows 1, 8, 15 in two segments (cols 2–7 & 10–15)  \n",
      "- light-blue (8) + green (3) 4×4 squares at cols 2–7 & 10–15 repeated in rows 2–5, 8–12, 16–19  \n",
      "- single green (3) pixels scattered outside main clusters (anchors)  \n",
      "- in train 2, light-blue (8) stripes at rows 5 & 11 in same col segments  \n",
      "- train 2 repeating 1-1-2-3-3 pixel sequences in rows 1–4, 7–10, 13–14 across cols 1–5, 7–11, 13–17  \n",
      "- in train 3, red (2) + green (3) 4×4 blocks at cols 1–5, 7–10, 13–16 in rows 1–4, 7–10, 13–16  \n",
      "- single green (3) anchors at col 21 and scattered edge positions in train 3  \n",
      "- clusters always at fixed column offsets (two segment alignment)  \n",
      "- outputs preserve only the repeating block clusters; background & scattered anchors absent\n",
      "\n",
      "Here are the transformation rules that have been identified based on the task:\n",
      "1. Each input contains regularly tiled rectangular color clusters—4×4 or 6×5 blocks—arranged in two fixed column ranges and repeated at three set row bands, with stray single‐pixel “anchors” and background noise elsewhere.  \n",
      "2. The transformation discards every non–cluster pixel (all black background and isolated anchors), isolating only the repeating blocks.  \n",
      "3. Within each retained tile, any miscolored or missing interior pixels are filled in so that every block matches its perfect prototype pattern.  \n",
      "4. The cleaned, uniformly colored clusters remain in their original positions and spacings, with all other elements removed.\n",
      "    \n",
      "Here is a reflection on how you might implement a solution to this task in Python:\n",
      "I would start by scanning the grid for the two fixed column‐ranges and three consistent row‐bands where tiled clusters appear, using their size (4×4 or 6×1 stripes) and dominant colors as anchors. Next, I’d group all non‐background pixels into candidate blocks in those segments and discard any stray single‐pixel “anchors” outside those bands. Within each grouped block, I’d compare against the clean prototype pattern and fill or correct any mis‐colored interior pixel so every tile matches its ideal layout. A key challenge is robustly detecting the exact block dimensions and tolerating minor color noise in different training examples, so I’d write tests to confirm my cluster detector against varying mis‐colorings before generalizing.\n",
      "\n",
      "Write a Python function that correctly transforms each input grid into its corresponding output grid based on the given examples.\n",
      "\n",
      "- ONLY return code. No explanations or anything other than code.\n",
      "- The function must be named: `solve(grid: List[List[int]]) -> List[List[int]]`\n",
      "- Use only pure Python — do not import or use libraries like NumPy\n",
      "- Do not include comments, explanations, or print statements\n",
      "- Do not hard-code values or specific grid sizes — the function must generalize based on the patterns in the examples\n",
      "- The function must return a plain 2D list of integers with consistent row lengths (List[List[int]])\n",
      "- Do not return arrays, nested arrays, floats, or 3D structures\n",
      "- Ensure your solution works for all provided input-output pairs\n",
      "\n",
      "Here are the demonstration pairs (JSON data):\n",
      "\n",
      "Train Input 1: [[0, 0, 0, 0, 0, 0, 0, 0, 0, 0, 3, 0, 0, 0, 0, 3, 0, 0, 0, 0, 0, 0], [0, 0, 6, 6, 6, 6, 6, 6, 0, 0, 6, 6, 6, 6, 3, 6, 0, 0, 0, 0, 0, 0], [0, 0, 8, 8, 3, 3, 8, 8, 0, 0, 8, 3, 3, 3, 8, 8, 0, 0, 0, 0, 0, 0], [0, 0, 8, 8, 3, 3, 8, 8, 0, 0, 8, 8, 3, 3, 8, 8, 0, 0, 3, 0, 0, 0], [0, 3, 8, 8, 3, 3, 8, 8, 0, 0, 8, 8, 3, 3, 8, 3, 0, 0, 0, 3, 0, 0], [0, 3, 8, 8, 3, 3, 8, 8, 0, 0, 8, 8, 3, 3, 8, 8, 3, 0, 0, 0, 0, 0], [0, 0, 0, 0, 0, 0, 0, 0, 0, 0, 3, 0, 0, 0, 0, 0, 0, 0, 0, 0, 0, 0], [0, 3, 0, 0, 0, 3, 0, 0, 0, 0, 0, 0, 0, 0, 0, 0, 0, 0, 0, 0, 0, 0], [0, 0, 6, 6, 6, 6, 6, 6, 0, 0, 6, 6, 3, 6, 6, 6, 0, 0, 0, 0, 0, 0], [0, 0, 8, 8, 3, 3, 8, 8, 0, 0, 3, 8, 3, 3, 8, 3, 0, 3, 0, 0, 0, 3], [0, 0, 8, 8, 3, 3, 3, 8, 0, 0, 3, 8, 3, 3, 8, 8, 0, 0, 0, 0, 0, 0], [0, 0, 8, 8, 3, 3, 8, 8, 0, 0, 8, 3, 3, 3, 3, 8, 0, 0, 0, 0, 0, 0], [3, 3, 8, 8, 3, 3, 8, 8, 0, 0, 8, 8, 3, 3, 8, 8, 0, 0, 0, 0, 0, 0], [0, 0, 0, 0, 0, 0, 0, 0, 0, 0, 0, 0, 0, 3, 0, 0, 0, 0, 3, 0, 0, 0], [0, 0, 0, 0, 0, 0, 0, 0, 0, 3, 0, 0, 3, 0, 0, 0, 0, 0, 0, 0, 0, 0], [0, 0, 6, 6, 3, 6, 6, 6, 0, 3, 6, 6, 6, 3, 6, 6, 0, 0, 0, 0, 0, 0], [0, 0, 8, 8, 3, 3, 8, 8, 0, 0, 8, 8, 3, 3, 8, 8, 0, 0, 0, 0, 3, 0], [0, 0, 8, 3, 3, 3, 8, 8, 0, 0, 8, 8, 3, 3, 8, 8, 0, 0, 0, 0, 0, 0], [0, 0, 8, 8, 3, 3, 8, 8, 0, 0, 8, 8, 3, 3, 8, 8, 0, 0, 0, 0, 0, 0], [0, 0, 8, 8, 3, 3, 8, 8, 0, 0, 8, 8, 3, 3, 8, 8, 0, 0, 0, 0, 0, 0], [0, 0, 0, 0, 0, 0, 3, 3, 0, 0, 0, 0, 0, 0, 0, 0, 0, 0, 0, 0, 0, 0], [0, 0, 0, 0, 0, 0, 0, 0, 0, 3, 0, 0, 3, 0, 0, 0, 3, 0, 0, 0, 0, 0], [0, 0, 0, 0, 0, 0, 0, 3, 0, 0, 0, 0, 0, 0, 0, 0, 0, 0, 0, 0, 0, 0]]\n",
      "Train Output 1: [[0, 0, 0, 0, 0, 0, 0, 0, 0, 0, 0, 0, 0, 0, 0, 0, 0, 0, 0, 0, 0, 0], [0, 0, 6, 6, 6, 6, 6, 6, 0, 0, 6, 6, 6, 6, 6, 6, 0, 0, 0, 0, 0, 0], [0, 0, 8, 8, 3, 3, 8, 8, 0, 0, 8, 8, 3, 3, 8, 8, 0, 0, 0, 0, 0, 0], [0, 0, 8, 8, 3, 3, 8, 8, 0, 0, 8, 8, 3, 3, 8, 8, 0, 0, 0, 0, 0, 0], [0, 0, 8, 8, 3, 3, 8, 8, 0, 0, 8, 8, 3, 3, 8, 8, 0, 0, 0, 0, 0, 0], [0, 0, 8, 8, 3, 3, 8, 8, 0, 0, 8, 8, 3, 3, 8, 8, 0, 0, 0, 0, 0, 0], [0, 0, 0, 0, 0, 0, 0, 0, 0, 0, 0, 0, 0, 0, 0, 0, 0, 0, 0, 0, 0, 0], [0, 0, 0, 0, 0, 0, 0, 0, 0, 0, 0, 0, 0, 0, 0, 0, 0, 0, 0, 0, 0, 0], [0, 0, 6, 6, 6, 6, 6, 6, 0, 0, 6, 6, 6, 6, 6, 6, 0, 0, 0, 0, 0, 0], [0, 0, 8, 8, 3, 3, 8, 8, 0, 0, 8, 8, 3, 3, 8, 8, 0, 0, 0, 0, 0, 0], [0, 0, 8, 8, 3, 3, 8, 8, 0, 0, 8, 8, 3, 3, 8, 8, 0, 0, 0, 0, 0, 0], [0, 0, 8, 8, 3, 3, 8, 8, 0, 0, 8, 8, 3, 3, 8, 8, 0, 0, 0, 0, 0, 0], [0, 0, 8, 8, 3, 3, 8, 8, 0, 0, 8, 8, 3, 3, 8, 8, 0, 0, 0, 0, 0, 0], [0, 0, 0, 0, 0, 0, 0, 0, 0, 0, 0, 0, 0, 0, 0, 0, 0, 0, 0, 0, 0, 0], [0, 0, 0, 0, 0, 0, 0, 0, 0, 0, 0, 0, 0, 0, 0, 0, 0, 0, 0, 0, 0, 0], [0, 0, 6, 6, 6, 6, 6, 6, 0, 0, 6, 6, 6, 6, 6, 6, 0, 0, 0, 0, 0, 0], [0, 0, 8, 8, 3, 3, 8, 8, 0, 0, 8, 8, 3, 3, 8, 8, 0, 0, 0, 0, 0, 0], [0, 0, 8, 8, 3, 3, 8, 8, 0, 0, 8, 8, 3, 3, 8, 8, 0, 0, 0, 0, 0, 0], [0, 0, 8, 8, 3, 3, 8, 8, 0, 0, 8, 8, 3, 3, 8, 8, 0, 0, 0, 0, 0, 0], [0, 0, 8, 8, 3, 3, 8, 8, 0, 0, 8, 8, 3, 3, 8, 8, 0, 0, 0, 0, 0, 0], [0, 0, 0, 0, 0, 0, 0, 0, 0, 0, 0, 0, 0, 0, 0, 0, 0, 0, 0, 0, 0, 0], [0, 0, 0, 0, 0, 0, 0, 0, 0, 0, 0, 0, 0, 0, 0, 0, 0, 0, 0, 0, 0, 0], [0, 0, 0, 0, 0, 0, 0, 0, 0, 0, 0, 0, 0, 0, 0, 0, 0, 0, 0, 0, 0, 0]]\n",
      "\n",
      "Train Input 2: [[0, 3, 0, 0, 0, 3, 3, 0, 0, 0, 0, 3, 0, 0, 0, 0, 0, 0, 0, 0, 0, 0], [0, 1, 1, 2, 3, 3, 0, 1, 1, 2, 3, 3, 1, 1, 1, 2, 3, 3, 0, 3, 0, 0], [0, 1, 1, 3, 3, 3, 0, 1, 1, 2, 3, 3, 0, 1, 1, 2, 3, 3, 3, 0, 3, 0], [0, 1, 1, 2, 3, 3, 0, 1, 1, 2, 3, 3, 0, 1, 1, 1, 3, 3, 0, 0, 0, 3], [0, 1, 3, 3, 3, 1, 0, 1, 1, 2, 3, 3, 0, 1, 1, 2, 3, 3, 0, 0, 0, 0], [0, 8, 8, 8, 8, 8, 0, 8, 8, 8, 8, 8, 0, 8, 8, 8, 8, 8, 0, 0, 0, 0], [0, 0, 0, 0, 0, 0, 0, 0, 0, 0, 0, 0, 0, 0, 0, 0, 0, 0, 0, 0, 0, 0], [0, 3, 1, 3, 3, 3, 0, 3, 1, 2, 3, 3, 0, 1, 1, 2, 3, 3, 0, 0, 3, 0], [0, 1, 1, 2, 3, 3, 0, 1, 1, 2, 3, 3, 0, 1, 1, 2, 3, 3, 0, 0, 0, 0], [0, 1, 1, 2, 3, 3, 0, 1, 3, 2, 1, 3, 0, 1, 1, 2, 3, 3, 0, 0, 0, 0], [1, 1, 1, 2, 3, 3, 0, 1, 1, 2, 3, 3, 3, 1, 3, 2, 3, 3, 0, 0, 0, 0], [0, 8, 1, 8, 8, 3, 0, 8, 8, 8, 8, 8, 0, 1, 8, 8, 8, 8, 0, 0, 0, 0], [0, 0, 0, 1, 0, 0, 0, 0, 0, 0, 0, 0, 0, 0, 0, 0, 0, 0, 0, 3, 3, 0], [0, 1, 1, 2, 3, 3, 0, 1, 1, 2, 3, 3, 0, 1, 1, 2, 3, 3, 0, 0, 3, 0], [0, 1, 1, 3, 3, 3, 0, 1, 1, 2, 3, 3, 0, 1, 1, 2, 3, 3, 0, 0, 0, 0], [0, 1, 1, 2, 3, 3, 0, 1, 1, 1, 3, 3, 0, 1, 1, 2, 3, 1, 0, 0, 0, 0], [1, 1, 1, 2, 3, 3, 0, 1, 1, 2, 3, 1, 0, 1, 1, 2, 3, 3, 0, 0, 0, 0], [3, 8, 8, 8, 3, 3, 1, 8, 8, 8, 8, 8, 0, 8, 8, 8, 8, 8, 0, 0, 1, 0], [0, 1, 0, 0, 0, 0, 0, 0, 0, 0, 0, 0, 0, 0, 0, 0, 0, 0, 0, 0, 0, 0], [0, 3, 3, 0, 3, 0, 3, 0, 1, 1, 0, 3, 0, 0, 0, 0, 0, 0, 0, 0, 0, 1], [0, 0, 3, 0, 0, 1, 0, 0, 0, 0, 0, 3, 0, 0, 0, 0, 0, 0, 0, 0, 0, 0]]\n",
      "Train Output 2: [[0, 0, 0, 0, 0, 0, 0, 0, 0, 0, 0, 0, 0, 0, 0, 0, 0, 0, 0, 0, 0, 0], [0, 1, 1, 2, 3, 3, 0, 1, 1, 2, 3, 3, 0, 1, 1, 2, 3, 3, 0, 0, 0, 0], [0, 1, 1, 2, 3, 3, 0, 1, 1, 2, 3, 3, 0, 1, 1, 2, 3, 3, 0, 0, 0, 0], [0, 1, 1, 2, 3, 3, 0, 1, 1, 2, 3, 3, 0, 1, 1, 2, 3, 3, 0, 0, 0, 0], [0, 1, 1, 2, 3, 3, 0, 1, 1, 2, 3, 3, 0, 1, 1, 2, 3, 3, 0, 0, 0, 0], [0, 8, 8, 8, 8, 8, 0, 8, 8, 8, 8, 8, 0, 8, 8, 8, 8, 8, 0, 0, 0, 0], [0, 0, 0, 0, 0, 0, 0, 0, 0, 0, 0, 0, 0, 0, 0, 0, 0, 0, 0, 0, 0, 0], [0, 1, 1, 2, 3, 3, 0, 1, 1, 2, 3, 3, 0, 1, 1, 2, 3, 3, 0, 0, 0, 0], [0, 1, 1, 2, 3, 3, 0, 1, 1, 2, 3, 3, 0, 1, 1, 2, 3, 3, 0, 0, 0, 0], [0, 1, 1, 2, 3, 3, 0, 1, 1, 2, 3, 3, 0, 1, 1, 2, 3, 3, 0, 0, 0, 0], [0, 1, 1, 2, 3, 3, 0, 1, 1, 2, 3, 3, 0, 1, 1, 2, 3, 3, 0, 0, 0, 0], [0, 8, 8, 8, 8, 8, 0, 8, 8, 8, 8, 8, 0, 8, 8, 8, 8, 8, 0, 0, 0, 0], [0, 0, 0, 0, 0, 0, 0, 0, 0, 0, 0, 0, 0, 0, 0, 0, 0, 0, 0, 0, 0, 0], [0, 1, 1, 2, 3, 3, 0, 1, 1, 2, 3, 3, 0, 1, 1, 2, 3, 3, 0, 0, 0, 0], [0, 1, 1, 2, 3, 3, 0, 1, 1, 2, 3, 3, 0, 1, 1, 2, 3, 3, 0, 0, 0, 0], [0, 1, 1, 2, 3, 3, 0, 1, 1, 2, 3, 3, 0, 1, 1, 2, 3, 3, 0, 0, 0, 0], [0, 1, 1, 2, 3, 3, 0, 1, 1, 2, 3, 3, 0, 1, 1, 2, 3, 3, 0, 0, 0, 0], [0, 8, 8, 8, 8, 8, 0, 8, 8, 8, 8, 8, 0, 8, 8, 8, 8, 8, 0, 0, 0, 0], [0, 0, 0, 0, 0, 0, 0, 0, 0, 0, 0, 0, 0, 0, 0, 0, 0, 0, 0, 0, 0, 0], [0, 0, 0, 0, 0, 0, 0, 0, 0, 0, 0, 0, 0, 0, 0, 0, 0, 0, 0, 0, 0, 0], [0, 0, 0, 0, 0, 0, 0, 0, 0, 0, 0, 0, 0, 0, 0, 0, 0, 0, 0, 0, 0, 0]]\n",
      "\n",
      "Train Input 3: [[0, 0, 0, 0, 0, 0, 0, 0, 0, 0, 0, 0, 0, 0, 0, 0, 0, 0, 0, 0, 0, 3], [0, 2, 2, 2, 2, 2, 0, 2, 2, 2, 2, 0, 0, 2, 2, 2, 2, 0, 0, 0, 0, 3], [0, 3, 2, 2, 3, 0, 0, 3, 2, 2, 3, 0, 3, 3, 2, 2, 3, 0, 0, 3, 0, 0], [0, 2, 3, 3, 3, 0, 0, 3, 3, 3, 3, 0, 0, 3, 3, 3, 3, 0, 0, 0, 0, 0], [0, 2, 3, 1, 3, 0, 0, 2, 2, 1, 2, 0, 0, 3, 1, 1, 3, 0, 0, 0, 0, 0], [0, 0, 0, 0, 0, 0, 0, 0, 0, 0, 0, 2, 0, 0, 0, 0, 0, 0, 2, 0, 0, 0], [0, 0, 0, 2, 0, 0, 0, 0, 0, 0, 0, 0, 0, 0, 0, 0, 0, 0, 0, 3, 0, 0], [0, 2, 2, 2, 2, 3, 0, 2, 2, 2, 2, 0, 0, 2, 2, 2, 2, 2, 0, 0, 0, 0], [0, 3, 2, 2, 3, 0, 0, 3, 2, 2, 3, 0, 3, 3, 2, 2, 3, 2, 0, 0, 0, 0], [0, 3, 3, 3, 3, 0, 0, 3, 3, 3, 3, 0, 0, 3, 3, 3, 3, 0, 0, 0, 0, 0], [0, 3, 3, 1, 3, 0, 0, 3, 1, 1, 3, 0, 0, 3, 1, 1, 3, 0, 0, 0, 0, 0], [0, 0, 0, 0, 0, 0, 0, 0, 0, 0, 0, 0, 0, 0, 0, 0, 0, 0, 0, 0, 0, 0], [0, 0, 0, 0, 0, 0, 0, 0, 0, 0, 0, 0, 0, 3, 0, 0, 0, 0, 0, 0, 0, 0], [0, 2, 2, 2, 2, 0, 0, 3, 2, 3, 2, 0, 0, 2, 3, 2, 2, 0, 0, 0, 0, 0], [0, 3, 2, 2, 3, 0, 0, 3, 2, 3, 3, 0, 0, 3, 2, 3, 3, 0, 0, 0, 0, 0], [3, 3, 3, 3, 3, 0, 0, 3, 3, 3, 3, 0, 0, 3, 2, 3, 3, 0, 0, 2, 0, 0], [0, 3, 1, 1, 3, 0, 3, 3, 1, 1, 3, 0, 0, 3, 1, 1, 3, 0, 0, 0, 0, 0], [0, 2, 0, 0, 3, 0, 0, 0, 0, 0, 0, 0, 0, 0, 0, 0, 0, 0, 0, 0, 0, 0], [0, 0, 0, 0, 0, 0, 3, 0, 2, 0, 0, 0, 0, 0, 0, 0, 0, 0, 0, 0, 0, 0], [0, 2, 0, 0, 0, 0, 2, 0, 0, 3, 0, 0, 0, 0, 0, 0, 0, 0, 0, 0, 0, 0], [0, 0, 0, 0, 0, 0, 0, 0, 0, 0, 2, 2, 0, 0, 0, 0, 0, 0, 0, 2, 0, 0], [0, 0, 0, 3, 0, 0, 2, 0, 2, 0, 0, 0, 0, 0, 0, 0, 0, 0, 0, 0, 0, 0]]\n",
      "Train Output 3: [[0, 0, 0, 0, 0, 0, 0, 0, 0, 0, 0, 0, 0, 0, 0, 0, 0, 0, 0, 0, 0, 0], [0, 2, 2, 2, 2, 0, 0, 2, 2, 2, 2, 0, 0, 2, 2, 2, 2, 0, 0, 0, 0, 0], [0, 3, 2, 2, 3, 0, 0, 3, 2, 2, 3, 0, 0, 3, 2, 2, 3, 0, 0, 0, 0, 0], [0, 3, 3, 3, 3, 0, 0, 3, 3, 3, 3, 0, 0, 3, 3, 3, 3, 0, 0, 0, 0, 0], [0, 3, 1, 1, 3, 0, 0, 3, 1, 1, 3, 0, 0, 3, 1, 1, 3, 0, 0, 0, 0, 0], [0, 0, 0, 0, 0, 0, 0, 0, 0, 0, 0, 0, 0, 0, 0, 0, 0, 0, 0, 0, 0, 0], [0, 0, 0, 0, 0, 0, 0, 0, 0, 0, 0, 0, 0, 0, 0, 0, 0, 0, 0, 0, 0, 0], [0, 2, 2, 2, 2, 0, 0, 2, 2, 2, 2, 0, 0, 2, 2, 2, 2, 0, 0, 0, 0, 0], [0, 3, 2, 2, 3, 0, 0, 3, 2, 2, 3, 0, 0, 3, 2, 2, 3, 0, 0, 0, 0, 0], [0, 3, 3, 3, 3, 0, 0, 3, 3, 3, 3, 0, 0, 3, 3, 3, 3, 0, 0, 0, 0, 0], [0, 3, 1, 1, 3, 0, 0, 3, 1, 1, 3, 0, 0, 3, 1, 1, 3, 0, 0, 0, 0, 0], [0, 0, 0, 0, 0, 0, 0, 0, 0, 0, 0, 0, 0, 0, 0, 0, 0, 0, 0, 0, 0, 0], [0, 0, 0, 0, 0, 0, 0, 0, 0, 0, 0, 0, 0, 0, 0, 0, 0, 0, 0, 0, 0, 0], [0, 2, 2, 2, 2, 0, 0, 2, 2, 2, 2, 0, 0, 2, 2, 2, 2, 0, 0, 0, 0, 0], [0, 3, 2, 2, 3, 0, 0, 3, 2, 2, 3, 0, 0, 3, 2, 2, 3, 0, 0, 0, 0, 0], [0, 3, 3, 3, 3, 0, 0, 3, 3, 3, 3, 0, 0, 3, 3, 3, 3, 0, 0, 0, 0, 0], [0, 3, 1, 1, 3, 0, 0, 3, 1, 1, 3, 0, 0, 3, 1, 1, 3, 0, 0, 0, 0, 0], [0, 0, 0, 0, 0, 0, 0, 0, 0, 0, 0, 0, 0, 0, 0, 0, 0, 0, 0, 0, 0, 0], [0, 0, 0, 0, 0, 0, 0, 0, 0, 0, 0, 0, 0, 0, 0, 0, 0, 0, 0, 0, 0, 0], [0, 0, 0, 0, 0, 0, 0, 0, 0, 0, 0, 0, 0, 0, 0, 0, 0, 0, 0, 0, 0, 0], [0, 0, 0, 0, 0, 0, 0, 0, 0, 0, 0, 0, 0, 0, 0, 0, 0, 0, 0, 0, 0, 0], [0, 0, 0, 0, 0, 0, 0, 0, 0, 0, 0, 0, 0, 0, 0, 0, 0, 0, 0, 0, 0, 0]]\n",
      "\n",
      "\n",
      "Encoding used: nonzero_coords\n",
      "Explanation: This encoding lists only the non-zero cells as dictionaries containing their row, column, and value.\n",
      "\n",
      "Here are the demonstration pairs (encoded):\n",
      "\n",
      "Train Input 1: [{'row': 0, 'col': 10, 'val': 3}, {'row': 0, 'col': 15, 'val': 3}, {'row': 1, 'col': 2, 'val': 6}, {'row': 1, 'col': 3, 'val': 6}, {'row': 1, 'col': 4, 'val': 6}, {'row': 1, 'col': 5, 'val': 6}, {'row': 1, 'col': 6, 'val': 6}, {'row': 1, 'col': 7, 'val': 6}, {'row': 1, 'col': 10, 'val': 6}, {'row': 1, 'col': 11, 'val': 6}, {'row': 1, 'col': 12, 'val': 6}, {'row': 1, 'col': 13, 'val': 6}, {'row': 1, 'col': 14, 'val': 3}, {'row': 1, 'col': 15, 'val': 6}, {'row': 2, 'col': 2, 'val': 8}, {'row': 2, 'col': 3, 'val': 8}, {'row': 2, 'col': 4, 'val': 3}, {'row': 2, 'col': 5, 'val': 3}, {'row': 2, 'col': 6, 'val': 8}, {'row': 2, 'col': 7, 'val': 8}, {'row': 2, 'col': 10, 'val': 8}, {'row': 2, 'col': 11, 'val': 3}, {'row': 2, 'col': 12, 'val': 3}, {'row': 2, 'col': 13, 'val': 3}, {'row': 2, 'col': 14, 'val': 8}, {'row': 2, 'col': 15, 'val': 8}, {'row': 3, 'col': 2, 'val': 8}, {'row': 3, 'col': 3, 'val': 8}, {'row': 3, 'col': 4, 'val': 3}, {'row': 3, 'col': 5, 'val': 3}, {'row': 3, 'col': 6, 'val': 8}, {'row': 3, 'col': 7, 'val': 8}, {'row': 3, 'col': 10, 'val': 8}, {'row': 3, 'col': 11, 'val': 8}, {'row': 3, 'col': 12, 'val': 3}, {'row': 3, 'col': 13, 'val': 3}, {'row': 3, 'col': 14, 'val': 8}, {'row': 3, 'col': 15, 'val': 8}, {'row': 3, 'col': 18, 'val': 3}, {'row': 4, 'col': 1, 'val': 3}, {'row': 4, 'col': 2, 'val': 8}, {'row': 4, 'col': 3, 'val': 8}, {'row': 4, 'col': 4, 'val': 3}, {'row': 4, 'col': 5, 'val': 3}, {'row': 4, 'col': 6, 'val': 8}, {'row': 4, 'col': 7, 'val': 8}, {'row': 4, 'col': 10, 'val': 8}, {'row': 4, 'col': 11, 'val': 8}, {'row': 4, 'col': 12, 'val': 3}, {'row': 4, 'col': 13, 'val': 3}, {'row': 4, 'col': 14, 'val': 8}, {'row': 4, 'col': 15, 'val': 3}, {'row': 4, 'col': 19, 'val': 3}, {'row': 5, 'col': 1, 'val': 3}, {'row': 5, 'col': 2, 'val': 8}, {'row': 5, 'col': 3, 'val': 8}, {'row': 5, 'col': 4, 'val': 3}, {'row': 5, 'col': 5, 'val': 3}, {'row': 5, 'col': 6, 'val': 8}, {'row': 5, 'col': 7, 'val': 8}, {'row': 5, 'col': 10, 'val': 8}, {'row': 5, 'col': 11, 'val': 8}, {'row': 5, 'col': 12, 'val': 3}, {'row': 5, 'col': 13, 'val': 3}, {'row': 5, 'col': 14, 'val': 8}, {'row': 5, 'col': 15, 'val': 8}, {'row': 5, 'col': 16, 'val': 3}, {'row': 6, 'col': 10, 'val': 3}, {'row': 7, 'col': 1, 'val': 3}, {'row': 7, 'col': 5, 'val': 3}, {'row': 8, 'col': 2, 'val': 6}, {'row': 8, 'col': 3, 'val': 6}, {'row': 8, 'col': 4, 'val': 6}, {'row': 8, 'col': 5, 'val': 6}, {'row': 8, 'col': 6, 'val': 6}, {'row': 8, 'col': 7, 'val': 6}, {'row': 8, 'col': 10, 'val': 6}, {'row': 8, 'col': 11, 'val': 6}, {'row': 8, 'col': 12, 'val': 3}, {'row': 8, 'col': 13, 'val': 6}, {'row': 8, 'col': 14, 'val': 6}, {'row': 8, 'col': 15, 'val': 6}, {'row': 9, 'col': 2, 'val': 8}, {'row': 9, 'col': 3, 'val': 8}, {'row': 9, 'col': 4, 'val': 3}, {'row': 9, 'col': 5, 'val': 3}, {'row': 9, 'col': 6, 'val': 8}, {'row': 9, 'col': 7, 'val': 8}, {'row': 9, 'col': 10, 'val': 3}, {'row': 9, 'col': 11, 'val': 8}, {'row': 9, 'col': 12, 'val': 3}, {'row': 9, 'col': 13, 'val': 3}, {'row': 9, 'col': 14, 'val': 8}, {'row': 9, 'col': 15, 'val': 3}, {'row': 9, 'col': 17, 'val': 3}, {'row': 9, 'col': 21, 'val': 3}, {'row': 10, 'col': 2, 'val': 8}, {'row': 10, 'col': 3, 'val': 8}, {'row': 10, 'col': 4, 'val': 3}, {'row': 10, 'col': 5, 'val': 3}, {'row': 10, 'col': 6, 'val': 3}, {'row': 10, 'col': 7, 'val': 8}, {'row': 10, 'col': 10, 'val': 3}, {'row': 10, 'col': 11, 'val': 8}, {'row': 10, 'col': 12, 'val': 3}, {'row': 10, 'col': 13, 'val': 3}, {'row': 10, 'col': 14, 'val': 8}, {'row': 10, 'col': 15, 'val': 8}, {'row': 11, 'col': 2, 'val': 8}, {'row': 11, 'col': 3, 'val': 8}, {'row': 11, 'col': 4, 'val': 3}, {'row': 11, 'col': 5, 'val': 3}, {'row': 11, 'col': 6, 'val': 8}, {'row': 11, 'col': 7, 'val': 8}, {'row': 11, 'col': 10, 'val': 8}, {'row': 11, 'col': 11, 'val': 3}, {'row': 11, 'col': 12, 'val': 3}, {'row': 11, 'col': 13, 'val': 3}, {'row': 11, 'col': 14, 'val': 3}, {'row': 11, 'col': 15, 'val': 8}, {'row': 12, 'col': 0, 'val': 3}, {'row': 12, 'col': 1, 'val': 3}, {'row': 12, 'col': 2, 'val': 8}, {'row': 12, 'col': 3, 'val': 8}, {'row': 12, 'col': 4, 'val': 3}, {'row': 12, 'col': 5, 'val': 3}, {'row': 12, 'col': 6, 'val': 8}, {'row': 12, 'col': 7, 'val': 8}, {'row': 12, 'col': 10, 'val': 8}, {'row': 12, 'col': 11, 'val': 8}, {'row': 12, 'col': 12, 'val': 3}, {'row': 12, 'col': 13, 'val': 3}, {'row': 12, 'col': 14, 'val': 8}, {'row': 12, 'col': 15, 'val': 8}, {'row': 13, 'col': 13, 'val': 3}, {'row': 13, 'col': 18, 'val': 3}, {'row': 14, 'col': 9, 'val': 3}, {'row': 14, 'col': 12, 'val': 3}, {'row': 15, 'col': 2, 'val': 6}, {'row': 15, 'col': 3, 'val': 6}, {'row': 15, 'col': 4, 'val': 3}, {'row': 15, 'col': 5, 'val': 6}, {'row': 15, 'col': 6, 'val': 6}, {'row': 15, 'col': 7, 'val': 6}, {'row': 15, 'col': 9, 'val': 3}, {'row': 15, 'col': 10, 'val': 6}, {'row': 15, 'col': 11, 'val': 6}, {'row': 15, 'col': 12, 'val': 6}, {'row': 15, 'col': 13, 'val': 3}, {'row': 15, 'col': 14, 'val': 6}, {'row': 15, 'col': 15, 'val': 6}, {'row': 16, 'col': 2, 'val': 8}, {'row': 16, 'col': 3, 'val': 8}, {'row': 16, 'col': 4, 'val': 3}, {'row': 16, 'col': 5, 'val': 3}, {'row': 16, 'col': 6, 'val': 8}, {'row': 16, 'col': 7, 'val': 8}, {'row': 16, 'col': 10, 'val': 8}, {'row': 16, 'col': 11, 'val': 8}, {'row': 16, 'col': 12, 'val': 3}, {'row': 16, 'col': 13, 'val': 3}, {'row': 16, 'col': 14, 'val': 8}, {'row': 16, 'col': 15, 'val': 8}, {'row': 16, 'col': 20, 'val': 3}, {'row': 17, 'col': 2, 'val': 8}, {'row': 17, 'col': 3, 'val': 3}, {'row': 17, 'col': 4, 'val': 3}, {'row': 17, 'col': 5, 'val': 3}, {'row': 17, 'col': 6, 'val': 8}, {'row': 17, 'col': 7, 'val': 8}, {'row': 17, 'col': 10, 'val': 8}, {'row': 17, 'col': 11, 'val': 8}, {'row': 17, 'col': 12, 'val': 3}, {'row': 17, 'col': 13, 'val': 3}, {'row': 17, 'col': 14, 'val': 8}, {'row': 17, 'col': 15, 'val': 8}, {'row': 18, 'col': 2, 'val': 8}, {'row': 18, 'col': 3, 'val': 8}, {'row': 18, 'col': 4, 'val': 3}, {'row': 18, 'col': 5, 'val': 3}, {'row': 18, 'col': 6, 'val': 8}, {'row': 18, 'col': 7, 'val': 8}, {'row': 18, 'col': 10, 'val': 8}, {'row': 18, 'col': 11, 'val': 8}, {'row': 18, 'col': 12, 'val': 3}, {'row': 18, 'col': 13, 'val': 3}, {'row': 18, 'col': 14, 'val': 8}, {'row': 18, 'col': 15, 'val': 8}, {'row': 19, 'col': 2, 'val': 8}, {'row': 19, 'col': 3, 'val': 8}, {'row': 19, 'col': 4, 'val': 3}, {'row': 19, 'col': 5, 'val': 3}, {'row': 19, 'col': 6, 'val': 8}, {'row': 19, 'col': 7, 'val': 8}, {'row': 19, 'col': 10, 'val': 8}, {'row': 19, 'col': 11, 'val': 8}, {'row': 19, 'col': 12, 'val': 3}, {'row': 19, 'col': 13, 'val': 3}, {'row': 19, 'col': 14, 'val': 8}, {'row': 19, 'col': 15, 'val': 8}, {'row': 20, 'col': 6, 'val': 3}, {'row': 20, 'col': 7, 'val': 3}, {'row': 21, 'col': 9, 'val': 3}, {'row': 21, 'col': 12, 'val': 3}, {'row': 21, 'col': 16, 'val': 3}, {'row': 22, 'col': 7, 'val': 3}]\n",
      "Train Output 1: [{'row': 1, 'col': 2, 'val': 6}, {'row': 1, 'col': 3, 'val': 6}, {'row': 1, 'col': 4, 'val': 6}, {'row': 1, 'col': 5, 'val': 6}, {'row': 1, 'col': 6, 'val': 6}, {'row': 1, 'col': 7, 'val': 6}, {'row': 1, 'col': 10, 'val': 6}, {'row': 1, 'col': 11, 'val': 6}, {'row': 1, 'col': 12, 'val': 6}, {'row': 1, 'col': 13, 'val': 6}, {'row': 1, 'col': 14, 'val': 6}, {'row': 1, 'col': 15, 'val': 6}, {'row': 2, 'col': 2, 'val': 8}, {'row': 2, 'col': 3, 'val': 8}, {'row': 2, 'col': 4, 'val': 3}, {'row': 2, 'col': 5, 'val': 3}, {'row': 2, 'col': 6, 'val': 8}, {'row': 2, 'col': 7, 'val': 8}, {'row': 2, 'col': 10, 'val': 8}, {'row': 2, 'col': 11, 'val': 8}, {'row': 2, 'col': 12, 'val': 3}, {'row': 2, 'col': 13, 'val': 3}, {'row': 2, 'col': 14, 'val': 8}, {'row': 2, 'col': 15, 'val': 8}, {'row': 3, 'col': 2, 'val': 8}, {'row': 3, 'col': 3, 'val': 8}, {'row': 3, 'col': 4, 'val': 3}, {'row': 3, 'col': 5, 'val': 3}, {'row': 3, 'col': 6, 'val': 8}, {'row': 3, 'col': 7, 'val': 8}, {'row': 3, 'col': 10, 'val': 8}, {'row': 3, 'col': 11, 'val': 8}, {'row': 3, 'col': 12, 'val': 3}, {'row': 3, 'col': 13, 'val': 3}, {'row': 3, 'col': 14, 'val': 8}, {'row': 3, 'col': 15, 'val': 8}, {'row': 4, 'col': 2, 'val': 8}, {'row': 4, 'col': 3, 'val': 8}, {'row': 4, 'col': 4, 'val': 3}, {'row': 4, 'col': 5, 'val': 3}, {'row': 4, 'col': 6, 'val': 8}, {'row': 4, 'col': 7, 'val': 8}, {'row': 4, 'col': 10, 'val': 8}, {'row': 4, 'col': 11, 'val': 8}, {'row': 4, 'col': 12, 'val': 3}, {'row': 4, 'col': 13, 'val': 3}, {'row': 4, 'col': 14, 'val': 8}, {'row': 4, 'col': 15, 'val': 8}, {'row': 5, 'col': 2, 'val': 8}, {'row': 5, 'col': 3, 'val': 8}, {'row': 5, 'col': 4, 'val': 3}, {'row': 5, 'col': 5, 'val': 3}, {'row': 5, 'col': 6, 'val': 8}, {'row': 5, 'col': 7, 'val': 8}, {'row': 5, 'col': 10, 'val': 8}, {'row': 5, 'col': 11, 'val': 8}, {'row': 5, 'col': 12, 'val': 3}, {'row': 5, 'col': 13, 'val': 3}, {'row': 5, 'col': 14, 'val': 8}, {'row': 5, 'col': 15, 'val': 8}, {'row': 8, 'col': 2, 'val': 6}, {'row': 8, 'col': 3, 'val': 6}, {'row': 8, 'col': 4, 'val': 6}, {'row': 8, 'col': 5, 'val': 6}, {'row': 8, 'col': 6, 'val': 6}, {'row': 8, 'col': 7, 'val': 6}, {'row': 8, 'col': 10, 'val': 6}, {'row': 8, 'col': 11, 'val': 6}, {'row': 8, 'col': 12, 'val': 6}, {'row': 8, 'col': 13, 'val': 6}, {'row': 8, 'col': 14, 'val': 6}, {'row': 8, 'col': 15, 'val': 6}, {'row': 9, 'col': 2, 'val': 8}, {'row': 9, 'col': 3, 'val': 8}, {'row': 9, 'col': 4, 'val': 3}, {'row': 9, 'col': 5, 'val': 3}, {'row': 9, 'col': 6, 'val': 8}, {'row': 9, 'col': 7, 'val': 8}, {'row': 9, 'col': 10, 'val': 8}, {'row': 9, 'col': 11, 'val': 8}, {'row': 9, 'col': 12, 'val': 3}, {'row': 9, 'col': 13, 'val': 3}, {'row': 9, 'col': 14, 'val': 8}, {'row': 9, 'col': 15, 'val': 8}, {'row': 10, 'col': 2, 'val': 8}, {'row': 10, 'col': 3, 'val': 8}, {'row': 10, 'col': 4, 'val': 3}, {'row': 10, 'col': 5, 'val': 3}, {'row': 10, 'col': 6, 'val': 8}, {'row': 10, 'col': 7, 'val': 8}, {'row': 10, 'col': 10, 'val': 8}, {'row': 10, 'col': 11, 'val': 8}, {'row': 10, 'col': 12, 'val': 3}, {'row': 10, 'col': 13, 'val': 3}, {'row': 10, 'col': 14, 'val': 8}, {'row': 10, 'col': 15, 'val': 8}, {'row': 11, 'col': 2, 'val': 8}, {'row': 11, 'col': 3, 'val': 8}, {'row': 11, 'col': 4, 'val': 3}, {'row': 11, 'col': 5, 'val': 3}, {'row': 11, 'col': 6, 'val': 8}, {'row': 11, 'col': 7, 'val': 8}, {'row': 11, 'col': 10, 'val': 8}, {'row': 11, 'col': 11, 'val': 8}, {'row': 11, 'col': 12, 'val': 3}, {'row': 11, 'col': 13, 'val': 3}, {'row': 11, 'col': 14, 'val': 8}, {'row': 11, 'col': 15, 'val': 8}, {'row': 12, 'col': 2, 'val': 8}, {'row': 12, 'col': 3, 'val': 8}, {'row': 12, 'col': 4, 'val': 3}, {'row': 12, 'col': 5, 'val': 3}, {'row': 12, 'col': 6, 'val': 8}, {'row': 12, 'col': 7, 'val': 8}, {'row': 12, 'col': 10, 'val': 8}, {'row': 12, 'col': 11, 'val': 8}, {'row': 12, 'col': 12, 'val': 3}, {'row': 12, 'col': 13, 'val': 3}, {'row': 12, 'col': 14, 'val': 8}, {'row': 12, 'col': 15, 'val': 8}, {'row': 15, 'col': 2, 'val': 6}, {'row': 15, 'col': 3, 'val': 6}, {'row': 15, 'col': 4, 'val': 6}, {'row': 15, 'col': 5, 'val': 6}, {'row': 15, 'col': 6, 'val': 6}, {'row': 15, 'col': 7, 'val': 6}, {'row': 15, 'col': 10, 'val': 6}, {'row': 15, 'col': 11, 'val': 6}, {'row': 15, 'col': 12, 'val': 6}, {'row': 15, 'col': 13, 'val': 6}, {'row': 15, 'col': 14, 'val': 6}, {'row': 15, 'col': 15, 'val': 6}, {'row': 16, 'col': 2, 'val': 8}, {'row': 16, 'col': 3, 'val': 8}, {'row': 16, 'col': 4, 'val': 3}, {'row': 16, 'col': 5, 'val': 3}, {'row': 16, 'col': 6, 'val': 8}, {'row': 16, 'col': 7, 'val': 8}, {'row': 16, 'col': 10, 'val': 8}, {'row': 16, 'col': 11, 'val': 8}, {'row': 16, 'col': 12, 'val': 3}, {'row': 16, 'col': 13, 'val': 3}, {'row': 16, 'col': 14, 'val': 8}, {'row': 16, 'col': 15, 'val': 8}, {'row': 17, 'col': 2, 'val': 8}, {'row': 17, 'col': 3, 'val': 8}, {'row': 17, 'col': 4, 'val': 3}, {'row': 17, 'col': 5, 'val': 3}, {'row': 17, 'col': 6, 'val': 8}, {'row': 17, 'col': 7, 'val': 8}, {'row': 17, 'col': 10, 'val': 8}, {'row': 17, 'col': 11, 'val': 8}, {'row': 17, 'col': 12, 'val': 3}, {'row': 17, 'col': 13, 'val': 3}, {'row': 17, 'col': 14, 'val': 8}, {'row': 17, 'col': 15, 'val': 8}, {'row': 18, 'col': 2, 'val': 8}, {'row': 18, 'col': 3, 'val': 8}, {'row': 18, 'col': 4, 'val': 3}, {'row': 18, 'col': 5, 'val': 3}, {'row': 18, 'col': 6, 'val': 8}, {'row': 18, 'col': 7, 'val': 8}, {'row': 18, 'col': 10, 'val': 8}, {'row': 18, 'col': 11, 'val': 8}, {'row': 18, 'col': 12, 'val': 3}, {'row': 18, 'col': 13, 'val': 3}, {'row': 18, 'col': 14, 'val': 8}, {'row': 18, 'col': 15, 'val': 8}, {'row': 19, 'col': 2, 'val': 8}, {'row': 19, 'col': 3, 'val': 8}, {'row': 19, 'col': 4, 'val': 3}, {'row': 19, 'col': 5, 'val': 3}, {'row': 19, 'col': 6, 'val': 8}, {'row': 19, 'col': 7, 'val': 8}, {'row': 19, 'col': 10, 'val': 8}, {'row': 19, 'col': 11, 'val': 8}, {'row': 19, 'col': 12, 'val': 3}, {'row': 19, 'col': 13, 'val': 3}, {'row': 19, 'col': 14, 'val': 8}, {'row': 19, 'col': 15, 'val': 8}]\n",
      "\n",
      "Train Input 2: [{'row': 0, 'col': 1, 'val': 3}, {'row': 0, 'col': 5, 'val': 3}, {'row': 0, 'col': 6, 'val': 3}, {'row': 0, 'col': 11, 'val': 3}, {'row': 1, 'col': 1, 'val': 1}, {'row': 1, 'col': 2, 'val': 1}, {'row': 1, 'col': 3, 'val': 2}, {'row': 1, 'col': 4, 'val': 3}, {'row': 1, 'col': 5, 'val': 3}, {'row': 1, 'col': 7, 'val': 1}, {'row': 1, 'col': 8, 'val': 1}, {'row': 1, 'col': 9, 'val': 2}, {'row': 1, 'col': 10, 'val': 3}, {'row': 1, 'col': 11, 'val': 3}, {'row': 1, 'col': 12, 'val': 1}, {'row': 1, 'col': 13, 'val': 1}, {'row': 1, 'col': 14, 'val': 1}, {'row': 1, 'col': 15, 'val': 2}, {'row': 1, 'col': 16, 'val': 3}, {'row': 1, 'col': 17, 'val': 3}, {'row': 1, 'col': 19, 'val': 3}, {'row': 2, 'col': 1, 'val': 1}, {'row': 2, 'col': 2, 'val': 1}, {'row': 2, 'col': 3, 'val': 3}, {'row': 2, 'col': 4, 'val': 3}, {'row': 2, 'col': 5, 'val': 3}, {'row': 2, 'col': 7, 'val': 1}, {'row': 2, 'col': 8, 'val': 1}, {'row': 2, 'col': 9, 'val': 2}, {'row': 2, 'col': 10, 'val': 3}, {'row': 2, 'col': 11, 'val': 3}, {'row': 2, 'col': 13, 'val': 1}, {'row': 2, 'col': 14, 'val': 1}, {'row': 2, 'col': 15, 'val': 2}, {'row': 2, 'col': 16, 'val': 3}, {'row': 2, 'col': 17, 'val': 3}, {'row': 2, 'col': 18, 'val': 3}, {'row': 2, 'col': 20, 'val': 3}, {'row': 3, 'col': 1, 'val': 1}, {'row': 3, 'col': 2, 'val': 1}, {'row': 3, 'col': 3, 'val': 2}, {'row': 3, 'col': 4, 'val': 3}, {'row': 3, 'col': 5, 'val': 3}, {'row': 3, 'col': 7, 'val': 1}, {'row': 3, 'col': 8, 'val': 1}, {'row': 3, 'col': 9, 'val': 2}, {'row': 3, 'col': 10, 'val': 3}, {'row': 3, 'col': 11, 'val': 3}, {'row': 3, 'col': 13, 'val': 1}, {'row': 3, 'col': 14, 'val': 1}, {'row': 3, 'col': 15, 'val': 1}, {'row': 3, 'col': 16, 'val': 3}, {'row': 3, 'col': 17, 'val': 3}, {'row': 3, 'col': 21, 'val': 3}, {'row': 4, 'col': 1, 'val': 1}, {'row': 4, 'col': 2, 'val': 3}, {'row': 4, 'col': 3, 'val': 3}, {'row': 4, 'col': 4, 'val': 3}, {'row': 4, 'col': 5, 'val': 1}, {'row': 4, 'col': 7, 'val': 1}, {'row': 4, 'col': 8, 'val': 1}, {'row': 4, 'col': 9, 'val': 2}, {'row': 4, 'col': 10, 'val': 3}, {'row': 4, 'col': 11, 'val': 3}, {'row': 4, 'col': 13, 'val': 1}, {'row': 4, 'col': 14, 'val': 1}, {'row': 4, 'col': 15, 'val': 2}, {'row': 4, 'col': 16, 'val': 3}, {'row': 4, 'col': 17, 'val': 3}, {'row': 5, 'col': 1, 'val': 8}, {'row': 5, 'col': 2, 'val': 8}, {'row': 5, 'col': 3, 'val': 8}, {'row': 5, 'col': 4, 'val': 8}, {'row': 5, 'col': 5, 'val': 8}, {'row': 5, 'col': 7, 'val': 8}, {'row': 5, 'col': 8, 'val': 8}, {'row': 5, 'col': 9, 'val': 8}, {'row': 5, 'col': 10, 'val': 8}, {'row': 5, 'col': 11, 'val': 8}, {'row': 5, 'col': 13, 'val': 8}, {'row': 5, 'col': 14, 'val': 8}, {'row': 5, 'col': 15, 'val': 8}, {'row': 5, 'col': 16, 'val': 8}, {'row': 5, 'col': 17, 'val': 8}, {'row': 7, 'col': 1, 'val': 3}, {'row': 7, 'col': 2, 'val': 1}, {'row': 7, 'col': 3, 'val': 3}, {'row': 7, 'col': 4, 'val': 3}, {'row': 7, 'col': 5, 'val': 3}, {'row': 7, 'col': 7, 'val': 3}, {'row': 7, 'col': 8, 'val': 1}, {'row': 7, 'col': 9, 'val': 2}, {'row': 7, 'col': 10, 'val': 3}, {'row': 7, 'col': 11, 'val': 3}, {'row': 7, 'col': 13, 'val': 1}, {'row': 7, 'col': 14, 'val': 1}, {'row': 7, 'col': 15, 'val': 2}, {'row': 7, 'col': 16, 'val': 3}, {'row': 7, 'col': 17, 'val': 3}, {'row': 7, 'col': 20, 'val': 3}, {'row': 8, 'col': 1, 'val': 1}, {'row': 8, 'col': 2, 'val': 1}, {'row': 8, 'col': 3, 'val': 2}, {'row': 8, 'col': 4, 'val': 3}, {'row': 8, 'col': 5, 'val': 3}, {'row': 8, 'col': 7, 'val': 1}, {'row': 8, 'col': 8, 'val': 1}, {'row': 8, 'col': 9, 'val': 2}, {'row': 8, 'col': 10, 'val': 3}, {'row': 8, 'col': 11, 'val': 3}, {'row': 8, 'col': 13, 'val': 1}, {'row': 8, 'col': 14, 'val': 1}, {'row': 8, 'col': 15, 'val': 2}, {'row': 8, 'col': 16, 'val': 3}, {'row': 8, 'col': 17, 'val': 3}, {'row': 9, 'col': 1, 'val': 1}, {'row': 9, 'col': 2, 'val': 1}, {'row': 9, 'col': 3, 'val': 2}, {'row': 9, 'col': 4, 'val': 3}, {'row': 9, 'col': 5, 'val': 3}, {'row': 9, 'col': 7, 'val': 1}, {'row': 9, 'col': 8, 'val': 3}, {'row': 9, 'col': 9, 'val': 2}, {'row': 9, 'col': 10, 'val': 1}, {'row': 9, 'col': 11, 'val': 3}, {'row': 9, 'col': 13, 'val': 1}, {'row': 9, 'col': 14, 'val': 1}, {'row': 9, 'col': 15, 'val': 2}, {'row': 9, 'col': 16, 'val': 3}, {'row': 9, 'col': 17, 'val': 3}, {'row': 10, 'col': 0, 'val': 1}, {'row': 10, 'col': 1, 'val': 1}, {'row': 10, 'col': 2, 'val': 1}, {'row': 10, 'col': 3, 'val': 2}, {'row': 10, 'col': 4, 'val': 3}, {'row': 10, 'col': 5, 'val': 3}, {'row': 10, 'col': 7, 'val': 1}, {'row': 10, 'col': 8, 'val': 1}, {'row': 10, 'col': 9, 'val': 2}, {'row': 10, 'col': 10, 'val': 3}, {'row': 10, 'col': 11, 'val': 3}, {'row': 10, 'col': 12, 'val': 3}, {'row': 10, 'col': 13, 'val': 1}, {'row': 10, 'col': 14, 'val': 3}, {'row': 10, 'col': 15, 'val': 2}, {'row': 10, 'col': 16, 'val': 3}, {'row': 10, 'col': 17, 'val': 3}, {'row': 11, 'col': 1, 'val': 8}, {'row': 11, 'col': 2, 'val': 1}, {'row': 11, 'col': 3, 'val': 8}, {'row': 11, 'col': 4, 'val': 8}, {'row': 11, 'col': 5, 'val': 3}, {'row': 11, 'col': 7, 'val': 8}, {'row': 11, 'col': 8, 'val': 8}, {'row': 11, 'col': 9, 'val': 8}, {'row': 11, 'col': 10, 'val': 8}, {'row': 11, 'col': 11, 'val': 8}, {'row': 11, 'col': 13, 'val': 1}, {'row': 11, 'col': 14, 'val': 8}, {'row': 11, 'col': 15, 'val': 8}, {'row': 11, 'col': 16, 'val': 8}, {'row': 11, 'col': 17, 'val': 8}, {'row': 12, 'col': 3, 'val': 1}, {'row': 12, 'col': 19, 'val': 3}, {'row': 12, 'col': 20, 'val': 3}, {'row': 13, 'col': 1, 'val': 1}, {'row': 13, 'col': 2, 'val': 1}, {'row': 13, 'col': 3, 'val': 2}, {'row': 13, 'col': 4, 'val': 3}, {'row': 13, 'col': 5, 'val': 3}, {'row': 13, 'col': 7, 'val': 1}, {'row': 13, 'col': 8, 'val': 1}, {'row': 13, 'col': 9, 'val': 2}, {'row': 13, 'col': 10, 'val': 3}, {'row': 13, 'col': 11, 'val': 3}, {'row': 13, 'col': 13, 'val': 1}, {'row': 13, 'col': 14, 'val': 1}, {'row': 13, 'col': 15, 'val': 2}, {'row': 13, 'col': 16, 'val': 3}, {'row': 13, 'col': 17, 'val': 3}, {'row': 13, 'col': 20, 'val': 3}, {'row': 14, 'col': 1, 'val': 1}, {'row': 14, 'col': 2, 'val': 1}, {'row': 14, 'col': 3, 'val': 3}, {'row': 14, 'col': 4, 'val': 3}, {'row': 14, 'col': 5, 'val': 3}, {'row': 14, 'col': 7, 'val': 1}, {'row': 14, 'col': 8, 'val': 1}, {'row': 14, 'col': 9, 'val': 2}, {'row': 14, 'col': 10, 'val': 3}, {'row': 14, 'col': 11, 'val': 3}, {'row': 14, 'col': 13, 'val': 1}, {'row': 14, 'col': 14, 'val': 1}, {'row': 14, 'col': 15, 'val': 2}, {'row': 14, 'col': 16, 'val': 3}, {'row': 14, 'col': 17, 'val': 3}, {'row': 15, 'col': 1, 'val': 1}, {'row': 15, 'col': 2, 'val': 1}, {'row': 15, 'col': 3, 'val': 2}, {'row': 15, 'col': 4, 'val': 3}, {'row': 15, 'col': 5, 'val': 3}, {'row': 15, 'col': 7, 'val': 1}, {'row': 15, 'col': 8, 'val': 1}, {'row': 15, 'col': 9, 'val': 1}, {'row': 15, 'col': 10, 'val': 3}, {'row': 15, 'col': 11, 'val': 3}, {'row': 15, 'col': 13, 'val': 1}, {'row': 15, 'col': 14, 'val': 1}, {'row': 15, 'col': 15, 'val': 2}, {'row': 15, 'col': 16, 'val': 3}, {'row': 15, 'col': 17, 'val': 1}, {'row': 16, 'col': 0, 'val': 1}, {'row': 16, 'col': 1, 'val': 1}, {'row': 16, 'col': 2, 'val': 1}, {'row': 16, 'col': 3, 'val': 2}, {'row': 16, 'col': 4, 'val': 3}, {'row': 16, 'col': 5, 'val': 3}, {'row': 16, 'col': 7, 'val': 1}, {'row': 16, 'col': 8, 'val': 1}, {'row': 16, 'col': 9, 'val': 2}, {'row': 16, 'col': 10, 'val': 3}, {'row': 16, 'col': 11, 'val': 1}, {'row': 16, 'col': 13, 'val': 1}, {'row': 16, 'col': 14, 'val': 1}, {'row': 16, 'col': 15, 'val': 2}, {'row': 16, 'col': 16, 'val': 3}, {'row': 16, 'col': 17, 'val': 3}, {'row': 17, 'col': 0, 'val': 3}, {'row': 17, 'col': 1, 'val': 8}, {'row': 17, 'col': 2, 'val': 8}, {'row': 17, 'col': 3, 'val': 8}, {'row': 17, 'col': 4, 'val': 3}, {'row': 17, 'col': 5, 'val': 3}, {'row': 17, 'col': 6, 'val': 1}, {'row': 17, 'col': 7, 'val': 8}, {'row': 17, 'col': 8, 'val': 8}, {'row': 17, 'col': 9, 'val': 8}, {'row': 17, 'col': 10, 'val': 8}, {'row': 17, 'col': 11, 'val': 8}, {'row': 17, 'col': 13, 'val': 8}, {'row': 17, 'col': 14, 'val': 8}, {'row': 17, 'col': 15, 'val': 8}, {'row': 17, 'col': 16, 'val': 8}, {'row': 17, 'col': 17, 'val': 8}, {'row': 17, 'col': 20, 'val': 1}, {'row': 18, 'col': 1, 'val': 1}, {'row': 19, 'col': 1, 'val': 3}, {'row': 19, 'col': 2, 'val': 3}, {'row': 19, 'col': 4, 'val': 3}, {'row': 19, 'col': 6, 'val': 3}, {'row': 19, 'col': 8, 'val': 1}, {'row': 19, 'col': 9, 'val': 1}, {'row': 19, 'col': 11, 'val': 3}, {'row': 19, 'col': 21, 'val': 1}, {'row': 20, 'col': 2, 'val': 3}, {'row': 20, 'col': 5, 'val': 1}, {'row': 20, 'col': 11, 'val': 3}]\n",
      "Train Output 2: [{'row': 1, 'col': 1, 'val': 1}, {'row': 1, 'col': 2, 'val': 1}, {'row': 1, 'col': 3, 'val': 2}, {'row': 1, 'col': 4, 'val': 3}, {'row': 1, 'col': 5, 'val': 3}, {'row': 1, 'col': 7, 'val': 1}, {'row': 1, 'col': 8, 'val': 1}, {'row': 1, 'col': 9, 'val': 2}, {'row': 1, 'col': 10, 'val': 3}, {'row': 1, 'col': 11, 'val': 3}, {'row': 1, 'col': 13, 'val': 1}, {'row': 1, 'col': 14, 'val': 1}, {'row': 1, 'col': 15, 'val': 2}, {'row': 1, 'col': 16, 'val': 3}, {'row': 1, 'col': 17, 'val': 3}, {'row': 2, 'col': 1, 'val': 1}, {'row': 2, 'col': 2, 'val': 1}, {'row': 2, 'col': 3, 'val': 2}, {'row': 2, 'col': 4, 'val': 3}, {'row': 2, 'col': 5, 'val': 3}, {'row': 2, 'col': 7, 'val': 1}, {'row': 2, 'col': 8, 'val': 1}, {'row': 2, 'col': 9, 'val': 2}, {'row': 2, 'col': 10, 'val': 3}, {'row': 2, 'col': 11, 'val': 3}, {'row': 2, 'col': 13, 'val': 1}, {'row': 2, 'col': 14, 'val': 1}, {'row': 2, 'col': 15, 'val': 2}, {'row': 2, 'col': 16, 'val': 3}, {'row': 2, 'col': 17, 'val': 3}, {'row': 3, 'col': 1, 'val': 1}, {'row': 3, 'col': 2, 'val': 1}, {'row': 3, 'col': 3, 'val': 2}, {'row': 3, 'col': 4, 'val': 3}, {'row': 3, 'col': 5, 'val': 3}, {'row': 3, 'col': 7, 'val': 1}, {'row': 3, 'col': 8, 'val': 1}, {'row': 3, 'col': 9, 'val': 2}, {'row': 3, 'col': 10, 'val': 3}, {'row': 3, 'col': 11, 'val': 3}, {'row': 3, 'col': 13, 'val': 1}, {'row': 3, 'col': 14, 'val': 1}, {'row': 3, 'col': 15, 'val': 2}, {'row': 3, 'col': 16, 'val': 3}, {'row': 3, 'col': 17, 'val': 3}, {'row': 4, 'col': 1, 'val': 1}, {'row': 4, 'col': 2, 'val': 1}, {'row': 4, 'col': 3, 'val': 2}, {'row': 4, 'col': 4, 'val': 3}, {'row': 4, 'col': 5, 'val': 3}, {'row': 4, 'col': 7, 'val': 1}, {'row': 4, 'col': 8, 'val': 1}, {'row': 4, 'col': 9, 'val': 2}, {'row': 4, 'col': 10, 'val': 3}, {'row': 4, 'col': 11, 'val': 3}, {'row': 4, 'col': 13, 'val': 1}, {'row': 4, 'col': 14, 'val': 1}, {'row': 4, 'col': 15, 'val': 2}, {'row': 4, 'col': 16, 'val': 3}, {'row': 4, 'col': 17, 'val': 3}, {'row': 5, 'col': 1, 'val': 8}, {'row': 5, 'col': 2, 'val': 8}, {'row': 5, 'col': 3, 'val': 8}, {'row': 5, 'col': 4, 'val': 8}, {'row': 5, 'col': 5, 'val': 8}, {'row': 5, 'col': 7, 'val': 8}, {'row': 5, 'col': 8, 'val': 8}, {'row': 5, 'col': 9, 'val': 8}, {'row': 5, 'col': 10, 'val': 8}, {'row': 5, 'col': 11, 'val': 8}, {'row': 5, 'col': 13, 'val': 8}, {'row': 5, 'col': 14, 'val': 8}, {'row': 5, 'col': 15, 'val': 8}, {'row': 5, 'col': 16, 'val': 8}, {'row': 5, 'col': 17, 'val': 8}, {'row': 7, 'col': 1, 'val': 1}, {'row': 7, 'col': 2, 'val': 1}, {'row': 7, 'col': 3, 'val': 2}, {'row': 7, 'col': 4, 'val': 3}, {'row': 7, 'col': 5, 'val': 3}, {'row': 7, 'col': 7, 'val': 1}, {'row': 7, 'col': 8, 'val': 1}, {'row': 7, 'col': 9, 'val': 2}, {'row': 7, 'col': 10, 'val': 3}, {'row': 7, 'col': 11, 'val': 3}, {'row': 7, 'col': 13, 'val': 1}, {'row': 7, 'col': 14, 'val': 1}, {'row': 7, 'col': 15, 'val': 2}, {'row': 7, 'col': 16, 'val': 3}, {'row': 7, 'col': 17, 'val': 3}, {'row': 8, 'col': 1, 'val': 1}, {'row': 8, 'col': 2, 'val': 1}, {'row': 8, 'col': 3, 'val': 2}, {'row': 8, 'col': 4, 'val': 3}, {'row': 8, 'col': 5, 'val': 3}, {'row': 8, 'col': 7, 'val': 1}, {'row': 8, 'col': 8, 'val': 1}, {'row': 8, 'col': 9, 'val': 2}, {'row': 8, 'col': 10, 'val': 3}, {'row': 8, 'col': 11, 'val': 3}, {'row': 8, 'col': 13, 'val': 1}, {'row': 8, 'col': 14, 'val': 1}, {'row': 8, 'col': 15, 'val': 2}, {'row': 8, 'col': 16, 'val': 3}, {'row': 8, 'col': 17, 'val': 3}, {'row': 9, 'col': 1, 'val': 1}, {'row': 9, 'col': 2, 'val': 1}, {'row': 9, 'col': 3, 'val': 2}, {'row': 9, 'col': 4, 'val': 3}, {'row': 9, 'col': 5, 'val': 3}, {'row': 9, 'col': 7, 'val': 1}, {'row': 9, 'col': 8, 'val': 1}, {'row': 9, 'col': 9, 'val': 2}, {'row': 9, 'col': 10, 'val': 3}, {'row': 9, 'col': 11, 'val': 3}, {'row': 9, 'col': 13, 'val': 1}, {'row': 9, 'col': 14, 'val': 1}, {'row': 9, 'col': 15, 'val': 2}, {'row': 9, 'col': 16, 'val': 3}, {'row': 9, 'col': 17, 'val': 3}, {'row': 10, 'col': 1, 'val': 1}, {'row': 10, 'col': 2, 'val': 1}, {'row': 10, 'col': 3, 'val': 2}, {'row': 10, 'col': 4, 'val': 3}, {'row': 10, 'col': 5, 'val': 3}, {'row': 10, 'col': 7, 'val': 1}, {'row': 10, 'col': 8, 'val': 1}, {'row': 10, 'col': 9, 'val': 2}, {'row': 10, 'col': 10, 'val': 3}, {'row': 10, 'col': 11, 'val': 3}, {'row': 10, 'col': 13, 'val': 1}, {'row': 10, 'col': 14, 'val': 1}, {'row': 10, 'col': 15, 'val': 2}, {'row': 10, 'col': 16, 'val': 3}, {'row': 10, 'col': 17, 'val': 3}, {'row': 11, 'col': 1, 'val': 8}, {'row': 11, 'col': 2, 'val': 8}, {'row': 11, 'col': 3, 'val': 8}, {'row': 11, 'col': 4, 'val': 8}, {'row': 11, 'col': 5, 'val': 8}, {'row': 11, 'col': 7, 'val': 8}, {'row': 11, 'col': 8, 'val': 8}, {'row': 11, 'col': 9, 'val': 8}, {'row': 11, 'col': 10, 'val': 8}, {'row': 11, 'col': 11, 'val': 8}, {'row': 11, 'col': 13, 'val': 8}, {'row': 11, 'col': 14, 'val': 8}, {'row': 11, 'col': 15, 'val': 8}, {'row': 11, 'col': 16, 'val': 8}, {'row': 11, 'col': 17, 'val': 8}, {'row': 13, 'col': 1, 'val': 1}, {'row': 13, 'col': 2, 'val': 1}, {'row': 13, 'col': 3, 'val': 2}, {'row': 13, 'col': 4, 'val': 3}, {'row': 13, 'col': 5, 'val': 3}, {'row': 13, 'col': 7, 'val': 1}, {'row': 13, 'col': 8, 'val': 1}, {'row': 13, 'col': 9, 'val': 2}, {'row': 13, 'col': 10, 'val': 3}, {'row': 13, 'col': 11, 'val': 3}, {'row': 13, 'col': 13, 'val': 1}, {'row': 13, 'col': 14, 'val': 1}, {'row': 13, 'col': 15, 'val': 2}, {'row': 13, 'col': 16, 'val': 3}, {'row': 13, 'col': 17, 'val': 3}, {'row': 14, 'col': 1, 'val': 1}, {'row': 14, 'col': 2, 'val': 1}, {'row': 14, 'col': 3, 'val': 2}, {'row': 14, 'col': 4, 'val': 3}, {'row': 14, 'col': 5, 'val': 3}, {'row': 14, 'col': 7, 'val': 1}, {'row': 14, 'col': 8, 'val': 1}, {'row': 14, 'col': 9, 'val': 2}, {'row': 14, 'col': 10, 'val': 3}, {'row': 14, 'col': 11, 'val': 3}, {'row': 14, 'col': 13, 'val': 1}, {'row': 14, 'col': 14, 'val': 1}, {'row': 14, 'col': 15, 'val': 2}, {'row': 14, 'col': 16, 'val': 3}, {'row': 14, 'col': 17, 'val': 3}, {'row': 15, 'col': 1, 'val': 1}, {'row': 15, 'col': 2, 'val': 1}, {'row': 15, 'col': 3, 'val': 2}, {'row': 15, 'col': 4, 'val': 3}, {'row': 15, 'col': 5, 'val': 3}, {'row': 15, 'col': 7, 'val': 1}, {'row': 15, 'col': 8, 'val': 1}, {'row': 15, 'col': 9, 'val': 2}, {'row': 15, 'col': 10, 'val': 3}, {'row': 15, 'col': 11, 'val': 3}, {'row': 15, 'col': 13, 'val': 1}, {'row': 15, 'col': 14, 'val': 1}, {'row': 15, 'col': 15, 'val': 2}, {'row': 15, 'col': 16, 'val': 3}, {'row': 15, 'col': 17, 'val': 3}, {'row': 16, 'col': 1, 'val': 1}, {'row': 16, 'col': 2, 'val': 1}, {'row': 16, 'col': 3, 'val': 2}, {'row': 16, 'col': 4, 'val': 3}, {'row': 16, 'col': 5, 'val': 3}, {'row': 16, 'col': 7, 'val': 1}, {'row': 16, 'col': 8, 'val': 1}, {'row': 16, 'col': 9, 'val': 2}, {'row': 16, 'col': 10, 'val': 3}, {'row': 16, 'col': 11, 'val': 3}, {'row': 16, 'col': 13, 'val': 1}, {'row': 16, 'col': 14, 'val': 1}, {'row': 16, 'col': 15, 'val': 2}, {'row': 16, 'col': 16, 'val': 3}, {'row': 16, 'col': 17, 'val': 3}, {'row': 17, 'col': 1, 'val': 8}, {'row': 17, 'col': 2, 'val': 8}, {'row': 17, 'col': 3, 'val': 8}, {'row': 17, 'col': 4, 'val': 8}, {'row': 17, 'col': 5, 'val': 8}, {'row': 17, 'col': 7, 'val': 8}, {'row': 17, 'col': 8, 'val': 8}, {'row': 17, 'col': 9, 'val': 8}, {'row': 17, 'col': 10, 'val': 8}, {'row': 17, 'col': 11, 'val': 8}, {'row': 17, 'col': 13, 'val': 8}, {'row': 17, 'col': 14, 'val': 8}, {'row': 17, 'col': 15, 'val': 8}, {'row': 17, 'col': 16, 'val': 8}, {'row': 17, 'col': 17, 'val': 8}]\n",
      "\n",
      "Train Input 3: [{'row': 0, 'col': 21, 'val': 3}, {'row': 1, 'col': 1, 'val': 2}, {'row': 1, 'col': 2, 'val': 2}, {'row': 1, 'col': 3, 'val': 2}, {'row': 1, 'col': 4, 'val': 2}, {'row': 1, 'col': 5, 'val': 2}, {'row': 1, 'col': 7, 'val': 2}, {'row': 1, 'col': 8, 'val': 2}, {'row': 1, 'col': 9, 'val': 2}, {'row': 1, 'col': 10, 'val': 2}, {'row': 1, 'col': 13, 'val': 2}, {'row': 1, 'col': 14, 'val': 2}, {'row': 1, 'col': 15, 'val': 2}, {'row': 1, 'col': 16, 'val': 2}, {'row': 1, 'col': 21, 'val': 3}, {'row': 2, 'col': 1, 'val': 3}, {'row': 2, 'col': 2, 'val': 2}, {'row': 2, 'col': 3, 'val': 2}, {'row': 2, 'col': 4, 'val': 3}, {'row': 2, 'col': 7, 'val': 3}, {'row': 2, 'col': 8, 'val': 2}, {'row': 2, 'col': 9, 'val': 2}, {'row': 2, 'col': 10, 'val': 3}, {'row': 2, 'col': 12, 'val': 3}, {'row': 2, 'col': 13, 'val': 3}, {'row': 2, 'col': 14, 'val': 2}, {'row': 2, 'col': 15, 'val': 2}, {'row': 2, 'col': 16, 'val': 3}, {'row': 2, 'col': 19, 'val': 3}, {'row': 3, 'col': 1, 'val': 2}, {'row': 3, 'col': 2, 'val': 3}, {'row': 3, 'col': 3, 'val': 3}, {'row': 3, 'col': 4, 'val': 3}, {'row': 3, 'col': 7, 'val': 3}, {'row': 3, 'col': 8, 'val': 3}, {'row': 3, 'col': 9, 'val': 3}, {'row': 3, 'col': 10, 'val': 3}, {'row': 3, 'col': 13, 'val': 3}, {'row': 3, 'col': 14, 'val': 3}, {'row': 3, 'col': 15, 'val': 3}, {'row': 3, 'col': 16, 'val': 3}, {'row': 4, 'col': 1, 'val': 2}, {'row': 4, 'col': 2, 'val': 3}, {'row': 4, 'col': 3, 'val': 1}, {'row': 4, 'col': 4, 'val': 3}, {'row': 4, 'col': 7, 'val': 2}, {'row': 4, 'col': 8, 'val': 2}, {'row': 4, 'col': 9, 'val': 1}, {'row': 4, 'col': 10, 'val': 2}, {'row': 4, 'col': 13, 'val': 3}, {'row': 4, 'col': 14, 'val': 1}, {'row': 4, 'col': 15, 'val': 1}, {'row': 4, 'col': 16, 'val': 3}, {'row': 5, 'col': 11, 'val': 2}, {'row': 5, 'col': 18, 'val': 2}, {'row': 6, 'col': 3, 'val': 2}, {'row': 6, 'col': 19, 'val': 3}, {'row': 7, 'col': 1, 'val': 2}, {'row': 7, 'col': 2, 'val': 2}, {'row': 7, 'col': 3, 'val': 2}, {'row': 7, 'col': 4, 'val': 2}, {'row': 7, 'col': 5, 'val': 3}, {'row': 7, 'col': 7, 'val': 2}, {'row': 7, 'col': 8, 'val': 2}, {'row': 7, 'col': 9, 'val': 2}, {'row': 7, 'col': 10, 'val': 2}, {'row': 7, 'col': 13, 'val': 2}, {'row': 7, 'col': 14, 'val': 2}, {'row': 7, 'col': 15, 'val': 2}, {'row': 7, 'col': 16, 'val': 2}, {'row': 7, 'col': 17, 'val': 2}, {'row': 8, 'col': 1, 'val': 3}, {'row': 8, 'col': 2, 'val': 2}, {'row': 8, 'col': 3, 'val': 2}, {'row': 8, 'col': 4, 'val': 3}, {'row': 8, 'col': 7, 'val': 3}, {'row': 8, 'col': 8, 'val': 2}, {'row': 8, 'col': 9, 'val': 2}, {'row': 8, 'col': 10, 'val': 3}, {'row': 8, 'col': 12, 'val': 3}, {'row': 8, 'col': 13, 'val': 3}, {'row': 8, 'col': 14, 'val': 2}, {'row': 8, 'col': 15, 'val': 2}, {'row': 8, 'col': 16, 'val': 3}, {'row': 8, 'col': 17, 'val': 2}, {'row': 9, 'col': 1, 'val': 3}, {'row': 9, 'col': 2, 'val': 3}, {'row': 9, 'col': 3, 'val': 3}, {'row': 9, 'col': 4, 'val': 3}, {'row': 9, 'col': 7, 'val': 3}, {'row': 9, 'col': 8, 'val': 3}, {'row': 9, 'col': 9, 'val': 3}, {'row': 9, 'col': 10, 'val': 3}, {'row': 9, 'col': 13, 'val': 3}, {'row': 9, 'col': 14, 'val': 3}, {'row': 9, 'col': 15, 'val': 3}, {'row': 9, 'col': 16, 'val': 3}, {'row': 10, 'col': 1, 'val': 3}, {'row': 10, 'col': 2, 'val': 3}, {'row': 10, 'col': 3, 'val': 1}, {'row': 10, 'col': 4, 'val': 3}, {'row': 10, 'col': 7, 'val': 3}, {'row': 10, 'col': 8, 'val': 1}, {'row': 10, 'col': 9, 'val': 1}, {'row': 10, 'col': 10, 'val': 3}, {'row': 10, 'col': 13, 'val': 3}, {'row': 10, 'col': 14, 'val': 1}, {'row': 10, 'col': 15, 'val': 1}, {'row': 10, 'col': 16, 'val': 3}, {'row': 12, 'col': 13, 'val': 3}, {'row': 13, 'col': 1, 'val': 2}, {'row': 13, 'col': 2, 'val': 2}, {'row': 13, 'col': 3, 'val': 2}, {'row': 13, 'col': 4, 'val': 2}, {'row': 13, 'col': 7, 'val': 3}, {'row': 13, 'col': 8, 'val': 2}, {'row': 13, 'col': 9, 'val': 3}, {'row': 13, 'col': 10, 'val': 2}, {'row': 13, 'col': 13, 'val': 2}, {'row': 13, 'col': 14, 'val': 3}, {'row': 13, 'col': 15, 'val': 2}, {'row': 13, 'col': 16, 'val': 2}, {'row': 14, 'col': 1, 'val': 3}, {'row': 14, 'col': 2, 'val': 2}, {'row': 14, 'col': 3, 'val': 2}, {'row': 14, 'col': 4, 'val': 3}, {'row': 14, 'col': 7, 'val': 3}, {'row': 14, 'col': 8, 'val': 2}, {'row': 14, 'col': 9, 'val': 3}, {'row': 14, 'col': 10, 'val': 3}, {'row': 14, 'col': 13, 'val': 3}, {'row': 14, 'col': 14, 'val': 2}, {'row': 14, 'col': 15, 'val': 3}, {'row': 14, 'col': 16, 'val': 3}, {'row': 15, 'col': 0, 'val': 3}, {'row': 15, 'col': 1, 'val': 3}, {'row': 15, 'col': 2, 'val': 3}, {'row': 15, 'col': 3, 'val': 3}, {'row': 15, 'col': 4, 'val': 3}, {'row': 15, 'col': 7, 'val': 3}, {'row': 15, 'col': 8, 'val': 3}, {'row': 15, 'col': 9, 'val': 3}, {'row': 15, 'col': 10, 'val': 3}, {'row': 15, 'col': 13, 'val': 3}, {'row': 15, 'col': 14, 'val': 2}, {'row': 15, 'col': 15, 'val': 3}, {'row': 15, 'col': 16, 'val': 3}, {'row': 15, 'col': 19, 'val': 2}, {'row': 16, 'col': 1, 'val': 3}, {'row': 16, 'col': 2, 'val': 1}, {'row': 16, 'col': 3, 'val': 1}, {'row': 16, 'col': 4, 'val': 3}, {'row': 16, 'col': 6, 'val': 3}, {'row': 16, 'col': 7, 'val': 3}, {'row': 16, 'col': 8, 'val': 1}, {'row': 16, 'col': 9, 'val': 1}, {'row': 16, 'col': 10, 'val': 3}, {'row': 16, 'col': 13, 'val': 3}, {'row': 16, 'col': 14, 'val': 1}, {'row': 16, 'col': 15, 'val': 1}, {'row': 16, 'col': 16, 'val': 3}, {'row': 17, 'col': 1, 'val': 2}, {'row': 17, 'col': 4, 'val': 3}, {'row': 18, 'col': 6, 'val': 3}, {'row': 18, 'col': 8, 'val': 2}, {'row': 19, 'col': 1, 'val': 2}, {'row': 19, 'col': 6, 'val': 2}, {'row': 19, 'col': 9, 'val': 3}, {'row': 20, 'col': 10, 'val': 2}, {'row': 20, 'col': 11, 'val': 2}, {'row': 20, 'col': 19, 'val': 2}, {'row': 21, 'col': 3, 'val': 3}, {'row': 21, 'col': 6, 'val': 2}, {'row': 21, 'col': 8, 'val': 2}]\n",
      "Train Output 3: [{'row': 1, 'col': 1, 'val': 2}, {'row': 1, 'col': 2, 'val': 2}, {'row': 1, 'col': 3, 'val': 2}, {'row': 1, 'col': 4, 'val': 2}, {'row': 1, 'col': 7, 'val': 2}, {'row': 1, 'col': 8, 'val': 2}, {'row': 1, 'col': 9, 'val': 2}, {'row': 1, 'col': 10, 'val': 2}, {'row': 1, 'col': 13, 'val': 2}, {'row': 1, 'col': 14, 'val': 2}, {'row': 1, 'col': 15, 'val': 2}, {'row': 1, 'col': 16, 'val': 2}, {'row': 2, 'col': 1, 'val': 3}, {'row': 2, 'col': 2, 'val': 2}, {'row': 2, 'col': 3, 'val': 2}, {'row': 2, 'col': 4, 'val': 3}, {'row': 2, 'col': 7, 'val': 3}, {'row': 2, 'col': 8, 'val': 2}, {'row': 2, 'col': 9, 'val': 2}, {'row': 2, 'col': 10, 'val': 3}, {'row': 2, 'col': 13, 'val': 3}, {'row': 2, 'col': 14, 'val': 2}, {'row': 2, 'col': 15, 'val': 2}, {'row': 2, 'col': 16, 'val': 3}, {'row': 3, 'col': 1, 'val': 3}, {'row': 3, 'col': 2, 'val': 3}, {'row': 3, 'col': 3, 'val': 3}, {'row': 3, 'col': 4, 'val': 3}, {'row': 3, 'col': 7, 'val': 3}, {'row': 3, 'col': 8, 'val': 3}, {'row': 3, 'col': 9, 'val': 3}, {'row': 3, 'col': 10, 'val': 3}, {'row': 3, 'col': 13, 'val': 3}, {'row': 3, 'col': 14, 'val': 3}, {'row': 3, 'col': 15, 'val': 3}, {'row': 3, 'col': 16, 'val': 3}, {'row': 4, 'col': 1, 'val': 3}, {'row': 4, 'col': 2, 'val': 1}, {'row': 4, 'col': 3, 'val': 1}, {'row': 4, 'col': 4, 'val': 3}, {'row': 4, 'col': 7, 'val': 3}, {'row': 4, 'col': 8, 'val': 1}, {'row': 4, 'col': 9, 'val': 1}, {'row': 4, 'col': 10, 'val': 3}, {'row': 4, 'col': 13, 'val': 3}, {'row': 4, 'col': 14, 'val': 1}, {'row': 4, 'col': 15, 'val': 1}, {'row': 4, 'col': 16, 'val': 3}, {'row': 7, 'col': 1, 'val': 2}, {'row': 7, 'col': 2, 'val': 2}, {'row': 7, 'col': 3, 'val': 2}, {'row': 7, 'col': 4, 'val': 2}, {'row': 7, 'col': 7, 'val': 2}, {'row': 7, 'col': 8, 'val': 2}, {'row': 7, 'col': 9, 'val': 2}, {'row': 7, 'col': 10, 'val': 2}, {'row': 7, 'col': 13, 'val': 2}, {'row': 7, 'col': 14, 'val': 2}, {'row': 7, 'col': 15, 'val': 2}, {'row': 7, 'col': 16, 'val': 2}, {'row': 8, 'col': 1, 'val': 3}, {'row': 8, 'col': 2, 'val': 2}, {'row': 8, 'col': 3, 'val': 2}, {'row': 8, 'col': 4, 'val': 3}, {'row': 8, 'col': 7, 'val': 3}, {'row': 8, 'col': 8, 'val': 2}, {'row': 8, 'col': 9, 'val': 2}, {'row': 8, 'col': 10, 'val': 3}, {'row': 8, 'col': 13, 'val': 3}, {'row': 8, 'col': 14, 'val': 2}, {'row': 8, 'col': 15, 'val': 2}, {'row': 8, 'col': 16, 'val': 3}, {'row': 9, 'col': 1, 'val': 3}, {'row': 9, 'col': 2, 'val': 3}, {'row': 9, 'col': 3, 'val': 3}, {'row': 9, 'col': 4, 'val': 3}, {'row': 9, 'col': 7, 'val': 3}, {'row': 9, 'col': 8, 'val': 3}, {'row': 9, 'col': 9, 'val': 3}, {'row': 9, 'col': 10, 'val': 3}, {'row': 9, 'col': 13, 'val': 3}, {'row': 9, 'col': 14, 'val': 3}, {'row': 9, 'col': 15, 'val': 3}, {'row': 9, 'col': 16, 'val': 3}, {'row': 10, 'col': 1, 'val': 3}, {'row': 10, 'col': 2, 'val': 1}, {'row': 10, 'col': 3, 'val': 1}, {'row': 10, 'col': 4, 'val': 3}, {'row': 10, 'col': 7, 'val': 3}, {'row': 10, 'col': 8, 'val': 1}, {'row': 10, 'col': 9, 'val': 1}, {'row': 10, 'col': 10, 'val': 3}, {'row': 10, 'col': 13, 'val': 3}, {'row': 10, 'col': 14, 'val': 1}, {'row': 10, 'col': 15, 'val': 1}, {'row': 10, 'col': 16, 'val': 3}, {'row': 13, 'col': 1, 'val': 2}, {'row': 13, 'col': 2, 'val': 2}, {'row': 13, 'col': 3, 'val': 2}, {'row': 13, 'col': 4, 'val': 2}, {'row': 13, 'col': 7, 'val': 2}, {'row': 13, 'col': 8, 'val': 2}, {'row': 13, 'col': 9, 'val': 2}, {'row': 13, 'col': 10, 'val': 2}, {'row': 13, 'col': 13, 'val': 2}, {'row': 13, 'col': 14, 'val': 2}, {'row': 13, 'col': 15, 'val': 2}, {'row': 13, 'col': 16, 'val': 2}, {'row': 14, 'col': 1, 'val': 3}, {'row': 14, 'col': 2, 'val': 2}, {'row': 14, 'col': 3, 'val': 2}, {'row': 14, 'col': 4, 'val': 3}, {'row': 14, 'col': 7, 'val': 3}, {'row': 14, 'col': 8, 'val': 2}, {'row': 14, 'col': 9, 'val': 2}, {'row': 14, 'col': 10, 'val': 3}, {'row': 14, 'col': 13, 'val': 3}, {'row': 14, 'col': 14, 'val': 2}, {'row': 14, 'col': 15, 'val': 2}, {'row': 14, 'col': 16, 'val': 3}, {'row': 15, 'col': 1, 'val': 3}, {'row': 15, 'col': 2, 'val': 3}, {'row': 15, 'col': 3, 'val': 3}, {'row': 15, 'col': 4, 'val': 3}, {'row': 15, 'col': 7, 'val': 3}, {'row': 15, 'col': 8, 'val': 3}, {'row': 15, 'col': 9, 'val': 3}, {'row': 15, 'col': 10, 'val': 3}, {'row': 15, 'col': 13, 'val': 3}, {'row': 15, 'col': 14, 'val': 3}, {'row': 15, 'col': 15, 'val': 3}, {'row': 15, 'col': 16, 'val': 3}, {'row': 16, 'col': 1, 'val': 3}, {'row': 16, 'col': 2, 'val': 1}, {'row': 16, 'col': 3, 'val': 1}, {'row': 16, 'col': 4, 'val': 3}, {'row': 16, 'col': 7, 'val': 3}, {'row': 16, 'col': 8, 'val': 1}, {'row': 16, 'col': 9, 'val': 1}, {'row': 16, 'col': 10, 'val': 3}, {'row': 16, 'col': 13, 'val': 3}, {'row': 16, 'col': 14, 'val': 1}, {'row': 16, 'col': 15, 'val': 1}, {'row': 16, 'col': 16, 'val': 3}]\n",
      "\n",
      "\n",
      "This task involves the concept: **CleanUp**.\n",
      "\n",
      "Here are a few examples following the same concept that may help with solving this task. Keep in mind that the identified concept may be faulty:\n",
      "\n",
      "Concept Train Input 1: [[4, 4, 4, 4, 4, 4, 4, 4], [3, 3, 6, 3, 3, 3, 3, 3], [4, 4, 4, 4, 4, 4, 4, 4], [3, 6, 3, 3, 3, 3, 3, 6], [4, 4, 4, 4, 4, 4, 4, 4], [3, 3, 3, 3, 3, 3, 6, 3], [4, 4, 4, 6, 4, 4, 4, 4], [3, 3, 3, 3, 3, 3, 3, 3]]\n",
      "Concept Train Output 1: [[4, 4, 4, 4, 4, 4, 4, 4], [3, 3, 3, 3, 3, 3, 3, 3], [4, 4, 4, 4, 4, 4, 4, 4], [3, 3, 3, 3, 3, 3, 3, 3], [4, 4, 4, 4, 4, 4, 4, 4], [3, 3, 3, 3, 3, 3, 3, 3], [4, 4, 4, 4, 4, 4, 4, 4], [3, 3, 3, 3, 3, 3, 3, 3]]\n",
      "\n",
      "Concept Train Input 2: [[7, 2, 7, 2, 7, 2, 7, 2, 7, 2, 7, 2, 7], [7, 2, 7, 2, 7, 2, 7, 2, 7, 2, 7, 2, 7], [7, 2, 7, 2, 7, 2, 7, 2, 7, 2, 5, 2, 7], [7, 2, 7, 2, 7, 2, 7, 2, 7, 2, 7, 5, 7], [7, 5, 7, 2, 7, 5, 7, 2, 7, 5, 7, 2, 7], [7, 2, 7, 2, 7, 2, 7, 2, 7, 2, 7, 2, 7], [7, 2, 7, 2, 7, 2, 7, 2, 7, 2, 5, 2, 7], [7, 2, 7, 2, 7, 5, 7, 2, 7, 2, 7, 2, 7], [7, 5, 7, 2, 7, 2, 7, 2, 5, 2, 7, 2, 7], [7, 2, 7, 2, 7, 2, 7, 2, 5, 2, 7, 2, 7], [7, 2, 7, 2, 7, 5, 7, 2, 7, 2, 7, 2, 7], [7, 2, 7, 2, 7, 2, 7, 2, 7, 2, 7, 2, 5]]\n",
      "Concept Train Output 2: [[7, 2, 7, 2, 7, 2, 7, 2, 7, 2, 7, 2, 7], [7, 2, 7, 2, 7, 2, 7, 2, 7, 2, 7, 2, 7], [7, 2, 7, 2, 7, 2, 7, 2, 7, 2, 7, 2, 7], [7, 2, 7, 2, 7, 2, 7, 2, 7, 2, 7, 2, 7], [7, 2, 7, 2, 7, 2, 7, 2, 7, 2, 7, 2, 7], [7, 2, 7, 2, 7, 2, 7, 2, 7, 2, 7, 2, 7], [7, 2, 7, 2, 7, 2, 7, 2, 7, 2, 7, 2, 7], [7, 2, 7, 2, 7, 2, 7, 2, 7, 2, 7, 2, 7], [7, 2, 7, 2, 7, 2, 7, 2, 7, 2, 7, 2, 7], [7, 2, 7, 2, 7, 2, 7, 2, 7, 2, 7, 2, 7], [7, 2, 7, 2, 7, 2, 7, 2, 7, 2, 7, 2, 7], [7, 2, 7, 2, 7, 2, 7, 2, 7, 2, 7, 2, 7]]\n",
      "\n"
     ]
    }
   ],
   "source": [
    "print(tailored_prompt)"
   ]
  }
 ],
 "metadata": {
  "kernelspec": {
   "display_name": "Python 3",
   "language": "python",
   "name": "python3"
  },
  "language_info": {
   "codemirror_mode": {
    "name": "ipython",
    "version": 3
   },
   "file_extension": ".py",
   "mimetype": "text/x-python",
   "name": "python",
   "nbconvert_exporter": "python",
   "pygments_lexer": "ipython3",
   "version": "3.11.6"
  }
 },
 "nbformat": 4,
 "nbformat_minor": 2
}
