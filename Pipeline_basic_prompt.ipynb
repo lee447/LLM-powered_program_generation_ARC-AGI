{
 "cells": [
  {
   "cell_type": "markdown",
   "metadata": {},
   "source": [
    "## Pipeline: LLM-powered program generation for solving ARC-AGI"
   ]
  },
  {
   "cell_type": "markdown",
   "metadata": {},
   "source": [
    "### Imports"
   ]
  },
  {
   "cell_type": "code",
   "execution_count": 1,
   "metadata": {},
   "outputs": [],
   "source": [
    "import numpy as np\n",
    "import ollama\n",
    "import os\n",
    "import json\n",
    "from dotenv import load_dotenv\n",
    "from openai import OpenAI\n",
    "import ast\n",
    "import re\n",
    "import importlib.util\n",
    "import time"
   ]
  },
  {
   "cell_type": "markdown",
   "metadata": {},
   "source": [
    "### Shared Variables"
   ]
  },
  {
   "cell_type": "code",
   "execution_count": 2,
   "metadata": {},
   "outputs": [],
   "source": [
    "# Shared system prompt for all tasks\n",
    "system_prompt = \"\"\"\n",
    "You are a visual reasoning and Python programming expert solving ARC-AGI (Abstraction and Reasoning Corpus - Artificial General Intelligence) tasks.\n",
    "\n",
    "Each integer in the grid represents a color:\n",
    "0 = black, 1 = blue, 2 = red, 3 = green, 4 = yellow,\n",
    "5 = grey, 6 = pink, 7 = orange, 8 = light blue, 9 = brown.\n",
    "\"\"\"\n"
   ]
  },
  {
   "cell_type": "markdown",
   "metadata": {},
   "source": [
    "### Prompts"
   ]
  },
  {
   "cell_type": "markdown",
   "metadata": {},
   "source": [
    "#### Basic Prompt"
   ]
  },
  {
   "cell_type": "code",
   "execution_count": 3,
   "metadata": {},
   "outputs": [],
   "source": [
    "base_prompt = \"\"\"\n",
    "Write a Python function that correctly transforms each input grid into its corresponding output grid based on the given examples.\n",
    "\n",
    "- ONLY return code. No explanations or anything other than code.\n",
    "- The function must be named: `solve(grid: List[List[int]]) -> List[List[int]]`\n",
    "- Use only pure Python — do not import or use libraries like NumPy\n",
    "- Do not include comments, explanations, or print statements\n",
    "- Do not hard-code values or specific grid sizes — the function must generalize based on the patterns in the examples\n",
    "- The function must return a plain 2D list of integers with consistent row lengths (List[List[int]])\n",
    "- Do not return arrays, nested arrays, floats, or 3D structures\n",
    "- Ensure your solution works for all provided input-output pairs\n",
    "\"\"\""
   ]
  },
  {
   "cell_type": "code",
   "execution_count": 4,
   "metadata": {},
   "outputs": [
    {
     "name": "stdout",
     "output_type": "stream",
     "text": [
      "\n",
      "Write a Python function that correctly transforms each input grid into its corresponding output grid based on the given examples.\n",
      "\n",
      "- ONLY return code. No explanations or anything other than code.\n",
      "- The function must be named: `solve(grid: List[List[int]]) -> List[List[int]]`\n",
      "- Use only pure Python — do not import or use libraries like NumPy\n",
      "- Do not include comments, explanations, or print statements\n",
      "- Do not hard-code values or specific grid sizes — the function must generalize based on the patterns in the examples\n",
      "- The function must return a plain 2D list of integers with consistent row lengths (List[List[int]])\n",
      "- Do not return arrays, nested arrays, floats, or 3D structures\n",
      "- Ensure your solution works for all provided input-output pairs\n",
      "\n"
     ]
    }
   ],
   "source": [
    "print(base_prompt)"
   ]
  },
  {
   "cell_type": "markdown",
   "metadata": {},
   "source": [
    "### Functions"
   ]
  },
  {
   "cell_type": "markdown",
   "metadata": {},
   "source": [
    "#### Load Tasks"
   ]
  },
  {
   "cell_type": "code",
   "execution_count": 5,
   "metadata": {},
   "outputs": [],
   "source": [
    "def load_tasks(folder):\n",
    "    tasks = []\n",
    "    for filename in sorted(os.listdir(folder)):\n",
    "        if filename.endswith(\".json\"):\n",
    "            with open(os.path.join(folder, filename), \"r\") as f:\n",
    "                data = json.load(f)\n",
    "                tasks.append({\"filename\": filename, \"data\": data})\n",
    "    return tasks"
   ]
  },
  {
   "cell_type": "markdown",
   "metadata": {},
   "source": [
    "#### Load API-Key"
   ]
  },
  {
   "cell_type": "code",
   "execution_count": 6,
   "metadata": {},
   "outputs": [],
   "source": [
    "def load_api_key(file_path=\"key.env\"):\n",
    "    load_dotenv(file_path)\n",
    "    import openai\n",
    "    openai.api_key = os.getenv(\"OPENAI_API_KEY\")\n",
    "    if not openai.api_key:\n",
    "        print(\"No API key found. Please set OPENAI_API_KEY in key.env.\")\n",
    "    global client\n",
    "    client = OpenAI()"
   ]
  },
  {
   "cell_type": "markdown",
   "metadata": {},
   "source": [
    "#### Call GPT"
   ]
  },
  {
   "cell_type": "code",
   "execution_count": 7,
   "metadata": {},
   "outputs": [],
   "source": [
    "import time\n",
    "import openai\n",
    "\n",
    "def call_gpt(prompt, model=\"o4-mini\", retries=3):\n",
    "    for attempt in range(retries):\n",
    "        try:\n",
    "            response = client.chat.completions.create(\n",
    "                model=model,\n",
    "                messages=[\n",
    "                    {\"role\": \"system\", \"content\": system_prompt},\n",
    "                    {\"role\": \"user\", \"content\": prompt}\n",
    "                ],\n",
    "                # Only for GPT-4o\n",
    "                # temperature=0.0\n",
    "            )\n",
    "            return response.choices[0].message.content.strip()\n",
    "        \n",
    "        except openai.RateLimitError as e:\n",
    "            wait_time = 5 + attempt * 5  # exponential backoff\n",
    "            print(f\"Rate limit hit. Waiting {wait_time} seconds before retrying...\")\n",
    "            time.sleep(wait_time)\n",
    "\n",
    "    raise Exception(\"Rate limit retries exhausted.\")"
   ]
  },
  {
   "cell_type": "markdown",
   "metadata": {},
   "source": [
    "#### Encodings"
   ]
  },
  {
   "cell_type": "markdown",
   "metadata": {},
   "source": [
    "1. Non-zero Cords Encoding\n",
    "TODO: Explain"
   ]
  },
  {
   "cell_type": "code",
   "execution_count": 8,
   "metadata": {},
   "outputs": [],
   "source": [
    "def encode_nonzero_coordinates(grid):\n",
    "    coords = []\n",
    "    for i, row in enumerate(grid):\n",
    "        for j, val in enumerate(row):\n",
    "            if val != 0:\n",
    "                coords.append({\"row\": i, \"col\": j, \"val\": val})\n",
    "    return coords\n",
    "\n",
    "def encode_task_nonzero_coords(task):\n",
    "    encoded = {\"train\": [], \"test\": []}\n",
    "\n",
    "    for pair in task[\"train\"]:\n",
    "        encoded[\"train\"].append({\n",
    "            \"input\": encode_nonzero_coordinates(pair[\"input\"]),\n",
    "            \"output\": encode_nonzero_coordinates(pair[\"output\"])\n",
    "        })\n",
    "\n",
    "    for pair in task[\"test\"]:\n",
    "        encoded[\"test\"].append({\n",
    "            \"input\": encode_nonzero_coordinates(pair[\"input\"])\n",
    "        })\n",
    "\n",
    "    return encoded"
   ]
  },
  {
   "cell_type": "markdown",
   "metadata": {},
   "source": [
    "2. Object/Bounding Box Encoding TODO: Explain"
   ]
  },
  {
   "cell_type": "code",
   "execution_count": 9,
   "metadata": {},
   "outputs": [],
   "source": [
    "from collections import deque\n",
    "\n",
    "def extract_objects(grid):\n",
    "    visited = set()\n",
    "    objects = []\n",
    "    rows, cols = len(grid), len(grid[0])\n",
    "\n",
    "    def bfs(r, c, color):\n",
    "        q = deque([(r, c)])\n",
    "        visited.add((r, c))\n",
    "        pixels = [(r, c)]\n",
    "        min_r, min_c = r, c\n",
    "        max_r, max_c = r, c\n",
    "\n",
    "        while q:\n",
    "            cr, cc = q.popleft()\n",
    "            for dr, dc in [(-1,0), (1,0), (0,-1), (0,1)]:\n",
    "                nr, nc = cr + dr, cc + dc\n",
    "                if (\n",
    "                    0 <= nr < rows and\n",
    "                    0 <= nc < cols and\n",
    "                    (nr, nc) not in visited and\n",
    "                    grid[nr][nc] == color\n",
    "                ):\n",
    "                    visited.add((nr, nc))\n",
    "                    q.append((nr, nc))\n",
    "                    pixels.append((nr, nc))\n",
    "                    min_r = min(min_r, nr)\n",
    "                    min_c = min(min_c, nc)\n",
    "                    max_r = max(max_r, nr)\n",
    "                    max_c = max(max_c, nc)\n",
    "\n",
    "        return {\n",
    "            \"color\": color,\n",
    "            \"top_left\": [min_r, min_c],\n",
    "            \"width\": max_c - min_c + 1,\n",
    "            \"height\": max_r - min_r + 1,\n",
    "            \"pixels\": pixels\n",
    "        }\n",
    "\n",
    "    for r in range(rows):\n",
    "        for c in range(cols):\n",
    "            color = grid[r][c]\n",
    "            if color != 0 and (r, c) not in visited:\n",
    "                objects.append(bfs(r, c, color))\n",
    "\n",
    "    return objects\n",
    "\n",
    "def encode_task_objects(task):\n",
    "    encoded = {\"train\": [], \"test\": []}\n",
    "\n",
    "    for pair in task[\"train\"]:\n",
    "        encoded[\"train\"].append({\n",
    "            \"input\": extract_objects(pair[\"input\"]),\n",
    "            \"output\": extract_objects(pair[\"output\"])\n",
    "        })\n",
    "\n",
    "    for pair in task[\"test\"]:\n",
    "        encoded[\"test\"].append({\n",
    "            \"input\": extract_objects(pair[\"input\"])\n",
    "        })\n",
    "\n",
    "    return encoded\n"
   ]
  },
  {
   "cell_type": "markdown",
   "metadata": {},
   "source": [
    "Adds Encodings to the Prompt with Explanation"
   ]
  },
  {
   "cell_type": "code",
   "execution_count": 10,
   "metadata": {},
   "outputs": [],
   "source": [
    "def add_encodings(prompt, encoding_dicts):\n",
    "    encoding_explanations = {\n",
    "        \"nonzero_coords\": \"This encoding lists only the non-zero cells as dictionaries containing their row, column, and value.\",\n",
    "        \"object_bbox\": \"This encoding represents each object in the grid as a group of connected same-colored cells, described by color, bounding box, and coordinates.\",\n",
    "    }\n",
    "\n",
    "    for encoding_name, encoding_data in encoding_dicts.items():\n",
    "        explanation = encoding_explanations.get(encoding_name, \"This encoding represents the input in an alternate form.\")\n",
    "        prompt += f\"\\n\\nEncoding used: {encoding_name}\\nExplanation: {explanation}\\n\\nHere are the demonstration pairs (encoded):\\n\"\n",
    "        for i, pair in enumerate(encoding_data[\"train\"]):\n",
    "            prompt += f\"\\nTrain Input {i+1}: {pair['input']}\\n\"\n",
    "            prompt += f\"Train Output {i+1}: {pair['output']}\\n\"\n",
    "    \n",
    "    return prompt\n"
   ]
  },
  {
   "cell_type": "markdown",
   "metadata": {},
   "source": [
    "#### Building and Combining Prompts"
   ]
  },
  {
   "cell_type": "markdown",
   "metadata": {},
   "source": [
    "Adds the tasks demonstration pairs to the prompt:"
   ]
  },
  {
   "cell_type": "code",
   "execution_count": 11,
   "metadata": {},
   "outputs": [],
   "source": [
    "def add_tasks(prompt, task_data):\n",
    "    full_prompt = prompt.strip() + \"\\n\\nHere are the demonstration pairs (JSON data):\\n\"\n",
    "    for i, pair in enumerate(task_data['train']):\n",
    "        full_prompt += f\"\\nTrain Input {i+1}: {pair['input']}\\n\"\n",
    "        full_prompt += f\"Train Output {i+1}: {pair['output']}\\n\"\n",
    "    return full_prompt"
   ]
  },
  {
   "cell_type": "markdown",
   "metadata": {},
   "source": [
    "Combine responses of the secondary prompt to the base prompt to create task-tailored prompt."
   ]
  },
  {
   "cell_type": "code",
   "execution_count": 12,
   "metadata": {},
   "outputs": [],
   "source": [
    "def build_prompts(task_data):\n",
    "    # Step 1: Generate encodings\n",
    "    # Remove encodings here if you dont want it in the prompt\n",
    "    encoding_dicts = {\n",
    "        \"nonzero_coords\": encode_task_nonzero_coords(task_data),\n",
    "        #\"object_bbox\": encode_task_objects(task_data)\n",
    "    }\n",
    "\n",
    "    # Step 5: Base prompt\n",
    "    tailored_prompt = add_tasks(base_prompt, task_data)\n",
    "    tailored_prompt = add_encodings(tailored_prompt, encoding_dicts)\n",
    "\n",
    "    print(\"Built tailored prompt.\")\n",
    "    \n",
    "    return tailored_prompt\n"
   ]
  },
  {
   "cell_type": "markdown",
   "metadata": {},
   "source": [
    "#### Save Programs"
   ]
  },
  {
   "cell_type": "code",
   "execution_count": 13,
   "metadata": {},
   "outputs": [],
   "source": [
    "def save_program(program_text, task_id, suffix=\"\"):\n",
    "    # Define the base and task-specific folder paths\n",
    "    base_folder = \"Candidate_programs_basic_prompts\"\n",
    "    task_folder = os.path.join(base_folder, f\"task_{task_id}\")\n",
    "    \n",
    "    # Create the task-specific folder if it doesn't exist\n",
    "    os.makedirs(task_folder, exist_ok=True)\n",
    "\n",
    "    # Remove ```python or ``` if present\n",
    "    cleaned_text = re.sub(r\"^```(?:python)?\\s*|```$\", \"\", program_text.strip(), flags=re.MULTILINE)\n",
    "\n",
    "    # Find the next available version number, excluding suffix for base counting\n",
    "    existing_files = os.listdir(task_folder)\n",
    "    version_numbers = [\n",
    "        int(re.search(r\"solution_v(\\d+)\", fname).group(1))\n",
    "        for fname in existing_files\n",
    "        if re.match(r\"solution_v\\d+\", fname)\n",
    "    ]\n",
    "    next_version = max(version_numbers, default=0) + 1\n",
    "    \n",
    "    # Define the full path to the new Python file with the suffix (if provided)\n",
    "    file_path = os.path.join(task_folder, f\"solution_v{next_version}{suffix}.py\")\n",
    "    \n",
    "    # Save the program text to the file\n",
    "    with open(file_path, \"w\", encoding=\"utf-8\") as f:\n",
    "        f.write(cleaned_text.strip())\n",
    "\n",
    "    print(f\"Saved program for task {task_id} as version {next_version}{suffix}: {file_path}\")\n"
   ]
  },
  {
   "cell_type": "markdown",
   "metadata": {},
   "source": [
    "#### Create Programs"
   ]
  },
  {
   "cell_type": "code",
   "execution_count": 14,
   "metadata": {},
   "outputs": [],
   "source": [
    "def create_programs(tailored_prompt, task_index, amount):\n",
    "    # Create two programs (change range for n programs)\n",
    "    for i in range(amount):  # You can adjust the range to create more programs\n",
    "        response = call_gpt(tailored_prompt)\n",
    "        \n",
    "        # Save the generated program\n",
    "        save_program(response, task_index)"
   ]
  },
  {
   "cell_type": "markdown",
   "metadata": {},
   "source": [
    "#### Evaluate Programs"
   ]
  },
  {
   "cell_type": "code",
   "execution_count": 15,
   "metadata": {},
   "outputs": [],
   "source": [
    "def load_program(file_path):\n",
    "    \"\"\"Load and execute a Python program from a file.\"\"\"\n",
    "    spec = importlib.util.spec_from_file_location(\"program\", file_path)\n",
    "    program = importlib.util.module_from_spec(spec)\n",
    "    spec.loader.exec_module(program)\n",
    "    return program.solve\n"
   ]
  },
  {
   "cell_type": "markdown",
   "metadata": {},
   "source": [
    "Checks if the code is valid:"
   ]
  },
  {
   "cell_type": "code",
   "execution_count": 16,
   "metadata": {},
   "outputs": [],
   "source": [
    "def is_valid_python_code(filepath):\n",
    "    \"\"\"Check if the Python file contains valid syntax.\"\"\"\n",
    "    try:\n",
    "        with open(filepath, \"r\", encoding=\"utf-8\") as f:\n",
    "            source = f.read()\n",
    "        ast.parse(source)\n",
    "        return True\n",
    "    except SyntaxError:\n",
    "        return False\n"
   ]
  },
  {
   "cell_type": "code",
   "execution_count": 17,
   "metadata": {},
   "outputs": [],
   "source": [
    "def evaluate_programs(task_data, task_folder):\n",
    "    \"\"\"Evaluate programs and collect detailed candidate outputs for each demonstration pair.\"\"\"\n",
    "    programs = []\n",
    "    program_files = [f for f in os.listdir(task_folder) if f.endswith(\".py\")]\n",
    "\n",
    "    any_valid = False  # Track whether any valid programs exist\n",
    "\n",
    "    for program_file in program_files:\n",
    "        program_path = os.path.join(task_folder, program_file)\n",
    "\n",
    "        # Check if the program is valid Python code\n",
    "        if not is_valid_python_code(program_path):\n",
    "            print(f\"Deleting invalid file: {program_file}\")\n",
    "            os.remove(program_path)\n",
    "            continue\n",
    "\n",
    "        try:\n",
    "            solve_function = load_program(program_path)\n",
    "        except Exception as e:\n",
    "            print(f\"Error loading program {program_file}: {e}\")\n",
    "            os.remove(program_path)\n",
    "            continue\n",
    "\n",
    "        any_valid = True  # At least one valid program found\n",
    "\n",
    "        details = []\n",
    "        correct_count = 0\n",
    "        total_pairs = len(task_data['train'])\n",
    "\n",
    "        for pair in task_data['train']:\n",
    "            input_grid = pair['input']\n",
    "            expected_output = pair['output']\n",
    "            try:\n",
    "                candidate_output = solve_function(input_grid)\n",
    "                if np.array_equal(np.array(candidate_output), np.array(expected_output)):\n",
    "                    correct_count += 1\n",
    "            except Exception as e:\n",
    "                candidate_output = f\"Error: {e}\"\n",
    "            details.append({\n",
    "                \"input\": input_grid,\n",
    "                \"candidate_output\": candidate_output,\n",
    "                \"expected_output\": expected_output\n",
    "            })\n",
    "\n",
    "        score = correct_count / total_pairs if total_pairs > 0 else 0\n",
    "        programs.append({\n",
    "            \"program_name\": program_file,\n",
    "            \"score\": score,\n",
    "            \"correct_pairs\": correct_count,\n",
    "            \"total_pairs\": total_pairs,\n",
    "            \"details\": details\n",
    "        })\n",
    "\n",
    "    return programs if any_valid else 0"
   ]
  },
  {
   "cell_type": "markdown",
   "metadata": {},
   "source": [
    "#### Identification of Best Programs"
   ]
  },
  {
   "cell_type": "code",
   "execution_count": 18,
   "metadata": {},
   "outputs": [],
   "source": [
    "def get_best_programs(evaluation_results, task_id, n=2):\n",
    "    \"\"\"\n",
    "    Evaluates programs for a given task and returns the file paths for the top n programs based on demonstration pairs.\n",
    "    Always returns exactly n programs by sorting by score in descending order.\n",
    "    \"\"\"\n",
    "    # Sort programs by score descending; if scores are equal, the original order is preserved.\n",
    "    sorted_programs = sorted(evaluation_results, key=lambda x: x['score'], reverse=True)\n",
    "    task_folder = os.path.join(\"Candidate_programs_tailored_prompts\", f\"task_{task_id}\")\n",
    "    best_program_files = [os.path.join(task_folder, prog['program_name']) for prog in sorted_programs[:n]]\n",
    "    for i in best_program_files:\n",
    "        print(f\"Best program: {i}\")\n",
    "    return best_program_files\n",
    "\n"
   ]
  },
  {
   "cell_type": "markdown",
   "metadata": {},
   "source": [
    "#### Generation of Predictions on Test Inputs"
   ]
  },
  {
   "cell_type": "code",
   "execution_count": 19,
   "metadata": {},
   "outputs": [],
   "source": [
    "def generate_test_predictions(task_data, actual_task_id, best_program_files):\n",
    "    \"\"\"\n",
    "    Loads the two best candidate programs from the specified file paths,\n",
    "    runs each one on every test input, and saves the generated outputs\n",
    "    in the submission file.\n",
    "    \n",
    "    Expects task_data to have a 'test' key with a list of test pairs,\n",
    "    where each pair is a dict containing an \"input\" key.\n",
    "    \n",
    "    Returns a submission dictionary of the form:\n",
    "    { actual_task_id: [ { \"attempt_1\": output_from_program1, \"attempt_2\": output_from_program2 }, ... ] }\n",
    "    \"\"\"\n",
    "    # Load the candidate solvers using the file paths.\n",
    "    best_solvers = [load_program(prog_file) for prog_file in best_program_files]\n",
    "    \n",
    "    predictions = []\n",
    "    # Iterate over each test pair.\n",
    "    for i, pair in enumerate(task_data[\"test\"]):\n",
    "        input_grid = pair[\"input\"]\n",
    "        attempt_predictions = {}\n",
    "        # Run each candidate solver on the test input.\n",
    "        for idx, solver in enumerate(best_solvers, start=1):\n",
    "            try:\n",
    "                output = solver(input_grid)\n",
    "            except Exception as e:\n",
    "                output = f\"Error: {e}\"\n",
    "            attempt_predictions[f\"attempt_{idx}\"] = output\n",
    "        predictions.append(attempt_predictions)\n",
    "    \n",
    "    submission = {str(actual_task_id): predictions}\n",
    "    \n",
    "    return submission\n"
   ]
  },
  {
   "cell_type": "markdown",
   "metadata": {},
   "source": [
    "### Pipeline"
   ]
  },
  {
   "cell_type": "code",
   "execution_count": null,
   "metadata": {},
   "outputs": [
    {
     "name": "stdout",
     "output_type": "stream",
     "text": [
      "Built tailored prompt.\n",
      "Saved program for task 1 as version 1: Candidate_programs_basic_prompts\\task_1\\solution_v1.py\n",
      "Saved program for task 1 as version 2: Candidate_programs_basic_prompts\\task_1\\solution_v2.py\n",
      "Task 0607ce86 (1) evaluation results:\n",
      "Program solution_v1.py solved 0 out of 3 pairs. Score: 0.00\n",
      "==================================================\n",
      "Program solution_v2.py solved 0 out of 3 pairs. Score: 0.00\n",
      "==================================================\n",
      "Best program: Candidate_programs_tailored_prompts\\task_1\\solution_v1.py\n",
      "Best program: Candidate_programs_tailored_prompts\\task_1\\solution_v2.py\n",
      "Built tailored prompt.\n",
      "Saved program for task 2 as version 1: Candidate_programs_basic_prompts\\task_2\\solution_v1.py\n",
      "Saved program for task 2 as version 2: Candidate_programs_basic_prompts\\task_2\\solution_v2.py\n",
      "Task 0934a4d8 (2) evaluation results:\n",
      "Program solution_v1.py solved 0 out of 4 pairs. Score: 0.00\n",
      "==================================================\n",
      "Program solution_v2.py solved 0 out of 4 pairs. Score: 0.00\n",
      "==================================================\n",
      "Best program: Candidate_programs_tailored_prompts\\task_2\\solution_v1.py\n",
      "Best program: Candidate_programs_tailored_prompts\\task_2\\solution_v2.py\n"
     ]
    }
   ],
   "source": [
    "# Load tasks and API key\n",
    "tasks = load_tasks(\"evaluation_set\")\n",
    "load_api_key()\n",
    "\n",
    "# Stores predictions for all tasks\n",
    "final_submission = {} \n",
    "\n",
    "# Loop through each task (adjustable range)\n",
    "for i, task in enumerate(tasks[:2]):\n",
    "    actual_task_id = task[\"filename\"].split(\".\")[0]\n",
    "    \n",
    "    ### PROMPT CREATION ###\n",
    "    tailored_prompt = build_prompts(task['data'])\n",
    "    create_programs(tailored_prompt, i+1, amount=2) # Adjust the number of programs to create\n",
    "    \n",
    "    ### INITIAL EVALUATION ###\n",
    "    task_folder = os.path.join(\"Candidate_programs_basic_prompts\", f\"task_{i+1}\")\n",
    "    evaluation_results = evaluate_programs(task['data'], task_folder)\n",
    "    \n",
    "    while evaluation_results == 0:\n",
    "        create_programs(tailored_prompt, i+1, amount=2)\n",
    "        evaluation_results = evaluate_programs(task['data'], task_folder)\n",
    "\n",
    "    ### FINAL EVALUATION ###\n",
    "    evaluation_results_3 = evaluate_programs(task['data'], task_folder)\n",
    "    print(f\"Task {actual_task_id} ({i+1}) evaluation results:\")\n",
    "    for result in evaluation_results_3:\n",
    "        print(f\"Program {result['program_name']} solved {result['correct_pairs']} out of {result['total_pairs']} pairs. Score: {result['score']:.2f}\")\n",
    "        print(\"=\"*50)\n",
    "\n",
    "    ### PROGRAM SELECTION + PREDICTIONS ###\n",
    "    best_program_files = get_best_programs(evaluation_results_3, i+1, n=2)\n",
    "    submission = generate_test_predictions(task['data'], actual_task_id, best_program_files)\n",
    "    final_submission.update(submission)\n",
    "\n",
    "# Final output file\n",
    "with open(\"submission_basic_prompts.json\", \"w\") as f:\n",
    "    json.dump(final_submission, f)\n"
   ]
  },
  {
   "cell_type": "markdown",
   "metadata": {},
   "source": [
    "### Get Accuracy (for personal use if test outputs are present)"
   ]
  },
  {
   "cell_type": "markdown",
   "metadata": {},
   "source": [
    "Compares the submission.json file with the actual correct test outputs of a task and returns the accuracy.\n",
    "\n",
    "TODO: Add task categories and additionally show accuracies per category."
   ]
  },
  {
   "cell_type": "code",
   "execution_count": 21,
   "metadata": {},
   "outputs": [],
   "source": [
    "def are_equal(a, b):\n",
    "    return json.dumps(a) == json.dumps(b)\n",
    "\n",
    "def compute_accuracy(submission_path, tasks_dict):\n",
    "    with open(submission_path, 'r') as f:\n",
    "        submission = json.load(f)\n",
    "\n",
    "    total_tasks = len(submission)\n",
    "    correct_tasks = 0\n",
    "\n",
    "    for task_id, prediction_list in submission.items():\n",
    "        task_data = tasks_dict[task_id]\n",
    "        test_outputs = [test['output'] for test in task_data['test']]\n",
    "\n",
    "        all_test_cases_correct = True\n",
    "\n",
    "        for idx, expected_output in enumerate(test_outputs):\n",
    "            attempts = prediction_list[idx]  # get dict with attempt_1 and attempt_2 for this test input\n",
    "            pred1 = attempts[\"attempt_1\"]\n",
    "            pred2 = attempts[\"attempt_2\"]\n",
    "\n",
    "            if not (are_equal(pred1, expected_output) or are_equal(pred2, expected_output)):\n",
    "                all_test_cases_correct = False\n",
    "                break\n",
    "\n",
    "        if all_test_cases_correct:\n",
    "            correct_tasks += 1\n",
    "\n",
    "    accuracy = correct_tasks / total_tasks\n",
    "    return accuracy"
   ]
  },
  {
   "cell_type": "code",
   "execution_count": null,
   "metadata": {},
   "outputs": [
    {
     "name": "stdout",
     "output_type": "stream",
     "text": [
      "Accuracy: 0.00%\n"
     ]
    }
   ],
   "source": [
    "with open(\"submission_basic_prompts.json\") as f:\n",
    "    submission = json.load(f)\n",
    "\n",
    "tasks_dict = {task[\"filename\"].split(\".\")[0]: task[\"data\"] for task in tasks}\n",
    "\n",
    "accuracy = compute_accuracy(\"submission_basic_prompts.json\", tasks_dict)\n",
    "print(f\"Accuracy: {accuracy:.2%}\")"
   ]
  },
  {
   "cell_type": "code",
   "execution_count": 23,
   "metadata": {},
   "outputs": [
    {
     "name": "stdout",
     "output_type": "stream",
     "text": [
      "Write a Python function that correctly transforms each input grid into its corresponding output grid based on the given examples.\n",
      "\n",
      "- ONLY return code. No explanations or anything other than code.\n",
      "- The function must be named: `solve(grid: List[List[int]]) -> List[List[int]]`\n",
      "- Use only pure Python — do not import or use libraries like NumPy\n",
      "- Do not include comments, explanations, or print statements\n",
      "- Do not hard-code values or specific grid sizes — the function must generalize based on the patterns in the examples\n",
      "- The function must return a plain 2D list of integers with consistent row lengths (List[List[int]])\n",
      "- Do not return arrays, nested arrays, floats, or 3D structures\n",
      "- Ensure your solution works for all provided input-output pairs\n",
      "\n",
      "Here are the demonstration pairs (JSON data):\n",
      "\n",
      "Train Input 1: [[3, 1, 1, 9, 5, 6, 7, 1, 1, 4, 5, 7, 3, 9, 9, 1, 1, 9, 9, 3, 7, 5, 4, 1, 1, 7, 6, 5, 9, 1], [1, 3, 9, 5, 6, 5, 1, 7, 4, 1, 7, 5, 4, 3, 1, 3, 3, 1, 3, 4, 5, 7, 1, 4, 7, 1, 5, 6, 5, 9], [6, 9, 3, 1, 7, 1, 5, 6, 9, 9, 1, 4, 9, 1, 1, 4, 4, 1, 1, 9, 4, 1, 9, 9, 6, 5, 1, 7, 1, 3], [9, 1, 1, 3, 1, 7, 6, 5, 9, 9, 4, 1, 1, 3, 4, 1, 1, 4, 3, 1, 1, 4, 9, 9, 5, 6, 7, 1, 3, 1], [6, 6, 6, 7, 3, 1, 5, 9, 3, 4, 9, 1, 6, 7, 2, 5, 5, 2, 7, 6, 1, 9, 4, 3, 9, 5, 1, 3, 7, 6], [6, 6, 7, 6, 1, 3, 9, 1, 9, 3, 1, 3, 7, 6, 5, 2, 2, 5, 6, 7, 3, 1, 3, 9, 1, 9, 3, 1, 6, 7], [6, 7, 6, 6, 1, 9, 3, 1, 9, 1, 1, 4, 6, 9, 6, 7, 7, 6, 9, 6, 4, 1, 1, 9, 1, 3, 9, 1, 6, 6], [7, 6, 6, 6, 9, 6, 1, 3, 1, 3, 4, 1, 9, 6, 7, 6, 6, 7, 6, 9, 1, 4, 3, 1, 3, 1, 8, 8, 8, 8], [1, 4, 9, 9, 3, 9, 9, 1, 1, 1, 6, 1, 5, 2, 5, 5, 5, 5, 2, 5, 1, 6, 1, 1, 1, 9, 8, 8, 8, 8], [4, 1, 9, 9, 4, 3, 1, 3, 1, 1, 1, 6, 2, 5, 5, 5, 5, 5, 5, 2, 6, 1, 1, 1, 3, 1, 8, 8, 8, 8], [5, 7, 1, 4, 9, 1, 1, 4, 2, 2, 1, 1, 5, 5, 5, 2, 2, 5, 5, 5, 1, 1, 2, 2, 4, 1, 8, 8, 8, 8], [7, 5, 4, 1, 1, 3, 4, 1, 2, 1, 1, 1, 5, 5, 2, 5, 5, 2, 5, 5, 1, 1, 1, 2, 1, 4, 3, 1, 1, 4], [3, 4, 9, 1, 6, 7, 6, 9, 7, 6, 3, 3, 1, 1, 6, 1, 1, 6, 1, 1, 3, 3, 6, 7, 9, 6, 7, 6, 1, 9], [9, 3, 1, 3, 7, 6, 9, 6, 6, 7, 3, 3, 1, 1, 1, 6, 6, 1, 1, 1, 3, 3, 7, 6, 6, 9, 6, 7, 3, 1], [9, 1, 1, 4, 2, 5, 6, 7, 3, 3, 7, 6, 1, 2, 1, 1, 1, 1, 2, 1, 6, 7, 3, 3, 7, 6, 5, 2, 4, 1], [1, 3, 4, 1, 5, 2, 7, 6, 3, 3, 6, 7, 2, 2, 1, 1, 1, 1, 2, 2, 7, 6, 3, 3, 6, 7, 2, 5, 1, 4], [1, 3, 4, 1, 5, 2, 7, 6, 3, 3, 6, 7, 2, 2, 1, 1, 1, 1, 2, 2, 7, 6, 3, 3, 6, 7, 2, 5, 1, 4], [9, 1, 1, 4, 2, 5, 6, 7, 3, 3, 7, 6, 1, 2, 1, 1, 1, 1, 2, 1, 6, 7, 3, 3, 7, 6, 5, 2, 4, 1], [9, 3, 1, 3, 7, 6, 9, 6, 6, 7, 3, 3, 1, 1, 1, 6, 6, 1, 1, 1, 3, 3, 7, 6, 6, 9, 6, 7, 3, 1], [3, 4, 9, 1, 6, 7, 6, 9, 7, 6, 3, 3, 1, 1, 6, 1, 1, 6, 1, 1, 3, 3, 6, 7, 9, 6, 7, 6, 1, 9], [7, 5, 4, 1, 1, 3, 4, 1, 2, 1, 1, 1, 5, 5, 2, 5, 5, 2, 5, 5, 1, 1, 1, 2, 1, 4, 3, 1, 1, 4], [5, 7, 1, 4, 9, 1, 1, 4, 2, 2, 1, 1, 5, 5, 5, 2, 2, 5, 5, 5, 1, 1, 2, 2, 4, 1, 1, 9, 4, 1], [4, 1, 9, 9, 4, 3, 1, 3, 1, 1, 1, 6, 2, 5, 5, 5, 5, 5, 5, 2, 6, 1, 1, 1, 3, 1, 3, 4, 9, 9], [1, 4, 9, 9, 3, 9, 9, 1, 1, 1, 6, 1, 5, 2, 5, 5, 5, 5, 2, 5, 1, 6, 1, 1, 1, 9, 9, 3, 9, 9], [7, 6, 6, 6, 9, 6, 1, 3, 1, 3, 4, 1, 9, 6, 7, 6, 6, 7, 6, 9, 1, 4, 3, 1, 3, 1, 6, 9, 6, 6], [6, 7, 6, 6, 1, 9, 3, 1, 9, 1, 1, 4, 6, 9, 6, 7, 7, 6, 9, 6, 4, 1, 1, 9, 1, 3, 9, 1, 6, 6], [6, 6, 7, 6, 1, 3, 9, 1, 9, 3, 1, 3, 7, 6, 5, 2, 2, 5, 6, 7, 3, 1, 3, 9, 1, 9, 3, 1, 6, 7], [6, 6, 6, 7, 3, 1, 5, 9, 3, 4, 9, 1, 6, 7, 2, 5, 5, 2, 7, 6, 1, 9, 4, 3, 9, 5, 1, 3, 7, 6], [9, 1, 1, 3, 1, 7, 6, 5, 9, 9, 4, 1, 1, 3, 4, 1, 1, 4, 3, 1, 1, 4, 9, 9, 5, 6, 7, 1, 3, 1], [6, 9, 3, 1, 7, 1, 5, 6, 9, 9, 1, 4, 9, 1, 1, 4, 4, 1, 1, 9, 4, 1, 9, 9, 6, 5, 1, 7, 1, 3]]\n",
      "Train Output 1: [[6, 9, 6, 6], [9, 3, 9, 9], [3, 4, 9, 9], [1, 9, 4, 1]]\n",
      "\n",
      "Train Input 2: [[9, 9, 2, 3, 4, 4, 7, 5, 3, 3, 6, 6, 3, 5, 6, 4, 4, 6, 5, 3, 6, 6, 3, 3, 5, 7, 4, 4, 3, 2], [7, 9, 3, 5, 4, 4, 5, 7, 3, 3, 6, 6, 6, 3, 4, 6, 6, 4, 3, 6, 6, 6, 3, 3, 7, 5, 4, 4, 5, 3], [3, 2, 9, 9, 7, 5, 4, 4, 4, 1, 3, 3, 6, 4, 4, 7, 7, 4, 4, 6, 3, 8, 8, 8, 8, 8, 5, 7, 9, 9], [2, 3, 7, 9, 5, 7, 4, 4, 1, 4, 3, 3, 4, 6, 7, 4, 4, 7, 6, 4, 3, 8, 8, 8, 8, 8, 7, 5, 9, 7], [7, 7, 9, 3, 9, 9, 5, 3, 3, 6, 6, 4, 6, 7, 9, 9, 9, 9, 7, 6, 4, 8, 8, 8, 8, 8, 9, 9, 3, 9], [7, 7, 3, 9, 7, 9, 3, 2, 5, 3, 4, 6, 2, 6, 9, 9, 9, 9, 6, 2, 6, 8, 8, 8, 8, 8, 9, 7, 9, 3], [9, 3, 7, 7, 3, 2, 9, 9, 6, 4, 4, 7, 9, 2, 6, 7, 7, 6, 2, 9, 7, 4, 4, 6, 9, 9, 2, 3, 7, 7], [3, 9, 7, 7, 2, 3, 7, 9, 4, 6, 7, 4, 2, 9, 2, 6, 6, 2, 9, 2, 4, 7, 6, 4, 9, 7, 3, 2, 7, 7], [3, 3, 4, 1, 3, 5, 6, 4, 2, 4, 7, 7, 1, 6, 7, 2, 2, 7, 6, 1, 7, 7, 4, 2, 4, 6, 5, 3, 1, 4], [3, 3, 1, 4, 6, 3, 4, 6, 2, 2, 7, 1, 6, 1, 2, 7, 7, 2, 1, 6, 1, 7, 2, 2, 6, 4, 3, 6, 4, 1], [6, 6, 3, 3, 6, 4, 4, 7, 1, 1, 2, 4, 7, 2, 1, 6, 6, 1, 2, 7, 4, 2, 1, 1, 7, 4, 4, 6, 3, 3], [6, 6, 3, 3, 4, 6, 7, 4, 1, 3, 2, 2, 2, 7, 6, 1, 1, 6, 7, 2, 2, 2, 3, 1, 4, 7, 6, 4, 3, 3], [3, 6, 6, 4, 6, 2, 9, 2, 9, 9, 9, 7, 2, 4, 1, 7, 7, 1, 4, 2, 7, 9, 9, 9, 2, 9, 2, 6, 4, 6], [5, 3, 4, 6, 7, 6, 2, 9, 9, 9, 7, 9, 2, 2, 7, 7, 7, 7, 2, 2, 9, 7, 9, 9, 9, 2, 6, 7, 6, 4], [6, 4, 4, 7, 9, 9, 6, 2, 9, 7, 9, 9, 3, 1, 2, 4, 4, 2, 1, 3, 9, 9, 7, 9, 2, 6, 9, 9, 7, 4], [4, 6, 7, 4, 9, 9, 7, 6, 7, 9, 9, 9, 1, 1, 2, 2, 2, 2, 1, 1, 9, 9, 9, 7, 6, 7, 9, 9, 4, 7], [4, 6, 7, 4, 9, 9, 7, 6, 7, 9, 9, 9, 1, 1, 2, 2, 2, 2, 1, 1, 9, 9, 9, 7, 6, 7, 9, 9, 4, 7], [6, 4, 4, 7, 9, 9, 6, 2, 9, 7, 9, 9, 3, 1, 2, 4, 4, 2, 1, 3, 9, 9, 7, 9, 2, 6, 9, 9, 7, 4], [5, 3, 4, 6, 7, 6, 2, 9, 9, 9, 7, 9, 2, 2, 7, 7, 7, 7, 2, 2, 9, 7, 9, 9, 9, 2, 6, 7, 6, 4], [3, 6, 6, 4, 6, 2, 9, 2, 9, 9, 9, 7, 2, 4, 1, 7, 7, 1, 4, 2, 7, 9, 9, 9, 2, 9, 2, 6, 4, 6], [6, 6, 3, 3, 4, 6, 7, 4, 1, 3, 2, 2, 2, 7, 6, 1, 1, 6, 7, 2, 2, 2, 3, 1, 4, 7, 6, 4, 3, 3], [6, 6, 3, 3, 6, 4, 4, 7, 1, 1, 2, 4, 7, 2, 1, 6, 6, 1, 2, 7, 4, 2, 1, 1, 7, 4, 4, 6, 3, 3], [3, 3, 1, 4, 6, 3, 4, 6, 2, 2, 7, 1, 6, 1, 2, 7, 7, 2, 1, 6, 1, 7, 2, 2, 6, 4, 3, 6, 4, 1], [3, 3, 4, 1, 3, 5, 6, 4, 2, 4, 7, 7, 1, 6, 7, 2, 2, 7, 6, 1, 7, 7, 4, 2, 4, 6, 5, 3, 1, 4], [3, 9, 7, 7, 2, 3, 7, 9, 4, 6, 7, 4, 2, 9, 2, 6, 6, 2, 9, 2, 4, 7, 6, 4, 9, 7, 3, 2, 7, 7], [9, 3, 7, 7, 3, 2, 9, 9, 6, 4, 4, 7, 9, 2, 6, 7, 7, 6, 2, 9, 7, 4, 4, 6, 9, 9, 2, 3, 7, 7], [7, 7, 3, 9, 7, 9, 3, 2, 5, 3, 4, 6, 2, 6, 9, 9, 9, 9, 6, 2, 6, 4, 3, 5, 2, 3, 9, 7, 9, 3], [7, 7, 9, 3, 9, 9, 5, 3, 3, 6, 6, 4, 6, 7, 9, 9, 9, 9, 7, 6, 4, 6, 6, 3, 3, 5, 9, 9, 3, 9], [2, 3, 7, 9, 5, 7, 4, 4, 1, 4, 3, 3, 4, 6, 7, 4, 4, 7, 6, 4, 3, 3, 4, 1, 4, 4, 7, 5, 9, 7], [3, 2, 9, 9, 7, 5, 4, 4, 4, 1, 3, 3, 6, 4, 4, 7, 7, 4, 4, 6, 3, 3, 1, 4, 4, 4, 5, 7, 9, 9]]\n",
      "Train Output 2: [[3, 1, 4, 4, 4], [3, 4, 1, 4, 4], [6, 6, 3, 3, 5], [4, 3, 5, 2, 3]]\n",
      "\n",
      "Train Input 3: [[3, 5, 3, 3, 6, 6, 5, 4, 1, 4, 9, 9, 4, 3, 9, 9, 9, 9, 3, 4, 9, 9, 4, 1, 4, 5, 6, 6, 3, 3], [5, 3, 3, 3, 6, 6, 4, 5, 4, 1, 9, 9, 3, 4, 9, 1, 1, 9, 4, 3, 9, 9, 1, 4, 5, 4, 6, 6, 3, 3], [1, 1, 3, 5, 5, 4, 6, 6, 9, 1, 1, 4, 9, 9, 4, 5, 5, 4, 9, 9, 4, 1, 1, 9, 6, 6, 4, 5, 5, 3], [1, 1, 5, 3, 4, 5, 6, 6, 1, 9, 4, 1, 9, 1, 4, 4, 4, 4, 1, 9, 1, 4, 9, 1, 6, 6, 5, 4, 3, 5], [6, 9, 9, 9, 3, 5, 3, 3, 4, 3, 9, 9, 9, 2, 6, 9, 9, 6, 2, 9, 9, 9, 3, 4, 3, 3, 5, 3, 9, 9], [9, 6, 9, 9, 5, 3, 3, 3, 3, 4, 9, 1, 9, 9, 9, 6, 6, 9, 9, 9, 1, 9, 4, 3, 3, 3, 3, 5, 9, 9], [9, 9, 6, 9, 1, 1, 3, 5, 9, 9, 4, 4, 6, 9, 9, 2, 2, 9, 9, 6, 4, 4, 9, 9, 5, 3, 1, 1, 9, 6], [9, 9, 9, 6, 1, 1, 5, 3, 9, 1, 5, 4, 9, 6, 9, 9, 9, 9, 6, 9, 4, 5, 1, 9, 3, 5, 1, 1, 6, 9], [1, 4, 9, 1, 4, 3, 9, 9, 5, 5, 7, 2, 4, 3, 2, 4, 4, 2, 3, 4, 2, 7, 5, 5, 9, 9, 3, 4, 1, 9], [4, 1, 1, 9, 3, 4, 9, 1, 4, 5, 2, 7, 3, 4, 4, 2, 2, 4, 4, 3, 7, 2, 5, 4, 1, 9, 4, 3, 9, 1], [9, 9, 1, 4, 9, 9, 4, 5, 6, 4, 5, 5, 2, 4, 4, 3, 3, 4, 4, 2, 5, 5, 4, 6, 5, 4, 9, 9, 4, 1], [9, 9, 4, 1, 9, 1, 4, 4, 4, 5, 4, 5, 4, 2, 3, 4, 4, 3, 2, 4, 5, 4, 5, 4, 4, 4, 1, 9, 1, 4], [4, 3, 9, 9, 9, 9, 6, 9, 5, 9, 7, 7, 5, 5, 7, 2, 2, 7, 5, 5, 7, 7, 9, 5, 9, 6, 9, 9, 9, 9], [3, 4, 9, 1, 2, 9, 9, 6, 9, 5, 7, 7, 4, 5, 2, 7, 7, 2, 5, 4, 7, 7, 5, 9, 6, 9, 9, 2, 1, 9], [9, 9, 4, 4, 6, 9, 9, 9, 7, 7, 5, 9, 5, 4, 5, 5, 5, 5, 4, 5, 9, 5, 7, 7, 9, 8, 8, 8, 8, 4], [9, 1, 5, 4, 9, 6, 2, 9, 7, 7, 9, 5, 4, 6, 4, 5, 5, 4, 6, 4, 5, 9, 7, 7, 9, 8, 8, 8, 8, 5], [9, 1, 5, 4, 9, 6, 2, 9, 7, 7, 9, 5, 4, 6, 4, 5, 5, 4, 6, 4, 5, 9, 7, 7, 9, 8, 8, 8, 8, 5], [9, 9, 4, 4, 6, 9, 9, 9, 7, 7, 5, 9, 5, 4, 5, 5, 5, 5, 4, 5, 9, 5, 7, 7, 9, 8, 8, 8, 8, 4], [3, 4, 9, 1, 2, 9, 9, 6, 9, 5, 7, 7, 4, 5, 2, 7, 7, 2, 5, 4, 7, 7, 5, 9, 6, 8, 8, 8, 8, 9], [4, 3, 9, 9, 9, 9, 6, 9, 5, 9, 7, 7, 5, 5, 7, 2, 2, 7, 5, 5, 7, 7, 9, 5, 9, 8, 8, 8, 8, 9], [9, 9, 4, 1, 9, 1, 4, 4, 4, 5, 4, 5, 4, 2, 3, 4, 4, 3, 2, 4, 5, 4, 5, 4, 4, 8, 8, 8, 8, 4], [9, 9, 1, 4, 9, 9, 4, 5, 6, 4, 5, 5, 2, 4, 4, 3, 3, 4, 4, 2, 5, 5, 4, 6, 5, 8, 8, 8, 8, 1], [4, 1, 1, 9, 3, 4, 9, 1, 4, 5, 2, 7, 3, 4, 4, 2, 2, 4, 4, 3, 7, 2, 5, 4, 1, 8, 8, 8, 8, 1], [1, 4, 9, 1, 4, 3, 9, 9, 5, 5, 7, 2, 4, 3, 2, 4, 4, 2, 3, 4, 2, 7, 5, 5, 9, 9, 3, 4, 1, 9], [9, 9, 9, 6, 1, 1, 5, 3, 9, 1, 5, 4, 9, 6, 9, 9, 9, 9, 6, 9, 4, 5, 1, 9, 3, 5, 1, 1, 6, 9], [9, 9, 6, 9, 1, 1, 3, 5, 9, 9, 4, 4, 6, 9, 9, 2, 2, 9, 9, 6, 4, 4, 9, 9, 5, 3, 1, 1, 9, 6], [9, 6, 9, 9, 5, 3, 3, 3, 3, 4, 9, 1, 9, 9, 9, 6, 6, 9, 9, 9, 1, 9, 4, 3, 3, 3, 3, 5, 9, 9], [6, 9, 9, 9, 3, 5, 3, 3, 4, 3, 9, 9, 9, 2, 6, 9, 9, 6, 2, 9, 9, 9, 3, 4, 3, 3, 5, 3, 9, 9], [1, 1, 5, 3, 4, 5, 6, 6, 1, 9, 4, 1, 9, 1, 4, 4, 4, 4, 1, 9, 1, 4, 9, 1, 6, 6, 5, 4, 3, 5], [1, 1, 3, 5, 5, 4, 6, 6, 9, 1, 1, 4, 9, 9, 4, 5, 5, 4, 9, 9, 4, 1, 1, 9, 6, 6, 4, 5, 5, 3]]\n",
      "Train Output 3: [[9, 9, 6, 4], [2, 6, 9, 4], [2, 6, 9, 4], [9, 9, 6, 4], [9, 9, 2, 1], [6, 9, 9, 9], [4, 1, 9, 1], [4, 9, 9, 4], [9, 4, 3, 9]]\n",
      "\n",
      "Train Input 4: [[1, 9, 4, 4, 9, 9, 2, 7, 6, 6, 9, 9, 7, 6, 7, 2, 2, 7, 6, 7, 9, 9, 6, 6, 7, 2, 9, 9, 4, 4], [7, 1, 4, 4, 9, 9, 7, 2, 6, 6, 9, 9, 6, 7, 2, 7, 7, 2, 7, 6, 9, 9, 6, 6, 2, 7, 9, 9, 4, 4], [2, 7, 1, 9, 2, 7, 9, 9, 4, 4, 6, 6, 7, 2, 5, 1, 1, 5, 2, 7, 6, 6, 4, 4, 9, 9, 7, 2, 9, 1], [7, 2, 7, 1, 7, 2, 9, 9, 4, 4, 6, 6, 2, 7, 5, 5, 5, 5, 7, 2, 6, 6, 4, 4, 9, 9, 2, 7, 1, 7], [9, 6, 7, 2, 1, 9, 4, 4, 7, 6, 7, 2, 9, 2, 6, 4, 4, 6, 2, 9, 2, 7, 6, 7, 4, 4, 9, 1, 2, 7], [6, 9, 2, 7, 7, 1, 4, 4, 6, 7, 2, 7, 9, 9, 4, 6, 6, 4, 9, 9, 7, 2, 7, 6, 4, 4, 1, 7, 7, 2], [7, 2, 9, 6, 2, 7, 1, 9, 7, 2, 5, 5, 4, 5, 9, 2, 2, 9, 5, 4, 5, 5, 2, 7, 9, 1, 7, 2, 6, 9], [2, 7, 6, 9, 7, 2, 7, 1, 2, 7, 1, 5, 5, 4, 9, 9, 9, 9, 4, 5, 5, 1, 7, 2, 1, 7, 2, 7, 9, 6], [6, 6, 4, 4, 7, 6, 7, 2, 3, 7, 1, 4, 9, 7, 7, 6, 6, 7, 7, 9, 4, 1, 7, 3, 2, 7, 6, 7, 4, 4], [6, 6, 4, 4, 6, 7, 2, 7, 4, 3, 4, 4, 7, 9, 6, 7, 7, 6, 9, 7, 4, 4, 3, 4, 7, 2, 7, 6, 4, 4], [9, 9, 6, 6, 7, 2, 5, 1, 3, 7, 3, 7, 7, 6, 9, 7, 7, 9, 6, 7, 7, 3, 7, 3, 1, 5, 2, 7, 6, 6], [9, 9, 6, 6, 2, 7, 5, 5, 7, 7, 4, 3, 6, 7, 7, 9, 9, 7, 7, 6, 3, 4, 7, 7, 5, 5, 7, 2, 6, 6], [7, 6, 7, 2, 9, 9, 4, 5, 6, 6, 5, 9, 3, 7, 4, 4, 4, 4, 7, 3, 9, 5, 6, 6, 5, 4, 9, 9, 2, 7], [6, 7, 2, 7, 2, 9, 5, 4, 6, 6, 9, 5, 4, 3, 4, 1, 1, 4, 3, 4, 5, 9, 6, 6, 4, 5, 9, 2, 7, 2], [7, 2, 5, 5, 6, 4, 9, 9, 5, 9, 6, 6, 7, 7, 3, 7, 7, 3, 7, 7, 6, 6, 9, 5, 9, 9, 4, 6, 5, 5], [2, 7, 1, 5, 4, 6, 2, 9, 9, 5, 6, 6, 7, 3, 4, 3, 3, 4, 3, 7, 6, 6, 5, 9, 9, 2, 6, 4, 5, 1], [2, 7, 1, 5, 4, 6, 2, 9, 9, 5, 6, 6, 7, 3, 4, 3, 3, 4, 3, 7, 6, 6, 5, 9, 9, 2, 6, 4, 5, 1], [7, 2, 5, 5, 6, 4, 9, 9, 5, 9, 6, 6, 7, 7, 3, 7, 7, 3, 7, 7, 6, 6, 9, 5, 9, 9, 4, 6, 5, 5], [6, 7, 2, 7, 2, 9, 5, 4, 6, 6, 9, 5, 4, 3, 4, 1, 1, 4, 3, 4, 5, 9, 6, 6, 4, 5, 9, 2, 7, 2], [7, 6, 7, 2, 9, 9, 4, 5, 6, 6, 5, 9, 8, 8, 8, 8, 8, 8, 8, 3, 9, 5, 6, 6, 5, 4, 9, 9, 2, 7], [9, 9, 6, 6, 2, 7, 5, 5, 7, 7, 4, 3, 8, 8, 8, 8, 8, 8, 8, 6, 3, 4, 7, 7, 5, 5, 7, 2, 6, 6], [9, 9, 6, 6, 7, 2, 5, 1, 3, 7, 3, 7, 8, 8, 8, 8, 8, 8, 8, 7, 7, 3, 7, 3, 1, 5, 2, 7, 6, 6], [6, 6, 4, 4, 6, 7, 2, 7, 4, 3, 4, 4, 7, 9, 6, 7, 7, 6, 9, 7, 4, 4, 3, 4, 7, 2, 7, 6, 4, 4], [6, 6, 4, 4, 7, 6, 7, 2, 3, 7, 1, 4, 9, 7, 7, 6, 6, 7, 7, 9, 4, 1, 7, 3, 2, 7, 6, 7, 4, 4], [2, 7, 6, 9, 7, 2, 7, 1, 2, 7, 1, 5, 5, 4, 9, 9, 9, 9, 4, 5, 5, 1, 7, 2, 1, 7, 2, 7, 9, 6], [7, 2, 9, 6, 2, 7, 1, 9, 7, 2, 5, 5, 4, 5, 9, 2, 2, 9, 5, 4, 5, 5, 2, 7, 9, 1, 7, 2, 6, 9], [6, 9, 2, 7, 7, 1, 4, 4, 6, 7, 2, 7, 9, 9, 4, 6, 6, 4, 9, 9, 7, 2, 7, 6, 4, 4, 1, 7, 7, 2], [9, 6, 7, 2, 1, 9, 4, 4, 7, 6, 7, 2, 9, 2, 6, 4, 4, 6, 2, 9, 2, 7, 6, 7, 4, 4, 9, 1, 2, 7], [7, 2, 7, 1, 7, 2, 9, 9, 4, 4, 6, 6, 2, 7, 5, 5, 5, 5, 7, 2, 6, 6, 4, 4, 9, 9, 2, 7, 1, 7], [2, 7, 1, 9, 2, 7, 9, 9, 4, 4, 6, 6, 7, 2, 5, 1, 1, 5, 2, 7, 6, 6, 4, 4, 9, 9, 7, 2, 9, 1]]\n",
      "Train Output 4: [[3, 7, 4, 4, 4, 4, 7], [6, 7, 7, 9, 9, 7, 7], [7, 6, 9, 7, 7, 9, 6]]\n",
      "\n",
      "\n",
      "Encoding used: nonzero_coords\n",
      "Explanation: This encoding lists only the non-zero cells as dictionaries containing their row, column, and value.\n",
      "\n",
      "Here are the demonstration pairs (encoded):\n",
      "\n",
      "Train Input 1: [{'row': 0, 'col': 0, 'val': 3}, {'row': 0, 'col': 1, 'val': 1}, {'row': 0, 'col': 2, 'val': 1}, {'row': 0, 'col': 3, 'val': 9}, {'row': 0, 'col': 4, 'val': 5}, {'row': 0, 'col': 5, 'val': 6}, {'row': 0, 'col': 6, 'val': 7}, {'row': 0, 'col': 7, 'val': 1}, {'row': 0, 'col': 8, 'val': 1}, {'row': 0, 'col': 9, 'val': 4}, {'row': 0, 'col': 10, 'val': 5}, {'row': 0, 'col': 11, 'val': 7}, {'row': 0, 'col': 12, 'val': 3}, {'row': 0, 'col': 13, 'val': 9}, {'row': 0, 'col': 14, 'val': 9}, {'row': 0, 'col': 15, 'val': 1}, {'row': 0, 'col': 16, 'val': 1}, {'row': 0, 'col': 17, 'val': 9}, {'row': 0, 'col': 18, 'val': 9}, {'row': 0, 'col': 19, 'val': 3}, {'row': 0, 'col': 20, 'val': 7}, {'row': 0, 'col': 21, 'val': 5}, {'row': 0, 'col': 22, 'val': 4}, {'row': 0, 'col': 23, 'val': 1}, {'row': 0, 'col': 24, 'val': 1}, {'row': 0, 'col': 25, 'val': 7}, {'row': 0, 'col': 26, 'val': 6}, {'row': 0, 'col': 27, 'val': 5}, {'row': 0, 'col': 28, 'val': 9}, {'row': 0, 'col': 29, 'val': 1}, {'row': 1, 'col': 0, 'val': 1}, {'row': 1, 'col': 1, 'val': 3}, {'row': 1, 'col': 2, 'val': 9}, {'row': 1, 'col': 3, 'val': 5}, {'row': 1, 'col': 4, 'val': 6}, {'row': 1, 'col': 5, 'val': 5}, {'row': 1, 'col': 6, 'val': 1}, {'row': 1, 'col': 7, 'val': 7}, {'row': 1, 'col': 8, 'val': 4}, {'row': 1, 'col': 9, 'val': 1}, {'row': 1, 'col': 10, 'val': 7}, {'row': 1, 'col': 11, 'val': 5}, {'row': 1, 'col': 12, 'val': 4}, {'row': 1, 'col': 13, 'val': 3}, {'row': 1, 'col': 14, 'val': 1}, {'row': 1, 'col': 15, 'val': 3}, {'row': 1, 'col': 16, 'val': 3}, {'row': 1, 'col': 17, 'val': 1}, {'row': 1, 'col': 18, 'val': 3}, {'row': 1, 'col': 19, 'val': 4}, {'row': 1, 'col': 20, 'val': 5}, {'row': 1, 'col': 21, 'val': 7}, {'row': 1, 'col': 22, 'val': 1}, {'row': 1, 'col': 23, 'val': 4}, {'row': 1, 'col': 24, 'val': 7}, {'row': 1, 'col': 25, 'val': 1}, {'row': 1, 'col': 26, 'val': 5}, {'row': 1, 'col': 27, 'val': 6}, {'row': 1, 'col': 28, 'val': 5}, {'row': 1, 'col': 29, 'val': 9}, {'row': 2, 'col': 0, 'val': 6}, {'row': 2, 'col': 1, 'val': 9}, {'row': 2, 'col': 2, 'val': 3}, {'row': 2, 'col': 3, 'val': 1}, {'row': 2, 'col': 4, 'val': 7}, {'row': 2, 'col': 5, 'val': 1}, {'row': 2, 'col': 6, 'val': 5}, {'row': 2, 'col': 7, 'val': 6}, {'row': 2, 'col': 8, 'val': 9}, {'row': 2, 'col': 9, 'val': 9}, {'row': 2, 'col': 10, 'val': 1}, {'row': 2, 'col': 11, 'val': 4}, {'row': 2, 'col': 12, 'val': 9}, {'row': 2, 'col': 13, 'val': 1}, {'row': 2, 'col': 14, 'val': 1}, {'row': 2, 'col': 15, 'val': 4}, {'row': 2, 'col': 16, 'val': 4}, {'row': 2, 'col': 17, 'val': 1}, {'row': 2, 'col': 18, 'val': 1}, {'row': 2, 'col': 19, 'val': 9}, {'row': 2, 'col': 20, 'val': 4}, {'row': 2, 'col': 21, 'val': 1}, {'row': 2, 'col': 22, 'val': 9}, {'row': 2, 'col': 23, 'val': 9}, {'row': 2, 'col': 24, 'val': 6}, {'row': 2, 'col': 25, 'val': 5}, {'row': 2, 'col': 26, 'val': 1}, {'row': 2, 'col': 27, 'val': 7}, {'row': 2, 'col': 28, 'val': 1}, {'row': 2, 'col': 29, 'val': 3}, {'row': 3, 'col': 0, 'val': 9}, {'row': 3, 'col': 1, 'val': 1}, {'row': 3, 'col': 2, 'val': 1}, {'row': 3, 'col': 3, 'val': 3}, {'row': 3, 'col': 4, 'val': 1}, {'row': 3, 'col': 5, 'val': 7}, {'row': 3, 'col': 6, 'val': 6}, {'row': 3, 'col': 7, 'val': 5}, {'row': 3, 'col': 8, 'val': 9}, {'row': 3, 'col': 9, 'val': 9}, {'row': 3, 'col': 10, 'val': 4}, {'row': 3, 'col': 11, 'val': 1}, {'row': 3, 'col': 12, 'val': 1}, {'row': 3, 'col': 13, 'val': 3}, {'row': 3, 'col': 14, 'val': 4}, {'row': 3, 'col': 15, 'val': 1}, {'row': 3, 'col': 16, 'val': 1}, {'row': 3, 'col': 17, 'val': 4}, {'row': 3, 'col': 18, 'val': 3}, {'row': 3, 'col': 19, 'val': 1}, {'row': 3, 'col': 20, 'val': 1}, {'row': 3, 'col': 21, 'val': 4}, {'row': 3, 'col': 22, 'val': 9}, {'row': 3, 'col': 23, 'val': 9}, {'row': 3, 'col': 24, 'val': 5}, {'row': 3, 'col': 25, 'val': 6}, {'row': 3, 'col': 26, 'val': 7}, {'row': 3, 'col': 27, 'val': 1}, {'row': 3, 'col': 28, 'val': 3}, {'row': 3, 'col': 29, 'val': 1}, {'row': 4, 'col': 0, 'val': 6}, {'row': 4, 'col': 1, 'val': 6}, {'row': 4, 'col': 2, 'val': 6}, {'row': 4, 'col': 3, 'val': 7}, {'row': 4, 'col': 4, 'val': 3}, {'row': 4, 'col': 5, 'val': 1}, {'row': 4, 'col': 6, 'val': 5}, {'row': 4, 'col': 7, 'val': 9}, {'row': 4, 'col': 8, 'val': 3}, {'row': 4, 'col': 9, 'val': 4}, {'row': 4, 'col': 10, 'val': 9}, {'row': 4, 'col': 11, 'val': 1}, {'row': 4, 'col': 12, 'val': 6}, {'row': 4, 'col': 13, 'val': 7}, {'row': 4, 'col': 14, 'val': 2}, {'row': 4, 'col': 15, 'val': 5}, {'row': 4, 'col': 16, 'val': 5}, {'row': 4, 'col': 17, 'val': 2}, {'row': 4, 'col': 18, 'val': 7}, {'row': 4, 'col': 19, 'val': 6}, {'row': 4, 'col': 20, 'val': 1}, {'row': 4, 'col': 21, 'val': 9}, {'row': 4, 'col': 22, 'val': 4}, {'row': 4, 'col': 23, 'val': 3}, {'row': 4, 'col': 24, 'val': 9}, {'row': 4, 'col': 25, 'val': 5}, {'row': 4, 'col': 26, 'val': 1}, {'row': 4, 'col': 27, 'val': 3}, {'row': 4, 'col': 28, 'val': 7}, {'row': 4, 'col': 29, 'val': 6}, {'row': 5, 'col': 0, 'val': 6}, {'row': 5, 'col': 1, 'val': 6}, {'row': 5, 'col': 2, 'val': 7}, {'row': 5, 'col': 3, 'val': 6}, {'row': 5, 'col': 4, 'val': 1}, {'row': 5, 'col': 5, 'val': 3}, {'row': 5, 'col': 6, 'val': 9}, {'row': 5, 'col': 7, 'val': 1}, {'row': 5, 'col': 8, 'val': 9}, {'row': 5, 'col': 9, 'val': 3}, {'row': 5, 'col': 10, 'val': 1}, {'row': 5, 'col': 11, 'val': 3}, {'row': 5, 'col': 12, 'val': 7}, {'row': 5, 'col': 13, 'val': 6}, {'row': 5, 'col': 14, 'val': 5}, {'row': 5, 'col': 15, 'val': 2}, {'row': 5, 'col': 16, 'val': 2}, {'row': 5, 'col': 17, 'val': 5}, {'row': 5, 'col': 18, 'val': 6}, {'row': 5, 'col': 19, 'val': 7}, {'row': 5, 'col': 20, 'val': 3}, {'row': 5, 'col': 21, 'val': 1}, {'row': 5, 'col': 22, 'val': 3}, {'row': 5, 'col': 23, 'val': 9}, {'row': 5, 'col': 24, 'val': 1}, {'row': 5, 'col': 25, 'val': 9}, {'row': 5, 'col': 26, 'val': 3}, {'row': 5, 'col': 27, 'val': 1}, {'row': 5, 'col': 28, 'val': 6}, {'row': 5, 'col': 29, 'val': 7}, {'row': 6, 'col': 0, 'val': 6}, {'row': 6, 'col': 1, 'val': 7}, {'row': 6, 'col': 2, 'val': 6}, {'row': 6, 'col': 3, 'val': 6}, {'row': 6, 'col': 4, 'val': 1}, {'row': 6, 'col': 5, 'val': 9}, {'row': 6, 'col': 6, 'val': 3}, {'row': 6, 'col': 7, 'val': 1}, {'row': 6, 'col': 8, 'val': 9}, {'row': 6, 'col': 9, 'val': 1}, {'row': 6, 'col': 10, 'val': 1}, {'row': 6, 'col': 11, 'val': 4}, {'row': 6, 'col': 12, 'val': 6}, {'row': 6, 'col': 13, 'val': 9}, {'row': 6, 'col': 14, 'val': 6}, {'row': 6, 'col': 15, 'val': 7}, {'row': 6, 'col': 16, 'val': 7}, {'row': 6, 'col': 17, 'val': 6}, {'row': 6, 'col': 18, 'val': 9}, {'row': 6, 'col': 19, 'val': 6}, {'row': 6, 'col': 20, 'val': 4}, {'row': 6, 'col': 21, 'val': 1}, {'row': 6, 'col': 22, 'val': 1}, {'row': 6, 'col': 23, 'val': 9}, {'row': 6, 'col': 24, 'val': 1}, {'row': 6, 'col': 25, 'val': 3}, {'row': 6, 'col': 26, 'val': 9}, {'row': 6, 'col': 27, 'val': 1}, {'row': 6, 'col': 28, 'val': 6}, {'row': 6, 'col': 29, 'val': 6}, {'row': 7, 'col': 0, 'val': 7}, {'row': 7, 'col': 1, 'val': 6}, {'row': 7, 'col': 2, 'val': 6}, {'row': 7, 'col': 3, 'val': 6}, {'row': 7, 'col': 4, 'val': 9}, {'row': 7, 'col': 5, 'val': 6}, {'row': 7, 'col': 6, 'val': 1}, {'row': 7, 'col': 7, 'val': 3}, {'row': 7, 'col': 8, 'val': 1}, {'row': 7, 'col': 9, 'val': 3}, {'row': 7, 'col': 10, 'val': 4}, {'row': 7, 'col': 11, 'val': 1}, {'row': 7, 'col': 12, 'val': 9}, {'row': 7, 'col': 13, 'val': 6}, {'row': 7, 'col': 14, 'val': 7}, {'row': 7, 'col': 15, 'val': 6}, {'row': 7, 'col': 16, 'val': 6}, {'row': 7, 'col': 17, 'val': 7}, {'row': 7, 'col': 18, 'val': 6}, {'row': 7, 'col': 19, 'val': 9}, {'row': 7, 'col': 20, 'val': 1}, {'row': 7, 'col': 21, 'val': 4}, {'row': 7, 'col': 22, 'val': 3}, {'row': 7, 'col': 23, 'val': 1}, {'row': 7, 'col': 24, 'val': 3}, {'row': 7, 'col': 25, 'val': 1}, {'row': 7, 'col': 26, 'val': 8}, {'row': 7, 'col': 27, 'val': 8}, {'row': 7, 'col': 28, 'val': 8}, {'row': 7, 'col': 29, 'val': 8}, {'row': 8, 'col': 0, 'val': 1}, {'row': 8, 'col': 1, 'val': 4}, {'row': 8, 'col': 2, 'val': 9}, {'row': 8, 'col': 3, 'val': 9}, {'row': 8, 'col': 4, 'val': 3}, {'row': 8, 'col': 5, 'val': 9}, {'row': 8, 'col': 6, 'val': 9}, {'row': 8, 'col': 7, 'val': 1}, {'row': 8, 'col': 8, 'val': 1}, {'row': 8, 'col': 9, 'val': 1}, {'row': 8, 'col': 10, 'val': 6}, {'row': 8, 'col': 11, 'val': 1}, {'row': 8, 'col': 12, 'val': 5}, {'row': 8, 'col': 13, 'val': 2}, {'row': 8, 'col': 14, 'val': 5}, {'row': 8, 'col': 15, 'val': 5}, {'row': 8, 'col': 16, 'val': 5}, {'row': 8, 'col': 17, 'val': 5}, {'row': 8, 'col': 18, 'val': 2}, {'row': 8, 'col': 19, 'val': 5}, {'row': 8, 'col': 20, 'val': 1}, {'row': 8, 'col': 21, 'val': 6}, {'row': 8, 'col': 22, 'val': 1}, {'row': 8, 'col': 23, 'val': 1}, {'row': 8, 'col': 24, 'val': 1}, {'row': 8, 'col': 25, 'val': 9}, {'row': 8, 'col': 26, 'val': 8}, {'row': 8, 'col': 27, 'val': 8}, {'row': 8, 'col': 28, 'val': 8}, {'row': 8, 'col': 29, 'val': 8}, {'row': 9, 'col': 0, 'val': 4}, {'row': 9, 'col': 1, 'val': 1}, {'row': 9, 'col': 2, 'val': 9}, {'row': 9, 'col': 3, 'val': 9}, {'row': 9, 'col': 4, 'val': 4}, {'row': 9, 'col': 5, 'val': 3}, {'row': 9, 'col': 6, 'val': 1}, {'row': 9, 'col': 7, 'val': 3}, {'row': 9, 'col': 8, 'val': 1}, {'row': 9, 'col': 9, 'val': 1}, {'row': 9, 'col': 10, 'val': 1}, {'row': 9, 'col': 11, 'val': 6}, {'row': 9, 'col': 12, 'val': 2}, {'row': 9, 'col': 13, 'val': 5}, {'row': 9, 'col': 14, 'val': 5}, {'row': 9, 'col': 15, 'val': 5}, {'row': 9, 'col': 16, 'val': 5}, {'row': 9, 'col': 17, 'val': 5}, {'row': 9, 'col': 18, 'val': 5}, {'row': 9, 'col': 19, 'val': 2}, {'row': 9, 'col': 20, 'val': 6}, {'row': 9, 'col': 21, 'val': 1}, {'row': 9, 'col': 22, 'val': 1}, {'row': 9, 'col': 23, 'val': 1}, {'row': 9, 'col': 24, 'val': 3}, {'row': 9, 'col': 25, 'val': 1}, {'row': 9, 'col': 26, 'val': 8}, {'row': 9, 'col': 27, 'val': 8}, {'row': 9, 'col': 28, 'val': 8}, {'row': 9, 'col': 29, 'val': 8}, {'row': 10, 'col': 0, 'val': 5}, {'row': 10, 'col': 1, 'val': 7}, {'row': 10, 'col': 2, 'val': 1}, {'row': 10, 'col': 3, 'val': 4}, {'row': 10, 'col': 4, 'val': 9}, {'row': 10, 'col': 5, 'val': 1}, {'row': 10, 'col': 6, 'val': 1}, {'row': 10, 'col': 7, 'val': 4}, {'row': 10, 'col': 8, 'val': 2}, {'row': 10, 'col': 9, 'val': 2}, {'row': 10, 'col': 10, 'val': 1}, {'row': 10, 'col': 11, 'val': 1}, {'row': 10, 'col': 12, 'val': 5}, {'row': 10, 'col': 13, 'val': 5}, {'row': 10, 'col': 14, 'val': 5}, {'row': 10, 'col': 15, 'val': 2}, {'row': 10, 'col': 16, 'val': 2}, {'row': 10, 'col': 17, 'val': 5}, {'row': 10, 'col': 18, 'val': 5}, {'row': 10, 'col': 19, 'val': 5}, {'row': 10, 'col': 20, 'val': 1}, {'row': 10, 'col': 21, 'val': 1}, {'row': 10, 'col': 22, 'val': 2}, {'row': 10, 'col': 23, 'val': 2}, {'row': 10, 'col': 24, 'val': 4}, {'row': 10, 'col': 25, 'val': 1}, {'row': 10, 'col': 26, 'val': 8}, {'row': 10, 'col': 27, 'val': 8}, {'row': 10, 'col': 28, 'val': 8}, {'row': 10, 'col': 29, 'val': 8}, {'row': 11, 'col': 0, 'val': 7}, {'row': 11, 'col': 1, 'val': 5}, {'row': 11, 'col': 2, 'val': 4}, {'row': 11, 'col': 3, 'val': 1}, {'row': 11, 'col': 4, 'val': 1}, {'row': 11, 'col': 5, 'val': 3}, {'row': 11, 'col': 6, 'val': 4}, {'row': 11, 'col': 7, 'val': 1}, {'row': 11, 'col': 8, 'val': 2}, {'row': 11, 'col': 9, 'val': 1}, {'row': 11, 'col': 10, 'val': 1}, {'row': 11, 'col': 11, 'val': 1}, {'row': 11, 'col': 12, 'val': 5}, {'row': 11, 'col': 13, 'val': 5}, {'row': 11, 'col': 14, 'val': 2}, {'row': 11, 'col': 15, 'val': 5}, {'row': 11, 'col': 16, 'val': 5}, {'row': 11, 'col': 17, 'val': 2}, {'row': 11, 'col': 18, 'val': 5}, {'row': 11, 'col': 19, 'val': 5}, {'row': 11, 'col': 20, 'val': 1}, {'row': 11, 'col': 21, 'val': 1}, {'row': 11, 'col': 22, 'val': 1}, {'row': 11, 'col': 23, 'val': 2}, {'row': 11, 'col': 24, 'val': 1}, {'row': 11, 'col': 25, 'val': 4}, {'row': 11, 'col': 26, 'val': 3}, {'row': 11, 'col': 27, 'val': 1}, {'row': 11, 'col': 28, 'val': 1}, {'row': 11, 'col': 29, 'val': 4}, {'row': 12, 'col': 0, 'val': 3}, {'row': 12, 'col': 1, 'val': 4}, {'row': 12, 'col': 2, 'val': 9}, {'row': 12, 'col': 3, 'val': 1}, {'row': 12, 'col': 4, 'val': 6}, {'row': 12, 'col': 5, 'val': 7}, {'row': 12, 'col': 6, 'val': 6}, {'row': 12, 'col': 7, 'val': 9}, {'row': 12, 'col': 8, 'val': 7}, {'row': 12, 'col': 9, 'val': 6}, {'row': 12, 'col': 10, 'val': 3}, {'row': 12, 'col': 11, 'val': 3}, {'row': 12, 'col': 12, 'val': 1}, {'row': 12, 'col': 13, 'val': 1}, {'row': 12, 'col': 14, 'val': 6}, {'row': 12, 'col': 15, 'val': 1}, {'row': 12, 'col': 16, 'val': 1}, {'row': 12, 'col': 17, 'val': 6}, {'row': 12, 'col': 18, 'val': 1}, {'row': 12, 'col': 19, 'val': 1}, {'row': 12, 'col': 20, 'val': 3}, {'row': 12, 'col': 21, 'val': 3}, {'row': 12, 'col': 22, 'val': 6}, {'row': 12, 'col': 23, 'val': 7}, {'row': 12, 'col': 24, 'val': 9}, {'row': 12, 'col': 25, 'val': 6}, {'row': 12, 'col': 26, 'val': 7}, {'row': 12, 'col': 27, 'val': 6}, {'row': 12, 'col': 28, 'val': 1}, {'row': 12, 'col': 29, 'val': 9}, {'row': 13, 'col': 0, 'val': 9}, {'row': 13, 'col': 1, 'val': 3}, {'row': 13, 'col': 2, 'val': 1}, {'row': 13, 'col': 3, 'val': 3}, {'row': 13, 'col': 4, 'val': 7}, {'row': 13, 'col': 5, 'val': 6}, {'row': 13, 'col': 6, 'val': 9}, {'row': 13, 'col': 7, 'val': 6}, {'row': 13, 'col': 8, 'val': 6}, {'row': 13, 'col': 9, 'val': 7}, {'row': 13, 'col': 10, 'val': 3}, {'row': 13, 'col': 11, 'val': 3}, {'row': 13, 'col': 12, 'val': 1}, {'row': 13, 'col': 13, 'val': 1}, {'row': 13, 'col': 14, 'val': 1}, {'row': 13, 'col': 15, 'val': 6}, {'row': 13, 'col': 16, 'val': 6}, {'row': 13, 'col': 17, 'val': 1}, {'row': 13, 'col': 18, 'val': 1}, {'row': 13, 'col': 19, 'val': 1}, {'row': 13, 'col': 20, 'val': 3}, {'row': 13, 'col': 21, 'val': 3}, {'row': 13, 'col': 22, 'val': 7}, {'row': 13, 'col': 23, 'val': 6}, {'row': 13, 'col': 24, 'val': 6}, {'row': 13, 'col': 25, 'val': 9}, {'row': 13, 'col': 26, 'val': 6}, {'row': 13, 'col': 27, 'val': 7}, {'row': 13, 'col': 28, 'val': 3}, {'row': 13, 'col': 29, 'val': 1}, {'row': 14, 'col': 0, 'val': 9}, {'row': 14, 'col': 1, 'val': 1}, {'row': 14, 'col': 2, 'val': 1}, {'row': 14, 'col': 3, 'val': 4}, {'row': 14, 'col': 4, 'val': 2}, {'row': 14, 'col': 5, 'val': 5}, {'row': 14, 'col': 6, 'val': 6}, {'row': 14, 'col': 7, 'val': 7}, {'row': 14, 'col': 8, 'val': 3}, {'row': 14, 'col': 9, 'val': 3}, {'row': 14, 'col': 10, 'val': 7}, {'row': 14, 'col': 11, 'val': 6}, {'row': 14, 'col': 12, 'val': 1}, {'row': 14, 'col': 13, 'val': 2}, {'row': 14, 'col': 14, 'val': 1}, {'row': 14, 'col': 15, 'val': 1}, {'row': 14, 'col': 16, 'val': 1}, {'row': 14, 'col': 17, 'val': 1}, {'row': 14, 'col': 18, 'val': 2}, {'row': 14, 'col': 19, 'val': 1}, {'row': 14, 'col': 20, 'val': 6}, {'row': 14, 'col': 21, 'val': 7}, {'row': 14, 'col': 22, 'val': 3}, {'row': 14, 'col': 23, 'val': 3}, {'row': 14, 'col': 24, 'val': 7}, {'row': 14, 'col': 25, 'val': 6}, {'row': 14, 'col': 26, 'val': 5}, {'row': 14, 'col': 27, 'val': 2}, {'row': 14, 'col': 28, 'val': 4}, {'row': 14, 'col': 29, 'val': 1}, {'row': 15, 'col': 0, 'val': 1}, {'row': 15, 'col': 1, 'val': 3}, {'row': 15, 'col': 2, 'val': 4}, {'row': 15, 'col': 3, 'val': 1}, {'row': 15, 'col': 4, 'val': 5}, {'row': 15, 'col': 5, 'val': 2}, {'row': 15, 'col': 6, 'val': 7}, {'row': 15, 'col': 7, 'val': 6}, {'row': 15, 'col': 8, 'val': 3}, {'row': 15, 'col': 9, 'val': 3}, {'row': 15, 'col': 10, 'val': 6}, {'row': 15, 'col': 11, 'val': 7}, {'row': 15, 'col': 12, 'val': 2}, {'row': 15, 'col': 13, 'val': 2}, {'row': 15, 'col': 14, 'val': 1}, {'row': 15, 'col': 15, 'val': 1}, {'row': 15, 'col': 16, 'val': 1}, {'row': 15, 'col': 17, 'val': 1}, {'row': 15, 'col': 18, 'val': 2}, {'row': 15, 'col': 19, 'val': 2}, {'row': 15, 'col': 20, 'val': 7}, {'row': 15, 'col': 21, 'val': 6}, {'row': 15, 'col': 22, 'val': 3}, {'row': 15, 'col': 23, 'val': 3}, {'row': 15, 'col': 24, 'val': 6}, {'row': 15, 'col': 25, 'val': 7}, {'row': 15, 'col': 26, 'val': 2}, {'row': 15, 'col': 27, 'val': 5}, {'row': 15, 'col': 28, 'val': 1}, {'row': 15, 'col': 29, 'val': 4}, {'row': 16, 'col': 0, 'val': 1}, {'row': 16, 'col': 1, 'val': 3}, {'row': 16, 'col': 2, 'val': 4}, {'row': 16, 'col': 3, 'val': 1}, {'row': 16, 'col': 4, 'val': 5}, {'row': 16, 'col': 5, 'val': 2}, {'row': 16, 'col': 6, 'val': 7}, {'row': 16, 'col': 7, 'val': 6}, {'row': 16, 'col': 8, 'val': 3}, {'row': 16, 'col': 9, 'val': 3}, {'row': 16, 'col': 10, 'val': 6}, {'row': 16, 'col': 11, 'val': 7}, {'row': 16, 'col': 12, 'val': 2}, {'row': 16, 'col': 13, 'val': 2}, {'row': 16, 'col': 14, 'val': 1}, {'row': 16, 'col': 15, 'val': 1}, {'row': 16, 'col': 16, 'val': 1}, {'row': 16, 'col': 17, 'val': 1}, {'row': 16, 'col': 18, 'val': 2}, {'row': 16, 'col': 19, 'val': 2}, {'row': 16, 'col': 20, 'val': 7}, {'row': 16, 'col': 21, 'val': 6}, {'row': 16, 'col': 22, 'val': 3}, {'row': 16, 'col': 23, 'val': 3}, {'row': 16, 'col': 24, 'val': 6}, {'row': 16, 'col': 25, 'val': 7}, {'row': 16, 'col': 26, 'val': 2}, {'row': 16, 'col': 27, 'val': 5}, {'row': 16, 'col': 28, 'val': 1}, {'row': 16, 'col': 29, 'val': 4}, {'row': 17, 'col': 0, 'val': 9}, {'row': 17, 'col': 1, 'val': 1}, {'row': 17, 'col': 2, 'val': 1}, {'row': 17, 'col': 3, 'val': 4}, {'row': 17, 'col': 4, 'val': 2}, {'row': 17, 'col': 5, 'val': 5}, {'row': 17, 'col': 6, 'val': 6}, {'row': 17, 'col': 7, 'val': 7}, {'row': 17, 'col': 8, 'val': 3}, {'row': 17, 'col': 9, 'val': 3}, {'row': 17, 'col': 10, 'val': 7}, {'row': 17, 'col': 11, 'val': 6}, {'row': 17, 'col': 12, 'val': 1}, {'row': 17, 'col': 13, 'val': 2}, {'row': 17, 'col': 14, 'val': 1}, {'row': 17, 'col': 15, 'val': 1}, {'row': 17, 'col': 16, 'val': 1}, {'row': 17, 'col': 17, 'val': 1}, {'row': 17, 'col': 18, 'val': 2}, {'row': 17, 'col': 19, 'val': 1}, {'row': 17, 'col': 20, 'val': 6}, {'row': 17, 'col': 21, 'val': 7}, {'row': 17, 'col': 22, 'val': 3}, {'row': 17, 'col': 23, 'val': 3}, {'row': 17, 'col': 24, 'val': 7}, {'row': 17, 'col': 25, 'val': 6}, {'row': 17, 'col': 26, 'val': 5}, {'row': 17, 'col': 27, 'val': 2}, {'row': 17, 'col': 28, 'val': 4}, {'row': 17, 'col': 29, 'val': 1}, {'row': 18, 'col': 0, 'val': 9}, {'row': 18, 'col': 1, 'val': 3}, {'row': 18, 'col': 2, 'val': 1}, {'row': 18, 'col': 3, 'val': 3}, {'row': 18, 'col': 4, 'val': 7}, {'row': 18, 'col': 5, 'val': 6}, {'row': 18, 'col': 6, 'val': 9}, {'row': 18, 'col': 7, 'val': 6}, {'row': 18, 'col': 8, 'val': 6}, {'row': 18, 'col': 9, 'val': 7}, {'row': 18, 'col': 10, 'val': 3}, {'row': 18, 'col': 11, 'val': 3}, {'row': 18, 'col': 12, 'val': 1}, {'row': 18, 'col': 13, 'val': 1}, {'row': 18, 'col': 14, 'val': 1}, {'row': 18, 'col': 15, 'val': 6}, {'row': 18, 'col': 16, 'val': 6}, {'row': 18, 'col': 17, 'val': 1}, {'row': 18, 'col': 18, 'val': 1}, {'row': 18, 'col': 19, 'val': 1}, {'row': 18, 'col': 20, 'val': 3}, {'row': 18, 'col': 21, 'val': 3}, {'row': 18, 'col': 22, 'val': 7}, {'row': 18, 'col': 23, 'val': 6}, {'row': 18, 'col': 24, 'val': 6}, {'row': 18, 'col': 25, 'val': 9}, {'row': 18, 'col': 26, 'val': 6}, {'row': 18, 'col': 27, 'val': 7}, {'row': 18, 'col': 28, 'val': 3}, {'row': 18, 'col': 29, 'val': 1}, {'row': 19, 'col': 0, 'val': 3}, {'row': 19, 'col': 1, 'val': 4}, {'row': 19, 'col': 2, 'val': 9}, {'row': 19, 'col': 3, 'val': 1}, {'row': 19, 'col': 4, 'val': 6}, {'row': 19, 'col': 5, 'val': 7}, {'row': 19, 'col': 6, 'val': 6}, {'row': 19, 'col': 7, 'val': 9}, {'row': 19, 'col': 8, 'val': 7}, {'row': 19, 'col': 9, 'val': 6}, {'row': 19, 'col': 10, 'val': 3}, {'row': 19, 'col': 11, 'val': 3}, {'row': 19, 'col': 12, 'val': 1}, {'row': 19, 'col': 13, 'val': 1}, {'row': 19, 'col': 14, 'val': 6}, {'row': 19, 'col': 15, 'val': 1}, {'row': 19, 'col': 16, 'val': 1}, {'row': 19, 'col': 17, 'val': 6}, {'row': 19, 'col': 18, 'val': 1}, {'row': 19, 'col': 19, 'val': 1}, {'row': 19, 'col': 20, 'val': 3}, {'row': 19, 'col': 21, 'val': 3}, {'row': 19, 'col': 22, 'val': 6}, {'row': 19, 'col': 23, 'val': 7}, {'row': 19, 'col': 24, 'val': 9}, {'row': 19, 'col': 25, 'val': 6}, {'row': 19, 'col': 26, 'val': 7}, {'row': 19, 'col': 27, 'val': 6}, {'row': 19, 'col': 28, 'val': 1}, {'row': 19, 'col': 29, 'val': 9}, {'row': 20, 'col': 0, 'val': 7}, {'row': 20, 'col': 1, 'val': 5}, {'row': 20, 'col': 2, 'val': 4}, {'row': 20, 'col': 3, 'val': 1}, {'row': 20, 'col': 4, 'val': 1}, {'row': 20, 'col': 5, 'val': 3}, {'row': 20, 'col': 6, 'val': 4}, {'row': 20, 'col': 7, 'val': 1}, {'row': 20, 'col': 8, 'val': 2}, {'row': 20, 'col': 9, 'val': 1}, {'row': 20, 'col': 10, 'val': 1}, {'row': 20, 'col': 11, 'val': 1}, {'row': 20, 'col': 12, 'val': 5}, {'row': 20, 'col': 13, 'val': 5}, {'row': 20, 'col': 14, 'val': 2}, {'row': 20, 'col': 15, 'val': 5}, {'row': 20, 'col': 16, 'val': 5}, {'row': 20, 'col': 17, 'val': 2}, {'row': 20, 'col': 18, 'val': 5}, {'row': 20, 'col': 19, 'val': 5}, {'row': 20, 'col': 20, 'val': 1}, {'row': 20, 'col': 21, 'val': 1}, {'row': 20, 'col': 22, 'val': 1}, {'row': 20, 'col': 23, 'val': 2}, {'row': 20, 'col': 24, 'val': 1}, {'row': 20, 'col': 25, 'val': 4}, {'row': 20, 'col': 26, 'val': 3}, {'row': 20, 'col': 27, 'val': 1}, {'row': 20, 'col': 28, 'val': 1}, {'row': 20, 'col': 29, 'val': 4}, {'row': 21, 'col': 0, 'val': 5}, {'row': 21, 'col': 1, 'val': 7}, {'row': 21, 'col': 2, 'val': 1}, {'row': 21, 'col': 3, 'val': 4}, {'row': 21, 'col': 4, 'val': 9}, {'row': 21, 'col': 5, 'val': 1}, {'row': 21, 'col': 6, 'val': 1}, {'row': 21, 'col': 7, 'val': 4}, {'row': 21, 'col': 8, 'val': 2}, {'row': 21, 'col': 9, 'val': 2}, {'row': 21, 'col': 10, 'val': 1}, {'row': 21, 'col': 11, 'val': 1}, {'row': 21, 'col': 12, 'val': 5}, {'row': 21, 'col': 13, 'val': 5}, {'row': 21, 'col': 14, 'val': 5}, {'row': 21, 'col': 15, 'val': 2}, {'row': 21, 'col': 16, 'val': 2}, {'row': 21, 'col': 17, 'val': 5}, {'row': 21, 'col': 18, 'val': 5}, {'row': 21, 'col': 19, 'val': 5}, {'row': 21, 'col': 20, 'val': 1}, {'row': 21, 'col': 21, 'val': 1}, {'row': 21, 'col': 22, 'val': 2}, {'row': 21, 'col': 23, 'val': 2}, {'row': 21, 'col': 24, 'val': 4}, {'row': 21, 'col': 25, 'val': 1}, {'row': 21, 'col': 26, 'val': 1}, {'row': 21, 'col': 27, 'val': 9}, {'row': 21, 'col': 28, 'val': 4}, {'row': 21, 'col': 29, 'val': 1}, {'row': 22, 'col': 0, 'val': 4}, {'row': 22, 'col': 1, 'val': 1}, {'row': 22, 'col': 2, 'val': 9}, {'row': 22, 'col': 3, 'val': 9}, {'row': 22, 'col': 4, 'val': 4}, {'row': 22, 'col': 5, 'val': 3}, {'row': 22, 'col': 6, 'val': 1}, {'row': 22, 'col': 7, 'val': 3}, {'row': 22, 'col': 8, 'val': 1}, {'row': 22, 'col': 9, 'val': 1}, {'row': 22, 'col': 10, 'val': 1}, {'row': 22, 'col': 11, 'val': 6}, {'row': 22, 'col': 12, 'val': 2}, {'row': 22, 'col': 13, 'val': 5}, {'row': 22, 'col': 14, 'val': 5}, {'row': 22, 'col': 15, 'val': 5}, {'row': 22, 'col': 16, 'val': 5}, {'row': 22, 'col': 17, 'val': 5}, {'row': 22, 'col': 18, 'val': 5}, {'row': 22, 'col': 19, 'val': 2}, {'row': 22, 'col': 20, 'val': 6}, {'row': 22, 'col': 21, 'val': 1}, {'row': 22, 'col': 22, 'val': 1}, {'row': 22, 'col': 23, 'val': 1}, {'row': 22, 'col': 24, 'val': 3}, {'row': 22, 'col': 25, 'val': 1}, {'row': 22, 'col': 26, 'val': 3}, {'row': 22, 'col': 27, 'val': 4}, {'row': 22, 'col': 28, 'val': 9}, {'row': 22, 'col': 29, 'val': 9}, {'row': 23, 'col': 0, 'val': 1}, {'row': 23, 'col': 1, 'val': 4}, {'row': 23, 'col': 2, 'val': 9}, {'row': 23, 'col': 3, 'val': 9}, {'row': 23, 'col': 4, 'val': 3}, {'row': 23, 'col': 5, 'val': 9}, {'row': 23, 'col': 6, 'val': 9}, {'row': 23, 'col': 7, 'val': 1}, {'row': 23, 'col': 8, 'val': 1}, {'row': 23, 'col': 9, 'val': 1}, {'row': 23, 'col': 10, 'val': 6}, {'row': 23, 'col': 11, 'val': 1}, {'row': 23, 'col': 12, 'val': 5}, {'row': 23, 'col': 13, 'val': 2}, {'row': 23, 'col': 14, 'val': 5}, {'row': 23, 'col': 15, 'val': 5}, {'row': 23, 'col': 16, 'val': 5}, {'row': 23, 'col': 17, 'val': 5}, {'row': 23, 'col': 18, 'val': 2}, {'row': 23, 'col': 19, 'val': 5}, {'row': 23, 'col': 20, 'val': 1}, {'row': 23, 'col': 21, 'val': 6}, {'row': 23, 'col': 22, 'val': 1}, {'row': 23, 'col': 23, 'val': 1}, {'row': 23, 'col': 24, 'val': 1}, {'row': 23, 'col': 25, 'val': 9}, {'row': 23, 'col': 26, 'val': 9}, {'row': 23, 'col': 27, 'val': 3}, {'row': 23, 'col': 28, 'val': 9}, {'row': 23, 'col': 29, 'val': 9}, {'row': 24, 'col': 0, 'val': 7}, {'row': 24, 'col': 1, 'val': 6}, {'row': 24, 'col': 2, 'val': 6}, {'row': 24, 'col': 3, 'val': 6}, {'row': 24, 'col': 4, 'val': 9}, {'row': 24, 'col': 5, 'val': 6}, {'row': 24, 'col': 6, 'val': 1}, {'row': 24, 'col': 7, 'val': 3}, {'row': 24, 'col': 8, 'val': 1}, {'row': 24, 'col': 9, 'val': 3}, {'row': 24, 'col': 10, 'val': 4}, {'row': 24, 'col': 11, 'val': 1}, {'row': 24, 'col': 12, 'val': 9}, {'row': 24, 'col': 13, 'val': 6}, {'row': 24, 'col': 14, 'val': 7}, {'row': 24, 'col': 15, 'val': 6}, {'row': 24, 'col': 16, 'val': 6}, {'row': 24, 'col': 17, 'val': 7}, {'row': 24, 'col': 18, 'val': 6}, {'row': 24, 'col': 19, 'val': 9}, {'row': 24, 'col': 20, 'val': 1}, {'row': 24, 'col': 21, 'val': 4}, {'row': 24, 'col': 22, 'val': 3}, {'row': 24, 'col': 23, 'val': 1}, {'row': 24, 'col': 24, 'val': 3}, {'row': 24, 'col': 25, 'val': 1}, {'row': 24, 'col': 26, 'val': 6}, {'row': 24, 'col': 27, 'val': 9}, {'row': 24, 'col': 28, 'val': 6}, {'row': 24, 'col': 29, 'val': 6}, {'row': 25, 'col': 0, 'val': 6}, {'row': 25, 'col': 1, 'val': 7}, {'row': 25, 'col': 2, 'val': 6}, {'row': 25, 'col': 3, 'val': 6}, {'row': 25, 'col': 4, 'val': 1}, {'row': 25, 'col': 5, 'val': 9}, {'row': 25, 'col': 6, 'val': 3}, {'row': 25, 'col': 7, 'val': 1}, {'row': 25, 'col': 8, 'val': 9}, {'row': 25, 'col': 9, 'val': 1}, {'row': 25, 'col': 10, 'val': 1}, {'row': 25, 'col': 11, 'val': 4}, {'row': 25, 'col': 12, 'val': 6}, {'row': 25, 'col': 13, 'val': 9}, {'row': 25, 'col': 14, 'val': 6}, {'row': 25, 'col': 15, 'val': 7}, {'row': 25, 'col': 16, 'val': 7}, {'row': 25, 'col': 17, 'val': 6}, {'row': 25, 'col': 18, 'val': 9}, {'row': 25, 'col': 19, 'val': 6}, {'row': 25, 'col': 20, 'val': 4}, {'row': 25, 'col': 21, 'val': 1}, {'row': 25, 'col': 22, 'val': 1}, {'row': 25, 'col': 23, 'val': 9}, {'row': 25, 'col': 24, 'val': 1}, {'row': 25, 'col': 25, 'val': 3}, {'row': 25, 'col': 26, 'val': 9}, {'row': 25, 'col': 27, 'val': 1}, {'row': 25, 'col': 28, 'val': 6}, {'row': 25, 'col': 29, 'val': 6}, {'row': 26, 'col': 0, 'val': 6}, {'row': 26, 'col': 1, 'val': 6}, {'row': 26, 'col': 2, 'val': 7}, {'row': 26, 'col': 3, 'val': 6}, {'row': 26, 'col': 4, 'val': 1}, {'row': 26, 'col': 5, 'val': 3}, {'row': 26, 'col': 6, 'val': 9}, {'row': 26, 'col': 7, 'val': 1}, {'row': 26, 'col': 8, 'val': 9}, {'row': 26, 'col': 9, 'val': 3}, {'row': 26, 'col': 10, 'val': 1}, {'row': 26, 'col': 11, 'val': 3}, {'row': 26, 'col': 12, 'val': 7}, {'row': 26, 'col': 13, 'val': 6}, {'row': 26, 'col': 14, 'val': 5}, {'row': 26, 'col': 15, 'val': 2}, {'row': 26, 'col': 16, 'val': 2}, {'row': 26, 'col': 17, 'val': 5}, {'row': 26, 'col': 18, 'val': 6}, {'row': 26, 'col': 19, 'val': 7}, {'row': 26, 'col': 20, 'val': 3}, {'row': 26, 'col': 21, 'val': 1}, {'row': 26, 'col': 22, 'val': 3}, {'row': 26, 'col': 23, 'val': 9}, {'row': 26, 'col': 24, 'val': 1}, {'row': 26, 'col': 25, 'val': 9}, {'row': 26, 'col': 26, 'val': 3}, {'row': 26, 'col': 27, 'val': 1}, {'row': 26, 'col': 28, 'val': 6}, {'row': 26, 'col': 29, 'val': 7}, {'row': 27, 'col': 0, 'val': 6}, {'row': 27, 'col': 1, 'val': 6}, {'row': 27, 'col': 2, 'val': 6}, {'row': 27, 'col': 3, 'val': 7}, {'row': 27, 'col': 4, 'val': 3}, {'row': 27, 'col': 5, 'val': 1}, {'row': 27, 'col': 6, 'val': 5}, {'row': 27, 'col': 7, 'val': 9}, {'row': 27, 'col': 8, 'val': 3}, {'row': 27, 'col': 9, 'val': 4}, {'row': 27, 'col': 10, 'val': 9}, {'row': 27, 'col': 11, 'val': 1}, {'row': 27, 'col': 12, 'val': 6}, {'row': 27, 'col': 13, 'val': 7}, {'row': 27, 'col': 14, 'val': 2}, {'row': 27, 'col': 15, 'val': 5}, {'row': 27, 'col': 16, 'val': 5}, {'row': 27, 'col': 17, 'val': 2}, {'row': 27, 'col': 18, 'val': 7}, {'row': 27, 'col': 19, 'val': 6}, {'row': 27, 'col': 20, 'val': 1}, {'row': 27, 'col': 21, 'val': 9}, {'row': 27, 'col': 22, 'val': 4}, {'row': 27, 'col': 23, 'val': 3}, {'row': 27, 'col': 24, 'val': 9}, {'row': 27, 'col': 25, 'val': 5}, {'row': 27, 'col': 26, 'val': 1}, {'row': 27, 'col': 27, 'val': 3}, {'row': 27, 'col': 28, 'val': 7}, {'row': 27, 'col': 29, 'val': 6}, {'row': 28, 'col': 0, 'val': 9}, {'row': 28, 'col': 1, 'val': 1}, {'row': 28, 'col': 2, 'val': 1}, {'row': 28, 'col': 3, 'val': 3}, {'row': 28, 'col': 4, 'val': 1}, {'row': 28, 'col': 5, 'val': 7}, {'row': 28, 'col': 6, 'val': 6}, {'row': 28, 'col': 7, 'val': 5}, {'row': 28, 'col': 8, 'val': 9}, {'row': 28, 'col': 9, 'val': 9}, {'row': 28, 'col': 10, 'val': 4}, {'row': 28, 'col': 11, 'val': 1}, {'row': 28, 'col': 12, 'val': 1}, {'row': 28, 'col': 13, 'val': 3}, {'row': 28, 'col': 14, 'val': 4}, {'row': 28, 'col': 15, 'val': 1}, {'row': 28, 'col': 16, 'val': 1}, {'row': 28, 'col': 17, 'val': 4}, {'row': 28, 'col': 18, 'val': 3}, {'row': 28, 'col': 19, 'val': 1}, {'row': 28, 'col': 20, 'val': 1}, {'row': 28, 'col': 21, 'val': 4}, {'row': 28, 'col': 22, 'val': 9}, {'row': 28, 'col': 23, 'val': 9}, {'row': 28, 'col': 24, 'val': 5}, {'row': 28, 'col': 25, 'val': 6}, {'row': 28, 'col': 26, 'val': 7}, {'row': 28, 'col': 27, 'val': 1}, {'row': 28, 'col': 28, 'val': 3}, {'row': 28, 'col': 29, 'val': 1}, {'row': 29, 'col': 0, 'val': 6}, {'row': 29, 'col': 1, 'val': 9}, {'row': 29, 'col': 2, 'val': 3}, {'row': 29, 'col': 3, 'val': 1}, {'row': 29, 'col': 4, 'val': 7}, {'row': 29, 'col': 5, 'val': 1}, {'row': 29, 'col': 6, 'val': 5}, {'row': 29, 'col': 7, 'val': 6}, {'row': 29, 'col': 8, 'val': 9}, {'row': 29, 'col': 9, 'val': 9}, {'row': 29, 'col': 10, 'val': 1}, {'row': 29, 'col': 11, 'val': 4}, {'row': 29, 'col': 12, 'val': 9}, {'row': 29, 'col': 13, 'val': 1}, {'row': 29, 'col': 14, 'val': 1}, {'row': 29, 'col': 15, 'val': 4}, {'row': 29, 'col': 16, 'val': 4}, {'row': 29, 'col': 17, 'val': 1}, {'row': 29, 'col': 18, 'val': 1}, {'row': 29, 'col': 19, 'val': 9}, {'row': 29, 'col': 20, 'val': 4}, {'row': 29, 'col': 21, 'val': 1}, {'row': 29, 'col': 22, 'val': 9}, {'row': 29, 'col': 23, 'val': 9}, {'row': 29, 'col': 24, 'val': 6}, {'row': 29, 'col': 25, 'val': 5}, {'row': 29, 'col': 26, 'val': 1}, {'row': 29, 'col': 27, 'val': 7}, {'row': 29, 'col': 28, 'val': 1}, {'row': 29, 'col': 29, 'val': 3}]\n",
      "Train Output 1: [{'row': 0, 'col': 0, 'val': 6}, {'row': 0, 'col': 1, 'val': 9}, {'row': 0, 'col': 2, 'val': 6}, {'row': 0, 'col': 3, 'val': 6}, {'row': 1, 'col': 0, 'val': 9}, {'row': 1, 'col': 1, 'val': 3}, {'row': 1, 'col': 2, 'val': 9}, {'row': 1, 'col': 3, 'val': 9}, {'row': 2, 'col': 0, 'val': 3}, {'row': 2, 'col': 1, 'val': 4}, {'row': 2, 'col': 2, 'val': 9}, {'row': 2, 'col': 3, 'val': 9}, {'row': 3, 'col': 0, 'val': 1}, {'row': 3, 'col': 1, 'val': 9}, {'row': 3, 'col': 2, 'val': 4}, {'row': 3, 'col': 3, 'val': 1}]\n",
      "\n",
      "Train Input 2: [{'row': 0, 'col': 0, 'val': 9}, {'row': 0, 'col': 1, 'val': 9}, {'row': 0, 'col': 2, 'val': 2}, {'row': 0, 'col': 3, 'val': 3}, {'row': 0, 'col': 4, 'val': 4}, {'row': 0, 'col': 5, 'val': 4}, {'row': 0, 'col': 6, 'val': 7}, {'row': 0, 'col': 7, 'val': 5}, {'row': 0, 'col': 8, 'val': 3}, {'row': 0, 'col': 9, 'val': 3}, {'row': 0, 'col': 10, 'val': 6}, {'row': 0, 'col': 11, 'val': 6}, {'row': 0, 'col': 12, 'val': 3}, {'row': 0, 'col': 13, 'val': 5}, {'row': 0, 'col': 14, 'val': 6}, {'row': 0, 'col': 15, 'val': 4}, {'row': 0, 'col': 16, 'val': 4}, {'row': 0, 'col': 17, 'val': 6}, {'row': 0, 'col': 18, 'val': 5}, {'row': 0, 'col': 19, 'val': 3}, {'row': 0, 'col': 20, 'val': 6}, {'row': 0, 'col': 21, 'val': 6}, {'row': 0, 'col': 22, 'val': 3}, {'row': 0, 'col': 23, 'val': 3}, {'row': 0, 'col': 24, 'val': 5}, {'row': 0, 'col': 25, 'val': 7}, {'row': 0, 'col': 26, 'val': 4}, {'row': 0, 'col': 27, 'val': 4}, {'row': 0, 'col': 28, 'val': 3}, {'row': 0, 'col': 29, 'val': 2}, {'row': 1, 'col': 0, 'val': 7}, {'row': 1, 'col': 1, 'val': 9}, {'row': 1, 'col': 2, 'val': 3}, {'row': 1, 'col': 3, 'val': 5}, {'row': 1, 'col': 4, 'val': 4}, {'row': 1, 'col': 5, 'val': 4}, {'row': 1, 'col': 6, 'val': 5}, {'row': 1, 'col': 7, 'val': 7}, {'row': 1, 'col': 8, 'val': 3}, {'row': 1, 'col': 9, 'val': 3}, {'row': 1, 'col': 10, 'val': 6}, {'row': 1, 'col': 11, 'val': 6}, {'row': 1, 'col': 12, 'val': 6}, {'row': 1, 'col': 13, 'val': 3}, {'row': 1, 'col': 14, 'val': 4}, {'row': 1, 'col': 15, 'val': 6}, {'row': 1, 'col': 16, 'val': 6}, {'row': 1, 'col': 17, 'val': 4}, {'row': 1, 'col': 18, 'val': 3}, {'row': 1, 'col': 19, 'val': 6}, {'row': 1, 'col': 20, 'val': 6}, {'row': 1, 'col': 21, 'val': 6}, {'row': 1, 'col': 22, 'val': 3}, {'row': 1, 'col': 23, 'val': 3}, {'row': 1, 'col': 24, 'val': 7}, {'row': 1, 'col': 25, 'val': 5}, {'row': 1, 'col': 26, 'val': 4}, {'row': 1, 'col': 27, 'val': 4}, {'row': 1, 'col': 28, 'val': 5}, {'row': 1, 'col': 29, 'val': 3}, {'row': 2, 'col': 0, 'val': 3}, {'row': 2, 'col': 1, 'val': 2}, {'row': 2, 'col': 2, 'val': 9}, {'row': 2, 'col': 3, 'val': 9}, {'row': 2, 'col': 4, 'val': 7}, {'row': 2, 'col': 5, 'val': 5}, {'row': 2, 'col': 6, 'val': 4}, {'row': 2, 'col': 7, 'val': 4}, {'row': 2, 'col': 8, 'val': 4}, {'row': 2, 'col': 9, 'val': 1}, {'row': 2, 'col': 10, 'val': 3}, {'row': 2, 'col': 11, 'val': 3}, {'row': 2, 'col': 12, 'val': 6}, {'row': 2, 'col': 13, 'val': 4}, {'row': 2, 'col': 14, 'val': 4}, {'row': 2, 'col': 15, 'val': 7}, {'row': 2, 'col': 16, 'val': 7}, {'row': 2, 'col': 17, 'val': 4}, {'row': 2, 'col': 18, 'val': 4}, {'row': 2, 'col': 19, 'val': 6}, {'row': 2, 'col': 20, 'val': 3}, {'row': 2, 'col': 21, 'val': 8}, {'row': 2, 'col': 22, 'val': 8}, {'row': 2, 'col': 23, 'val': 8}, {'row': 2, 'col': 24, 'val': 8}, {'row': 2, 'col': 25, 'val': 8}, {'row': 2, 'col': 26, 'val': 5}, {'row': 2, 'col': 27, 'val': 7}, {'row': 2, 'col': 28, 'val': 9}, {'row': 2, 'col': 29, 'val': 9}, {'row': 3, 'col': 0, 'val': 2}, {'row': 3, 'col': 1, 'val': 3}, {'row': 3, 'col': 2, 'val': 7}, {'row': 3, 'col': 3, 'val': 9}, {'row': 3, 'col': 4, 'val': 5}, {'row': 3, 'col': 5, 'val': 7}, {'row': 3, 'col': 6, 'val': 4}, {'row': 3, 'col': 7, 'val': 4}, {'row': 3, 'col': 8, 'val': 1}, {'row': 3, 'col': 9, 'val': 4}, {'row': 3, 'col': 10, 'val': 3}, {'row': 3, 'col': 11, 'val': 3}, {'row': 3, 'col': 12, 'val': 4}, {'row': 3, 'col': 13, 'val': 6}, {'row': 3, 'col': 14, 'val': 7}, {'row': 3, 'col': 15, 'val': 4}, {'row': 3, 'col': 16, 'val': 4}, {'row': 3, 'col': 17, 'val': 7}, {'row': 3, 'col': 18, 'val': 6}, {'row': 3, 'col': 19, 'val': 4}, {'row': 3, 'col': 20, 'val': 3}, {'row': 3, 'col': 21, 'val': 8}, {'row': 3, 'col': 22, 'val': 8}, {'row': 3, 'col': 23, 'val': 8}, {'row': 3, 'col': 24, 'val': 8}, {'row': 3, 'col': 25, 'val': 8}, {'row': 3, 'col': 26, 'val': 7}, {'row': 3, 'col': 27, 'val': 5}, {'row': 3, 'col': 28, 'val': 9}, {'row': 3, 'col': 29, 'val': 7}, {'row': 4, 'col': 0, 'val': 7}, {'row': 4, 'col': 1, 'val': 7}, {'row': 4, 'col': 2, 'val': 9}, {'row': 4, 'col': 3, 'val': 3}, {'row': 4, 'col': 4, 'val': 9}, {'row': 4, 'col': 5, 'val': 9}, {'row': 4, 'col': 6, 'val': 5}, {'row': 4, 'col': 7, 'val': 3}, {'row': 4, 'col': 8, 'val': 3}, {'row': 4, 'col': 9, 'val': 6}, {'row': 4, 'col': 10, 'val': 6}, {'row': 4, 'col': 11, 'val': 4}, {'row': 4, 'col': 12, 'val': 6}, {'row': 4, 'col': 13, 'val': 7}, {'row': 4, 'col': 14, 'val': 9}, {'row': 4, 'col': 15, 'val': 9}, {'row': 4, 'col': 16, 'val': 9}, {'row': 4, 'col': 17, 'val': 9}, {'row': 4, 'col': 18, 'val': 7}, {'row': 4, 'col': 19, 'val': 6}, {'row': 4, 'col': 20, 'val': 4}, {'row': 4, 'col': 21, 'val': 8}, {'row': 4, 'col': 22, 'val': 8}, {'row': 4, 'col': 23, 'val': 8}, {'row': 4, 'col': 24, 'val': 8}, {'row': 4, 'col': 25, 'val': 8}, {'row': 4, 'col': 26, 'val': 9}, {'row': 4, 'col': 27, 'val': 9}, {'row': 4, 'col': 28, 'val': 3}, {'row': 4, 'col': 29, 'val': 9}, {'row': 5, 'col': 0, 'val': 7}, {'row': 5, 'col': 1, 'val': 7}, {'row': 5, 'col': 2, 'val': 3}, {'row': 5, 'col': 3, 'val': 9}, {'row': 5, 'col': 4, 'val': 7}, {'row': 5, 'col': 5, 'val': 9}, {'row': 5, 'col': 6, 'val': 3}, {'row': 5, 'col': 7, 'val': 2}, {'row': 5, 'col': 8, 'val': 5}, {'row': 5, 'col': 9, 'val': 3}, {'row': 5, 'col': 10, 'val': 4}, {'row': 5, 'col': 11, 'val': 6}, {'row': 5, 'col': 12, 'val': 2}, {'row': 5, 'col': 13, 'val': 6}, {'row': 5, 'col': 14, 'val': 9}, {'row': 5, 'col': 15, 'val': 9}, {'row': 5, 'col': 16, 'val': 9}, {'row': 5, 'col': 17, 'val': 9}, {'row': 5, 'col': 18, 'val': 6}, {'row': 5, 'col': 19, 'val': 2}, {'row': 5, 'col': 20, 'val': 6}, {'row': 5, 'col': 21, 'val': 8}, {'row': 5, 'col': 22, 'val': 8}, {'row': 5, 'col': 23, 'val': 8}, {'row': 5, 'col': 24, 'val': 8}, {'row': 5, 'col': 25, 'val': 8}, {'row': 5, 'col': 26, 'val': 9}, {'row': 5, 'col': 27, 'val': 7}, {'row': 5, 'col': 28, 'val': 9}, {'row': 5, 'col': 29, 'val': 3}, {'row': 6, 'col': 0, 'val': 9}, {'row': 6, 'col': 1, 'val': 3}, {'row': 6, 'col': 2, 'val': 7}, {'row': 6, 'col': 3, 'val': 7}, {'row': 6, 'col': 4, 'val': 3}, {'row': 6, 'col': 5, 'val': 2}, {'row': 6, 'col': 6, 'val': 9}, {'row': 6, 'col': 7, 'val': 9}, {'row': 6, 'col': 8, 'val': 6}, {'row': 6, 'col': 9, 'val': 4}, {'row': 6, 'col': 10, 'val': 4}, {'row': 6, 'col': 11, 'val': 7}, {'row': 6, 'col': 12, 'val': 9}, {'row': 6, 'col': 13, 'val': 2}, {'row': 6, 'col': 14, 'val': 6}, {'row': 6, 'col': 15, 'val': 7}, {'row': 6, 'col': 16, 'val': 7}, {'row': 6, 'col': 17, 'val': 6}, {'row': 6, 'col': 18, 'val': 2}, {'row': 6, 'col': 19, 'val': 9}, {'row': 6, 'col': 20, 'val': 7}, {'row': 6, 'col': 21, 'val': 4}, {'row': 6, 'col': 22, 'val': 4}, {'row': 6, 'col': 23, 'val': 6}, {'row': 6, 'col': 24, 'val': 9}, {'row': 6, 'col': 25, 'val': 9}, {'row': 6, 'col': 26, 'val': 2}, {'row': 6, 'col': 27, 'val': 3}, {'row': 6, 'col': 28, 'val': 7}, {'row': 6, 'col': 29, 'val': 7}, {'row': 7, 'col': 0, 'val': 3}, {'row': 7, 'col': 1, 'val': 9}, {'row': 7, 'col': 2, 'val': 7}, {'row': 7, 'col': 3, 'val': 7}, {'row': 7, 'col': 4, 'val': 2}, {'row': 7, 'col': 5, 'val': 3}, {'row': 7, 'col': 6, 'val': 7}, {'row': 7, 'col': 7, 'val': 9}, {'row': 7, 'col': 8, 'val': 4}, {'row': 7, 'col': 9, 'val': 6}, {'row': 7, 'col': 10, 'val': 7}, {'row': 7, 'col': 11, 'val': 4}, {'row': 7, 'col': 12, 'val': 2}, {'row': 7, 'col': 13, 'val': 9}, {'row': 7, 'col': 14, 'val': 2}, {'row': 7, 'col': 15, 'val': 6}, {'row': 7, 'col': 16, 'val': 6}, {'row': 7, 'col': 17, 'val': 2}, {'row': 7, 'col': 18, 'val': 9}, {'row': 7, 'col': 19, 'val': 2}, {'row': 7, 'col': 20, 'val': 4}, {'row': 7, 'col': 21, 'val': 7}, {'row': 7, 'col': 22, 'val': 6}, {'row': 7, 'col': 23, 'val': 4}, {'row': 7, 'col': 24, 'val': 9}, {'row': 7, 'col': 25, 'val': 7}, {'row': 7, 'col': 26, 'val': 3}, {'row': 7, 'col': 27, 'val': 2}, {'row': 7, 'col': 28, 'val': 7}, {'row': 7, 'col': 29, 'val': 7}, {'row': 8, 'col': 0, 'val': 3}, {'row': 8, 'col': 1, 'val': 3}, {'row': 8, 'col': 2, 'val': 4}, {'row': 8, 'col': 3, 'val': 1}, {'row': 8, 'col': 4, 'val': 3}, {'row': 8, 'col': 5, 'val': 5}, {'row': 8, 'col': 6, 'val': 6}, {'row': 8, 'col': 7, 'val': 4}, {'row': 8, 'col': 8, 'val': 2}, {'row': 8, 'col': 9, 'val': 4}, {'row': 8, 'col': 10, 'val': 7}, {'row': 8, 'col': 11, 'val': 7}, {'row': 8, 'col': 12, 'val': 1}, {'row': 8, 'col': 13, 'val': 6}, {'row': 8, 'col': 14, 'val': 7}, {'row': 8, 'col': 15, 'val': 2}, {'row': 8, 'col': 16, 'val': 2}, {'row': 8, 'col': 17, 'val': 7}, {'row': 8, 'col': 18, 'val': 6}, {'row': 8, 'col': 19, 'val': 1}, {'row': 8, 'col': 20, 'val': 7}, {'row': 8, 'col': 21, 'val': 7}, {'row': 8, 'col': 22, 'val': 4}, {'row': 8, 'col': 23, 'val': 2}, {'row': 8, 'col': 24, 'val': 4}, {'row': 8, 'col': 25, 'val': 6}, {'row': 8, 'col': 26, 'val': 5}, {'row': 8, 'col': 27, 'val': 3}, {'row': 8, 'col': 28, 'val': 1}, {'row': 8, 'col': 29, 'val': 4}, {'row': 9, 'col': 0, 'val': 3}, {'row': 9, 'col': 1, 'val': 3}, {'row': 9, 'col': 2, 'val': 1}, {'row': 9, 'col': 3, 'val': 4}, {'row': 9, 'col': 4, 'val': 6}, {'row': 9, 'col': 5, 'val': 3}, {'row': 9, 'col': 6, 'val': 4}, {'row': 9, 'col': 7, 'val': 6}, {'row': 9, 'col': 8, 'val': 2}, {'row': 9, 'col': 9, 'val': 2}, {'row': 9, 'col': 10, 'val': 7}, {'row': 9, 'col': 11, 'val': 1}, {'row': 9, 'col': 12, 'val': 6}, {'row': 9, 'col': 13, 'val': 1}, {'row': 9, 'col': 14, 'val': 2}, {'row': 9, 'col': 15, 'val': 7}, {'row': 9, 'col': 16, 'val': 7}, {'row': 9, 'col': 17, 'val': 2}, {'row': 9, 'col': 18, 'val': 1}, {'row': 9, 'col': 19, 'val': 6}, {'row': 9, 'col': 20, 'val': 1}, {'row': 9, 'col': 21, 'val': 7}, {'row': 9, 'col': 22, 'val': 2}, {'row': 9, 'col': 23, 'val': 2}, {'row': 9, 'col': 24, 'val': 6}, {'row': 9, 'col': 25, 'val': 4}, {'row': 9, 'col': 26, 'val': 3}, {'row': 9, 'col': 27, 'val': 6}, {'row': 9, 'col': 28, 'val': 4}, {'row': 9, 'col': 29, 'val': 1}, {'row': 10, 'col': 0, 'val': 6}, {'row': 10, 'col': 1, 'val': 6}, {'row': 10, 'col': 2, 'val': 3}, {'row': 10, 'col': 3, 'val': 3}, {'row': 10, 'col': 4, 'val': 6}, {'row': 10, 'col': 5, 'val': 4}, {'row': 10, 'col': 6, 'val': 4}, {'row': 10, 'col': 7, 'val': 7}, {'row': 10, 'col': 8, 'val': 1}, {'row': 10, 'col': 9, 'val': 1}, {'row': 10, 'col': 10, 'val': 2}, {'row': 10, 'col': 11, 'val': 4}, {'row': 10, 'col': 12, 'val': 7}, {'row': 10, 'col': 13, 'val': 2}, {'row': 10, 'col': 14, 'val': 1}, {'row': 10, 'col': 15, 'val': 6}, {'row': 10, 'col': 16, 'val': 6}, {'row': 10, 'col': 17, 'val': 1}, {'row': 10, 'col': 18, 'val': 2}, {'row': 10, 'col': 19, 'val': 7}, {'row': 10, 'col': 20, 'val': 4}, {'row': 10, 'col': 21, 'val': 2}, {'row': 10, 'col': 22, 'val': 1}, {'row': 10, 'col': 23, 'val': 1}, {'row': 10, 'col': 24, 'val': 7}, {'row': 10, 'col': 25, 'val': 4}, {'row': 10, 'col': 26, 'val': 4}, {'row': 10, 'col': 27, 'val': 6}, {'row': 10, 'col': 28, 'val': 3}, {'row': 10, 'col': 29, 'val': 3}, {'row': 11, 'col': 0, 'val': 6}, {'row': 11, 'col': 1, 'val': 6}, {'row': 11, 'col': 2, 'val': 3}, {'row': 11, 'col': 3, 'val': 3}, {'row': 11, 'col': 4, 'val': 4}, {'row': 11, 'col': 5, 'val': 6}, {'row': 11, 'col': 6, 'val': 7}, {'row': 11, 'col': 7, 'val': 4}, {'row': 11, 'col': 8, 'val': 1}, {'row': 11, 'col': 9, 'val': 3}, {'row': 11, 'col': 10, 'val': 2}, {'row': 11, 'col': 11, 'val': 2}, {'row': 11, 'col': 12, 'val': 2}, {'row': 11, 'col': 13, 'val': 7}, {'row': 11, 'col': 14, 'val': 6}, {'row': 11, 'col': 15, 'val': 1}, {'row': 11, 'col': 16, 'val': 1}, {'row': 11, 'col': 17, 'val': 6}, {'row': 11, 'col': 18, 'val': 7}, {'row': 11, 'col': 19, 'val': 2}, {'row': 11, 'col': 20, 'val': 2}, {'row': 11, 'col': 21, 'val': 2}, {'row': 11, 'col': 22, 'val': 3}, {'row': 11, 'col': 23, 'val': 1}, {'row': 11, 'col': 24, 'val': 4}, {'row': 11, 'col': 25, 'val': 7}, {'row': 11, 'col': 26, 'val': 6}, {'row': 11, 'col': 27, 'val': 4}, {'row': 11, 'col': 28, 'val': 3}, {'row': 11, 'col': 29, 'val': 3}, {'row': 12, 'col': 0, 'val': 3}, {'row': 12, 'col': 1, 'val': 6}, {'row': 12, 'col': 2, 'val': 6}, {'row': 12, 'col': 3, 'val': 4}, {'row': 12, 'col': 4, 'val': 6}, {'row': 12, 'col': 5, 'val': 2}, {'row': 12, 'col': 6, 'val': 9}, {'row': 12, 'col': 7, 'val': 2}, {'row': 12, 'col': 8, 'val': 9}, {'row': 12, 'col': 9, 'val': 9}, {'row': 12, 'col': 10, 'val': 9}, {'row': 12, 'col': 11, 'val': 7}, {'row': 12, 'col': 12, 'val': 2}, {'row': 12, 'col': 13, 'val': 4}, {'row': 12, 'col': 14, 'val': 1}, {'row': 12, 'col': 15, 'val': 7}, {'row': 12, 'col': 16, 'val': 7}, {'row': 12, 'col': 17, 'val': 1}, {'row': 12, 'col': 18, 'val': 4}, {'row': 12, 'col': 19, 'val': 2}, {'row': 12, 'col': 20, 'val': 7}, {'row': 12, 'col': 21, 'val': 9}, {'row': 12, 'col': 22, 'val': 9}, {'row': 12, 'col': 23, 'val': 9}, {'row': 12, 'col': 24, 'val': 2}, {'row': 12, 'col': 25, 'val': 9}, {'row': 12, 'col': 26, 'val': 2}, {'row': 12, 'col': 27, 'val': 6}, {'row': 12, 'col': 28, 'val': 4}, {'row': 12, 'col': 29, 'val': 6}, {'row': 13, 'col': 0, 'val': 5}, {'row': 13, 'col': 1, 'val': 3}, {'row': 13, 'col': 2, 'val': 4}, {'row': 13, 'col': 3, 'val': 6}, {'row': 13, 'col': 4, 'val': 7}, {'row': 13, 'col': 5, 'val': 6}, {'row': 13, 'col': 6, 'val': 2}, {'row': 13, 'col': 7, 'val': 9}, {'row': 13, 'col': 8, 'val': 9}, {'row': 13, 'col': 9, 'val': 9}, {'row': 13, 'col': 10, 'val': 7}, {'row': 13, 'col': 11, 'val': 9}, {'row': 13, 'col': 12, 'val': 2}, {'row': 13, 'col': 13, 'val': 2}, {'row': 13, 'col': 14, 'val': 7}, {'row': 13, 'col': 15, 'val': 7}, {'row': 13, 'col': 16, 'val': 7}, {'row': 13, 'col': 17, 'val': 7}, {'row': 13, 'col': 18, 'val': 2}, {'row': 13, 'col': 19, 'val': 2}, {'row': 13, 'col': 20, 'val': 9}, {'row': 13, 'col': 21, 'val': 7}, {'row': 13, 'col': 22, 'val': 9}, {'row': 13, 'col': 23, 'val': 9}, {'row': 13, 'col': 24, 'val': 9}, {'row': 13, 'col': 25, 'val': 2}, {'row': 13, 'col': 26, 'val': 6}, {'row': 13, 'col': 27, 'val': 7}, {'row': 13, 'col': 28, 'val': 6}, {'row': 13, 'col': 29, 'val': 4}, {'row': 14, 'col': 0, 'val': 6}, {'row': 14, 'col': 1, 'val': 4}, {'row': 14, 'col': 2, 'val': 4}, {'row': 14, 'col': 3, 'val': 7}, {'row': 14, 'col': 4, 'val': 9}, {'row': 14, 'col': 5, 'val': 9}, {'row': 14, 'col': 6, 'val': 6}, {'row': 14, 'col': 7, 'val': 2}, {'row': 14, 'col': 8, 'val': 9}, {'row': 14, 'col': 9, 'val': 7}, {'row': 14, 'col': 10, 'val': 9}, {'row': 14, 'col': 11, 'val': 9}, {'row': 14, 'col': 12, 'val': 3}, {'row': 14, 'col': 13, 'val': 1}, {'row': 14, 'col': 14, 'val': 2}, {'row': 14, 'col': 15, 'val': 4}, {'row': 14, 'col': 16, 'val': 4}, {'row': 14, 'col': 17, 'val': 2}, {'row': 14, 'col': 18, 'val': 1}, {'row': 14, 'col': 19, 'val': 3}, {'row': 14, 'col': 20, 'val': 9}, {'row': 14, 'col': 21, 'val': 9}, {'row': 14, 'col': 22, 'val': 7}, {'row': 14, 'col': 23, 'val': 9}, {'row': 14, 'col': 24, 'val': 2}, {'row': 14, 'col': 25, 'val': 6}, {'row': 14, 'col': 26, 'val': 9}, {'row': 14, 'col': 27, 'val': 9}, {'row': 14, 'col': 28, 'val': 7}, {'row': 14, 'col': 29, 'val': 4}, {'row': 15, 'col': 0, 'val': 4}, {'row': 15, 'col': 1, 'val': 6}, {'row': 15, 'col': 2, 'val': 7}, {'row': 15, 'col': 3, 'val': 4}, {'row': 15, 'col': 4, 'val': 9}, {'row': 15, 'col': 5, 'val': 9}, {'row': 15, 'col': 6, 'val': 7}, {'row': 15, 'col': 7, 'val': 6}, {'row': 15, 'col': 8, 'val': 7}, {'row': 15, 'col': 9, 'val': 9}, {'row': 15, 'col': 10, 'val': 9}, {'row': 15, 'col': 11, 'val': 9}, {'row': 15, 'col': 12, 'val': 1}, {'row': 15, 'col': 13, 'val': 1}, {'row': 15, 'col': 14, 'val': 2}, {'row': 15, 'col': 15, 'val': 2}, {'row': 15, 'col': 16, 'val': 2}, {'row': 15, 'col': 17, 'val': 2}, {'row': 15, 'col': 18, 'val': 1}, {'row': 15, 'col': 19, 'val': 1}, {'row': 15, 'col': 20, 'val': 9}, {'row': 15, 'col': 21, 'val': 9}, {'row': 15, 'col': 22, 'val': 9}, {'row': 15, 'col': 23, 'val': 7}, {'row': 15, 'col': 24, 'val': 6}, {'row': 15, 'col': 25, 'val': 7}, {'row': 15, 'col': 26, 'val': 9}, {'row': 15, 'col': 27, 'val': 9}, {'row': 15, 'col': 28, 'val': 4}, {'row': 15, 'col': 29, 'val': 7}, {'row': 16, 'col': 0, 'val': 4}, {'row': 16, 'col': 1, 'val': 6}, {'row': 16, 'col': 2, 'val': 7}, {'row': 16, 'col': 3, 'val': 4}, {'row': 16, 'col': 4, 'val': 9}, {'row': 16, 'col': 5, 'val': 9}, {'row': 16, 'col': 6, 'val': 7}, {'row': 16, 'col': 7, 'val': 6}, {'row': 16, 'col': 8, 'val': 7}, {'row': 16, 'col': 9, 'val': 9}, {'row': 16, 'col': 10, 'val': 9}, {'row': 16, 'col': 11, 'val': 9}, {'row': 16, 'col': 12, 'val': 1}, {'row': 16, 'col': 13, 'val': 1}, {'row': 16, 'col': 14, 'val': 2}, {'row': 16, 'col': 15, 'val': 2}, {'row': 16, 'col': 16, 'val': 2}, {'row': 16, 'col': 17, 'val': 2}, {'row': 16, 'col': 18, 'val': 1}, {'row': 16, 'col': 19, 'val': 1}, {'row': 16, 'col': 20, 'val': 9}, {'row': 16, 'col': 21, 'val': 9}, {'row': 16, 'col': 22, 'val': 9}, {'row': 16, 'col': 23, 'val': 7}, {'row': 16, 'col': 24, 'val': 6}, {'row': 16, 'col': 25, 'val': 7}, {'row': 16, 'col': 26, 'val': 9}, {'row': 16, 'col': 27, 'val': 9}, {'row': 16, 'col': 28, 'val': 4}, {'row': 16, 'col': 29, 'val': 7}, {'row': 17, 'col': 0, 'val': 6}, {'row': 17, 'col': 1, 'val': 4}, {'row': 17, 'col': 2, 'val': 4}, {'row': 17, 'col': 3, 'val': 7}, {'row': 17, 'col': 4, 'val': 9}, {'row': 17, 'col': 5, 'val': 9}, {'row': 17, 'col': 6, 'val': 6}, {'row': 17, 'col': 7, 'val': 2}, {'row': 17, 'col': 8, 'val': 9}, {'row': 17, 'col': 9, 'val': 7}, {'row': 17, 'col': 10, 'val': 9}, {'row': 17, 'col': 11, 'val': 9}, {'row': 17, 'col': 12, 'val': 3}, {'row': 17, 'col': 13, 'val': 1}, {'row': 17, 'col': 14, 'val': 2}, {'row': 17, 'col': 15, 'val': 4}, {'row': 17, 'col': 16, 'val': 4}, {'row': 17, 'col': 17, 'val': 2}, {'row': 17, 'col': 18, 'val': 1}, {'row': 17, 'col': 19, 'val': 3}, {'row': 17, 'col': 20, 'val': 9}, {'row': 17, 'col': 21, 'val': 9}, {'row': 17, 'col': 22, 'val': 7}, {'row': 17, 'col': 23, 'val': 9}, {'row': 17, 'col': 24, 'val': 2}, {'row': 17, 'col': 25, 'val': 6}, {'row': 17, 'col': 26, 'val': 9}, {'row': 17, 'col': 27, 'val': 9}, {'row': 17, 'col': 28, 'val': 7}, {'row': 17, 'col': 29, 'val': 4}, {'row': 18, 'col': 0, 'val': 5}, {'row': 18, 'col': 1, 'val': 3}, {'row': 18, 'col': 2, 'val': 4}, {'row': 18, 'col': 3, 'val': 6}, {'row': 18, 'col': 4, 'val': 7}, {'row': 18, 'col': 5, 'val': 6}, {'row': 18, 'col': 6, 'val': 2}, {'row': 18, 'col': 7, 'val': 9}, {'row': 18, 'col': 8, 'val': 9}, {'row': 18, 'col': 9, 'val': 9}, {'row': 18, 'col': 10, 'val': 7}, {'row': 18, 'col': 11, 'val': 9}, {'row': 18, 'col': 12, 'val': 2}, {'row': 18, 'col': 13, 'val': 2}, {'row': 18, 'col': 14, 'val': 7}, {'row': 18, 'col': 15, 'val': 7}, {'row': 18, 'col': 16, 'val': 7}, {'row': 18, 'col': 17, 'val': 7}, {'row': 18, 'col': 18, 'val': 2}, {'row': 18, 'col': 19, 'val': 2}, {'row': 18, 'col': 20, 'val': 9}, {'row': 18, 'col': 21, 'val': 7}, {'row': 18, 'col': 22, 'val': 9}, {'row': 18, 'col': 23, 'val': 9}, {'row': 18, 'col': 24, 'val': 9}, {'row': 18, 'col': 25, 'val': 2}, {'row': 18, 'col': 26, 'val': 6}, {'row': 18, 'col': 27, 'val': 7}, {'row': 18, 'col': 28, 'val': 6}, {'row': 18, 'col': 29, 'val': 4}, {'row': 19, 'col': 0, 'val': 3}, {'row': 19, 'col': 1, 'val': 6}, {'row': 19, 'col': 2, 'val': 6}, {'row': 19, 'col': 3, 'val': 4}, {'row': 19, 'col': 4, 'val': 6}, {'row': 19, 'col': 5, 'val': 2}, {'row': 19, 'col': 6, 'val': 9}, {'row': 19, 'col': 7, 'val': 2}, {'row': 19, 'col': 8, 'val': 9}, {'row': 19, 'col': 9, 'val': 9}, {'row': 19, 'col': 10, 'val': 9}, {'row': 19, 'col': 11, 'val': 7}, {'row': 19, 'col': 12, 'val': 2}, {'row': 19, 'col': 13, 'val': 4}, {'row': 19, 'col': 14, 'val': 1}, {'row': 19, 'col': 15, 'val': 7}, {'row': 19, 'col': 16, 'val': 7}, {'row': 19, 'col': 17, 'val': 1}, {'row': 19, 'col': 18, 'val': 4}, {'row': 19, 'col': 19, 'val': 2}, {'row': 19, 'col': 20, 'val': 7}, {'row': 19, 'col': 21, 'val': 9}, {'row': 19, 'col': 22, 'val': 9}, {'row': 19, 'col': 23, 'val': 9}, {'row': 19, 'col': 24, 'val': 2}, {'row': 19, 'col': 25, 'val': 9}, {'row': 19, 'col': 26, 'val': 2}, {'row': 19, 'col': 27, 'val': 6}, {'row': 19, 'col': 28, 'val': 4}, {'row': 19, 'col': 29, 'val': 6}, {'row': 20, 'col': 0, 'val': 6}, {'row': 20, 'col': 1, 'val': 6}, {'row': 20, 'col': 2, 'val': 3}, {'row': 20, 'col': 3, 'val': 3}, {'row': 20, 'col': 4, 'val': 4}, {'row': 20, 'col': 5, 'val': 6}, {'row': 20, 'col': 6, 'val': 7}, {'row': 20, 'col': 7, 'val': 4}, {'row': 20, 'col': 8, 'val': 1}, {'row': 20, 'col': 9, 'val': 3}, {'row': 20, 'col': 10, 'val': 2}, {'row': 20, 'col': 11, 'val': 2}, {'row': 20, 'col': 12, 'val': 2}, {'row': 20, 'col': 13, 'val': 7}, {'row': 20, 'col': 14, 'val': 6}, {'row': 20, 'col': 15, 'val': 1}, {'row': 20, 'col': 16, 'val': 1}, {'row': 20, 'col': 17, 'val': 6}, {'row': 20, 'col': 18, 'val': 7}, {'row': 20, 'col': 19, 'val': 2}, {'row': 20, 'col': 20, 'val': 2}, {'row': 20, 'col': 21, 'val': 2}, {'row': 20, 'col': 22, 'val': 3}, {'row': 20, 'col': 23, 'val': 1}, {'row': 20, 'col': 24, 'val': 4}, {'row': 20, 'col': 25, 'val': 7}, {'row': 20, 'col': 26, 'val': 6}, {'row': 20, 'col': 27, 'val': 4}, {'row': 20, 'col': 28, 'val': 3}, {'row': 20, 'col': 29, 'val': 3}, {'row': 21, 'col': 0, 'val': 6}, {'row': 21, 'col': 1, 'val': 6}, {'row': 21, 'col': 2, 'val': 3}, {'row': 21, 'col': 3, 'val': 3}, {'row': 21, 'col': 4, 'val': 6}, {'row': 21, 'col': 5, 'val': 4}, {'row': 21, 'col': 6, 'val': 4}, {'row': 21, 'col': 7, 'val': 7}, {'row': 21, 'col': 8, 'val': 1}, {'row': 21, 'col': 9, 'val': 1}, {'row': 21, 'col': 10, 'val': 2}, {'row': 21, 'col': 11, 'val': 4}, {'row': 21, 'col': 12, 'val': 7}, {'row': 21, 'col': 13, 'val': 2}, {'row': 21, 'col': 14, 'val': 1}, {'row': 21, 'col': 15, 'val': 6}, {'row': 21, 'col': 16, 'val': 6}, {'row': 21, 'col': 17, 'val': 1}, {'row': 21, 'col': 18, 'val': 2}, {'row': 21, 'col': 19, 'val': 7}, {'row': 21, 'col': 20, 'val': 4}, {'row': 21, 'col': 21, 'val': 2}, {'row': 21, 'col': 22, 'val': 1}, {'row': 21, 'col': 23, 'val': 1}, {'row': 21, 'col': 24, 'val': 7}, {'row': 21, 'col': 25, 'val': 4}, {'row': 21, 'col': 26, 'val': 4}, {'row': 21, 'col': 27, 'val': 6}, {'row': 21, 'col': 28, 'val': 3}, {'row': 21, 'col': 29, 'val': 3}, {'row': 22, 'col': 0, 'val': 3}, {'row': 22, 'col': 1, 'val': 3}, {'row': 22, 'col': 2, 'val': 1}, {'row': 22, 'col': 3, 'val': 4}, {'row': 22, 'col': 4, 'val': 6}, {'row': 22, 'col': 5, 'val': 3}, {'row': 22, 'col': 6, 'val': 4}, {'row': 22, 'col': 7, 'val': 6}, {'row': 22, 'col': 8, 'val': 2}, {'row': 22, 'col': 9, 'val': 2}, {'row': 22, 'col': 10, 'val': 7}, {'row': 22, 'col': 11, 'val': 1}, {'row': 22, 'col': 12, 'val': 6}, {'row': 22, 'col': 13, 'val': 1}, {'row': 22, 'col': 14, 'val': 2}, {'row': 22, 'col': 15, 'val': 7}, {'row': 22, 'col': 16, 'val': 7}, {'row': 22, 'col': 17, 'val': 2}, {'row': 22, 'col': 18, 'val': 1}, {'row': 22, 'col': 19, 'val': 6}, {'row': 22, 'col': 20, 'val': 1}, {'row': 22, 'col': 21, 'val': 7}, {'row': 22, 'col': 22, 'val': 2}, {'row': 22, 'col': 23, 'val': 2}, {'row': 22, 'col': 24, 'val': 6}, {'row': 22, 'col': 25, 'val': 4}, {'row': 22, 'col': 26, 'val': 3}, {'row': 22, 'col': 27, 'val': 6}, {'row': 22, 'col': 28, 'val': 4}, {'row': 22, 'col': 29, 'val': 1}, {'row': 23, 'col': 0, 'val': 3}, {'row': 23, 'col': 1, 'val': 3}, {'row': 23, 'col': 2, 'val': 4}, {'row': 23, 'col': 3, 'val': 1}, {'row': 23, 'col': 4, 'val': 3}, {'row': 23, 'col': 5, 'val': 5}, {'row': 23, 'col': 6, 'val': 6}, {'row': 23, 'col': 7, 'val': 4}, {'row': 23, 'col': 8, 'val': 2}, {'row': 23, 'col': 9, 'val': 4}, {'row': 23, 'col': 10, 'val': 7}, {'row': 23, 'col': 11, 'val': 7}, {'row': 23, 'col': 12, 'val': 1}, {'row': 23, 'col': 13, 'val': 6}, {'row': 23, 'col': 14, 'val': 7}, {'row': 23, 'col': 15, 'val': 2}, {'row': 23, 'col': 16, 'val': 2}, {'row': 23, 'col': 17, 'val': 7}, {'row': 23, 'col': 18, 'val': 6}, {'row': 23, 'col': 19, 'val': 1}, {'row': 23, 'col': 20, 'val': 7}, {'row': 23, 'col': 21, 'val': 7}, {'row': 23, 'col': 22, 'val': 4}, {'row': 23, 'col': 23, 'val': 2}, {'row': 23, 'col': 24, 'val': 4}, {'row': 23, 'col': 25, 'val': 6}, {'row': 23, 'col': 26, 'val': 5}, {'row': 23, 'col': 27, 'val': 3}, {'row': 23, 'col': 28, 'val': 1}, {'row': 23, 'col': 29, 'val': 4}, {'row': 24, 'col': 0, 'val': 3}, {'row': 24, 'col': 1, 'val': 9}, {'row': 24, 'col': 2, 'val': 7}, {'row': 24, 'col': 3, 'val': 7}, {'row': 24, 'col': 4, 'val': 2}, {'row': 24, 'col': 5, 'val': 3}, {'row': 24, 'col': 6, 'val': 7}, {'row': 24, 'col': 7, 'val': 9}, {'row': 24, 'col': 8, 'val': 4}, {'row': 24, 'col': 9, 'val': 6}, {'row': 24, 'col': 10, 'val': 7}, {'row': 24, 'col': 11, 'val': 4}, {'row': 24, 'col': 12, 'val': 2}, {'row': 24, 'col': 13, 'val': 9}, {'row': 24, 'col': 14, 'val': 2}, {'row': 24, 'col': 15, 'val': 6}, {'row': 24, 'col': 16, 'val': 6}, {'row': 24, 'col': 17, 'val': 2}, {'row': 24, 'col': 18, 'val': 9}, {'row': 24, 'col': 19, 'val': 2}, {'row': 24, 'col': 20, 'val': 4}, {'row': 24, 'col': 21, 'val': 7}, {'row': 24, 'col': 22, 'val': 6}, {'row': 24, 'col': 23, 'val': 4}, {'row': 24, 'col': 24, 'val': 9}, {'row': 24, 'col': 25, 'val': 7}, {'row': 24, 'col': 26, 'val': 3}, {'row': 24, 'col': 27, 'val': 2}, {'row': 24, 'col': 28, 'val': 7}, {'row': 24, 'col': 29, 'val': 7}, {'row': 25, 'col': 0, 'val': 9}, {'row': 25, 'col': 1, 'val': 3}, {'row': 25, 'col': 2, 'val': 7}, {'row': 25, 'col': 3, 'val': 7}, {'row': 25, 'col': 4, 'val': 3}, {'row': 25, 'col': 5, 'val': 2}, {'row': 25, 'col': 6, 'val': 9}, {'row': 25, 'col': 7, 'val': 9}, {'row': 25, 'col': 8, 'val': 6}, {'row': 25, 'col': 9, 'val': 4}, {'row': 25, 'col': 10, 'val': 4}, {'row': 25, 'col': 11, 'val': 7}, {'row': 25, 'col': 12, 'val': 9}, {'row': 25, 'col': 13, 'val': 2}, {'row': 25, 'col': 14, 'val': 6}, {'row': 25, 'col': 15, 'val': 7}, {'row': 25, 'col': 16, 'val': 7}, {'row': 25, 'col': 17, 'val': 6}, {'row': 25, 'col': 18, 'val': 2}, {'row': 25, 'col': 19, 'val': 9}, {'row': 25, 'col': 20, 'val': 7}, {'row': 25, 'col': 21, 'val': 4}, {'row': 25, 'col': 22, 'val': 4}, {'row': 25, 'col': 23, 'val': 6}, {'row': 25, 'col': 24, 'val': 9}, {'row': 25, 'col': 25, 'val': 9}, {'row': 25, 'col': 26, 'val': 2}, {'row': 25, 'col': 27, 'val': 3}, {'row': 25, 'col': 28, 'val': 7}, {'row': 25, 'col': 29, 'val': 7}, {'row': 26, 'col': 0, 'val': 7}, {'row': 26, 'col': 1, 'val': 7}, {'row': 26, 'col': 2, 'val': 3}, {'row': 26, 'col': 3, 'val': 9}, {'row': 26, 'col': 4, 'val': 7}, {'row': 26, 'col': 5, 'val': 9}, {'row': 26, 'col': 6, 'val': 3}, {'row': 26, 'col': 7, 'val': 2}, {'row': 26, 'col': 8, 'val': 5}, {'row': 26, 'col': 9, 'val': 3}, {'row': 26, 'col': 10, 'val': 4}, {'row': 26, 'col': 11, 'val': 6}, {'row': 26, 'col': 12, 'val': 2}, {'row': 26, 'col': 13, 'val': 6}, {'row': 26, 'col': 14, 'val': 9}, {'row': 26, 'col': 15, 'val': 9}, {'row': 26, 'col': 16, 'val': 9}, {'row': 26, 'col': 17, 'val': 9}, {'row': 26, 'col': 18, 'val': 6}, {'row': 26, 'col': 19, 'val': 2}, {'row': 26, 'col': 20, 'val': 6}, {'row': 26, 'col': 21, 'val': 4}, {'row': 26, 'col': 22, 'val': 3}, {'row': 26, 'col': 23, 'val': 5}, {'row': 26, 'col': 24, 'val': 2}, {'row': 26, 'col': 25, 'val': 3}, {'row': 26, 'col': 26, 'val': 9}, {'row': 26, 'col': 27, 'val': 7}, {'row': 26, 'col': 28, 'val': 9}, {'row': 26, 'col': 29, 'val': 3}, {'row': 27, 'col': 0, 'val': 7}, {'row': 27, 'col': 1, 'val': 7}, {'row': 27, 'col': 2, 'val': 9}, {'row': 27, 'col': 3, 'val': 3}, {'row': 27, 'col': 4, 'val': 9}, {'row': 27, 'col': 5, 'val': 9}, {'row': 27, 'col': 6, 'val': 5}, {'row': 27, 'col': 7, 'val': 3}, {'row': 27, 'col': 8, 'val': 3}, {'row': 27, 'col': 9, 'val': 6}, {'row': 27, 'col': 10, 'val': 6}, {'row': 27, 'col': 11, 'val': 4}, {'row': 27, 'col': 12, 'val': 6}, {'row': 27, 'col': 13, 'val': 7}, {'row': 27, 'col': 14, 'val': 9}, {'row': 27, 'col': 15, 'val': 9}, {'row': 27, 'col': 16, 'val': 9}, {'row': 27, 'col': 17, 'val': 9}, {'row': 27, 'col': 18, 'val': 7}, {'row': 27, 'col': 19, 'val': 6}, {'row': 27, 'col': 20, 'val': 4}, {'row': 27, 'col': 21, 'val': 6}, {'row': 27, 'col': 22, 'val': 6}, {'row': 27, 'col': 23, 'val': 3}, {'row': 27, 'col': 24, 'val': 3}, {'row': 27, 'col': 25, 'val': 5}, {'row': 27, 'col': 26, 'val': 9}, {'row': 27, 'col': 27, 'val': 9}, {'row': 27, 'col': 28, 'val': 3}, {'row': 27, 'col': 29, 'val': 9}, {'row': 28, 'col': 0, 'val': 2}, {'row': 28, 'col': 1, 'val': 3}, {'row': 28, 'col': 2, 'val': 7}, {'row': 28, 'col': 3, 'val': 9}, {'row': 28, 'col': 4, 'val': 5}, {'row': 28, 'col': 5, 'val': 7}, {'row': 28, 'col': 6, 'val': 4}, {'row': 28, 'col': 7, 'val': 4}, {'row': 28, 'col': 8, 'val': 1}, {'row': 28, 'col': 9, 'val': 4}, {'row': 28, 'col': 10, 'val': 3}, {'row': 28, 'col': 11, 'val': 3}, {'row': 28, 'col': 12, 'val': 4}, {'row': 28, 'col': 13, 'val': 6}, {'row': 28, 'col': 14, 'val': 7}, {'row': 28, 'col': 15, 'val': 4}, {'row': 28, 'col': 16, 'val': 4}, {'row': 28, 'col': 17, 'val': 7}, {'row': 28, 'col': 18, 'val': 6}, {'row': 28, 'col': 19, 'val': 4}, {'row': 28, 'col': 20, 'val': 3}, {'row': 28, 'col': 21, 'val': 3}, {'row': 28, 'col': 22, 'val': 4}, {'row': 28, 'col': 23, 'val': 1}, {'row': 28, 'col': 24, 'val': 4}, {'row': 28, 'col': 25, 'val': 4}, {'row': 28, 'col': 26, 'val': 7}, {'row': 28, 'col': 27, 'val': 5}, {'row': 28, 'col': 28, 'val': 9}, {'row': 28, 'col': 29, 'val': 7}, {'row': 29, 'col': 0, 'val': 3}, {'row': 29, 'col': 1, 'val': 2}, {'row': 29, 'col': 2, 'val': 9}, {'row': 29, 'col': 3, 'val': 9}, {'row': 29, 'col': 4, 'val': 7}, {'row': 29, 'col': 5, 'val': 5}, {'row': 29, 'col': 6, 'val': 4}, {'row': 29, 'col': 7, 'val': 4}, {'row': 29, 'col': 8, 'val': 4}, {'row': 29, 'col': 9, 'val': 1}, {'row': 29, 'col': 10, 'val': 3}, {'row': 29, 'col': 11, 'val': 3}, {'row': 29, 'col': 12, 'val': 6}, {'row': 29, 'col': 13, 'val': 4}, {'row': 29, 'col': 14, 'val': 4}, {'row': 29, 'col': 15, 'val': 7}, {'row': 29, 'col': 16, 'val': 7}, {'row': 29, 'col': 17, 'val': 4}, {'row': 29, 'col': 18, 'val': 4}, {'row': 29, 'col': 19, 'val': 6}, {'row': 29, 'col': 20, 'val': 3}, {'row': 29, 'col': 21, 'val': 3}, {'row': 29, 'col': 22, 'val': 1}, {'row': 29, 'col': 23, 'val': 4}, {'row': 29, 'col': 24, 'val': 4}, {'row': 29, 'col': 25, 'val': 4}, {'row': 29, 'col': 26, 'val': 5}, {'row': 29, 'col': 27, 'val': 7}, {'row': 29, 'col': 28, 'val': 9}, {'row': 29, 'col': 29, 'val': 9}]\n",
      "Train Output 2: [{'row': 0, 'col': 0, 'val': 3}, {'row': 0, 'col': 1, 'val': 1}, {'row': 0, 'col': 2, 'val': 4}, {'row': 0, 'col': 3, 'val': 4}, {'row': 0, 'col': 4, 'val': 4}, {'row': 1, 'col': 0, 'val': 3}, {'row': 1, 'col': 1, 'val': 4}, {'row': 1, 'col': 2, 'val': 1}, {'row': 1, 'col': 3, 'val': 4}, {'row': 1, 'col': 4, 'val': 4}, {'row': 2, 'col': 0, 'val': 6}, {'row': 2, 'col': 1, 'val': 6}, {'row': 2, 'col': 2, 'val': 3}, {'row': 2, 'col': 3, 'val': 3}, {'row': 2, 'col': 4, 'val': 5}, {'row': 3, 'col': 0, 'val': 4}, {'row': 3, 'col': 1, 'val': 3}, {'row': 3, 'col': 2, 'val': 5}, {'row': 3, 'col': 3, 'val': 2}, {'row': 3, 'col': 4, 'val': 3}]\n",
      "\n",
      "Train Input 3: [{'row': 0, 'col': 0, 'val': 3}, {'row': 0, 'col': 1, 'val': 5}, {'row': 0, 'col': 2, 'val': 3}, {'row': 0, 'col': 3, 'val': 3}, {'row': 0, 'col': 4, 'val': 6}, {'row': 0, 'col': 5, 'val': 6}, {'row': 0, 'col': 6, 'val': 5}, {'row': 0, 'col': 7, 'val': 4}, {'row': 0, 'col': 8, 'val': 1}, {'row': 0, 'col': 9, 'val': 4}, {'row': 0, 'col': 10, 'val': 9}, {'row': 0, 'col': 11, 'val': 9}, {'row': 0, 'col': 12, 'val': 4}, {'row': 0, 'col': 13, 'val': 3}, {'row': 0, 'col': 14, 'val': 9}, {'row': 0, 'col': 15, 'val': 9}, {'row': 0, 'col': 16, 'val': 9}, {'row': 0, 'col': 17, 'val': 9}, {'row': 0, 'col': 18, 'val': 3}, {'row': 0, 'col': 19, 'val': 4}, {'row': 0, 'col': 20, 'val': 9}, {'row': 0, 'col': 21, 'val': 9}, {'row': 0, 'col': 22, 'val': 4}, {'row': 0, 'col': 23, 'val': 1}, {'row': 0, 'col': 24, 'val': 4}, {'row': 0, 'col': 25, 'val': 5}, {'row': 0, 'col': 26, 'val': 6}, {'row': 0, 'col': 27, 'val': 6}, {'row': 0, 'col': 28, 'val': 3}, {'row': 0, 'col': 29, 'val': 3}, {'row': 1, 'col': 0, 'val': 5}, {'row': 1, 'col': 1, 'val': 3}, {'row': 1, 'col': 2, 'val': 3}, {'row': 1, 'col': 3, 'val': 3}, {'row': 1, 'col': 4, 'val': 6}, {'row': 1, 'col': 5, 'val': 6}, {'row': 1, 'col': 6, 'val': 4}, {'row': 1, 'col': 7, 'val': 5}, {'row': 1, 'col': 8, 'val': 4}, {'row': 1, 'col': 9, 'val': 1}, {'row': 1, 'col': 10, 'val': 9}, {'row': 1, 'col': 11, 'val': 9}, {'row': 1, 'col': 12, 'val': 3}, {'row': 1, 'col': 13, 'val': 4}, {'row': 1, 'col': 14, 'val': 9}, {'row': 1, 'col': 15, 'val': 1}, {'row': 1, 'col': 16, 'val': 1}, {'row': 1, 'col': 17, 'val': 9}, {'row': 1, 'col': 18, 'val': 4}, {'row': 1, 'col': 19, 'val': 3}, {'row': 1, 'col': 20, 'val': 9}, {'row': 1, 'col': 21, 'val': 9}, {'row': 1, 'col': 22, 'val': 1}, {'row': 1, 'col': 23, 'val': 4}, {'row': 1, 'col': 24, 'val': 5}, {'row': 1, 'col': 25, 'val': 4}, {'row': 1, 'col': 26, 'val': 6}, {'row': 1, 'col': 27, 'val': 6}, {'row': 1, 'col': 28, 'val': 3}, {'row': 1, 'col': 29, 'val': 3}, {'row': 2, 'col': 0, 'val': 1}, {'row': 2, 'col': 1, 'val': 1}, {'row': 2, 'col': 2, 'val': 3}, {'row': 2, 'col': 3, 'val': 5}, {'row': 2, 'col': 4, 'val': 5}, {'row': 2, 'col': 5, 'val': 4}, {'row': 2, 'col': 6, 'val': 6}, {'row': 2, 'col': 7, 'val': 6}, {'row': 2, 'col': 8, 'val': 9}, {'row': 2, 'col': 9, 'val': 1}, {'row': 2, 'col': 10, 'val': 1}, {'row': 2, 'col': 11, 'val': 4}, {'row': 2, 'col': 12, 'val': 9}, {'row': 2, 'col': 13, 'val': 9}, {'row': 2, 'col': 14, 'val': 4}, {'row': 2, 'col': 15, 'val': 5}, {'row': 2, 'col': 16, 'val': 5}, {'row': 2, 'col': 17, 'val': 4}, {'row': 2, 'col': 18, 'val': 9}, {'row': 2, 'col': 19, 'val': 9}, {'row': 2, 'col': 20, 'val': 4}, {'row': 2, 'col': 21, 'val': 1}, {'row': 2, 'col': 22, 'val': 1}, {'row': 2, 'col': 23, 'val': 9}, {'row': 2, 'col': 24, 'val': 6}, {'row': 2, 'col': 25, 'val': 6}, {'row': 2, 'col': 26, 'val': 4}, {'row': 2, 'col': 27, 'val': 5}, {'row': 2, 'col': 28, 'val': 5}, {'row': 2, 'col': 29, 'val': 3}, {'row': 3, 'col': 0, 'val': 1}, {'row': 3, 'col': 1, 'val': 1}, {'row': 3, 'col': 2, 'val': 5}, {'row': 3, 'col': 3, 'val': 3}, {'row': 3, 'col': 4, 'val': 4}, {'row': 3, 'col': 5, 'val': 5}, {'row': 3, 'col': 6, 'val': 6}, {'row': 3, 'col': 7, 'val': 6}, {'row': 3, 'col': 8, 'val': 1}, {'row': 3, 'col': 9, 'val': 9}, {'row': 3, 'col': 10, 'val': 4}, {'row': 3, 'col': 11, 'val': 1}, {'row': 3, 'col': 12, 'val': 9}, {'row': 3, 'col': 13, 'val': 1}, {'row': 3, 'col': 14, 'val': 4}, {'row': 3, 'col': 15, 'val': 4}, {'row': 3, 'col': 16, 'val': 4}, {'row': 3, 'col': 17, 'val': 4}, {'row': 3, 'col': 18, 'val': 1}, {'row': 3, 'col': 19, 'val': 9}, {'row': 3, 'col': 20, 'val': 1}, {'row': 3, 'col': 21, 'val': 4}, {'row': 3, 'col': 22, 'val': 9}, {'row': 3, 'col': 23, 'val': 1}, {'row': 3, 'col': 24, 'val': 6}, {'row': 3, 'col': 25, 'val': 6}, {'row': 3, 'col': 26, 'val': 5}, {'row': 3, 'col': 27, 'val': 4}, {'row': 3, 'col': 28, 'val': 3}, {'row': 3, 'col': 29, 'val': 5}, {'row': 4, 'col': 0, 'val': 6}, {'row': 4, 'col': 1, 'val': 9}, {'row': 4, 'col': 2, 'val': 9}, {'row': 4, 'col': 3, 'val': 9}, {'row': 4, 'col': 4, 'val': 3}, {'row': 4, 'col': 5, 'val': 5}, {'row': 4, 'col': 6, 'val': 3}, {'row': 4, 'col': 7, 'val': 3}, {'row': 4, 'col': 8, 'val': 4}, {'row': 4, 'col': 9, 'val': 3}, {'row': 4, 'col': 10, 'val': 9}, {'row': 4, 'col': 11, 'val': 9}, {'row': 4, 'col': 12, 'val': 9}, {'row': 4, 'col': 13, 'val': 2}, {'row': 4, 'col': 14, 'val': 6}, {'row': 4, 'col': 15, 'val': 9}, {'row': 4, 'col': 16, 'val': 9}, {'row': 4, 'col': 17, 'val': 6}, {'row': 4, 'col': 18, 'val': 2}, {'row': 4, 'col': 19, 'val': 9}, {'row': 4, 'col': 20, 'val': 9}, {'row': 4, 'col': 21, 'val': 9}, {'row': 4, 'col': 22, 'val': 3}, {'row': 4, 'col': 23, 'val': 4}, {'row': 4, 'col': 24, 'val': 3}, {'row': 4, 'col': 25, 'val': 3}, {'row': 4, 'col': 26, 'val': 5}, {'row': 4, 'col': 27, 'val': 3}, {'row': 4, 'col': 28, 'val': 9}, {'row': 4, 'col': 29, 'val': 9}, {'row': 5, 'col': 0, 'val': 9}, {'row': 5, 'col': 1, 'val': 6}, {'row': 5, 'col': 2, 'val': 9}, {'row': 5, 'col': 3, 'val': 9}, {'row': 5, 'col': 4, 'val': 5}, {'row': 5, 'col': 5, 'val': 3}, {'row': 5, 'col': 6, 'val': 3}, {'row': 5, 'col': 7, 'val': 3}, {'row': 5, 'col': 8, 'val': 3}, {'row': 5, 'col': 9, 'val': 4}, {'row': 5, 'col': 10, 'val': 9}, {'row': 5, 'col': 11, 'val': 1}, {'row': 5, 'col': 12, 'val': 9}, {'row': 5, 'col': 13, 'val': 9}, {'row': 5, 'col': 14, 'val': 9}, {'row': 5, 'col': 15, 'val': 6}, {'row': 5, 'col': 16, 'val': 6}, {'row': 5, 'col': 17, 'val': 9}, {'row': 5, 'col': 18, 'val': 9}, {'row': 5, 'col': 19, 'val': 9}, {'row': 5, 'col': 20, 'val': 1}, {'row': 5, 'col': 21, 'val': 9}, {'row': 5, 'col': 22, 'val': 4}, {'row': 5, 'col': 23, 'val': 3}, {'row': 5, 'col': 24, 'val': 3}, {'row': 5, 'col': 25, 'val': 3}, {'row': 5, 'col': 26, 'val': 3}, {'row': 5, 'col': 27, 'val': 5}, {'row': 5, 'col': 28, 'val': 9}, {'row': 5, 'col': 29, 'val': 9}, {'row': 6, 'col': 0, 'val': 9}, {'row': 6, 'col': 1, 'val': 9}, {'row': 6, 'col': 2, 'val': 6}, {'row': 6, 'col': 3, 'val': 9}, {'row': 6, 'col': 4, 'val': 1}, {'row': 6, 'col': 5, 'val': 1}, {'row': 6, 'col': 6, 'val': 3}, {'row': 6, 'col': 7, 'val': 5}, {'row': 6, 'col': 8, 'val': 9}, {'row': 6, 'col': 9, 'val': 9}, {'row': 6, 'col': 10, 'val': 4}, {'row': 6, 'col': 11, 'val': 4}, {'row': 6, 'col': 12, 'val': 6}, {'row': 6, 'col': 13, 'val': 9}, {'row': 6, 'col': 14, 'val': 9}, {'row': 6, 'col': 15, 'val': 2}, {'row': 6, 'col': 16, 'val': 2}, {'row': 6, 'col': 17, 'val': 9}, {'row': 6, 'col': 18, 'val': 9}, {'row': 6, 'col': 19, 'val': 6}, {'row': 6, 'col': 20, 'val': 4}, {'row': 6, 'col': 21, 'val': 4}, {'row': 6, 'col': 22, 'val': 9}, {'row': 6, 'col': 23, 'val': 9}, {'row': 6, 'col': 24, 'val': 5}, {'row': 6, 'col': 25, 'val': 3}, {'row': 6, 'col': 26, 'val': 1}, {'row': 6, 'col': 27, 'val': 1}, {'row': 6, 'col': 28, 'val': 9}, {'row': 6, 'col': 29, 'val': 6}, {'row': 7, 'col': 0, 'val': 9}, {'row': 7, 'col': 1, 'val': 9}, {'row': 7, 'col': 2, 'val': 9}, {'row': 7, 'col': 3, 'val': 6}, {'row': 7, 'col': 4, 'val': 1}, {'row': 7, 'col': 5, 'val': 1}, {'row': 7, 'col': 6, 'val': 5}, {'row': 7, 'col': 7, 'val': 3}, {'row': 7, 'col': 8, 'val': 9}, {'row': 7, 'col': 9, 'val': 1}, {'row': 7, 'col': 10, 'val': 5}, {'row': 7, 'col': 11, 'val': 4}, {'row': 7, 'col': 12, 'val': 9}, {'row': 7, 'col': 13, 'val': 6}, {'row': 7, 'col': 14, 'val': 9}, {'row': 7, 'col': 15, 'val': 9}, {'row': 7, 'col': 16, 'val': 9}, {'row': 7, 'col': 17, 'val': 9}, {'row': 7, 'col': 18, 'val': 6}, {'row': 7, 'col': 19, 'val': 9}, {'row': 7, 'col': 20, 'val': 4}, {'row': 7, 'col': 21, 'val': 5}, {'row': 7, 'col': 22, 'val': 1}, {'row': 7, 'col': 23, 'val': 9}, {'row': 7, 'col': 24, 'val': 3}, {'row': 7, 'col': 25, 'val': 5}, {'row': 7, 'col': 26, 'val': 1}, {'row': 7, 'col': 27, 'val': 1}, {'row': 7, 'col': 28, 'val': 6}, {'row': 7, 'col': 29, 'val': 9}, {'row': 8, 'col': 0, 'val': 1}, {'row': 8, 'col': 1, 'val': 4}, {'row': 8, 'col': 2, 'val': 9}, {'row': 8, 'col': 3, 'val': 1}, {'row': 8, 'col': 4, 'val': 4}, {'row': 8, 'col': 5, 'val': 3}, {'row': 8, 'col': 6, 'val': 9}, {'row': 8, 'col': 7, 'val': 9}, {'row': 8, 'col': 8, 'val': 5}, {'row': 8, 'col': 9, 'val': 5}, {'row': 8, 'col': 10, 'val': 7}, {'row': 8, 'col': 11, 'val': 2}, {'row': 8, 'col': 12, 'val': 4}, {'row': 8, 'col': 13, 'val': 3}, {'row': 8, 'col': 14, 'val': 2}, {'row': 8, 'col': 15, 'val': 4}, {'row': 8, 'col': 16, 'val': 4}, {'row': 8, 'col': 17, 'val': 2}, {'row': 8, 'col': 18, 'val': 3}, {'row': 8, 'col': 19, 'val': 4}, {'row': 8, 'col': 20, 'val': 2}, {'row': 8, 'col': 21, 'val': 7}, {'row': 8, 'col': 22, 'val': 5}, {'row': 8, 'col': 23, 'val': 5}, {'row': 8, 'col': 24, 'val': 9}, {'row': 8, 'col': 25, 'val': 9}, {'row': 8, 'col': 26, 'val': 3}, {'row': 8, 'col': 27, 'val': 4}, {'row': 8, 'col': 28, 'val': 1}, {'row': 8, 'col': 29, 'val': 9}, {'row': 9, 'col': 0, 'val': 4}, {'row': 9, 'col': 1, 'val': 1}, {'row': 9, 'col': 2, 'val': 1}, {'row': 9, 'col': 3, 'val': 9}, {'row': 9, 'col': 4, 'val': 3}, {'row': 9, 'col': 5, 'val': 4}, {'row': 9, 'col': 6, 'val': 9}, {'row': 9, 'col': 7, 'val': 1}, {'row': 9, 'col': 8, 'val': 4}, {'row': 9, 'col': 9, 'val': 5}, {'row': 9, 'col': 10, 'val': 2}, {'row': 9, 'col': 11, 'val': 7}, {'row': 9, 'col': 12, 'val': 3}, {'row': 9, 'col': 13, 'val': 4}, {'row': 9, 'col': 14, 'val': 4}, {'row': 9, 'col': 15, 'val': 2}, {'row': 9, 'col': 16, 'val': 2}, {'row': 9, 'col': 17, 'val': 4}, {'row': 9, 'col': 18, 'val': 4}, {'row': 9, 'col': 19, 'val': 3}, {'row': 9, 'col': 20, 'val': 7}, {'row': 9, 'col': 21, 'val': 2}, {'row': 9, 'col': 22, 'val': 5}, {'row': 9, 'col': 23, 'val': 4}, {'row': 9, 'col': 24, 'val': 1}, {'row': 9, 'col': 25, 'val': 9}, {'row': 9, 'col': 26, 'val': 4}, {'row': 9, 'col': 27, 'val': 3}, {'row': 9, 'col': 28, 'val': 9}, {'row': 9, 'col': 29, 'val': 1}, {'row': 10, 'col': 0, 'val': 9}, {'row': 10, 'col': 1, 'val': 9}, {'row': 10, 'col': 2, 'val': 1}, {'row': 10, 'col': 3, 'val': 4}, {'row': 10, 'col': 4, 'val': 9}, {'row': 10, 'col': 5, 'val': 9}, {'row': 10, 'col': 6, 'val': 4}, {'row': 10, 'col': 7, 'val': 5}, {'row': 10, 'col': 8, 'val': 6}, {'row': 10, 'col': 9, 'val': 4}, {'row': 10, 'col': 10, 'val': 5}, {'row': 10, 'col': 11, 'val': 5}, {'row': 10, 'col': 12, 'val': 2}, {'row': 10, 'col': 13, 'val': 4}, {'row': 10, 'col': 14, 'val': 4}, {'row': 10, 'col': 15, 'val': 3}, {'row': 10, 'col': 16, 'val': 3}, {'row': 10, 'col': 17, 'val': 4}, {'row': 10, 'col': 18, 'val': 4}, {'row': 10, 'col': 19, 'val': 2}, {'row': 10, 'col': 20, 'val': 5}, {'row': 10, 'col': 21, 'val': 5}, {'row': 10, 'col': 22, 'val': 4}, {'row': 10, 'col': 23, 'val': 6}, {'row': 10, 'col': 24, 'val': 5}, {'row': 10, 'col': 25, 'val': 4}, {'row': 10, 'col': 26, 'val': 9}, {'row': 10, 'col': 27, 'val': 9}, {'row': 10, 'col': 28, 'val': 4}, {'row': 10, 'col': 29, 'val': 1}, {'row': 11, 'col': 0, 'val': 9}, {'row': 11, 'col': 1, 'val': 9}, {'row': 11, 'col': 2, 'val': 4}, {'row': 11, 'col': 3, 'val': 1}, {'row': 11, 'col': 4, 'val': 9}, {'row': 11, 'col': 5, 'val': 1}, {'row': 11, 'col': 6, 'val': 4}, {'row': 11, 'col': 7, 'val': 4}, {'row': 11, 'col': 8, 'val': 4}, {'row': 11, 'col': 9, 'val': 5}, {'row': 11, 'col': 10, 'val': 4}, {'row': 11, 'col': 11, 'val': 5}, {'row': 11, 'col': 12, 'val': 4}, {'row': 11, 'col': 13, 'val': 2}, {'row': 11, 'col': 14, 'val': 3}, {'row': 11, 'col': 15, 'val': 4}, {'row': 11, 'col': 16, 'val': 4}, {'row': 11, 'col': 17, 'val': 3}, {'row': 11, 'col': 18, 'val': 2}, {'row': 11, 'col': 19, 'val': 4}, {'row': 11, 'col': 20, 'val': 5}, {'row': 11, 'col': 21, 'val': 4}, {'row': 11, 'col': 22, 'val': 5}, {'row': 11, 'col': 23, 'val': 4}, {'row': 11, 'col': 24, 'val': 4}, {'row': 11, 'col': 25, 'val': 4}, {'row': 11, 'col': 26, 'val': 1}, {'row': 11, 'col': 27, 'val': 9}, {'row': 11, 'col': 28, 'val': 1}, {'row': 11, 'col': 29, 'val': 4}, {'row': 12, 'col': 0, 'val': 4}, {'row': 12, 'col': 1, 'val': 3}, {'row': 12, 'col': 2, 'val': 9}, {'row': 12, 'col': 3, 'val': 9}, {'row': 12, 'col': 4, 'val': 9}, {'row': 12, 'col': 5, 'val': 9}, {'row': 12, 'col': 6, 'val': 6}, {'row': 12, 'col': 7, 'val': 9}, {'row': 12, 'col': 8, 'val': 5}, {'row': 12, 'col': 9, 'val': 9}, {'row': 12, 'col': 10, 'val': 7}, {'row': 12, 'col': 11, 'val': 7}, {'row': 12, 'col': 12, 'val': 5}, {'row': 12, 'col': 13, 'val': 5}, {'row': 12, 'col': 14, 'val': 7}, {'row': 12, 'col': 15, 'val': 2}, {'row': 12, 'col': 16, 'val': 2}, {'row': 12, 'col': 17, 'val': 7}, {'row': 12, 'col': 18, 'val': 5}, {'row': 12, 'col': 19, 'val': 5}, {'row': 12, 'col': 20, 'val': 7}, {'row': 12, 'col': 21, 'val': 7}, {'row': 12, 'col': 22, 'val': 9}, {'row': 12, 'col': 23, 'val': 5}, {'row': 12, 'col': 24, 'val': 9}, {'row': 12, 'col': 25, 'val': 6}, {'row': 12, 'col': 26, 'val': 9}, {'row': 12, 'col': 27, 'val': 9}, {'row': 12, 'col': 28, 'val': 9}, {'row': 12, 'col': 29, 'val': 9}, {'row': 13, 'col': 0, 'val': 3}, {'row': 13, 'col': 1, 'val': 4}, {'row': 13, 'col': 2, 'val': 9}, {'row': 13, 'col': 3, 'val': 1}, {'row': 13, 'col': 4, 'val': 2}, {'row': 13, 'col': 5, 'val': 9}, {'row': 13, 'col': 6, 'val': 9}, {'row': 13, 'col': 7, 'val': 6}, {'row': 13, 'col': 8, 'val': 9}, {'row': 13, 'col': 9, 'val': 5}, {'row': 13, 'col': 10, 'val': 7}, {'row': 13, 'col': 11, 'val': 7}, {'row': 13, 'col': 12, 'val': 4}, {'row': 13, 'col': 13, 'val': 5}, {'row': 13, 'col': 14, 'val': 2}, {'row': 13, 'col': 15, 'val': 7}, {'row': 13, 'col': 16, 'val': 7}, {'row': 13, 'col': 17, 'val': 2}, {'row': 13, 'col': 18, 'val': 5}, {'row': 13, 'col': 19, 'val': 4}, {'row': 13, 'col': 20, 'val': 7}, {'row': 13, 'col': 21, 'val': 7}, {'row': 13, 'col': 22, 'val': 5}, {'row': 13, 'col': 23, 'val': 9}, {'row': 13, 'col': 24, 'val': 6}, {'row': 13, 'col': 25, 'val': 9}, {'row': 13, 'col': 26, 'val': 9}, {'row': 13, 'col': 27, 'val': 2}, {'row': 13, 'col': 28, 'val': 1}, {'row': 13, 'col': 29, 'val': 9}, {'row': 14, 'col': 0, 'val': 9}, {'row': 14, 'col': 1, 'val': 9}, {'row': 14, 'col': 2, 'val': 4}, {'row': 14, 'col': 3, 'val': 4}, {'row': 14, 'col': 4, 'val': 6}, {'row': 14, 'col': 5, 'val': 9}, {'row': 14, 'col': 6, 'val': 9}, {'row': 14, 'col': 7, 'val': 9}, {'row': 14, 'col': 8, 'val': 7}, {'row': 14, 'col': 9, 'val': 7}, {'row': 14, 'col': 10, 'val': 5}, {'row': 14, 'col': 11, 'val': 9}, {'row': 14, 'col': 12, 'val': 5}, {'row': 14, 'col': 13, 'val': 4}, {'row': 14, 'col': 14, 'val': 5}, {'row': 14, 'col': 15, 'val': 5}, {'row': 14, 'col': 16, 'val': 5}, {'row': 14, 'col': 17, 'val': 5}, {'row': 14, 'col': 18, 'val': 4}, {'row': 14, 'col': 19, 'val': 5}, {'row': 14, 'col': 20, 'val': 9}, {'row': 14, 'col': 21, 'val': 5}, {'row': 14, 'col': 22, 'val': 7}, {'row': 14, 'col': 23, 'val': 7}, {'row': 14, 'col': 24, 'val': 9}, {'row': 14, 'col': 25, 'val': 8}, {'row': 14, 'col': 26, 'val': 8}, {'row': 14, 'col': 27, 'val': 8}, {'row': 14, 'col': 28, 'val': 8}, {'row': 14, 'col': 29, 'val': 4}, {'row': 15, 'col': 0, 'val': 9}, {'row': 15, 'col': 1, 'val': 1}, {'row': 15, 'col': 2, 'val': 5}, {'row': 15, 'col': 3, 'val': 4}, {'row': 15, 'col': 4, 'val': 9}, {'row': 15, 'col': 5, 'val': 6}, {'row': 15, 'col': 6, 'val': 2}, {'row': 15, 'col': 7, 'val': 9}, {'row': 15, 'col': 8, 'val': 7}, {'row': 15, 'col': 9, 'val': 7}, {'row': 15, 'col': 10, 'val': 9}, {'row': 15, 'col': 11, 'val': 5}, {'row': 15, 'col': 12, 'val': 4}, {'row': 15, 'col': 13, 'val': 6}, {'row': 15, 'col': 14, 'val': 4}, {'row': 15, 'col': 15, 'val': 5}, {'row': 15, 'col': 16, 'val': 5}, {'row': 15, 'col': 17, 'val': 4}, {'row': 15, 'col': 18, 'val': 6}, {'row': 15, 'col': 19, 'val': 4}, {'row': 15, 'col': 20, 'val': 5}, {'row': 15, 'col': 21, 'val': 9}, {'row': 15, 'col': 22, 'val': 7}, {'row': 15, 'col': 23, 'val': 7}, {'row': 15, 'col': 24, 'val': 9}, {'row': 15, 'col': 25, 'val': 8}, {'row': 15, 'col': 26, 'val': 8}, {'row': 15, 'col': 27, 'val': 8}, {'row': 15, 'col': 28, 'val': 8}, {'row': 15, 'col': 29, 'val': 5}, {'row': 16, 'col': 0, 'val': 9}, {'row': 16, 'col': 1, 'val': 1}, {'row': 16, 'col': 2, 'val': 5}, {'row': 16, 'col': 3, 'val': 4}, {'row': 16, 'col': 4, 'val': 9}, {'row': 16, 'col': 5, 'val': 6}, {'row': 16, 'col': 6, 'val': 2}, {'row': 16, 'col': 7, 'val': 9}, {'row': 16, 'col': 8, 'val': 7}, {'row': 16, 'col': 9, 'val': 7}, {'row': 16, 'col': 10, 'val': 9}, {'row': 16, 'col': 11, 'val': 5}, {'row': 16, 'col': 12, 'val': 4}, {'row': 16, 'col': 13, 'val': 6}, {'row': 16, 'col': 14, 'val': 4}, {'row': 16, 'col': 15, 'val': 5}, {'row': 16, 'col': 16, 'val': 5}, {'row': 16, 'col': 17, 'val': 4}, {'row': 16, 'col': 18, 'val': 6}, {'row': 16, 'col': 19, 'val': 4}, {'row': 16, 'col': 20, 'val': 5}, {'row': 16, 'col': 21, 'val': 9}, {'row': 16, 'col': 22, 'val': 7}, {'row': 16, 'col': 23, 'val': 7}, {'row': 16, 'col': 24, 'val': 9}, {'row': 16, 'col': 25, 'val': 8}, {'row': 16, 'col': 26, 'val': 8}, {'row': 16, 'col': 27, 'val': 8}, {'row': 16, 'col': 28, 'val': 8}, {'row': 16, 'col': 29, 'val': 5}, {'row': 17, 'col': 0, 'val': 9}, {'row': 17, 'col': 1, 'val': 9}, {'row': 17, 'col': 2, 'val': 4}, {'row': 17, 'col': 3, 'val': 4}, {'row': 17, 'col': 4, 'val': 6}, {'row': 17, 'col': 5, 'val': 9}, {'row': 17, 'col': 6, 'val': 9}, {'row': 17, 'col': 7, 'val': 9}, {'row': 17, 'col': 8, 'val': 7}, {'row': 17, 'col': 9, 'val': 7}, {'row': 17, 'col': 10, 'val': 5}, {'row': 17, 'col': 11, 'val': 9}, {'row': 17, 'col': 12, 'val': 5}, {'row': 17, 'col': 13, 'val': 4}, {'row': 17, 'col': 14, 'val': 5}, {'row': 17, 'col': 15, 'val': 5}, {'row': 17, 'col': 16, 'val': 5}, {'row': 17, 'col': 17, 'val': 5}, {'row': 17, 'col': 18, 'val': 4}, {'row': 17, 'col': 19, 'val': 5}, {'row': 17, 'col': 20, 'val': 9}, {'row': 17, 'col': 21, 'val': 5}, {'row': 17, 'col': 22, 'val': 7}, {'row': 17, 'col': 23, 'val': 7}, {'row': 17, 'col': 24, 'val': 9}, {'row': 17, 'col': 25, 'val': 8}, {'row': 17, 'col': 26, 'val': 8}, {'row': 17, 'col': 27, 'val': 8}, {'row': 17, 'col': 28, 'val': 8}, {'row': 17, 'col': 29, 'val': 4}, {'row': 18, 'col': 0, 'val': 3}, {'row': 18, 'col': 1, 'val': 4}, {'row': 18, 'col': 2, 'val': 9}, {'row': 18, 'col': 3, 'val': 1}, {'row': 18, 'col': 4, 'val': 2}, {'row': 18, 'col': 5, 'val': 9}, {'row': 18, 'col': 6, 'val': 9}, {'row': 18, 'col': 7, 'val': 6}, {'row': 18, 'col': 8, 'val': 9}, {'row': 18, 'col': 9, 'val': 5}, {'row': 18, 'col': 10, 'val': 7}, {'row': 18, 'col': 11, 'val': 7}, {'row': 18, 'col': 12, 'val': 4}, {'row': 18, 'col': 13, 'val': 5}, {'row': 18, 'col': 14, 'val': 2}, {'row': 18, 'col': 15, 'val': 7}, {'row': 18, 'col': 16, 'val': 7}, {'row': 18, 'col': 17, 'val': 2}, {'row': 18, 'col': 18, 'val': 5}, {'row': 18, 'col': 19, 'val': 4}, {'row': 18, 'col': 20, 'val': 7}, {'row': 18, 'col': 21, 'val': 7}, {'row': 18, 'col': 22, 'val': 5}, {'row': 18, 'col': 23, 'val': 9}, {'row': 18, 'col': 24, 'val': 6}, {'row': 18, 'col': 25, 'val': 8}, {'row': 18, 'col': 26, 'val': 8}, {'row': 18, 'col': 27, 'val': 8}, {'row': 18, 'col': 28, 'val': 8}, {'row': 18, 'col': 29, 'val': 9}, {'row': 19, 'col': 0, 'val': 4}, {'row': 19, 'col': 1, 'val': 3}, {'row': 19, 'col': 2, 'val': 9}, {'row': 19, 'col': 3, 'val': 9}, {'row': 19, 'col': 4, 'val': 9}, {'row': 19, 'col': 5, 'val': 9}, {'row': 19, 'col': 6, 'val': 6}, {'row': 19, 'col': 7, 'val': 9}, {'row': 19, 'col': 8, 'val': 5}, {'row': 19, 'col': 9, 'val': 9}, {'row': 19, 'col': 10, 'val': 7}, {'row': 19, 'col': 11, 'val': 7}, {'row': 19, 'col': 12, 'val': 5}, {'row': 19, 'col': 13, 'val': 5}, {'row': 19, 'col': 14, 'val': 7}, {'row': 19, 'col': 15, 'val': 2}, {'row': 19, 'col': 16, 'val': 2}, {'row': 19, 'col': 17, 'val': 7}, {'row': 19, 'col': 18, 'val': 5}, {'row': 19, 'col': 19, 'val': 5}, {'row': 19, 'col': 20, 'val': 7}, {'row': 19, 'col': 21, 'val': 7}, {'row': 19, 'col': 22, 'val': 9}, {'row': 19, 'col': 23, 'val': 5}, {'row': 19, 'col': 24, 'val': 9}, {'row': 19, 'col': 25, 'val': 8}, {'row': 19, 'col': 26, 'val': 8}, {'row': 19, 'col': 27, 'val': 8}, {'row': 19, 'col': 28, 'val': 8}, {'row': 19, 'col': 29, 'val': 9}, {'row': 20, 'col': 0, 'val': 9}, {'row': 20, 'col': 1, 'val': 9}, {'row': 20, 'col': 2, 'val': 4}, {'row': 20, 'col': 3, 'val': 1}, {'row': 20, 'col': 4, 'val': 9}, {'row': 20, 'col': 5, 'val': 1}, {'row': 20, 'col': 6, 'val': 4}, {'row': 20, 'col': 7, 'val': 4}, {'row': 20, 'col': 8, 'val': 4}, {'row': 20, 'col': 9, 'val': 5}, {'row': 20, 'col': 10, 'val': 4}, {'row': 20, 'col': 11, 'val': 5}, {'row': 20, 'col': 12, 'val': 4}, {'row': 20, 'col': 13, 'val': 2}, {'row': 20, 'col': 14, 'val': 3}, {'row': 20, 'col': 15, 'val': 4}, {'row': 20, 'col': 16, 'val': 4}, {'row': 20, 'col': 17, 'val': 3}, {'row': 20, 'col': 18, 'val': 2}, {'row': 20, 'col': 19, 'val': 4}, {'row': 20, 'col': 20, 'val': 5}, {'row': 20, 'col': 21, 'val': 4}, {'row': 20, 'col': 22, 'val': 5}, {'row': 20, 'col': 23, 'val': 4}, {'row': 20, 'col': 24, 'val': 4}, {'row': 20, 'col': 25, 'val': 8}, {'row': 20, 'col': 26, 'val': 8}, {'row': 20, 'col': 27, 'val': 8}, {'row': 20, 'col': 28, 'val': 8}, {'row': 20, 'col': 29, 'val': 4}, {'row': 21, 'col': 0, 'val': 9}, {'row': 21, 'col': 1, 'val': 9}, {'row': 21, 'col': 2, 'val': 1}, {'row': 21, 'col': 3, 'val': 4}, {'row': 21, 'col': 4, 'val': 9}, {'row': 21, 'col': 5, 'val': 9}, {'row': 21, 'col': 6, 'val': 4}, {'row': 21, 'col': 7, 'val': 5}, {'row': 21, 'col': 8, 'val': 6}, {'row': 21, 'col': 9, 'val': 4}, {'row': 21, 'col': 10, 'val': 5}, {'row': 21, 'col': 11, 'val': 5}, {'row': 21, 'col': 12, 'val': 2}, {'row': 21, 'col': 13, 'val': 4}, {'row': 21, 'col': 14, 'val': 4}, {'row': 21, 'col': 15, 'val': 3}, {'row': 21, 'col': 16, 'val': 3}, {'row': 21, 'col': 17, 'val': 4}, {'row': 21, 'col': 18, 'val': 4}, {'row': 21, 'col': 19, 'val': 2}, {'row': 21, 'col': 20, 'val': 5}, {'row': 21, 'col': 21, 'val': 5}, {'row': 21, 'col': 22, 'val': 4}, {'row': 21, 'col': 23, 'val': 6}, {'row': 21, 'col': 24, 'val': 5}, {'row': 21, 'col': 25, 'val': 8}, {'row': 21, 'col': 26, 'val': 8}, {'row': 21, 'col': 27, 'val': 8}, {'row': 21, 'col': 28, 'val': 8}, {'row': 21, 'col': 29, 'val': 1}, {'row': 22, 'col': 0, 'val': 4}, {'row': 22, 'col': 1, 'val': 1}, {'row': 22, 'col': 2, 'val': 1}, {'row': 22, 'col': 3, 'val': 9}, {'row': 22, 'col': 4, 'val': 3}, {'row': 22, 'col': 5, 'val': 4}, {'row': 22, 'col': 6, 'val': 9}, {'row': 22, 'col': 7, 'val': 1}, {'row': 22, 'col': 8, 'val': 4}, {'row': 22, 'col': 9, 'val': 5}, {'row': 22, 'col': 10, 'val': 2}, {'row': 22, 'col': 11, 'val': 7}, {'row': 22, 'col': 12, 'val': 3}, {'row': 22, 'col': 13, 'val': 4}, {'row': 22, 'col': 14, 'val': 4}, {'row': 22, 'col': 15, 'val': 2}, {'row': 22, 'col': 16, 'val': 2}, {'row': 22, 'col': 17, 'val': 4}, {'row': 22, 'col': 18, 'val': 4}, {'row': 22, 'col': 19, 'val': 3}, {'row': 22, 'col': 20, 'val': 7}, {'row': 22, 'col': 21, 'val': 2}, {'row': 22, 'col': 22, 'val': 5}, {'row': 22, 'col': 23, 'val': 4}, {'row': 22, 'col': 24, 'val': 1}, {'row': 22, 'col': 25, 'val': 8}, {'row': 22, 'col': 26, 'val': 8}, {'row': 22, 'col': 27, 'val': 8}, {'row': 22, 'col': 28, 'val': 8}, {'row': 22, 'col': 29, 'val': 1}, {'row': 23, 'col': 0, 'val': 1}, {'row': 23, 'col': 1, 'val': 4}, {'row': 23, 'col': 2, 'val': 9}, {'row': 23, 'col': 3, 'val': 1}, {'row': 23, 'col': 4, 'val': 4}, {'row': 23, 'col': 5, 'val': 3}, {'row': 23, 'col': 6, 'val': 9}, {'row': 23, 'col': 7, 'val': 9}, {'row': 23, 'col': 8, 'val': 5}, {'row': 23, 'col': 9, 'val': 5}, {'row': 23, 'col': 10, 'val': 7}, {'row': 23, 'col': 11, 'val': 2}, {'row': 23, 'col': 12, 'val': 4}, {'row': 23, 'col': 13, 'val': 3}, {'row': 23, 'col': 14, 'val': 2}, {'row': 23, 'col': 15, 'val': 4}, {'row': 23, 'col': 16, 'val': 4}, {'row': 23, 'col': 17, 'val': 2}, {'row': 23, 'col': 18, 'val': 3}, {'row': 23, 'col': 19, 'val': 4}, {'row': 23, 'col': 20, 'val': 2}, {'row': 23, 'col': 21, 'val': 7}, {'row': 23, 'col': 22, 'val': 5}, {'row': 23, 'col': 23, 'val': 5}, {'row': 23, 'col': 24, 'val': 9}, {'row': 23, 'col': 25, 'val': 9}, {'row': 23, 'col': 26, 'val': 3}, {'row': 23, 'col': 27, 'val': 4}, {'row': 23, 'col': 28, 'val': 1}, {'row': 23, 'col': 29, 'val': 9}, {'row': 24, 'col': 0, 'val': 9}, {'row': 24, 'col': 1, 'val': 9}, {'row': 24, 'col': 2, 'val': 9}, {'row': 24, 'col': 3, 'val': 6}, {'row': 24, 'col': 4, 'val': 1}, {'row': 24, 'col': 5, 'val': 1}, {'row': 24, 'col': 6, 'val': 5}, {'row': 24, 'col': 7, 'val': 3}, {'row': 24, 'col': 8, 'val': 9}, {'row': 24, 'col': 9, 'val': 1}, {'row': 24, 'col': 10, 'val': 5}, {'row': 24, 'col': 11, 'val': 4}, {'row': 24, 'col': 12, 'val': 9}, {'row': 24, 'col': 13, 'val': 6}, {'row': 24, 'col': 14, 'val': 9}, {'row': 24, 'col': 15, 'val': 9}, {'row': 24, 'col': 16, 'val': 9}, {'row': 24, 'col': 17, 'val': 9}, {'row': 24, 'col': 18, 'val': 6}, {'row': 24, 'col': 19, 'val': 9}, {'row': 24, 'col': 20, 'val': 4}, {'row': 24, 'col': 21, 'val': 5}, {'row': 24, 'col': 22, 'val': 1}, {'row': 24, 'col': 23, 'val': 9}, {'row': 24, 'col': 24, 'val': 3}, {'row': 24, 'col': 25, 'val': 5}, {'row': 24, 'col': 26, 'val': 1}, {'row': 24, 'col': 27, 'val': 1}, {'row': 24, 'col': 28, 'val': 6}, {'row': 24, 'col': 29, 'val': 9}, {'row': 25, 'col': 0, 'val': 9}, {'row': 25, 'col': 1, 'val': 9}, {'row': 25, 'col': 2, 'val': 6}, {'row': 25, 'col': 3, 'val': 9}, {'row': 25, 'col': 4, 'val': 1}, {'row': 25, 'col': 5, 'val': 1}, {'row': 25, 'col': 6, 'val': 3}, {'row': 25, 'col': 7, 'val': 5}, {'row': 25, 'col': 8, 'val': 9}, {'row': 25, 'col': 9, 'val': 9}, {'row': 25, 'col': 10, 'val': 4}, {'row': 25, 'col': 11, 'val': 4}, {'row': 25, 'col': 12, 'val': 6}, {'row': 25, 'col': 13, 'val': 9}, {'row': 25, 'col': 14, 'val': 9}, {'row': 25, 'col': 15, 'val': 2}, {'row': 25, 'col': 16, 'val': 2}, {'row': 25, 'col': 17, 'val': 9}, {'row': 25, 'col': 18, 'val': 9}, {'row': 25, 'col': 19, 'val': 6}, {'row': 25, 'col': 20, 'val': 4}, {'row': 25, 'col': 21, 'val': 4}, {'row': 25, 'col': 22, 'val': 9}, {'row': 25, 'col': 23, 'val': 9}, {'row': 25, 'col': 24, 'val': 5}, {'row': 25, 'col': 25, 'val': 3}, {'row': 25, 'col': 26, 'val': 1}, {'row': 25, 'col': 27, 'val': 1}, {'row': 25, 'col': 28, 'val': 9}, {'row': 25, 'col': 29, 'val': 6}, {'row': 26, 'col': 0, 'val': 9}, {'row': 26, 'col': 1, 'val': 6}, {'row': 26, 'col': 2, 'val': 9}, {'row': 26, 'col': 3, 'val': 9}, {'row': 26, 'col': 4, 'val': 5}, {'row': 26, 'col': 5, 'val': 3}, {'row': 26, 'col': 6, 'val': 3}, {'row': 26, 'col': 7, 'val': 3}, {'row': 26, 'col': 8, 'val': 3}, {'row': 26, 'col': 9, 'val': 4}, {'row': 26, 'col': 10, 'val': 9}, {'row': 26, 'col': 11, 'val': 1}, {'row': 26, 'col': 12, 'val': 9}, {'row': 26, 'col': 13, 'val': 9}, {'row': 26, 'col': 14, 'val': 9}, {'row': 26, 'col': 15, 'val': 6}, {'row': 26, 'col': 16, 'val': 6}, {'row': 26, 'col': 17, 'val': 9}, {'row': 26, 'col': 18, 'val': 9}, {'row': 26, 'col': 19, 'val': 9}, {'row': 26, 'col': 20, 'val': 1}, {'row': 26, 'col': 21, 'val': 9}, {'row': 26, 'col': 22, 'val': 4}, {'row': 26, 'col': 23, 'val': 3}, {'row': 26, 'col': 24, 'val': 3}, {'row': 26, 'col': 25, 'val': 3}, {'row': 26, 'col': 26, 'val': 3}, {'row': 26, 'col': 27, 'val': 5}, {'row': 26, 'col': 28, 'val': 9}, {'row': 26, 'col': 29, 'val': 9}, {'row': 27, 'col': 0, 'val': 6}, {'row': 27, 'col': 1, 'val': 9}, {'row': 27, 'col': 2, 'val': 9}, {'row': 27, 'col': 3, 'val': 9}, {'row': 27, 'col': 4, 'val': 3}, {'row': 27, 'col': 5, 'val': 5}, {'row': 27, 'col': 6, 'val': 3}, {'row': 27, 'col': 7, 'val': 3}, {'row': 27, 'col': 8, 'val': 4}, {'row': 27, 'col': 9, 'val': 3}, {'row': 27, 'col': 10, 'val': 9}, {'row': 27, 'col': 11, 'val': 9}, {'row': 27, 'col': 12, 'val': 9}, {'row': 27, 'col': 13, 'val': 2}, {'row': 27, 'col': 14, 'val': 6}, {'row': 27, 'col': 15, 'val': 9}, {'row': 27, 'col': 16, 'val': 9}, {'row': 27, 'col': 17, 'val': 6}, {'row': 27, 'col': 18, 'val': 2}, {'row': 27, 'col': 19, 'val': 9}, {'row': 27, 'col': 20, 'val': 9}, {'row': 27, 'col': 21, 'val': 9}, {'row': 27, 'col': 22, 'val': 3}, {'row': 27, 'col': 23, 'val': 4}, {'row': 27, 'col': 24, 'val': 3}, {'row': 27, 'col': 25, 'val': 3}, {'row': 27, 'col': 26, 'val': 5}, {'row': 27, 'col': 27, 'val': 3}, {'row': 27, 'col': 28, 'val': 9}, {'row': 27, 'col': 29, 'val': 9}, {'row': 28, 'col': 0, 'val': 1}, {'row': 28, 'col': 1, 'val': 1}, {'row': 28, 'col': 2, 'val': 5}, {'row': 28, 'col': 3, 'val': 3}, {'row': 28, 'col': 4, 'val': 4}, {'row': 28, 'col': 5, 'val': 5}, {'row': 28, 'col': 6, 'val': 6}, {'row': 28, 'col': 7, 'val': 6}, {'row': 28, 'col': 8, 'val': 1}, {'row': 28, 'col': 9, 'val': 9}, {'row': 28, 'col': 10, 'val': 4}, {'row': 28, 'col': 11, 'val': 1}, {'row': 28, 'col': 12, 'val': 9}, {'row': 28, 'col': 13, 'val': 1}, {'row': 28, 'col': 14, 'val': 4}, {'row': 28, 'col': 15, 'val': 4}, {'row': 28, 'col': 16, 'val': 4}, {'row': 28, 'col': 17, 'val': 4}, {'row': 28, 'col': 18, 'val': 1}, {'row': 28, 'col': 19, 'val': 9}, {'row': 28, 'col': 20, 'val': 1}, {'row': 28, 'col': 21, 'val': 4}, {'row': 28, 'col': 22, 'val': 9}, {'row': 28, 'col': 23, 'val': 1}, {'row': 28, 'col': 24, 'val': 6}, {'row': 28, 'col': 25, 'val': 6}, {'row': 28, 'col': 26, 'val': 5}, {'row': 28, 'col': 27, 'val': 4}, {'row': 28, 'col': 28, 'val': 3}, {'row': 28, 'col': 29, 'val': 5}, {'row': 29, 'col': 0, 'val': 1}, {'row': 29, 'col': 1, 'val': 1}, {'row': 29, 'col': 2, 'val': 3}, {'row': 29, 'col': 3, 'val': 5}, {'row': 29, 'col': 4, 'val': 5}, {'row': 29, 'col': 5, 'val': 4}, {'row': 29, 'col': 6, 'val': 6}, {'row': 29, 'col': 7, 'val': 6}, {'row': 29, 'col': 8, 'val': 9}, {'row': 29, 'col': 9, 'val': 1}, {'row': 29, 'col': 10, 'val': 1}, {'row': 29, 'col': 11, 'val': 4}, {'row': 29, 'col': 12, 'val': 9}, {'row': 29, 'col': 13, 'val': 9}, {'row': 29, 'col': 14, 'val': 4}, {'row': 29, 'col': 15, 'val': 5}, {'row': 29, 'col': 16, 'val': 5}, {'row': 29, 'col': 17, 'val': 4}, {'row': 29, 'col': 18, 'val': 9}, {'row': 29, 'col': 19, 'val': 9}, {'row': 29, 'col': 20, 'val': 4}, {'row': 29, 'col': 21, 'val': 1}, {'row': 29, 'col': 22, 'val': 1}, {'row': 29, 'col': 23, 'val': 9}, {'row': 29, 'col': 24, 'val': 6}, {'row': 29, 'col': 25, 'val': 6}, {'row': 29, 'col': 26, 'val': 4}, {'row': 29, 'col': 27, 'val': 5}, {'row': 29, 'col': 28, 'val': 5}, {'row': 29, 'col': 29, 'val': 3}]\n",
      "Train Output 3: [{'row': 0, 'col': 0, 'val': 9}, {'row': 0, 'col': 1, 'val': 9}, {'row': 0, 'col': 2, 'val': 6}, {'row': 0, 'col': 3, 'val': 4}, {'row': 1, 'col': 0, 'val': 2}, {'row': 1, 'col': 1, 'val': 6}, {'row': 1, 'col': 2, 'val': 9}, {'row': 1, 'col': 3, 'val': 4}, {'row': 2, 'col': 0, 'val': 2}, {'row': 2, 'col': 1, 'val': 6}, {'row': 2, 'col': 2, 'val': 9}, {'row': 2, 'col': 3, 'val': 4}, {'row': 3, 'col': 0, 'val': 9}, {'row': 3, 'col': 1, 'val': 9}, {'row': 3, 'col': 2, 'val': 6}, {'row': 3, 'col': 3, 'val': 4}, {'row': 4, 'col': 0, 'val': 9}, {'row': 4, 'col': 1, 'val': 9}, {'row': 4, 'col': 2, 'val': 2}, {'row': 4, 'col': 3, 'val': 1}, {'row': 5, 'col': 0, 'val': 6}, {'row': 5, 'col': 1, 'val': 9}, {'row': 5, 'col': 2, 'val': 9}, {'row': 5, 'col': 3, 'val': 9}, {'row': 6, 'col': 0, 'val': 4}, {'row': 6, 'col': 1, 'val': 1}, {'row': 6, 'col': 2, 'val': 9}, {'row': 6, 'col': 3, 'val': 1}, {'row': 7, 'col': 0, 'val': 4}, {'row': 7, 'col': 1, 'val': 9}, {'row': 7, 'col': 2, 'val': 9}, {'row': 7, 'col': 3, 'val': 4}, {'row': 8, 'col': 0, 'val': 9}, {'row': 8, 'col': 1, 'val': 4}, {'row': 8, 'col': 2, 'val': 3}, {'row': 8, 'col': 3, 'val': 9}]\n",
      "\n",
      "Train Input 4: [{'row': 0, 'col': 0, 'val': 1}, {'row': 0, 'col': 1, 'val': 9}, {'row': 0, 'col': 2, 'val': 4}, {'row': 0, 'col': 3, 'val': 4}, {'row': 0, 'col': 4, 'val': 9}, {'row': 0, 'col': 5, 'val': 9}, {'row': 0, 'col': 6, 'val': 2}, {'row': 0, 'col': 7, 'val': 7}, {'row': 0, 'col': 8, 'val': 6}, {'row': 0, 'col': 9, 'val': 6}, {'row': 0, 'col': 10, 'val': 9}, {'row': 0, 'col': 11, 'val': 9}, {'row': 0, 'col': 12, 'val': 7}, {'row': 0, 'col': 13, 'val': 6}, {'row': 0, 'col': 14, 'val': 7}, {'row': 0, 'col': 15, 'val': 2}, {'row': 0, 'col': 16, 'val': 2}, {'row': 0, 'col': 17, 'val': 7}, {'row': 0, 'col': 18, 'val': 6}, {'row': 0, 'col': 19, 'val': 7}, {'row': 0, 'col': 20, 'val': 9}, {'row': 0, 'col': 21, 'val': 9}, {'row': 0, 'col': 22, 'val': 6}, {'row': 0, 'col': 23, 'val': 6}, {'row': 0, 'col': 24, 'val': 7}, {'row': 0, 'col': 25, 'val': 2}, {'row': 0, 'col': 26, 'val': 9}, {'row': 0, 'col': 27, 'val': 9}, {'row': 0, 'col': 28, 'val': 4}, {'row': 0, 'col': 29, 'val': 4}, {'row': 1, 'col': 0, 'val': 7}, {'row': 1, 'col': 1, 'val': 1}, {'row': 1, 'col': 2, 'val': 4}, {'row': 1, 'col': 3, 'val': 4}, {'row': 1, 'col': 4, 'val': 9}, {'row': 1, 'col': 5, 'val': 9}, {'row': 1, 'col': 6, 'val': 7}, {'row': 1, 'col': 7, 'val': 2}, {'row': 1, 'col': 8, 'val': 6}, {'row': 1, 'col': 9, 'val': 6}, {'row': 1, 'col': 10, 'val': 9}, {'row': 1, 'col': 11, 'val': 9}, {'row': 1, 'col': 12, 'val': 6}, {'row': 1, 'col': 13, 'val': 7}, {'row': 1, 'col': 14, 'val': 2}, {'row': 1, 'col': 15, 'val': 7}, {'row': 1, 'col': 16, 'val': 7}, {'row': 1, 'col': 17, 'val': 2}, {'row': 1, 'col': 18, 'val': 7}, {'row': 1, 'col': 19, 'val': 6}, {'row': 1, 'col': 20, 'val': 9}, {'row': 1, 'col': 21, 'val': 9}, {'row': 1, 'col': 22, 'val': 6}, {'row': 1, 'col': 23, 'val': 6}, {'row': 1, 'col': 24, 'val': 2}, {'row': 1, 'col': 25, 'val': 7}, {'row': 1, 'col': 26, 'val': 9}, {'row': 1, 'col': 27, 'val': 9}, {'row': 1, 'col': 28, 'val': 4}, {'row': 1, 'col': 29, 'val': 4}, {'row': 2, 'col': 0, 'val': 2}, {'row': 2, 'col': 1, 'val': 7}, {'row': 2, 'col': 2, 'val': 1}, {'row': 2, 'col': 3, 'val': 9}, {'row': 2, 'col': 4, 'val': 2}, {'row': 2, 'col': 5, 'val': 7}, {'row': 2, 'col': 6, 'val': 9}, {'row': 2, 'col': 7, 'val': 9}, {'row': 2, 'col': 8, 'val': 4}, {'row': 2, 'col': 9, 'val': 4}, {'row': 2, 'col': 10, 'val': 6}, {'row': 2, 'col': 11, 'val': 6}, {'row': 2, 'col': 12, 'val': 7}, {'row': 2, 'col': 13, 'val': 2}, {'row': 2, 'col': 14, 'val': 5}, {'row': 2, 'col': 15, 'val': 1}, {'row': 2, 'col': 16, 'val': 1}, {'row': 2, 'col': 17, 'val': 5}, {'row': 2, 'col': 18, 'val': 2}, {'row': 2, 'col': 19, 'val': 7}, {'row': 2, 'col': 20, 'val': 6}, {'row': 2, 'col': 21, 'val': 6}, {'row': 2, 'col': 22, 'val': 4}, {'row': 2, 'col': 23, 'val': 4}, {'row': 2, 'col': 24, 'val': 9}, {'row': 2, 'col': 25, 'val': 9}, {'row': 2, 'col': 26, 'val': 7}, {'row': 2, 'col': 27, 'val': 2}, {'row': 2, 'col': 28, 'val': 9}, {'row': 2, 'col': 29, 'val': 1}, {'row': 3, 'col': 0, 'val': 7}, {'row': 3, 'col': 1, 'val': 2}, {'row': 3, 'col': 2, 'val': 7}, {'row': 3, 'col': 3, 'val': 1}, {'row': 3, 'col': 4, 'val': 7}, {'row': 3, 'col': 5, 'val': 2}, {'row': 3, 'col': 6, 'val': 9}, {'row': 3, 'col': 7, 'val': 9}, {'row': 3, 'col': 8, 'val': 4}, {'row': 3, 'col': 9, 'val': 4}, {'row': 3, 'col': 10, 'val': 6}, {'row': 3, 'col': 11, 'val': 6}, {'row': 3, 'col': 12, 'val': 2}, {'row': 3, 'col': 13, 'val': 7}, {'row': 3, 'col': 14, 'val': 5}, {'row': 3, 'col': 15, 'val': 5}, {'row': 3, 'col': 16, 'val': 5}, {'row': 3, 'col': 17, 'val': 5}, {'row': 3, 'col': 18, 'val': 7}, {'row': 3, 'col': 19, 'val': 2}, {'row': 3, 'col': 20, 'val': 6}, {'row': 3, 'col': 21, 'val': 6}, {'row': 3, 'col': 22, 'val': 4}, {'row': 3, 'col': 23, 'val': 4}, {'row': 3, 'col': 24, 'val': 9}, {'row': 3, 'col': 25, 'val': 9}, {'row': 3, 'col': 26, 'val': 2}, {'row': 3, 'col': 27, 'val': 7}, {'row': 3, 'col': 28, 'val': 1}, {'row': 3, 'col': 29, 'val': 7}, {'row': 4, 'col': 0, 'val': 9}, {'row': 4, 'col': 1, 'val': 6}, {'row': 4, 'col': 2, 'val': 7}, {'row': 4, 'col': 3, 'val': 2}, {'row': 4, 'col': 4, 'val': 1}, {'row': 4, 'col': 5, 'val': 9}, {'row': 4, 'col': 6, 'val': 4}, {'row': 4, 'col': 7, 'val': 4}, {'row': 4, 'col': 8, 'val': 7}, {'row': 4, 'col': 9, 'val': 6}, {'row': 4, 'col': 10, 'val': 7}, {'row': 4, 'col': 11, 'val': 2}, {'row': 4, 'col': 12, 'val': 9}, {'row': 4, 'col': 13, 'val': 2}, {'row': 4, 'col': 14, 'val': 6}, {'row': 4, 'col': 15, 'val': 4}, {'row': 4, 'col': 16, 'val': 4}, {'row': 4, 'col': 17, 'val': 6}, {'row': 4, 'col': 18, 'val': 2}, {'row': 4, 'col': 19, 'val': 9}, {'row': 4, 'col': 20, 'val': 2}, {'row': 4, 'col': 21, 'val': 7}, {'row': 4, 'col': 22, 'val': 6}, {'row': 4, 'col': 23, 'val': 7}, {'row': 4, 'col': 24, 'val': 4}, {'row': 4, 'col': 25, 'val': 4}, {'row': 4, 'col': 26, 'val': 9}, {'row': 4, 'col': 27, 'val': 1}, {'row': 4, 'col': 28, 'val': 2}, {'row': 4, 'col': 29, 'val': 7}, {'row': 5, 'col': 0, 'val': 6}, {'row': 5, 'col': 1, 'val': 9}, {'row': 5, 'col': 2, 'val': 2}, {'row': 5, 'col': 3, 'val': 7}, {'row': 5, 'col': 4, 'val': 7}, {'row': 5, 'col': 5, 'val': 1}, {'row': 5, 'col': 6, 'val': 4}, {'row': 5, 'col': 7, 'val': 4}, {'row': 5, 'col': 8, 'val': 6}, {'row': 5, 'col': 9, 'val': 7}, {'row': 5, 'col': 10, 'val': 2}, {'row': 5, 'col': 11, 'val': 7}, {'row': 5, 'col': 12, 'val': 9}, {'row': 5, 'col': 13, 'val': 9}, {'row': 5, 'col': 14, 'val': 4}, {'row': 5, 'col': 15, 'val': 6}, {'row': 5, 'col': 16, 'val': 6}, {'row': 5, 'col': 17, 'val': 4}, {'row': 5, 'col': 18, 'val': 9}, {'row': 5, 'col': 19, 'val': 9}, {'row': 5, 'col': 20, 'val': 7}, {'row': 5, 'col': 21, 'val': 2}, {'row': 5, 'col': 22, 'val': 7}, {'row': 5, 'col': 23, 'val': 6}, {'row': 5, 'col': 24, 'val': 4}, {'row': 5, 'col': 25, 'val': 4}, {'row': 5, 'col': 26, 'val': 1}, {'row': 5, 'col': 27, 'val': 7}, {'row': 5, 'col': 28, 'val': 7}, {'row': 5, 'col': 29, 'val': 2}, {'row': 6, 'col': 0, 'val': 7}, {'row': 6, 'col': 1, 'val': 2}, {'row': 6, 'col': 2, 'val': 9}, {'row': 6, 'col': 3, 'val': 6}, {'row': 6, 'col': 4, 'val': 2}, {'row': 6, 'col': 5, 'val': 7}, {'row': 6, 'col': 6, 'val': 1}, {'row': 6, 'col': 7, 'val': 9}, {'row': 6, 'col': 8, 'val': 7}, {'row': 6, 'col': 9, 'val': 2}, {'row': 6, 'col': 10, 'val': 5}, {'row': 6, 'col': 11, 'val': 5}, {'row': 6, 'col': 12, 'val': 4}, {'row': 6, 'col': 13, 'val': 5}, {'row': 6, 'col': 14, 'val': 9}, {'row': 6, 'col': 15, 'val': 2}, {'row': 6, 'col': 16, 'val': 2}, {'row': 6, 'col': 17, 'val': 9}, {'row': 6, 'col': 18, 'val': 5}, {'row': 6, 'col': 19, 'val': 4}, {'row': 6, 'col': 20, 'val': 5}, {'row': 6, 'col': 21, 'val': 5}, {'row': 6, 'col': 22, 'val': 2}, {'row': 6, 'col': 23, 'val': 7}, {'row': 6, 'col': 24, 'val': 9}, {'row': 6, 'col': 25, 'val': 1}, {'row': 6, 'col': 26, 'val': 7}, {'row': 6, 'col': 27, 'val': 2}, {'row': 6, 'col': 28, 'val': 6}, {'row': 6, 'col': 29, 'val': 9}, {'row': 7, 'col': 0, 'val': 2}, {'row': 7, 'col': 1, 'val': 7}, {'row': 7, 'col': 2, 'val': 6}, {'row': 7, 'col': 3, 'val': 9}, {'row': 7, 'col': 4, 'val': 7}, {'row': 7, 'col': 5, 'val': 2}, {'row': 7, 'col': 6, 'val': 7}, {'row': 7, 'col': 7, 'val': 1}, {'row': 7, 'col': 8, 'val': 2}, {'row': 7, 'col': 9, 'val': 7}, {'row': 7, 'col': 10, 'val': 1}, {'row': 7, 'col': 11, 'val': 5}, {'row': 7, 'col': 12, 'val': 5}, {'row': 7, 'col': 13, 'val': 4}, {'row': 7, 'col': 14, 'val': 9}, {'row': 7, 'col': 15, 'val': 9}, {'row': 7, 'col': 16, 'val': 9}, {'row': 7, 'col': 17, 'val': 9}, {'row': 7, 'col': 18, 'val': 4}, {'row': 7, 'col': 19, 'val': 5}, {'row': 7, 'col': 20, 'val': 5}, {'row': 7, 'col': 21, 'val': 1}, {'row': 7, 'col': 22, 'val': 7}, {'row': 7, 'col': 23, 'val': 2}, {'row': 7, 'col': 24, 'val': 1}, {'row': 7, 'col': 25, 'val': 7}, {'row': 7, 'col': 26, 'val': 2}, {'row': 7, 'col': 27, 'val': 7}, {'row': 7, 'col': 28, 'val': 9}, {'row': 7, 'col': 29, 'val': 6}, {'row': 8, 'col': 0, 'val': 6}, {'row': 8, 'col': 1, 'val': 6}, {'row': 8, 'col': 2, 'val': 4}, {'row': 8, 'col': 3, 'val': 4}, {'row': 8, 'col': 4, 'val': 7}, {'row': 8, 'col': 5, 'val': 6}, {'row': 8, 'col': 6, 'val': 7}, {'row': 8, 'col': 7, 'val': 2}, {'row': 8, 'col': 8, 'val': 3}, {'row': 8, 'col': 9, 'val': 7}, {'row': 8, 'col': 10, 'val': 1}, {'row': 8, 'col': 11, 'val': 4}, {'row': 8, 'col': 12, 'val': 9}, {'row': 8, 'col': 13, 'val': 7}, {'row': 8, 'col': 14, 'val': 7}, {'row': 8, 'col': 15, 'val': 6}, {'row': 8, 'col': 16, 'val': 6}, {'row': 8, 'col': 17, 'val': 7}, {'row': 8, 'col': 18, 'val': 7}, {'row': 8, 'col': 19, 'val': 9}, {'row': 8, 'col': 20, 'val': 4}, {'row': 8, 'col': 21, 'val': 1}, {'row': 8, 'col': 22, 'val': 7}, {'row': 8, 'col': 23, 'val': 3}, {'row': 8, 'col': 24, 'val': 2}, {'row': 8, 'col': 25, 'val': 7}, {'row': 8, 'col': 26, 'val': 6}, {'row': 8, 'col': 27, 'val': 7}, {'row': 8, 'col': 28, 'val': 4}, {'row': 8, 'col': 29, 'val': 4}, {'row': 9, 'col': 0, 'val': 6}, {'row': 9, 'col': 1, 'val': 6}, {'row': 9, 'col': 2, 'val': 4}, {'row': 9, 'col': 3, 'val': 4}, {'row': 9, 'col': 4, 'val': 6}, {'row': 9, 'col': 5, 'val': 7}, {'row': 9, 'col': 6, 'val': 2}, {'row': 9, 'col': 7, 'val': 7}, {'row': 9, 'col': 8, 'val': 4}, {'row': 9, 'col': 9, 'val': 3}, {'row': 9, 'col': 10, 'val': 4}, {'row': 9, 'col': 11, 'val': 4}, {'row': 9, 'col': 12, 'val': 7}, {'row': 9, 'col': 13, 'val': 9}, {'row': 9, 'col': 14, 'val': 6}, {'row': 9, 'col': 15, 'val': 7}, {'row': 9, 'col': 16, 'val': 7}, {'row': 9, 'col': 17, 'val': 6}, {'row': 9, 'col': 18, 'val': 9}, {'row': 9, 'col': 19, 'val': 7}, {'row': 9, 'col': 20, 'val': 4}, {'row': 9, 'col': 21, 'val': 4}, {'row': 9, 'col': 22, 'val': 3}, {'row': 9, 'col': 23, 'val': 4}, {'row': 9, 'col': 24, 'val': 7}, {'row': 9, 'col': 25, 'val': 2}, {'row': 9, 'col': 26, 'val': 7}, {'row': 9, 'col': 27, 'val': 6}, {'row': 9, 'col': 28, 'val': 4}, {'row': 9, 'col': 29, 'val': 4}, {'row': 10, 'col': 0, 'val': 9}, {'row': 10, 'col': 1, 'val': 9}, {'row': 10, 'col': 2, 'val': 6}, {'row': 10, 'col': 3, 'val': 6}, {'row': 10, 'col': 4, 'val': 7}, {'row': 10, 'col': 5, 'val': 2}, {'row': 10, 'col': 6, 'val': 5}, {'row': 10, 'col': 7, 'val': 1}, {'row': 10, 'col': 8, 'val': 3}, {'row': 10, 'col': 9, 'val': 7}, {'row': 10, 'col': 10, 'val': 3}, {'row': 10, 'col': 11, 'val': 7}, {'row': 10, 'col': 12, 'val': 7}, {'row': 10, 'col': 13, 'val': 6}, {'row': 10, 'col': 14, 'val': 9}, {'row': 10, 'col': 15, 'val': 7}, {'row': 10, 'col': 16, 'val': 7}, {'row': 10, 'col': 17, 'val': 9}, {'row': 10, 'col': 18, 'val': 6}, {'row': 10, 'col': 19, 'val': 7}, {'row': 10, 'col': 20, 'val': 7}, {'row': 10, 'col': 21, 'val': 3}, {'row': 10, 'col': 22, 'val': 7}, {'row': 10, 'col': 23, 'val': 3}, {'row': 10, 'col': 24, 'val': 1}, {'row': 10, 'col': 25, 'val': 5}, {'row': 10, 'col': 26, 'val': 2}, {'row': 10, 'col': 27, 'val': 7}, {'row': 10, 'col': 28, 'val': 6}, {'row': 10, 'col': 29, 'val': 6}, {'row': 11, 'col': 0, 'val': 9}, {'row': 11, 'col': 1, 'val': 9}, {'row': 11, 'col': 2, 'val': 6}, {'row': 11, 'col': 3, 'val': 6}, {'row': 11, 'col': 4, 'val': 2}, {'row': 11, 'col': 5, 'val': 7}, {'row': 11, 'col': 6, 'val': 5}, {'row': 11, 'col': 7, 'val': 5}, {'row': 11, 'col': 8, 'val': 7}, {'row': 11, 'col': 9, 'val': 7}, {'row': 11, 'col': 10, 'val': 4}, {'row': 11, 'col': 11, 'val': 3}, {'row': 11, 'col': 12, 'val': 6}, {'row': 11, 'col': 13, 'val': 7}, {'row': 11, 'col': 14, 'val': 7}, {'row': 11, 'col': 15, 'val': 9}, {'row': 11, 'col': 16, 'val': 9}, {'row': 11, 'col': 17, 'val': 7}, {'row': 11, 'col': 18, 'val': 7}, {'row': 11, 'col': 19, 'val': 6}, {'row': 11, 'col': 20, 'val': 3}, {'row': 11, 'col': 21, 'val': 4}, {'row': 11, 'col': 22, 'val': 7}, {'row': 11, 'col': 23, 'val': 7}, {'row': 11, 'col': 24, 'val': 5}, {'row': 11, 'col': 25, 'val': 5}, {'row': 11, 'col': 26, 'val': 7}, {'row': 11, 'col': 27, 'val': 2}, {'row': 11, 'col': 28, 'val': 6}, {'row': 11, 'col': 29, 'val': 6}, {'row': 12, 'col': 0, 'val': 7}, {'row': 12, 'col': 1, 'val': 6}, {'row': 12, 'col': 2, 'val': 7}, {'row': 12, 'col': 3, 'val': 2}, {'row': 12, 'col': 4, 'val': 9}, {'row': 12, 'col': 5, 'val': 9}, {'row': 12, 'col': 6, 'val': 4}, {'row': 12, 'col': 7, 'val': 5}, {'row': 12, 'col': 8, 'val': 6}, {'row': 12, 'col': 9, 'val': 6}, {'row': 12, 'col': 10, 'val': 5}, {'row': 12, 'col': 11, 'val': 9}, {'row': 12, 'col': 12, 'val': 3}, {'row': 12, 'col': 13, 'val': 7}, {'row': 12, 'col': 14, 'val': 4}, {'row': 12, 'col': 15, 'val': 4}, {'row': 12, 'col': 16, 'val': 4}, {'row': 12, 'col': 17, 'val': 4}, {'row': 12, 'col': 18, 'val': 7}, {'row': 12, 'col': 19, 'val': 3}, {'row': 12, 'col': 20, 'val': 9}, {'row': 12, 'col': 21, 'val': 5}, {'row': 12, 'col': 22, 'val': 6}, {'row': 12, 'col': 23, 'val': 6}, {'row': 12, 'col': 24, 'val': 5}, {'row': 12, 'col': 25, 'val': 4}, {'row': 12, 'col': 26, 'val': 9}, {'row': 12, 'col': 27, 'val': 9}, {'row': 12, 'col': 28, 'val': 2}, {'row': 12, 'col': 29, 'val': 7}, {'row': 13, 'col': 0, 'val': 6}, {'row': 13, 'col': 1, 'val': 7}, {'row': 13, 'col': 2, 'val': 2}, {'row': 13, 'col': 3, 'val': 7}, {'row': 13, 'col': 4, 'val': 2}, {'row': 13, 'col': 5, 'val': 9}, {'row': 13, 'col': 6, 'val': 5}, {'row': 13, 'col': 7, 'val': 4}, {'row': 13, 'col': 8, 'val': 6}, {'row': 13, 'col': 9, 'val': 6}, {'row': 13, 'col': 10, 'val': 9}, {'row': 13, 'col': 11, 'val': 5}, {'row': 13, 'col': 12, 'val': 4}, {'row': 13, 'col': 13, 'val': 3}, {'row': 13, 'col': 14, 'val': 4}, {'row': 13, 'col': 15, 'val': 1}, {'row': 13, 'col': 16, 'val': 1}, {'row': 13, 'col': 17, 'val': 4}, {'row': 13, 'col': 18, 'val': 3}, {'row': 13, 'col': 19, 'val': 4}, {'row': 13, 'col': 20, 'val': 5}, {'row': 13, 'col': 21, 'val': 9}, {'row': 13, 'col': 22, 'val': 6}, {'row': 13, 'col': 23, 'val': 6}, {'row': 13, 'col': 24, 'val': 4}, {'row': 13, 'col': 25, 'val': 5}, {'row': 13, 'col': 26, 'val': 9}, {'row': 13, 'col': 27, 'val': 2}, {'row': 13, 'col': 28, 'val': 7}, {'row': 13, 'col': 29, 'val': 2}, {'row': 14, 'col': 0, 'val': 7}, {'row': 14, 'col': 1, 'val': 2}, {'row': 14, 'col': 2, 'val': 5}, {'row': 14, 'col': 3, 'val': 5}, {'row': 14, 'col': 4, 'val': 6}, {'row': 14, 'col': 5, 'val': 4}, {'row': 14, 'col': 6, 'val': 9}, {'row': 14, 'col': 7, 'val': 9}, {'row': 14, 'col': 8, 'val': 5}, {'row': 14, 'col': 9, 'val': 9}, {'row': 14, 'col': 10, 'val': 6}, {'row': 14, 'col': 11, 'val': 6}, {'row': 14, 'col': 12, 'val': 7}, {'row': 14, 'col': 13, 'val': 7}, {'row': 14, 'col': 14, 'val': 3}, {'row': 14, 'col': 15, 'val': 7}, {'row': 14, 'col': 16, 'val': 7}, {'row': 14, 'col': 17, 'val': 3}, {'row': 14, 'col': 18, 'val': 7}, {'row': 14, 'col': 19, 'val': 7}, {'row': 14, 'col': 20, 'val': 6}, {'row': 14, 'col': 21, 'val': 6}, {'row': 14, 'col': 22, 'val': 9}, {'row': 14, 'col': 23, 'val': 5}, {'row': 14, 'col': 24, 'val': 9}, {'row': 14, 'col': 25, 'val': 9}, {'row': 14, 'col': 26, 'val': 4}, {'row': 14, 'col': 27, 'val': 6}, {'row': 14, 'col': 28, 'val': 5}, {'row': 14, 'col': 29, 'val': 5}, {'row': 15, 'col': 0, 'val': 2}, {'row': 15, 'col': 1, 'val': 7}, {'row': 15, 'col': 2, 'val': 1}, {'row': 15, 'col': 3, 'val': 5}, {'row': 15, 'col': 4, 'val': 4}, {'row': 15, 'col': 5, 'val': 6}, {'row': 15, 'col': 6, 'val': 2}, {'row': 15, 'col': 7, 'val': 9}, {'row': 15, 'col': 8, 'val': 9}, {'row': 15, 'col': 9, 'val': 5}, {'row': 15, 'col': 10, 'val': 6}, {'row': 15, 'col': 11, 'val': 6}, {'row': 15, 'col': 12, 'val': 7}, {'row': 15, 'col': 13, 'val': 3}, {'row': 15, 'col': 14, 'val': 4}, {'row': 15, 'col': 15, 'val': 3}, {'row': 15, 'col': 16, 'val': 3}, {'row': 15, 'col': 17, 'val': 4}, {'row': 15, 'col': 18, 'val': 3}, {'row': 15, 'col': 19, 'val': 7}, {'row': 15, 'col': 20, 'val': 6}, {'row': 15, 'col': 21, 'val': 6}, {'row': 15, 'col': 22, 'val': 5}, {'row': 15, 'col': 23, 'val': 9}, {'row': 15, 'col': 24, 'val': 9}, {'row': 15, 'col': 25, 'val': 2}, {'row': 15, 'col': 26, 'val': 6}, {'row': 15, 'col': 27, 'val': 4}, {'row': 15, 'col': 28, 'val': 5}, {'row': 15, 'col': 29, 'val': 1}, {'row': 16, 'col': 0, 'val': 2}, {'row': 16, 'col': 1, 'val': 7}, {'row': 16, 'col': 2, 'val': 1}, {'row': 16, 'col': 3, 'val': 5}, {'row': 16, 'col': 4, 'val': 4}, {'row': 16, 'col': 5, 'val': 6}, {'row': 16, 'col': 6, 'val': 2}, {'row': 16, 'col': 7, 'val': 9}, {'row': 16, 'col': 8, 'val': 9}, {'row': 16, 'col': 9, 'val': 5}, {'row': 16, 'col': 10, 'val': 6}, {'row': 16, 'col': 11, 'val': 6}, {'row': 16, 'col': 12, 'val': 7}, {'row': 16, 'col': 13, 'val': 3}, {'row': 16, 'col': 14, 'val': 4}, {'row': 16, 'col': 15, 'val': 3}, {'row': 16, 'col': 16, 'val': 3}, {'row': 16, 'col': 17, 'val': 4}, {'row': 16, 'col': 18, 'val': 3}, {'row': 16, 'col': 19, 'val': 7}, {'row': 16, 'col': 20, 'val': 6}, {'row': 16, 'col': 21, 'val': 6}, {'row': 16, 'col': 22, 'val': 5}, {'row': 16, 'col': 23, 'val': 9}, {'row': 16, 'col': 24, 'val': 9}, {'row': 16, 'col': 25, 'val': 2}, {'row': 16, 'col': 26, 'val': 6}, {'row': 16, 'col': 27, 'val': 4}, {'row': 16, 'col': 28, 'val': 5}, {'row': 16, 'col': 29, 'val': 1}, {'row': 17, 'col': 0, 'val': 7}, {'row': 17, 'col': 1, 'val': 2}, {'row': 17, 'col': 2, 'val': 5}, {'row': 17, 'col': 3, 'val': 5}, {'row': 17, 'col': 4, 'val': 6}, {'row': 17, 'col': 5, 'val': 4}, {'row': 17, 'col': 6, 'val': 9}, {'row': 17, 'col': 7, 'val': 9}, {'row': 17, 'col': 8, 'val': 5}, {'row': 17, 'col': 9, 'val': 9}, {'row': 17, 'col': 10, 'val': 6}, {'row': 17, 'col': 11, 'val': 6}, {'row': 17, 'col': 12, 'val': 7}, {'row': 17, 'col': 13, 'val': 7}, {'row': 17, 'col': 14, 'val': 3}, {'row': 17, 'col': 15, 'val': 7}, {'row': 17, 'col': 16, 'val': 7}, {'row': 17, 'col': 17, 'val': 3}, {'row': 17, 'col': 18, 'val': 7}, {'row': 17, 'col': 19, 'val': 7}, {'row': 17, 'col': 20, 'val': 6}, {'row': 17, 'col': 21, 'val': 6}, {'row': 17, 'col': 22, 'val': 9}, {'row': 17, 'col': 23, 'val': 5}, {'row': 17, 'col': 24, 'val': 9}, {'row': 17, 'col': 25, 'val': 9}, {'row': 17, 'col': 26, 'val': 4}, {'row': 17, 'col': 27, 'val': 6}, {'row': 17, 'col': 28, 'val': 5}, {'row': 17, 'col': 29, 'val': 5}, {'row': 18, 'col': 0, 'val': 6}, {'row': 18, 'col': 1, 'val': 7}, {'row': 18, 'col': 2, 'val': 2}, {'row': 18, 'col': 3, 'val': 7}, {'row': 18, 'col': 4, 'val': 2}, {'row': 18, 'col': 5, 'val': 9}, {'row': 18, 'col': 6, 'val': 5}, {'row': 18, 'col': 7, 'val': 4}, {'row': 18, 'col': 8, 'val': 6}, {'row': 18, 'col': 9, 'val': 6}, {'row': 18, 'col': 10, 'val': 9}, {'row': 18, 'col': 11, 'val': 5}, {'row': 18, 'col': 12, 'val': 4}, {'row': 18, 'col': 13, 'val': 3}, {'row': 18, 'col': 14, 'val': 4}, {'row': 18, 'col': 15, 'val': 1}, {'row': 18, 'col': 16, 'val': 1}, {'row': 18, 'col': 17, 'val': 4}, {'row': 18, 'col': 18, 'val': 3}, {'row': 18, 'col': 19, 'val': 4}, {'row': 18, 'col': 20, 'val': 5}, {'row': 18, 'col': 21, 'val': 9}, {'row': 18, 'col': 22, 'val': 6}, {'row': 18, 'col': 23, 'val': 6}, {'row': 18, 'col': 24, 'val': 4}, {'row': 18, 'col': 25, 'val': 5}, {'row': 18, 'col': 26, 'val': 9}, {'row': 18, 'col': 27, 'val': 2}, {'row': 18, 'col': 28, 'val': 7}, {'row': 18, 'col': 29, 'val': 2}, {'row': 19, 'col': 0, 'val': 7}, {'row': 19, 'col': 1, 'val': 6}, {'row': 19, 'col': 2, 'val': 7}, {'row': 19, 'col': 3, 'val': 2}, {'row': 19, 'col': 4, 'val': 9}, {'row': 19, 'col': 5, 'val': 9}, {'row': 19, 'col': 6, 'val': 4}, {'row': 19, 'col': 7, 'val': 5}, {'row': 19, 'col': 8, 'val': 6}, {'row': 19, 'col': 9, 'val': 6}, {'row': 19, 'col': 10, 'val': 5}, {'row': 19, 'col': 11, 'val': 9}, {'row': 19, 'col': 12, 'val': 8}, {'row': 19, 'col': 13, 'val': 8}, {'row': 19, 'col': 14, 'val': 8}, {'row': 19, 'col': 15, 'val': 8}, {'row': 19, 'col': 16, 'val': 8}, {'row': 19, 'col': 17, 'val': 8}, {'row': 19, 'col': 18, 'val': 8}, {'row': 19, 'col': 19, 'val': 3}, {'row': 19, 'col': 20, 'val': 9}, {'row': 19, 'col': 21, 'val': 5}, {'row': 19, 'col': 22, 'val': 6}, {'row': 19, 'col': 23, 'val': 6}, {'row': 19, 'col': 24, 'val': 5}, {'row': 19, 'col': 25, 'val': 4}, {'row': 19, 'col': 26, 'val': 9}, {'row': 19, 'col': 27, 'val': 9}, {'row': 19, 'col': 28, 'val': 2}, {'row': 19, 'col': 29, 'val': 7}, {'row': 20, 'col': 0, 'val': 9}, {'row': 20, 'col': 1, 'val': 9}, {'row': 20, 'col': 2, 'val': 6}, {'row': 20, 'col': 3, 'val': 6}, {'row': 20, 'col': 4, 'val': 2}, {'row': 20, 'col': 5, 'val': 7}, {'row': 20, 'col': 6, 'val': 5}, {'row': 20, 'col': 7, 'val': 5}, {'row': 20, 'col': 8, 'val': 7}, {'row': 20, 'col': 9, 'val': 7}, {'row': 20, 'col': 10, 'val': 4}, {'row': 20, 'col': 11, 'val': 3}, {'row': 20, 'col': 12, 'val': 8}, {'row': 20, 'col': 13, 'val': 8}, {'row': 20, 'col': 14, 'val': 8}, {'row': 20, 'col': 15, 'val': 8}, {'row': 20, 'col': 16, 'val': 8}, {'row': 20, 'col': 17, 'val': 8}, {'row': 20, 'col': 18, 'val': 8}, {'row': 20, 'col': 19, 'val': 6}, {'row': 20, 'col': 20, 'val': 3}, {'row': 20, 'col': 21, 'val': 4}, {'row': 20, 'col': 22, 'val': 7}, {'row': 20, 'col': 23, 'val': 7}, {'row': 20, 'col': 24, 'val': 5}, {'row': 20, 'col': 25, 'val': 5}, {'row': 20, 'col': 26, 'val': 7}, {'row': 20, 'col': 27, 'val': 2}, {'row': 20, 'col': 28, 'val': 6}, {'row': 20, 'col': 29, 'val': 6}, {'row': 21, 'col': 0, 'val': 9}, {'row': 21, 'col': 1, 'val': 9}, {'row': 21, 'col': 2, 'val': 6}, {'row': 21, 'col': 3, 'val': 6}, {'row': 21, 'col': 4, 'val': 7}, {'row': 21, 'col': 5, 'val': 2}, {'row': 21, 'col': 6, 'val': 5}, {'row': 21, 'col': 7, 'val': 1}, {'row': 21, 'col': 8, 'val': 3}, {'row': 21, 'col': 9, 'val': 7}, {'row': 21, 'col': 10, 'val': 3}, {'row': 21, 'col': 11, 'val': 7}, {'row': 21, 'col': 12, 'val': 8}, {'row': 21, 'col': 13, 'val': 8}, {'row': 21, 'col': 14, 'val': 8}, {'row': 21, 'col': 15, 'val': 8}, {'row': 21, 'col': 16, 'val': 8}, {'row': 21, 'col': 17, 'val': 8}, {'row': 21, 'col': 18, 'val': 8}, {'row': 21, 'col': 19, 'val': 7}, {'row': 21, 'col': 20, 'val': 7}, {'row': 21, 'col': 21, 'val': 3}, {'row': 21, 'col': 22, 'val': 7}, {'row': 21, 'col': 23, 'val': 3}, {'row': 21, 'col': 24, 'val': 1}, {'row': 21, 'col': 25, 'val': 5}, {'row': 21, 'col': 26, 'val': 2}, {'row': 21, 'col': 27, 'val': 7}, {'row': 21, 'col': 28, 'val': 6}, {'row': 21, 'col': 29, 'val': 6}, {'row': 22, 'col': 0, 'val': 6}, {'row': 22, 'col': 1, 'val': 6}, {'row': 22, 'col': 2, 'val': 4}, {'row': 22, 'col': 3, 'val': 4}, {'row': 22, 'col': 4, 'val': 6}, {'row': 22, 'col': 5, 'val': 7}, {'row': 22, 'col': 6, 'val': 2}, {'row': 22, 'col': 7, 'val': 7}, {'row': 22, 'col': 8, 'val': 4}, {'row': 22, 'col': 9, 'val': 3}, {'row': 22, 'col': 10, 'val': 4}, {'row': 22, 'col': 11, 'val': 4}, {'row': 22, 'col': 12, 'val': 7}, {'row': 22, 'col': 13, 'val': 9}, {'row': 22, 'col': 14, 'val': 6}, {'row': 22, 'col': 15, 'val': 7}, {'row': 22, 'col': 16, 'val': 7}, {'row': 22, 'col': 17, 'val': 6}, {'row': 22, 'col': 18, 'val': 9}, {'row': 22, 'col': 19, 'val': 7}, {'row': 22, 'col': 20, 'val': 4}, {'row': 22, 'col': 21, 'val': 4}, {'row': 22, 'col': 22, 'val': 3}, {'row': 22, 'col': 23, 'val': 4}, {'row': 22, 'col': 24, 'val': 7}, {'row': 22, 'col': 25, 'val': 2}, {'row': 22, 'col': 26, 'val': 7}, {'row': 22, 'col': 27, 'val': 6}, {'row': 22, 'col': 28, 'val': 4}, {'row': 22, 'col': 29, 'val': 4}, {'row': 23, 'col': 0, 'val': 6}, {'row': 23, 'col': 1, 'val': 6}, {'row': 23, 'col': 2, 'val': 4}, {'row': 23, 'col': 3, 'val': 4}, {'row': 23, 'col': 4, 'val': 7}, {'row': 23, 'col': 5, 'val': 6}, {'row': 23, 'col': 6, 'val': 7}, {'row': 23, 'col': 7, 'val': 2}, {'row': 23, 'col': 8, 'val': 3}, {'row': 23, 'col': 9, 'val': 7}, {'row': 23, 'col': 10, 'val': 1}, {'row': 23, 'col': 11, 'val': 4}, {'row': 23, 'col': 12, 'val': 9}, {'row': 23, 'col': 13, 'val': 7}, {'row': 23, 'col': 14, 'val': 7}, {'row': 23, 'col': 15, 'val': 6}, {'row': 23, 'col': 16, 'val': 6}, {'row': 23, 'col': 17, 'val': 7}, {'row': 23, 'col': 18, 'val': 7}, {'row': 23, 'col': 19, 'val': 9}, {'row': 23, 'col': 20, 'val': 4}, {'row': 23, 'col': 21, 'val': 1}, {'row': 23, 'col': 22, 'val': 7}, {'row': 23, 'col': 23, 'val': 3}, {'row': 23, 'col': 24, 'val': 2}, {'row': 23, 'col': 25, 'val': 7}, {'row': 23, 'col': 26, 'val': 6}, {'row': 23, 'col': 27, 'val': 7}, {'row': 23, 'col': 28, 'val': 4}, {'row': 23, 'col': 29, 'val': 4}, {'row': 24, 'col': 0, 'val': 2}, {'row': 24, 'col': 1, 'val': 7}, {'row': 24, 'col': 2, 'val': 6}, {'row': 24, 'col': 3, 'val': 9}, {'row': 24, 'col': 4, 'val': 7}, {'row': 24, 'col': 5, 'val': 2}, {'row': 24, 'col': 6, 'val': 7}, {'row': 24, 'col': 7, 'val': 1}, {'row': 24, 'col': 8, 'val': 2}, {'row': 24, 'col': 9, 'val': 7}, {'row': 24, 'col': 10, 'val': 1}, {'row': 24, 'col': 11, 'val': 5}, {'row': 24, 'col': 12, 'val': 5}, {'row': 24, 'col': 13, 'val': 4}, {'row': 24, 'col': 14, 'val': 9}, {'row': 24, 'col': 15, 'val': 9}, {'row': 24, 'col': 16, 'val': 9}, {'row': 24, 'col': 17, 'val': 9}, {'row': 24, 'col': 18, 'val': 4}, {'row': 24, 'col': 19, 'val': 5}, {'row': 24, 'col': 20, 'val': 5}, {'row': 24, 'col': 21, 'val': 1}, {'row': 24, 'col': 22, 'val': 7}, {'row': 24, 'col': 23, 'val': 2}, {'row': 24, 'col': 24, 'val': 1}, {'row': 24, 'col': 25, 'val': 7}, {'row': 24, 'col': 26, 'val': 2}, {'row': 24, 'col': 27, 'val': 7}, {'row': 24, 'col': 28, 'val': 9}, {'row': 24, 'col': 29, 'val': 6}, {'row': 25, 'col': 0, 'val': 7}, {'row': 25, 'col': 1, 'val': 2}, {'row': 25, 'col': 2, 'val': 9}, {'row': 25, 'col': 3, 'val': 6}, {'row': 25, 'col': 4, 'val': 2}, {'row': 25, 'col': 5, 'val': 7}, {'row': 25, 'col': 6, 'val': 1}, {'row': 25, 'col': 7, 'val': 9}, {'row': 25, 'col': 8, 'val': 7}, {'row': 25, 'col': 9, 'val': 2}, {'row': 25, 'col': 10, 'val': 5}, {'row': 25, 'col': 11, 'val': 5}, {'row': 25, 'col': 12, 'val': 4}, {'row': 25, 'col': 13, 'val': 5}, {'row': 25, 'col': 14, 'val': 9}, {'row': 25, 'col': 15, 'val': 2}, {'row': 25, 'col': 16, 'val': 2}, {'row': 25, 'col': 17, 'val': 9}, {'row': 25, 'col': 18, 'val': 5}, {'row': 25, 'col': 19, 'val': 4}, {'row': 25, 'col': 20, 'val': 5}, {'row': 25, 'col': 21, 'val': 5}, {'row': 25, 'col': 22, 'val': 2}, {'row': 25, 'col': 23, 'val': 7}, {'row': 25, 'col': 24, 'val': 9}, {'row': 25, 'col': 25, 'val': 1}, {'row': 25, 'col': 26, 'val': 7}, {'row': 25, 'col': 27, 'val': 2}, {'row': 25, 'col': 28, 'val': 6}, {'row': 25, 'col': 29, 'val': 9}, {'row': 26, 'col': 0, 'val': 6}, {'row': 26, 'col': 1, 'val': 9}, {'row': 26, 'col': 2, 'val': 2}, {'row': 26, 'col': 3, 'val': 7}, {'row': 26, 'col': 4, 'val': 7}, {'row': 26, 'col': 5, 'val': 1}, {'row': 26, 'col': 6, 'val': 4}, {'row': 26, 'col': 7, 'val': 4}, {'row': 26, 'col': 8, 'val': 6}, {'row': 26, 'col': 9, 'val': 7}, {'row': 26, 'col': 10, 'val': 2}, {'row': 26, 'col': 11, 'val': 7}, {'row': 26, 'col': 12, 'val': 9}, {'row': 26, 'col': 13, 'val': 9}, {'row': 26, 'col': 14, 'val': 4}, {'row': 26, 'col': 15, 'val': 6}, {'row': 26, 'col': 16, 'val': 6}, {'row': 26, 'col': 17, 'val': 4}, {'row': 26, 'col': 18, 'val': 9}, {'row': 26, 'col': 19, 'val': 9}, {'row': 26, 'col': 20, 'val': 7}, {'row': 26, 'col': 21, 'val': 2}, {'row': 26, 'col': 22, 'val': 7}, {'row': 26, 'col': 23, 'val': 6}, {'row': 26, 'col': 24, 'val': 4}, {'row': 26, 'col': 25, 'val': 4}, {'row': 26, 'col': 26, 'val': 1}, {'row': 26, 'col': 27, 'val': 7}, {'row': 26, 'col': 28, 'val': 7}, {'row': 26, 'col': 29, 'val': 2}, {'row': 27, 'col': 0, 'val': 9}, {'row': 27, 'col': 1, 'val': 6}, {'row': 27, 'col': 2, 'val': 7}, {'row': 27, 'col': 3, 'val': 2}, {'row': 27, 'col': 4, 'val': 1}, {'row': 27, 'col': 5, 'val': 9}, {'row': 27, 'col': 6, 'val': 4}, {'row': 27, 'col': 7, 'val': 4}, {'row': 27, 'col': 8, 'val': 7}, {'row': 27, 'col': 9, 'val': 6}, {'row': 27, 'col': 10, 'val': 7}, {'row': 27, 'col': 11, 'val': 2}, {'row': 27, 'col': 12, 'val': 9}, {'row': 27, 'col': 13, 'val': 2}, {'row': 27, 'col': 14, 'val': 6}, {'row': 27, 'col': 15, 'val': 4}, {'row': 27, 'col': 16, 'val': 4}, {'row': 27, 'col': 17, 'val': 6}, {'row': 27, 'col': 18, 'val': 2}, {'row': 27, 'col': 19, 'val': 9}, {'row': 27, 'col': 20, 'val': 2}, {'row': 27, 'col': 21, 'val': 7}, {'row': 27, 'col': 22, 'val': 6}, {'row': 27, 'col': 23, 'val': 7}, {'row': 27, 'col': 24, 'val': 4}, {'row': 27, 'col': 25, 'val': 4}, {'row': 27, 'col': 26, 'val': 9}, {'row': 27, 'col': 27, 'val': 1}, {'row': 27, 'col': 28, 'val': 2}, {'row': 27, 'col': 29, 'val': 7}, {'row': 28, 'col': 0, 'val': 7}, {'row': 28, 'col': 1, 'val': 2}, {'row': 28, 'col': 2, 'val': 7}, {'row': 28, 'col': 3, 'val': 1}, {'row': 28, 'col': 4, 'val': 7}, {'row': 28, 'col': 5, 'val': 2}, {'row': 28, 'col': 6, 'val': 9}, {'row': 28, 'col': 7, 'val': 9}, {'row': 28, 'col': 8, 'val': 4}, {'row': 28, 'col': 9, 'val': 4}, {'row': 28, 'col': 10, 'val': 6}, {'row': 28, 'col': 11, 'val': 6}, {'row': 28, 'col': 12, 'val': 2}, {'row': 28, 'col': 13, 'val': 7}, {'row': 28, 'col': 14, 'val': 5}, {'row': 28, 'col': 15, 'val': 5}, {'row': 28, 'col': 16, 'val': 5}, {'row': 28, 'col': 17, 'val': 5}, {'row': 28, 'col': 18, 'val': 7}, {'row': 28, 'col': 19, 'val': 2}, {'row': 28, 'col': 20, 'val': 6}, {'row': 28, 'col': 21, 'val': 6}, {'row': 28, 'col': 22, 'val': 4}, {'row': 28, 'col': 23, 'val': 4}, {'row': 28, 'col': 24, 'val': 9}, {'row': 28, 'col': 25, 'val': 9}, {'row': 28, 'col': 26, 'val': 2}, {'row': 28, 'col': 27, 'val': 7}, {'row': 28, 'col': 28, 'val': 1}, {'row': 28, 'col': 29, 'val': 7}, {'row': 29, 'col': 0, 'val': 2}, {'row': 29, 'col': 1, 'val': 7}, {'row': 29, 'col': 2, 'val': 1}, {'row': 29, 'col': 3, 'val': 9}, {'row': 29, 'col': 4, 'val': 2}, {'row': 29, 'col': 5, 'val': 7}, {'row': 29, 'col': 6, 'val': 9}, {'row': 29, 'col': 7, 'val': 9}, {'row': 29, 'col': 8, 'val': 4}, {'row': 29, 'col': 9, 'val': 4}, {'row': 29, 'col': 10, 'val': 6}, {'row': 29, 'col': 11, 'val': 6}, {'row': 29, 'col': 12, 'val': 7}, {'row': 29, 'col': 13, 'val': 2}, {'row': 29, 'col': 14, 'val': 5}, {'row': 29, 'col': 15, 'val': 1}, {'row': 29, 'col': 16, 'val': 1}, {'row': 29, 'col': 17, 'val': 5}, {'row': 29, 'col': 18, 'val': 2}, {'row': 29, 'col': 19, 'val': 7}, {'row': 29, 'col': 20, 'val': 6}, {'row': 29, 'col': 21, 'val': 6}, {'row': 29, 'col': 22, 'val': 4}, {'row': 29, 'col': 23, 'val': 4}, {'row': 29, 'col': 24, 'val': 9}, {'row': 29, 'col': 25, 'val': 9}, {'row': 29, 'col': 26, 'val': 7}, {'row': 29, 'col': 27, 'val': 2}, {'row': 29, 'col': 28, 'val': 9}, {'row': 29, 'col': 29, 'val': 1}]\n",
      "Train Output 4: [{'row': 0, 'col': 0, 'val': 3}, {'row': 0, 'col': 1, 'val': 7}, {'row': 0, 'col': 2, 'val': 4}, {'row': 0, 'col': 3, 'val': 4}, {'row': 0, 'col': 4, 'val': 4}, {'row': 0, 'col': 5, 'val': 4}, {'row': 0, 'col': 6, 'val': 7}, {'row': 1, 'col': 0, 'val': 6}, {'row': 1, 'col': 1, 'val': 7}, {'row': 1, 'col': 2, 'val': 7}, {'row': 1, 'col': 3, 'val': 9}, {'row': 1, 'col': 4, 'val': 9}, {'row': 1, 'col': 5, 'val': 7}, {'row': 1, 'col': 6, 'val': 7}, {'row': 2, 'col': 0, 'val': 7}, {'row': 2, 'col': 1, 'val': 6}, {'row': 2, 'col': 2, 'val': 9}, {'row': 2, 'col': 3, 'val': 7}, {'row': 2, 'col': 4, 'val': 7}, {'row': 2, 'col': 5, 'val': 9}, {'row': 2, 'col': 6, 'val': 6}]\n",
      "\n"
     ]
    }
   ],
   "source": [
    "print(tailored_prompt)"
   ]
  }
 ],
 "metadata": {
  "kernelspec": {
   "display_name": "Python 3",
   "language": "python",
   "name": "python3"
  },
  "language_info": {
   "codemirror_mode": {
    "name": "ipython",
    "version": 3
   },
   "file_extension": ".py",
   "mimetype": "text/x-python",
   "name": "python",
   "nbconvert_exporter": "python",
   "pygments_lexer": "ipython3",
   "version": "3.11.6"
  }
 },
 "nbformat": 4,
 "nbformat_minor": 2
}
