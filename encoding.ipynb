{
 "cells": [
  {
   "cell_type": "code",
   "execution_count": 7,
   "id": "5a19659c",
   "metadata": {},
   "outputs": [],
   "source": [
    "import os\n",
    "import json\n",
    "from pprint import pprint\n"
   ]
  },
  {
   "cell_type": "code",
   "execution_count": 8,
   "id": "78485878",
   "metadata": {},
   "outputs": [],
   "source": [
    "def load_all_tasks(folder_path):\n",
    "    tasks = {}\n",
    "    for filename in os.listdir(folder_path):\n",
    "        if filename.endswith(\".json\"):\n",
    "            task_id = filename.replace(\".json\", \"\")\n",
    "            filepath = os.path.join(folder_path, filename)\n",
    "            with open(filepath, \"r\") as f:\n",
    "                task_data = json.load(f)\n",
    "                tasks[task_id] = task_data\n",
    "    return tasks"
   ]
  },
  {
   "cell_type": "markdown",
   "id": "a2ccd8e9",
   "metadata": {},
   "source": [
    "## Nonzero coordinates"
   ]
  },
  {
   "cell_type": "markdown",
   "id": "f0a121bd",
   "metadata": {},
   "source": [
    "States the row and column of each non-zero value cell in a grid."
   ]
  },
  {
   "cell_type": "code",
   "execution_count": 9,
   "id": "eb69649a",
   "metadata": {},
   "outputs": [],
   "source": [
    "def encode_nonzero_coordinates(grid):\n",
    "    coords = []\n",
    "    for i, row in enumerate(grid):\n",
    "        for j, val in enumerate(row):\n",
    "            if val != 0:\n",
    "                coords.append({\"row\": i, \"col\": j, \"val\": val})\n",
    "    return coords"
   ]
  },
  {
   "cell_type": "code",
   "execution_count": 10,
   "id": "15cff90f",
   "metadata": {},
   "outputs": [],
   "source": [
    "def encode_task_nonzero_coords(task):\n",
    "    encoded = {\"train\": [], \"test\": []}\n",
    "\n",
    "    for pair in task[\"train\"]:\n",
    "        encoded[\"train\"].append({\n",
    "            \"input\": encode_nonzero_coordinates(pair[\"input\"]),\n",
    "            \"output\": encode_nonzero_coordinates(pair[\"output\"])\n",
    "        })\n",
    "\n",
    "    return encoded"
   ]
  },
  {
   "cell_type": "code",
   "execution_count": 12,
   "id": "e52c8bae",
   "metadata": {},
   "outputs": [
    {
     "name": "stdout",
     "output_type": "stream",
     "text": [
      "{'input': [{'col': 1, 'row': 1, 'val': 1},\n",
      "           {'col': 3, 'row': 3, 'val': 1},\n",
      "           {'col': 5, 'row': 5, 'val': 1}],\n",
      " 'output': [{'col': 1, 'row': 1, 'val': 1},\n",
      "            {'col': 3, 'row': 3, 'val': 1},\n",
      "            {'col': 5, 'row': 5, 'val': 1},\n",
      "            {'col': 7, 'row': 7, 'val': 2},\n",
      "            {'col': 9, 'row': 9, 'val': 2},\n",
      "            {'col': 11, 'row': 11, 'val': 2},\n",
      "            {'col': 13, 'row': 13, 'val': 2}]}\n"
     ]
    }
   ],
   "source": [
    "# Load tasks\n",
    "tasks = load_all_tasks(\"Evaluation_set\")\n",
    "\n",
    "# Pick one task\n",
    "task_id = \"0b17323b\"  # example\n",
    "task = tasks[task_id]\n",
    "\n",
    "# Encode it\n",
    "nonzero_encoded_task = encode_task_nonzero_coords(task)\n",
    "\n",
    "# Print result\n",
    "pprint(nonzero_encoded_task[\"train\"][0])"
   ]
  },
  {
   "cell_type": "code",
   "execution_count": 17,
   "id": "58d05155",
   "metadata": {},
   "outputs": [
    {
     "name": "stdout",
     "output_type": "stream",
     "text": [
      "{'input': [[0, 0, 0, 0, 0, 0, 0, 0, 0, 0, 0, 0, 0, 0, 0],\n",
      "           [0, 1, 0, 0, 0, 0, 0, 0, 0, 0, 0, 0, 0, 0, 0],\n",
      "           [0, 0, 0, 0, 0, 0, 0, 0, 0, 0, 0, 0, 0, 0, 0],\n",
      "           [0, 0, 0, 1, 0, 0, 0, 0, 0, 0, 0, 0, 0, 0, 0],\n",
      "           [0, 0, 0, 0, 0, 0, 0, 0, 0, 0, 0, 0, 0, 0, 0],\n",
      "           [0, 0, 0, 0, 0, 1, 0, 0, 0, 0, 0, 0, 0, 0, 0],\n",
      "           [0, 0, 0, 0, 0, 0, 0, 0, 0, 0, 0, 0, 0, 0, 0],\n",
      "           [0, 0, 0, 0, 0, 0, 0, 0, 0, 0, 0, 0, 0, 0, 0],\n",
      "           [0, 0, 0, 0, 0, 0, 0, 0, 0, 0, 0, 0, 0, 0, 0],\n",
      "           [0, 0, 0, 0, 0, 0, 0, 0, 0, 0, 0, 0, 0, 0, 0],\n",
      "           [0, 0, 0, 0, 0, 0, 0, 0, 0, 0, 0, 0, 0, 0, 0],\n",
      "           [0, 0, 0, 0, 0, 0, 0, 0, 0, 0, 0, 0, 0, 0, 0],\n",
      "           [0, 0, 0, 0, 0, 0, 0, 0, 0, 0, 0, 0, 0, 0, 0],\n",
      "           [0, 0, 0, 0, 0, 0, 0, 0, 0, 0, 0, 0, 0, 0, 0],\n",
      "           [0, 0, 0, 0, 0, 0, 0, 0, 0, 0, 0, 0, 0, 0, 0]],\n",
      " 'output': [[0, 0, 0, 0, 0, 0, 0, 0, 0, 0, 0, 0, 0, 0, 0],\n",
      "            [0, 1, 0, 0, 0, 0, 0, 0, 0, 0, 0, 0, 0, 0, 0],\n",
      "            [0, 0, 0, 0, 0, 0, 0, 0, 0, 0, 0, 0, 0, 0, 0],\n",
      "            [0, 0, 0, 1, 0, 0, 0, 0, 0, 0, 0, 0, 0, 0, 0],\n",
      "            [0, 0, 0, 0, 0, 0, 0, 0, 0, 0, 0, 0, 0, 0, 0],\n",
      "            [0, 0, 0, 0, 0, 1, 0, 0, 0, 0, 0, 0, 0, 0, 0],\n",
      "            [0, 0, 0, 0, 0, 0, 0, 0, 0, 0, 0, 0, 0, 0, 0],\n",
      "            [0, 0, 0, 0, 0, 0, 0, 2, 0, 0, 0, 0, 0, 0, 0],\n",
      "            [0, 0, 0, 0, 0, 0, 0, 0, 0, 0, 0, 0, 0, 0, 0],\n",
      "            [0, 0, 0, 0, 0, 0, 0, 0, 0, 2, 0, 0, 0, 0, 0],\n",
      "            [0, 0, 0, 0, 0, 0, 0, 0, 0, 0, 0, 0, 0, 0, 0],\n",
      "            [0, 0, 0, 0, 0, 0, 0, 0, 0, 0, 0, 2, 0, 0, 0],\n",
      "            [0, 0, 0, 0, 0, 0, 0, 0, 0, 0, 0, 0, 0, 0, 0],\n",
      "            [0, 0, 0, 0, 0, 0, 0, 0, 0, 0, 0, 0, 0, 2, 0],\n",
      "            [0, 0, 0, 0, 0, 0, 0, 0, 0, 0, 0, 0, 0, 0, 0]]}\n"
     ]
    }
   ],
   "source": [
    "pprint(task[\"train\"][0])"
   ]
  },
  {
   "cell_type": "markdown",
   "id": "055b2b2a",
   "metadata": {},
   "source": [
    "## Object / Bounding Box Encoding"
   ]
  },
  {
   "cell_type": "markdown",
   "id": "583de1e7",
   "metadata": {},
   "source": [
    "This encoding identifies each connected group of same-colored, non-zero cells in the grid as an individual object, and describes it using its color, position, and shape.\n",
    "\n",
    "- color:\n",
    "    The integer value (≥1) representing the color of the object in the grid.\n",
    "\n",
    "- top_left:\n",
    "    The [row, col] coordinates of the top-left corner of the object’s bounding box.\n",
    "\n",
    "- width:\n",
    "    The number of columns (horizontal span) the object occupies.\n",
    "\n",
    "- height:\n",
    "    The number of rows (vertical span) the object occupies.\n",
    "\n",
    "- pixels:\n",
    "    A list of all (row, col) positions that belong to the object — i.e., every grid cell that is part of this same-colored connected component."
   ]
  },
  {
   "cell_type": "code",
   "execution_count": 14,
   "id": "e8d2d9d2",
   "metadata": {},
   "outputs": [],
   "source": [
    "from collections import deque\n",
    "\n",
    "def extract_objects(grid):\n",
    "    visited = set()\n",
    "    objects = []\n",
    "    rows, cols = len(grid), len(grid[0])\n",
    "\n",
    "    def bfs(r, c, color):\n",
    "        q = deque([(r, c)])\n",
    "        visited.add((r, c))\n",
    "        pixels = [(r, c)]\n",
    "        min_r, min_c = r, c\n",
    "        max_r, max_c = r, c\n",
    "\n",
    "        while q:\n",
    "            cr, cc = q.popleft()\n",
    "            for dr, dc in [(-1,0), (1,0), (0,-1), (0,1)]:\n",
    "                nr, nc = cr + dr, cc + dc\n",
    "                if (\n",
    "                    0 <= nr < rows and\n",
    "                    0 <= nc < cols and\n",
    "                    (nr, nc) not in visited and\n",
    "                    grid[nr][nc] == color\n",
    "                ):\n",
    "                    visited.add((nr, nc))\n",
    "                    q.append((nr, nc))\n",
    "                    pixels.append((nr, nc))\n",
    "                    min_r = min(min_r, nr)\n",
    "                    min_c = min(min_c, nc)\n",
    "                    max_r = max(max_r, nr)\n",
    "                    max_c = max(max_c, nc)\n",
    "\n",
    "        return {\n",
    "            \"color\": color,\n",
    "            \"top_left\": [min_r, min_c],\n",
    "            \"width\": max_c - min_c + 1,\n",
    "            \"height\": max_r - min_r + 1,\n",
    "            \"pixels\": pixels  # optional, remove if not needed\n",
    "        }\n",
    "\n",
    "    for r in range(rows):\n",
    "        for c in range(cols):\n",
    "            color = grid[r][c]\n",
    "            if color != 0 and (r, c) not in visited:\n",
    "                objects.append(bfs(r, c, color))\n",
    "\n",
    "    return objects\n"
   ]
  },
  {
   "cell_type": "code",
   "execution_count": 15,
   "id": "ea4cf4da",
   "metadata": {},
   "outputs": [],
   "source": [
    "def encode_task_objects(task):\n",
    "    encoded = {\"train\": [], \"test\": []}\n",
    "\n",
    "    for pair in task[\"train\"]:\n",
    "        encoded[\"train\"].append({\n",
    "            \"input\": extract_objects(pair[\"input\"]),\n",
    "            \"output\": extract_objects(pair[\"output\"])\n",
    "        })\n",
    "\n",
    "    for pair in task[\"test\"]:\n",
    "        encoded[\"test\"].append({\n",
    "            \"input\": extract_objects(pair[\"input\"])\n",
    "        })\n",
    "\n",
    "    return encoded\n"
   ]
  },
  {
   "cell_type": "code",
   "execution_count": 16,
   "id": "ef93d337",
   "metadata": {},
   "outputs": [
    {
     "name": "stdout",
     "output_type": "stream",
     "text": [
      "{'input': [{'color': 1,\n",
      "            'height': 1,\n",
      "            'pixels': [(1, 1)],\n",
      "            'top_left': [1, 1],\n",
      "            'width': 1},\n",
      "           {'color': 1,\n",
      "            'height': 1,\n",
      "            'pixels': [(3, 3)],\n",
      "            'top_left': [3, 3],\n",
      "            'width': 1},\n",
      "           {'color': 1,\n",
      "            'height': 1,\n",
      "            'pixels': [(5, 5)],\n",
      "            'top_left': [5, 5],\n",
      "            'width': 1}],\n",
      " 'output': [{'color': 1,\n",
      "             'height': 1,\n",
      "             'pixels': [(1, 1)],\n",
      "             'top_left': [1, 1],\n",
      "             'width': 1},\n",
      "            {'color': 1,\n",
      "             'height': 1,\n",
      "             'pixels': [(3, 3)],\n",
      "             'top_left': [3, 3],\n",
      "             'width': 1},\n",
      "            {'color': 1,\n",
      "             'height': 1,\n",
      "             'pixels': [(5, 5)],\n",
      "             'top_left': [5, 5],\n",
      "             'width': 1},\n",
      "            {'color': 2,\n",
      "             'height': 1,\n",
      "             'pixels': [(7, 7)],\n",
      "             'top_left': [7, 7],\n",
      "             'width': 1},\n",
      "            {'color': 2,\n",
      "             'height': 1,\n",
      "             'pixels': [(9, 9)],\n",
      "             'top_left': [9, 9],\n",
      "             'width': 1},\n",
      "            {'color': 2,\n",
      "             'height': 1,\n",
      "             'pixels': [(11, 11)],\n",
      "             'top_left': [11, 11],\n",
      "             'width': 1},\n",
      "            {'color': 2,\n",
      "             'height': 1,\n",
      "             'pixels': [(13, 13)],\n",
      "             'top_left': [13, 13],\n",
      "             'width': 1}]}\n"
     ]
    }
   ],
   "source": [
    "# Encode with object/bounding box representation\n",
    "object_encoded_task = encode_task_objects(task)\n",
    "\n",
    "# Print result\n",
    "pprint(object_encoded_task[\"train\"][0])\n"
   ]
  },
  {
   "cell_type": "code",
   "execution_count": 19,
   "id": "ad7c3650",
   "metadata": {},
   "outputs": [
    {
     "name": "stdout",
     "output_type": "stream",
     "text": [
      "{'input': [[0, 0, 0, 0, 0, 0, 0, 0, 0, 0, 0, 0, 0, 0, 0],\n",
      "           [0, 1, 0, 0, 0, 0, 0, 0, 0, 0, 0, 0, 0, 0, 0],\n",
      "           [0, 0, 0, 0, 0, 0, 0, 0, 0, 0, 0, 0, 0, 0, 0],\n",
      "           [0, 0, 0, 1, 0, 0, 0, 0, 0, 0, 0, 0, 0, 0, 0],\n",
      "           [0, 0, 0, 0, 0, 0, 0, 0, 0, 0, 0, 0, 0, 0, 0],\n",
      "           [0, 0, 0, 0, 0, 1, 0, 0, 0, 0, 0, 0, 0, 0, 0],\n",
      "           [0, 0, 0, 0, 0, 0, 0, 0, 0, 0, 0, 0, 0, 0, 0],\n",
      "           [0, 0, 0, 0, 0, 0, 0, 0, 0, 0, 0, 0, 0, 0, 0],\n",
      "           [0, 0, 0, 0, 0, 0, 0, 0, 0, 0, 0, 0, 0, 0, 0],\n",
      "           [0, 0, 0, 0, 0, 0, 0, 0, 0, 0, 0, 0, 0, 0, 0],\n",
      "           [0, 0, 0, 0, 0, 0, 0, 0, 0, 0, 0, 0, 0, 0, 0],\n",
      "           [0, 0, 0, 0, 0, 0, 0, 0, 0, 0, 0, 0, 0, 0, 0],\n",
      "           [0, 0, 0, 0, 0, 0, 0, 0, 0, 0, 0, 0, 0, 0, 0],\n",
      "           [0, 0, 0, 0, 0, 0, 0, 0, 0, 0, 0, 0, 0, 0, 0],\n",
      "           [0, 0, 0, 0, 0, 0, 0, 0, 0, 0, 0, 0, 0, 0, 0]],\n",
      " 'output': [[0, 0, 0, 0, 0, 0, 0, 0, 0, 0, 0, 0, 0, 0, 0],\n",
      "            [0, 1, 0, 0, 0, 0, 0, 0, 0, 0, 0, 0, 0, 0, 0],\n",
      "            [0, 0, 0, 0, 0, 0, 0, 0, 0, 0, 0, 0, 0, 0, 0],\n",
      "            [0, 0, 0, 1, 0, 0, 0, 0, 0, 0, 0, 0, 0, 0, 0],\n",
      "            [0, 0, 0, 0, 0, 0, 0, 0, 0, 0, 0, 0, 0, 0, 0],\n",
      "            [0, 0, 0, 0, 0, 1, 0, 0, 0, 0, 0, 0, 0, 0, 0],\n",
      "            [0, 0, 0, 0, 0, 0, 0, 0, 0, 0, 0, 0, 0, 0, 0],\n",
      "            [0, 0, 0, 0, 0, 0, 0, 2, 0, 0, 0, 0, 0, 0, 0],\n",
      "            [0, 0, 0, 0, 0, 0, 0, 0, 0, 0, 0, 0, 0, 0, 0],\n",
      "            [0, 0, 0, 0, 0, 0, 0, 0, 0, 2, 0, 0, 0, 0, 0],\n",
      "            [0, 0, 0, 0, 0, 0, 0, 0, 0, 0, 0, 0, 0, 0, 0],\n",
      "            [0, 0, 0, 0, 0, 0, 0, 0, 0, 0, 0, 2, 0, 0, 0],\n",
      "            [0, 0, 0, 0, 0, 0, 0, 0, 0, 0, 0, 0, 0, 0, 0],\n",
      "            [0, 0, 0, 0, 0, 0, 0, 0, 0, 0, 0, 0, 0, 2, 0],\n",
      "            [0, 0, 0, 0, 0, 0, 0, 0, 0, 0, 0, 0, 0, 0, 0]]}\n"
     ]
    }
   ],
   "source": [
    "pprint(task[\"train\"][0])"
   ]
  }
 ],
 "metadata": {
  "kernelspec": {
   "display_name": "Python 3",
   "language": "python",
   "name": "python3"
  },
  "language_info": {
   "codemirror_mode": {
    "name": "ipython",
    "version": 3
   },
   "file_extension": ".py",
   "mimetype": "text/x-python",
   "name": "python",
   "nbconvert_exporter": "python",
   "pygments_lexer": "ipython3",
   "version": "3.11.6"
  }
 },
 "nbformat": 4,
 "nbformat_minor": 5
}
