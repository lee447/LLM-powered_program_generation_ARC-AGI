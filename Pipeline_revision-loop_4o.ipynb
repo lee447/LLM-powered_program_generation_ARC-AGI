{
 "cells": [
  {
   "cell_type": "markdown",
   "metadata": {},
   "source": [
    "# Pipeline: LLM-powered program generation for solving ARC-AGI"
   ]
  },
  {
   "cell_type": "markdown",
   "metadata": {},
   "source": [
    "## Imports"
   ]
  },
  {
   "cell_type": "code",
   "execution_count": 1,
   "metadata": {},
   "outputs": [],
   "source": [
    "import numpy as np\n",
    "import os\n",
    "import json\n",
    "from dotenv import load_dotenv\n",
    "from openai import OpenAI\n",
    "import openai\n",
    "import ast\n",
    "import re\n",
    "import importlib.util\n",
    "import time"
   ]
  },
  {
   "cell_type": "markdown",
   "metadata": {},
   "source": [
    "## Prompts"
   ]
  },
  {
   "cell_type": "markdown",
   "metadata": {},
   "source": [
    "### Shared Variables"
   ]
  },
  {
   "cell_type": "markdown",
   "metadata": {},
   "source": [
    "The system prompt contains basic information essential for every prompt sent to the LLM."
   ]
  },
  {
   "cell_type": "code",
   "execution_count": null,
   "metadata": {},
   "outputs": [],
   "source": [
    "system_prompt = \"\"\"\n",
    "You are a visual reasoning and Python programming expert solving ARC-AGI (Abstraction and Reasoning Corpus - Artificial General Intelligence) tasks.\n",
    "\n",
    "Each integer in the grid represents a color:\n",
    "0 = black, 1 = blue, 2 = red, 3 = green, 4 = yellow,\n",
    "5 = grey, 6 = pink, 7 = orange, 8 = light blue, 9 = brown.\n",
    "\"\"\""
   ]
  },
  {
   "cell_type": "markdown",
   "metadata": {},
   "source": [
    "### Base Prompt"
   ]
  },
  {
   "cell_type": "markdown",
   "metadata": {},
   "source": [
    "The following prompt tasks the LLM with program generation."
   ]
  },
  {
   "cell_type": "code",
   "execution_count": 3,
   "metadata": {},
   "outputs": [],
   "source": [
    "base_prompt = \"\"\"\n",
    "Write a Python function that correctly transforms each input grid into its corresponding output grid based on the given examples.\n",
    "\n",
    "- ONLY return code. No explanations or anything other than code.\n",
    "- The function must be named: `solve(grid: List[List[int]]) -> List[List[int]]`\n",
    "- Use only pure Python — do not import or use libraries like NumPy\n",
    "- Do not include comments, explanations, or print statements\n",
    "- Do not hard-code values or specific grid sizes — the function must generalize based on the patterns in the examples\n",
    "- The function must return a plain 2D list of integers with consistent row lengths (List[List[int]])\n",
    "- Do not return arrays, nested arrays, floats, or 3D structures\n",
    "- Ensure your solution works for all provided input-output pairs\n",
    "\"\"\""
   ]
  },
  {
   "cell_type": "code",
   "execution_count": 4,
   "metadata": {},
   "outputs": [
    {
     "name": "stdout",
     "output_type": "stream",
     "text": [
      "\n",
      "Write a Python function that correctly transforms each input grid into its corresponding output grid based on the given examples.\n",
      "\n",
      "- ONLY return code. No explanations or anything other than code.\n",
      "- The function must be named: `solve(grid: List[List[int]]) -> List[List[int]]`\n",
      "- Use only pure Python — do not import or use libraries like NumPy\n",
      "- Do not include comments, explanations, or print statements\n",
      "- Do not hard-code values or specific grid sizes — the function must generalize based on the patterns in the examples\n",
      "- The function must return a plain 2D list of integers with consistent row lengths (List[List[int]])\n",
      "- Do not return arrays, nested arrays, floats, or 3D structures\n",
      "- Ensure your solution works for all provided input-output pairs\n",
      "\n"
     ]
    }
   ],
   "source": [
    "print(base_prompt)"
   ]
  },
  {
   "cell_type": "markdown",
   "metadata": {},
   "source": [
    "### Revision Prompt"
   ]
  },
  {
   "cell_type": "markdown",
   "metadata": {},
   "source": [
    "The following prompt tasks the LLM with revising the Python implementations it created."
   ]
  },
  {
   "cell_type": "code",
   "execution_count": 5,
   "metadata": {},
   "outputs": [],
   "source": [
    "revision_prompt = \"\"\"\n",
    "In the following you'll receive a Python function that attempted to solve the following task. It did'nt succeed and you are tasked with fixing it.\n",
    "\n",
    "- The function must be named: `solve(grid: List[List[int]]) -> List[List[int]]`\n",
    "- Include only the code and necessary imports (e.g., `import numpy as np`)\n",
    "- Do not include comments, explanations, or print statements\n",
    "- Do not hard-code values or specific grid sizes — the function must generalize based on the patterns in the examples\n",
    "- Ensure your solution works for all provided input-output pairs\n",
    "\"\"\""
   ]
  },
  {
   "cell_type": "code",
   "execution_count": 6,
   "metadata": {},
   "outputs": [
    {
     "name": "stdout",
     "output_type": "stream",
     "text": [
      "\n",
      "In the following you'll receive a Python function that attempted to solve the following task. It did'nt succeed and you are tasked with fixing it.\n",
      "\n",
      "- The function must be named: `solve(grid: List[List[int]]) -> List[List[int]]`\n",
      "- Include only the code and necessary imports (e.g., `import numpy as np`)\n",
      "- Do not include comments, explanations, or print statements\n",
      "- Do not hard-code values or specific grid sizes — the function must generalize based on the patterns in the examples\n",
      "- Ensure your solution works for all provided input-output pairs\n",
      "\n"
     ]
    }
   ],
   "source": [
    "print(revision_prompt)"
   ]
  },
  {
   "cell_type": "markdown",
   "metadata": {},
   "source": [
    "## Functions"
   ]
  },
  {
   "cell_type": "markdown",
   "metadata": {},
   "source": [
    "### Load Tasks"
   ]
  },
  {
   "cell_type": "markdown",
   "metadata": {},
   "source": [
    "Loads the tasks from the specified folder."
   ]
  },
  {
   "cell_type": "code",
   "execution_count": 7,
   "metadata": {},
   "outputs": [],
   "source": [
    "def load_tasks(folder):\n",
    "    tasks = []\n",
    "    for filename in sorted(os.listdir(folder)):\n",
    "        if filename.endswith(\".json\"):\n",
    "            with open(os.path.join(folder, filename), \"r\") as f:\n",
    "                data = json.load(f)\n",
    "                tasks.append({\"filename\": filename, \"data\": data})\n",
    "    return tasks"
   ]
  },
  {
   "cell_type": "markdown",
   "metadata": {},
   "source": [
    "### Load API Key"
   ]
  },
  {
   "cell_type": "markdown",
   "metadata": {},
   "source": [
    "Loads the API key from the .env file."
   ]
  },
  {
   "cell_type": "code",
   "execution_count": 8,
   "metadata": {},
   "outputs": [],
   "source": [
    "def load_api_key(file_path=\"key.env\"):\n",
    "    load_dotenv(file_path)\n",
    "    import openai\n",
    "    openai.api_key = os.getenv(\"OPENAI_API_KEY\")\n",
    "    if not openai.api_key:\n",
    "        print(\"No API key found. Please set OPENAI_API_KEY in key.env.\")\n",
    "    global client\n",
    "    client = OpenAI()"
   ]
  },
  {
   "cell_type": "markdown",
   "metadata": {},
   "source": [
    "### Call GPT"
   ]
  },
  {
   "cell_type": "markdown",
   "metadata": {},
   "source": [
    "Used to send requests to the LLM."
   ]
  },
  {
   "cell_type": "code",
   "execution_count": null,
   "metadata": {},
   "outputs": [],
   "source": [
    "def call_gpt(prompt, model=\"gpt-4o\", retries=10):\n",
    "    for attempt in range(retries):\n",
    "        try:\n",
    "            response = client.chat.completions.create(\n",
    "                model=model,\n",
    "                messages=[\n",
    "                    {\"role\": \"system\", \"content\": system_prompt},\n",
    "                    {\"role\": \"user\", \"content\": prompt}\n",
    "                ],\n",
    "                # Only for GPT-4o\n",
    "                temperature=0.0\n",
    "            )\n",
    "            return response.choices[0].message.content.strip()\n",
    "        \n",
    "        except openai.RateLimitError as e:\n",
    "            wait_time = 5 + attempt * 5\n",
    "            print(f\"Rate limit hit. Waiting {wait_time} seconds before retrying...\")\n",
    "            time.sleep(wait_time)\n",
    "\n",
    "    raise Exception(\"Rate limit retries exhausted.\")"
   ]
  },
  {
   "cell_type": "markdown",
   "metadata": {},
   "source": [
    "### Building and Combining Prompts"
   ]
  },
  {
   "cell_type": "markdown",
   "metadata": {},
   "source": [
    "#### Add Tasks to the Prompt"
   ]
  },
  {
   "cell_type": "markdown",
   "metadata": {},
   "source": [
    "Adds the task data to the prompt."
   ]
  },
  {
   "cell_type": "code",
   "execution_count": 10,
   "metadata": {},
   "outputs": [],
   "source": [
    "def add_tasks(prompt, task_data):\n",
    "    full_prompt = prompt.strip() + \"\\n\\nHere are the demonstration pairs (JSON data):\\n\"\n",
    "    for i, pair in enumerate(task_data['train']):\n",
    "        full_prompt += f\"\\nTrain Input {i+1}: {pair['input']}\\n\"\n",
    "        full_prompt += f\"Train Output {i+1}: {pair['output']}\\n\"\n",
    "    return full_prompt"
   ]
  },
  {
   "cell_type": "markdown",
   "metadata": {},
   "source": [
    "### Save Programs"
   ]
  },
  {
   "cell_type": "markdown",
   "metadata": {},
   "source": [
    "The following function saves the generated programs in the specified folder using the task's name. Additionally, the LLMs response is cleaned, ensuring only runnable Python code is saved."
   ]
  },
  {
   "cell_type": "code",
   "execution_count": null,
   "metadata": {},
   "outputs": [],
   "source": [
    "def save_program(program_text, actual_task_id, suffix=\"\"):\n",
    "    \n",
    "    base_folder = \"Candidate_programs_revision-loop_4o\"\n",
    "    task_folder = os.path.join(base_folder, actual_task_id)\n",
    "    \n",
    "    os.makedirs(task_folder, exist_ok=True)\n",
    "\n",
    "    # Clean the LLMs response (e.g. remove ```python or ```)\n",
    "    cleaned_text = re.sub(r\"^```(?:python)?\\s*|```$\", \"\", program_text.strip(), flags=re.MULTILINE)\n",
    "\n",
    "    # Determine program version for naming\n",
    "    existing_files = os.listdir(task_folder)\n",
    "    version_numbers = [\n",
    "        int(re.search(r\"solution_v(\\d+)\", fname).group(1))\n",
    "        for fname in existing_files\n",
    "        if re.match(r\"solution_v\\d+\", fname)\n",
    "    ]\n",
    "    next_version = max(version_numbers, default=0) + 1\n",
    "    \n",
    "    # Save program to file\n",
    "    file_path = os.path.join(task_folder, f\"solution_v{next_version}{suffix}.py\")\n",
    "    with open(file_path, \"w\", encoding=\"utf-8\") as f:\n",
    "        f.write(cleaned_text.strip())\n",
    "\n",
    "    print(f\"Saved program for task {actual_task_id} as version {next_version}{suffix}: {file_path}\")"
   ]
  },
  {
   "cell_type": "markdown",
   "metadata": {},
   "source": [
    "### Create Programs"
   ]
  },
  {
   "cell_type": "markdown",
   "metadata": {},
   "source": [
    "The following function passes the prompt for program creation to the LLM for n amount of times and saves the response."
   ]
  },
  {
   "cell_type": "code",
   "execution_count": null,
   "metadata": {},
   "outputs": [],
   "source": [
    "def create_programs(tailored_prompt, actual_task_id, amount):\n",
    "    for i in range(amount):\n",
    "        response = call_gpt(tailored_prompt)\n",
    "        save_program(response, actual_task_id)"
   ]
  },
  {
   "cell_type": "markdown",
   "metadata": {},
   "source": [
    "### Evaluate Programs"
   ]
  },
  {
   "cell_type": "markdown",
   "metadata": {},
   "source": [
    "Loads and executes a Python program from a specified file path."
   ]
  },
  {
   "cell_type": "code",
   "execution_count": null,
   "metadata": {},
   "outputs": [],
   "source": [
    "def load_program(file_path):\n",
    "    spec = importlib.util.spec_from_file_location(\"program\", file_path)\n",
    "    program = importlib.util.module_from_spec(spec)\n",
    "    spec.loader.exec_module(program)\n",
    "    return program.solve"
   ]
  },
  {
   "cell_type": "markdown",
   "metadata": {},
   "source": [
    "Checks if the program is valid Python code."
   ]
  },
  {
   "cell_type": "code",
   "execution_count": null,
   "metadata": {},
   "outputs": [],
   "source": [
    "def is_valid_python_code(filepath):\n",
    "    try:\n",
    "        with open(filepath, \"r\", encoding=\"utf-8\") as f:\n",
    "            source = f.read()\n",
    "        ast.parse(source)\n",
    "        return True\n",
    "    except SyntaxError:\n",
    "        return False"
   ]
  },
  {
   "cell_type": "markdown",
   "metadata": {},
   "source": [
    "The following function runs the evaluation of the generated programs. This includes:\n",
    "\n",
    "- Checking if the program is valid Python code and deleting it if it isn't. \n",
    "- Checking if there are any valid programs among the generated ones (if there aren't at least two valid programs, more will be created until there are at least two [correctness of programs doesn't matter, only execution])\n",
    "- Comparing the generated outputs with the correct outputs.\n",
    "- Calculating a score for each program.\n",
    "\n",
    "The score is defined by the amount of correct transformations / the total amount of demonstration pairs of a task. This score is used to determine whether a program should be revised later on (score < 1)."
   ]
  },
  {
   "cell_type": "code",
   "execution_count": null,
   "metadata": {},
   "outputs": [],
   "source": [
    "def evaluate_programs(task_data, task_folder):\n",
    "    programs = []\n",
    "    program_files = [f for f in os.listdir(task_folder) if f.endswith(\".py\")]\n",
    "\n",
    "    # Track whether any valid programs exist\n",
    "    any_valid = False \n",
    "\n",
    "    for program_file in program_files:\n",
    "        program_path = os.path.join(task_folder, program_file)\n",
    "\n",
    "        # Check if the program is valid Python code if not delete it\n",
    "        if not is_valid_python_code(program_path):\n",
    "            print(f\"Deleting invalid file: {program_file}\")\n",
    "            os.remove(program_path)\n",
    "            continue\n",
    "\n",
    "        try:\n",
    "            solve_function = load_program(program_path)\n",
    "        except Exception as e:\n",
    "            print(f\"Error loading program {program_file}: {e}\")\n",
    "            os.remove(program_path)\n",
    "            continue\n",
    "\n",
    "        # Set to true if at least one valid program is found\n",
    "        any_valid = True  \n",
    "        \n",
    "        details = []\n",
    "        correct_count = 0\n",
    "        total_pairs = len(task_data['train'])\n",
    "\n",
    "        # Evaluate programs against the training pairs\n",
    "        for pair in task_data['train']:\n",
    "            input_grid = pair['input']\n",
    "            expected_output = pair['output']\n",
    "            try:\n",
    "                candidate_output = solve_function(input_grid)\n",
    "                if np.array_equal(np.array(candidate_output), np.array(expected_output)):\n",
    "                    correct_count += 1\n",
    "            except Exception as e:\n",
    "                candidate_output = f\"Error: {e}\"\n",
    "            details.append({\n",
    "                \"input\": input_grid,\n",
    "                \"candidate_output\": candidate_output,\n",
    "                \"expected_output\": expected_output\n",
    "            })\n",
    "\n",
    "        # Calculate the score and store the results\n",
    "        score = correct_count / total_pairs if total_pairs > 0 else 0\n",
    "        programs.append({\n",
    "            \"program_name\": program_file,\n",
    "            \"score\": score,\n",
    "            \"correct_pairs\": correct_count,\n",
    "            \"total_pairs\": total_pairs,\n",
    "            \"details\": details\n",
    "        })\n",
    "\n",
    "    return programs if any_valid else 0"
   ]
  },
  {
   "cell_type": "markdown",
   "metadata": {},
   "source": [
    "### Creation of Revision Prompt and Revised Programs"
   ]
  },
  {
   "cell_type": "markdown",
   "metadata": {},
   "source": [
    "The following function builds the revision prompt, including the following:\n",
    "\n",
    "- Generated Python code.\n",
    "- Task demonstration pairs.\n",
    "- Generated output.\n",
    "\n",
    "The prompt is used to task the LLM with creating a new program based on the revision. The program is then saved."
   ]
  },
  {
   "cell_type": "code",
   "execution_count": null,
   "metadata": {},
   "outputs": [],
   "source": [
    "def revise_candidate_program(candidate_file_path, task_data, actual_task_id):\n",
    "    # Load candidate code from the specified file path\n",
    "    with open(candidate_file_path, \"r\", encoding=\"utf-8\") as f:\n",
    "        candidate_code_text = f.read()\n",
    "\n",
    "    try:\n",
    "        solve_fn = load_program(candidate_file_path)\n",
    "    except Exception as e:\n",
    "        print(f\"Error loading program for revision: {e}\")\n",
    "        return\n",
    "\n",
    "    ### Build the revision prompt ###\n",
    "    local_revision_prompt = revision_prompt + \"\\n\\nHere is the generated code:\\n\" + candidate_code_text + \"\\n\\nDemonstration Pairs:\\n\"\n",
    "\n",
    "    for i, pair in enumerate(task_data['train']):\n",
    "        try:\n",
    "            candidate_output = solve_fn(pair['input'])\n",
    "        except Exception as e:\n",
    "            candidate_output = f\"Error: {e}\"\n",
    "        local_revision_prompt += f\"{i+1}. Input: {pair['input']}\\n\"\n",
    "        local_revision_prompt += f\"   Expected Output: {pair['output']}\\n\"\n",
    "        local_revision_prompt += f\"   Generated Output: {candidate_output}\\n\"\n",
    "\n",
    "    local_revision_prompt += \"\\nPlease revise the code.\"\n",
    "\n",
    "    \n",
    "    ### Call the LLM to revise the candidate code ###\n",
    "    revised_code = call_gpt(local_revision_prompt)\n",
    "\n",
    "    \n",
    "    ### Determine revision level for naming and save the revised code ###\n",
    "    task_folder = os.path.join(\"Candidate_programs_revision-loop_4o\", actual_task_id)\n",
    "    base_name = os.path.basename(candidate_file_path)\n",
    "    base_version_match = re.search(r\"solution_v(\\d+)\", base_name)\n",
    "    base_version = base_version_match.group(1) if base_version_match else \"1\"\n",
    "\n",
    "    existing_files = os.listdir(task_folder)\n",
    "    revision_count = len([\n",
    "        f for f in existing_files\n",
    "        if re.match(rf\"solution_v{base_version}_rev\\d+\\.py\", f)\n",
    "    ])\n",
    "    suffix = f\"_rev{revision_count + 1}\"\n",
    "\n",
    "    save_program(revised_code, actual_task_id, suffix=suffix)"
   ]
  },
  {
   "cell_type": "markdown",
   "metadata": {},
   "source": [
    "### Generation of Predictions on Test Inputs"
   ]
  },
  {
   "cell_type": "markdown",
   "metadata": {},
   "source": [
    "#### Identification of Best Programs"
   ]
  },
  {
   "cell_type": "markdown",
   "metadata": {},
   "source": [
    "Selects the two best-performing programs based on their score (= performance on the demonstration pairs). If scores are equal over multiple programs, the first few programs will be picked (e.g., if all are 0, then solution_v1 and solution_v2 will be picked)."
   ]
  },
  {
   "cell_type": "code",
   "execution_count": null,
   "metadata": {},
   "outputs": [],
   "source": [
    "def get_best_programs(evaluation_results, actual_task_id, n=2):\n",
    "    # Sort programs by score descending; if scores are equal, the original order is preserved.\n",
    "    sorted_programs = sorted(evaluation_results, key=lambda x: x['score'], reverse=True)\n",
    "    task_folder = os.path.join(\"Candidate_programs_revision-loop_4o\", actual_task_id)\n",
    "    best_program_files = [os.path.join(task_folder, prog['program_name']) for prog in sorted_programs[:n]]\n",
    "    for i in best_program_files:\n",
    "        print(f\"Best program: {i}\")\n",
    "    return best_program_files"
   ]
  },
  {
   "cell_type": "markdown",
   "metadata": {},
   "source": [
    "#### Creation of Predictions on Test Inputs"
   ]
  },
  {
   "cell_type": "markdown",
   "metadata": {},
   "source": [
    "The following function loads the two best-performing programs to create predictions in the test inputs of the task. The resulting outputs are saved in a submission dictionary to be appended to the submission.json file later on."
   ]
  },
  {
   "cell_type": "code",
   "execution_count": null,
   "metadata": {},
   "outputs": [],
   "source": [
    "def generate_test_predictions(task_data, actual_task_id, best_program_files):\n",
    "    # Load candidate programs\n",
    "    best_solvers = [load_program(prog_file) for prog_file in best_program_files]\n",
    "    \n",
    "    predictions = []\n",
    "    # Iterate over each test pair and generate predictions\n",
    "    for i, pair in enumerate(task_data[\"test\"]):\n",
    "        input_grid = pair[\"input\"]\n",
    "        attempt_predictions = {}\n",
    "        for idx, solver in enumerate(best_solvers, start=1):\n",
    "            try:\n",
    "                output = solver(input_grid)\n",
    "            except Exception as e:\n",
    "                output = f\"Error: {e}\"\n",
    "            attempt_predictions[f\"attempt_{idx}\"] = output\n",
    "        predictions.append(attempt_predictions)\n",
    "    \n",
    "    # Save the predictions in the submission format\n",
    "    submission = {str(actual_task_id): predictions}\n",
    "    \n",
    "    return submission"
   ]
  },
  {
   "cell_type": "markdown",
   "metadata": {},
   "source": [
    "## Pipeline"
   ]
  },
  {
   "cell_type": "markdown",
   "metadata": {},
   "source": [
    "The following is the flow of the pipeline. All the above functions and prompts are used and work together to create predictions for test inputs. The predictions are saved in a submission.json file for calculating the accuracies."
   ]
  },
  {
   "cell_type": "code",
   "execution_count": null,
   "metadata": {},
   "outputs": [
    {
     "name": "stdout",
     "output_type": "stream",
     "text": [
      "Saved program for task e74e1818 as version 1: Candidate_programs_revision-loop_4o\\e74e1818\\solution_v1.py\n",
      "Saved program for task e74e1818 as version 2: Candidate_programs_revision-loop_4o\\e74e1818\\solution_v2.py\n",
      "Revising solution_v1.py...\n",
      "Saved program for task e74e1818 as version 3_rev1: Candidate_programs_revision-loop_4o\\e74e1818\\solution_v3_rev1.py\n",
      "Revising solution_v2.py...\n",
      "Saved program for task e74e1818 as version 4_rev1: Candidate_programs_revision-loop_4o\\e74e1818\\solution_v4_rev1.py\n",
      "Second revision for: solution_v3_rev1.py...\n",
      "Saved program for task e74e1818 as version 5_rev2: Candidate_programs_revision-loop_4o\\e74e1818\\solution_v5_rev2.py\n",
      "Second revision for: solution_v4_rev1.py...\n",
      "Saved program for task e74e1818 as version 6_rev2: Candidate_programs_revision-loop_4o\\e74e1818\\solution_v6_rev2.py\n",
      "Task e74e1818 evaluation results:\n",
      "Program solution_v1.py solved 0 out of 3 pairs. Score: 0.00\n",
      "==================================================\n",
      "Program solution_v2.py solved 0 out of 3 pairs. Score: 0.00\n",
      "==================================================\n",
      "Program solution_v3_rev1.py solved 0 out of 3 pairs. Score: 0.00\n",
      "==================================================\n",
      "Program solution_v4_rev1.py solved 0 out of 3 pairs. Score: 0.00\n",
      "==================================================\n",
      "Program solution_v5_rev2.py solved 0 out of 3 pairs. Score: 0.00\n",
      "==================================================\n",
      "Program solution_v6_rev2.py solved 0 out of 3 pairs. Score: 0.00\n",
      "==================================================\n",
      "Best program: Candidate_programs_revision-loop_4o\\e74e1818\\solution_v1.py\n",
      "Best program: Candidate_programs_revision-loop_4o\\e74e1818\\solution_v2.py\n",
      "Saved program for task e872b94a as version 1: Candidate_programs_revision-loop_4o\\e872b94a\\solution_v1.py\n",
      "Saved program for task e872b94a as version 2: Candidate_programs_revision-loop_4o\\e872b94a\\solution_v2.py\n",
      "Revising solution_v1.py...\n",
      "Saved program for task e872b94a as version 3_rev1: Candidate_programs_revision-loop_4o\\e872b94a\\solution_v3_rev1.py\n",
      "Revising solution_v2.py...\n",
      "Saved program for task e872b94a as version 4_rev1: Candidate_programs_revision-loop_4o\\e872b94a\\solution_v4_rev1.py\n",
      "Second revision for: solution_v3_rev1.py...\n",
      "Saved program for task e872b94a as version 5_rev2: Candidate_programs_revision-loop_4o\\e872b94a\\solution_v5_rev2.py\n",
      "Second revision for: solution_v4_rev1.py...\n",
      "Saved program for task e872b94a as version 6_rev2: Candidate_programs_revision-loop_4o\\e872b94a\\solution_v6_rev2.py\n",
      "Task e872b94a evaluation results:\n",
      "Program solution_v1.py solved 1 out of 4 pairs. Score: 0.25\n",
      "==================================================\n",
      "Program solution_v2.py solved 1 out of 4 pairs. Score: 0.25\n",
      "==================================================\n",
      "Program solution_v3_rev1.py solved 1 out of 4 pairs. Score: 0.25\n",
      "==================================================\n",
      "Program solution_v4_rev1.py solved 1 out of 4 pairs. Score: 0.25\n",
      "==================================================\n",
      "Program solution_v5_rev2.py solved 1 out of 4 pairs. Score: 0.25\n",
      "==================================================\n",
      "Program solution_v6_rev2.py solved 1 out of 4 pairs. Score: 0.25\n",
      "==================================================\n",
      "Best program: Candidate_programs_revision-loop_4o\\e872b94a\\solution_v1.py\n",
      "Best program: Candidate_programs_revision-loop_4o\\e872b94a\\solution_v2.py\n",
      "Saved program for task e9b4f6fc as version 1: Candidate_programs_revision-loop_4o\\e9b4f6fc\\solution_v1.py\n",
      "Saved program for task e9b4f6fc as version 2: Candidate_programs_revision-loop_4o\\e9b4f6fc\\solution_v2.py\n",
      "Revising solution_v1.py...\n",
      "Saved program for task e9b4f6fc as version 3_rev1: Candidate_programs_revision-loop_4o\\e9b4f6fc\\solution_v3_rev1.py\n",
      "Revising solution_v2.py...\n",
      "Saved program for task e9b4f6fc as version 4_rev1: Candidate_programs_revision-loop_4o\\e9b4f6fc\\solution_v4_rev1.py\n",
      "Second revision for: solution_v3_rev1.py...\n",
      "Saved program for task e9b4f6fc as version 5_rev2: Candidate_programs_revision-loop_4o\\e9b4f6fc\\solution_v5_rev2.py\n",
      "Second revision for: solution_v4_rev1.py...\n",
      "Saved program for task e9b4f6fc as version 6_rev2: Candidate_programs_revision-loop_4o\\e9b4f6fc\\solution_v6_rev2.py\n",
      "Task e9b4f6fc evaluation results:\n",
      "Program solution_v1.py solved 0 out of 4 pairs. Score: 0.00\n",
      "==================================================\n",
      "Program solution_v2.py solved 0 out of 4 pairs. Score: 0.00\n",
      "==================================================\n",
      "Program solution_v3_rev1.py solved 0 out of 4 pairs. Score: 0.00\n",
      "==================================================\n",
      "Program solution_v4_rev1.py solved 0 out of 4 pairs. Score: 0.00\n",
      "==================================================\n",
      "Program solution_v5_rev2.py solved 0 out of 4 pairs. Score: 0.00\n",
      "==================================================\n",
      "Program solution_v6_rev2.py solved 0 out of 4 pairs. Score: 0.00\n",
      "==================================================\n",
      "Best program: Candidate_programs_revision-loop_4o\\e9b4f6fc\\solution_v1.py\n",
      "Best program: Candidate_programs_revision-loop_4o\\e9b4f6fc\\solution_v2.py\n",
      "Saved program for task e9c9d9a1 as version 1: Candidate_programs_revision-loop_4o\\e9c9d9a1\\solution_v1.py\n",
      "Saved program for task e9c9d9a1 as version 2: Candidate_programs_revision-loop_4o\\e9c9d9a1\\solution_v2.py\n",
      "Revising solution_v1.py...\n",
      "Saved program for task e9c9d9a1 as version 3_rev1: Candidate_programs_revision-loop_4o\\e9c9d9a1\\solution_v3_rev1.py\n",
      "Revising solution_v2.py...\n",
      "Saved program for task e9c9d9a1 as version 4_rev1: Candidate_programs_revision-loop_4o\\e9c9d9a1\\solution_v4_rev1.py\n",
      "Second revision for: solution_v3_rev1.py...\n",
      "Saved program for task e9c9d9a1 as version 5_rev2: Candidate_programs_revision-loop_4o\\e9c9d9a1\\solution_v5_rev2.py\n",
      "Second revision for: solution_v4_rev1.py...\n",
      "Saved program for task e9c9d9a1 as version 6_rev2: Candidate_programs_revision-loop_4o\\e9c9d9a1\\solution_v6_rev2.py\n",
      "Task e9c9d9a1 evaluation results:\n",
      "Program solution_v1.py solved 0 out of 3 pairs. Score: 0.00\n",
      "==================================================\n",
      "Program solution_v2.py solved 0 out of 3 pairs. Score: 0.00\n",
      "==================================================\n",
      "Program solution_v3_rev1.py solved 0 out of 3 pairs. Score: 0.00\n",
      "==================================================\n",
      "Program solution_v4_rev1.py solved 0 out of 3 pairs. Score: 0.00\n",
      "==================================================\n",
      "Program solution_v5_rev2.py solved 0 out of 3 pairs. Score: 0.00\n",
      "==================================================\n",
      "Program solution_v6_rev2.py solved 0 out of 3 pairs. Score: 0.00\n",
      "==================================================\n",
      "Best program: Candidate_programs_revision-loop_4o\\e9c9d9a1\\solution_v1.py\n",
      "Best program: Candidate_programs_revision-loop_4o\\e9c9d9a1\\solution_v2.py\n",
      "Saved program for task ed98d772 as version 1: Candidate_programs_revision-loop_4o\\ed98d772\\solution_v1.py\n",
      "Saved program for task ed98d772 as version 2: Candidate_programs_revision-loop_4o\\ed98d772\\solution_v2.py\n",
      "Revising solution_v1.py...\n",
      "Saved program for task ed98d772 as version 3_rev1: Candidate_programs_revision-loop_4o\\ed98d772\\solution_v3_rev1.py\n",
      "Revising solution_v2.py...\n",
      "Saved program for task ed98d772 as version 4_rev1: Candidate_programs_revision-loop_4o\\ed98d772\\solution_v4_rev1.py\n",
      "Second revision for: solution_v3_rev1.py...\n",
      "Saved program for task ed98d772 as version 5_rev2: Candidate_programs_revision-loop_4o\\ed98d772\\solution_v5_rev2.py\n",
      "Second revision for: solution_v4_rev1.py...\n",
      "Saved program for task ed98d772 as version 6_rev2: Candidate_programs_revision-loop_4o\\ed98d772\\solution_v6_rev2.py\n",
      "Task ed98d772 evaluation results:\n",
      "Program solution_v1.py solved 0 out of 5 pairs. Score: 0.00\n",
      "==================================================\n",
      "Program solution_v2.py solved 0 out of 5 pairs. Score: 0.00\n",
      "==================================================\n",
      "Program solution_v3_rev1.py solved 0 out of 5 pairs. Score: 0.00\n",
      "==================================================\n",
      "Program solution_v4_rev1.py solved 0 out of 5 pairs. Score: 0.00\n",
      "==================================================\n",
      "Program solution_v5_rev2.py solved 0 out of 5 pairs. Score: 0.00\n",
      "==================================================\n",
      "Program solution_v6_rev2.py solved 0 out of 5 pairs. Score: 0.00\n",
      "==================================================\n",
      "Best program: Candidate_programs_revision-loop_4o\\ed98d772\\solution_v1.py\n",
      "Best program: Candidate_programs_revision-loop_4o\\ed98d772\\solution_v2.py\n",
      "Saved program for task f0df5ff0 as version 1: Candidate_programs_revision-loop_4o\\f0df5ff0\\solution_v1.py\n",
      "Saved program for task f0df5ff0 as version 2: Candidate_programs_revision-loop_4o\\f0df5ff0\\solution_v2.py\n",
      "Revising solution_v1.py...\n",
      "Saved program for task f0df5ff0 as version 3_rev1: Candidate_programs_revision-loop_4o\\f0df5ff0\\solution_v3_rev1.py\n",
      "Revising solution_v2.py...\n",
      "Saved program for task f0df5ff0 as version 4_rev1: Candidate_programs_revision-loop_4o\\f0df5ff0\\solution_v4_rev1.py\n",
      "Second revision for: solution_v3_rev1.py...\n",
      "Saved program for task f0df5ff0 as version 5_rev2: Candidate_programs_revision-loop_4o\\f0df5ff0\\solution_v5_rev2.py\n",
      "Second revision for: solution_v4_rev1.py...\n",
      "Saved program for task f0df5ff0 as version 6_rev2: Candidate_programs_revision-loop_4o\\f0df5ff0\\solution_v6_rev2.py\n",
      "Task f0df5ff0 evaluation results:\n",
      "Program solution_v1.py solved 0 out of 3 pairs. Score: 0.00\n",
      "==================================================\n",
      "Program solution_v2.py solved 0 out of 3 pairs. Score: 0.00\n",
      "==================================================\n",
      "Program solution_v3_rev1.py solved 0 out of 3 pairs. Score: 0.00\n",
      "==================================================\n",
      "Program solution_v4_rev1.py solved 0 out of 3 pairs. Score: 0.00\n",
      "==================================================\n",
      "Program solution_v5_rev2.py solved 0 out of 3 pairs. Score: 0.00\n",
      "==================================================\n",
      "Program solution_v6_rev2.py solved 0 out of 3 pairs. Score: 0.00\n",
      "==================================================\n",
      "Best program: Candidate_programs_revision-loop_4o\\f0df5ff0\\solution_v1.py\n",
      "Best program: Candidate_programs_revision-loop_4o\\f0df5ff0\\solution_v2.py\n",
      "Saved program for task f4081712 as version 1: Candidate_programs_revision-loop_4o\\f4081712\\solution_v1.py\n",
      "Saved program for task f4081712 as version 2: Candidate_programs_revision-loop_4o\\f4081712\\solution_v2.py\n",
      "Revising solution_v1.py...\n",
      "Saved program for task f4081712 as version 3_rev1: Candidate_programs_revision-loop_4o\\f4081712\\solution_v3_rev1.py\n",
      "Revising solution_v2.py...\n",
      "Saved program for task f4081712 as version 4_rev1: Candidate_programs_revision-loop_4o\\f4081712\\solution_v4_rev1.py\n",
      "Second revision for: solution_v3_rev1.py...\n",
      "Saved program for task f4081712 as version 5_rev2: Candidate_programs_revision-loop_4o\\f4081712\\solution_v5_rev2.py\n",
      "Second revision for: solution_v4_rev1.py...\n",
      "Saved program for task f4081712 as version 6_rev2: Candidate_programs_revision-loop_4o\\f4081712\\solution_v6_rev2.py\n",
      "Task f4081712 evaluation results:\n",
      "Program solution_v1.py solved 0 out of 5 pairs. Score: 0.00\n",
      "==================================================\n",
      "Program solution_v2.py solved 0 out of 5 pairs. Score: 0.00\n",
      "==================================================\n",
      "Program solution_v3_rev1.py solved 0 out of 5 pairs. Score: 0.00\n",
      "==================================================\n",
      "Program solution_v4_rev1.py solved 0 out of 5 pairs. Score: 0.00\n",
      "==================================================\n",
      "Program solution_v5_rev2.py solved 0 out of 5 pairs. Score: 0.00\n",
      "==================================================\n",
      "Program solution_v6_rev2.py solved 0 out of 5 pairs. Score: 0.00\n",
      "==================================================\n",
      "Best program: Candidate_programs_revision-loop_4o\\f4081712\\solution_v1.py\n",
      "Best program: Candidate_programs_revision-loop_4o\\f4081712\\solution_v2.py\n",
      "Saved program for task fafd9572 as version 1: Candidate_programs_revision-loop_4o\\fafd9572\\solution_v1.py\n",
      "Saved program for task fafd9572 as version 2: Candidate_programs_revision-loop_4o\\fafd9572\\solution_v2.py\n",
      "Revising solution_v1.py...\n",
      "Saved program for task fafd9572 as version 3_rev1: Candidate_programs_revision-loop_4o\\fafd9572\\solution_v3_rev1.py\n",
      "Revising solution_v2.py...\n",
      "Saved program for task fafd9572 as version 4_rev1: Candidate_programs_revision-loop_4o\\fafd9572\\solution_v4_rev1.py\n",
      "Second revision for: solution_v3_rev1.py...\n",
      "Saved program for task fafd9572 as version 5_rev2: Candidate_programs_revision-loop_4o\\fafd9572\\solution_v5_rev2.py\n",
      "Second revision for: solution_v4_rev1.py...\n",
      "Saved program for task fafd9572 as version 6_rev2: Candidate_programs_revision-loop_4o\\fafd9572\\solution_v6_rev2.py\n",
      "Task fafd9572 evaluation results:\n",
      "Program solution_v1.py solved 0 out of 2 pairs. Score: 0.00\n",
      "==================================================\n",
      "Program solution_v2.py solved 0 out of 2 pairs. Score: 0.00\n",
      "==================================================\n",
      "Program solution_v3_rev1.py solved 0 out of 2 pairs. Score: 0.00\n",
      "==================================================\n",
      "Program solution_v4_rev1.py solved 0 out of 2 pairs. Score: 0.00\n",
      "==================================================\n",
      "Program solution_v5_rev2.py solved 0 out of 2 pairs. Score: 0.00\n",
      "==================================================\n",
      "Program solution_v6_rev2.py solved 0 out of 2 pairs. Score: 0.00\n",
      "==================================================\n",
      "Best program: Candidate_programs_revision-loop_4o\\fafd9572\\solution_v1.py\n",
      "Best program: Candidate_programs_revision-loop_4o\\fafd9572\\solution_v2.py\n",
      "Saved program for task fd096ab6 as version 1: Candidate_programs_revision-loop_4o\\fd096ab6\\solution_v1.py\n",
      "Saved program for task fd096ab6 as version 2: Candidate_programs_revision-loop_4o\\fd096ab6\\solution_v2.py\n",
      "Revising solution_v1.py...\n",
      "Saved program for task fd096ab6 as version 3_rev1: Candidate_programs_revision-loop_4o\\fd096ab6\\solution_v3_rev1.py\n",
      "Revising solution_v2.py...\n",
      "Saved program for task fd096ab6 as version 4_rev1: Candidate_programs_revision-loop_4o\\fd096ab6\\solution_v4_rev1.py\n",
      "Second revision for: solution_v3_rev1.py...\n",
      "Saved program for task fd096ab6 as version 5_rev2: Candidate_programs_revision-loop_4o\\fd096ab6\\solution_v5_rev2.py\n",
      "Second revision for: solution_v4_rev1.py...\n",
      "Saved program for task fd096ab6 as version 6_rev2: Candidate_programs_revision-loop_4o\\fd096ab6\\solution_v6_rev2.py\n",
      "Task fd096ab6 evaluation results:\n",
      "Program solution_v1.py solved 0 out of 2 pairs. Score: 0.00\n",
      "==================================================\n",
      "Program solution_v2.py solved 0 out of 2 pairs. Score: 0.00\n",
      "==================================================\n",
      "Program solution_v3_rev1.py solved 0 out of 2 pairs. Score: 0.00\n",
      "==================================================\n",
      "Program solution_v4_rev1.py solved 0 out of 2 pairs. Score: 0.00\n",
      "==================================================\n",
      "Program solution_v5_rev2.py solved 0 out of 2 pairs. Score: 0.00\n",
      "==================================================\n",
      "Program solution_v6_rev2.py solved 0 out of 2 pairs. Score: 0.00\n",
      "==================================================\n",
      "Best program: Candidate_programs_revision-loop_4o\\fd096ab6\\solution_v1.py\n",
      "Best program: Candidate_programs_revision-loop_4o\\fd096ab6\\solution_v2.py\n",
      "Saved program for task fd4b2b02 as version 1: Candidate_programs_revision-loop_4o\\fd4b2b02\\solution_v1.py\n",
      "Saved program for task fd4b2b02 as version 2: Candidate_programs_revision-loop_4o\\fd4b2b02\\solution_v2.py\n",
      "Revising solution_v1.py...\n",
      "Saved program for task fd4b2b02 as version 3_rev1: Candidate_programs_revision-loop_4o\\fd4b2b02\\solution_v3_rev1.py\n",
      "Revising solution_v2.py...\n",
      "Saved program for task fd4b2b02 as version 4_rev1: Candidate_programs_revision-loop_4o\\fd4b2b02\\solution_v4_rev1.py\n",
      "Second revision for: solution_v3_rev1.py...\n",
      "Saved program for task fd4b2b02 as version 5_rev2: Candidate_programs_revision-loop_4o\\fd4b2b02\\solution_v5_rev2.py\n",
      "Second revision for: solution_v4_rev1.py...\n",
      "Saved program for task fd4b2b02 as version 6_rev2: Candidate_programs_revision-loop_4o\\fd4b2b02\\solution_v6_rev2.py\n",
      "Task fd4b2b02 evaluation results:\n",
      "Program solution_v1.py solved 0 out of 3 pairs. Score: 0.00\n",
      "==================================================\n",
      "Program solution_v2.py solved 0 out of 3 pairs. Score: 0.00\n",
      "==================================================\n",
      "Program solution_v3_rev1.py solved 0 out of 3 pairs. Score: 0.00\n",
      "==================================================\n",
      "Program solution_v4_rev1.py solved 0 out of 3 pairs. Score: 0.00\n",
      "==================================================\n",
      "Program solution_v5_rev2.py solved 0 out of 3 pairs. Score: 0.00\n",
      "==================================================\n",
      "Program solution_v6_rev2.py solved 0 out of 3 pairs. Score: 0.00\n",
      "==================================================\n",
      "Best program: Candidate_programs_revision-loop_4o\\fd4b2b02\\solution_v1.py\n",
      "Best program: Candidate_programs_revision-loop_4o\\fd4b2b02\\solution_v2.py\n",
      "Saved program for task fe9372f3 as version 1: Candidate_programs_revision-loop_4o\\fe9372f3\\solution_v1.py\n",
      "Saved program for task fe9372f3 as version 2: Candidate_programs_revision-loop_4o\\fe9372f3\\solution_v2.py\n",
      "Revising solution_v1.py...\n",
      "Saved program for task fe9372f3 as version 3_rev1: Candidate_programs_revision-loop_4o\\fe9372f3\\solution_v3_rev1.py\n",
      "Revising solution_v2.py...\n",
      "Saved program for task fe9372f3 as version 4_rev1: Candidate_programs_revision-loop_4o\\fe9372f3\\solution_v4_rev1.py\n",
      "Second revision for: solution_v3_rev1.py...\n",
      "Saved program for task fe9372f3 as version 5_rev2: Candidate_programs_revision-loop_4o\\fe9372f3\\solution_v5_rev2.py\n",
      "Second revision for: solution_v4_rev1.py...\n",
      "Saved program for task fe9372f3 as version 6_rev2: Candidate_programs_revision-loop_4o\\fe9372f3\\solution_v6_rev2.py\n",
      "Task fe9372f3 evaluation results:\n",
      "Program solution_v1.py solved 0 out of 2 pairs. Score: 0.00\n",
      "==================================================\n",
      "Program solution_v2.py solved 0 out of 2 pairs. Score: 0.00\n",
      "==================================================\n",
      "Program solution_v3_rev1.py solved 0 out of 2 pairs. Score: 0.00\n",
      "==================================================\n",
      "Program solution_v4_rev1.py solved 0 out of 2 pairs. Score: 0.00\n",
      "==================================================\n",
      "Program solution_v5_rev2.py solved 0 out of 2 pairs. Score: 0.00\n",
      "==================================================\n",
      "Program solution_v6_rev2.py solved 0 out of 2 pairs. Score: 0.00\n",
      "==================================================\n",
      "Best program: Candidate_programs_revision-loop_4o\\fe9372f3\\solution_v1.py\n",
      "Best program: Candidate_programs_revision-loop_4o\\fe9372f3\\solution_v2.py\n",
      "Saved program for task fea12743 as version 1: Candidate_programs_revision-loop_4o\\fea12743\\solution_v1.py\n",
      "Saved program for task fea12743 as version 2: Candidate_programs_revision-loop_4o\\fea12743\\solution_v2.py\n",
      "Revising solution_v1.py...\n",
      "Saved program for task fea12743 as version 3_rev1: Candidate_programs_revision-loop_4o\\fea12743\\solution_v3_rev1.py\n",
      "Revising solution_v2.py...\n",
      "Saved program for task fea12743 as version 4_rev1: Candidate_programs_revision-loop_4o\\fea12743\\solution_v4_rev1.py\n",
      "Second revision for: solution_v3_rev1.py...\n",
      "Saved program for task fea12743 as version 5_rev2: Candidate_programs_revision-loop_4o\\fea12743\\solution_v5_rev2.py\n",
      "Second revision for: solution_v4_rev1.py...\n",
      "Saved program for task fea12743 as version 6_rev2: Candidate_programs_revision-loop_4o\\fea12743\\solution_v6_rev2.py\n",
      "Task fea12743 evaluation results:\n",
      "Program solution_v1.py solved 0 out of 3 pairs. Score: 0.00\n",
      "==================================================\n",
      "Program solution_v2.py solved 0 out of 3 pairs. Score: 0.00\n",
      "==================================================\n",
      "Program solution_v3_rev1.py solved 0 out of 3 pairs. Score: 0.00\n",
      "==================================================\n",
      "Program solution_v4_rev1.py solved 0 out of 3 pairs. Score: 0.00\n",
      "==================================================\n",
      "Program solution_v5_rev2.py solved 0 out of 3 pairs. Score: 0.00\n",
      "==================================================\n",
      "Program solution_v6_rev2.py solved 0 out of 3 pairs. Score: 0.00\n",
      "==================================================\n",
      "Best program: Candidate_programs_revision-loop_4o\\fea12743\\solution_v1.py\n",
      "Best program: Candidate_programs_revision-loop_4o\\fea12743\\solution_v2.py\n"
     ]
    }
   ],
   "source": [
    "# Load tasks and API key\n",
    "tasks = load_tasks(\"evaluation_set\")\n",
    "load_api_key()\n",
    "\n",
    "# Load existing submission file if it exists\n",
    "submission_file = \"submission_revision-loop_4o.json\"\n",
    "if os.path.exists(submission_file):\n",
    "    with open(submission_file, \"r\") as f:\n",
    "        final_submission = json.load(f)\n",
    "else:\n",
    "    final_submission = {}\n",
    "\n",
    "# Loop through each task (adjustable range)\n",
    "for i, task in enumerate(tasks[:100]):\n",
    "    actual_task_id = task[\"filename\"].split(\".\")[0]\n",
    "    \n",
    "    ### PROMPT CREATION ###\n",
    "    full_prompt = add_tasks(base_prompt, task['data'])\n",
    "    create_programs(full_prompt, actual_task_id, amount=2)\n",
    "    \n",
    "    ### INITIAL EVALUATION ###\n",
    "    task_folder = os.path.join(\"Candidate_programs_revision-loop_4o\", actual_task_id)\n",
    "    evaluation_results = evaluate_programs(task['data'], task_folder)\n",
    "    \n",
    "    while evaluation_results == 0:\n",
    "        create_programs(full_prompt, actual_task_id, amount=2)\n",
    "        evaluation_results = evaluate_programs(task['data'], task_folder)\n",
    "\n",
    "    ### FIRST REVISION: Revise all < 1 ###\n",
    "    for result in evaluation_results:\n",
    "        if result['score'] < 1:\n",
    "            candidate_file = os.path.join(task_folder, result['program_name'])\n",
    "            print(f\"Revising {result['program_name']}...\")\n",
    "            revise_candidate_program(candidate_file, task['data'], actual_task_id)\n",
    "\n",
    "    ### SECOND EVALUATION ###\n",
    "    evaluation_results_2 = evaluate_programs(task['data'], task_folder)\n",
    "\n",
    "    ### SECOND REVISION: Only revise if it's a _rev file and still wrong ###\n",
    "    for result in evaluation_results_2:\n",
    "        if result['score'] < 1 and \"_rev\" in result['program_name']:\n",
    "            candidate_file = os.path.join(task_folder, result['program_name'])\n",
    "            print(f\"Second revision for: {result['program_name']}...\")\n",
    "            revise_candidate_program(candidate_file, task['data'], actual_task_id)\n",
    "\n",
    "    ### FINAL EVALUATION ###\n",
    "    evaluation_results_3 = evaluate_programs(task['data'], task_folder)\n",
    "    print(f\"Task {actual_task_id} evaluation results:\")\n",
    "    for result in evaluation_results_3:\n",
    "        print(f\"Program {result['program_name']} solved {result['correct_pairs']} out of {result['total_pairs']} pairs. Score: {result['score']:.2f}\")\n",
    "        print(\"=\"*50)\n",
    "\n",
    "    ### PROGRAM SELECTION + PREDICTIONS ###\n",
    "    best_program_files = get_best_programs(evaluation_results_3, actual_task_id, n=2)\n",
    "    submission = generate_test_predictions(task['data'], actual_task_id, best_program_files)\n",
    "    final_submission.update(submission)\n",
    "\n",
    "# Final output file\n",
    "with open(submission_file, \"w\") as f:\n",
    "    json.dump(final_submission, f)\n"
   ]
  }
 ],
 "metadata": {
  "kernelspec": {
   "display_name": "Python 3",
   "language": "python",
   "name": "python3"
  },
  "language_info": {
   "codemirror_mode": {
    "name": "ipython",
    "version": 3
   },
   "file_extension": ".py",
   "mimetype": "text/x-python",
   "name": "python",
   "nbconvert_exporter": "python",
   "pygments_lexer": "ipython3",
   "version": "3.11.6"
  }
 },
 "nbformat": 4,
 "nbformat_minor": 2
}
