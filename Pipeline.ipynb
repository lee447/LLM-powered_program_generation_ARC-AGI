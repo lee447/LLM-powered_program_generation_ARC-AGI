{
 "cells": [
  {
   "cell_type": "markdown",
   "metadata": {},
   "source": [
    "## Pipeline: LLM-powered program generation for solving ARC-AGI"
   ]
  },
  {
   "cell_type": "markdown",
   "metadata": {},
   "source": [
    "### Imports"
   ]
  },
  {
   "cell_type": "code",
   "execution_count": 106,
   "metadata": {},
   "outputs": [],
   "source": [
    "import numpy as np\n",
    "import ollama\n",
    "import os\n",
    "import json\n",
    "from dotenv import load_dotenv\n",
    "from openai import OpenAI\n",
    "import re\n",
    "import importlib.util"
   ]
  },
  {
   "cell_type": "markdown",
   "metadata": {},
   "source": [
    "### Shared Variables"
   ]
  },
  {
   "cell_type": "code",
   "execution_count": 107,
   "metadata": {},
   "outputs": [],
   "source": [
    "# Shared system prompt for all tasks\n",
    "system_prompt = \"\"\"\n",
    "You are a visual reasoning and Python programming expert solving ARC-AGI (Abstraction and Reasoning Corpus - Artificial General Intelligence) tasks.\n",
    "\n",
    "Each integer in the grid represents a color:\n",
    "0 = black, 1 = blue, 2 = red, 3 = green, 4 = yellow,\n",
    "5 = grey, 6 = pink, 7 = orange, 8 = light blue, 9 = brown.\n",
    "\"\"\"\n"
   ]
  },
  {
   "cell_type": "markdown",
   "metadata": {},
   "source": [
    "### Prompts"
   ]
  },
  {
   "cell_type": "markdown",
   "metadata": {},
   "source": [
    "#### Basic Prompt"
   ]
  },
  {
   "cell_type": "code",
   "execution_count": 108,
   "metadata": {},
   "outputs": [],
   "source": [
    "base_prompt = \"\"\"\n",
    "Write a Python function that correctly transforms each input grid into its corresponding output grid based on the given examples.\n",
    "\n",
    "- The function must be named: `solve(grid: List[List[int]]) -> List[List[int]]`\n",
    "- Include only the code and necessary imports (e.g., `import numpy as np`)\n",
    "- Do not include comments, explanations, or print statements\n",
    "- Do not hard-code values or specific grid sizes — the function must generalize based on the patterns in the examples\n",
    "- Ensure your solution works for all provided input-output pairs\n",
    "\"\"\""
   ]
  },
  {
   "cell_type": "code",
   "execution_count": 109,
   "metadata": {},
   "outputs": [
    {
     "name": "stdout",
     "output_type": "stream",
     "text": [
      "\n",
      "Write a Python function that correctly transforms each input grid into its corresponding output grid based on the given examples.\n",
      "\n",
      "- The function must be named: `solve(grid: List[List[int]]) -> List[List[int]]`\n",
      "- Include only the code and necessary imports (e.g., `import numpy as np`)\n",
      "- Do not include comments, explanations, or print statements\n",
      "- Do not hard-code values or specific grid sizes — the function must generalize based on the patterns in the examples\n",
      "- Ensure your solution works for all provided input-output pairs\n",
      "\n"
     ]
    }
   ],
   "source": [
    "print(base_prompt)"
   ]
  },
  {
   "cell_type": "markdown",
   "metadata": {},
   "source": [
    "#### Prompt 1"
   ]
  },
  {
   "cell_type": "code",
   "execution_count": 110,
   "metadata": {},
   "outputs": [],
   "source": [
    "prompt_1 = \"\"\"\n",
    "List visual observations from the training pairs.\n",
    "\n",
    "- Use bullet points (max 10).\n",
    "- Focus on colors, shapes, object counts, positions, and differences.\n",
    "- Avoid reasoning or explanations.\n",
    "- Be concise. No full sentences, no extra formatting.\n",
    "\"\"\""
   ]
  },
  {
   "cell_type": "code",
   "execution_count": 111,
   "metadata": {},
   "outputs": [
    {
     "name": "stdout",
     "output_type": "stream",
     "text": [
      "\n",
      "List visual observations from the training pairs.\n",
      "\n",
      "- Use bullet points (max 10).\n",
      "- Focus on colors, shapes, object counts, positions, and differences.\n",
      "- Avoid reasoning or explanations.\n",
      "- Be concise. No full sentences, no extra formatting.\n",
      "\n"
     ]
    }
   ],
   "source": [
    "print(prompt_1)"
   ]
  },
  {
   "cell_type": "markdown",
   "metadata": {},
   "source": [
    "#### Prompt 2"
   ]
  },
  {
   "cell_type": "code",
   "execution_count": 112,
   "metadata": {},
   "outputs": [],
   "source": [
    "prompt_2 = \"\"\"\n",
    "Describe the transformation(s) from input to output grids.\n",
    "\n",
    "- Use 3 to 5 short sentences.\n",
    "- Focus on what changes: movement, color, shape, duplication, etc.\n",
    "- Mention if the transformation is based on position, context, or rules.\n",
    "- Avoid implementation hints or code.\n",
    "\"\"\""
   ]
  },
  {
   "cell_type": "code",
   "execution_count": 113,
   "metadata": {},
   "outputs": [
    {
     "name": "stdout",
     "output_type": "stream",
     "text": [
      "\n",
      "Describe the transformation(s) from input to output grids.\n",
      "\n",
      "- Use 3 to 5 short sentences.\n",
      "- Focus on what changes: movement, color, shape, duplication, etc.\n",
      "- Mention if the transformation is based on position, context, or rules.\n",
      "- Avoid implementation hints or code.\n",
      "\n"
     ]
    }
   ],
   "source": [
    "print(prompt_2)"
   ]
  },
  {
   "cell_type": "markdown",
   "metadata": {},
   "source": [
    "#### Prompt 3"
   ]
  },
  {
   "cell_type": "code",
   "execution_count": 114,
   "metadata": {},
   "outputs": [],
   "source": [
    "prompt_3 = \"\"\"\n",
    "Reflect on how you would solve the task in Python.\n",
    "\n",
    "- Use 3 to 5 sentences.\n",
    "- Mention your overall approach, logical steps, and possible uncertainties.\n",
    "- Do not return code or pseudocode.\n",
    "\"\"\""
   ]
  },
  {
   "cell_type": "code",
   "execution_count": 115,
   "metadata": {},
   "outputs": [
    {
     "name": "stdout",
     "output_type": "stream",
     "text": [
      "\n",
      "Reflect on how you would solve the task in Python.\n",
      "\n",
      "- Use 3 to 5 sentences.\n",
      "- Mention your overall approach, logical steps, and possible uncertainties.\n",
      "- Do not return code or pseudocode.\n",
      "\n"
     ]
    }
   ],
   "source": [
    "print(prompt_3)"
   ]
  },
  {
   "cell_type": "markdown",
   "metadata": {},
   "source": [
    "#### Prompt 4"
   ]
  },
  {
   "cell_type": "code",
   "execution_count": 116,
   "metadata": {},
   "outputs": [],
   "source": [
    "#TODO: Add outputs of secondary prompts to other secondary prompts (especially for prompt 3) Maybe \"buildPrompt\" function.\n",
    "#TODO: Create Revision prompt."
   ]
  },
  {
   "cell_type": "code",
   "execution_count": 117,
   "metadata": {},
   "outputs": [],
   "source": [
    "prompt_4 = \"\""
   ]
  },
  {
   "cell_type": "markdown",
   "metadata": {},
   "source": [
    "### Functions"
   ]
  },
  {
   "cell_type": "markdown",
   "metadata": {},
   "source": [
    "#### Load Tasks"
   ]
  },
  {
   "cell_type": "code",
   "execution_count": 118,
   "metadata": {},
   "outputs": [],
   "source": [
    "def load_tasks(folder):\n",
    "    tasks = []\n",
    "    for filename in sorted(os.listdir(folder)):\n",
    "        if filename.endswith(\".json\"):\n",
    "            with open(os.path.join(folder, filename), \"r\") as f:\n",
    "                data = json.load(f)\n",
    "                tasks.append({\"filename\": filename, \"data\": data})\n",
    "    return tasks"
   ]
  },
  {
   "cell_type": "markdown",
   "metadata": {},
   "source": [
    "#### Load API-Key"
   ]
  },
  {
   "cell_type": "code",
   "execution_count": 119,
   "metadata": {},
   "outputs": [],
   "source": [
    "def load_api_key(file_path=\"key.env\"):\n",
    "    load_dotenv(file_path)\n",
    "    import openai\n",
    "    openai.api_key = os.getenv(\"OPENAI_API_KEY\")\n",
    "    if not openai.api_key:\n",
    "        print(\"No API key found. Please set OPENAI_API_KEY in key.env.\")\n",
    "    global client\n",
    "    client = OpenAI()"
   ]
  },
  {
   "cell_type": "markdown",
   "metadata": {},
   "source": [
    "#### Call GPT"
   ]
  },
  {
   "cell_type": "code",
   "execution_count": 120,
   "metadata": {},
   "outputs": [],
   "source": [
    "def call_gpt(prompt):\n",
    "    response = client.chat.completions.create(\n",
    "        model=\"o3-mini\",\n",
    "        messages=[\n",
    "            {\"role\": \"system\", \"content\": system_prompt},\n",
    "            {\"role\": \"user\", \"content\": prompt}\n",
    "        ]\n",
    "    )\n",
    "    return response.choices[0].message.content.strip()"
   ]
  },
  {
   "cell_type": "markdown",
   "metadata": {},
   "source": [
    "#### Building and Combining Prompts"
   ]
  },
  {
   "cell_type": "markdown",
   "metadata": {},
   "source": [
    "Adds the tasks demonstration pairs to the prompt:"
   ]
  },
  {
   "cell_type": "code",
   "execution_count": 121,
   "metadata": {},
   "outputs": [],
   "source": [
    "def add_tasks(prompt, task_data):\n",
    "    full_prompt = prompt.strip() + \"\\n\\nHere are the demonstration pairs (JSON data):\\n\"\n",
    "    for i, pair in enumerate(task_data['train']):\n",
    "        full_prompt += f\"\\nTrain Input {i+1}: {pair['input']}\\n\"\n",
    "        full_prompt += f\"Train Output {i+1}: {pair['output']}\\n\"\n",
    "    return full_prompt"
   ]
  },
  {
   "cell_type": "markdown",
   "metadata": {},
   "source": [
    "Combines secondary prompt 1 and 2:"
   ]
  },
  {
   "cell_type": "code",
   "execution_count": 122,
   "metadata": {},
   "outputs": [],
   "source": [
    "def combine_prompts_1_and_2(prompt_1_response, prompt_2_template):\n",
    "    combined_prompt = f\"\"\"{prompt_2_template.strip()}\n",
    "\n",
    "Here are visual observations of the task at hand, that may assist you in identifying the transformation:\n",
    "\n",
    "{prompt_1_response.strip()}\n",
    "\n",
    "Now provide your transformation analysis based on these observations.\"\"\"\n",
    "    return combined_prompt"
   ]
  },
  {
   "cell_type": "markdown",
   "metadata": {},
   "source": [
    "Combines secondary prompt 1, 2 and 3:"
   ]
  },
  {
   "cell_type": "code",
   "execution_count": 123,
   "metadata": {},
   "outputs": [],
   "source": [
    "def combine_prompts_1_2_and_3(prompt_1_response, prompt_2_response, prompt_3_template):\n",
    "    combined_prompt = f\"\"\"{prompt_3_template.strip()}\n",
    "\n",
    "Here are visual observations of the task that may help inform your implementation:\n",
    "{prompt_1_response.strip()}\n",
    "\n",
    "Here are the transformation rules that have been identified based on the task:\n",
    "{prompt_2_response.strip()}\n",
    "\n",
    "Now reflect on how you would implement a solution to this task in Python, following the instructions above.\n",
    "\"\"\"\n",
    "    return combined_prompt\n"
   ]
  },
  {
   "cell_type": "markdown",
   "metadata": {},
   "source": [
    "Combines secondary prompt 3 with the base prompt"
   ]
  },
  {
   "cell_type": "code",
   "execution_count": 124,
   "metadata": {},
   "outputs": [],
   "source": [
    "def combine_prompts_3_and_base(prompt_3_response, prompt_base_template):\n",
    "    combined_prompt = f\"\"\"\n",
    "Implementation Reflection:\n",
    "{prompt_3_response.strip()}\n",
    "\n",
    "{prompt_base_template.strip()}\n",
    "\"\"\"\n",
    "    return combined_prompt.strip()"
   ]
  },
  {
   "cell_type": "markdown",
   "metadata": {},
   "source": [
    "Combine responses of the secondary prompt to the base prompt to create task-tailored prompt."
   ]
  },
  {
   "cell_type": "code",
   "execution_count": 125,
   "metadata": {},
   "outputs": [],
   "source": [
    "def build_prompts(task_data):\n",
    "    # Build secondary prompt 1\n",
    "    full_prompt_1 = add_tasks(prompt_1, task_data)\n",
    "    response_1 = call_gpt(full_prompt_1)\n",
    "    print('Built prompt 1')\n",
    "    \n",
    "    # Build secondary prompt 2\n",
    "    combined_prompt_2 = combine_prompts_1_and_2(response_1, prompt_2)\n",
    "    full_prompt_2 = add_tasks(combined_prompt_2, task_data)\n",
    "    response_2 = call_gpt(full_prompt_2)\n",
    "    print('Built prompt 2')\n",
    "    \n",
    "    # Build secondary prompt 3\n",
    "    combined_prompt_3 = combine_prompts_1_2_and_3(response_1, response_2, prompt_3)\n",
    "    full_prompt_3 = add_tasks(combined_prompt_3, task_data)\n",
    "    response_3 = call_gpt(full_prompt_3)\n",
    "    print('Built prompt 3')\n",
    "    \n",
    "    # Build task-tailored prompt\n",
    "    combined_prompt_base = combine_prompts_3_and_base(response_3, base_prompt)\n",
    "    tailored_prompt = add_tasks(combined_prompt_base, task_data)\n",
    "    \n",
    "    return tailored_prompt"
   ]
  },
  {
   "cell_type": "markdown",
   "metadata": {},
   "source": [
    "#### Save Programs"
   ]
  },
  {
   "cell_type": "code",
   "execution_count": 126,
   "metadata": {},
   "outputs": [],
   "source": [
    "def save_program(program_text, task_id):\n",
    "    import re\n",
    "\n",
    "    # Define the base and task-specific folder paths\n",
    "    base_folder = \"Candidate_programs\"\n",
    "    task_folder = os.path.join(base_folder, f\"task_{task_id}\")\n",
    "    \n",
    "    # Create the task-specific folder if it doesn't exist\n",
    "    os.makedirs(task_folder, exist_ok=True)\n",
    "\n",
    "    # Remove ```python or ``` if present\n",
    "    cleaned_text = re.sub(r\"^```(?:python)?\\s*|```$\", \"\", program_text.strip(), flags=re.MULTILINE)\n",
    "\n",
    "    # Find the next available version number\n",
    "    existing_files = os.listdir(task_folder)\n",
    "    version_numbers = [\n",
    "        int(re.search(r\"solution_v(\\d+)\\.py\", fname).group(1))\n",
    "        for fname in existing_files\n",
    "        if re.match(r\"solution_v\\d+\\.py\", fname)\n",
    "    ]\n",
    "    next_version = max(version_numbers, default=0) + 1\n",
    "    \n",
    "    # Define the full path to the new Python file\n",
    "    file_path = os.path.join(task_folder, f\"solution_v{next_version}.py\")\n",
    "    \n",
    "    # Save the program text to the file\n",
    "    with open(file_path, \"w\", encoding=\"utf-8\") as f:\n",
    "        f.write(cleaned_text.strip())\n",
    "\n",
    "    \n",
    "    print(f\"Saved program for task {task_id} as version {next_version}: {file_path}\")"
   ]
  },
  {
   "cell_type": "markdown",
   "metadata": {},
   "source": [
    "#### Create Programs"
   ]
  },
  {
   "cell_type": "code",
   "execution_count": 127,
   "metadata": {},
   "outputs": [],
   "source": [
    "def create_programs(tailored_prompt, task_index):\n",
    "    # Create two programs (change range for n programs)\n",
    "    for i in range(2):  # You can adjust the range to create more programs\n",
    "        response = call_gpt(tailored_prompt)\n",
    "        \n",
    "        # Save the program and store its name\n",
    "        program_name = save_program(response, task_index)"
   ]
  },
  {
   "cell_type": "markdown",
   "metadata": {},
   "source": [
    "#### Evaluate Programs"
   ]
  },
  {
   "cell_type": "code",
   "execution_count": 128,
   "metadata": {},
   "outputs": [],
   "source": [
    "def load_program(file_path):\n",
    "    \"\"\"Load and execute a Python program from a file.\"\"\"\n",
    "    spec = importlib.util.spec_from_file_location(\"program\", file_path)\n",
    "    program = importlib.util.module_from_spec(spec)\n",
    "    spec.loader.exec_module(program)\n",
    "    return program.solve  # Assumes the function is named `solve`\n"
   ]
  },
  {
   "cell_type": "code",
   "execution_count": 129,
   "metadata": {},
   "outputs": [],
   "source": [
    "def evaluate_programs(task_data, task_index):\n",
    "    \"\"\"Evaluate the programs against the demonstration pairs.\"\"\"\n",
    "    programs = []\n",
    "    task_folder = os.path.join(\"Candidate_programs\", f\"task_{task_index}\")\n",
    "    \n",
    "    # List all saved Python programs (solutions)\n",
    "    program_files = [f for f in os.listdir(task_folder) if f.endswith(\".py\")]\n",
    "    \n",
    "    for program_file in program_files:\n",
    "        program_path = os.path.join(task_folder, program_file)\n",
    "        solve_function = load_program(program_path)  # Load the solve function\n",
    "        \n",
    "        correct_count = 0\n",
    "        total_pairs = len(task_data['train'])\n",
    "        \n",
    "        # Test each demonstration pair\n",
    "        for i, pair in enumerate(task_data['train']):\n",
    "            input_grid = np.array(pair['input'])\n",
    "            expected_output = np.array(pair['output'])\n",
    "            \n",
    "            try:\n",
    "                program_output = solve_function(input_grid.tolist())  # Assuming `solve()` expects a list\n",
    "                program_output = np.array(program_output)\n",
    "                \n",
    "                # Compare the output\n",
    "                if np.array_equal(program_output, expected_output):\n",
    "                    correct_count += 1\n",
    "            except Exception as e:\n",
    "                print(f\"Error while executing program {program_file} for pair {i+1}: {e}\")\n",
    "        \n",
    "        # Calculate score\n",
    "        score = correct_count / total_pairs if total_pairs > 0 else 0\n",
    "        programs.append({\n",
    "            'program_name': program_file,\n",
    "            'score': score,\n",
    "            'correct_pairs': correct_count,\n",
    "            'total_pairs': total_pairs\n",
    "        })\n",
    "    \n",
    "    return programs"
   ]
  },
  {
   "cell_type": "markdown",
   "metadata": {},
   "source": [
    "### Pipeline"
   ]
  },
  {
   "cell_type": "code",
   "execution_count": 130,
   "metadata": {},
   "outputs": [
    {
     "name": "stdout",
     "output_type": "stream",
     "text": [
      "Built prompt 1\n",
      "Built prompt 2\n",
      "Built prompt 3\n",
      "Saved program for task 1 as version 1: Candidate_programs\\task_1\\solution_v1.py\n",
      "Saved program for task 1 as version 2: Candidate_programs\\task_1\\solution_v2.py\n",
      "Program solution_v1.py solved 0 out of 3 pairs.\n",
      "Score: 0.00\n",
      "==================================================\n",
      "Program solution_v2.py solved 0 out of 3 pairs.\n",
      "Score: 0.00\n",
      "==================================================\n",
      "Built prompt 1\n",
      "Built prompt 2\n",
      "Built prompt 3\n",
      "Saved program for task 2 as version 1: Candidate_programs\\task_2\\solution_v1.py\n",
      "Saved program for task 2 as version 2: Candidate_programs\\task_2\\solution_v2.py\n",
      "Program solution_v1.py solved 0 out of 4 pairs.\n",
      "Score: 0.00\n",
      "==================================================\n",
      "Program solution_v2.py solved 0 out of 4 pairs.\n",
      "Score: 0.00\n",
      "==================================================\n",
      "Built prompt 1\n",
      "Built prompt 2\n",
      "Built prompt 3\n",
      "Saved program for task 3 as version 1: Candidate_programs\\task_3\\solution_v1.py\n",
      "Saved program for task 3 as version 2: Candidate_programs\\task_3\\solution_v2.py\n",
      "Program solution_v1.py solved 0 out of 3 pairs.\n",
      "Score: 0.00\n",
      "==================================================\n",
      "Program solution_v2.py solved 0 out of 3 pairs.\n",
      "Score: 0.00\n",
      "==================================================\n",
      "Built prompt 1\n",
      "Built prompt 2\n",
      "Built prompt 3\n",
      "Saved program for task 4 as version 1: Candidate_programs\\task_4\\solution_v1.py\n",
      "Saved program for task 4 as version 2: Candidate_programs\\task_4\\solution_v2.py\n",
      "Program solution_v1.py solved 2 out of 2 pairs.\n",
      "Score: 1.00\n",
      "==================================================\n",
      "Program solution_v2.py solved 2 out of 2 pairs.\n",
      "Score: 1.00\n",
      "==================================================\n",
      "Built prompt 1\n",
      "Built prompt 2\n",
      "Built prompt 3\n",
      "Saved program for task 5 as version 1: Candidate_programs\\task_5\\solution_v1.py\n",
      "Saved program for task 5 as version 2: Candidate_programs\\task_5\\solution_v2.py\n",
      "Program solution_v1.py solved 3 out of 3 pairs.\n",
      "Score: 1.00\n",
      "==================================================\n",
      "Program solution_v2.py solved 3 out of 3 pairs.\n",
      "Score: 1.00\n",
      "==================================================\n",
      "Built prompt 1\n",
      "Built prompt 2\n",
      "Built prompt 3\n",
      "Saved program for task 6 as version 1: Candidate_programs\\task_6\\solution_v1.py\n",
      "Saved program for task 6 as version 2: Candidate_programs\\task_6\\solution_v2.py\n",
      "Program solution_v1.py solved 1 out of 3 pairs.\n",
      "Score: 0.33\n",
      "==================================================\n",
      "Program solution_v2.py solved 3 out of 3 pairs.\n",
      "Score: 1.00\n",
      "==================================================\n",
      "Built prompt 1\n",
      "Built prompt 2\n",
      "Built prompt 3\n",
      "Saved program for task 7 as version 1: Candidate_programs\\task_7\\solution_v1.py\n",
      "Saved program for task 7 as version 2: Candidate_programs\\task_7\\solution_v2.py\n",
      "Program solution_v1.py solved 0 out of 3 pairs.\n",
      "Score: 0.00\n",
      "==================================================\n",
      "Program solution_v2.py solved 0 out of 3 pairs.\n",
      "Score: 0.00\n",
      "==================================================\n",
      "Built prompt 1\n",
      "Built prompt 2\n",
      "Built prompt 3\n",
      "Saved program for task 8 as version 1: Candidate_programs\\task_8\\solution_v1.py\n",
      "Saved program for task 8 as version 2: Candidate_programs\\task_8\\solution_v2.py\n",
      "Program solution_v1.py solved 3 out of 4 pairs.\n",
      "Score: 0.75\n",
      "==================================================\n",
      "Program solution_v2.py solved 4 out of 4 pairs.\n",
      "Score: 1.00\n",
      "==================================================\n",
      "Built prompt 1\n",
      "Built prompt 2\n",
      "Built prompt 3\n",
      "Saved program for task 9 as version 1: Candidate_programs\\task_9\\solution_v1.py\n",
      "Saved program for task 9 as version 2: Candidate_programs\\task_9\\solution_v2.py\n",
      "Program solution_v1.py solved 4 out of 4 pairs.\n",
      "Score: 1.00\n",
      "==================================================\n",
      "Program solution_v2.py solved 4 out of 4 pairs.\n",
      "Score: 1.00\n",
      "==================================================\n",
      "Built prompt 1\n",
      "Built prompt 2\n",
      "Built prompt 3\n",
      "Saved program for task 10 as version 1: Candidate_programs\\task_10\\solution_v1.py\n",
      "Saved program for task 10 as version 2: Candidate_programs\\task_10\\solution_v2.py\n",
      "Error while executing program solution_v2.py for pair 1: list index out of range\n",
      "Error while executing program solution_v2.py for pair 3: list index out of range\n",
      "Program solution_v1.py solved 3 out of 4 pairs.\n",
      "Score: 0.75\n",
      "==================================================\n",
      "Program solution_v2.py solved 0 out of 4 pairs.\n",
      "Score: 0.00\n",
      "==================================================\n",
      "Built prompt 1\n",
      "Built prompt 2\n",
      "Built prompt 3\n",
      "Saved program for task 11 as version 1: Candidate_programs\\task_11\\solution_v1.py\n",
      "Saved program for task 11 as version 2: Candidate_programs\\task_11\\solution_v2.py\n",
      "Program solution_v1.py solved 1 out of 3 pairs.\n",
      "Score: 0.33\n",
      "==================================================\n",
      "Program solution_v2.py solved 1 out of 3 pairs.\n",
      "Score: 0.33\n",
      "==================================================\n"
     ]
    }
   ],
   "source": [
    "# Step 1: Load tasks and API key\n",
    "tasks = load_tasks(\"evaluation_set\")\n",
    "load_api_key()\n",
    "\n",
    "# Step 2: Loop through each task and create programs, then evaluate them\n",
    "for i, task in enumerate(tasks[:11]):  # Adjust the range to process more tasks (index 82 = task 83)\n",
    "    # Step 2.1: Build secondary prompts and create tailored prompt from their responses\n",
    "    tailored_prompt = build_prompts(task['data'])\n",
    "    \n",
    "    # Step 2.2: Create two programs based on the tailored prompt\n",
    "    create_programs(tailored_prompt, i+1)\n",
    "    \n",
    "    # Step 2.3: Evaluate the created programs\n",
    "    evaluation_results = evaluate_programs(task['data'], i+1)\n",
    "    \n",
    "    # Step 2.4: Print evaluation results for each program\n",
    "    for result in evaluation_results:\n",
    "        print(f\"Program {result['program_name']} solved {result['correct_pairs']} out of {result['total_pairs']} pairs.\")\n",
    "        print(f\"Score: {result['score']:.2f}\")\n",
    "        print(\"=\"*50)"
   ]
  }
 ],
 "metadata": {
  "kernelspec": {
   "display_name": "Python 3",
   "language": "python",
   "name": "python3"
  },
  "language_info": {
   "codemirror_mode": {
    "name": "ipython",
    "version": 3
   },
   "file_extension": ".py",
   "mimetype": "text/x-python",
   "name": "python",
   "nbconvert_exporter": "python",
   "pygments_lexer": "ipython3",
   "version": "3.11.6"
  }
 },
 "nbformat": 4,
 "nbformat_minor": 2
}
